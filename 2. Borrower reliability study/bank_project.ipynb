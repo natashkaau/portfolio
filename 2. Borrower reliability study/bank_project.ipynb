{
 "cells": [
  {
   "cell_type": "markdown",
   "id": "c81daeeb",
   "metadata": {
    "deletable": false,
    "id": "c81daeeb"
   },
   "source": [
    "# Исследование надежности заемщиков\n"
   ]
  },
  {
   "cell_type": "markdown",
   "id": "744d7639",
   "metadata": {
    "deletable": false,
    "id": "744d7639"
   },
   "source": [
    "## Откройте таблицу и изучите общую информацию о данных"
   ]
  },
  {
   "cell_type": "markdown",
   "id": "e7a14c31",
   "metadata": {
    "deletable": false,
    "id": "e7a14c31"
   },
   "source": [
    "**Задание 1. Импортируйте библиотеку pandas. Считайте данные из csv-файла в датафрейм и сохраните в переменную `data`. Путь к файлу:**\n",
    "\n",
    "`/datasets/data.csv`"
   ]
  },
  {
   "cell_type": "code",
   "execution_count": 1,
   "id": "7bcf75c9",
   "metadata": {
    "deletable": false,
    "id": "7bcf75c9"
   },
   "outputs": [],
   "source": [
    "import pandas as pd\n",
    "\n",
    "try:\n",
    "    data = pd.read_csv('/datasets/data.csv')\n",
    "except:\n",
    "    data = pd.read_csv('https://code.s3.yandex.net/datasets/data.csv')"
   ]
  },
  {
   "cell_type": "code",
   "execution_count": 2,
   "id": "5fc0a4be",
   "metadata": {},
   "outputs": [],
   "source": [
    "import seaborn as sns#импортируем библиотеку seaborn"
   ]
  },
  {
   "cell_type": "markdown",
   "id": "b8038fe3",
   "metadata": {
    "deletable": false,
    "id": "b8038fe3"
   },
   "source": [
    "**Задание 2. Выведите первые 20 строчек датафрейма `data` на экран.**"
   ]
  },
  {
   "cell_type": "code",
   "execution_count": 3,
   "id": "2a7cab99",
   "metadata": {
    "deletable": false,
    "id": "2a7cab99",
    "outputId": "1a8f3ef2-d323-4ec2-ddf7-89670b5944c4"
   },
   "outputs": [
    {
     "data": {
      "text/html": [
       "<div>\n",
       "<style scoped>\n",
       "    .dataframe tbody tr th:only-of-type {\n",
       "        vertical-align: middle;\n",
       "    }\n",
       "\n",
       "    .dataframe tbody tr th {\n",
       "        vertical-align: top;\n",
       "    }\n",
       "\n",
       "    .dataframe thead th {\n",
       "        text-align: right;\n",
       "    }\n",
       "</style>\n",
       "<table border=\"1\" class=\"dataframe\">\n",
       "  <thead>\n",
       "    <tr style=\"text-align: right;\">\n",
       "      <th></th>\n",
       "      <th>children</th>\n",
       "      <th>days_employed</th>\n",
       "      <th>dob_years</th>\n",
       "      <th>education</th>\n",
       "      <th>education_id</th>\n",
       "      <th>family_status</th>\n",
       "      <th>family_status_id</th>\n",
       "      <th>gender</th>\n",
       "      <th>income_type</th>\n",
       "      <th>debt</th>\n",
       "      <th>total_income</th>\n",
       "      <th>purpose</th>\n",
       "    </tr>\n",
       "  </thead>\n",
       "  <tbody>\n",
       "    <tr>\n",
       "      <th>0</th>\n",
       "      <td>1</td>\n",
       "      <td>-8437.673028</td>\n",
       "      <td>42</td>\n",
       "      <td>высшее</td>\n",
       "      <td>0</td>\n",
       "      <td>женат / замужем</td>\n",
       "      <td>0</td>\n",
       "      <td>F</td>\n",
       "      <td>сотрудник</td>\n",
       "      <td>0</td>\n",
       "      <td>253875.639453</td>\n",
       "      <td>покупка жилья</td>\n",
       "    </tr>\n",
       "    <tr>\n",
       "      <th>1</th>\n",
       "      <td>1</td>\n",
       "      <td>-4024.803754</td>\n",
       "      <td>36</td>\n",
       "      <td>среднее</td>\n",
       "      <td>1</td>\n",
       "      <td>женат / замужем</td>\n",
       "      <td>0</td>\n",
       "      <td>F</td>\n",
       "      <td>сотрудник</td>\n",
       "      <td>0</td>\n",
       "      <td>112080.014102</td>\n",
       "      <td>приобретение автомобиля</td>\n",
       "    </tr>\n",
       "    <tr>\n",
       "      <th>2</th>\n",
       "      <td>0</td>\n",
       "      <td>-5623.422610</td>\n",
       "      <td>33</td>\n",
       "      <td>Среднее</td>\n",
       "      <td>1</td>\n",
       "      <td>женат / замужем</td>\n",
       "      <td>0</td>\n",
       "      <td>M</td>\n",
       "      <td>сотрудник</td>\n",
       "      <td>0</td>\n",
       "      <td>145885.952297</td>\n",
       "      <td>покупка жилья</td>\n",
       "    </tr>\n",
       "    <tr>\n",
       "      <th>3</th>\n",
       "      <td>3</td>\n",
       "      <td>-4124.747207</td>\n",
       "      <td>32</td>\n",
       "      <td>среднее</td>\n",
       "      <td>1</td>\n",
       "      <td>женат / замужем</td>\n",
       "      <td>0</td>\n",
       "      <td>M</td>\n",
       "      <td>сотрудник</td>\n",
       "      <td>0</td>\n",
       "      <td>267628.550329</td>\n",
       "      <td>дополнительное образование</td>\n",
       "    </tr>\n",
       "    <tr>\n",
       "      <th>4</th>\n",
       "      <td>0</td>\n",
       "      <td>340266.072047</td>\n",
       "      <td>53</td>\n",
       "      <td>среднее</td>\n",
       "      <td>1</td>\n",
       "      <td>гражданский брак</td>\n",
       "      <td>1</td>\n",
       "      <td>F</td>\n",
       "      <td>пенсионер</td>\n",
       "      <td>0</td>\n",
       "      <td>158616.077870</td>\n",
       "      <td>сыграть свадьбу</td>\n",
       "    </tr>\n",
       "    <tr>\n",
       "      <th>5</th>\n",
       "      <td>0</td>\n",
       "      <td>-926.185831</td>\n",
       "      <td>27</td>\n",
       "      <td>высшее</td>\n",
       "      <td>0</td>\n",
       "      <td>гражданский брак</td>\n",
       "      <td>1</td>\n",
       "      <td>M</td>\n",
       "      <td>компаньон</td>\n",
       "      <td>0</td>\n",
       "      <td>255763.565419</td>\n",
       "      <td>покупка жилья</td>\n",
       "    </tr>\n",
       "    <tr>\n",
       "      <th>6</th>\n",
       "      <td>0</td>\n",
       "      <td>-2879.202052</td>\n",
       "      <td>43</td>\n",
       "      <td>высшее</td>\n",
       "      <td>0</td>\n",
       "      <td>женат / замужем</td>\n",
       "      <td>0</td>\n",
       "      <td>F</td>\n",
       "      <td>компаньон</td>\n",
       "      <td>0</td>\n",
       "      <td>240525.971920</td>\n",
       "      <td>операции с жильем</td>\n",
       "    </tr>\n",
       "    <tr>\n",
       "      <th>7</th>\n",
       "      <td>0</td>\n",
       "      <td>-152.779569</td>\n",
       "      <td>50</td>\n",
       "      <td>СРЕДНЕЕ</td>\n",
       "      <td>1</td>\n",
       "      <td>женат / замужем</td>\n",
       "      <td>0</td>\n",
       "      <td>M</td>\n",
       "      <td>сотрудник</td>\n",
       "      <td>0</td>\n",
       "      <td>135823.934197</td>\n",
       "      <td>образование</td>\n",
       "    </tr>\n",
       "    <tr>\n",
       "      <th>8</th>\n",
       "      <td>2</td>\n",
       "      <td>-6929.865299</td>\n",
       "      <td>35</td>\n",
       "      <td>ВЫСШЕЕ</td>\n",
       "      <td>0</td>\n",
       "      <td>гражданский брак</td>\n",
       "      <td>1</td>\n",
       "      <td>F</td>\n",
       "      <td>сотрудник</td>\n",
       "      <td>0</td>\n",
       "      <td>95856.832424</td>\n",
       "      <td>на проведение свадьбы</td>\n",
       "    </tr>\n",
       "    <tr>\n",
       "      <th>9</th>\n",
       "      <td>0</td>\n",
       "      <td>-2188.756445</td>\n",
       "      <td>41</td>\n",
       "      <td>среднее</td>\n",
       "      <td>1</td>\n",
       "      <td>женат / замужем</td>\n",
       "      <td>0</td>\n",
       "      <td>M</td>\n",
       "      <td>сотрудник</td>\n",
       "      <td>0</td>\n",
       "      <td>144425.938277</td>\n",
       "      <td>покупка жилья для семьи</td>\n",
       "    </tr>\n",
       "    <tr>\n",
       "      <th>10</th>\n",
       "      <td>2</td>\n",
       "      <td>-4171.483647</td>\n",
       "      <td>36</td>\n",
       "      <td>высшее</td>\n",
       "      <td>0</td>\n",
       "      <td>женат / замужем</td>\n",
       "      <td>0</td>\n",
       "      <td>M</td>\n",
       "      <td>компаньон</td>\n",
       "      <td>0</td>\n",
       "      <td>113943.491460</td>\n",
       "      <td>покупка недвижимости</td>\n",
       "    </tr>\n",
       "    <tr>\n",
       "      <th>11</th>\n",
       "      <td>0</td>\n",
       "      <td>-792.701887</td>\n",
       "      <td>40</td>\n",
       "      <td>среднее</td>\n",
       "      <td>1</td>\n",
       "      <td>женат / замужем</td>\n",
       "      <td>0</td>\n",
       "      <td>F</td>\n",
       "      <td>сотрудник</td>\n",
       "      <td>0</td>\n",
       "      <td>77069.234271</td>\n",
       "      <td>покупка коммерческой недвижимости</td>\n",
       "    </tr>\n",
       "    <tr>\n",
       "      <th>12</th>\n",
       "      <td>0</td>\n",
       "      <td>NaN</td>\n",
       "      <td>65</td>\n",
       "      <td>среднее</td>\n",
       "      <td>1</td>\n",
       "      <td>гражданский брак</td>\n",
       "      <td>1</td>\n",
       "      <td>M</td>\n",
       "      <td>пенсионер</td>\n",
       "      <td>0</td>\n",
       "      <td>NaN</td>\n",
       "      <td>сыграть свадьбу</td>\n",
       "    </tr>\n",
       "    <tr>\n",
       "      <th>13</th>\n",
       "      <td>0</td>\n",
       "      <td>-1846.641941</td>\n",
       "      <td>54</td>\n",
       "      <td>неоконченное высшее</td>\n",
       "      <td>2</td>\n",
       "      <td>женат / замужем</td>\n",
       "      <td>0</td>\n",
       "      <td>F</td>\n",
       "      <td>сотрудник</td>\n",
       "      <td>0</td>\n",
       "      <td>130458.228857</td>\n",
       "      <td>приобретение автомобиля</td>\n",
       "    </tr>\n",
       "    <tr>\n",
       "      <th>14</th>\n",
       "      <td>0</td>\n",
       "      <td>-1844.956182</td>\n",
       "      <td>56</td>\n",
       "      <td>высшее</td>\n",
       "      <td>0</td>\n",
       "      <td>гражданский брак</td>\n",
       "      <td>1</td>\n",
       "      <td>F</td>\n",
       "      <td>компаньон</td>\n",
       "      <td>1</td>\n",
       "      <td>165127.911772</td>\n",
       "      <td>покупка жилой недвижимости</td>\n",
       "    </tr>\n",
       "    <tr>\n",
       "      <th>15</th>\n",
       "      <td>1</td>\n",
       "      <td>-972.364419</td>\n",
       "      <td>26</td>\n",
       "      <td>среднее</td>\n",
       "      <td>1</td>\n",
       "      <td>женат / замужем</td>\n",
       "      <td>0</td>\n",
       "      <td>F</td>\n",
       "      <td>сотрудник</td>\n",
       "      <td>0</td>\n",
       "      <td>116820.904450</td>\n",
       "      <td>строительство собственной недвижимости</td>\n",
       "    </tr>\n",
       "    <tr>\n",
       "      <th>16</th>\n",
       "      <td>0</td>\n",
       "      <td>-1719.934226</td>\n",
       "      <td>35</td>\n",
       "      <td>среднее</td>\n",
       "      <td>1</td>\n",
       "      <td>женат / замужем</td>\n",
       "      <td>0</td>\n",
       "      <td>F</td>\n",
       "      <td>сотрудник</td>\n",
       "      <td>0</td>\n",
       "      <td>289202.704229</td>\n",
       "      <td>недвижимость</td>\n",
       "    </tr>\n",
       "    <tr>\n",
       "      <th>17</th>\n",
       "      <td>0</td>\n",
       "      <td>-2369.999720</td>\n",
       "      <td>33</td>\n",
       "      <td>высшее</td>\n",
       "      <td>0</td>\n",
       "      <td>гражданский брак</td>\n",
       "      <td>1</td>\n",
       "      <td>M</td>\n",
       "      <td>сотрудник</td>\n",
       "      <td>0</td>\n",
       "      <td>90410.586745</td>\n",
       "      <td>строительство недвижимости</td>\n",
       "    </tr>\n",
       "    <tr>\n",
       "      <th>18</th>\n",
       "      <td>0</td>\n",
       "      <td>400281.136913</td>\n",
       "      <td>53</td>\n",
       "      <td>среднее</td>\n",
       "      <td>1</td>\n",
       "      <td>вдовец / вдова</td>\n",
       "      <td>2</td>\n",
       "      <td>F</td>\n",
       "      <td>пенсионер</td>\n",
       "      <td>0</td>\n",
       "      <td>56823.777243</td>\n",
       "      <td>на покупку подержанного автомобиля</td>\n",
       "    </tr>\n",
       "    <tr>\n",
       "      <th>19</th>\n",
       "      <td>0</td>\n",
       "      <td>-10038.818549</td>\n",
       "      <td>48</td>\n",
       "      <td>СРЕДНЕЕ</td>\n",
       "      <td>1</td>\n",
       "      <td>в разводе</td>\n",
       "      <td>3</td>\n",
       "      <td>F</td>\n",
       "      <td>сотрудник</td>\n",
       "      <td>0</td>\n",
       "      <td>242831.107982</td>\n",
       "      <td>на покупку своего автомобиля</td>\n",
       "    </tr>\n",
       "  </tbody>\n",
       "</table>\n",
       "</div>"
      ],
      "text/plain": [
       "    children  days_employed  dob_years            education  education_id  \\\n",
       "0          1   -8437.673028         42               высшее             0   \n",
       "1          1   -4024.803754         36              среднее             1   \n",
       "2          0   -5623.422610         33              Среднее             1   \n",
       "3          3   -4124.747207         32              среднее             1   \n",
       "4          0  340266.072047         53              среднее             1   \n",
       "5          0    -926.185831         27               высшее             0   \n",
       "6          0   -2879.202052         43               высшее             0   \n",
       "7          0    -152.779569         50              СРЕДНЕЕ             1   \n",
       "8          2   -6929.865299         35               ВЫСШЕЕ             0   \n",
       "9          0   -2188.756445         41              среднее             1   \n",
       "10         2   -4171.483647         36               высшее             0   \n",
       "11         0    -792.701887         40              среднее             1   \n",
       "12         0            NaN         65              среднее             1   \n",
       "13         0   -1846.641941         54  неоконченное высшее             2   \n",
       "14         0   -1844.956182         56               высшее             0   \n",
       "15         1    -972.364419         26              среднее             1   \n",
       "16         0   -1719.934226         35              среднее             1   \n",
       "17         0   -2369.999720         33               высшее             0   \n",
       "18         0  400281.136913         53              среднее             1   \n",
       "19         0  -10038.818549         48              СРЕДНЕЕ             1   \n",
       "\n",
       "       family_status  family_status_id gender income_type  debt  \\\n",
       "0    женат / замужем                 0      F   сотрудник     0   \n",
       "1    женат / замужем                 0      F   сотрудник     0   \n",
       "2    женат / замужем                 0      M   сотрудник     0   \n",
       "3    женат / замужем                 0      M   сотрудник     0   \n",
       "4   гражданский брак                 1      F   пенсионер     0   \n",
       "5   гражданский брак                 1      M   компаньон     0   \n",
       "6    женат / замужем                 0      F   компаньон     0   \n",
       "7    женат / замужем                 0      M   сотрудник     0   \n",
       "8   гражданский брак                 1      F   сотрудник     0   \n",
       "9    женат / замужем                 0      M   сотрудник     0   \n",
       "10   женат / замужем                 0      M   компаньон     0   \n",
       "11   женат / замужем                 0      F   сотрудник     0   \n",
       "12  гражданский брак                 1      M   пенсионер     0   \n",
       "13   женат / замужем                 0      F   сотрудник     0   \n",
       "14  гражданский брак                 1      F   компаньон     1   \n",
       "15   женат / замужем                 0      F   сотрудник     0   \n",
       "16   женат / замужем                 0      F   сотрудник     0   \n",
       "17  гражданский брак                 1      M   сотрудник     0   \n",
       "18    вдовец / вдова                 2      F   пенсионер     0   \n",
       "19         в разводе                 3      F   сотрудник     0   \n",
       "\n",
       "     total_income                                 purpose  \n",
       "0   253875.639453                           покупка жилья  \n",
       "1   112080.014102                 приобретение автомобиля  \n",
       "2   145885.952297                           покупка жилья  \n",
       "3   267628.550329              дополнительное образование  \n",
       "4   158616.077870                         сыграть свадьбу  \n",
       "5   255763.565419                           покупка жилья  \n",
       "6   240525.971920                       операции с жильем  \n",
       "7   135823.934197                             образование  \n",
       "8    95856.832424                   на проведение свадьбы  \n",
       "9   144425.938277                 покупка жилья для семьи  \n",
       "10  113943.491460                    покупка недвижимости  \n",
       "11   77069.234271       покупка коммерческой недвижимости  \n",
       "12            NaN                         сыграть свадьбу  \n",
       "13  130458.228857                 приобретение автомобиля  \n",
       "14  165127.911772              покупка жилой недвижимости  \n",
       "15  116820.904450  строительство собственной недвижимости  \n",
       "16  289202.704229                            недвижимость  \n",
       "17   90410.586745              строительство недвижимости  \n",
       "18   56823.777243      на покупку подержанного автомобиля  \n",
       "19  242831.107982            на покупку своего автомобиля  "
      ]
     },
     "execution_count": 3,
     "metadata": {},
     "output_type": "execute_result"
    }
   ],
   "source": [
    "data.head(20)"
   ]
  },
  {
   "cell_type": "markdown",
   "id": "1c12e233",
   "metadata": {
    "deletable": false,
    "id": "1c12e233"
   },
   "source": [
    "**Задание 3. Выведите основную информацию о датафрейме с помощью метода `info()`.**"
   ]
  },
  {
   "cell_type": "code",
   "execution_count": 4,
   "id": "2b757bca",
   "metadata": {
    "deletable": false,
    "id": "2b757bca",
    "outputId": "15376089-8dad-46c9-b520-c05248d43158"
   },
   "outputs": [
    {
     "name": "stdout",
     "output_type": "stream",
     "text": [
      "<class 'pandas.core.frame.DataFrame'>\n",
      "RangeIndex: 21525 entries, 0 to 21524\n",
      "Data columns (total 12 columns):\n",
      " #   Column            Non-Null Count  Dtype  \n",
      "---  ------            --------------  -----  \n",
      " 0   children          21525 non-null  int64  \n",
      " 1   days_employed     19351 non-null  float64\n",
      " 2   dob_years         21525 non-null  int64  \n",
      " 3   education         21525 non-null  object \n",
      " 4   education_id      21525 non-null  int64  \n",
      " 5   family_status     21525 non-null  object \n",
      " 6   family_status_id  21525 non-null  int64  \n",
      " 7   gender            21525 non-null  object \n",
      " 8   income_type       21525 non-null  object \n",
      " 9   debt              21525 non-null  int64  \n",
      " 10  total_income      19351 non-null  float64\n",
      " 11  purpose           21525 non-null  object \n",
      "dtypes: float64(2), int64(5), object(5)\n",
      "memory usage: 2.0+ MB\n"
     ]
    }
   ],
   "source": [
    "data.info()"
   ]
  },
  {
   "cell_type": "markdown",
   "id": "333ec665",
   "metadata": {
    "deletable": false,
    "id": "333ec665"
   },
   "source": [
    "## Предобработка данных"
   ]
  },
  {
   "cell_type": "markdown",
   "id": "02d92d53",
   "metadata": {
    "deletable": false,
    "id": "02d92d53"
   },
   "source": [
    "### Удаление пропусков"
   ]
  },
  {
   "cell_type": "markdown",
   "id": "cd84967c",
   "metadata": {
    "deletable": false,
    "id": "cd84967c"
   },
   "source": [
    "**Задание 4. Выведите количество пропущенных значений для каждого столбца. Используйте комбинацию двух методов.**"
   ]
  },
  {
   "cell_type": "code",
   "execution_count": 5,
   "id": "7f9b2309",
   "metadata": {
    "deletable": false,
    "id": "7f9b2309",
    "outputId": "81f4d817-781c-465c-ed15-91ce4446810d"
   },
   "outputs": [
    {
     "data": {
      "text/plain": [
       "children               0\n",
       "days_employed       2174\n",
       "dob_years              0\n",
       "education              0\n",
       "education_id           0\n",
       "family_status          0\n",
       "family_status_id       0\n",
       "gender                 0\n",
       "income_type            0\n",
       "debt                   0\n",
       "total_income        2174\n",
       "purpose                0\n",
       "dtype: int64"
      ]
     },
     "execution_count": 5,
     "metadata": {},
     "output_type": "execute_result"
    }
   ],
   "source": [
    "data.isna().sum()"
   ]
  },
  {
   "cell_type": "markdown",
   "id": "db86e27b",
   "metadata": {
    "deletable": false,
    "id": "db86e27b"
   },
   "source": [
    "**Задание 5. В двух столбцах есть пропущенные значения. Один из них — `days_employed`. Пропуски в этом столбце вы обработаете на следующем этапе. Другой столбец с пропущенными значениями — `total_income` — хранит данные о доходах. На сумму дохода сильнее всего влияет тип занятости, поэтому заполнить пропуски в этом столбце нужно медианным значением по каждому типу из столбца `income_type`. Например, у человека с типом занятости `сотрудник` пропуск в столбце `total_income` должен быть заполнен медианным доходом среди всех записей с тем же типом.**"
   ]
  },
  {
   "cell_type": "code",
   "execution_count": 6,
   "id": "42006a93",
   "metadata": {
    "deletable": false,
    "id": "42006a93"
   },
   "outputs": [],
   "source": [
    "for t in data['income_type'].unique():\n",
    "    data.loc[(data['income_type'] == t) & (data['total_income'].isna()), 'total_income'] = \\\n",
    "    data.loc[(data['income_type'] == t), 'total_income'].median()"
   ]
  },
  {
   "cell_type": "markdown",
   "id": "89da5ece",
   "metadata": {
    "deletable": false,
    "id": "89da5ece"
   },
   "source": [
    "### Обработка аномальных значений"
   ]
  },
  {
   "cell_type": "markdown",
   "id": "57964554",
   "metadata": {
    "deletable": false,
    "id": "57964554"
   },
   "source": [
    "**Задание 6. В данных могут встречаться артефакты (аномалии) — значения, которые не отражают действительность и появились по какой-то ошибке. таким артефактом будет отрицательное количество дней трудового стажа в столбце `days_employed`. Для реальных данных это нормально. Обработайте значения в этом столбце: замените все отрицательные значения положительными с помощью метода `abs()`.**"
   ]
  },
  {
   "cell_type": "code",
   "execution_count": 7,
   "id": "f6f055bf",
   "metadata": {
    "deletable": false,
    "id": "f6f055bf"
   },
   "outputs": [],
   "source": [
    "data['days_employed'] = data['days_employed'].abs()"
   ]
  },
  {
   "cell_type": "markdown",
   "id": "6107dd2f",
   "metadata": {
    "deletable": false,
    "id": "6107dd2f"
   },
   "source": [
    "**Задание 7. Для каждого типа занятости выведите медианное значение трудового стажа `days_employed` в днях.**"
   ]
  },
  {
   "cell_type": "code",
   "execution_count": 8,
   "id": "85a5faf6",
   "metadata": {
    "deletable": false,
    "id": "85a5faf6",
    "outputId": "801ef80e-522b-4668-f34e-565af7432bcf"
   },
   "outputs": [
    {
     "data": {
      "text/plain": [
       "income_type\n",
       "безработный        366413.652744\n",
       "в декрете            3296.759962\n",
       "госслужащий          2689.368353\n",
       "компаньон            1547.382223\n",
       "пенсионер          365213.306266\n",
       "предприниматель       520.848083\n",
       "сотрудник            1574.202821\n",
       "студент               578.751554\n",
       "Name: days_employed, dtype: float64"
      ]
     },
     "execution_count": 8,
     "metadata": {},
     "output_type": "execute_result"
    }
   ],
   "source": [
    "data.groupby('income_type')['days_employed'].agg('median')"
   ]
  },
  {
   "cell_type": "markdown",
   "id": "38d1a030",
   "metadata": {
    "deletable": false,
    "id": "38d1a030"
   },
   "source": [
    "У двух типов (безработные и пенсионеры) получатся аномально большие значения. Исправить такие значения сложно, поэтому оставьте их как есть. Тем более этот столбец не понадобится вам для исследования."
   ]
  },
  {
   "cell_type": "markdown",
   "id": "d8a9f147",
   "metadata": {
    "deletable": false,
    "id": "d8a9f147"
   },
   "source": [
    "**Задание 8. Выведите перечень уникальных значений столбца `children`.**"
   ]
  },
  {
   "cell_type": "code",
   "execution_count": 9,
   "id": "ef5056eb",
   "metadata": {
    "deletable": false,
    "id": "ef5056eb",
    "outputId": "6975b15c-7f95-4697-d16d-a0c79b657b03"
   },
   "outputs": [
    {
     "data": {
      "text/plain": [
       "array([ 1,  0,  3,  2, -1,  4, 20,  5])"
      ]
     },
     "execution_count": 9,
     "metadata": {},
     "output_type": "execute_result"
    }
   ],
   "source": [
    "data['children'].unique()"
   ]
  },
  {
   "cell_type": "markdown",
   "id": "40b9ebf2",
   "metadata": {
    "deletable": false,
    "id": "40b9ebf2"
   },
   "source": [
    "**Задание 9. В столбце `children` есть два аномальных значения. Удалите строки, в которых встречаются такие аномальные значения из датафрейма `data`.**"
   ]
  },
  {
   "cell_type": "code",
   "execution_count": 10,
   "id": "3ff9801d",
   "metadata": {
    "deletable": false,
    "id": "3ff9801d"
   },
   "outputs": [],
   "source": [
    "data = data[(data['children'] != -1) & (data['children'] != 20)]"
   ]
  },
  {
   "cell_type": "markdown",
   "id": "bbc4d0ce",
   "metadata": {
    "deletable": false,
    "id": "bbc4d0ce"
   },
   "source": [
    "**Задание 10. Ещё раз выведите перечень уникальных значений столбца `children`, чтобы убедиться, что артефакты удалены.**"
   ]
  },
  {
   "cell_type": "code",
   "execution_count": 11,
   "id": "ad4fa8b7",
   "metadata": {
    "deletable": false,
    "id": "ad4fa8b7",
    "outputId": "b2097101-d49d-44d9-901b-32a65c9463d1"
   },
   "outputs": [
    {
     "data": {
      "text/plain": [
       "array([1, 0, 3, 2, 4, 5])"
      ]
     },
     "execution_count": 11,
     "metadata": {},
     "output_type": "execute_result"
    }
   ],
   "source": [
    "data['children'].unique()"
   ]
  },
  {
   "cell_type": "markdown",
   "id": "75440b63",
   "metadata": {
    "deletable": false,
    "id": "75440b63"
   },
   "source": [
    "### Удаление пропусков (продолжение)"
   ]
  },
  {
   "cell_type": "markdown",
   "id": "f4ea573f",
   "metadata": {
    "deletable": false,
    "id": "f4ea573f"
   },
   "source": [
    "**Задание 11. Заполните пропуски в столбце `days_employed` медианными значениями по каждого типа занятости `income_type`.**"
   ]
  },
  {
   "cell_type": "code",
   "execution_count": 12,
   "id": "af6b1a7e",
   "metadata": {
    "deletable": false,
    "id": "af6b1a7e"
   },
   "outputs": [],
   "source": [
    "for t in data['income_type'].unique():\n",
    "    data.loc[(data['income_type'] == t) & (data['days_employed'].isna()), 'days_employed'] = \\\n",
    "    data.loc[(data['income_type'] == t), 'days_employed'].median()"
   ]
  },
  {
   "cell_type": "markdown",
   "id": "2753f40d",
   "metadata": {
    "deletable": false,
    "id": "2753f40d"
   },
   "source": [
    "**Задание 12. Убедитесь, что все пропуски заполнены. Проверьте себя и ещё раз выведите количество пропущенных значений для каждого столбца с помощью двух методов.**"
   ]
  },
  {
   "cell_type": "code",
   "execution_count": 13,
   "id": "55f78bc2",
   "metadata": {
    "deletable": false,
    "id": "55f78bc2",
    "outputId": "8da1e4e1-358e-4e87-98c9-f261bce0a7b2"
   },
   "outputs": [
    {
     "data": {
      "text/plain": [
       "children            0\n",
       "days_employed       0\n",
       "dob_years           0\n",
       "education           0\n",
       "education_id        0\n",
       "family_status       0\n",
       "family_status_id    0\n",
       "gender              0\n",
       "income_type         0\n",
       "debt                0\n",
       "total_income        0\n",
       "purpose             0\n",
       "dtype: int64"
      ]
     },
     "execution_count": 13,
     "metadata": {},
     "output_type": "execute_result"
    }
   ],
   "source": [
    "data.isna().sum()"
   ]
  },
  {
   "cell_type": "markdown",
   "id": "ddc81e43",
   "metadata": {
    "deletable": false,
    "id": "ddc81e43"
   },
   "source": [
    "### Изменение типов данных"
   ]
  },
  {
   "cell_type": "markdown",
   "id": "42d19d24",
   "metadata": {
    "deletable": false,
    "id": "42d19d24"
   },
   "source": [
    "**Задание 13. Замените вещественный тип данных в столбце `total_income` на целочисленный с помощью метода `astype()`.**"
   ]
  },
  {
   "cell_type": "code",
   "execution_count": 14,
   "id": "920b65ad",
   "metadata": {
    "deletable": false,
    "id": "920b65ad"
   },
   "outputs": [],
   "source": [
    "data['total_income'] = data['total_income'].astype(int)"
   ]
  },
  {
   "cell_type": "markdown",
   "id": "80c420ba",
   "metadata": {
    "deletable": false,
    "id": "80c420ba"
   },
   "source": [
    "### Обработка дубликатов"
   ]
  },
  {
   "cell_type": "markdown",
   "id": "dc587695",
   "metadata": {
    "deletable": false,
    "id": "dc587695"
   },
   "source": [
    "**Задание 14. Выведите на экран количество строк-дубликатов в данных. Если такие строки присутствуют, удалите их.**"
   ]
  },
  {
   "cell_type": "code",
   "execution_count": 15,
   "id": "3ee445e4",
   "metadata": {
    "deletable": false,
    "id": "3ee445e4",
    "outputId": "9684deba-1934-42d1-99e1-cda61740f822"
   },
   "outputs": [
    {
     "data": {
      "text/plain": [
       "54"
      ]
     },
     "execution_count": 15,
     "metadata": {},
     "output_type": "execute_result"
    }
   ],
   "source": [
    "data.duplicated().sum()"
   ]
  },
  {
   "cell_type": "code",
   "execution_count": 16,
   "id": "8575fe05",
   "metadata": {
    "deletable": false,
    "id": "8575fe05"
   },
   "outputs": [],
   "source": [
    "data = data.drop_duplicates()"
   ]
  },
  {
   "cell_type": "markdown",
   "id": "9771a76c",
   "metadata": {
    "deletable": false,
    "id": "9771a76c"
   },
   "source": [
    "**Задание 15. Обработайте неявные дубликаты в столбце `education`. В этом столбце есть одни и те же значения, но записанные по-разному: с использованием заглавных и строчных букв. Приведите их к нижнему регистру. Проверьте остальные столбцы.**"
   ]
  },
  {
   "cell_type": "code",
   "execution_count": 17,
   "id": "a9f8e2bf",
   "metadata": {
    "deletable": false,
    "id": "a9f8e2bf"
   },
   "outputs": [],
   "source": [
    "data['education'] = data['education'].str.lower()"
   ]
  },
  {
   "cell_type": "markdown",
   "id": "9904cf55",
   "metadata": {
    "deletable": false,
    "id": "9904cf55"
   },
   "source": [
    "### Категоризация данных"
   ]
  },
  {
   "cell_type": "markdown",
   "id": "72fcc8a2",
   "metadata": {
    "deletable": false,
    "id": "72fcc8a2"
   },
   "source": [
    "**Задание 16. На основании диапазонов, указанных ниже, создайте в датафрейме `data` столбец `total_income_category` с категориями:**\n",
    "\n",
    "- 0–30000 — `'E'`;\n",
    "- 30001–50000 — `'D'`;\n",
    "- 50001–200000 — `'C'`;\n",
    "- 200001–1000000 — `'B'`;\n",
    "- 1000001 и выше — `'A'`.\n",
    "\n",
    "\n",
    "**Например, кредитополучателю с доходом 25000 нужно назначить категорию `'E'`, а клиенту, получающему 235000, — `'B'`. Используйте собственную функцию с именем `categorize_income()` и метод `apply()`.**"
   ]
  },
  {
   "cell_type": "code",
   "execution_count": 18,
   "id": "e1771346",
   "metadata": {
    "deletable": false,
    "id": "e1771346"
   },
   "outputs": [],
   "source": [
    "def categorize_income(income):\n",
    "    try:\n",
    "        if 0 <= income <= 30000:\n",
    "            return 'E'\n",
    "        elif 30001 <= income <= 50000:\n",
    "            return 'D'\n",
    "        elif 50001 <= income <= 200000:\n",
    "            return 'C'\n",
    "        elif 200001 <= income <= 1000000:\n",
    "            return 'B'\n",
    "        elif income >= 1000001:\n",
    "            return 'A'\n",
    "    except:\n",
    "        pass"
   ]
  },
  {
   "cell_type": "code",
   "execution_count": 19,
   "id": "d5f3586d",
   "metadata": {
    "deletable": false,
    "id": "d5f3586d"
   },
   "outputs": [],
   "source": [
    "data['total_income_category'] = data['total_income'].apply(categorize_income)"
   ]
  },
  {
   "cell_type": "markdown",
   "id": "dde49b5c",
   "metadata": {
    "deletable": false,
    "id": "dde49b5c"
   },
   "source": [
    "**Задание 17. Выведите на экран перечень уникальных целей взятия кредита из столбца `purpose`.**"
   ]
  },
  {
   "cell_type": "code",
   "execution_count": 20,
   "id": "f67ce9b3",
   "metadata": {
    "deletable": false,
    "id": "f67ce9b3",
    "outputId": "673c12d9-7d7e-4ae0-9812-c622c89dd244"
   },
   "outputs": [
    {
     "data": {
      "text/plain": [
       "array(['покупка жилья', 'приобретение автомобиля',\n",
       "       'дополнительное образование', 'сыграть свадьбу',\n",
       "       'операции с жильем', 'образование', 'на проведение свадьбы',\n",
       "       'покупка жилья для семьи', 'покупка недвижимости',\n",
       "       'покупка коммерческой недвижимости', 'покупка жилой недвижимости',\n",
       "       'строительство собственной недвижимости', 'недвижимость',\n",
       "       'строительство недвижимости', 'на покупку подержанного автомобиля',\n",
       "       'на покупку своего автомобиля',\n",
       "       'операции с коммерческой недвижимостью',\n",
       "       'строительство жилой недвижимости', 'жилье',\n",
       "       'операции со своей недвижимостью', 'автомобили',\n",
       "       'заняться образованием', 'сделка с подержанным автомобилем',\n",
       "       'получение образования', 'автомобиль', 'свадьба',\n",
       "       'получение дополнительного образования', 'покупка своего жилья',\n",
       "       'операции с недвижимостью', 'получение высшего образования',\n",
       "       'свой автомобиль', 'сделка с автомобилем',\n",
       "       'профильное образование', 'высшее образование',\n",
       "       'покупка жилья для сдачи', 'на покупку автомобиля', 'ремонт жилью',\n",
       "       'заняться высшим образованием'], dtype=object)"
      ]
     },
     "execution_count": 20,
     "metadata": {},
     "output_type": "execute_result"
    }
   ],
   "source": [
    "data['purpose'].unique()"
   ]
  },
  {
   "cell_type": "markdown",
   "id": "85d0aef0",
   "metadata": {
    "deletable": false,
    "id": "85d0aef0"
   },
   "source": [
    "**Задание 18. Создайте функцию, которая на основании данных из столбца `purpose` сформирует новый столбец `purpose_category`, в который войдут следующие категории:**\n",
    "\n",
    "- `'операции с автомобилем'`,\n",
    "- `'операции с недвижимостью'`,\n",
    "- `'проведение свадьбы'`,\n",
    "- `'получение образования'`.\n",
    "\n",
    "**Например, если в столбце `purpose` находится подстрока `'на покупку автомобиля'`, то в столбце `purpose_category` должна появиться строка `'операции с автомобилем'`.**\n",
    "\n",
    "**Используйте собственную функцию с именем `categorize_purpose()` и метод `apply()`. Изучите данные в столбце `purpose` и определите, какие подстроки помогут вам правильно определить категорию.**"
   ]
  },
  {
   "cell_type": "code",
   "execution_count": 21,
   "id": "e149fab4",
   "metadata": {
    "deletable": false,
    "id": "e149fab4"
   },
   "outputs": [],
   "source": [
    "def categorize_purpose(row):\n",
    "    try:\n",
    "        if 'автом' in row:\n",
    "            return 'операции с автомобилем'\n",
    "        elif 'жил' in row or 'недвиж' in row:\n",
    "            return 'операции с недвижимостью'\n",
    "        elif 'свад' in row:\n",
    "            return 'проведение свадьбы'\n",
    "        elif 'образов' in row:\n",
    "            return 'получение образования'\n",
    "    except:\n",
    "        return 'нет категории'"
   ]
  },
  {
   "cell_type": "code",
   "execution_count": 22,
   "id": "bf36e69b",
   "metadata": {
    "deletable": false,
    "id": "bf36e69b"
   },
   "outputs": [],
   "source": [
    "data['purpose_category'] = data['purpose'].apply(categorize_purpose)"
   ]
  },
  {
   "cell_type": "markdown",
   "id": "09b242bf",
   "metadata": {
    "deletable": false,
    "editable": false,
    "id": "09b242bf"
   },
   "source": [
    "## Исследуйте данные и ответьте на вопросы"
   ]
  },
  {
   "cell_type": "markdown",
   "id": "c5d66278",
   "metadata": {
    "deletable": false,
    "editable": false,
    "id": "c5d66278"
   },
   "source": [
    "**Задание 19. Есть ли зависимость между количеством детей и возвратом кредита в срок?**"
   ]
  },
  {
   "cell_type": "code",
   "execution_count": 23,
   "id": "2cacfc4a",
   "metadata": {
    "id": "2cacfc4a"
   },
   "outputs": [
    {
     "data": {
      "text/html": [
       "<div>\n",
       "<style scoped>\n",
       "    .dataframe tbody tr th:only-of-type {\n",
       "        vertical-align: middle;\n",
       "    }\n",
       "\n",
       "    .dataframe tbody tr th {\n",
       "        vertical-align: top;\n",
       "    }\n",
       "\n",
       "    .dataframe thead tr th {\n",
       "        text-align: left;\n",
       "    }\n",
       "\n",
       "    .dataframe thead tr:last-of-type th {\n",
       "        text-align: right;\n",
       "    }\n",
       "</style>\n",
       "<table border=\"1\" class=\"dataframe\">\n",
       "  <thead>\n",
       "    <tr>\n",
       "      <th></th>\n",
       "      <th colspan=\"2\" halign=\"left\">debt</th>\n",
       "    </tr>\n",
       "    <tr>\n",
       "      <th></th>\n",
       "      <th>count</th>\n",
       "      <th>sum</th>\n",
       "    </tr>\n",
       "    <tr>\n",
       "      <th>children</th>\n",
       "      <th></th>\n",
       "      <th></th>\n",
       "    </tr>\n",
       "  </thead>\n",
       "  <tbody>\n",
       "    <tr>\n",
       "      <th>0</th>\n",
       "      <td>14107</td>\n",
       "      <td>1063</td>\n",
       "    </tr>\n",
       "    <tr>\n",
       "      <th>1</th>\n",
       "      <td>4809</td>\n",
       "      <td>444</td>\n",
       "    </tr>\n",
       "    <tr>\n",
       "      <th>2</th>\n",
       "      <td>2052</td>\n",
       "      <td>194</td>\n",
       "    </tr>\n",
       "    <tr>\n",
       "      <th>3</th>\n",
       "      <td>330</td>\n",
       "      <td>27</td>\n",
       "    </tr>\n",
       "    <tr>\n",
       "      <th>4</th>\n",
       "      <td>41</td>\n",
       "      <td>4</td>\n",
       "    </tr>\n",
       "    <tr>\n",
       "      <th>5</th>\n",
       "      <td>9</td>\n",
       "      <td>0</td>\n",
       "    </tr>\n",
       "  </tbody>\n",
       "</table>\n",
       "</div>"
      ],
      "text/plain": [
       "           debt      \n",
       "          count   sum\n",
       "children             \n",
       "0         14107  1063\n",
       "1          4809   444\n",
       "2          2052   194\n",
       "3           330    27\n",
       "4            41     4\n",
       "5             9     0"
      ]
     },
     "execution_count": 23,
     "metadata": {},
     "output_type": "execute_result"
    }
   ],
   "source": [
    "debt_grouped = data.groupby('children').agg({'debt':['count','sum']})#посчитаем общее количество людей для каждой категории по количеству детей и количество людей, имеющих задолженность по этой категории\n",
    "debt_grouped"
   ]
  },
  {
   "cell_type": "code",
   "execution_count": 24,
   "id": "ec09d0e5",
   "metadata": {},
   "outputs": [
    {
     "data": {
      "text/html": [
       "<div>\n",
       "<style scoped>\n",
       "    .dataframe tbody tr th:only-of-type {\n",
       "        vertical-align: middle;\n",
       "    }\n",
       "\n",
       "    .dataframe tbody tr th {\n",
       "        vertical-align: top;\n",
       "    }\n",
       "\n",
       "    .dataframe thead tr th {\n",
       "        text-align: left;\n",
       "    }\n",
       "\n",
       "    .dataframe thead tr:last-of-type th {\n",
       "        text-align: right;\n",
       "    }\n",
       "</style>\n",
       "<table border=\"1\" class=\"dataframe\">\n",
       "  <thead>\n",
       "    <tr>\n",
       "      <th></th>\n",
       "      <th colspan=\"2\" halign=\"left\">debt</th>\n",
       "      <th>existing_debt</th>\n",
       "    </tr>\n",
       "    <tr>\n",
       "      <th></th>\n",
       "      <th>count</th>\n",
       "      <th>sum</th>\n",
       "      <th></th>\n",
       "    </tr>\n",
       "    <tr>\n",
       "      <th>children</th>\n",
       "      <th></th>\n",
       "      <th></th>\n",
       "      <th></th>\n",
       "    </tr>\n",
       "  </thead>\n",
       "  <tbody>\n",
       "    <tr>\n",
       "      <th>0</th>\n",
       "      <td>14107</td>\n",
       "      <td>1063</td>\n",
       "      <td>7.54</td>\n",
       "    </tr>\n",
       "    <tr>\n",
       "      <th>1</th>\n",
       "      <td>4809</td>\n",
       "      <td>444</td>\n",
       "      <td>9.23</td>\n",
       "    </tr>\n",
       "    <tr>\n",
       "      <th>2</th>\n",
       "      <td>2052</td>\n",
       "      <td>194</td>\n",
       "      <td>9.45</td>\n",
       "    </tr>\n",
       "    <tr>\n",
       "      <th>3</th>\n",
       "      <td>330</td>\n",
       "      <td>27</td>\n",
       "      <td>8.18</td>\n",
       "    </tr>\n",
       "    <tr>\n",
       "      <th>4</th>\n",
       "      <td>41</td>\n",
       "      <td>4</td>\n",
       "      <td>9.76</td>\n",
       "    </tr>\n",
       "    <tr>\n",
       "      <th>5</th>\n",
       "      <td>9</td>\n",
       "      <td>0</td>\n",
       "      <td>0.00</td>\n",
       "    </tr>\n",
       "  </tbody>\n",
       "</table>\n",
       "</div>"
      ],
      "text/plain": [
       "           debt       existing_debt\n",
       "          count   sum              \n",
       "children                           \n",
       "0         14107  1063          7.54\n",
       "1          4809   444          9.23\n",
       "2          2052   194          9.45\n",
       "3           330    27          8.18\n",
       "4            41     4          9.76\n",
       "5             9     0          0.00"
      ]
     },
     "execution_count": 24,
     "metadata": {},
     "output_type": "execute_result"
    }
   ],
   "source": [
    "debt_grouped['existing_debt']=round((debt_grouped['debt']['sum']/debt_grouped['debt']['count']*100),2) #узнаем, какой процент от общего количества людей с определенным количеством детей имеет задолженность\n",
    "debt_grouped"
   ]
  },
  {
   "cell_type": "code",
   "execution_count": 25,
   "id": "f24668ff",
   "metadata": {
    "scrolled": true
   },
   "outputs": [
    {
     "data": {
      "image/png": "[encoded data removed]",
      "text/plain": [
       "<Figure size 432x288 with 1 Axes>"
      ]
     },
     "metadata": {
      "needs_background": "light"
     },
     "output_type": "display_data"
    }
   ],
   "source": [
    "ax = sns.barplot(x=list(data['children'].sort_values(ascending=True).unique()), y=debt_grouped['existing_debt'])#строим столбчатую диаграмму, которая отображает зависимость задолженности от количества детей\n",
    "ax.set_title('Процент задолженности по возврату кредита клиентами с детьми')\n",
    "ax.set_xlabel('Количество детей')\n",
    "ax.set_ylabel('Процент задолженности');"
   ]
  },
  {
   "cell_type": "markdown",
   "id": "3a6b99ec",
   "metadata": {
    "deletable": false,
    "id": "3a6b99ec"
   },
   "source": [
    "**Вывод:** \n",
    "\n",
    "Если сравнить процент задолженности по возврату кредита для людей, имеющих 1-4 ребенка и не имеющих детей, то можно сказать, что зависимость между количеством детей и возвратом кредита в срок действительно есть. У людей, не имеющих детей, процент задолженности ниже, чем у людей с детьми, значит они быстрее возвращают кредит.\n",
    "\n",
    "В нашем исследовании также оказалось, что люди, у которых 5 детей, все возвращают кредит в срок, но этих людей очень мало.Возможно, нужна выборка больше.\n",
    "\n",
    "А вот у людей, имеющих 3 ребенка, процент по задолженности ниже, чем у людей, у которых 1 или 2 ребенка."
   ]
  },
  {
   "cell_type": "markdown",
   "id": "97be82ca",
   "metadata": {
    "deletable": false,
    "editable": false,
    "id": "97be82ca"
   },
   "source": [
    "**Задание 20. Есть ли зависимость между семейным положением и возвратом кредита в срок?**"
   ]
  },
  {
   "cell_type": "code",
   "execution_count": 26,
   "id": "dc3f7ee8",
   "metadata": {
    "id": "dc3f7ee8"
   },
   "outputs": [
    {
     "data": {
      "text/html": [
       "<div>\n",
       "<style scoped>\n",
       "    .dataframe tbody tr th:only-of-type {\n",
       "        vertical-align: middle;\n",
       "    }\n",
       "\n",
       "    .dataframe tbody tr th {\n",
       "        vertical-align: top;\n",
       "    }\n",
       "\n",
       "    .dataframe thead tr th {\n",
       "        text-align: left;\n",
       "    }\n",
       "</style>\n",
       "<table border=\"1\" class=\"dataframe\">\n",
       "  <thead>\n",
       "    <tr>\n",
       "      <th></th>\n",
       "      <th>family_status</th>\n",
       "      <th colspan=\"2\" halign=\"left\">debt</th>\n",
       "    </tr>\n",
       "    <tr>\n",
       "      <th></th>\n",
       "      <th></th>\n",
       "      <th>count</th>\n",
       "      <th>sum</th>\n",
       "    </tr>\n",
       "  </thead>\n",
       "  <tbody>\n",
       "    <tr>\n",
       "      <th>0</th>\n",
       "      <td>Не женат / не замужем</td>\n",
       "      <td>2796</td>\n",
       "      <td>273</td>\n",
       "    </tr>\n",
       "    <tr>\n",
       "      <th>1</th>\n",
       "      <td>в разводе</td>\n",
       "      <td>1189</td>\n",
       "      <td>84</td>\n",
       "    </tr>\n",
       "    <tr>\n",
       "      <th>2</th>\n",
       "      <td>вдовец / вдова</td>\n",
       "      <td>951</td>\n",
       "      <td>63</td>\n",
       "    </tr>\n",
       "    <tr>\n",
       "      <th>3</th>\n",
       "      <td>гражданский брак</td>\n",
       "      <td>4146</td>\n",
       "      <td>385</td>\n",
       "    </tr>\n",
       "    <tr>\n",
       "      <th>4</th>\n",
       "      <td>женат / замужем</td>\n",
       "      <td>12266</td>\n",
       "      <td>927</td>\n",
       "    </tr>\n",
       "  </tbody>\n",
       "</table>\n",
       "</div>"
      ],
      "text/plain": [
       "           family_status   debt     \n",
       "                          count  sum\n",
       "0  Не женат / не замужем   2796  273\n",
       "1              в разводе   1189   84\n",
       "2         вдовец / вдова    951   63\n",
       "3       гражданский брак   4146  385\n",
       "4        женат / замужем  12266  927"
      ]
     },
     "execution_count": 26,
     "metadata": {},
     "output_type": "execute_result"
    }
   ],
   "source": [
    "family_debt_grouped= data.groupby('family_status', as_index=False).agg({'debt':['count','sum']})#посчитаем общее количество людей для каждой категории по семейному положению и количество людей, имеющих задолженность по данной категории \n",
    "family_debt_grouped"
   ]
  },
  {
   "cell_type": "code",
   "execution_count": 27,
   "id": "0cc476db",
   "metadata": {},
   "outputs": [
    {
     "data": {
      "text/html": [
       "<div>\n",
       "<style scoped>\n",
       "    .dataframe tbody tr th:only-of-type {\n",
       "        vertical-align: middle;\n",
       "    }\n",
       "\n",
       "    .dataframe tbody tr th {\n",
       "        vertical-align: top;\n",
       "    }\n",
       "\n",
       "    .dataframe thead tr th {\n",
       "        text-align: left;\n",
       "    }\n",
       "</style>\n",
       "<table border=\"1\" class=\"dataframe\">\n",
       "  <thead>\n",
       "    <tr>\n",
       "      <th></th>\n",
       "      <th>family_status</th>\n",
       "      <th colspan=\"2\" halign=\"left\">debt</th>\n",
       "      <th>percent_debt</th>\n",
       "    </tr>\n",
       "    <tr>\n",
       "      <th></th>\n",
       "      <th></th>\n",
       "      <th>count</th>\n",
       "      <th>sum</th>\n",
       "      <th></th>\n",
       "    </tr>\n",
       "  </thead>\n",
       "  <tbody>\n",
       "    <tr>\n",
       "      <th>0</th>\n",
       "      <td>Не женат / не замужем</td>\n",
       "      <td>2796</td>\n",
       "      <td>273</td>\n",
       "      <td>9.76</td>\n",
       "    </tr>\n",
       "    <tr>\n",
       "      <th>1</th>\n",
       "      <td>в разводе</td>\n",
       "      <td>1189</td>\n",
       "      <td>84</td>\n",
       "      <td>7.06</td>\n",
       "    </tr>\n",
       "    <tr>\n",
       "      <th>2</th>\n",
       "      <td>вдовец / вдова</td>\n",
       "      <td>951</td>\n",
       "      <td>63</td>\n",
       "      <td>6.62</td>\n",
       "    </tr>\n",
       "    <tr>\n",
       "      <th>3</th>\n",
       "      <td>гражданский брак</td>\n",
       "      <td>4146</td>\n",
       "      <td>385</td>\n",
       "      <td>9.29</td>\n",
       "    </tr>\n",
       "    <tr>\n",
       "      <th>4</th>\n",
       "      <td>женат / замужем</td>\n",
       "      <td>12266</td>\n",
       "      <td>927</td>\n",
       "      <td>7.56</td>\n",
       "    </tr>\n",
       "  </tbody>\n",
       "</table>\n",
       "</div>"
      ],
      "text/plain": [
       "           family_status   debt      percent_debt\n",
       "                          count  sum             \n",
       "0  Не женат / не замужем   2796  273         9.76\n",
       "1              в разводе   1189   84         7.06\n",
       "2         вдовец / вдова    951   63         6.62\n",
       "3       гражданский брак   4146  385         9.29\n",
       "4        женат / замужем  12266  927         7.56"
      ]
     },
     "execution_count": 27,
     "metadata": {},
     "output_type": "execute_result"
    }
   ],
   "source": [
    "family_debt_grouped['percent_debt']=round((family_debt_grouped['debt']['sum']/family_debt_grouped['debt']['count']*100),2)#узнаем, какой процент от общего количества людей с определенным семейным положением имеет задолженность\n",
    "family_debt_grouped"
   ]
  },
  {
   "cell_type": "code",
   "execution_count": 28,
   "id": "1a328b3c",
   "metadata": {},
   "outputs": [
    {
     "data": {
      "text/html": [
       "<div>\n",
       "<style scoped>\n",
       "    .dataframe tbody tr th:only-of-type {\n",
       "        vertical-align: middle;\n",
       "    }\n",
       "\n",
       "    .dataframe tbody tr th {\n",
       "        vertical-align: top;\n",
       "    }\n",
       "\n",
       "    .dataframe thead tr th {\n",
       "        text-align: left;\n",
       "    }\n",
       "</style>\n",
       "<table border=\"1\" class=\"dataframe\">\n",
       "  <thead>\n",
       "    <tr>\n",
       "      <th></th>\n",
       "      <th>family_status</th>\n",
       "      <th colspan=\"2\" halign=\"left\">debt</th>\n",
       "      <th>percent_debt</th>\n",
       "    </tr>\n",
       "    <tr>\n",
       "      <th></th>\n",
       "      <th></th>\n",
       "      <th>count</th>\n",
       "      <th>sum</th>\n",
       "      <th></th>\n",
       "    </tr>\n",
       "  </thead>\n",
       "  <tbody>\n",
       "    <tr>\n",
       "      <th>0</th>\n",
       "      <td>Не женат / не замужем</td>\n",
       "      <td>2796</td>\n",
       "      <td>273</td>\n",
       "      <td>9.76</td>\n",
       "    </tr>\n",
       "    <tr>\n",
       "      <th>1</th>\n",
       "      <td>гражданский брак</td>\n",
       "      <td>4146</td>\n",
       "      <td>385</td>\n",
       "      <td>9.29</td>\n",
       "    </tr>\n",
       "    <tr>\n",
       "      <th>2</th>\n",
       "      <td>женат / замужем</td>\n",
       "      <td>12266</td>\n",
       "      <td>927</td>\n",
       "      <td>7.56</td>\n",
       "    </tr>\n",
       "    <tr>\n",
       "      <th>3</th>\n",
       "      <td>в разводе</td>\n",
       "      <td>1189</td>\n",
       "      <td>84</td>\n",
       "      <td>7.06</td>\n",
       "    </tr>\n",
       "    <tr>\n",
       "      <th>4</th>\n",
       "      <td>вдовец / вдова</td>\n",
       "      <td>951</td>\n",
       "      <td>63</td>\n",
       "      <td>6.62</td>\n",
       "    </tr>\n",
       "  </tbody>\n",
       "</table>\n",
       "</div>"
      ],
      "text/plain": [
       "           family_status   debt      percent_debt\n",
       "                          count  sum             \n",
       "0  Не женат / не замужем   2796  273         9.76\n",
       "1       гражданский брак   4146  385         9.29\n",
       "2        женат / замужем  12266  927         7.56\n",
       "3              в разводе   1189   84         7.06\n",
       "4         вдовец / вдова    951   63         6.62"
      ]
     },
     "execution_count": 28,
     "metadata": {},
     "output_type": "execute_result"
    }
   ],
   "source": [
    "family_debt_grouped=family_debt_grouped.sort_values(by='percent_debt',ascending=False,ignore_index=True)#отсортируем данные датафрейма по убыванию значений столбца 'percent_debt'\n",
    "family_debt_grouped"
   ]
  },
  {
   "cell_type": "code",
   "execution_count": 29,
   "id": "6a78ec7e",
   "metadata": {},
   "outputs": [
    {
     "data": {
      "image/png": "[encoded data removed]",
      "text/plain": [
       "<Figure size 432x288 with 1 Axes>"
      ]
     },
     "metadata": {
      "needs_background": "light"
     },
     "output_type": "display_data"
    }
   ],
   "source": [
    "ax = sns.barplot(x=family_debt_grouped['percent_debt'], y=list(family_debt_grouped['family_status']))#строим столбчатую диаграмму, которая отображает зависимость задолженности от семейного положения\n",
    "ax.set_title('Процент задолженности по возврату кредита клиентами по семейному положению')\n",
    "ax.set_ylabel('Семейное положение')\n",
    "ax.set_xlabel('Процент задолженности');"
   ]
  },
  {
   "cell_type": "markdown",
   "id": "1cef7837",
   "metadata": {
    "deletable": false,
    "id": "1cef7837"
   },
   "source": [
    "**Вывод:** Зависимость между семейным положением и возвратом кредита в срок тоже существует. Быстрее всех в срок возвращают кредит вдовы и вдовцы. Дольше всех отдают кредит те, кто не женат или не замужем."
   ]
  },
  {
   "cell_type": "markdown",
   "id": "1e8b2fca",
   "metadata": {
    "deletable": false,
    "editable": false,
    "id": "1e8b2fca"
   },
   "source": [
    "**Задание 21. Есть ли зависимость между уровнем дохода и возвратом кредита в срок?**"
   ]
  },
  {
   "cell_type": "code",
   "execution_count": 30,
   "id": "cd7e3720",
   "metadata": {
    "id": "cd7e3720"
   },
   "outputs": [
    {
     "data": {
      "text/html": [
       "<div>\n",
       "<style scoped>\n",
       "    .dataframe tbody tr th:only-of-type {\n",
       "        vertical-align: middle;\n",
       "    }\n",
       "\n",
       "    .dataframe tbody tr th {\n",
       "        vertical-align: top;\n",
       "    }\n",
       "\n",
       "    .dataframe thead tr th {\n",
       "        text-align: left;\n",
       "    }\n",
       "</style>\n",
       "<table border=\"1\" class=\"dataframe\">\n",
       "  <thead>\n",
       "    <tr>\n",
       "      <th></th>\n",
       "      <th>total_income_category</th>\n",
       "      <th colspan=\"2\" halign=\"left\">debt</th>\n",
       "    </tr>\n",
       "    <tr>\n",
       "      <th></th>\n",
       "      <th></th>\n",
       "      <th>count</th>\n",
       "      <th>sum</th>\n",
       "    </tr>\n",
       "  </thead>\n",
       "  <tbody>\n",
       "    <tr>\n",
       "      <th>0</th>\n",
       "      <td>A</td>\n",
       "      <td>25</td>\n",
       "      <td>2</td>\n",
       "    </tr>\n",
       "    <tr>\n",
       "      <th>1</th>\n",
       "      <td>B</td>\n",
       "      <td>5014</td>\n",
       "      <td>354</td>\n",
       "    </tr>\n",
       "    <tr>\n",
       "      <th>2</th>\n",
       "      <td>C</td>\n",
       "      <td>15938</td>\n",
       "      <td>1353</td>\n",
       "    </tr>\n",
       "    <tr>\n",
       "      <th>3</th>\n",
       "      <td>D</td>\n",
       "      <td>349</td>\n",
       "      <td>21</td>\n",
       "    </tr>\n",
       "    <tr>\n",
       "      <th>4</th>\n",
       "      <td>E</td>\n",
       "      <td>22</td>\n",
       "      <td>2</td>\n",
       "    </tr>\n",
       "  </tbody>\n",
       "</table>\n",
       "</div>"
      ],
      "text/plain": [
       "  total_income_category   debt      \n",
       "                         count   sum\n",
       "0                     A     25     2\n",
       "1                     B   5014   354\n",
       "2                     C  15938  1353\n",
       "3                     D    349    21\n",
       "4                     E     22     2"
      ]
     },
     "execution_count": 30,
     "metadata": {},
     "output_type": "execute_result"
    }
   ],
   "source": [
    "income_debt_grouped= data.groupby('total_income_category',as_index=False).agg({'debt':['count','sum']})#посчитаем общее количество людей для каждой категории по уровню дохода и количество людей, имеющих задолженность по данной категории \n",
    "income_debt_grouped"
   ]
  },
  {
   "cell_type": "code",
   "execution_count": 31,
   "id": "d6392131",
   "metadata": {},
   "outputs": [
    {
     "data": {
      "text/html": [
       "<div>\n",
       "<style scoped>\n",
       "    .dataframe tbody tr th:only-of-type {\n",
       "        vertical-align: middle;\n",
       "    }\n",
       "\n",
       "    .dataframe tbody tr th {\n",
       "        vertical-align: top;\n",
       "    }\n",
       "\n",
       "    .dataframe thead tr th {\n",
       "        text-align: left;\n",
       "    }\n",
       "</style>\n",
       "<table border=\"1\" class=\"dataframe\">\n",
       "  <thead>\n",
       "    <tr>\n",
       "      <th></th>\n",
       "      <th>total_income_category</th>\n",
       "      <th colspan=\"2\" halign=\"left\">debt</th>\n",
       "      <th>income_percent_debt</th>\n",
       "    </tr>\n",
       "    <tr>\n",
       "      <th></th>\n",
       "      <th></th>\n",
       "      <th>count</th>\n",
       "      <th>sum</th>\n",
       "      <th></th>\n",
       "    </tr>\n",
       "  </thead>\n",
       "  <tbody>\n",
       "    <tr>\n",
       "      <th>0</th>\n",
       "      <td>A</td>\n",
       "      <td>25</td>\n",
       "      <td>2</td>\n",
       "      <td>8.00</td>\n",
       "    </tr>\n",
       "    <tr>\n",
       "      <th>1</th>\n",
       "      <td>B</td>\n",
       "      <td>5014</td>\n",
       "      <td>354</td>\n",
       "      <td>7.06</td>\n",
       "    </tr>\n",
       "    <tr>\n",
       "      <th>2</th>\n",
       "      <td>C</td>\n",
       "      <td>15938</td>\n",
       "      <td>1353</td>\n",
       "      <td>8.49</td>\n",
       "    </tr>\n",
       "    <tr>\n",
       "      <th>3</th>\n",
       "      <td>D</td>\n",
       "      <td>349</td>\n",
       "      <td>21</td>\n",
       "      <td>6.02</td>\n",
       "    </tr>\n",
       "    <tr>\n",
       "      <th>4</th>\n",
       "      <td>E</td>\n",
       "      <td>22</td>\n",
       "      <td>2</td>\n",
       "      <td>9.09</td>\n",
       "    </tr>\n",
       "  </tbody>\n",
       "</table>\n",
       "</div>"
      ],
      "text/plain": [
       "  total_income_category   debt       income_percent_debt\n",
       "                         count   sum                    \n",
       "0                     A     25     2                8.00\n",
       "1                     B   5014   354                7.06\n",
       "2                     C  15938  1353                8.49\n",
       "3                     D    349    21                6.02\n",
       "4                     E     22     2                9.09"
      ]
     },
     "execution_count": 31,
     "metadata": {},
     "output_type": "execute_result"
    }
   ],
   "source": [
    "income_debt_grouped['income_percent_debt']=round((income_debt_grouped['debt']['sum']/income_debt_grouped['debt']['count']*100),2)#узнаем, какой процент от общего количества людей с определенным уровнем дохода имеет задолженность\n",
    "income_debt_grouped"
   ]
  },
  {
   "cell_type": "code",
   "execution_count": 32,
   "id": "ef10e42a",
   "metadata": {},
   "outputs": [
    {
     "data": {
      "text/html": [
       "<div>\n",
       "<style scoped>\n",
       "    .dataframe tbody tr th:only-of-type {\n",
       "        vertical-align: middle;\n",
       "    }\n",
       "\n",
       "    .dataframe tbody tr th {\n",
       "        vertical-align: top;\n",
       "    }\n",
       "\n",
       "    .dataframe thead tr th {\n",
       "        text-align: left;\n",
       "    }\n",
       "</style>\n",
       "<table border=\"1\" class=\"dataframe\">\n",
       "  <thead>\n",
       "    <tr>\n",
       "      <th></th>\n",
       "      <th>total_income_category</th>\n",
       "      <th colspan=\"2\" halign=\"left\">debt</th>\n",
       "      <th>income_percent_debt</th>\n",
       "    </tr>\n",
       "    <tr>\n",
       "      <th></th>\n",
       "      <th></th>\n",
       "      <th>count</th>\n",
       "      <th>sum</th>\n",
       "      <th></th>\n",
       "    </tr>\n",
       "  </thead>\n",
       "  <tbody>\n",
       "    <tr>\n",
       "      <th>0</th>\n",
       "      <td>E</td>\n",
       "      <td>22</td>\n",
       "      <td>2</td>\n",
       "      <td>9.09</td>\n",
       "    </tr>\n",
       "    <tr>\n",
       "      <th>1</th>\n",
       "      <td>C</td>\n",
       "      <td>15938</td>\n",
       "      <td>1353</td>\n",
       "      <td>8.49</td>\n",
       "    </tr>\n",
       "    <tr>\n",
       "      <th>2</th>\n",
       "      <td>A</td>\n",
       "      <td>25</td>\n",
       "      <td>2</td>\n",
       "      <td>8.00</td>\n",
       "    </tr>\n",
       "    <tr>\n",
       "      <th>3</th>\n",
       "      <td>B</td>\n",
       "      <td>5014</td>\n",
       "      <td>354</td>\n",
       "      <td>7.06</td>\n",
       "    </tr>\n",
       "    <tr>\n",
       "      <th>4</th>\n",
       "      <td>D</td>\n",
       "      <td>349</td>\n",
       "      <td>21</td>\n",
       "      <td>6.02</td>\n",
       "    </tr>\n",
       "  </tbody>\n",
       "</table>\n",
       "</div>"
      ],
      "text/plain": [
       "  total_income_category   debt       income_percent_debt\n",
       "                         count   sum                    \n",
       "0                     E     22     2                9.09\n",
       "1                     C  15938  1353                8.49\n",
       "2                     A     25     2                8.00\n",
       "3                     B   5014   354                7.06\n",
       "4                     D    349    21                6.02"
      ]
     },
     "execution_count": 32,
     "metadata": {},
     "output_type": "execute_result"
    }
   ],
   "source": [
    "income_debt_grouped=income_debt_grouped.sort_values(by='income_percent_debt',ascending=False,ignore_index=True)#отсортируем данные датафрейма по убыванию значений столбца 'income_percent_debt'\n",
    "income_debt_grouped"
   ]
  },
  {
   "cell_type": "code",
   "execution_count": 33,
   "id": "ead95dbd",
   "metadata": {},
   "outputs": [
    {
     "data": {
      "image/png": "[encoded data removed]",
      "text/plain": [
       "<Figure size 432x288 with 1 Axes>"
      ]
     },
     "metadata": {
      "needs_background": "light"
     },
     "output_type": "display_data"
    }
   ],
   "source": [
    "ax = sns.barplot(x=income_debt_grouped['total_income_category'], y=income_debt_grouped['income_percent_debt'])#строим столбчатую диаграмму, которая отображает зависимость задолженности от уровня дохода\n",
    "ax.set_title('Процент задолженности по возврату кредита клиентами по уровню дохода')\n",
    "ax.set_xlabel('Категория уровня дохода')\n",
    "ax.set_ylabel('Процент задолженности');"
   ]
  },
  {
   "cell_type": "markdown",
   "id": "e8593def",
   "metadata": {
    "deletable": false,
    "id": "e8593def"
   },
   "source": [
    "**Вывод:** \n",
    "Зависимости между уровнем дохода и возвратом кредита в срок не наблюдается, так как у людей с маленьким, средним, высоким уровнем дохода как высокий процент задолженности по кредиту, так и низкий."
   ]
  },
  {
   "cell_type": "markdown",
   "id": "99ecbd1f",
   "metadata": {
    "deletable": false,
    "editable": false,
    "id": "99ecbd1f"
   },
   "source": [
    "**Задание 22. Как разные цели кредита влияют на его возврат в срок?**"
   ]
  },
  {
   "cell_type": "code",
   "execution_count": 34,
   "id": "2b687290",
   "metadata": {
    "id": "2b687290",
    "scrolled": false
   },
   "outputs": [
    {
     "data": {
      "text/html": [
       "<div>\n",
       "<style scoped>\n",
       "    .dataframe tbody tr th:only-of-type {\n",
       "        vertical-align: middle;\n",
       "    }\n",
       "\n",
       "    .dataframe tbody tr th {\n",
       "        vertical-align: top;\n",
       "    }\n",
       "\n",
       "    .dataframe thead tr th {\n",
       "        text-align: left;\n",
       "    }\n",
       "</style>\n",
       "<table border=\"1\" class=\"dataframe\">\n",
       "  <thead>\n",
       "    <tr>\n",
       "      <th></th>\n",
       "      <th>purpose_category</th>\n",
       "      <th colspan=\"2\" halign=\"left\">debt</th>\n",
       "    </tr>\n",
       "    <tr>\n",
       "      <th></th>\n",
       "      <th></th>\n",
       "      <th>count</th>\n",
       "      <th>sum</th>\n",
       "    </tr>\n",
       "  </thead>\n",
       "  <tbody>\n",
       "    <tr>\n",
       "      <th>0</th>\n",
       "      <td>операции с автомобилем</td>\n",
       "      <td>4281</td>\n",
       "      <td>400</td>\n",
       "    </tr>\n",
       "    <tr>\n",
       "      <th>1</th>\n",
       "      <td>операции с недвижимостью</td>\n",
       "      <td>10754</td>\n",
       "      <td>780</td>\n",
       "    </tr>\n",
       "    <tr>\n",
       "      <th>2</th>\n",
       "      <td>получение образования</td>\n",
       "      <td>3989</td>\n",
       "      <td>369</td>\n",
       "    </tr>\n",
       "    <tr>\n",
       "      <th>3</th>\n",
       "      <td>проведение свадьбы</td>\n",
       "      <td>2324</td>\n",
       "      <td>183</td>\n",
       "    </tr>\n",
       "  </tbody>\n",
       "</table>\n",
       "</div>"
      ],
      "text/plain": [
       "           purpose_category   debt     \n",
       "                             count  sum\n",
       "0    операции с автомобилем   4281  400\n",
       "1  операции с недвижимостью  10754  780\n",
       "2     получение образования   3989  369\n",
       "3        проведение свадьбы   2324  183"
      ]
     },
     "execution_count": 34,
     "metadata": {},
     "output_type": "execute_result"
    }
   ],
   "source": [
    "purpose_debt_grouped=data.groupby(['purpose_category'],as_index=False).agg({'debt':['count','sum']})#посчитаем общее количество людей для каждой категории по цели кредита и количество людей, имеющих задолженность по данной категории \n",
    "purpose_debt_grouped"
   ]
  },
  {
   "cell_type": "code",
   "execution_count": 35,
   "id": "e933ae9e",
   "metadata": {},
   "outputs": [
    {
     "data": {
      "text/html": [
       "<div>\n",
       "<style scoped>\n",
       "    .dataframe tbody tr th:only-of-type {\n",
       "        vertical-align: middle;\n",
       "    }\n",
       "\n",
       "    .dataframe tbody tr th {\n",
       "        vertical-align: top;\n",
       "    }\n",
       "\n",
       "    .dataframe thead tr th {\n",
       "        text-align: left;\n",
       "    }\n",
       "</style>\n",
       "<table border=\"1\" class=\"dataframe\">\n",
       "  <thead>\n",
       "    <tr>\n",
       "      <th></th>\n",
       "      <th>purpose_category</th>\n",
       "      <th colspan=\"2\" halign=\"left\">debt</th>\n",
       "      <th>purpose_percent_debt</th>\n",
       "    </tr>\n",
       "    <tr>\n",
       "      <th></th>\n",
       "      <th></th>\n",
       "      <th>count</th>\n",
       "      <th>sum</th>\n",
       "      <th></th>\n",
       "    </tr>\n",
       "  </thead>\n",
       "  <tbody>\n",
       "    <tr>\n",
       "      <th>0</th>\n",
       "      <td>операции с автомобилем</td>\n",
       "      <td>4281</td>\n",
       "      <td>400</td>\n",
       "      <td>9.34</td>\n",
       "    </tr>\n",
       "    <tr>\n",
       "      <th>1</th>\n",
       "      <td>операции с недвижимостью</td>\n",
       "      <td>10754</td>\n",
       "      <td>780</td>\n",
       "      <td>7.25</td>\n",
       "    </tr>\n",
       "    <tr>\n",
       "      <th>2</th>\n",
       "      <td>получение образования</td>\n",
       "      <td>3989</td>\n",
       "      <td>369</td>\n",
       "      <td>9.25</td>\n",
       "    </tr>\n",
       "    <tr>\n",
       "      <th>3</th>\n",
       "      <td>проведение свадьбы</td>\n",
       "      <td>2324</td>\n",
       "      <td>183</td>\n",
       "      <td>7.87</td>\n",
       "    </tr>\n",
       "  </tbody>\n",
       "</table>\n",
       "</div>"
      ],
      "text/plain": [
       "           purpose_category   debt      purpose_percent_debt\n",
       "                             count  sum                     \n",
       "0    операции с автомобилем   4281  400                 9.34\n",
       "1  операции с недвижимостью  10754  780                 7.25\n",
       "2     получение образования   3989  369                 9.25\n",
       "3        проведение свадьбы   2324  183                 7.87"
      ]
     },
     "execution_count": 35,
     "metadata": {},
     "output_type": "execute_result"
    }
   ],
   "source": [
    "purpose_debt_grouped['purpose_percent_debt']=round((purpose_debt_grouped['debt']['sum']/purpose_debt_grouped['debt']['count'])*100,2)#узнаем, какой процент от общего количества людей с определенной целью кредита имеет задолженность\n",
    "purpose_debt_grouped"
   ]
  },
  {
   "cell_type": "code",
   "execution_count": 36,
   "id": "4c749c63",
   "metadata": {},
   "outputs": [
    {
     "data": {
      "text/html": [
       "<div>\n",
       "<style scoped>\n",
       "    .dataframe tbody tr th:only-of-type {\n",
       "        vertical-align: middle;\n",
       "    }\n",
       "\n",
       "    .dataframe tbody tr th {\n",
       "        vertical-align: top;\n",
       "    }\n",
       "\n",
       "    .dataframe thead tr th {\n",
       "        text-align: left;\n",
       "    }\n",
       "</style>\n",
       "<table border=\"1\" class=\"dataframe\">\n",
       "  <thead>\n",
       "    <tr>\n",
       "      <th></th>\n",
       "      <th>purpose_category</th>\n",
       "      <th colspan=\"2\" halign=\"left\">debt</th>\n",
       "      <th>purpose_percent_debt</th>\n",
       "    </tr>\n",
       "    <tr>\n",
       "      <th></th>\n",
       "      <th></th>\n",
       "      <th>count</th>\n",
       "      <th>sum</th>\n",
       "      <th></th>\n",
       "    </tr>\n",
       "  </thead>\n",
       "  <tbody>\n",
       "    <tr>\n",
       "      <th>0</th>\n",
       "      <td>операции с автомобилем</td>\n",
       "      <td>4281</td>\n",
       "      <td>400</td>\n",
       "      <td>9.34</td>\n",
       "    </tr>\n",
       "    <tr>\n",
       "      <th>1</th>\n",
       "      <td>получение образования</td>\n",
       "      <td>3989</td>\n",
       "      <td>369</td>\n",
       "      <td>9.25</td>\n",
       "    </tr>\n",
       "    <tr>\n",
       "      <th>2</th>\n",
       "      <td>проведение свадьбы</td>\n",
       "      <td>2324</td>\n",
       "      <td>183</td>\n",
       "      <td>7.87</td>\n",
       "    </tr>\n",
       "    <tr>\n",
       "      <th>3</th>\n",
       "      <td>операции с недвижимостью</td>\n",
       "      <td>10754</td>\n",
       "      <td>780</td>\n",
       "      <td>7.25</td>\n",
       "    </tr>\n",
       "  </tbody>\n",
       "</table>\n",
       "</div>"
      ],
      "text/plain": [
       "           purpose_category   debt      purpose_percent_debt\n",
       "                             count  sum                     \n",
       "0    операции с автомобилем   4281  400                 9.34\n",
       "1     получение образования   3989  369                 9.25\n",
       "2        проведение свадьбы   2324  183                 7.87\n",
       "3  операции с недвижимостью  10754  780                 7.25"
      ]
     },
     "execution_count": 36,
     "metadata": {},
     "output_type": "execute_result"
    }
   ],
   "source": [
    "purpose_debt_grouped=purpose_debt_grouped.sort_values(by='purpose_percent_debt', ascending=False, ignore_index=True)#отсортируем данные датафрейма по убыванию значений столбца 'purpose_percent_debt'\n",
    "purpose_debt_grouped"
   ]
  },
  {
   "cell_type": "code",
   "execution_count": 37,
   "id": "a92aedd1",
   "metadata": {},
   "outputs": [
    {
     "data": {
      "image/png": "[encoded data removed]",
      "text/plain": [
       "<Figure size 432x288 with 1 Axes>"
      ]
     },
     "metadata": {
      "needs_background": "light"
     },
     "output_type": "display_data"
    }
   ],
   "source": [
    "ax = sns.barplot(x=purpose_debt_grouped['purpose_percent_debt'], y=purpose_debt_grouped['purpose_category'])#строим столбчатую диаграмму, которая отображает зависимость задолженности от цели кредита\n",
    "ax.set_title('Процент задолженности по возврату кредита клиентами по целям кредита')\n",
    "ax.set_ylabel('Цели кредита')\n",
    "ax.set_xlabel('Процент задолженности');"
   ]
  },
  {
   "cell_type": "markdown",
   "id": "b4bb2ce6",
   "metadata": {
    "deletable": false,
    "id": "b4bb2ce6"
   },
   "source": [
    "**Вывод:** Цели кредита влияют на возврат в срок этого кредита таким образом, что кредиты на свадьбу и недвижимость возвращаются быстрее, чем кредиты на автомобиль и образование."
   ]
  },
  {
   "cell_type": "markdown",
   "id": "09c3ac4c",
   "metadata": {
    "deletable": false,
    "editable": false,
    "id": "09c3ac4c"
   },
   "source": [
    "**Задание 23. Приведите возможные причины появления пропусков в исходных данных.**"
   ]
  },
  {
   "cell_type": "markdown",
   "id": "9da2ceda",
   "metadata": {
    "deletable": false,
    "id": "9da2ceda"
   },
   "source": [
    "*Ответ:* Возможными причинами появления пропусков в исходных данных могли быть:\n",
    "1. Человеческий фактор (вовремя не занесли необходимые данные, случайно пропустили);\n",
    "2. Техническая ошибка;\n",
    "3. Отсутствие данных."
   ]
  },
  {
   "cell_type": "markdown",
   "id": "7b0487d6",
   "metadata": {
    "deletable": false,
    "editable": false,
    "id": "7b0487d6"
   },
   "source": [
    "**Задание 24. Объясните, почему заполнить пропуски медианным значением — лучшее решение для количественных переменных.**"
   ]
  },
  {
   "cell_type": "markdown",
   "id": "7ecf2b8e",
   "metadata": {
    "deletable": false,
    "id": "7ecf2b8e"
   },
   "source": [
    "*Ответ:* Медианное значение корректно характеризует данные, когда некоторые значения сильно выделяются среди большинства. По нему мы получаем более объективную информацию, чем по среднему значению."
   ]
  },
  {
   "cell_type": "markdown",
   "id": "6db5255a",
   "metadata": {
    "deletable": false,
    "editable": false,
    "id": "6db5255a"
   },
   "source": [
    "## Общий вывод."
   ]
  },
  {
   "cell_type": "markdown",
   "id": "bad65432",
   "metadata": {
    "id": "bad65432"
   },
   "source": [
    "На основании проведенного исследования можем сделать вывод, что на возврат кредита в срок влияет наличие детей у людей. Бездетные быстрее возвращают кредит, чем те, у кого есть 1-4 ребенка. А для людей с 5 детьми нужна выборка больше. \n",
    "\n",
    "Также быстрее всех возвращают кредит вдовы, вдовцы; люди, кто берет кредит на свадьбу или недвижимость. А дольше всех возвращают кредит те, кто не женат или не замужем; кто берет кредит на автомобиль или образование.\n",
    "\n",
    "А вот зависимости между уровнем дохода и возвратом кредита в срок не наблюдается. У людей с маленьким, средним или высоким уровнем дохода как высокий процент задолженности по кредиту, так и низкий."
   ]
  }
 ],
 "metadata": {
  "ExecuteTimeLog": [
   {
    "duration": 540,
    "start_time": "2022-07-11T14:31:16.074Z"
   },
   {
    "duration": 56,
    "start_time": "2022-07-12T07:43:03.568Z"
   },
   {
    "duration": 544,
    "start_time": "2022-07-12T07:43:47.206Z"
   },
   {
    "duration": 22,
    "start_time": "2022-07-12T07:43:47.753Z"
   },
   {
    "duration": 20,
    "start_time": "2022-07-12T07:43:47.777Z"
   },
   {
    "duration": 9,
    "start_time": "2022-07-12T07:43:47.799Z"
   },
   {
    "duration": 37,
    "start_time": "2022-07-12T07:43:47.809Z"
   },
   {
    "duration": 3,
    "start_time": "2022-07-12T07:43:47.848Z"
   },
   {
    "duration": 11,
    "start_time": "2022-07-12T07:43:47.853Z"
   },
   {
    "duration": 4,
    "start_time": "2022-07-12T07:43:47.865Z"
   },
   {
    "duration": 11,
    "start_time": "2022-07-12T07:43:47.870Z"
   },
   {
    "duration": 4,
    "start_time": "2022-07-12T07:43:47.902Z"
   },
   {
    "duration": 40,
    "start_time": "2022-07-12T07:43:47.908Z"
   },
   {
    "duration": 8,
    "start_time": "2022-07-12T07:43:47.950Z"
   },
   {
    "duration": 8,
    "start_time": "2022-07-12T07:43:47.960Z"
   },
   {
    "duration": 31,
    "start_time": "2022-07-12T07:43:47.969Z"
   },
   {
    "duration": 16,
    "start_time": "2022-07-12T07:43:48.002Z"
   },
   {
    "duration": 10,
    "start_time": "2022-07-12T07:43:48.019Z"
   },
   {
    "duration": 5,
    "start_time": "2022-07-12T07:43:48.031Z"
   },
   {
    "duration": 11,
    "start_time": "2022-07-12T07:43:48.038Z"
   },
   {
    "duration": 6,
    "start_time": "2022-07-12T07:43:48.050Z"
   },
   {
    "duration": 5,
    "start_time": "2022-07-12T07:43:48.057Z"
   },
   {
    "duration": 37,
    "start_time": "2022-07-12T07:43:48.064Z"
   },
   {
    "duration": 20,
    "start_time": "2022-07-12T07:43:48.102Z"
   },
   {
    "duration": 2,
    "start_time": "2022-07-12T07:43:48.124Z"
   },
   {
    "duration": 6,
    "start_time": "2022-07-12T07:43:48.128Z"
   },
   {
    "duration": 13,
    "start_time": "2022-07-12T07:43:48.136Z"
   },
   {
    "duration": 21,
    "start_time": "2022-07-12T07:45:26.639Z"
   },
   {
    "duration": 33,
    "start_time": "2022-07-12T07:45:37.295Z"
   },
   {
    "duration": 4,
    "start_time": "2022-07-12T07:45:52.595Z"
   },
   {
    "duration": 62,
    "start_time": "2022-07-12T08:01:31.456Z"
   },
   {
    "duration": 4,
    "start_time": "2022-07-12T08:01:40.702Z"
   },
   {
    "duration": 6,
    "start_time": "2022-07-12T08:02:01.954Z"
   },
   {
    "duration": 21,
    "start_time": "2022-07-12T08:10:25.480Z"
   },
   {
    "duration": 17,
    "start_time": "2022-07-12T08:10:30.065Z"
   },
   {
    "duration": 4,
    "start_time": "2022-07-12T08:11:09.519Z"
   },
   {
    "duration": 4,
    "start_time": "2022-07-12T08:11:13.270Z"
   },
   {
    "duration": 17,
    "start_time": "2022-07-12T08:11:21.213Z"
   },
   {
    "duration": 16,
    "start_time": "2022-07-12T08:12:04.542Z"
   },
   {
    "duration": 11,
    "start_time": "2022-07-12T08:12:35.365Z"
   },
   {
    "duration": 8,
    "start_time": "2022-07-12T08:18:16.405Z"
   },
   {
    "duration": 8,
    "start_time": "2022-07-12T08:18:26.517Z"
   },
   {
    "duration": 698,
    "start_time": "2022-07-12T08:20:03.651Z"
   },
   {
    "duration": 7,
    "start_time": "2022-07-12T08:20:23.083Z"
   },
   {
    "duration": 10,
    "start_time": "2022-07-12T08:21:07.685Z"
   },
   {
    "duration": 83,
    "start_time": "2022-07-12T08:42:57.265Z"
   },
   {
    "duration": 14,
    "start_time": "2022-07-12T08:53:41.847Z"
   },
   {
    "duration": 10,
    "start_time": "2022-07-12T08:53:54.222Z"
   },
   {
    "duration": 7,
    "start_time": "2022-07-12T08:55:21.116Z"
   },
   {
    "duration": 12,
    "start_time": "2022-07-12T08:55:39.207Z"
   },
   {
    "duration": 11,
    "start_time": "2022-07-12T09:31:28.602Z"
   },
   {
    "duration": 14,
    "start_time": "2022-07-12T09:31:54.076Z"
   },
   {
    "duration": 74,
    "start_time": "2022-07-12T10:01:45.325Z"
   },
   {
    "duration": 13,
    "start_time": "2022-07-12T10:02:17.823Z"
   },
   {
    "duration": 1914,
    "start_time": "2022-07-12T10:17:35.968Z"
   },
   {
    "duration": 861,
    "start_time": "2022-07-12T10:18:50.151Z"
   },
   {
    "duration": 448,
    "start_time": "2022-07-12T10:24:03.735Z"
   },
   {
    "duration": 32,
    "start_time": "2022-07-12T10:24:04.186Z"
   },
   {
    "duration": 16,
    "start_time": "2022-07-12T10:24:04.220Z"
   },
   {
    "duration": 14,
    "start_time": "2022-07-12T10:24:04.238Z"
   },
   {
    "duration": 47,
    "start_time": "2022-07-12T10:24:04.254Z"
   },
   {
    "duration": 4,
    "start_time": "2022-07-12T10:24:04.303Z"
   },
   {
    "duration": 14,
    "start_time": "2022-07-12T10:24:04.309Z"
   },
   {
    "duration": 6,
    "start_time": "2022-07-12T10:24:04.325Z"
   },
   {
    "duration": 10,
    "start_time": "2022-07-12T10:24:04.332Z"
   },
   {
    "duration": 4,
    "start_time": "2022-07-12T10:24:04.345Z"
   },
   {
    "duration": 62,
    "start_time": "2022-07-12T10:24:04.351Z"
   },
   {
    "duration": 9,
    "start_time": "2022-07-12T10:24:04.415Z"
   },
   {
    "duration": 28,
    "start_time": "2022-07-12T10:24:04.426Z"
   },
   {
    "duration": 32,
    "start_time": "2022-07-12T10:24:04.456Z"
   },
   {
    "duration": 22,
    "start_time": "2022-07-12T10:24:04.490Z"
   },
   {
    "duration": 12,
    "start_time": "2022-07-12T10:24:04.514Z"
   },
   {
    "duration": 8,
    "start_time": "2022-07-12T10:24:04.528Z"
   },
   {
    "duration": 28,
    "start_time": "2022-07-12T10:24:04.538Z"
   },
   {
    "duration": 17,
    "start_time": "2022-07-12T10:24:04.567Z"
   },
   {
    "duration": 18,
    "start_time": "2022-07-12T10:24:04.586Z"
   },
   {
    "duration": 15,
    "start_time": "2022-07-12T10:24:04.606Z"
   },
   {
    "duration": 18,
    "start_time": "2022-07-12T10:24:04.622Z"
   },
   {
    "duration": 12,
    "start_time": "2022-07-12T10:24:04.642Z"
   },
   {
    "duration": 1850,
    "start_time": "2022-07-12T10:24:04.656Z"
   },
   {
    "duration": 0,
    "start_time": "2022-07-12T10:24:06.508Z"
   },
   {
    "duration": 0,
    "start_time": "2022-07-12T10:24:06.509Z"
   },
   {
    "duration": 0,
    "start_time": "2022-07-12T10:24:06.510Z"
   },
   {
    "duration": 12,
    "start_time": "2022-07-12T10:24:41.915Z"
   },
   {
    "duration": 13,
    "start_time": "2022-07-12T10:25:22.535Z"
   },
   {
    "duration": 14,
    "start_time": "2022-07-12T10:26:38.879Z"
   },
   {
    "duration": 725,
    "start_time": "2022-07-12T10:27:15.948Z"
   },
   {
    "duration": 12,
    "start_time": "2022-07-12T10:27:24.380Z"
   },
   {
    "duration": 11,
    "start_time": "2022-07-12T10:27:33.120Z"
   },
   {
    "duration": 11,
    "start_time": "2022-07-12T10:27:39.707Z"
   },
   {
    "duration": 10,
    "start_time": "2022-07-12T10:30:32.359Z"
   },
   {
    "duration": 130,
    "start_time": "2022-07-12T10:31:34.806Z"
   },
   {
    "duration": 117,
    "start_time": "2022-07-12T10:32:23.709Z"
   },
   {
    "duration": 21,
    "start_time": "2022-07-12T10:36:57.587Z"
   },
   {
    "duration": 17,
    "start_time": "2022-07-12T10:37:09.012Z"
   },
   {
    "duration": 21,
    "start_time": "2022-07-12T10:39:12.699Z"
   },
   {
    "duration": 433,
    "start_time": "2022-07-12T10:39:19.610Z"
   },
   {
    "duration": 21,
    "start_time": "2022-07-12T10:39:20.045Z"
   },
   {
    "duration": 16,
    "start_time": "2022-07-12T10:39:20.067Z"
   },
   {
    "duration": 19,
    "start_time": "2022-07-12T10:39:20.085Z"
   },
   {
    "duration": 33,
    "start_time": "2022-07-12T10:39:20.106Z"
   },
   {
    "duration": 4,
    "start_time": "2022-07-12T10:39:20.140Z"
   },
   {
    "duration": 11,
    "start_time": "2022-07-12T10:39:20.146Z"
   },
   {
    "duration": 6,
    "start_time": "2022-07-12T10:39:20.158Z"
   },
   {
    "duration": 36,
    "start_time": "2022-07-12T10:39:20.165Z"
   },
   {
    "duration": 4,
    "start_time": "2022-07-12T10:39:20.203Z"
   },
   {
    "duration": 33,
    "start_time": "2022-07-12T10:39:20.209Z"
   },
   {
    "duration": 8,
    "start_time": "2022-07-12T10:39:20.244Z"
   },
   {
    "duration": 10,
    "start_time": "2022-07-12T10:39:20.253Z"
   },
   {
    "duration": 38,
    "start_time": "2022-07-12T10:39:20.264Z"
   },
   {
    "duration": 17,
    "start_time": "2022-07-12T10:39:20.304Z"
   },
   {
    "duration": 10,
    "start_time": "2022-07-12T10:39:20.323Z"
   },
   {
    "duration": 11,
    "start_time": "2022-07-12T10:39:20.335Z"
   },
   {
    "duration": 13,
    "start_time": "2022-07-12T10:39:20.348Z"
   },
   {
    "duration": 11,
    "start_time": "2022-07-12T10:39:20.363Z"
   },
   {
    "duration": 4,
    "start_time": "2022-07-12T10:39:20.376Z"
   },
   {
    "duration": 7,
    "start_time": "2022-07-12T10:39:20.401Z"
   },
   {
    "duration": 20,
    "start_time": "2022-07-12T10:39:20.410Z"
   },
   {
    "duration": 5,
    "start_time": "2022-07-12T10:39:20.432Z"
   },
   {
    "duration": 883,
    "start_time": "2022-07-12T10:39:20.439Z"
   },
   {
    "duration": 0,
    "start_time": "2022-07-12T10:39:21.324Z"
   },
   {
    "duration": 0,
    "start_time": "2022-07-12T10:39:21.325Z"
   },
   {
    "duration": 0,
    "start_time": "2022-07-12T10:39:21.326Z"
   },
   {
    "duration": 139,
    "start_time": "2022-07-12T10:39:31.468Z"
   },
   {
    "duration": 17,
    "start_time": "2022-07-12T10:40:05.358Z"
   },
   {
    "duration": 12,
    "start_time": "2022-07-12T12:29:17.922Z"
   },
   {
    "duration": 12,
    "start_time": "2022-07-12T12:38:36.520Z"
   },
   {
    "duration": 18,
    "start_time": "2022-07-12T12:40:39.304Z"
   },
   {
    "duration": 19,
    "start_time": "2022-07-12T12:49:32.114Z"
   },
   {
    "duration": 22,
    "start_time": "2022-07-12T12:49:56.187Z"
   },
   {
    "duration": 451,
    "start_time": "2022-07-12T12:50:01.514Z"
   },
   {
    "duration": 22,
    "start_time": "2022-07-12T12:50:01.969Z"
   },
   {
    "duration": 40,
    "start_time": "2022-07-12T12:50:01.993Z"
   },
   {
    "duration": 14,
    "start_time": "2022-07-12T12:50:02.036Z"
   },
   {
    "duration": 60,
    "start_time": "2022-07-12T12:50:02.054Z"
   },
   {
    "duration": 58,
    "start_time": "2022-07-12T12:50:02.116Z"
   },
   {
    "duration": 118,
    "start_time": "2022-07-12T12:50:02.176Z"
   },
   {
    "duration": 33,
    "start_time": "2022-07-12T12:50:02.295Z"
   },
   {
    "duration": 39,
    "start_time": "2022-07-12T12:50:02.330Z"
   },
   {
    "duration": 29,
    "start_time": "2022-07-12T12:50:02.373Z"
   },
   {
    "duration": 52,
    "start_time": "2022-07-12T12:50:02.404Z"
   },
   {
    "duration": 124,
    "start_time": "2022-07-12T12:50:02.458Z"
   },
   {
    "duration": 45,
    "start_time": "2022-07-12T12:50:02.584Z"
   },
   {
    "duration": 47,
    "start_time": "2022-07-12T12:50:02.631Z"
   },
   {
    "duration": 16,
    "start_time": "2022-07-12T12:50:02.680Z"
   },
   {
    "duration": 22,
    "start_time": "2022-07-12T12:50:02.698Z"
   },
   {
    "duration": 22,
    "start_time": "2022-07-12T12:50:02.722Z"
   },
   {
    "duration": 39,
    "start_time": "2022-07-12T12:50:02.746Z"
   },
   {
    "duration": 17,
    "start_time": "2022-07-12T12:50:02.787Z"
   },
   {
    "duration": 9,
    "start_time": "2022-07-12T12:50:02.805Z"
   },
   {
    "duration": 15,
    "start_time": "2022-07-12T12:50:02.815Z"
   },
   {
    "duration": 20,
    "start_time": "2022-07-12T12:50:02.832Z"
   },
   {
    "duration": 19,
    "start_time": "2022-07-12T12:50:02.853Z"
   },
   {
    "duration": 862,
    "start_time": "2022-07-12T12:50:02.874Z"
   },
   {
    "duration": 12,
    "start_time": "2022-07-12T12:50:03.737Z"
   },
   {
    "duration": 14,
    "start_time": "2022-07-12T12:50:03.751Z"
   },
   {
    "duration": 124,
    "start_time": "2022-07-12T12:50:03.767Z"
   },
   {
    "duration": 0,
    "start_time": "2022-07-12T12:50:03.893Z"
   },
   {
    "duration": 0,
    "start_time": "2022-07-12T12:50:03.900Z"
   },
   {
    "duration": 51,
    "start_time": "2022-07-12T12:57:30.810Z"
   },
   {
    "duration": 9,
    "start_time": "2022-07-12T12:57:54.835Z"
   },
   {
    "duration": 20,
    "start_time": "2022-07-12T12:58:13.508Z"
   },
   {
    "duration": 19,
    "start_time": "2022-07-12T12:59:50.168Z"
   },
   {
    "duration": 135,
    "start_time": "2022-07-12T13:00:09.513Z"
   },
   {
    "duration": 17,
    "start_time": "2022-07-12T13:01:30.637Z"
   },
   {
    "duration": 13,
    "start_time": "2022-07-12T13:03:02.405Z"
   },
   {
    "duration": 15,
    "start_time": "2022-07-12T13:03:31.844Z"
   },
   {
    "duration": 16,
    "start_time": "2022-07-12T13:04:03.159Z"
   },
   {
    "duration": 17,
    "start_time": "2022-07-12T13:04:16.024Z"
   },
   {
    "duration": 120,
    "start_time": "2022-07-12T13:05:00.717Z"
   },
   {
    "duration": 11,
    "start_time": "2022-07-12T13:06:26.892Z"
   },
   {
    "duration": 118,
    "start_time": "2022-07-12T13:06:28.928Z"
   },
   {
    "duration": 16,
    "start_time": "2022-07-12T13:06:42.202Z"
   },
   {
    "duration": 120,
    "start_time": "2022-07-12T13:06:48.058Z"
   },
   {
    "duration": 1106,
    "start_time": "2022-07-12T13:16:44.417Z"
   },
   {
    "duration": 1380,
    "start_time": "2022-07-12T13:17:02.891Z"
   },
   {
    "duration": 12,
    "start_time": "2022-07-12T13:17:21.596Z"
   },
   {
    "duration": 15,
    "start_time": "2022-07-12T13:18:03.464Z"
   },
   {
    "duration": 14,
    "start_time": "2022-07-12T13:18:24.455Z"
   },
   {
    "duration": 122,
    "start_time": "2022-07-12T13:19:13.037Z"
   },
   {
    "duration": 126,
    "start_time": "2022-07-12T13:20:03.766Z"
   },
   {
    "duration": 425,
    "start_time": "2022-07-12T13:22:03.751Z"
   },
   {
    "duration": 22,
    "start_time": "2022-07-12T13:22:04.178Z"
   },
   {
    "duration": 14,
    "start_time": "2022-07-12T13:22:04.201Z"
   },
   {
    "duration": 9,
    "start_time": "2022-07-12T13:22:04.217Z"
   },
   {
    "duration": 30,
    "start_time": "2022-07-12T13:22:04.227Z"
   },
   {
    "duration": 3,
    "start_time": "2022-07-12T13:22:04.259Z"
   },
   {
    "duration": 13,
    "start_time": "2022-07-12T13:22:04.263Z"
   },
   {
    "duration": 25,
    "start_time": "2022-07-12T13:22:04.277Z"
   },
   {
    "duration": 15,
    "start_time": "2022-07-12T13:22:04.304Z"
   },
   {
    "duration": 10,
    "start_time": "2022-07-12T13:22:04.322Z"
   },
   {
    "duration": 49,
    "start_time": "2022-07-12T13:22:04.333Z"
   },
   {
    "duration": 8,
    "start_time": "2022-07-12T13:22:04.384Z"
   },
   {
    "duration": 11,
    "start_time": "2022-07-12T13:22:04.394Z"
   },
   {
    "duration": 39,
    "start_time": "2022-07-12T13:22:04.407Z"
   },
   {
    "duration": 16,
    "start_time": "2022-07-12T13:22:04.448Z"
   },
   {
    "duration": 15,
    "start_time": "2022-07-12T13:22:04.466Z"
   },
   {
    "duration": 20,
    "start_time": "2022-07-12T13:22:04.482Z"
   },
   {
    "duration": 24,
    "start_time": "2022-07-12T13:22:04.504Z"
   },
   {
    "duration": 19,
    "start_time": "2022-07-12T13:22:04.530Z"
   },
   {
    "duration": 18,
    "start_time": "2022-07-12T13:22:04.551Z"
   },
   {
    "duration": 41,
    "start_time": "2022-07-12T13:22:04.571Z"
   },
   {
    "duration": 31,
    "start_time": "2022-07-12T13:22:04.613Z"
   },
   {
    "duration": 13,
    "start_time": "2022-07-12T13:22:04.646Z"
   },
   {
    "duration": 940,
    "start_time": "2022-07-12T13:22:04.661Z"
   },
   {
    "duration": 12,
    "start_time": "2022-07-12T13:22:05.603Z"
   },
   {
    "duration": 28,
    "start_time": "2022-07-12T13:22:05.617Z"
   },
   {
    "duration": 128,
    "start_time": "2022-07-12T13:22:05.647Z"
   },
   {
    "duration": 2,
    "start_time": "2022-07-12T13:22:05.778Z"
   },
   {
    "duration": 24,
    "start_time": "2022-07-12T13:22:05.782Z"
   },
   {
    "duration": 10,
    "start_time": "2022-07-12T13:28:59.903Z"
   },
   {
    "duration": 16,
    "start_time": "2022-07-12T13:29:09.099Z"
   },
   {
    "duration": 114,
    "start_time": "2022-07-12T13:29:19.064Z"
   },
   {
    "duration": 15,
    "start_time": "2022-07-12T13:31:21.572Z"
   },
   {
    "duration": 97,
    "start_time": "2022-07-12T13:42:28.695Z"
   },
   {
    "duration": 69,
    "start_time": "2022-07-12T13:47:45.132Z"
   },
   {
    "duration": 4,
    "start_time": "2022-07-12T13:47:59.922Z"
   },
   {
    "duration": 11,
    "start_time": "2022-07-12T13:48:22.618Z"
   },
   {
    "duration": 7,
    "start_time": "2022-07-12T13:49:00.793Z"
   },
   {
    "duration": 112,
    "start_time": "2022-07-12T13:49:32.528Z"
   },
   {
    "duration": 9,
    "start_time": "2022-07-12T14:23:24.108Z"
   },
   {
    "duration": 9,
    "start_time": "2022-07-12T14:23:49.034Z"
   },
   {
    "duration": 122,
    "start_time": "2022-07-12T14:24:00.595Z"
   },
   {
    "duration": 12,
    "start_time": "2022-07-12T14:41:51.024Z"
   },
   {
    "duration": 15,
    "start_time": "2022-07-12T15:01:23.295Z"
   },
   {
    "duration": 13,
    "start_time": "2022-07-12T15:01:52.094Z"
   },
   {
    "duration": 19,
    "start_time": "2022-07-12T15:04:57.479Z"
   },
   {
    "duration": 15,
    "start_time": "2022-07-12T15:06:26.620Z"
   },
   {
    "duration": 13,
    "start_time": "2022-07-12T15:06:33.043Z"
   },
   {
    "duration": 79,
    "start_time": "2022-07-12T15:07:44.545Z"
   },
   {
    "duration": 50,
    "start_time": "2022-07-12T15:07:50.793Z"
   },
   {
    "duration": 12,
    "start_time": "2022-07-12T15:07:57.725Z"
   },
   {
    "duration": 20,
    "start_time": "2022-07-12T15:08:18.613Z"
   },
   {
    "duration": 23,
    "start_time": "2022-07-12T15:10:45.982Z"
   },
   {
    "duration": 12,
    "start_time": "2022-07-12T15:10:59.098Z"
   },
   {
    "duration": 15,
    "start_time": "2022-07-12T15:12:40.843Z"
   },
   {
    "duration": 24,
    "start_time": "2022-07-12T15:12:47.844Z"
   },
   {
    "duration": 19,
    "start_time": "2022-07-12T15:15:46.080Z"
   },
   {
    "duration": 17,
    "start_time": "2022-07-12T15:18:15.300Z"
   },
   {
    "duration": 121,
    "start_time": "2022-07-12T15:20:42.656Z"
   },
   {
    "duration": 49,
    "start_time": "2022-07-12T15:21:10.863Z"
   },
   {
    "duration": 118,
    "start_time": "2022-07-12T15:21:19.416Z"
   },
   {
    "duration": 72,
    "start_time": "2022-07-13T09:54:14.666Z"
   },
   {
    "duration": 6,
    "start_time": "2022-07-13T09:55:31.764Z"
   },
   {
    "duration": 9,
    "start_time": "2022-07-13T09:55:51.873Z"
   },
   {
    "duration": 484,
    "start_time": "2022-07-13T09:55:56.590Z"
   },
   {
    "duration": 26,
    "start_time": "2022-07-13T09:55:57.084Z"
   },
   {
    "duration": 16,
    "start_time": "2022-07-13T09:55:57.112Z"
   },
   {
    "duration": 10,
    "start_time": "2022-07-13T09:55:57.130Z"
   },
   {
    "duration": 59,
    "start_time": "2022-07-13T09:55:57.142Z"
   },
   {
    "duration": 4,
    "start_time": "2022-07-13T09:55:57.203Z"
   },
   {
    "duration": 17,
    "start_time": "2022-07-13T09:55:57.209Z"
   },
   {
    "duration": 5,
    "start_time": "2022-07-13T09:55:57.228Z"
   },
   {
    "duration": 17,
    "start_time": "2022-07-13T09:55:57.235Z"
   },
   {
    "duration": 6,
    "start_time": "2022-07-13T09:55:57.264Z"
   },
   {
    "duration": 37,
    "start_time": "2022-07-13T09:55:57.272Z"
   },
   {
    "duration": 9,
    "start_time": "2022-07-13T09:55:57.311Z"
   },
   {
    "duration": 6,
    "start_time": "2022-07-13T09:55:57.322Z"
   },
   {
    "duration": 41,
    "start_time": "2022-07-13T09:55:57.329Z"
   },
   {
    "duration": 18,
    "start_time": "2022-07-13T09:55:57.372Z"
   },
   {
    "duration": 12,
    "start_time": "2022-07-13T09:55:57.392Z"
   },
   {
    "duration": 12,
    "start_time": "2022-07-13T09:55:57.406Z"
   },
   {
    "duration": 39,
    "start_time": "2022-07-13T09:55:57.419Z"
   },
   {
    "duration": 16,
    "start_time": "2022-07-13T09:55:57.460Z"
   },
   {
    "duration": 4,
    "start_time": "2022-07-13T09:55:57.478Z"
   },
   {
    "duration": 16,
    "start_time": "2022-07-13T09:55:57.484Z"
   },
   {
    "duration": 14,
    "start_time": "2022-07-13T09:55:57.502Z"
   },
   {
    "duration": 15,
    "start_time": "2022-07-13T09:55:57.517Z"
   },
   {
    "duration": 1034,
    "start_time": "2022-07-13T09:55:57.533Z"
   },
   {
    "duration": 16,
    "start_time": "2022-07-13T09:55:58.569Z"
   },
   {
    "duration": 13,
    "start_time": "2022-07-13T09:55:58.587Z"
   },
   {
    "duration": 9,
    "start_time": "2022-07-13T09:55:58.601Z"
   },
   {
    "duration": 150,
    "start_time": "2022-07-13T09:55:58.614Z"
   },
   {
    "duration": 15,
    "start_time": "2022-07-13T09:55:58.766Z"
   },
   {
    "duration": 13,
    "start_time": "2022-07-13T09:55:58.783Z"
   },
   {
    "duration": 6,
    "start_time": "2022-07-13T09:55:58.797Z"
   },
   {
    "duration": 14,
    "start_time": "2022-07-13T09:57:02.689Z"
   },
   {
    "duration": 11,
    "start_time": "2022-07-13T10:01:21.614Z"
   },
   {
    "duration": 132,
    "start_time": "2022-07-13T10:05:30.380Z"
   },
   {
    "duration": 118,
    "start_time": "2022-07-13T10:08:02.561Z"
   },
   {
    "duration": 13,
    "start_time": "2022-07-13T10:09:28.662Z"
   },
   {
    "duration": 15,
    "start_time": "2022-07-13T10:09:36.206Z"
   },
   {
    "duration": 12,
    "start_time": "2022-07-13T10:09:38.285Z"
   },
   {
    "duration": 121,
    "start_time": "2022-07-13T10:13:18.850Z"
   },
   {
    "duration": 13,
    "start_time": "2022-07-13T10:14:33.061Z"
   },
   {
    "duration": 15,
    "start_time": "2022-07-13T11:08:38.983Z"
   },
   {
    "duration": 13,
    "start_time": "2022-07-13T11:18:08.217Z"
   },
   {
    "duration": 12,
    "start_time": "2022-07-13T11:30:45.215Z"
   },
   {
    "duration": 129,
    "start_time": "2022-07-13T11:34:20.613Z"
   },
   {
    "duration": 117,
    "start_time": "2022-07-13T13:36:28.685Z"
   },
   {
    "duration": 11,
    "start_time": "2022-07-13T13:37:50.491Z"
   },
   {
    "duration": 15,
    "start_time": "2022-07-13T13:37:54.891Z"
   },
   {
    "duration": 14,
    "start_time": "2022-07-13T14:56:47.179Z"
   },
   {
    "duration": 15,
    "start_time": "2022-07-13T14:58:11.057Z"
   },
   {
    "duration": 16,
    "start_time": "2022-07-13T14:58:50.732Z"
   },
   {
    "duration": 11,
    "start_time": "2022-07-13T14:59:58.162Z"
   },
   {
    "duration": 12,
    "start_time": "2022-07-13T15:00:06.887Z"
   },
   {
    "duration": 12,
    "start_time": "2022-07-13T15:00:41.734Z"
   },
   {
    "duration": 118,
    "start_time": "2022-07-13T15:03:12.303Z"
   },
   {
    "duration": 12,
    "start_time": "2022-07-13T15:03:17.222Z"
   },
   {
    "duration": 482,
    "start_time": "2022-07-13T15:06:47.367Z"
   },
   {
    "duration": 22,
    "start_time": "2022-07-13T15:06:47.851Z"
   },
   {
    "duration": 23,
    "start_time": "2022-07-13T15:06:47.875Z"
   },
   {
    "duration": 9,
    "start_time": "2022-07-13T15:06:47.900Z"
   },
   {
    "duration": 37,
    "start_time": "2022-07-13T15:06:47.911Z"
   },
   {
    "duration": 3,
    "start_time": "2022-07-13T15:06:47.950Z"
   },
   {
    "duration": 10,
    "start_time": "2022-07-13T15:06:47.955Z"
   },
   {
    "duration": 7,
    "start_time": "2022-07-13T15:06:47.966Z"
   },
   {
    "duration": 7,
    "start_time": "2022-07-13T15:06:47.975Z"
   },
   {
    "duration": 4,
    "start_time": "2022-07-13T15:06:47.986Z"
   },
   {
    "duration": 35,
    "start_time": "2022-07-13T15:06:47.992Z"
   },
   {
    "duration": 10,
    "start_time": "2022-07-13T15:06:48.028Z"
   },
   {
    "duration": 4,
    "start_time": "2022-07-13T15:06:48.039Z"
   },
   {
    "duration": 20,
    "start_time": "2022-07-13T15:06:48.044Z"
   },
   {
    "duration": 15,
    "start_time": "2022-07-13T15:06:48.066Z"
   },
   {
    "duration": 11,
    "start_time": "2022-07-13T15:06:48.082Z"
   },
   {
    "duration": 7,
    "start_time": "2022-07-13T15:06:48.094Z"
   },
   {
    "duration": 14,
    "start_time": "2022-07-13T15:06:48.103Z"
   },
   {
    "duration": 14,
    "start_time": "2022-07-13T15:06:48.119Z"
   },
   {
    "duration": 33,
    "start_time": "2022-07-13T15:06:48.134Z"
   },
   {
    "duration": 16,
    "start_time": "2022-07-13T15:06:48.169Z"
   },
   {
    "duration": 14,
    "start_time": "2022-07-13T15:06:48.186Z"
   },
   {
    "duration": 10,
    "start_time": "2022-07-13T15:06:48.201Z"
   },
   {
    "duration": 931,
    "start_time": "2022-07-13T15:06:48.213Z"
   },
   {
    "duration": 22,
    "start_time": "2022-07-13T15:06:49.146Z"
   },
   {
    "duration": 14,
    "start_time": "2022-07-13T15:06:49.170Z"
   },
   {
    "duration": 15,
    "start_time": "2022-07-13T15:06:49.185Z"
   },
   {
    "duration": 133,
    "start_time": "2022-07-13T15:06:49.203Z"
   },
   {
    "duration": 13,
    "start_time": "2022-07-13T15:06:49.338Z"
   },
   {
    "duration": 14,
    "start_time": "2022-07-13T15:06:49.364Z"
   },
   {
    "duration": 15,
    "start_time": "2022-07-13T15:06:49.379Z"
   },
   {
    "duration": 127,
    "start_time": "2022-07-13T15:06:49.396Z"
   },
   {
    "duration": 13,
    "start_time": "2022-07-13T15:06:49.524Z"
   },
   {
    "duration": 26,
    "start_time": "2022-07-13T15:06:49.539Z"
   },
   {
    "duration": 15,
    "start_time": "2022-07-13T15:06:49.566Z"
   },
   {
    "duration": 126,
    "start_time": "2022-07-13T15:06:49.582Z"
   },
   {
    "duration": 12,
    "start_time": "2022-07-13T15:12:20.540Z"
   },
   {
    "duration": 116,
    "start_time": "2022-07-13T15:12:35.778Z"
   },
   {
    "duration": 11,
    "start_time": "2022-07-13T15:15:58.690Z"
   },
   {
    "duration": 12,
    "start_time": "2022-07-13T15:16:22.890Z"
   },
   {
    "duration": 441,
    "start_time": "2022-07-13T15:16:42.997Z"
   },
   {
    "duration": 21,
    "start_time": "2022-07-13T15:16:43.440Z"
   },
   {
    "duration": 14,
    "start_time": "2022-07-13T15:16:43.463Z"
   },
   {
    "duration": 10,
    "start_time": "2022-07-13T15:16:43.479Z"
   },
   {
    "duration": 33,
    "start_time": "2022-07-13T15:16:43.492Z"
   },
   {
    "duration": 3,
    "start_time": "2022-07-13T15:16:43.527Z"
   },
   {
    "duration": 33,
    "start_time": "2022-07-13T15:16:43.531Z"
   },
   {
    "duration": 4,
    "start_time": "2022-07-13T15:16:43.566Z"
   },
   {
    "duration": 10,
    "start_time": "2022-07-13T15:16:43.572Z"
   },
   {
    "duration": 4,
    "start_time": "2022-07-13T15:16:43.584Z"
   },
   {
    "duration": 38,
    "start_time": "2022-07-13T15:16:43.590Z"
   },
   {
    "duration": 10,
    "start_time": "2022-07-13T15:16:43.630Z"
   },
   {
    "duration": 24,
    "start_time": "2022-07-13T15:16:43.642Z"
   },
   {
    "duration": 18,
    "start_time": "2022-07-13T15:16:43.670Z"
   },
   {
    "duration": 16,
    "start_time": "2022-07-13T15:16:43.689Z"
   },
   {
    "duration": 10,
    "start_time": "2022-07-13T15:16:43.706Z"
   },
   {
    "duration": 9,
    "start_time": "2022-07-13T15:16:43.718Z"
   },
   {
    "duration": 13,
    "start_time": "2022-07-13T15:16:43.728Z"
   },
   {
    "duration": 6,
    "start_time": "2022-07-13T15:16:43.763Z"
   },
   {
    "duration": 5,
    "start_time": "2022-07-13T15:16:43.771Z"
   },
   {
    "duration": 11,
    "start_time": "2022-07-13T15:16:43.777Z"
   },
   {
    "duration": 11,
    "start_time": "2022-07-13T15:16:43.789Z"
   },
   {
    "duration": 12,
    "start_time": "2022-07-13T15:16:43.801Z"
   },
   {
    "duration": 932,
    "start_time": "2022-07-13T15:16:43.814Z"
   },
   {
    "duration": 19,
    "start_time": "2022-07-13T15:16:44.748Z"
   },
   {
    "duration": 15,
    "start_time": "2022-07-13T15:16:44.769Z"
   },
   {
    "duration": 12,
    "start_time": "2022-07-13T15:16:44.785Z"
   },
   {
    "duration": 146,
    "start_time": "2022-07-13T15:16:44.799Z"
   },
   {
    "duration": 23,
    "start_time": "2022-07-13T15:16:44.947Z"
   },
   {
    "duration": 14,
    "start_time": "2022-07-13T15:16:44.971Z"
   },
   {
    "duration": 17,
    "start_time": "2022-07-13T15:16:44.986Z"
   },
   {
    "duration": 131,
    "start_time": "2022-07-13T15:16:45.004Z"
   },
   {
    "duration": 27,
    "start_time": "2022-07-13T15:16:45.137Z"
   },
   {
    "duration": 14,
    "start_time": "2022-07-13T15:16:45.166Z"
   },
   {
    "duration": 16,
    "start_time": "2022-07-13T15:16:45.182Z"
   },
   {
    "duration": 133,
    "start_time": "2022-07-13T15:16:45.199Z"
   },
   {
    "duration": 49,
    "start_time": "2022-07-14T11:21:08.647Z"
   },
   {
    "duration": 7,
    "start_time": "2022-07-14T11:21:39.291Z"
   },
   {
    "duration": 7,
    "start_time": "2022-07-14T11:21:47.099Z"
   },
   {
    "duration": 655,
    "start_time": "2022-07-14T11:21:53.882Z"
   },
   {
    "duration": 24,
    "start_time": "2022-07-14T11:21:54.539Z"
   },
   {
    "duration": 14,
    "start_time": "2022-07-14T11:21:54.565Z"
   },
   {
    "duration": 10,
    "start_time": "2022-07-14T11:21:54.582Z"
   },
   {
    "duration": 55,
    "start_time": "2022-07-14T11:21:54.594Z"
   },
   {
    "duration": 3,
    "start_time": "2022-07-14T11:21:54.651Z"
   },
   {
    "duration": 10,
    "start_time": "2022-07-14T11:21:54.656Z"
   },
   {
    "duration": 4,
    "start_time": "2022-07-14T11:21:54.668Z"
   },
   {
    "duration": 11,
    "start_time": "2022-07-14T11:21:54.673Z"
   },
   {
    "duration": 5,
    "start_time": "2022-07-14T11:21:54.686Z"
   },
   {
    "duration": 38,
    "start_time": "2022-07-14T11:21:54.724Z"
   },
   {
    "duration": 10,
    "start_time": "2022-07-14T11:21:54.763Z"
   },
   {
    "duration": 4,
    "start_time": "2022-07-14T11:21:54.774Z"
   },
   {
    "duration": 49,
    "start_time": "2022-07-14T11:21:54.780Z"
   },
   {
    "duration": 18,
    "start_time": "2022-07-14T11:21:54.830Z"
   },
   {
    "duration": 11,
    "start_time": "2022-07-14T11:21:54.849Z"
   },
   {
    "duration": 7,
    "start_time": "2022-07-14T11:21:54.861Z"
   },
   {
    "duration": 13,
    "start_time": "2022-07-14T11:21:54.869Z"
   },
   {
    "duration": 8,
    "start_time": "2022-07-14T11:21:54.884Z"
   },
   {
    "duration": 32,
    "start_time": "2022-07-14T11:21:54.893Z"
   },
   {
    "duration": 22,
    "start_time": "2022-07-14T11:21:54.927Z"
   },
   {
    "duration": 14,
    "start_time": "2022-07-14T11:21:54.951Z"
   },
   {
    "duration": 14,
    "start_time": "2022-07-14T11:21:54.967Z"
   },
   {
    "duration": 1131,
    "start_time": "2022-07-14T11:21:54.983Z"
   },
   {
    "duration": 20,
    "start_time": "2022-07-14T11:21:56.115Z"
   },
   {
    "duration": 14,
    "start_time": "2022-07-14T11:21:56.137Z"
   },
   {
    "duration": 13,
    "start_time": "2022-07-14T11:21:56.153Z"
   },
   {
    "duration": 162,
    "start_time": "2022-07-14T11:21:56.169Z"
   },
   {
    "duration": 21,
    "start_time": "2022-07-14T11:21:56.334Z"
   },
   {
    "duration": 21,
    "start_time": "2022-07-14T11:21:56.358Z"
   },
   {
    "duration": 48,
    "start_time": "2022-07-14T11:21:56.381Z"
   },
   {
    "duration": 156,
    "start_time": "2022-07-14T11:21:56.431Z"
   },
   {
    "duration": 15,
    "start_time": "2022-07-14T11:21:56.588Z"
   },
   {
    "duration": 39,
    "start_time": "2022-07-14T11:21:56.604Z"
   },
   {
    "duration": 18,
    "start_time": "2022-07-14T11:21:56.645Z"
   },
   {
    "duration": 164,
    "start_time": "2022-07-14T11:21:56.665Z"
   },
   {
    "duration": 490,
    "start_time": "2022-07-14T11:52:02.319Z"
   },
   {
    "duration": 25,
    "start_time": "2022-07-14T11:52:02.811Z"
   },
   {
    "duration": 15,
    "start_time": "2022-07-14T11:52:02.838Z"
   },
   {
    "duration": 10,
    "start_time": "2022-07-14T11:52:02.856Z"
   },
   {
    "duration": 57,
    "start_time": "2022-07-14T11:52:02.868Z"
   },
   {
    "duration": 4,
    "start_time": "2022-07-14T11:52:02.928Z"
   },
   {
    "duration": 21,
    "start_time": "2022-07-14T11:52:02.934Z"
   },
   {
    "duration": 6,
    "start_time": "2022-07-14T11:52:02.957Z"
   },
   {
    "duration": 10,
    "start_time": "2022-07-14T11:52:02.965Z"
   },
   {
    "duration": 8,
    "start_time": "2022-07-14T11:52:02.979Z"
   },
   {
    "duration": 54,
    "start_time": "2022-07-14T11:52:02.988Z"
   },
   {
    "duration": 11,
    "start_time": "2022-07-14T11:52:03.044Z"
   },
   {
    "duration": 7,
    "start_time": "2022-07-14T11:52:03.057Z"
   },
   {
    "duration": 36,
    "start_time": "2022-07-14T11:52:03.065Z"
   },
   {
    "duration": 27,
    "start_time": "2022-07-14T11:52:03.103Z"
   },
   {
    "duration": 12,
    "start_time": "2022-07-14T11:52:03.132Z"
   },
   {
    "duration": 10,
    "start_time": "2022-07-14T11:52:03.146Z"
   },
   {
    "duration": 22,
    "start_time": "2022-07-14T11:52:03.158Z"
   },
   {
    "duration": 9,
    "start_time": "2022-07-14T11:52:03.181Z"
   },
   {
    "duration": 7,
    "start_time": "2022-07-14T11:52:03.192Z"
   },
   {
    "duration": 18,
    "start_time": "2022-07-14T11:52:03.200Z"
   },
   {
    "duration": 20,
    "start_time": "2022-07-14T11:52:03.222Z"
   },
   {
    "duration": 12,
    "start_time": "2022-07-14T11:52:03.244Z"
   },
   {
    "duration": 833,
    "start_time": "2022-07-14T11:52:03.258Z"
   },
   {
    "duration": 14,
    "start_time": "2022-07-14T11:52:04.093Z"
   },
   {
    "duration": 25,
    "start_time": "2022-07-14T11:52:04.109Z"
   },
   {
    "duration": 22,
    "start_time": "2022-07-14T11:52:04.136Z"
   },
   {
    "duration": 134,
    "start_time": "2022-07-14T11:52:04.161Z"
   },
   {
    "duration": 25,
    "start_time": "2022-07-14T11:52:04.298Z"
   },
   {
    "duration": 16,
    "start_time": "2022-07-14T11:52:04.325Z"
   },
   {
    "duration": 16,
    "start_time": "2022-07-14T11:52:04.342Z"
   },
   {
    "duration": 140,
    "start_time": "2022-07-14T11:52:04.360Z"
   },
   {
    "duration": 26,
    "start_time": "2022-07-14T11:52:04.502Z"
   },
   {
    "duration": 18,
    "start_time": "2022-07-14T11:52:04.530Z"
   },
   {
    "duration": 24,
    "start_time": "2022-07-14T11:52:04.550Z"
   },
   {
    "duration": 157,
    "start_time": "2022-07-14T11:52:04.576Z"
   },
   {
    "duration": 112,
    "start_time": "2022-07-14T14:32:21.261Z"
   },
   {
    "duration": 725,
    "start_time": "2023-07-09T16:57:34.902Z"
   },
   {
    "duration": 20,
    "start_time": "2023-07-09T16:57:35.628Z"
   },
   {
    "duration": 64,
    "start_time": "2023-07-09T16:57:35.650Z"
   },
   {
    "duration": 9,
    "start_time": "2023-07-09T16:57:35.716Z"
   },
   {
    "duration": 32,
    "start_time": "2023-07-09T16:57:35.727Z"
   },
   {
    "duration": 3,
    "start_time": "2023-07-09T16:57:35.760Z"
   },
   {
    "duration": 9,
    "start_time": "2023-07-09T16:57:35.764Z"
   },
   {
    "duration": 6,
    "start_time": "2023-07-09T16:57:35.775Z"
   },
   {
    "duration": 11,
    "start_time": "2023-07-09T16:57:35.782Z"
   },
   {
    "duration": 9,
    "start_time": "2023-07-09T16:57:35.795Z"
   },
   {
    "duration": 39,
    "start_time": "2023-07-09T16:57:35.806Z"
   },
   {
    "duration": 8,
    "start_time": "2023-07-09T16:57:35.847Z"
   },
   {
    "duration": 9,
    "start_time": "2023-07-09T16:57:35.856Z"
   },
   {
    "duration": 31,
    "start_time": "2023-07-09T16:57:35.867Z"
   },
   {
    "duration": 14,
    "start_time": "2023-07-09T16:57:35.900Z"
   },
   {
    "duration": 20,
    "start_time": "2023-07-09T16:57:35.916Z"
   },
   {
    "duration": 7,
    "start_time": "2023-07-09T16:57:35.938Z"
   },
   {
    "duration": 11,
    "start_time": "2023-07-09T16:57:35.946Z"
   },
   {
    "duration": 16,
    "start_time": "2023-07-09T16:57:35.959Z"
   },
   {
    "duration": 12,
    "start_time": "2023-07-09T16:57:35.976Z"
   },
   {
    "duration": 21,
    "start_time": "2023-07-09T16:57:35.989Z"
   },
   {
    "duration": 16,
    "start_time": "2023-07-09T16:57:36.011Z"
   },
   {
    "duration": 10,
    "start_time": "2023-07-09T16:57:36.028Z"
   },
   {
    "duration": 964,
    "start_time": "2023-07-09T16:57:36.040Z"
   },
   {
    "duration": 13,
    "start_time": "2023-07-09T16:57:37.006Z"
   },
   {
    "duration": 21,
    "start_time": "2023-07-09T16:57:37.021Z"
   },
   {
    "duration": 25,
    "start_time": "2023-07-09T16:57:37.043Z"
   },
   {
    "duration": 117,
    "start_time": "2023-07-09T16:57:37.070Z"
   },
   {
    "duration": 12,
    "start_time": "2023-07-09T16:57:37.189Z"
   },
   {
    "duration": 12,
    "start_time": "2023-07-09T16:57:37.202Z"
   },
   {
    "duration": 10,
    "start_time": "2023-07-09T16:57:37.232Z"
   },
   {
    "duration": 115,
    "start_time": "2023-07-09T16:57:37.243Z"
   },
   {
    "duration": 13,
    "start_time": "2023-07-09T16:57:37.360Z"
   },
   {
    "duration": 12,
    "start_time": "2023-07-09T16:57:37.374Z"
   },
   {
    "duration": 22,
    "start_time": "2023-07-09T16:57:37.387Z"
   },
   {
    "duration": 106,
    "start_time": "2023-07-09T16:57:37.410Z"
   },
   {
    "duration": 476,
    "start_time": "2023-07-09T16:58:10.754Z"
   },
   {
    "duration": 23,
    "start_time": "2023-07-09T16:58:11.238Z"
   },
   {
    "duration": 13,
    "start_time": "2023-07-09T16:58:11.263Z"
   },
   {
    "duration": 11,
    "start_time": "2023-07-09T16:58:11.278Z"
   },
   {
    "duration": 58,
    "start_time": "2023-07-09T16:58:11.290Z"
   },
   {
    "duration": 3,
    "start_time": "2023-07-09T16:58:11.350Z"
   },
   {
    "duration": 12,
    "start_time": "2023-07-09T16:58:11.354Z"
   },
   {
    "duration": 5,
    "start_time": "2023-07-09T16:58:11.368Z"
   },
   {
    "duration": 8,
    "start_time": "2023-07-09T16:58:11.374Z"
   },
   {
    "duration": 4,
    "start_time": "2023-07-09T16:58:11.385Z"
   },
   {
    "duration": 54,
    "start_time": "2023-07-09T16:58:11.390Z"
   },
   {
    "duration": 9,
    "start_time": "2023-07-09T16:58:11.446Z"
   },
   {
    "duration": 6,
    "start_time": "2023-07-09T16:58:11.457Z"
   },
   {
    "duration": 20,
    "start_time": "2023-07-09T16:58:11.464Z"
   },
   {
    "duration": 14,
    "start_time": "2023-07-09T16:58:11.486Z"
   },
   {
    "duration": 11,
    "start_time": "2023-07-09T16:58:11.501Z"
   },
   {
    "duration": 24,
    "start_time": "2023-07-09T16:58:11.513Z"
   },
   {
    "duration": 17,
    "start_time": "2023-07-09T16:58:11.539Z"
   },
   {
    "duration": 5,
    "start_time": "2023-07-09T16:58:11.557Z"
   },
   {
    "duration": 3,
    "start_time": "2023-07-09T16:58:11.563Z"
   },
   {
    "duration": 11,
    "start_time": "2023-07-09T16:58:11.568Z"
   },
   {
    "duration": 12,
    "start_time": "2023-07-09T16:58:11.580Z"
   },
   {
    "duration": 10,
    "start_time": "2023-07-09T16:58:11.593Z"
   },
   {
    "duration": 890,
    "start_time": "2023-07-09T16:58:11.604Z"
   },
   {
    "duration": 14,
    "start_time": "2023-07-09T16:58:12.495Z"
   },
   {
    "duration": 29,
    "start_time": "2023-07-09T16:58:12.510Z"
   },
   {
    "duration": 13,
    "start_time": "2023-07-09T16:58:12.541Z"
   },
   {
    "duration": 134,
    "start_time": "2023-07-09T16:58:12.558Z"
   },
   {
    "duration": 12,
    "start_time": "2023-07-09T16:58:12.694Z"
   },
   {
    "duration": 28,
    "start_time": "2023-07-09T16:58:12.708Z"
   },
   {
    "duration": 13,
    "start_time": "2023-07-09T16:58:12.742Z"
   },
   {
    "duration": 118,
    "start_time": "2023-07-09T16:58:12.757Z"
   },
   {
    "duration": 13,
    "start_time": "2023-07-09T16:58:12.876Z"
   },
   {
    "duration": 13,
    "start_time": "2023-07-09T16:58:12.890Z"
   },
   {
    "duration": 40,
    "start_time": "2023-07-09T16:58:12.905Z"
   },
   {
    "duration": 132,
    "start_time": "2023-07-09T16:58:12.947Z"
   },
   {
    "duration": 484,
    "start_time": "2023-07-09T16:59:10.245Z"
   },
   {
    "duration": 27,
    "start_time": "2023-07-09T16:59:10.730Z"
   },
   {
    "duration": 13,
    "start_time": "2023-07-09T16:59:10.759Z"
   },
   {
    "duration": 9,
    "start_time": "2023-07-09T16:59:10.773Z"
   },
   {
    "duration": 52,
    "start_time": "2023-07-09T16:59:10.784Z"
   },
   {
    "duration": 5,
    "start_time": "2023-07-09T16:59:10.838Z"
   },
   {
    "duration": 14,
    "start_time": "2023-07-09T16:59:10.845Z"
   },
   {
    "duration": 7,
    "start_time": "2023-07-09T16:59:10.860Z"
   },
   {
    "duration": 8,
    "start_time": "2023-07-09T16:59:10.868Z"
   },
   {
    "duration": 4,
    "start_time": "2023-07-09T16:59:10.877Z"
   },
   {
    "duration": 47,
    "start_time": "2023-07-09T16:59:10.882Z"
   },
   {
    "duration": 16,
    "start_time": "2023-07-09T16:59:10.932Z"
   },
   {
    "duration": 6,
    "start_time": "2023-07-09T16:59:10.950Z"
   },
   {
    "duration": 23,
    "start_time": "2023-07-09T16:59:10.958Z"
   },
   {
    "duration": 14,
    "start_time": "2023-07-09T16:59:10.983Z"
   },
   {
    "duration": 10,
    "start_time": "2023-07-09T16:59:10.999Z"
   },
   {
    "duration": 5,
    "start_time": "2023-07-09T16:59:11.011Z"
   },
   {
    "duration": 16,
    "start_time": "2023-07-09T16:59:11.032Z"
   },
   {
    "duration": 10,
    "start_time": "2023-07-09T16:59:11.049Z"
   },
   {
    "duration": 4,
    "start_time": "2023-07-09T16:59:11.061Z"
   },
   {
    "duration": 13,
    "start_time": "2023-07-09T16:59:11.066Z"
   },
   {
    "duration": 17,
    "start_time": "2023-07-09T16:59:11.080Z"
   },
   {
    "duration": 11,
    "start_time": "2023-07-09T16:59:11.099Z"
   },
   {
    "duration": 890,
    "start_time": "2023-07-09T16:59:11.133Z"
   },
   {
    "duration": 25,
    "start_time": "2023-07-09T16:59:12.024Z"
   },
   {
    "duration": 18,
    "start_time": "2023-07-09T16:59:12.050Z"
   },
   {
    "duration": 15,
    "start_time": "2023-07-09T16:59:12.069Z"
   },
   {
    "duration": 81,
    "start_time": "2023-07-09T16:59:12.086Z"
   },
   {
    "duration": 0,
    "start_time": "2023-07-09T16:59:12.169Z"
   },
   {
    "duration": 0,
    "start_time": "2023-07-09T16:59:12.170Z"
   },
   {
    "duration": 0,
    "start_time": "2023-07-09T16:59:12.171Z"
   },
   {
    "duration": 0,
    "start_time": "2023-07-09T16:59:12.173Z"
   },
   {
    "duration": 0,
    "start_time": "2023-07-09T16:59:12.174Z"
   },
   {
    "duration": 0,
    "start_time": "2023-07-09T16:59:12.175Z"
   },
   {
    "duration": 0,
    "start_time": "2023-07-09T16:59:12.177Z"
   },
   {
    "duration": 0,
    "start_time": "2023-07-09T16:59:12.178Z"
   },
   {
    "duration": 489,
    "start_time": "2023-07-09T17:00:26.326Z"
   },
   {
    "duration": 20,
    "start_time": "2023-07-09T17:00:26.816Z"
   },
   {
    "duration": 14,
    "start_time": "2023-07-09T17:00:26.837Z"
   },
   {
    "duration": 8,
    "start_time": "2023-07-09T17:00:26.853Z"
   },
   {
    "duration": 32,
    "start_time": "2023-07-09T17:00:26.863Z"
   },
   {
    "duration": 3,
    "start_time": "2023-07-09T17:00:26.897Z"
   },
   {
    "duration": 31,
    "start_time": "2023-07-09T17:00:26.901Z"
   },
   {
    "duration": 6,
    "start_time": "2023-07-09T17:00:26.934Z"
   },
   {
    "duration": 10,
    "start_time": "2023-07-09T17:00:26.941Z"
   },
   {
    "duration": 4,
    "start_time": "2023-07-09T17:00:26.953Z"
   },
   {
    "duration": 34,
    "start_time": "2023-07-09T17:00:26.958Z"
   },
   {
    "duration": 10,
    "start_time": "2023-07-09T17:00:26.993Z"
   },
   {
    "duration": 29,
    "start_time": "2023-07-09T17:00:27.004Z"
   },
   {
    "duration": 18,
    "start_time": "2023-07-09T17:00:27.035Z"
   },
   {
    "duration": 14,
    "start_time": "2023-07-09T17:00:27.055Z"
   },
   {
    "duration": 74,
    "start_time": "2023-07-09T17:00:27.071Z"
   },
   {
    "duration": 27,
    "start_time": "2023-07-09T17:00:27.146Z"
   },
   {
    "duration": 19,
    "start_time": "2023-07-09T17:00:27.174Z"
   },
   {
    "duration": 7,
    "start_time": "2023-07-09T17:00:27.195Z"
   },
   {
    "duration": 25,
    "start_time": "2023-07-09T17:00:27.204Z"
   },
   {
    "duration": 58,
    "start_time": "2023-07-09T17:00:27.231Z"
   },
   {
    "duration": 13,
    "start_time": "2023-07-09T17:00:27.290Z"
   },
   {
    "duration": 10,
    "start_time": "2023-07-09T17:00:27.304Z"
   },
   {
    "duration": 853,
    "start_time": "2023-07-09T17:00:27.315Z"
   },
   {
    "duration": 12,
    "start_time": "2023-07-09T17:00:28.170Z"
   },
   {
    "duration": 13,
    "start_time": "2023-07-09T17:00:28.183Z"
   },
   {
    "duration": 10,
    "start_time": "2023-07-09T17:00:28.197Z"
   },
   {
    "duration": 221,
    "start_time": "2023-07-09T17:00:28.210Z"
   },
   {
    "duration": 0,
    "start_time": "2023-07-09T17:00:28.432Z"
   },
   {
    "duration": 0,
    "start_time": "2023-07-09T17:00:28.434Z"
   },
   {
    "duration": 0,
    "start_time": "2023-07-09T17:00:28.434Z"
   },
   {
    "duration": 0,
    "start_time": "2023-07-09T17:00:28.435Z"
   },
   {
    "duration": 0,
    "start_time": "2023-07-09T17:00:28.436Z"
   },
   {
    "duration": 0,
    "start_time": "2023-07-09T17:00:28.437Z"
   },
   {
    "duration": 0,
    "start_time": "2023-07-09T17:00:28.438Z"
   },
   {
    "duration": 0,
    "start_time": "2023-07-09T17:00:28.439Z"
   },
   {
    "duration": 432,
    "start_time": "2023-07-09T17:01:42.292Z"
   },
   {
    "duration": 21,
    "start_time": "2023-07-09T17:01:42.726Z"
   },
   {
    "duration": 40,
    "start_time": "2023-07-09T17:01:42.749Z"
   },
   {
    "duration": 16,
    "start_time": "2023-07-09T17:01:42.792Z"
   },
   {
    "duration": 49,
    "start_time": "2023-07-09T17:01:42.810Z"
   },
   {
    "duration": 4,
    "start_time": "2023-07-09T17:01:42.860Z"
   },
   {
    "duration": 18,
    "start_time": "2023-07-09T17:01:42.865Z"
   },
   {
    "duration": 4,
    "start_time": "2023-07-09T17:01:42.885Z"
   },
   {
    "duration": 13,
    "start_time": "2023-07-09T17:01:42.891Z"
   },
   {
    "duration": 7,
    "start_time": "2023-07-09T17:01:42.907Z"
   },
   {
    "duration": 40,
    "start_time": "2023-07-09T17:01:42.915Z"
   },
   {
    "duration": 9,
    "start_time": "2023-07-09T17:01:42.957Z"
   },
   {
    "duration": 7,
    "start_time": "2023-07-09T17:01:42.967Z"
   },
   {
    "duration": 22,
    "start_time": "2023-07-09T17:01:42.975Z"
   },
   {
    "duration": 32,
    "start_time": "2023-07-09T17:01:42.999Z"
   },
   {
    "duration": 11,
    "start_time": "2023-07-09T17:01:43.033Z"
   },
   {
    "duration": 8,
    "start_time": "2023-07-09T17:01:43.046Z"
   },
   {
    "duration": 12,
    "start_time": "2023-07-09T17:01:43.056Z"
   },
   {
    "duration": 5,
    "start_time": "2023-07-09T17:01:43.069Z"
   },
   {
    "duration": 5,
    "start_time": "2023-07-09T17:01:43.076Z"
   },
   {
    "duration": 13,
    "start_time": "2023-07-09T17:01:43.082Z"
   },
   {
    "duration": 10,
    "start_time": "2023-07-09T17:01:43.096Z"
   },
   {
    "duration": 31,
    "start_time": "2023-07-09T17:01:43.108Z"
   },
   {
    "duration": 916,
    "start_time": "2023-07-09T17:01:43.142Z"
   },
   {
    "duration": 13,
    "start_time": "2023-07-09T17:01:44.060Z"
   },
   {
    "duration": 13,
    "start_time": "2023-07-09T17:01:44.074Z"
   },
   {
    "duration": 16,
    "start_time": "2023-07-09T17:01:44.089Z"
   },
   {
    "duration": 96,
    "start_time": "2023-07-09T17:01:44.108Z"
   },
   {
    "duration": 0,
    "start_time": "2023-07-09T17:01:44.205Z"
   },
   {
    "duration": 0,
    "start_time": "2023-07-09T17:01:44.206Z"
   },
   {
    "duration": 1,
    "start_time": "2023-07-09T17:01:44.207Z"
   },
   {
    "duration": 0,
    "start_time": "2023-07-09T17:01:44.209Z"
   },
   {
    "duration": 0,
    "start_time": "2023-07-09T17:01:44.210Z"
   },
   {
    "duration": 0,
    "start_time": "2023-07-09T17:01:44.211Z"
   },
   {
    "duration": 0,
    "start_time": "2023-07-09T17:01:44.213Z"
   },
   {
    "duration": 0,
    "start_time": "2023-07-09T17:01:44.214Z"
   },
   {
    "duration": 460,
    "start_time": "2023-07-09T17:02:55.728Z"
   },
   {
    "duration": 21,
    "start_time": "2023-07-09T17:02:56.190Z"
   },
   {
    "duration": 14,
    "start_time": "2023-07-09T17:02:56.213Z"
   },
   {
    "duration": 10,
    "start_time": "2023-07-09T17:02:56.228Z"
   },
   {
    "duration": 34,
    "start_time": "2023-07-09T17:02:56.240Z"
   },
   {
    "duration": 3,
    "start_time": "2023-07-09T17:02:56.275Z"
   },
   {
    "duration": 9,
    "start_time": "2023-07-09T17:02:56.279Z"
   },
   {
    "duration": 12,
    "start_time": "2023-07-09T17:02:56.290Z"
   },
   {
    "duration": 12,
    "start_time": "2023-07-09T17:02:56.303Z"
   },
   {
    "duration": 17,
    "start_time": "2023-07-09T17:02:56.316Z"
   },
   {
    "duration": 30,
    "start_time": "2023-07-09T17:02:56.334Z"
   },
   {
    "duration": 8,
    "start_time": "2023-07-09T17:02:56.365Z"
   },
   {
    "duration": 6,
    "start_time": "2023-07-09T17:02:56.374Z"
   },
   {
    "duration": 30,
    "start_time": "2023-07-09T17:02:56.382Z"
   },
   {
    "duration": 28,
    "start_time": "2023-07-09T17:02:56.413Z"
   },
   {
    "duration": 10,
    "start_time": "2023-07-09T17:02:56.443Z"
   },
   {
    "duration": 5,
    "start_time": "2023-07-09T17:02:56.455Z"
   },
   {
    "duration": 19,
    "start_time": "2023-07-09T17:02:56.462Z"
   },
   {
    "duration": 11,
    "start_time": "2023-07-09T17:02:56.482Z"
   },
   {
    "duration": 3,
    "start_time": "2023-07-09T17:02:56.495Z"
   },
   {
    "duration": 11,
    "start_time": "2023-07-09T17:02:56.499Z"
   },
   {
    "duration": 19,
    "start_time": "2023-07-09T17:02:56.512Z"
   },
   {
    "duration": 11,
    "start_time": "2023-07-09T17:02:56.532Z"
   },
   {
    "duration": 796,
    "start_time": "2023-07-09T17:02:56.544Z"
   },
   {
    "duration": 12,
    "start_time": "2023-07-09T17:02:57.342Z"
   },
   {
    "duration": 12,
    "start_time": "2023-07-09T17:02:57.355Z"
   },
   {
    "duration": 10,
    "start_time": "2023-07-09T17:02:57.368Z"
   },
   {
    "duration": 130,
    "start_time": "2023-07-09T17:02:57.380Z"
   },
   {
    "duration": 26,
    "start_time": "2023-07-09T17:02:57.512Z"
   },
   {
    "duration": 14,
    "start_time": "2023-07-09T17:02:57.539Z"
   },
   {
    "duration": 26,
    "start_time": "2023-07-09T17:02:57.555Z"
   },
   {
    "duration": 120,
    "start_time": "2023-07-09T17:02:57.583Z"
   },
   {
    "duration": 13,
    "start_time": "2023-07-09T17:02:57.705Z"
   },
   {
    "duration": 13,
    "start_time": "2023-07-09T17:02:57.731Z"
   },
   {
    "duration": 10,
    "start_time": "2023-07-09T17:02:57.746Z"
   },
   {
    "duration": 141,
    "start_time": "2023-07-09T17:02:57.758Z"
   },
   {
    "duration": 458,
    "start_time": "2023-07-09T17:05:39.659Z"
   },
   {
    "duration": 494,
    "start_time": "2023-07-09T17:05:44.106Z"
   },
   {
    "duration": 28,
    "start_time": "2023-07-09T17:05:44.602Z"
   },
   {
    "duration": 34,
    "start_time": "2023-07-09T17:05:44.632Z"
   },
   {
    "duration": 14,
    "start_time": "2023-07-09T17:05:44.668Z"
   },
   {
    "duration": 52,
    "start_time": "2023-07-09T17:05:44.684Z"
   },
   {
    "duration": 5,
    "start_time": "2023-07-09T17:05:44.740Z"
   },
   {
    "duration": 17,
    "start_time": "2023-07-09T17:05:44.747Z"
   },
   {
    "duration": 10,
    "start_time": "2023-07-09T17:05:44.766Z"
   },
   {
    "duration": 12,
    "start_time": "2023-07-09T17:05:44.779Z"
   },
   {
    "duration": 4,
    "start_time": "2023-07-09T17:05:44.795Z"
   },
   {
    "duration": 55,
    "start_time": "2023-07-09T17:05:44.801Z"
   },
   {
    "duration": 9,
    "start_time": "2023-07-09T17:05:44.857Z"
   },
   {
    "duration": 4,
    "start_time": "2023-07-09T17:05:44.867Z"
   },
   {
    "duration": 19,
    "start_time": "2023-07-09T17:05:44.872Z"
   },
   {
    "duration": 14,
    "start_time": "2023-07-09T17:05:44.893Z"
   },
   {
    "duration": 40,
    "start_time": "2023-07-09T17:05:44.909Z"
   },
   {
    "duration": 9,
    "start_time": "2023-07-09T17:05:44.950Z"
   },
   {
    "duration": 11,
    "start_time": "2023-07-09T17:05:44.961Z"
   },
   {
    "duration": 5,
    "start_time": "2023-07-09T17:05:44.973Z"
   },
   {
    "duration": 3,
    "start_time": "2023-07-09T17:05:44.979Z"
   },
   {
    "duration": 9,
    "start_time": "2023-07-09T17:05:44.984Z"
   },
   {
    "duration": 13,
    "start_time": "2023-07-09T17:05:44.995Z"
   },
   {
    "duration": 47,
    "start_time": "2023-07-09T17:05:45.009Z"
   },
   {
    "duration": 861,
    "start_time": "2023-07-09T17:05:45.057Z"
   },
   {
    "duration": 24,
    "start_time": "2023-07-09T17:05:45.920Z"
   },
   {
    "duration": 14,
    "start_time": "2023-07-09T17:05:45.946Z"
   },
   {
    "duration": 13,
    "start_time": "2023-07-09T17:05:45.962Z"
   },
   {
    "duration": 137,
    "start_time": "2023-07-09T17:05:45.978Z"
   },
   {
    "duration": 30,
    "start_time": "2023-07-09T17:05:46.116Z"
   },
   {
    "duration": 13,
    "start_time": "2023-07-09T17:05:46.148Z"
   },
   {
    "duration": 12,
    "start_time": "2023-07-09T17:05:46.163Z"
   },
   {
    "duration": 141,
    "start_time": "2023-07-09T17:05:46.176Z"
   },
   {
    "duration": 33,
    "start_time": "2023-07-09T17:05:46.318Z"
   },
   {
    "duration": 13,
    "start_time": "2023-07-09T17:05:46.353Z"
   },
   {
    "duration": 10,
    "start_time": "2023-07-09T17:05:46.367Z"
   },
   {
    "duration": 135,
    "start_time": "2023-07-09T17:05:46.378Z"
   },
   {
    "duration": 455,
    "start_time": "2023-07-09T17:08:46.397Z"
   },
   {
    "duration": 764,
    "start_time": "2023-07-09T17:08:46.854Z"
   },
   {
    "duration": 25,
    "start_time": "2023-07-09T17:08:47.619Z"
   },
   {
    "duration": 16,
    "start_time": "2023-07-09T17:08:47.646Z"
   },
   {
    "duration": 11,
    "start_time": "2023-07-09T17:08:47.665Z"
   },
   {
    "duration": 63,
    "start_time": "2023-07-09T17:08:47.678Z"
   },
   {
    "duration": 3,
    "start_time": "2023-07-09T17:08:47.743Z"
   },
   {
    "duration": 11,
    "start_time": "2023-07-09T17:08:47.748Z"
   },
   {
    "duration": 5,
    "start_time": "2023-07-09T17:08:47.761Z"
   },
   {
    "duration": 38,
    "start_time": "2023-07-09T17:08:47.767Z"
   },
   {
    "duration": 39,
    "start_time": "2023-07-09T17:08:47.806Z"
   },
   {
    "duration": 47,
    "start_time": "2023-07-09T17:08:47.847Z"
   },
   {
    "duration": 9,
    "start_time": "2023-07-09T17:08:47.895Z"
   },
   {
    "duration": 29,
    "start_time": "2023-07-09T17:08:47.907Z"
   },
   {
    "duration": 31,
    "start_time": "2023-07-09T17:08:47.938Z"
   },
   {
    "duration": 17,
    "start_time": "2023-07-09T17:08:47.970Z"
   },
   {
    "duration": 12,
    "start_time": "2023-07-09T17:08:47.989Z"
   },
   {
    "duration": 19,
    "start_time": "2023-07-09T17:08:48.002Z"
   },
   {
    "duration": 36,
    "start_time": "2023-07-09T17:08:48.022Z"
   },
   {
    "duration": 6,
    "start_time": "2023-07-09T17:08:48.059Z"
   },
   {
    "duration": 6,
    "start_time": "2023-07-09T17:08:48.067Z"
   },
   {
    "duration": 13,
    "start_time": "2023-07-09T17:08:48.075Z"
   },
   {
    "duration": 17,
    "start_time": "2023-07-09T17:08:48.089Z"
   },
   {
    "duration": 13,
    "start_time": "2023-07-09T17:08:48.107Z"
   },
   {
    "duration": 122,
    "start_time": "2023-07-09T17:08:48.121Z"
   },
   {
    "duration": 13,
    "start_time": "2023-07-09T17:08:48.245Z"
   },
   {
    "duration": 13,
    "start_time": "2023-07-09T17:08:48.259Z"
   },
   {
    "duration": 15,
    "start_time": "2023-07-09T17:08:48.273Z"
   },
   {
    "duration": 136,
    "start_time": "2023-07-09T17:08:48.289Z"
   },
   {
    "duration": 15,
    "start_time": "2023-07-09T17:08:48.426Z"
   },
   {
    "duration": 21,
    "start_time": "2023-07-09T17:08:48.443Z"
   },
   {
    "duration": 16,
    "start_time": "2023-07-09T17:08:48.466Z"
   },
   {
    "duration": 147,
    "start_time": "2023-07-09T17:08:48.484Z"
   },
   {
    "duration": 14,
    "start_time": "2023-07-09T17:08:48.633Z"
   },
   {
    "duration": 13,
    "start_time": "2023-07-09T17:08:48.649Z"
   },
   {
    "duration": 14,
    "start_time": "2023-07-09T17:08:48.663Z"
   },
   {
    "duration": 135,
    "start_time": "2023-07-09T17:08:48.678Z"
   },
   {
    "duration": 771,
    "start_time": "2023-07-10T15:59:12.251Z"
   },
   {
    "duration": 1313,
    "start_time": "2023-07-10T15:59:13.026Z"
   },
   {
    "duration": 44,
    "start_time": "2023-07-10T15:59:14.342Z"
   },
   {
    "duration": 32,
    "start_time": "2023-07-10T15:59:14.396Z"
   },
   {
    "duration": 18,
    "start_time": "2023-07-10T15:59:14.432Z"
   },
   {
    "duration": 93,
    "start_time": "2023-07-10T15:59:14.452Z"
   },
   {
    "duration": 6,
    "start_time": "2023-07-10T15:59:14.547Z"
   },
   {
    "duration": 15,
    "start_time": "2023-07-10T15:59:14.555Z"
   },
   {
    "duration": 12,
    "start_time": "2023-07-10T15:59:14.572Z"
   },
   {
    "duration": 12,
    "start_time": "2023-07-10T15:59:14.586Z"
   },
   {
    "duration": 10,
    "start_time": "2023-07-10T15:59:14.600Z"
   },
   {
    "duration": 61,
    "start_time": "2023-07-10T15:59:14.612Z"
   },
   {
    "duration": 18,
    "start_time": "2023-07-10T15:59:14.675Z"
   },
   {
    "duration": 6,
    "start_time": "2023-07-10T15:59:14.698Z"
   },
   {
    "duration": 40,
    "start_time": "2023-07-10T15:59:14.706Z"
   },
   {
    "duration": 45,
    "start_time": "2023-07-10T15:59:14.749Z"
   },
   {
    "duration": 21,
    "start_time": "2023-07-10T15:59:14.796Z"
   },
   {
    "duration": 6,
    "start_time": "2023-07-10T15:59:14.820Z"
   },
   {
    "duration": 41,
    "start_time": "2023-07-10T15:59:14.828Z"
   },
   {
    "duration": 10,
    "start_time": "2023-07-10T15:59:14.875Z"
   },
   {
    "duration": 7,
    "start_time": "2023-07-10T15:59:14.888Z"
   },
   {
    "duration": 28,
    "start_time": "2023-07-10T15:59:14.903Z"
   },
   {
    "duration": 15,
    "start_time": "2023-07-10T15:59:14.934Z"
   },
   {
    "duration": 36,
    "start_time": "2023-07-10T15:59:14.952Z"
   },
   {
    "duration": 203,
    "start_time": "2023-07-10T15:59:14.991Z"
   },
   {
    "duration": 19,
    "start_time": "2023-07-10T15:59:15.196Z"
   },
   {
    "duration": 24,
    "start_time": "2023-07-10T15:59:15.217Z"
   },
   {
    "duration": 54,
    "start_time": "2023-07-10T15:59:15.243Z"
   },
   {
    "duration": 193,
    "start_time": "2023-07-10T15:59:15.299Z"
   },
   {
    "duration": 20,
    "start_time": "2023-07-10T15:59:15.494Z"
   },
   {
    "duration": 25,
    "start_time": "2023-07-10T15:59:15.516Z"
   },
   {
    "duration": 16,
    "start_time": "2023-07-10T15:59:15.568Z"
   },
   {
    "duration": 155,
    "start_time": "2023-07-10T15:59:15.595Z"
   },
   {
    "duration": 36,
    "start_time": "2023-07-10T15:59:15.753Z"
   },
   {
    "duration": 48,
    "start_time": "2023-07-10T15:59:15.793Z"
   },
   {
    "duration": 21,
    "start_time": "2023-07-10T15:59:15.843Z"
   },
   {
    "duration": 176,
    "start_time": "2023-07-10T15:59:15.870Z"
   },
   {
    "duration": 578,
    "start_time": "2023-07-10T16:01:50.275Z"
   },
   {
    "duration": 820,
    "start_time": "2023-07-10T16:01:50.856Z"
   },
   {
    "duration": 24,
    "start_time": "2023-07-10T16:01:51.678Z"
   },
   {
    "duration": 23,
    "start_time": "2023-07-10T16:01:51.704Z"
   },
   {
    "duration": 39,
    "start_time": "2023-07-10T16:01:51.729Z"
   },
   {
    "duration": 47,
    "start_time": "2023-07-10T16:01:51.771Z"
   },
   {
    "duration": 5,
    "start_time": "2023-07-10T16:01:51.820Z"
   },
   {
    "duration": 27,
    "start_time": "2023-07-10T16:01:51.828Z"
   },
   {
    "duration": 7,
    "start_time": "2023-07-10T16:01:51.868Z"
   },
   {
    "duration": 19,
    "start_time": "2023-07-10T16:01:51.880Z"
   },
   {
    "duration": 23,
    "start_time": "2023-07-10T16:01:51.902Z"
   },
   {
    "duration": 68,
    "start_time": "2023-07-10T16:01:51.927Z"
   },
   {
    "duration": 13,
    "start_time": "2023-07-10T16:01:51.997Z"
   },
   {
    "duration": 9,
    "start_time": "2023-07-10T16:01:52.012Z"
   },
   {
    "duration": 37,
    "start_time": "2023-07-10T16:01:52.023Z"
   },
   {
    "duration": 28,
    "start_time": "2023-07-10T16:01:52.066Z"
   },
   {
    "duration": 16,
    "start_time": "2023-07-10T16:01:52.097Z"
   },
   {
    "duration": 24,
    "start_time": "2023-07-10T16:01:52.115Z"
   },
   {
    "duration": 65,
    "start_time": "2023-07-10T16:01:52.141Z"
   },
   {
    "duration": 25,
    "start_time": "2023-07-10T16:01:52.208Z"
   },
   {
    "duration": 22,
    "start_time": "2023-07-10T16:01:52.234Z"
   },
   {
    "duration": 111,
    "start_time": "2023-07-10T16:01:52.258Z"
   },
   {
    "duration": 102,
    "start_time": "2023-07-10T16:01:52.371Z"
   },
   {
    "duration": 20,
    "start_time": "2023-07-10T16:01:52.475Z"
   },
   {
    "duration": 243,
    "start_time": "2023-07-10T16:01:52.498Z"
   },
   {
    "duration": 27,
    "start_time": "2023-07-10T16:01:52.743Z"
   },
   {
    "duration": 22,
    "start_time": "2023-07-10T16:01:52.773Z"
   },
   {
    "duration": 28,
    "start_time": "2023-07-10T16:01:52.800Z"
   },
   {
    "duration": 252,
    "start_time": "2023-07-10T16:01:52.830Z"
   },
   {
    "duration": 19,
    "start_time": "2023-07-10T16:01:53.084Z"
   },
   {
    "duration": 22,
    "start_time": "2023-07-10T16:01:53.105Z"
   },
   {
    "duration": 42,
    "start_time": "2023-07-10T16:01:53.129Z"
   },
   {
    "duration": 207,
    "start_time": "2023-07-10T16:01:53.174Z"
   },
   {
    "duration": 18,
    "start_time": "2023-07-10T16:01:53.383Z"
   },
   {
    "duration": 18,
    "start_time": "2023-07-10T16:01:53.402Z"
   },
   {
    "duration": 48,
    "start_time": "2023-07-10T16:01:53.422Z"
   },
   {
    "duration": 219,
    "start_time": "2023-07-10T16:01:53.472Z"
   },
   {
    "duration": 478,
    "start_time": "2023-07-10T16:02:16.326Z"
   },
   {
    "duration": 853,
    "start_time": "2023-07-10T16:02:16.806Z"
   },
   {
    "duration": 25,
    "start_time": "2023-07-10T16:02:17.661Z"
   },
   {
    "duration": 18,
    "start_time": "2023-07-10T16:02:17.688Z"
   },
   {
    "duration": 11,
    "start_time": "2023-07-10T16:02:17.709Z"
   },
   {
    "duration": 76,
    "start_time": "2023-07-10T16:02:17.722Z"
   },
   {
    "duration": 4,
    "start_time": "2023-07-10T16:02:17.800Z"
   },
   {
    "duration": 13,
    "start_time": "2023-07-10T16:02:17.806Z"
   },
   {
    "duration": 6,
    "start_time": "2023-07-10T16:02:17.822Z"
   },
   {
    "duration": 42,
    "start_time": "2023-07-10T16:02:17.830Z"
   },
   {
    "duration": 6,
    "start_time": "2023-07-10T16:02:17.874Z"
   },
   {
    "duration": 64,
    "start_time": "2023-07-10T16:02:17.882Z"
   },
   {
    "duration": 21,
    "start_time": "2023-07-10T16:02:17.947Z"
   },
   {
    "duration": 4,
    "start_time": "2023-07-10T16:02:17.971Z"
   },
   {
    "duration": 36,
    "start_time": "2023-07-10T16:02:17.977Z"
   },
   {
    "duration": 22,
    "start_time": "2023-07-10T16:02:18.016Z"
   },
   {
    "duration": 38,
    "start_time": "2023-07-10T16:02:18.041Z"
   },
   {
    "duration": 14,
    "start_time": "2023-07-10T16:02:18.081Z"
   },
   {
    "duration": 27,
    "start_time": "2023-07-10T16:02:18.097Z"
   },
   {
    "duration": 29,
    "start_time": "2023-07-10T16:02:18.126Z"
   },
   {
    "duration": 24,
    "start_time": "2023-07-10T16:02:18.157Z"
   },
   {
    "duration": 47,
    "start_time": "2023-07-10T16:02:18.183Z"
   },
   {
    "duration": 19,
    "start_time": "2023-07-10T16:02:18.232Z"
   },
   {
    "duration": 14,
    "start_time": "2023-07-10T16:02:18.253Z"
   },
   {
    "duration": 166,
    "start_time": "2023-07-10T16:02:18.269Z"
   },
   {
    "duration": 17,
    "start_time": "2023-07-10T16:02:18.437Z"
   },
   {
    "duration": 28,
    "start_time": "2023-07-10T16:02:18.455Z"
   },
   {
    "duration": 15,
    "start_time": "2023-07-10T16:02:18.484Z"
   },
   {
    "duration": 194,
    "start_time": "2023-07-10T16:02:18.501Z"
   },
   {
    "duration": 18,
    "start_time": "2023-07-10T16:02:18.697Z"
   },
   {
    "duration": 23,
    "start_time": "2023-07-10T16:02:18.717Z"
   },
   {
    "duration": 34,
    "start_time": "2023-07-10T16:02:18.741Z"
   },
   {
    "duration": 149,
    "start_time": "2023-07-10T16:02:18.777Z"
   },
   {
    "duration": 22,
    "start_time": "2023-07-10T16:02:18.928Z"
   },
   {
    "duration": 30,
    "start_time": "2023-07-10T16:02:18.952Z"
   },
   {
    "duration": 14,
    "start_time": "2023-07-10T16:02:18.984Z"
   },
   {
    "duration": 170,
    "start_time": "2023-07-10T16:02:19.000Z"
   },
   {
    "duration": 530,
    "start_time": "2023-07-10T16:11:56.334Z"
   },
   {
    "duration": 876,
    "start_time": "2023-07-10T16:11:56.867Z"
   },
   {
    "duration": 32,
    "start_time": "2023-07-10T16:11:57.745Z"
   },
   {
    "duration": 22,
    "start_time": "2023-07-10T16:11:57.780Z"
   },
   {
    "duration": 15,
    "start_time": "2023-07-10T16:11:57.805Z"
   },
   {
    "duration": 69,
    "start_time": "2023-07-10T16:11:57.822Z"
   },
   {
    "duration": 5,
    "start_time": "2023-07-10T16:11:57.894Z"
   },
   {
    "duration": 14,
    "start_time": "2023-07-10T16:11:57.902Z"
   },
   {
    "duration": 6,
    "start_time": "2023-07-10T16:11:57.919Z"
   },
   {
    "duration": 10,
    "start_time": "2023-07-10T16:11:57.928Z"
   },
   {
    "duration": 7,
    "start_time": "2023-07-10T16:11:57.970Z"
   },
   {
    "duration": 40,
    "start_time": "2023-07-10T16:11:57.979Z"
   },
   {
    "duration": 11,
    "start_time": "2023-07-10T16:11:58.021Z"
   },
   {
    "duration": 31,
    "start_time": "2023-07-10T16:11:58.036Z"
   },
   {
    "duration": 28,
    "start_time": "2023-07-10T16:11:58.070Z"
   },
   {
    "duration": 27,
    "start_time": "2023-07-10T16:11:58.100Z"
   },
   {
    "duration": 41,
    "start_time": "2023-07-10T16:11:58.129Z"
   },
   {
    "duration": 12,
    "start_time": "2023-07-10T16:11:58.172Z"
   },
   {
    "duration": 23,
    "start_time": "2023-07-10T16:11:58.186Z"
   },
   {
    "duration": 8,
    "start_time": "2023-07-10T16:11:58.212Z"
   },
   {
    "duration": 5,
    "start_time": "2023-07-10T16:11:58.222Z"
   },
   {
    "duration": 21,
    "start_time": "2023-07-10T16:11:58.229Z"
   },
   {
    "duration": 17,
    "start_time": "2023-07-10T16:11:58.268Z"
   },
   {
    "duration": 21,
    "start_time": "2023-07-10T16:11:58.287Z"
   },
   {
    "duration": 189,
    "start_time": "2023-07-10T16:11:58.311Z"
   },
   {
    "duration": 15,
    "start_time": "2023-07-10T16:11:58.502Z"
   },
   {
    "duration": 22,
    "start_time": "2023-07-10T16:11:58.519Z"
   },
   {
    "duration": 36,
    "start_time": "2023-07-10T16:11:58.543Z"
   },
   {
    "duration": 157,
    "start_time": "2023-07-10T16:11:58.581Z"
   },
   {
    "duration": 15,
    "start_time": "2023-07-10T16:11:58.740Z"
   },
   {
    "duration": 21,
    "start_time": "2023-07-10T16:11:58.767Z"
   },
   {
    "duration": 25,
    "start_time": "2023-07-10T16:11:58.790Z"
   },
   {
    "duration": 162,
    "start_time": "2023-07-10T16:11:58.817Z"
   },
   {
    "duration": 16,
    "start_time": "2023-07-10T16:11:58.982Z"
   },
   {
    "duration": 17,
    "start_time": "2023-07-10T16:11:59.000Z"
   },
   {
    "duration": 48,
    "start_time": "2023-07-10T16:11:59.019Z"
   },
   {
    "duration": 157,
    "start_time": "2023-07-10T16:11:59.069Z"
   },
   {
    "duration": 205,
    "start_time": "2023-07-10T16:33:51.070Z"
   },
   {
    "duration": 534,
    "start_time": "2023-07-10T16:45:06.465Z"
   },
   {
    "duration": 858,
    "start_time": "2023-07-10T16:45:07.002Z"
   },
   {
    "duration": 37,
    "start_time": "2023-07-10T16:45:07.862Z"
   },
   {
    "duration": 18,
    "start_time": "2023-07-10T16:45:07.902Z"
   },
   {
    "duration": 42,
    "start_time": "2023-07-10T16:45:07.922Z"
   },
   {
    "duration": 40,
    "start_time": "2023-07-10T16:45:07.966Z"
   },
   {
    "duration": 4,
    "start_time": "2023-07-10T16:45:08.008Z"
   },
   {
    "duration": 52,
    "start_time": "2023-07-10T16:45:08.013Z"
   },
   {
    "duration": 19,
    "start_time": "2023-07-10T16:45:08.067Z"
   },
   {
    "duration": 20,
    "start_time": "2023-07-10T16:45:08.090Z"
   },
   {
    "duration": 15,
    "start_time": "2023-07-10T16:45:08.112Z"
   },
   {
    "duration": 53,
    "start_time": "2023-07-10T16:45:08.129Z"
   },
   {
    "duration": 11,
    "start_time": "2023-07-10T16:45:08.185Z"
   },
   {
    "duration": 13,
    "start_time": "2023-07-10T16:45:08.198Z"
   },
   {
    "duration": 42,
    "start_time": "2023-07-10T16:45:08.213Z"
   },
   {
    "duration": 21,
    "start_time": "2023-07-10T16:45:08.259Z"
   },
   {
    "duration": 16,
    "start_time": "2023-07-10T16:45:08.282Z"
   },
   {
    "duration": 8,
    "start_time": "2023-07-10T16:45:08.300Z"
   },
   {
    "duration": 18,
    "start_time": "2023-07-10T16:45:08.310Z"
   },
   {
    "duration": 7,
    "start_time": "2023-07-10T16:45:08.329Z"
   },
   {
    "duration": 31,
    "start_time": "2023-07-10T16:45:08.338Z"
   },
   {
    "duration": 37,
    "start_time": "2023-07-10T16:45:08.371Z"
   },
   {
    "duration": 21,
    "start_time": "2023-07-10T16:45:08.410Z"
   },
   {
    "duration": 21,
    "start_time": "2023-07-10T16:45:08.434Z"
   },
   {
    "duration": 243,
    "start_time": "2023-07-10T16:45:08.458Z"
   },
   {
    "duration": 22,
    "start_time": "2023-07-10T16:45:08.704Z"
   },
   {
    "duration": 42,
    "start_time": "2023-07-10T16:45:08.728Z"
   },
   {
    "duration": 18,
    "start_time": "2023-07-10T16:45:08.774Z"
   },
   {
    "duration": 221,
    "start_time": "2023-07-10T16:45:08.794Z"
   },
   {
    "duration": 20,
    "start_time": "2023-07-10T16:45:09.017Z"
   },
   {
    "duration": 39,
    "start_time": "2023-07-10T16:45:09.039Z"
   },
   {
    "duration": 23,
    "start_time": "2023-07-10T16:45:09.081Z"
   },
   {
    "duration": 176,
    "start_time": "2023-07-10T16:45:09.106Z"
   },
   {
    "duration": 25,
    "start_time": "2023-07-10T16:45:09.284Z"
   },
   {
    "duration": 25,
    "start_time": "2023-07-10T16:45:09.311Z"
   },
   {
    "duration": 38,
    "start_time": "2023-07-10T16:45:09.338Z"
   },
   {
    "duration": 190,
    "start_time": "2023-07-10T16:45:09.379Z"
   }
  ],
  "colab": {
   "name": "dpp_template_part2.ipynb",
   "provenance": []
  },
  "kernelspec": {
   "display_name": "Python 3 (ipykernel)",
   "language": "python",
   "name": "python3"
  },
  "language_info": {
   "codemirror_mode": {
    "name": "ipython",
    "version": 3
   },
   "file_extension": ".py",
   "mimetype": "text/x-python",
   "name": "python",
   "nbconvert_exporter": "python",
   "pygments_lexer": "ipython3",
   "version": "3.9.5"
  },
  "toc": {
   "base_numbering": 1,
   "nav_menu": {},
   "number_sections": true,
   "sideBar": true,
   "skip_h1_title": true,
   "title_cell": "Table of Contents",
   "title_sidebar": "Contents",
   "toc_cell": false,
   "toc_position": {},
   "toc_section_display": true,
   "toc_window_display": false
  }
 },
 "nbformat": 4,
 "nbformat_minor": 5
}
