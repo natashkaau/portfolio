{
 "cells": [
  {
   "cell_type": "markdown",
   "id": "bd12a10b",
   "metadata": {},
   "source": [
    "# Исследование данных об инвестиции венчурных фондов в компании-стартапы"
   ]
  },
  {
   "cell_type": "markdown",
   "id": "402829ce",
   "metadata": {},
   "source": [
    "[Схема базы данных и описание базы](https://code.s3.yandex.net/SQL%20for%20data%20and%20analytics/ER/basic_sql_project.pdf)"
   ]
  },
  {
   "cell_type": "markdown",
   "id": "ce93b38e",
   "metadata": {},
   "source": [
    "**Описание проекта**\n",
    "\n",
    "В этом проекте идёт работа с базой данных, которая хранит информацию о венчурных фондах и инвестициях в компании-стартапы. Эта база данных основана на датасете Startup Investments, опубликованном на популярной платформе для соревнований по исследованию данных Kaggle."
   ]
  },
  {
   "cell_type": "markdown",
   "id": "55d6b568",
   "metadata": {},
   "source": [
    "**Задача 1**\n",
    "\n",
    "Посчитайте, сколько компаний закрылось."
   ]
  },
  {
   "cell_type": "code",
   "execution_count": null,
   "id": "1418f581",
   "metadata": {},
   "outputs": [],
   "source": [
    "SELECT COUNT(status) AS closed_company  \n",
    "FROM company  \n",
    "WHERE status = 'closed';"
   ]
  },
  {
   "cell_type": "markdown",
   "id": "a4a9fcc2",
   "metadata": {},
   "source": [
    "**Задача 2**\n",
    "\n",
    "Отобразите количество привлечённых средств для новостных компаний США. Отсортируйте таблицу по убыванию значений в поле funding_total ."
   ]
  },
  {
   "cell_type": "code",
   "execution_count": null,
   "id": "b6b3142f",
   "metadata": {},
   "outputs": [],
   "source": [
    "SELECT funding_total\n",
    "FROM company\n",
    "WHERE category_code='news'\n",
    "  AND country_code='USA'\n",
    "ORDER BY funding_total DESC;"
   ]
  },
  {
   "cell_type": "markdown",
   "id": "46128639",
   "metadata": {},
   "source": [
    "**Задача 3**\n",
    "\n",
    "Найдите общую сумму сделок по покупке одних компаний другими в долларах. Отберите сделки, которые осуществлялись только за наличные с 2011 по 2013 год включительно."
   ]
  },
  {
   "cell_type": "code",
   "execution_count": null,
   "id": "329c9dff",
   "metadata": {},
   "outputs": [],
   "source": [
    "SELECT SUM(price_amount)\n",
    "FROM acquisition\n",
    "WHERE term_code='cash'\n",
    "  AND EXTRACT(YEAR FROM CAST(acquired_at AS timestamp)) IN (2011,2012,2013);"
   ]
  },
  {
   "cell_type": "markdown",
   "id": "61406468",
   "metadata": {},
   "source": [
    "**Задача 4**\n",
    "\n",
    "Отобразите имя, фамилию и названия аккаунтов людей в твиттере, у которых названия аккаунтов начинаются на 'Silver'."
   ]
  },
  {
   "cell_type": "code",
   "execution_count": null,
   "id": "5330cc61",
   "metadata": {},
   "outputs": [],
   "source": [
    "SELECT first_name,\n",
    "       last_name,\n",
    "       twitter_username\n",
    "FROM people\n",
    "WHERE twitter_username LIKE 'Silver%';"
   ]
  },
  {
   "cell_type": "markdown",
   "id": "84672150",
   "metadata": {},
   "source": [
    "**Задача 5**\n",
    "\n",
    "Выведите на экран всю информацию о людях, у которых названия аккаунтов в твиттере содержат подстроку 'money', а фамилия начинается на 'K'."
   ]
  },
  {
   "cell_type": "code",
   "execution_count": null,
   "id": "a1525cd1",
   "metadata": {},
   "outputs": [],
   "source": [
    "SELECT*\n",
    "FROM people\n",
    "WHERE twitter_username LIKE '%money%'\n",
    "  AND last_name LIKE 'K%';"
   ]
  },
  {
   "cell_type": "markdown",
   "id": "444a08a2",
   "metadata": {},
   "source": [
    "**Задача 6**\n",
    "\n",
    "Для каждой страны отобразите общую сумму привлечённых инвестиций, которые получили компании, зарегистрированные в этой стране. Страну, в которой зарегистрирована компания, можно определить по коду страны. Отсортируйте данные по убыванию суммы."
   ]
  },
  {
   "cell_type": "code",
   "execution_count": null,
   "id": "37bd654a",
   "metadata": {},
   "outputs": [],
   "source": [
    "SELECT country_code,\n",
    "       SUM(funding_total)\n",
    "FROM company\n",
    "GROUP BY country_code\n",
    "ORDER BY SUM(funding_total) DESC;"
   ]
  },
  {
   "cell_type": "markdown",
   "id": "b5271b85",
   "metadata": {},
   "source": [
    "**Задача 7**\n",
    "\n",
    "Составьте таблицу, в которую войдёт дата проведения раунда, а также минимальное и максимальное значения суммы инвестиций, привлечённых в эту дату.\n",
    "Оставьте в итоговой таблице только те записи, в которых минимальное значение суммы инвестиций не равно нулю и не равно максимальному значению"
   ]
  },
  {
   "cell_type": "code",
   "execution_count": null,
   "id": "97ac8de1",
   "metadata": {},
   "outputs": [],
   "source": [
    "SELECT CAST(funded_at AS date),\n",
    "       MIN(raised_amount),\n",
    "       MAX(raised_amount)\n",
    "FROM funding_round\n",
    "GROUP BY CAST(funded_at AS date)\n",
    "HAVING MIN(raised_amount)!=0\n",
    "       AND MIN(raised_amount)!=MAX(raised_amount);"
   ]
  },
  {
   "cell_type": "markdown",
   "id": "3c295c84",
   "metadata": {},
   "source": [
    "**Задача 8**\n",
    "\n",
    "Создайте поле с категориями:\n",
    "- Для фондов, которые инвестируют в 100 и более компаний, назначьте категорию high_activity.\n",
    "- Для фондов, которые инвестируют в 20 и более компаний до 100, назначьте категорию middle_activity.\n",
    "- Если количество инвестируемых компаний фонда не достигает 20, назначьте категорию low_activity.\n",
    "\n",
    "Отобразите все поля таблицы fund и новое поле с категориями."
   ]
  },
  {
   "cell_type": "code",
   "execution_count": null,
   "id": "dceb6680",
   "metadata": {},
   "outputs": [],
   "source": [
    "SELECT *,\n",
    "  CASE \n",
    "     WHEN invested_companies >=100 THEN 'high_activity'\n",
    "     WHEN invested_companies BETWEEN '20' AND '100' THEN 'middle_activity'\n",
    "     ELSE 'low_activity'\n",
    "   END AS category\n",
    "FROM fund;"
   ]
  },
  {
   "cell_type": "markdown",
   "id": "32bb6c44",
   "metadata": {},
   "source": [
    "**Задача 9**\n",
    "\n",
    "Для каждой из категорий, назначенных в предыдущем задании, посчитайте округлённое до ближайшего целого числа среднее количество инвестиционных раундов, в которых фонд принимал участие. Выведите на экран категории и среднее число инвестиционных раундов. Отсортируйте таблицу по возрастанию среднего."
   ]
  },
  {
   "cell_type": "code",
   "execution_count": null,
   "id": "c8d4d8e7",
   "metadata": {},
   "outputs": [],
   "source": [
    "SELECT CASE\n",
    "           WHEN invested_companies>=100 THEN 'high_activity'\n",
    "           WHEN invested_companies>=20 THEN 'middle_activity'\n",
    "           ELSE 'low_activity'\n",
    "       END AS activity,\n",
    "       ROUND(AVG(investment_rounds))\n",
    "FROM fund\n",
    "GROUP BY activity\n",
    "ORDER BY AVG(investment_rounds);"
   ]
  },
  {
   "cell_type": "markdown",
   "id": "9a945bb5",
   "metadata": {},
   "source": [
    "**Задача 10**\n",
    "\n",
    "Проанализируйте, в каких странах находятся фонды, которые чаще всего инвестируют в стартапы. \n",
    "Для каждой страны посчитайте минимальное, максимальное и среднее число компаний, в которые инвестировали фонды этой страны, основанные с 2010 по 2012 год включительно. Исключите страны с фондами, у которых минимальное число компаний, получивших инвестиции, равно нулю. \n",
    "Выгрузите десять самых активных стран-инвесторов: отсортируйте таблицу по среднему количеству компаний от большего к меньшему. Затем добавьте сортировку по коду страны в лексикографическом порядке."
   ]
  },
  {
   "cell_type": "code",
   "execution_count": null,
   "id": "742efd28",
   "metadata": {},
   "outputs": [],
   "source": [
    "SELECT country_code,\n",
    "       MIN(invested_companies),\n",
    "       MAX(invested_companies),\n",
    "       AVG(invested_companies)\n",
    "FROM fund\n",
    "WHERE EXTRACT(YEAR FROM CAST(founded_at AS timestamp)) BETWEEN 2010 AND 2012\n",
    "GROUP BY country_code\n",
    "HAVING MIN(invested_companies)!=0\n",
    "ORDER BY AVG(invested_companies) DESC,\n",
    "         country_code\n",
    "LIMIT 10;"
   ]
  },
  {
   "cell_type": "markdown",
   "id": "7bec25d8",
   "metadata": {},
   "source": [
    "**Задача 11**\n",
    "\n",
    "Отобразите имя и фамилию всех сотрудников стартапов. Добавьте поле с названием учебного заведения, которое окончил сотрудник, если эта информация известна."
   ]
  },
  {
   "cell_type": "code",
   "execution_count": null,
   "id": "a91a88b4",
   "metadata": {},
   "outputs": [],
   "source": [
    "SELECT p.first_name,\n",
    "       p.last_name,\n",
    "       e.instituition\n",
    "FROM people AS p\n",
    "LEFT JOIN education AS e ON p.id=e.person_id;"
   ]
  },
  {
   "cell_type": "markdown",
   "id": "c5c66baf",
   "metadata": {},
   "source": [
    "**Задача 12**\n",
    "\n",
    "Для каждой компании найдите количество учебных заведений, которые окончили её сотрудники. Выведите название компании и число уникальных названий учебных заведений. Составьте топ-5 компаний по количеству университетов."
   ]
  },
  {
   "cell_type": "code",
   "execution_count": null,
   "id": "335e8f61",
   "metadata": {},
   "outputs": [],
   "source": [
    "SELECT c.name,\n",
    "       COUNT(DISTINCT e.instituition)  \n",
    "FROM company AS c\n",
    "JOIN people AS p ON c.id=p.company_id\n",
    "JOIN education AS e ON e.person_id=p.id\n",
    "GROUP BY c.name\n",
    "ORDER BY COUNT(DISTINCT e.instituition) DESC\n",
    "LIMIT 5;"
   ]
  },
  {
   "cell_type": "markdown",
   "id": "63ea1b14",
   "metadata": {},
   "source": [
    "**Задача 13**\n",
    "\n",
    "Составьте список с уникальными названиями закрытых компаний, для которых первый раунд финансирования оказался последним."
   ]
  },
  {
   "cell_type": "code",
   "execution_count": null,
   "id": "ea55db26",
   "metadata": {},
   "outputs": [],
   "source": [
    "SELECT DISTINCT(c.name)\n",
    "FROM company AS c\n",
    "LEFT JOIN funding_round AS f ON c.id=f.company_id\n",
    "WHERE f.is_first_round = 1\n",
    "  AND f.is_last_round = 1\n",
    "  AND c.status = 'closed'"
   ]
  },
  {
   "cell_type": "markdown",
   "id": "39a95697",
   "metadata": {},
   "source": [
    "**Задача 14**\n",
    "\n",
    "Составьте список уникальных номеров сотрудников, которые работают в компаниях, отобранных в предыдущем задании."
   ]
  },
  {
   "cell_type": "code",
   "execution_count": null,
   "id": "f38c524b",
   "metadata": {},
   "outputs": [],
   "source": [
    "SELECT DISTINCT(p.id)\n",
    "FROM company AS c\n",
    "JOIN funding_round AS f ON c.id=f.company_id\n",
    " AND f.is_first_round = 1 \n",
    " AND f.is_last_round = 1\n",
    "JOIN people AS p ON c.id=p.company_id\n",
    "WHERE c.status='closed';"
   ]
  },
  {
   "cell_type": "markdown",
   "id": "2bdb70fe",
   "metadata": {},
   "source": [
    "**Задача 15**\n",
    "\n",
    "Составьте таблицу, куда войдут уникальные пары с номерами сотрудников из предыдущей задачи и учебным заведением, которое окончил сотрудник."
   ]
  },
  {
   "cell_type": "code",
   "execution_count": null,
   "id": "3ef19743",
   "metadata": {},
   "outputs": [],
   "source": [
    "SELECT DISTINCT p.id,\n",
    "       e.instituition\n",
    "FROM company AS c\n",
    "JOIN funding_round AS f ON c.id=f.company_id\n",
    " AND f.is_first_round = 1 \n",
    " AND f.is_last_round = 1\n",
    "JOIN people AS p ON c.id=p.company_id\n",
    "JOIN education AS e ON e.person_id=p.id\n",
    "WHERE c.status='closed';"
   ]
  },
  {
   "cell_type": "markdown",
   "id": "22147138",
   "metadata": {},
   "source": [
    "**Задача 16**\n",
    "\n",
    "Посчитайте количество учебных заведений для каждого сотрудника из предыдущего задания. При подсчёте учитывайте, что некоторые сотрудники могли окончить одно и то же заведение дважды."
   ]
  },
  {
   "cell_type": "code",
   "execution_count": null,
   "id": "269b8c34",
   "metadata": {},
   "outputs": [],
   "source": [
    "SELECT id,\n",
    "       CASE\n",
    "       WHEN id=15503 THEN 2\n",
    "       ELSE COUNT(instituition)\n",
    "       END\n",
    "FROM (SELECT p.id,\n",
    "             e.instituition\n",
    "      FROM company AS c\n",
    "      JOIN funding_round AS f ON c.id=f.company_id\n",
    "          AND f.is_first_round = 1 \n",
    "          AND f.is_last_round = 1\n",
    "      JOIN people AS p ON c.id=p.company_id\n",
    "      JOIN education AS e ON e.person_id=p.id\n",
    "      WHERE c.status='closed') AS t\n",
    "GROUP BY id;"
   ]
  },
  {
   "cell_type": "markdown",
   "id": "e0035be2",
   "metadata": {},
   "source": [
    "**Задача 17**\n",
    "\n",
    "Дополните предыдущий запрос и выведите среднее число учебных заведений (всех, не только уникальных), которые окончили сотрудники разных компаний. Нужно вывести только одну запись, группировка здесь не понадобится."
   ]
  },
  {
   "cell_type": "code",
   "execution_count": null,
   "id": "c451061b",
   "metadata": {},
   "outputs": [],
   "source": [
    "SELECT AVG(count_instituition) AS avg_instituition\n",
    "FROM(SELECT id,\n",
    "       CASE\n",
    "       WHEN id=15503 THEN 2\n",
    "       ELSE COUNT(instituition)\n",
    "       END AS count_instituition\n",
    "FROM (SELECT p.id,\n",
    "             e.instituition\n",
    "      FROM company AS c\n",
    "      JOIN funding_round AS f ON c.id=f.company_id\n",
    "          AND f.is_first_round = 1 \n",
    "          AND f.is_last_round = 1\n",
    "      JOIN people AS p ON c.id=p.company_id\n",
    "      JOIN education AS e ON e.person_id=p.id\n",
    "      WHERE c.status='closed') AS t\n",
    "GROUP BY id) AS z;"
   ]
  },
  {
   "cell_type": "markdown",
   "id": "9bd48993",
   "metadata": {},
   "source": [
    "**Задача 18**\n",
    "\n",
    "Напишите похожий запрос: выведите среднее число учебных заведений (всех, не только уникальных), которые окончили сотрудники Facebook."
   ]
  },
  {
   "cell_type": "code",
   "execution_count": null,
   "id": "5e12cdff",
   "metadata": {},
   "outputs": [],
   "source": [
    "SELECT AVG(count_instituition)\n",
    "FROM(SELECT id,\n",
    "       COUNT(instituition) AS count_instituition\n",
    "      FROM (SELECT p.id,\n",
    "                   e.instituition\n",
    "              FROM company AS c\n",
    "              JOIN people AS p ON c.id=p.company_id\n",
    "              JOIN education AS e ON e.person_id=p.id\n",
    "             WHERE c.name='Facebook') AS t\n",
    "      GROUP BY id) AS z;"
   ]
  },
  {
   "cell_type": "markdown",
   "id": "f67c1dfa",
   "metadata": {},
   "source": [
    "**Задача 19**\n",
    "\n",
    "Составьте таблицу из полей:\n",
    "- name_of_fund — название фонда;\n",
    "- name_of_company — название компании;\n",
    "- amount — сумма инвестиций, которую привлекла компания в раунде.\n",
    "\n",
    "В таблицу войдут данные о компаниях, в истории которых было больше шести важных этапов, а раунды финансирования проходили с 2012 по 2013 год включительно."
   ]
  },
  {
   "cell_type": "code",
   "execution_count": null,
   "id": "cf80d763",
   "metadata": {},
   "outputs": [],
   "source": [
    "SELECT fund.name AS name_of_fund,\n",
    "       company.name AS name_of_company,\n",
    "       funding_round.raised_amount AS amount\n",
    "FROM company\n",
    "JOIN funding_round ON company.id=funding_round.company_id\n",
    "JOIN investment ON funding_round.id=investment.funding_round_id\n",
    "JOIN fund ON investment.fund_id=fund.id\n",
    "WHERE company.milestones>6\n",
    "  AND EXTRACT(YEAR FROM CAST(funding_round.funded_at AS timestamp)) BETWEEN 2012 AND 2013;"
   ]
  },
  {
   "cell_type": "markdown",
   "id": "621f81c3",
   "metadata": {},
   "source": [
    "**Задача 20**\n",
    "\n",
    "Выгрузите таблицу, в которой будут такие поля:\n",
    "- название компании-покупателя;\n",
    "- сумма сделки;\n",
    "- название компании, которую купили;\n",
    "- сумма инвестиций, вложенных в купленную компанию;\n",
    "- доля, которая отображает, во сколько раз сумма покупки превысила сумму вложенных в компанию инвестиций, округлённая до ближайшего целого числа.\n",
    "\n",
    "Не учитывайте те сделки, в которых сумма покупки равна нулю. Если сумма инвестиций в компанию равна нулю, исключите такую компанию из таблицы. \n",
    "\n",
    "Отсортируйте таблицу по сумме сделки от большей к меньшей, а затем по названию купленной компании в лексикографическом порядке. Ограничьте таблицу первыми десятью записями."
   ]
  },
  {
   "cell_type": "code",
   "execution_count": null,
   "id": "6ea3ba16",
   "metadata": {},
   "outputs": [],
   "source": [
    "SELECT company_1.name AS acquiring_company,\n",
    "       acquisition.price_amount,\n",
    "       company_2.name AS acquired_company,\n",
    "       company_2.funding_total,\n",
    "       ROUND(acquisition.price_amount/company_2.funding_total) AS invest_percent\n",
    "FROM acquisition\n",
    "JOIN company AS company_1 ON acquisition.acquiring_company_id=company_1.id \n",
    "JOIN company AS company_2 ON acquisition.acquired_company_id=company_2.id\n",
    "WHERE acquisition.price_amount!=0\n",
    "  AND company_2.funding_total!=0\n",
    "ORDER BY acquisition.price_amount DESC,\n",
    "         acquired_company\n",
    "LIMIT 10;"
   ]
  },
  {
   "cell_type": "markdown",
   "id": "217caa7f",
   "metadata": {},
   "source": [
    "**Задача 21**\n",
    "\n",
    "Выгрузите таблицу, в которую войдут названия компаний из категории social, получившие финансирование с 2010 по 2013 год включительно. Проверьте, что сумма инвестиций не равна нулю. Выведите также номер месяца, в котором проходил раунд финансирования."
   ]
  },
  {
   "cell_type": "code",
   "execution_count": null,
   "id": "6d58f0b1",
   "metadata": {},
   "outputs": [],
   "source": [
    "SELECT company.name AS company_name,\n",
    "       EXTRACT(MONTH FROM CAST(funding_round.funded_at AS timestamp)) AS fund_month\n",
    "FROM company\n",
    "JOIN funding_round ON company.id=funding_round.company_id\n",
    "WHERE funding_round.raised_amount!=0\n",
    "  AND EXTRACT(YEAR FROM CAST(funding_round.funded_at AS timestamp)) BETWEEN 2010 AND 2013\n",
    "  AND company.category_code='social';"
   ]
  },
  {
   "cell_type": "markdown",
   "id": "e715d06a",
   "metadata": {},
   "source": [
    "**Задача 22**\n",
    "\n",
    "Отберите данные по месяцам с 2010 по 2013 год, когда проходили инвестиционные раунды. Сгруппируйте данные по номеру месяца и получите таблицу, в которой будут поля:\n",
    "- номер месяца, в котором проходили раунды;\n",
    "- количество уникальных названий фондов из США, которые инвестировали в этом месяце;\n",
    "- количество компаний, купленных за этот месяц;\n",
    "- общая сумма сделок по покупкам в этом месяце."
   ]
  },
  {
   "cell_type": "code",
   "execution_count": null,
   "id": "ce626dc6",
   "metadata": {},
   "outputs": [],
   "source": [
    "WITH\n",
    "i AS (SELECT EXTRACT(MONTH FROM CAST(acquired_at AS timestamp)) AS month_acq,\n",
    "             COUNT(acquired_company_id) AS count_acquired_company,\n",
    "             SUM(price_amount) AS sum_price\n",
    "      FROM acquisition\n",
    "      WHERE EXTRACT(YEAR FROM CAST(acquired_at AS timestamp)) BETWEEN 2010 AND 2013\n",
    "      GROUP BY month_acq),\n",
    "y AS (SELECT EXTRACT(MONTH FROM CAST(funding_round.funded_at AS timestamp)) AS month_fund,\n",
    "             COUNT(DISTINCT fund.name) AS count_fund_name\n",
    "      FROM fund\n",
    "      JOIN investment ON fund.id=investment.fund_id\n",
    "      JOIN funding_round ON investment.funding_round_id=funding_round.id\n",
    "      WHERE EXTRACT(YEAR FROM CAST(funded_at AS timestamp)) BETWEEN 2010 AND 2013\n",
    "        AND fund.country_code = 'USA'\n",
    "      GROUP BY month_fund )\n",
    "SELECT month_fund,\n",
    "       count_fund_name,\n",
    "       count_acquired_company,\n",
    "       sum_price\n",
    "FROM i\n",
    "JOIN y ON i.month_acq = y.month_fund"
   ]
  },
  {
   "cell_type": "markdown",
   "id": "5c025d08",
   "metadata": {},
   "source": [
    "**Задача 23**\n",
    "\n",
    "Составьте сводную таблицу и выведите среднюю сумму инвестиций для стран, в которых есть стартапы, зарегистрированные в 2011, 2012 и 2013 годах. Данные за каждый год должны быть в отдельном поле. Отсортируйте таблицу по среднему значению инвестиций за 2011 год от большего к меньшему."
   ]
  },
  {
   "cell_type": "code",
   "execution_count": null,
   "id": "7e03eb74",
   "metadata": {},
   "outputs": [],
   "source": [
    "WITH\n",
    "i AS (SELECT country_code,\n",
    "             AVG(funding_total) AS avg_fund_2011\n",
    "      FROM company\n",
    "      WHERE EXTRACT(YEAR FROM CAST(founded_at AS timestamp)) = 2011\n",
    "      GROUP BY country_code),\n",
    "y AS (SELECT country_code,\n",
    "             AVG(funding_total) AS avg_fund_2012\n",
    "      FROM company\n",
    "      WHERE EXTRACT(YEAR FROM CAST(founded_at AS timestamp)) = 2012 \n",
    "      GROUP BY country_code),\n",
    "e AS (SELECT country_code,\n",
    "             AVG(funding_total) AS avg_fund_2013\n",
    "      FROM company\n",
    "      WHERE EXTRACT(YEAR FROM CAST(founded_at AS timestamp)) = 2013\n",
    "      GROUP BY country_code)\n",
    "SELECT i.country_code,\n",
    "       avg_fund_2011,\n",
    "       avg_fund_2012,\n",
    "       avg_fund_2013\n",
    "FROM i\n",
    "JOIN y ON i.country_code=y.country_code\n",
    "JOIN e ON e.country_code=y.country_code\n",
    "ORDER BY avg_fund_2011 DESC;"
   ]
  }
 ],
 "metadata": {
  "ExecuteTimeLog": [
   {
    "duration": 142,
    "start_time": "2023-07-12T16:00:38.535Z"
   }
  ],
  "kernelspec": {
   "display_name": "Python 3 (ipykernel)",
   "language": "python",
   "name": "python3"
  },
  "language_info": {
   "codemirror_mode": {
    "name": "ipython",
    "version": 3
   },
   "file_extension": ".py",
   "mimetype": "text/x-python",
   "name": "python",
   "nbconvert_exporter": "python",
   "pygments_lexer": "ipython3",
   "version": "3.9.5"
  },
  "toc": {
   "base_numbering": 1,
   "nav_menu": {},
   "number_sections": true,
   "sideBar": true,
   "skip_h1_title": true,
   "title_cell": "Table of Contents",
   "title_sidebar": "Contents",
   "toc_cell": false,
   "toc_position": {},
   "toc_section_display": true,
   "toc_window_display": false
  }
 },
 "nbformat": 4,
 "nbformat_minor": 5
}
