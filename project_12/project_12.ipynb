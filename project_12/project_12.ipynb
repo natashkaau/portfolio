{
 "cells": [
  {
   "cell_type": "markdown",
   "metadata": {},
   "source": [
    "## Приоритизация гипотез по увеличению выручки интернет-магазина, анализ A/B-теста"
   ]
  },
  {
   "cell_type": "markdown",
   "metadata": {},
   "source": [
    "**Краткое описание проекта**\n",
    "\n",
    "Заказчик исследования — крупный интернет-магазин.\n",
    "Необходимо приоритизировать гипотезы, запустить A/B-тест и проанализировать результаты.\n",
    "\n",
    "**Цель проекта**\n",
    "\n",
    "Изучить данные и гипотезы, приоритизировать гипотезы при помощи фрейморков, провести анализ A/B-теста.\n",
    "\n",
    "**Описание данных**\n",
    "\n",
    "В файле hypothesis.csv 9 гипотез по увеличению выручки интернет-магазина с указанными параметрами Reach, Impact, Confidence, Effort.\n",
    "\n",
    "Таблица orders содержит информацию о заказах пользователей в интернет-магазине:\n",
    "\n",
    "    -transactionId - идентификатор заказа;\n",
    "    -visitorId - идентификатор пользователя, совершившего заказ;\n",
    "    -date - дата заказа;\n",
    "    -revenue - выручка с заказа (средний чек);\n",
    "    -group - группа A/B-теста (A или B).\n",
    "    \n",
    "Таблица visitors содержит информацию о посетителях интернет-магазина:\n",
    "\n",
    "    -date - дата;\n",
    "    -group - группа A/B-теста (A или B);\n",
    "    -visitors - количество посетителей интернет-магазина в определённой группе A/B-теста в указанную дату.\n",
    "\n",
    "**План работы**\n",
    "\n",
    "1. Открыть файлы с данными.\n",
    "2. Выполнить приоритизацию гипотез\n",
    "- Применить фреймворк ICE для приоритизации гипотез. Отсортировать их по убыванию приоритета.\n",
    "- Применить фреймворк RICE для приоритизации гипотез. Отсортировать их по убыванию приоритета.\n",
    "- Указать, как изменилась приоритизация гипотез при применении RICE вместо ICE.\n",
    "3. Провести A/B-тест\n",
    "- Построить график кумулятивной выручки по группам.\n",
    "- Построить график кумулятивного среднего чека по группам.\n",
    "- Построить график относительного изменения кумулятивного среднего чека группы B к группе A.\n",
    "- Построить график кумулятивного среднего количества заказов на посетителя по группам.\n",
    "- Построить график относительного изменения кумулятивного среднего количества заказов на посетителя группы B к группе A.\n",
    "- Построить точечный график количества заказов по пользователям.\n",
    "- Посчитать 95-й и 99-й перцентили количества заказов на пользователя. Выбрать границу для определения аномальных пользователей.\n",
    "- Построить точечный график стоимостей заказов.\n",
    "- Посчитать 95-й и 99-й перцентили стоимости заказов. Выберать границу для определения аномальных заказов.\n",
    "- Посчитать статистическую значимость различий в среднем количестве заказов на посетителя между группами по «сырым» данным.\n",
    "- Посчитать статистическую значимость различий в среднем чеке заказа между группами по «сырым» данным.\n",
    "- Посчитать статистическую значимость различий в среднем количестве заказов на посетителя между группами по «очищенным» данным.\n",
    "- Посчитать статистическую значимость различий в среднем чеке заказа между группами по «очищенным» данным.\n",
    "- Принять решение по результатам теста.\n",
    "4. Написать общий вывод."
   ]
  },
  {
   "cell_type": "markdown",
   "metadata": {},
   "source": [
    "### Приоритизация гипотез"
   ]
  },
  {
   "cell_type": "code",
   "execution_count": 1,
   "metadata": {},
   "outputs": [],
   "source": [
    "# импортируем библиотеки\n",
    "import pandas as pd\n",
    "import matplotlib.pyplot as plt\n",
    "import numpy as np\n",
    "import scipy.stats as stats\n",
    "import seaborn as sns"
   ]
  },
  {
   "cell_type": "code",
   "execution_count": 2,
   "metadata": {},
   "outputs": [],
   "source": [
    "data = pd.read_csv('/datasets/hypothesis.csv')# читаем файл с данными и сохраняем в data"
   ]
  },
  {
   "cell_type": "code",
   "execution_count": 3,
   "metadata": {},
   "outputs": [
    {
     "data": {
      "text/html": [
       "<div>\n",
       "<style scoped>\n",
       "    .dataframe tbody tr th:only-of-type {\n",
       "        vertical-align: middle;\n",
       "    }\n",
       "\n",
       "    .dataframe tbody tr th {\n",
       "        vertical-align: top;\n",
       "    }\n",
       "\n",
       "    .dataframe thead th {\n",
       "        text-align: right;\n",
       "    }\n",
       "</style>\n",
       "<table border=\"1\" class=\"dataframe\">\n",
       "  <thead>\n",
       "    <tr style=\"text-align: right;\">\n",
       "      <th></th>\n",
       "      <th>Hypothesis</th>\n",
       "      <th>Reach</th>\n",
       "      <th>Impact</th>\n",
       "      <th>Confidence</th>\n",
       "      <th>Efforts</th>\n",
       "    </tr>\n",
       "  </thead>\n",
       "  <tbody>\n",
       "    <tr>\n",
       "      <th>0</th>\n",
       "      <td>Добавить два новых канала привлечения трафика, что позволит привлекать на 30% больше пользователей</td>\n",
       "      <td>3</td>\n",
       "      <td>10</td>\n",
       "      <td>8</td>\n",
       "      <td>6</td>\n",
       "    </tr>\n",
       "    <tr>\n",
       "      <th>1</th>\n",
       "      <td>Запустить собственную службу доставки, что сократит срок доставки заказов</td>\n",
       "      <td>2</td>\n",
       "      <td>5</td>\n",
       "      <td>4</td>\n",
       "      <td>10</td>\n",
       "    </tr>\n",
       "    <tr>\n",
       "      <th>2</th>\n",
       "      <td>Добавить блоки рекомендаций товаров на сайт интернет магазина, чтобы повысить конверсию и средний чек заказа</td>\n",
       "      <td>8</td>\n",
       "      <td>3</td>\n",
       "      <td>7</td>\n",
       "      <td>3</td>\n",
       "    </tr>\n",
       "    <tr>\n",
       "      <th>3</th>\n",
       "      <td>Изменить структура категорий, что увеличит конверсию, т.к. пользователи быстрее найдут нужный товар</td>\n",
       "      <td>8</td>\n",
       "      <td>3</td>\n",
       "      <td>3</td>\n",
       "      <td>8</td>\n",
       "    </tr>\n",
       "    <tr>\n",
       "      <th>4</th>\n",
       "      <td>Изменить цвет фона главной страницы, чтобы увеличить вовлеченность пользователей</td>\n",
       "      <td>3</td>\n",
       "      <td>1</td>\n",
       "      <td>1</td>\n",
       "      <td>1</td>\n",
       "    </tr>\n",
       "  </tbody>\n",
       "</table>\n",
       "</div>"
      ],
      "text/plain": [
       "                                                                                                     Hypothesis  \\\n",
       "0  Добавить два новых канала привлечения трафика, что позволит привлекать на 30% больше пользователей             \n",
       "1  Запустить собственную службу доставки, что сократит срок доставки заказов                                      \n",
       "2  Добавить блоки рекомендаций товаров на сайт интернет магазина, чтобы повысить конверсию и средний чек заказа   \n",
       "3  Изменить структура категорий, что увеличит конверсию, т.к. пользователи быстрее найдут нужный товар            \n",
       "4  Изменить цвет фона главной страницы, чтобы увеличить вовлеченность пользователей                               \n",
       "\n",
       "   Reach  Impact  Confidence  Efforts  \n",
       "0  3      10      8           6        \n",
       "1  2      5       4           10       \n",
       "2  8      3       7           3        \n",
       "3  8      3       3           8        \n",
       "4  3      1       1           1        "
      ]
     },
     "execution_count": 3,
     "metadata": {},
     "output_type": "execute_result"
    }
   ],
   "source": [
    "pd.set_option('display.max_colwidth', False)\n",
    "data.head(5)# выводим первые 5 строк таблицы data"
   ]
  },
  {
   "cell_type": "code",
   "execution_count": 4,
   "metadata": {},
   "outputs": [],
   "source": [
    "data['ICE'] = round((data['Impact'] * data['Confidence'])/ data['Efforts'], 2)# посчитаем ICE для приоритизации гипотез"
   ]
  },
  {
   "cell_type": "code",
   "execution_count": 5,
   "metadata": {},
   "outputs": [
    {
     "data": {
      "text/html": [
       "<div>\n",
       "<style scoped>\n",
       "    .dataframe tbody tr th:only-of-type {\n",
       "        vertical-align: middle;\n",
       "    }\n",
       "\n",
       "    .dataframe tbody tr th {\n",
       "        vertical-align: top;\n",
       "    }\n",
       "\n",
       "    .dataframe thead th {\n",
       "        text-align: right;\n",
       "    }\n",
       "</style>\n",
       "<table border=\"1\" class=\"dataframe\">\n",
       "  <thead>\n",
       "    <tr style=\"text-align: right;\">\n",
       "      <th></th>\n",
       "      <th>Hypothesis</th>\n",
       "      <th>ICE</th>\n",
       "    </tr>\n",
       "  </thead>\n",
       "  <tbody>\n",
       "    <tr>\n",
       "      <th>8</th>\n",
       "      <td>Запустить акцию, дающую скидку на товар в день рождения</td>\n",
       "      <td>16.20</td>\n",
       "    </tr>\n",
       "    <tr>\n",
       "      <th>0</th>\n",
       "      <td>Добавить два новых канала привлечения трафика, что позволит привлекать на 30% больше пользователей</td>\n",
       "      <td>13.33</td>\n",
       "    </tr>\n",
       "    <tr>\n",
       "      <th>7</th>\n",
       "      <td>Добавить форму подписки на все основные страницы, чтобы собрать базу клиентов для email-рассылок</td>\n",
       "      <td>11.20</td>\n",
       "    </tr>\n",
       "    <tr>\n",
       "      <th>6</th>\n",
       "      <td>Показать на главной странице баннеры с актуальными акциями и распродажами, чтобы увеличить конверсию</td>\n",
       "      <td>8.00</td>\n",
       "    </tr>\n",
       "    <tr>\n",
       "      <th>2</th>\n",
       "      <td>Добавить блоки рекомендаций товаров на сайт интернет магазина, чтобы повысить конверсию и средний чек заказа</td>\n",
       "      <td>7.00</td>\n",
       "    </tr>\n",
       "    <tr>\n",
       "      <th>1</th>\n",
       "      <td>Запустить собственную службу доставки, что сократит срок доставки заказов</td>\n",
       "      <td>2.00</td>\n",
       "    </tr>\n",
       "    <tr>\n",
       "      <th>5</th>\n",
       "      <td>Добавить страницу отзывов клиентов о магазине, что позволит увеличить количество заказов</td>\n",
       "      <td>1.33</td>\n",
       "    </tr>\n",
       "    <tr>\n",
       "      <th>3</th>\n",
       "      <td>Изменить структура категорий, что увеличит конверсию, т.к. пользователи быстрее найдут нужный товар</td>\n",
       "      <td>1.12</td>\n",
       "    </tr>\n",
       "    <tr>\n",
       "      <th>4</th>\n",
       "      <td>Изменить цвет фона главной страницы, чтобы увеличить вовлеченность пользователей</td>\n",
       "      <td>1.00</td>\n",
       "    </tr>\n",
       "  </tbody>\n",
       "</table>\n",
       "</div>"
      ],
      "text/plain": [
       "                                                                                                     Hypothesis  \\\n",
       "8  Запустить акцию, дающую скидку на товар в день рождения                                                        \n",
       "0  Добавить два новых канала привлечения трафика, что позволит привлекать на 30% больше пользователей             \n",
       "7  Добавить форму подписки на все основные страницы, чтобы собрать базу клиентов для email-рассылок               \n",
       "6  Показать на главной странице баннеры с актуальными акциями и распродажами, чтобы увеличить конверсию           \n",
       "2  Добавить блоки рекомендаций товаров на сайт интернет магазина, чтобы повысить конверсию и средний чек заказа   \n",
       "1  Запустить собственную службу доставки, что сократит срок доставки заказов                                      \n",
       "5  Добавить страницу отзывов клиентов о магазине, что позволит увеличить количество заказов                       \n",
       "3  Изменить структура категорий, что увеличит конверсию, т.к. пользователи быстрее найдут нужный товар            \n",
       "4  Изменить цвет фона главной страницы, чтобы увеличить вовлеченность пользователей                               \n",
       "\n",
       "     ICE  \n",
       "8  16.20  \n",
       "0  13.33  \n",
       "7  11.20  \n",
       "6  8.00   \n",
       "2  7.00   \n",
       "1  2.00   \n",
       "5  1.33   \n",
       "3  1.12   \n",
       "4  1.00   "
      ]
     },
     "execution_count": 5,
     "metadata": {},
     "output_type": "execute_result"
    }
   ],
   "source": [
    "data[['Hypothesis', 'ICE']].sort_values(by = 'ICE', ascending = False)# выведем столбцы 'Hypothesis' и 'ICE', отсортированные по столбцу 'ICE'"
   ]
  },
  {
   "cell_type": "code",
   "execution_count": 6,
   "metadata": {},
   "outputs": [],
   "source": [
    "data['RICE'] = (data['Reach'] * data['Impact'] * data['Confidence']) / data['Efforts']# посчитаем RICE для приоритизации гипотез"
   ]
  },
  {
   "cell_type": "code",
   "execution_count": 7,
   "metadata": {},
   "outputs": [
    {
     "data": {
      "text/html": [
       "<div>\n",
       "<style scoped>\n",
       "    .dataframe tbody tr th:only-of-type {\n",
       "        vertical-align: middle;\n",
       "    }\n",
       "\n",
       "    .dataframe tbody tr th {\n",
       "        vertical-align: top;\n",
       "    }\n",
       "\n",
       "    .dataframe thead th {\n",
       "        text-align: right;\n",
       "    }\n",
       "</style>\n",
       "<table border=\"1\" class=\"dataframe\">\n",
       "  <thead>\n",
       "    <tr style=\"text-align: right;\">\n",
       "      <th></th>\n",
       "      <th>Hypothesis</th>\n",
       "      <th>RICE</th>\n",
       "    </tr>\n",
       "  </thead>\n",
       "  <tbody>\n",
       "    <tr>\n",
       "      <th>7</th>\n",
       "      <td>Добавить форму подписки на все основные страницы, чтобы собрать базу клиентов для email-рассылок</td>\n",
       "      <td>112.0</td>\n",
       "    </tr>\n",
       "    <tr>\n",
       "      <th>2</th>\n",
       "      <td>Добавить блоки рекомендаций товаров на сайт интернет магазина, чтобы повысить конверсию и средний чек заказа</td>\n",
       "      <td>56.0</td>\n",
       "    </tr>\n",
       "    <tr>\n",
       "      <th>0</th>\n",
       "      <td>Добавить два новых канала привлечения трафика, что позволит привлекать на 30% больше пользователей</td>\n",
       "      <td>40.0</td>\n",
       "    </tr>\n",
       "    <tr>\n",
       "      <th>6</th>\n",
       "      <td>Показать на главной странице баннеры с актуальными акциями и распродажами, чтобы увеличить конверсию</td>\n",
       "      <td>40.0</td>\n",
       "    </tr>\n",
       "    <tr>\n",
       "      <th>8</th>\n",
       "      <td>Запустить акцию, дающую скидку на товар в день рождения</td>\n",
       "      <td>16.2</td>\n",
       "    </tr>\n",
       "    <tr>\n",
       "      <th>3</th>\n",
       "      <td>Изменить структура категорий, что увеличит конверсию, т.к. пользователи быстрее найдут нужный товар</td>\n",
       "      <td>9.0</td>\n",
       "    </tr>\n",
       "    <tr>\n",
       "      <th>1</th>\n",
       "      <td>Запустить собственную службу доставки, что сократит срок доставки заказов</td>\n",
       "      <td>4.0</td>\n",
       "    </tr>\n",
       "    <tr>\n",
       "      <th>5</th>\n",
       "      <td>Добавить страницу отзывов клиентов о магазине, что позволит увеличить количество заказов</td>\n",
       "      <td>4.0</td>\n",
       "    </tr>\n",
       "    <tr>\n",
       "      <th>4</th>\n",
       "      <td>Изменить цвет фона главной страницы, чтобы увеличить вовлеченность пользователей</td>\n",
       "      <td>3.0</td>\n",
       "    </tr>\n",
       "  </tbody>\n",
       "</table>\n",
       "</div>"
      ],
      "text/plain": [
       "                                                                                                     Hypothesis  \\\n",
       "7  Добавить форму подписки на все основные страницы, чтобы собрать базу клиентов для email-рассылок               \n",
       "2  Добавить блоки рекомендаций товаров на сайт интернет магазина, чтобы повысить конверсию и средний чек заказа   \n",
       "0  Добавить два новых канала привлечения трафика, что позволит привлекать на 30% больше пользователей             \n",
       "6  Показать на главной странице баннеры с актуальными акциями и распродажами, чтобы увеличить конверсию           \n",
       "8  Запустить акцию, дающую скидку на товар в день рождения                                                        \n",
       "3  Изменить структура категорий, что увеличит конверсию, т.к. пользователи быстрее найдут нужный товар            \n",
       "1  Запустить собственную службу доставки, что сократит срок доставки заказов                                      \n",
       "5  Добавить страницу отзывов клиентов о магазине, что позволит увеличить количество заказов                       \n",
       "4  Изменить цвет фона главной страницы, чтобы увеличить вовлеченность пользователей                               \n",
       "\n",
       "    RICE  \n",
       "7  112.0  \n",
       "2  56.0   \n",
       "0  40.0   \n",
       "6  40.0   \n",
       "8  16.2   \n",
       "3  9.0    \n",
       "1  4.0    \n",
       "5  4.0    \n",
       "4  3.0    "
      ]
     },
     "execution_count": 7,
     "metadata": {},
     "output_type": "execute_result"
    }
   ],
   "source": [
    "data[['Hypothesis', 'RICE']].sort_values(by = 'RICE', ascending = False)# выведем столбцы 'Hypothesis' и 'RICE', отсортированные по столбцу 'RICE'"
   ]
  },
  {
   "cell_type": "markdown",
   "metadata": {},
   "source": [
    "При применении фреймворка ICE на первом месте находится 8-ая гипотеза, а при применении фреймворка RICE на первом месте находится 7-ая гипотеза, также порядок гипотез изменился при применени второго фреймворка. Это произошло из-за того, что в RICE  мы указали дополнительно параметр Reach, который учитывает охват пользователей, которых затронут гипотезы. А это очень важный параметр."
   ]
  },
  {
   "cell_type": "markdown",
   "metadata": {},
   "source": [
    "### Анализ A/B-теста"
   ]
  },
  {
   "cell_type": "code",
   "execution_count": 8,
   "metadata": {},
   "outputs": [],
   "source": [
    "orders = pd.read_csv('/datasets/orders.csv')# читаем файл с данными и сохраняем в orders"
   ]
  },
  {
   "cell_type": "code",
   "execution_count": 9,
   "metadata": {},
   "outputs": [],
   "source": [
    "visitors = pd.read_csv('/datasets/visitors.csv')# читаем файл с данными и сохраняем в visitors"
   ]
  },
  {
   "cell_type": "code",
   "execution_count": 10,
   "metadata": {},
   "outputs": [
    {
     "data": {
      "text/html": [
       "<div>\n",
       "<style scoped>\n",
       "    .dataframe tbody tr th:only-of-type {\n",
       "        vertical-align: middle;\n",
       "    }\n",
       "\n",
       "    .dataframe tbody tr th {\n",
       "        vertical-align: top;\n",
       "    }\n",
       "\n",
       "    .dataframe thead th {\n",
       "        text-align: right;\n",
       "    }\n",
       "</style>\n",
       "<table border=\"1\" class=\"dataframe\">\n",
       "  <thead>\n",
       "    <tr style=\"text-align: right;\">\n",
       "      <th></th>\n",
       "      <th>transactionId</th>\n",
       "      <th>visitorId</th>\n",
       "      <th>date</th>\n",
       "      <th>revenue</th>\n",
       "      <th>group</th>\n",
       "    </tr>\n",
       "  </thead>\n",
       "  <tbody>\n",
       "    <tr>\n",
       "      <th>0</th>\n",
       "      <td>3667963787</td>\n",
       "      <td>3312258926</td>\n",
       "      <td>2019-08-15</td>\n",
       "      <td>1650</td>\n",
       "      <td>B</td>\n",
       "    </tr>\n",
       "    <tr>\n",
       "      <th>1</th>\n",
       "      <td>2804400009</td>\n",
       "      <td>3642806036</td>\n",
       "      <td>2019-08-15</td>\n",
       "      <td>730</td>\n",
       "      <td>B</td>\n",
       "    </tr>\n",
       "    <tr>\n",
       "      <th>2</th>\n",
       "      <td>2961555356</td>\n",
       "      <td>4069496402</td>\n",
       "      <td>2019-08-15</td>\n",
       "      <td>400</td>\n",
       "      <td>A</td>\n",
       "    </tr>\n",
       "    <tr>\n",
       "      <th>3</th>\n",
       "      <td>3797467345</td>\n",
       "      <td>1196621759</td>\n",
       "      <td>2019-08-15</td>\n",
       "      <td>9759</td>\n",
       "      <td>B</td>\n",
       "    </tr>\n",
       "    <tr>\n",
       "      <th>4</th>\n",
       "      <td>2282983706</td>\n",
       "      <td>2322279887</td>\n",
       "      <td>2019-08-15</td>\n",
       "      <td>2308</td>\n",
       "      <td>B</td>\n",
       "    </tr>\n",
       "  </tbody>\n",
       "</table>\n",
       "</div>"
      ],
      "text/plain": [
       "   transactionId   visitorId        date  revenue group\n",
       "0  3667963787     3312258926  2019-08-15  1650     B   \n",
       "1  2804400009     3642806036  2019-08-15  730      B   \n",
       "2  2961555356     4069496402  2019-08-15  400      A   \n",
       "3  3797467345     1196621759  2019-08-15  9759     B   \n",
       "4  2282983706     2322279887  2019-08-15  2308     B   "
      ]
     },
     "execution_count": 10,
     "metadata": {},
     "output_type": "execute_result"
    }
   ],
   "source": [
    "orders.head(5)# выводим первые 5 строк таблицы orders"
   ]
  },
  {
   "cell_type": "code",
   "execution_count": 11,
   "metadata": {},
   "outputs": [],
   "source": [
    "# переименуем столбцы\n",
    "orders = orders.rename(columns = {'transactionId':'transaction_id',\n",
    "                                  'visitorId':'visitor_id'})"
   ]
  },
  {
   "cell_type": "code",
   "execution_count": 12,
   "metadata": {},
   "outputs": [
    {
     "data": {
      "text/html": [
       "<div>\n",
       "<style scoped>\n",
       "    .dataframe tbody tr th:only-of-type {\n",
       "        vertical-align: middle;\n",
       "    }\n",
       "\n",
       "    .dataframe tbody tr th {\n",
       "        vertical-align: top;\n",
       "    }\n",
       "\n",
       "    .dataframe thead th {\n",
       "        text-align: right;\n",
       "    }\n",
       "</style>\n",
       "<table border=\"1\" class=\"dataframe\">\n",
       "  <thead>\n",
       "    <tr style=\"text-align: right;\">\n",
       "      <th></th>\n",
       "      <th>transaction_id</th>\n",
       "      <th>visitor_id</th>\n",
       "      <th>date</th>\n",
       "      <th>revenue</th>\n",
       "      <th>group</th>\n",
       "    </tr>\n",
       "  </thead>\n",
       "  <tbody>\n",
       "    <tr>\n",
       "      <th>0</th>\n",
       "      <td>3667963787</td>\n",
       "      <td>3312258926</td>\n",
       "      <td>2019-08-15</td>\n",
       "      <td>1650</td>\n",
       "      <td>B</td>\n",
       "    </tr>\n",
       "    <tr>\n",
       "      <th>1</th>\n",
       "      <td>2804400009</td>\n",
       "      <td>3642806036</td>\n",
       "      <td>2019-08-15</td>\n",
       "      <td>730</td>\n",
       "      <td>B</td>\n",
       "    </tr>\n",
       "    <tr>\n",
       "      <th>2</th>\n",
       "      <td>2961555356</td>\n",
       "      <td>4069496402</td>\n",
       "      <td>2019-08-15</td>\n",
       "      <td>400</td>\n",
       "      <td>A</td>\n",
       "    </tr>\n",
       "    <tr>\n",
       "      <th>3</th>\n",
       "      <td>3797467345</td>\n",
       "      <td>1196621759</td>\n",
       "      <td>2019-08-15</td>\n",
       "      <td>9759</td>\n",
       "      <td>B</td>\n",
       "    </tr>\n",
       "    <tr>\n",
       "      <th>4</th>\n",
       "      <td>2282983706</td>\n",
       "      <td>2322279887</td>\n",
       "      <td>2019-08-15</td>\n",
       "      <td>2308</td>\n",
       "      <td>B</td>\n",
       "    </tr>\n",
       "  </tbody>\n",
       "</table>\n",
       "</div>"
      ],
      "text/plain": [
       "   transaction_id  visitor_id        date  revenue group\n",
       "0  3667963787      3312258926  2019-08-15  1650     B   \n",
       "1  2804400009      3642806036  2019-08-15  730      B   \n",
       "2  2961555356      4069496402  2019-08-15  400      A   \n",
       "3  3797467345      1196621759  2019-08-15  9759     B   \n",
       "4  2282983706      2322279887  2019-08-15  2308     B   "
      ]
     },
     "execution_count": 12,
     "metadata": {},
     "output_type": "execute_result"
    }
   ],
   "source": [
    "orders.head(5)# проверим переименование столбцов"
   ]
  },
  {
   "cell_type": "code",
   "execution_count": 13,
   "metadata": {
    "scrolled": true
   },
   "outputs": [
    {
     "data": {
      "text/html": [
       "<div>\n",
       "<style scoped>\n",
       "    .dataframe tbody tr th:only-of-type {\n",
       "        vertical-align: middle;\n",
       "    }\n",
       "\n",
       "    .dataframe tbody tr th {\n",
       "        vertical-align: top;\n",
       "    }\n",
       "\n",
       "    .dataframe thead th {\n",
       "        text-align: right;\n",
       "    }\n",
       "</style>\n",
       "<table border=\"1\" class=\"dataframe\">\n",
       "  <thead>\n",
       "    <tr style=\"text-align: right;\">\n",
       "      <th></th>\n",
       "      <th>date</th>\n",
       "      <th>group</th>\n",
       "      <th>visitors</th>\n",
       "    </tr>\n",
       "  </thead>\n",
       "  <tbody>\n",
       "    <tr>\n",
       "      <th>0</th>\n",
       "      <td>2019-08-01</td>\n",
       "      <td>A</td>\n",
       "      <td>719</td>\n",
       "    </tr>\n",
       "    <tr>\n",
       "      <th>1</th>\n",
       "      <td>2019-08-02</td>\n",
       "      <td>A</td>\n",
       "      <td>619</td>\n",
       "    </tr>\n",
       "    <tr>\n",
       "      <th>2</th>\n",
       "      <td>2019-08-03</td>\n",
       "      <td>A</td>\n",
       "      <td>507</td>\n",
       "    </tr>\n",
       "    <tr>\n",
       "      <th>3</th>\n",
       "      <td>2019-08-04</td>\n",
       "      <td>A</td>\n",
       "      <td>717</td>\n",
       "    </tr>\n",
       "    <tr>\n",
       "      <th>4</th>\n",
       "      <td>2019-08-05</td>\n",
       "      <td>A</td>\n",
       "      <td>756</td>\n",
       "    </tr>\n",
       "  </tbody>\n",
       "</table>\n",
       "</div>"
      ],
      "text/plain": [
       "         date group  visitors\n",
       "0  2019-08-01  A     719     \n",
       "1  2019-08-02  A     619     \n",
       "2  2019-08-03  A     507     \n",
       "3  2019-08-04  A     717     \n",
       "4  2019-08-05  A     756     "
      ]
     },
     "execution_count": 13,
     "metadata": {},
     "output_type": "execute_result"
    }
   ],
   "source": [
    "visitors.head(5)# выводим первые 5 строк таблицы visitors"
   ]
  },
  {
   "cell_type": "code",
   "execution_count": 14,
   "metadata": {},
   "outputs": [
    {
     "name": "stdout",
     "output_type": "stream",
     "text": [
      "<class 'pandas.core.frame.DataFrame'>\n",
      "RangeIndex: 1197 entries, 0 to 1196\n",
      "Data columns (total 5 columns):\n",
      " #   Column          Non-Null Count  Dtype \n",
      "---  ------          --------------  ----- \n",
      " 0   transaction_id  1197 non-null   int64 \n",
      " 1   visitor_id      1197 non-null   int64 \n",
      " 2   date            1197 non-null   object\n",
      " 3   revenue         1197 non-null   int64 \n",
      " 4   group           1197 non-null   object\n",
      "dtypes: int64(3), object(2)\n",
      "memory usage: 46.9+ KB\n"
     ]
    }
   ],
   "source": [
    "orders.info()# выведем основную информацию о датафрейме orders"
   ]
  },
  {
   "cell_type": "code",
   "execution_count": 15,
   "metadata": {},
   "outputs": [
    {
     "name": "stdout",
     "output_type": "stream",
     "text": [
      "<class 'pandas.core.frame.DataFrame'>\n",
      "RangeIndex: 62 entries, 0 to 61\n",
      "Data columns (total 3 columns):\n",
      " #   Column    Non-Null Count  Dtype \n",
      "---  ------    --------------  ----- \n",
      " 0   date      62 non-null     object\n",
      " 1   group     62 non-null     object\n",
      " 2   visitors  62 non-null     int64 \n",
      "dtypes: int64(1), object(2)\n",
      "memory usage: 1.6+ KB\n"
     ]
    }
   ],
   "source": [
    "visitors.info()# выведем основную информацию о датафрейме visitors"
   ]
  },
  {
   "cell_type": "code",
   "execution_count": 16,
   "metadata": {},
   "outputs": [
    {
     "data": {
      "text/plain": [
       "transaction_id    0\n",
       "visitor_id        0\n",
       "date              0\n",
       "revenue           0\n",
       "group             0\n",
       "dtype: int64"
      ]
     },
     "execution_count": 16,
     "metadata": {},
     "output_type": "execute_result"
    }
   ],
   "source": [
    "orders.isna().sum()# выведем количество пропущенных значений для каждого столбца таблицы orders"
   ]
  },
  {
   "cell_type": "code",
   "execution_count": 17,
   "metadata": {},
   "outputs": [
    {
     "data": {
      "text/plain": [
       "date        0\n",
       "group       0\n",
       "visitors    0\n",
       "dtype: int64"
      ]
     },
     "execution_count": 17,
     "metadata": {},
     "output_type": "execute_result"
    }
   ],
   "source": [
    "visitors.isna().sum()# выведем количество пропущенных значений для каждого столбца таблицы visitors"
   ]
  },
  {
   "cell_type": "code",
   "execution_count": 18,
   "metadata": {},
   "outputs": [
    {
     "data": {
      "text/plain": [
       "0"
      ]
     },
     "execution_count": 18,
     "metadata": {},
     "output_type": "execute_result"
    }
   ],
   "source": [
    "orders.duplicated().sum()# выведем количество строк-дубликатов в данных"
   ]
  },
  {
   "cell_type": "code",
   "execution_count": 19,
   "metadata": {},
   "outputs": [
    {
     "data": {
      "text/plain": [
       "0"
      ]
     },
     "execution_count": 19,
     "metadata": {},
     "output_type": "execute_result"
    }
   ],
   "source": [
    "visitors.duplicated().sum()# выведем количество строк-дубликатов в данных"
   ]
  },
  {
   "cell_type": "markdown",
   "metadata": {},
   "source": [
    "Мы ознакомились с данными. Вывели основную информацию о датафреймах и увидели, что таблица orders содержит 5 столбцов и 1197 строк, таблица visitors содержит 3 столбца и 62 строки. В данных нет пропусков и дубликатов. Также мы переименовали столбцы, где это было необходимо. Можно приступать к тестированию."
   ]
  },
  {
   "cell_type": "markdown",
   "metadata": {},
   "source": [
    "Посмотрим на даты теста."
   ]
  },
  {
   "cell_type": "code",
   "execution_count": 20,
   "metadata": {},
   "outputs": [
    {
     "data": {
      "text/plain": [
       "0     2019-08-01\n",
       "1     2019-08-02\n",
       "2     2019-08-03\n",
       "3     2019-08-04\n",
       "4     2019-08-05\n",
       "5     2019-08-06\n",
       "6     2019-08-07\n",
       "7     2019-08-08\n",
       "8     2019-08-09\n",
       "9     2019-08-10\n",
       "10    2019-08-11\n",
       "11    2019-08-12\n",
       "12    2019-08-13\n",
       "13    2019-08-14\n",
       "14    2019-08-15\n",
       "15    2019-08-16\n",
       "16    2019-08-17\n",
       "17    2019-08-18\n",
       "18    2019-08-19\n",
       "19    2019-08-20\n",
       "20    2019-08-21\n",
       "21    2019-08-22\n",
       "22    2019-08-23\n",
       "23    2019-08-24\n",
       "24    2019-08-25\n",
       "25    2019-08-26\n",
       "26    2019-08-27\n",
       "27    2019-08-28\n",
       "28    2019-08-29\n",
       "29    2019-08-30\n",
       "30    2019-08-31\n",
       "dtype: object"
      ]
     },
     "execution_count": 20,
     "metadata": {},
     "output_type": "execute_result"
    }
   ],
   "source": [
    "pd.Series(orders['date'].unique()).sort_values().reset_index(drop=True)"
   ]
  },
  {
   "cell_type": "code",
   "execution_count": 21,
   "metadata": {},
   "outputs": [
    {
     "data": {
      "text/plain": [
       "0     2019-08-01\n",
       "1     2019-08-02\n",
       "2     2019-08-03\n",
       "3     2019-08-04\n",
       "4     2019-08-05\n",
       "5     2019-08-06\n",
       "6     2019-08-07\n",
       "7     2019-08-08\n",
       "8     2019-08-09\n",
       "9     2019-08-10\n",
       "10    2019-08-11\n",
       "11    2019-08-12\n",
       "12    2019-08-13\n",
       "13    2019-08-14\n",
       "14    2019-08-15\n",
       "15    2019-08-16\n",
       "16    2019-08-17\n",
       "17    2019-08-18\n",
       "18    2019-08-19\n",
       "19    2019-08-20\n",
       "20    2019-08-21\n",
       "21    2019-08-22\n",
       "22    2019-08-23\n",
       "23    2019-08-24\n",
       "24    2019-08-25\n",
       "25    2019-08-26\n",
       "26    2019-08-27\n",
       "27    2019-08-28\n",
       "28    2019-08-29\n",
       "29    2019-08-30\n",
       "30    2019-08-31\n",
       "dtype: object"
      ]
     },
     "execution_count": 21,
     "metadata": {},
     "output_type": "execute_result"
    }
   ],
   "source": [
    "pd.Series(visitors['date'].unique()).sort_values()"
   ]
  },
  {
   "cell_type": "markdown",
   "metadata": {},
   "source": [
    "Тест начался 01.08.2019 года и закончился 31.08.2019 года."
   ]
  },
  {
   "cell_type": "code",
   "execution_count": 22,
   "metadata": {},
   "outputs": [
    {
     "data": {
      "text/plain": [
       "group\n",
       "A    557\n",
       "B    640\n",
       "Name: transaction_id, dtype: int64"
      ]
     },
     "execution_count": 22,
     "metadata": {},
     "output_type": "execute_result"
    }
   ],
   "source": [
    "orders.groupby('group')['transaction_id'].count()# посмотрим, сколько было покупок в группе A и B"
   ]
  },
  {
   "cell_type": "markdown",
   "metadata": {},
   "source": [
    "Покупок в группе A было 557, в группе B было 640"
   ]
  },
  {
   "cell_type": "code",
   "execution_count": 23,
   "metadata": {},
   "outputs": [
    {
     "data": {
      "text/plain": [
       "18736"
      ]
     },
     "execution_count": 23,
     "metadata": {},
     "output_type": "execute_result"
    }
   ],
   "source": [
    "visitors[visitors['group']=='A']['visitors'].sum()# посмотрим, сколько было посетителей в группе A"
   ]
  },
  {
   "cell_type": "markdown",
   "metadata": {},
   "source": [
    "Посетителей из группы A было 18736 человек."
   ]
  },
  {
   "cell_type": "code",
   "execution_count": 24,
   "metadata": {},
   "outputs": [
    {
     "data": {
      "text/plain": [
       "18916"
      ]
     },
     "execution_count": 24,
     "metadata": {},
     "output_type": "execute_result"
    }
   ],
   "source": [
    "visitors[visitors['group']=='B']['visitors'].sum()# посмотрим, сколько было посетителей в группе B"
   ]
  },
  {
   "cell_type": "markdown",
   "metadata": {},
   "source": [
    "Посетителей из группы B было 18916 человек."
   ]
  },
  {
   "cell_type": "code",
   "execution_count": 25,
   "metadata": {},
   "outputs": [
    {
     "data": {
      "text/plain": [
       "37652"
      ]
     },
     "execution_count": 25,
     "metadata": {},
     "output_type": "execute_result"
    }
   ],
   "source": [
    "visitors['visitors'].sum()# посмотрим, сколько было посетителей в обеих группах"
   ]
  },
  {
   "cell_type": "markdown",
   "metadata": {},
   "source": [
    "Всего посетителей было 37652 человек."
   ]
  },
  {
   "cell_type": "code",
   "execution_count": 26,
   "metadata": {},
   "outputs": [
    {
     "data": {
      "text/plain": [
       "Series([], Name: visitor_id, dtype: int64)"
      ]
     },
     "execution_count": 26,
     "metadata": {},
     "output_type": "execute_result"
    }
   ],
   "source": [
    "orders[np.logical_and(orders['group'] == 'A', orders['group'] == 'B')]['visitor_id']# проверим, не попадают ли какие-то пользователи в обе группы - по таблице с заказами"
   ]
  },
  {
   "cell_type": "markdown",
   "metadata": {},
   "source": [
    "Никакие пользователи не попадают в обе группы."
   ]
  },
  {
   "cell_type": "code",
   "execution_count": 27,
   "metadata": {},
   "outputs": [],
   "source": [
    "visitorsADaily = visitors[visitors['group'] == 'A'][['date', 'visitors']]# создадим переменную с количеством посетителей в выбранную дату в группе A"
   ]
  },
  {
   "cell_type": "code",
   "execution_count": 28,
   "metadata": {},
   "outputs": [
    {
     "data": {
      "text/html": [
       "<div>\n",
       "<style scoped>\n",
       "    .dataframe tbody tr th:only-of-type {\n",
       "        vertical-align: middle;\n",
       "    }\n",
       "\n",
       "    .dataframe tbody tr th {\n",
       "        vertical-align: top;\n",
       "    }\n",
       "\n",
       "    .dataframe thead th {\n",
       "        text-align: right;\n",
       "    }\n",
       "</style>\n",
       "<table border=\"1\" class=\"dataframe\">\n",
       "  <thead>\n",
       "    <tr style=\"text-align: right;\">\n",
       "      <th></th>\n",
       "      <th>date</th>\n",
       "      <th>visitorsDateA</th>\n",
       "    </tr>\n",
       "  </thead>\n",
       "  <tbody>\n",
       "    <tr>\n",
       "      <th>0</th>\n",
       "      <td>2019-08-01</td>\n",
       "      <td>719</td>\n",
       "    </tr>\n",
       "    <tr>\n",
       "      <th>1</th>\n",
       "      <td>2019-08-02</td>\n",
       "      <td>619</td>\n",
       "    </tr>\n",
       "    <tr>\n",
       "      <th>2</th>\n",
       "      <td>2019-08-03</td>\n",
       "      <td>507</td>\n",
       "    </tr>\n",
       "    <tr>\n",
       "      <th>3</th>\n",
       "      <td>2019-08-04</td>\n",
       "      <td>717</td>\n",
       "    </tr>\n",
       "    <tr>\n",
       "      <th>4</th>\n",
       "      <td>2019-08-05</td>\n",
       "      <td>756</td>\n",
       "    </tr>\n",
       "  </tbody>\n",
       "</table>\n",
       "</div>"
      ],
      "text/plain": [
       "         date  visitorsDateA\n",
       "0  2019-08-01  719          \n",
       "1  2019-08-02  619          \n",
       "2  2019-08-03  507          \n",
       "3  2019-08-04  717          \n",
       "4  2019-08-05  756          "
      ]
     },
     "execution_count": 28,
     "metadata": {},
     "output_type": "execute_result"
    }
   ],
   "source": [
    "# переименуем столбцы\n",
    "visitorsADaily.columns = ['date', 'visitorsDateA']\n",
    "visitorsADaily.head()"
   ]
  },
  {
   "cell_type": "code",
   "execution_count": 29,
   "metadata": {},
   "outputs": [
    {
     "data": {
      "image/png": "[encoded data removed]",
      "text/plain": [
       "<Figure size 432x288 with 1 Axes>"
      ]
     },
     "metadata": {
      "needs_background": "light"
     },
     "output_type": "display_data"
    }
   ],
   "source": [
    "# посмотрим на количество посетителей группы A на столбчатой диаграмме\n",
    "sns.barplot(data=visitorsADaily, x=\"date\", y=\"visitorsDateA\")\n",
    "plt.xticks(rotation=90)\n",
    "plt.title(\"Количество посетителей в группе A\")\n",
    "plt.xlabel(\"Дата\")\n",
    "plt.ylabel(\"Посетители\");"
   ]
  },
  {
   "cell_type": "markdown",
   "metadata": {},
   "source": [
    "Больше всего посетителей в группе A было 5 августа."
   ]
  },
  {
   "cell_type": "code",
   "execution_count": 30,
   "metadata": {},
   "outputs": [
    {
     "data": {
      "text/html": [
       "<div>\n",
       "<style scoped>\n",
       "    .dataframe tbody tr th:only-of-type {\n",
       "        vertical-align: middle;\n",
       "    }\n",
       "\n",
       "    .dataframe tbody tr th {\n",
       "        vertical-align: top;\n",
       "    }\n",
       "\n",
       "    .dataframe thead th {\n",
       "        text-align: right;\n",
       "    }\n",
       "</style>\n",
       "<table border=\"1\" class=\"dataframe\">\n",
       "  <thead>\n",
       "    <tr style=\"text-align: right;\">\n",
       "      <th></th>\n",
       "      <th>date</th>\n",
       "      <th>visitorsDateA</th>\n",
       "    </tr>\n",
       "  </thead>\n",
       "  <tbody>\n",
       "    <tr>\n",
       "      <th>4</th>\n",
       "      <td>2019-08-05</td>\n",
       "      <td>756</td>\n",
       "    </tr>\n",
       "    <tr>\n",
       "      <th>12</th>\n",
       "      <td>2019-08-13</td>\n",
       "      <td>748</td>\n",
       "    </tr>\n",
       "    <tr>\n",
       "      <th>13</th>\n",
       "      <td>2019-08-14</td>\n",
       "      <td>735</td>\n",
       "    </tr>\n",
       "    <tr>\n",
       "      <th>25</th>\n",
       "      <td>2019-08-26</td>\n",
       "      <td>722</td>\n",
       "    </tr>\n",
       "    <tr>\n",
       "      <th>0</th>\n",
       "      <td>2019-08-01</td>\n",
       "      <td>719</td>\n",
       "    </tr>\n",
       "  </tbody>\n",
       "</table>\n",
       "</div>"
      ],
      "text/plain": [
       "          date  visitorsDateA\n",
       "4   2019-08-05  756          \n",
       "12  2019-08-13  748          \n",
       "13  2019-08-14  735          \n",
       "25  2019-08-26  722          \n",
       "0   2019-08-01  719          "
      ]
     },
     "execution_count": 30,
     "metadata": {},
     "output_type": "execute_result"
    }
   ],
   "source": [
    "visitorsADaily.sort_values('visitorsDateA', ascending = False).head()# посмотрим, в какие даты было больше всего посетителей в группе A"
   ]
  },
  {
   "cell_type": "markdown",
   "metadata": {},
   "source": [
    "Больше всего посетителей в группе A было 5 августа 2019 года - 756 человек."
   ]
  },
  {
   "cell_type": "code",
   "execution_count": 31,
   "metadata": {},
   "outputs": [],
   "source": [
    "visitorsACummulative = visitorsADaily.apply(lambda x:visitorsADaily[visitorsADaily['date']<= x['date']].agg({'date':'max','visitorsDateA':'sum'}),axis=1,)# создадим переменную c количеством пользователей в выбранную дату в группе A"
   ]
  },
  {
   "cell_type": "code",
   "execution_count": 32,
   "metadata": {},
   "outputs": [
    {
     "data": {
      "text/html": [
       "<div>\n",
       "<style scoped>\n",
       "    .dataframe tbody tr th:only-of-type {\n",
       "        vertical-align: middle;\n",
       "    }\n",
       "\n",
       "    .dataframe tbody tr th {\n",
       "        vertical-align: top;\n",
       "    }\n",
       "\n",
       "    .dataframe thead th {\n",
       "        text-align: right;\n",
       "    }\n",
       "</style>\n",
       "<table border=\"1\" class=\"dataframe\">\n",
       "  <thead>\n",
       "    <tr style=\"text-align: right;\">\n",
       "      <th></th>\n",
       "      <th>date</th>\n",
       "      <th>visitorsCummulativeA</th>\n",
       "    </tr>\n",
       "  </thead>\n",
       "  <tbody>\n",
       "    <tr>\n",
       "      <th>0</th>\n",
       "      <td>2019-08-01</td>\n",
       "      <td>719</td>\n",
       "    </tr>\n",
       "    <tr>\n",
       "      <th>1</th>\n",
       "      <td>2019-08-02</td>\n",
       "      <td>1338</td>\n",
       "    </tr>\n",
       "    <tr>\n",
       "      <th>2</th>\n",
       "      <td>2019-08-03</td>\n",
       "      <td>1845</td>\n",
       "    </tr>\n",
       "    <tr>\n",
       "      <th>3</th>\n",
       "      <td>2019-08-04</td>\n",
       "      <td>2562</td>\n",
       "    </tr>\n",
       "    <tr>\n",
       "      <th>4</th>\n",
       "      <td>2019-08-05</td>\n",
       "      <td>3318</td>\n",
       "    </tr>\n",
       "  </tbody>\n",
       "</table>\n",
       "</div>"
      ],
      "text/plain": [
       "         date  visitorsCummulativeA\n",
       "0  2019-08-01  719                 \n",
       "1  2019-08-02  1338                \n",
       "2  2019-08-03  1845                \n",
       "3  2019-08-04  2562                \n",
       "4  2019-08-05  3318                "
      ]
     },
     "execution_count": 32,
     "metadata": {},
     "output_type": "execute_result"
    }
   ],
   "source": [
    "# переименуем столбцы\n",
    "visitorsACummulative.columns = ['date', 'visitorsCummulativeA']\n",
    "visitorsACummulative.head()"
   ]
  },
  {
   "cell_type": "code",
   "execution_count": 33,
   "metadata": {},
   "outputs": [],
   "source": [
    "visitorsBDaily = visitors[visitors['group'] == 'B'][['date', 'visitors']]# создадим переменную с количеством посетителей в выбранную дату в группе B"
   ]
  },
  {
   "cell_type": "code",
   "execution_count": 34,
   "metadata": {},
   "outputs": [
    {
     "data": {
      "text/html": [
       "<div>\n",
       "<style scoped>\n",
       "    .dataframe tbody tr th:only-of-type {\n",
       "        vertical-align: middle;\n",
       "    }\n",
       "\n",
       "    .dataframe tbody tr th {\n",
       "        vertical-align: top;\n",
       "    }\n",
       "\n",
       "    .dataframe thead th {\n",
       "        text-align: right;\n",
       "    }\n",
       "</style>\n",
       "<table border=\"1\" class=\"dataframe\">\n",
       "  <thead>\n",
       "    <tr style=\"text-align: right;\">\n",
       "      <th></th>\n",
       "      <th>date</th>\n",
       "      <th>visitorsDateB</th>\n",
       "    </tr>\n",
       "  </thead>\n",
       "  <tbody>\n",
       "    <tr>\n",
       "      <th>31</th>\n",
       "      <td>2019-08-01</td>\n",
       "      <td>713</td>\n",
       "    </tr>\n",
       "    <tr>\n",
       "      <th>32</th>\n",
       "      <td>2019-08-02</td>\n",
       "      <td>581</td>\n",
       "    </tr>\n",
       "    <tr>\n",
       "      <th>33</th>\n",
       "      <td>2019-08-03</td>\n",
       "      <td>509</td>\n",
       "    </tr>\n",
       "    <tr>\n",
       "      <th>34</th>\n",
       "      <td>2019-08-04</td>\n",
       "      <td>770</td>\n",
       "    </tr>\n",
       "    <tr>\n",
       "      <th>35</th>\n",
       "      <td>2019-08-05</td>\n",
       "      <td>707</td>\n",
       "    </tr>\n",
       "  </tbody>\n",
       "</table>\n",
       "</div>"
      ],
      "text/plain": [
       "          date  visitorsDateB\n",
       "31  2019-08-01  713          \n",
       "32  2019-08-02  581          \n",
       "33  2019-08-03  509          \n",
       "34  2019-08-04  770          \n",
       "35  2019-08-05  707          "
      ]
     },
     "execution_count": 34,
     "metadata": {},
     "output_type": "execute_result"
    }
   ],
   "source": [
    "# переименуем столбцы\n",
    "visitorsBDaily.columns = ['date', 'visitorsDateB']\n",
    "visitorsBDaily.head()"
   ]
  },
  {
   "cell_type": "code",
   "execution_count": 35,
   "metadata": {},
   "outputs": [
    {
     "data": {
      "image/png": "[encoded data removed]",
      "text/plain": [
       "<Figure size 432x288 with 1 Axes>"
      ]
     },
     "metadata": {
      "needs_background": "light"
     },
     "output_type": "display_data"
    }
   ],
   "source": [
    "# посмотрим на количество посетителей группы B на столбчатой диаграмме\n",
    "sns.barplot(data=visitorsBDaily, x=\"date\", y=\"visitorsDateB\")\n",
    "plt.xticks(rotation=90)\n",
    "plt.title(\"Количество посетителей в группе B\")\n",
    "plt.xlabel(\"Дата\")\n",
    "plt.ylabel(\"Посетители\");"
   ]
  },
  {
   "cell_type": "markdown",
   "metadata": {},
   "source": [
    "Больше всего посетителей в группе B было 4 августа."
   ]
  },
  {
   "cell_type": "code",
   "execution_count": 36,
   "metadata": {},
   "outputs": [
    {
     "data": {
      "text/html": [
       "<div>\n",
       "<style scoped>\n",
       "    .dataframe tbody tr th:only-of-type {\n",
       "        vertical-align: middle;\n",
       "    }\n",
       "\n",
       "    .dataframe tbody tr th {\n",
       "        vertical-align: top;\n",
       "    }\n",
       "\n",
       "    .dataframe thead th {\n",
       "        text-align: right;\n",
       "    }\n",
       "</style>\n",
       "<table border=\"1\" class=\"dataframe\">\n",
       "  <thead>\n",
       "    <tr style=\"text-align: right;\">\n",
       "      <th></th>\n",
       "      <th>date</th>\n",
       "      <th>visitorsDateB</th>\n",
       "    </tr>\n",
       "  </thead>\n",
       "  <tbody>\n",
       "    <tr>\n",
       "      <th>34</th>\n",
       "      <td>2019-08-04</td>\n",
       "      <td>770</td>\n",
       "    </tr>\n",
       "    <tr>\n",
       "      <th>43</th>\n",
       "      <td>2019-08-13</td>\n",
       "      <td>769</td>\n",
       "    </tr>\n",
       "    <tr>\n",
       "      <th>44</th>\n",
       "      <td>2019-08-14</td>\n",
       "      <td>746</td>\n",
       "    </tr>\n",
       "    <tr>\n",
       "      <th>48</th>\n",
       "      <td>2019-08-18</td>\n",
       "      <td>737</td>\n",
       "    </tr>\n",
       "    <tr>\n",
       "      <th>41</th>\n",
       "      <td>2019-08-11</td>\n",
       "      <td>721</td>\n",
       "    </tr>\n",
       "  </tbody>\n",
       "</table>\n",
       "</div>"
      ],
      "text/plain": [
       "          date  visitorsDateB\n",
       "34  2019-08-04  770          \n",
       "43  2019-08-13  769          \n",
       "44  2019-08-14  746          \n",
       "48  2019-08-18  737          \n",
       "41  2019-08-11  721          "
      ]
     },
     "execution_count": 36,
     "metadata": {},
     "output_type": "execute_result"
    }
   ],
   "source": [
    "visitorsBDaily.sort_values('visitorsDateB', ascending = False).head()# посмотрим, в какие даты было больше всего посетителей в группе B"
   ]
  },
  {
   "cell_type": "markdown",
   "metadata": {},
   "source": [
    "Больше всего посетителей в группе B было 4 августа 2019 года - 770 человек."
   ]
  },
  {
   "cell_type": "code",
   "execution_count": 37,
   "metadata": {},
   "outputs": [],
   "source": [
    "visitorsBCummulative = visitorsBDaily.apply(lambda x:visitorsBDaily[visitorsBDaily['date']<= x['date']].agg({'date':'max','visitorsDateB':'sum'}),axis=1,)# создадим переменную c количеством пользователей в выбранную дату в группе B"
   ]
  },
  {
   "cell_type": "code",
   "execution_count": 38,
   "metadata": {},
   "outputs": [
    {
     "data": {
      "text/html": [
       "<div>\n",
       "<style scoped>\n",
       "    .dataframe tbody tr th:only-of-type {\n",
       "        vertical-align: middle;\n",
       "    }\n",
       "\n",
       "    .dataframe tbody tr th {\n",
       "        vertical-align: top;\n",
       "    }\n",
       "\n",
       "    .dataframe thead th {\n",
       "        text-align: right;\n",
       "    }\n",
       "</style>\n",
       "<table border=\"1\" class=\"dataframe\">\n",
       "  <thead>\n",
       "    <tr style=\"text-align: right;\">\n",
       "      <th></th>\n",
       "      <th>date</th>\n",
       "      <th>visitorsCummulativeB</th>\n",
       "    </tr>\n",
       "  </thead>\n",
       "  <tbody>\n",
       "    <tr>\n",
       "      <th>31</th>\n",
       "      <td>2019-08-01</td>\n",
       "      <td>713</td>\n",
       "    </tr>\n",
       "    <tr>\n",
       "      <th>32</th>\n",
       "      <td>2019-08-02</td>\n",
       "      <td>1294</td>\n",
       "    </tr>\n",
       "    <tr>\n",
       "      <th>33</th>\n",
       "      <td>2019-08-03</td>\n",
       "      <td>1803</td>\n",
       "    </tr>\n",
       "    <tr>\n",
       "      <th>34</th>\n",
       "      <td>2019-08-04</td>\n",
       "      <td>2573</td>\n",
       "    </tr>\n",
       "    <tr>\n",
       "      <th>35</th>\n",
       "      <td>2019-08-05</td>\n",
       "      <td>3280</td>\n",
       "    </tr>\n",
       "  </tbody>\n",
       "</table>\n",
       "</div>"
      ],
      "text/plain": [
       "          date  visitorsCummulativeB\n",
       "31  2019-08-01  713                 \n",
       "32  2019-08-02  1294                \n",
       "33  2019-08-03  1803                \n",
       "34  2019-08-04  2573                \n",
       "35  2019-08-05  3280                "
      ]
     },
     "execution_count": 38,
     "metadata": {},
     "output_type": "execute_result"
    }
   ],
   "source": [
    "# переименуем столбцы\n",
    "visitorsBCummulative.columns = ['date', 'visitorsCummulativeB']\n",
    "visitorsBCummulative.head()"
   ]
  },
  {
   "cell_type": "code",
   "execution_count": 39,
   "metadata": {},
   "outputs": [],
   "source": [
    "ordersADaily = orders[orders['group'] == 'A'][['date', 'transaction_id', 'visitor_id', 'revenue']].groupby('date', as_index=False).agg({'transaction_id':'nunique','revenue':'sum'})# cоздадим переменную c суммарной выручкой и с суммарным числом заказов в выбранную дату в группе A"
   ]
  },
  {
   "cell_type": "code",
   "execution_count": 40,
   "metadata": {},
   "outputs": [
    {
     "data": {
      "text/html": [
       "<div>\n",
       "<style scoped>\n",
       "    .dataframe tbody tr th:only-of-type {\n",
       "        vertical-align: middle;\n",
       "    }\n",
       "\n",
       "    .dataframe tbody tr th {\n",
       "        vertical-align: top;\n",
       "    }\n",
       "\n",
       "    .dataframe thead th {\n",
       "        text-align: right;\n",
       "    }\n",
       "</style>\n",
       "<table border=\"1\" class=\"dataframe\">\n",
       "  <thead>\n",
       "    <tr style=\"text-align: right;\">\n",
       "      <th></th>\n",
       "      <th>date</th>\n",
       "      <th>ordersDateA</th>\n",
       "      <th>revenueDateA</th>\n",
       "    </tr>\n",
       "  </thead>\n",
       "  <tbody>\n",
       "    <tr>\n",
       "      <th>0</th>\n",
       "      <td>2019-08-01</td>\n",
       "      <td>24</td>\n",
       "      <td>148579</td>\n",
       "    </tr>\n",
       "    <tr>\n",
       "      <th>1</th>\n",
       "      <td>2019-08-02</td>\n",
       "      <td>20</td>\n",
       "      <td>93822</td>\n",
       "    </tr>\n",
       "    <tr>\n",
       "      <th>2</th>\n",
       "      <td>2019-08-03</td>\n",
       "      <td>24</td>\n",
       "      <td>112473</td>\n",
       "    </tr>\n",
       "    <tr>\n",
       "      <th>3</th>\n",
       "      <td>2019-08-04</td>\n",
       "      <td>16</td>\n",
       "      <td>70825</td>\n",
       "    </tr>\n",
       "    <tr>\n",
       "      <th>4</th>\n",
       "      <td>2019-08-05</td>\n",
       "      <td>25</td>\n",
       "      <td>124218</td>\n",
       "    </tr>\n",
       "  </tbody>\n",
       "</table>\n",
       "</div>"
      ],
      "text/plain": [
       "         date  ordersDateA  revenueDateA\n",
       "0  2019-08-01  24           148579      \n",
       "1  2019-08-02  20           93822       \n",
       "2  2019-08-03  24           112473      \n",
       "3  2019-08-04  16           70825       \n",
       "4  2019-08-05  25           124218      "
      ]
     },
     "execution_count": 40,
     "metadata": {},
     "output_type": "execute_result"
    }
   ],
   "source": [
    "# переименуем столбцы\n",
    "ordersADaily.columns = ['date', 'ordersDateA', 'revenueDateA']\n",
    "ordersADaily.head()"
   ]
  },
  {
   "cell_type": "code",
   "execution_count": 41,
   "metadata": {},
   "outputs": [
    {
     "data": {
      "image/png": "[encoded data removed]",
      "text/plain": [
       "<Figure size 432x288 with 1 Axes>"
      ]
     },
     "metadata": {
      "needs_background": "light"
     },
     "output_type": "display_data"
    }
   ],
   "source": [
    "# посмотрим на количество покупок группы A на столбчатой диаграмме\n",
    "sns.barplot(data=ordersADaily, x=\"date\", y=\"ordersDateA\")\n",
    "plt.xticks(rotation=90)\n",
    "plt.title(\"Количество покупок в группе А\")\n",
    "plt.xlabel(\"Дата\")\n",
    "plt.ylabel(\"Количество покупок\");"
   ]
  },
  {
   "cell_type": "markdown",
   "metadata": {},
   "source": [
    "Больше всего покупок в группе A было 27 августа."
   ]
  },
  {
   "cell_type": "code",
   "execution_count": 42,
   "metadata": {},
   "outputs": [
    {
     "data": {
      "text/html": [
       "<div>\n",
       "<style scoped>\n",
       "    .dataframe tbody tr th:only-of-type {\n",
       "        vertical-align: middle;\n",
       "    }\n",
       "\n",
       "    .dataframe tbody tr th {\n",
       "        vertical-align: top;\n",
       "    }\n",
       "\n",
       "    .dataframe thead th {\n",
       "        text-align: right;\n",
       "    }\n",
       "</style>\n",
       "<table border=\"1\" class=\"dataframe\">\n",
       "  <thead>\n",
       "    <tr style=\"text-align: right;\">\n",
       "      <th></th>\n",
       "      <th>date</th>\n",
       "      <th>ordersDateA</th>\n",
       "      <th>revenueDateA</th>\n",
       "    </tr>\n",
       "  </thead>\n",
       "  <tbody>\n",
       "    <tr>\n",
       "      <th>26</th>\n",
       "      <td>2019-08-27</td>\n",
       "      <td>28</td>\n",
       "      <td>286780</td>\n",
       "    </tr>\n",
       "    <tr>\n",
       "      <th>4</th>\n",
       "      <td>2019-08-05</td>\n",
       "      <td>25</td>\n",
       "      <td>124218</td>\n",
       "    </tr>\n",
       "    <tr>\n",
       "      <th>22</th>\n",
       "      <td>2019-08-23</td>\n",
       "      <td>25</td>\n",
       "      <td>117788</td>\n",
       "    </tr>\n",
       "    <tr>\n",
       "      <th>0</th>\n",
       "      <td>2019-08-01</td>\n",
       "      <td>24</td>\n",
       "      <td>148579</td>\n",
       "    </tr>\n",
       "    <tr>\n",
       "      <th>11</th>\n",
       "      <td>2019-08-12</td>\n",
       "      <td>24</td>\n",
       "      <td>249190</td>\n",
       "    </tr>\n",
       "  </tbody>\n",
       "</table>\n",
       "</div>"
      ],
      "text/plain": [
       "          date  ordersDateA  revenueDateA\n",
       "26  2019-08-27  28           286780      \n",
       "4   2019-08-05  25           124218      \n",
       "22  2019-08-23  25           117788      \n",
       "0   2019-08-01  24           148579      \n",
       "11  2019-08-12  24           249190      "
      ]
     },
     "execution_count": 42,
     "metadata": {},
     "output_type": "execute_result"
    }
   ],
   "source": [
    "ordersADaily.sort_values('ordersDateA', ascending = False).head()# посмотрим, в какие даты было больше всего покупок в группе А"
   ]
  },
  {
   "cell_type": "markdown",
   "metadata": {},
   "source": [
    "Больше всего покупок в группе A было 27 августа 2019 года - 28 на сумму 286780."
   ]
  },
  {
   "cell_type": "code",
   "execution_count": 43,
   "metadata": {},
   "outputs": [],
   "source": [
    "ordersACummulative = ordersADaily.apply(lambda x:ordersADaily[ordersADaily['date']<= x['date']].agg({'date':'max','ordersDateA':'sum', 'revenueDateA':'sum'}),axis=1,)# cоздадим переменную c суммарным числом заказов и с суммарной выручкой до выбранной даты включительно в группе A"
   ]
  },
  {
   "cell_type": "code",
   "execution_count": 44,
   "metadata": {},
   "outputs": [
    {
     "data": {
      "text/html": [
       "<div>\n",
       "<style scoped>\n",
       "    .dataframe tbody tr th:only-of-type {\n",
       "        vertical-align: middle;\n",
       "    }\n",
       "\n",
       "    .dataframe tbody tr th {\n",
       "        vertical-align: top;\n",
       "    }\n",
       "\n",
       "    .dataframe thead th {\n",
       "        text-align: right;\n",
       "    }\n",
       "</style>\n",
       "<table border=\"1\" class=\"dataframe\">\n",
       "  <thead>\n",
       "    <tr style=\"text-align: right;\">\n",
       "      <th></th>\n",
       "      <th>date</th>\n",
       "      <th>ordersCummulativeA</th>\n",
       "      <th>revenueCummulativeA</th>\n",
       "    </tr>\n",
       "  </thead>\n",
       "  <tbody>\n",
       "    <tr>\n",
       "      <th>0</th>\n",
       "      <td>2019-08-01</td>\n",
       "      <td>24</td>\n",
       "      <td>148579</td>\n",
       "    </tr>\n",
       "    <tr>\n",
       "      <th>1</th>\n",
       "      <td>2019-08-02</td>\n",
       "      <td>44</td>\n",
       "      <td>242401</td>\n",
       "    </tr>\n",
       "    <tr>\n",
       "      <th>2</th>\n",
       "      <td>2019-08-03</td>\n",
       "      <td>68</td>\n",
       "      <td>354874</td>\n",
       "    </tr>\n",
       "    <tr>\n",
       "      <th>3</th>\n",
       "      <td>2019-08-04</td>\n",
       "      <td>84</td>\n",
       "      <td>425699</td>\n",
       "    </tr>\n",
       "    <tr>\n",
       "      <th>4</th>\n",
       "      <td>2019-08-05</td>\n",
       "      <td>109</td>\n",
       "      <td>549917</td>\n",
       "    </tr>\n",
       "  </tbody>\n",
       "</table>\n",
       "</div>"
      ],
      "text/plain": [
       "         date  ordersCummulativeA  revenueCummulativeA\n",
       "0  2019-08-01  24                  148579             \n",
       "1  2019-08-02  44                  242401             \n",
       "2  2019-08-03  68                  354874             \n",
       "3  2019-08-04  84                  425699             \n",
       "4  2019-08-05  109                 549917             "
      ]
     },
     "execution_count": 44,
     "metadata": {},
     "output_type": "execute_result"
    }
   ],
   "source": [
    "# переименуем столбцы\n",
    "ordersACummulative.columns = ['date', 'ordersCummulativeA', 'revenueCummulativeA']\n",
    "ordersACummulative.head()"
   ]
  },
  {
   "cell_type": "code",
   "execution_count": 45,
   "metadata": {},
   "outputs": [],
   "source": [
    "ordersBDaily = orders[orders['group'] == 'B'][['date', 'transaction_id', 'visitor_id', 'revenue']].groupby('date', as_index=False).agg({'transaction_id':'nunique','revenue':'sum'})# cоздадим переменную c суммарной выручкой и с суммарным числом заказов в выбранную дату в группе B"
   ]
  },
  {
   "cell_type": "code",
   "execution_count": 46,
   "metadata": {},
   "outputs": [
    {
     "data": {
      "text/html": [
       "<div>\n",
       "<style scoped>\n",
       "    .dataframe tbody tr th:only-of-type {\n",
       "        vertical-align: middle;\n",
       "    }\n",
       "\n",
       "    .dataframe tbody tr th {\n",
       "        vertical-align: top;\n",
       "    }\n",
       "\n",
       "    .dataframe thead th {\n",
       "        text-align: right;\n",
       "    }\n",
       "</style>\n",
       "<table border=\"1\" class=\"dataframe\">\n",
       "  <thead>\n",
       "    <tr style=\"text-align: right;\">\n",
       "      <th></th>\n",
       "      <th>date</th>\n",
       "      <th>ordersDateB</th>\n",
       "      <th>revenueDateB</th>\n",
       "    </tr>\n",
       "  </thead>\n",
       "  <tbody>\n",
       "    <tr>\n",
       "      <th>0</th>\n",
       "      <td>2019-08-01</td>\n",
       "      <td>21</td>\n",
       "      <td>101217</td>\n",
       "    </tr>\n",
       "    <tr>\n",
       "      <th>1</th>\n",
       "      <td>2019-08-02</td>\n",
       "      <td>24</td>\n",
       "      <td>165531</td>\n",
       "    </tr>\n",
       "    <tr>\n",
       "      <th>2</th>\n",
       "      <td>2019-08-03</td>\n",
       "      <td>16</td>\n",
       "      <td>114248</td>\n",
       "    </tr>\n",
       "    <tr>\n",
       "      <th>3</th>\n",
       "      <td>2019-08-04</td>\n",
       "      <td>17</td>\n",
       "      <td>108571</td>\n",
       "    </tr>\n",
       "    <tr>\n",
       "      <th>4</th>\n",
       "      <td>2019-08-05</td>\n",
       "      <td>23</td>\n",
       "      <td>92428</td>\n",
       "    </tr>\n",
       "  </tbody>\n",
       "</table>\n",
       "</div>"
      ],
      "text/plain": [
       "         date  ordersDateB  revenueDateB\n",
       "0  2019-08-01  21           101217      \n",
       "1  2019-08-02  24           165531      \n",
       "2  2019-08-03  16           114248      \n",
       "3  2019-08-04  17           108571      \n",
       "4  2019-08-05  23           92428       "
      ]
     },
     "execution_count": 46,
     "metadata": {},
     "output_type": "execute_result"
    }
   ],
   "source": [
    "# переименуем столбцы\n",
    "ordersBDaily.columns = ['date', 'ordersDateB', 'revenueDateB']\n",
    "ordersBDaily.head()"
   ]
  },
  {
   "cell_type": "code",
   "execution_count": 47,
   "metadata": {},
   "outputs": [
    {
     "data": {
      "image/png": "[encoded data removed]",
      "text/plain": [
       "<Figure size 432x288 with 1 Axes>"
      ]
     },
     "metadata": {
      "needs_background": "light"
     },
     "output_type": "display_data"
    }
   ],
   "source": [
    "# посмотрим на количество покупок группы B на столбчатой диаграмме\n",
    "sns.barplot(data=ordersBDaily, x=\"date\", y=\"ordersDateB\")\n",
    "plt.xticks(rotation=90)\n",
    "plt.title(\"Количество покупок в группе B\")\n",
    "plt.xlabel(\"Дата\")\n",
    "plt.ylabel(\"Количество покупок\");"
   ]
  },
  {
   "cell_type": "markdown",
   "metadata": {},
   "source": [
    "Больше всего покупок в группе B было 15 августа."
   ]
  },
  {
   "cell_type": "code",
   "execution_count": 48,
   "metadata": {},
   "outputs": [
    {
     "data": {
      "text/html": [
       "<div>\n",
       "<style scoped>\n",
       "    .dataframe tbody tr th:only-of-type {\n",
       "        vertical-align: middle;\n",
       "    }\n",
       "\n",
       "    .dataframe tbody tr th {\n",
       "        vertical-align: top;\n",
       "    }\n",
       "\n",
       "    .dataframe thead th {\n",
       "        text-align: right;\n",
       "    }\n",
       "</style>\n",
       "<table border=\"1\" class=\"dataframe\">\n",
       "  <thead>\n",
       "    <tr style=\"text-align: right;\">\n",
       "      <th></th>\n",
       "      <th>date</th>\n",
       "      <th>ordersDateB</th>\n",
       "      <th>revenueDateB</th>\n",
       "    </tr>\n",
       "  </thead>\n",
       "  <tbody>\n",
       "    <tr>\n",
       "      <th>14</th>\n",
       "      <td>2019-08-15</td>\n",
       "      <td>31</td>\n",
       "      <td>342499</td>\n",
       "    </tr>\n",
       "    <tr>\n",
       "      <th>5</th>\n",
       "      <td>2019-08-06</td>\n",
       "      <td>28</td>\n",
       "      <td>242342</td>\n",
       "    </tr>\n",
       "    <tr>\n",
       "      <th>27</th>\n",
       "      <td>2019-08-28</td>\n",
       "      <td>28</td>\n",
       "      <td>96008</td>\n",
       "    </tr>\n",
       "    <tr>\n",
       "      <th>7</th>\n",
       "      <td>2019-08-08</td>\n",
       "      <td>27</td>\n",
       "      <td>220918</td>\n",
       "    </tr>\n",
       "    <tr>\n",
       "      <th>21</th>\n",
       "      <td>2019-08-22</td>\n",
       "      <td>25</td>\n",
       "      <td>162355</td>\n",
       "    </tr>\n",
       "  </tbody>\n",
       "</table>\n",
       "</div>"
      ],
      "text/plain": [
       "          date  ordersDateB  revenueDateB\n",
       "14  2019-08-15  31           342499      \n",
       "5   2019-08-06  28           242342      \n",
       "27  2019-08-28  28           96008       \n",
       "7   2019-08-08  27           220918      \n",
       "21  2019-08-22  25           162355      "
      ]
     },
     "execution_count": 48,
     "metadata": {},
     "output_type": "execute_result"
    }
   ],
   "source": [
    "ordersBDaily.sort_values('ordersDateB', ascending = False).head()# посмотрим, в какие даты было больше всего покупок в группе B"
   ]
  },
  {
   "cell_type": "markdown",
   "metadata": {},
   "source": [
    "Больше всего покупок в группе B было 15 августа 2019 года - 31 на сумму 342499."
   ]
  },
  {
   "cell_type": "code",
   "execution_count": 49,
   "metadata": {},
   "outputs": [],
   "source": [
    "ordersBCummulative = ordersBDaily.apply(lambda x:ordersBDaily[ordersBDaily['date']<= x['date']].agg({'date':'max','ordersDateB':'sum', 'revenueDateB':'sum'}),axis=1,)# cоздадим переменную c суммарным числом заказов и с суммарной выручкой до выбранной даты включительно в группе B"
   ]
  },
  {
   "cell_type": "code",
   "execution_count": 50,
   "metadata": {},
   "outputs": [
    {
     "data": {
      "text/html": [
       "<div>\n",
       "<style scoped>\n",
       "    .dataframe tbody tr th:only-of-type {\n",
       "        vertical-align: middle;\n",
       "    }\n",
       "\n",
       "    .dataframe tbody tr th {\n",
       "        vertical-align: top;\n",
       "    }\n",
       "\n",
       "    .dataframe thead th {\n",
       "        text-align: right;\n",
       "    }\n",
       "</style>\n",
       "<table border=\"1\" class=\"dataframe\">\n",
       "  <thead>\n",
       "    <tr style=\"text-align: right;\">\n",
       "      <th></th>\n",
       "      <th>date</th>\n",
       "      <th>ordersCummulativeB</th>\n",
       "      <th>revenueCummulativeB</th>\n",
       "    </tr>\n",
       "  </thead>\n",
       "  <tbody>\n",
       "    <tr>\n",
       "      <th>0</th>\n",
       "      <td>2019-08-01</td>\n",
       "      <td>21</td>\n",
       "      <td>101217</td>\n",
       "    </tr>\n",
       "    <tr>\n",
       "      <th>1</th>\n",
       "      <td>2019-08-02</td>\n",
       "      <td>45</td>\n",
       "      <td>266748</td>\n",
       "    </tr>\n",
       "    <tr>\n",
       "      <th>2</th>\n",
       "      <td>2019-08-03</td>\n",
       "      <td>61</td>\n",
       "      <td>380996</td>\n",
       "    </tr>\n",
       "    <tr>\n",
       "      <th>3</th>\n",
       "      <td>2019-08-04</td>\n",
       "      <td>78</td>\n",
       "      <td>489567</td>\n",
       "    </tr>\n",
       "    <tr>\n",
       "      <th>4</th>\n",
       "      <td>2019-08-05</td>\n",
       "      <td>101</td>\n",
       "      <td>581995</td>\n",
       "    </tr>\n",
       "  </tbody>\n",
       "</table>\n",
       "</div>"
      ],
      "text/plain": [
       "         date  ordersCummulativeB  revenueCummulativeB\n",
       "0  2019-08-01  21                  101217             \n",
       "1  2019-08-02  45                  266748             \n",
       "2  2019-08-03  61                  380996             \n",
       "3  2019-08-04  78                  489567             \n",
       "4  2019-08-05  101                 581995             "
      ]
     },
     "execution_count": 50,
     "metadata": {},
     "output_type": "execute_result"
    }
   ],
   "source": [
    "# переименуем столбцы\n",
    "ordersBCummulative.columns = ['date', 'ordersCummulativeB', 'revenueCummulativeB']\n",
    "ordersBCummulative.head()"
   ]
  },
  {
   "cell_type": "code",
   "execution_count": 51,
   "metadata": {},
   "outputs": [
    {
     "data": {
      "text/html": [
       "<div>\n",
       "<style scoped>\n",
       "    .dataframe tbody tr th:only-of-type {\n",
       "        vertical-align: middle;\n",
       "    }\n",
       "\n",
       "    .dataframe tbody tr th {\n",
       "        vertical-align: top;\n",
       "    }\n",
       "\n",
       "    .dataframe thead th {\n",
       "        text-align: right;\n",
       "    }\n",
       "</style>\n",
       "<table border=\"1\" class=\"dataframe\">\n",
       "  <thead>\n",
       "    <tr style=\"text-align: right;\">\n",
       "      <th></th>\n",
       "      <th>date</th>\n",
       "      <th>visitorsDateA</th>\n",
       "      <th>visitorsDateB</th>\n",
       "      <th>visitorsCummulativeA</th>\n",
       "      <th>visitorsCummulativeB</th>\n",
       "      <th>ordersDateA</th>\n",
       "      <th>revenueDateA</th>\n",
       "      <th>ordersDateB</th>\n",
       "      <th>revenueDateB</th>\n",
       "      <th>ordersCummulativeA</th>\n",
       "      <th>revenueCummulativeA</th>\n",
       "      <th>ordersCummulativeB</th>\n",
       "      <th>revenueCummulativeB</th>\n",
       "    </tr>\n",
       "  </thead>\n",
       "  <tbody>\n",
       "    <tr>\n",
       "      <th>0</th>\n",
       "      <td>2019-08-01</td>\n",
       "      <td>719</td>\n",
       "      <td>713</td>\n",
       "      <td>719</td>\n",
       "      <td>713</td>\n",
       "      <td>24</td>\n",
       "      <td>148579</td>\n",
       "      <td>21</td>\n",
       "      <td>101217</td>\n",
       "      <td>24</td>\n",
       "      <td>148579</td>\n",
       "      <td>21</td>\n",
       "      <td>101217</td>\n",
       "    </tr>\n",
       "    <tr>\n",
       "      <th>1</th>\n",
       "      <td>2019-08-02</td>\n",
       "      <td>619</td>\n",
       "      <td>581</td>\n",
       "      <td>1338</td>\n",
       "      <td>1294</td>\n",
       "      <td>20</td>\n",
       "      <td>93822</td>\n",
       "      <td>24</td>\n",
       "      <td>165531</td>\n",
       "      <td>44</td>\n",
       "      <td>242401</td>\n",
       "      <td>45</td>\n",
       "      <td>266748</td>\n",
       "    </tr>\n",
       "    <tr>\n",
       "      <th>2</th>\n",
       "      <td>2019-08-03</td>\n",
       "      <td>507</td>\n",
       "      <td>509</td>\n",
       "      <td>1845</td>\n",
       "      <td>1803</td>\n",
       "      <td>24</td>\n",
       "      <td>112473</td>\n",
       "      <td>16</td>\n",
       "      <td>114248</td>\n",
       "      <td>68</td>\n",
       "      <td>354874</td>\n",
       "      <td>61</td>\n",
       "      <td>380996</td>\n",
       "    </tr>\n",
       "    <tr>\n",
       "      <th>3</th>\n",
       "      <td>2019-08-04</td>\n",
       "      <td>717</td>\n",
       "      <td>770</td>\n",
       "      <td>2562</td>\n",
       "      <td>2573</td>\n",
       "      <td>16</td>\n",
       "      <td>70825</td>\n",
       "      <td>17</td>\n",
       "      <td>108571</td>\n",
       "      <td>84</td>\n",
       "      <td>425699</td>\n",
       "      <td>78</td>\n",
       "      <td>489567</td>\n",
       "    </tr>\n",
       "    <tr>\n",
       "      <th>4</th>\n",
       "      <td>2019-08-05</td>\n",
       "      <td>756</td>\n",
       "      <td>707</td>\n",
       "      <td>3318</td>\n",
       "      <td>3280</td>\n",
       "      <td>25</td>\n",
       "      <td>124218</td>\n",
       "      <td>23</td>\n",
       "      <td>92428</td>\n",
       "      <td>109</td>\n",
       "      <td>549917</td>\n",
       "      <td>101</td>\n",
       "      <td>581995</td>\n",
       "    </tr>\n",
       "  </tbody>\n",
       "</table>\n",
       "</div>"
      ],
      "text/plain": [
       "         date  visitorsDateA  visitorsDateB  visitorsCummulativeA  \\\n",
       "0  2019-08-01  719            713            719                    \n",
       "1  2019-08-02  619            581            1338                   \n",
       "2  2019-08-03  507            509            1845                   \n",
       "3  2019-08-04  717            770            2562                   \n",
       "4  2019-08-05  756            707            3318                   \n",
       "\n",
       "   visitorsCummulativeB  ordersDateA  revenueDateA  ordersDateB  revenueDateB  \\\n",
       "0  713                   24           148579        21           101217         \n",
       "1  1294                  20           93822         24           165531         \n",
       "2  1803                  24           112473        16           114248         \n",
       "3  2573                  16           70825         17           108571         \n",
       "4  3280                  25           124218        23           92428          \n",
       "\n",
       "   ordersCummulativeA  revenueCummulativeA  ordersCummulativeB  \\\n",
       "0  24                  148579               21                   \n",
       "1  44                  242401               45                   \n",
       "2  68                  354874               61                   \n",
       "3  84                  425699               78                   \n",
       "4  109                 549917               101                  \n",
       "\n",
       "   revenueCummulativeB  \n",
       "0  101217               \n",
       "1  266748               \n",
       "2  380996               \n",
       "3  489567               \n",
       "4  581995               "
      ]
     },
     "execution_count": 51,
     "metadata": {},
     "output_type": "execute_result"
    }
   ],
   "source": [
    "# объединим все таблицы и сохраним их в data\n",
    "data = (visitorsADaily.merge(visitorsBDaily, left_on = 'date', right_on = 'date', how = 'left'))\\\n",
    ".merge(visitorsACummulative, left_on = 'date', right_on = 'date', how = 'left')\\\n",
    ".merge(visitorsBCummulative, left_on = 'date', right_on = 'date', how = 'left')\\\n",
    ".merge(ordersADaily, left_on = 'date', right_on = 'date', how = 'left')\\\n",
    ".merge(ordersBDaily, left_on = 'date', right_on = 'date', how = 'left')\\\n",
    ".merge(ordersACummulative, left_on = 'date', right_on = 'date', how = 'left')\\\n",
    ".merge(ordersBCummulative, left_on = 'date', right_on = 'date', how = 'left')\n",
    "data.head()"
   ]
  },
  {
   "cell_type": "markdown",
   "metadata": {},
   "source": [
    "Тест начался 01.08.2019 года и закончился 31.08.2019 года. Покупок в группе A было 557, в группе B было 640. Всего посетителей было 37652 человека. Из них в группе A - 18736 человек, в группе B - 18916 человек. Больше всего посетителей в группе A было 5 августа 2019 года - 756 человек. Больше всего посетителей в группе B было 4 августа 2019 года - 770 человек. Больше всего покупок в группе A было 27 августа 2019 года - 28 на сумму 286780. Больше всего покупок в группе B было 15 августа 2019 года - 31 на сумму 342499. Мы создали переменные с количеством посетителей и покупок в группах, а также переменные с кумулятивным количеством посетителей и покупок в группах, и все объединили в один датафрейм. Теперь можно посмотреть на кумулятивные графики."
   ]
  },
  {
   "cell_type": "code",
   "execution_count": 52,
   "metadata": {},
   "outputs": [
    {
     "data": {
      "image/png": "[encoded data removed]",
      "text/plain": [
       "<Figure size 432x288 with 1 Axes>"
      ]
     },
     "metadata": {
      "needs_background": "light"
     },
     "output_type": "display_data"
    }
   ],
   "source": [
    "# построим график кумулятивной выручки по группам\n",
    "plt.plot(data['date'], data['revenueCummulativeA'], label = 'A')\n",
    "plt.plot(data['date'], data['revenueCummulativeB'], label = 'B')\n",
    "plt.xticks(rotation = 90)\n",
    "plt.title(\"Кумулятивная выручка по группам\")\n",
    "plt.xlabel(\"Дата\")\n",
    "plt.ylabel(\"Выручка\")\n",
    "plt.legend();"
   ]
  },
  {
   "cell_type": "markdown",
   "metadata": {},
   "source": [
    "Группа B лучше по накопленным показателям, чем группа A. Выручка в целом равномерно увеличивается, но есть резкий скачок в группе B, это может говорить об увеличении числа заказов или о дорогих заказах в выборке. Проверим такой скачок на выбросы чуть позже."
   ]
  },
  {
   "cell_type": "code",
   "execution_count": 53,
   "metadata": {},
   "outputs": [
    {
     "data": {
      "image/png": "[encoded data removed]",
      "text/plain": [
       "<Figure size 432x288 with 1 Axes>"
      ]
     },
     "metadata": {
      "needs_background": "light"
     },
     "output_type": "display_data"
    }
   ],
   "source": [
    "# построим график кумулятивного среднего чека по группам\n",
    "plt.plot(data['date'], data['revenueCummulativeA']/data['ordersCummulativeA'], label = 'A')\n",
    "plt.plot(data['date'], data['revenueCummulativeB']/data['ordersCummulativeB'], label = 'B')\n",
    "plt.xticks(rotation = 90)\n",
    "plt.title(\"Кумулятивный средний чек по группам\")\n",
    "plt.xlabel(\"Дата\")\n",
    "plt.ylabel(\"Средний чек\")\n",
    "plt.legend();"
   ]
  },
  {
   "cell_type": "markdown",
   "metadata": {},
   "source": [
    "Средний чек становится равномерным к концу теста. Падает для группы B и растет для группы A. Есть резкие всплески на графике, поэтому проверим данные на аномалии чуть позже."
   ]
  },
  {
   "cell_type": "code",
   "execution_count": 54,
   "metadata": {
    "scrolled": true
   },
   "outputs": [
    {
     "data": {
      "image/png": "[encoded data removed]",
      "text/plain": [
       "<Figure size 432x288 with 1 Axes>"
      ]
     },
     "metadata": {
      "needs_background": "light"
     },
     "output_type": "display_data"
    }
   ],
   "source": [
    "# построим график относительного изменения кумулятивного среднего чека группы B к группе A\n",
    "plt.plot(data['date'], (data['revenueCummulativeB']/data['ordersCummulativeB'])/((data['revenueCummulativeA']/data['ordersCummulativeA'])-1))\n",
    "plt.xticks(rotation = 90)\n",
    "plt.xlabel(\"Дата\")\n",
    "plt.ylabel(\"Относительное изменение среднего чека\")\n",
    "plt.title(\"Относительное изменение кумулятивного среднего чека группы B к группе A\")\n",
    "plt.axis([\"2019-08-01\", '2019-08-31', 0, 1.6])\n",
    "plt.axhline(y=1.3, color='grey', linestyle='--');"
   ]
  },
  {
   "cell_type": "markdown",
   "metadata": {},
   "source": [
    "В некоторых точках график сильно скачет, это говорит о выбросах в данных."
   ]
  },
  {
   "cell_type": "code",
   "execution_count": 55,
   "metadata": {},
   "outputs": [
    {
     "data": {
      "image/png": "[encoded data removed]",
      "text/plain": [
       "<Figure size 432x288 with 1 Axes>"
      ]
     },
     "metadata": {
      "needs_background": "light"
     },
     "output_type": "display_data"
    }
   ],
   "source": [
    "# построим график кумулятивного среднего количества заказов на посетителя по группам\n",
    "plt.plot(data['date'], data['ordersCummulativeA']/data['visitorsCummulativeA'], label = 'A')\n",
    "plt.plot(data['date'], data['ordersCummulativeB']/data['visitorsCummulativeB'], label = 'B')\n",
    "plt.xticks(rotation = 90)\n",
    "plt.title(\"Кумулятивная конверсия\")\n",
    "plt.xlabel(\"Дата\")\n",
    "plt.ylabel(\"Конверсия\")\n",
    "plt.axis([\"2019-08-01\", '2019-08-31', 0, 0.040]) \n",
    "plt.legend();"
   ]
  },
  {
   "cell_type": "markdown",
   "metadata": {},
   "source": [
    "Сначала конверсия группы A была выше, затем она зафиксировалась и стала ниже конверсии группы B. Но обе к концу начали снижаться."
   ]
  },
  {
   "cell_type": "code",
   "execution_count": 56,
   "metadata": {},
   "outputs": [
    {
     "data": {
      "image/png": "[encoded data removed]",
      "text/plain": [
       "<Figure size 432x288 with 1 Axes>"
      ]
     },
     "metadata": {
      "needs_background": "light"
     },
     "output_type": "display_data"
    }
   ],
   "source": [
    "# построим график относительного изменения кумулятивного среднего количества заказов на посетителя группы B к группе A\n",
    "plt.plot(data['date'], (data['ordersCummulativeB']/data['visitorsCummulativeB'])/((data['ordersCummulativeA']/data['visitorsCummulativeA'])-1))\n",
    "plt.xticks(rotation = 90)\n",
    "plt.title(\"Относительное изменение кумулятивной конверсии группы B к группе A\")\n",
    "plt.xlabel(\"Дата\")\n",
    "plt.ylabel(\"Относительное изменение конверсии\")\n",
    "plt.axis([\"2019-08-01\", '2019-08-31', -0.040, 0]) ;"
   ]
  },
  {
   "cell_type": "markdown",
   "metadata": {},
   "source": [
    "Отношение конверсии сначала снижалось, а дальше стабилизировалось и начало расти."
   ]
  },
  {
   "cell_type": "markdown",
   "metadata": {},
   "source": [
    "Группа B лучше по накопленным показателям выручки, чем группа A. Выручка в целом равномерно увеличивается, но есть резкий скачок в группе B, это может говорить об увеличении числа заказов или о дорогих заказах в выборке. Средний чек становится равномерным к концу теста. Падает для группы B и растет для группы A. В графике относительного изменения кумулятивного среднего чека группы B к группе A в некоторых точках график сильно скачет, это говорит о выбросах в данных. Сначала конверсия группы A была выше, затем она зафиксировалась и стала ниже конверсии группы B. Но обе к концу начали снижаться. Отношение конверсии сначала снижалось, а дальше стабилизировалось и начало расти.\n",
    "\n",
    "Проверим дальше данные на аномалии, на графиках есть резкие скачки, что говорит о выбросах в данных."
   ]
  },
  {
   "cell_type": "code",
   "execution_count": 57,
   "metadata": {},
   "outputs": [],
   "source": [
    "ordersByUsers = orders.groupby('visitor_id', as_index=False).agg({'transaction_id':'nunique'})# cоздадим переменную c числом совершённых заказов пользователей"
   ]
  },
  {
   "cell_type": "code",
   "execution_count": 58,
   "metadata": {},
   "outputs": [
    {
     "data": {
      "text/html": [
       "<div>\n",
       "<style scoped>\n",
       "    .dataframe tbody tr th:only-of-type {\n",
       "        vertical-align: middle;\n",
       "    }\n",
       "\n",
       "    .dataframe tbody tr th {\n",
       "        vertical-align: top;\n",
       "    }\n",
       "\n",
       "    .dataframe thead th {\n",
       "        text-align: right;\n",
       "    }\n",
       "</style>\n",
       "<table border=\"1\" class=\"dataframe\">\n",
       "  <thead>\n",
       "    <tr style=\"text-align: right;\">\n",
       "      <th></th>\n",
       "      <th>visitor_id</th>\n",
       "      <th>orders</th>\n",
       "    </tr>\n",
       "  </thead>\n",
       "  <tbody>\n",
       "    <tr>\n",
       "      <th>0</th>\n",
       "      <td>5114589</td>\n",
       "      <td>1</td>\n",
       "    </tr>\n",
       "    <tr>\n",
       "      <th>1</th>\n",
       "      <td>6958315</td>\n",
       "      <td>1</td>\n",
       "    </tr>\n",
       "    <tr>\n",
       "      <th>2</th>\n",
       "      <td>8300375</td>\n",
       "      <td>2</td>\n",
       "    </tr>\n",
       "    <tr>\n",
       "      <th>3</th>\n",
       "      <td>11685486</td>\n",
       "      <td>1</td>\n",
       "    </tr>\n",
       "    <tr>\n",
       "      <th>4</th>\n",
       "      <td>39475350</td>\n",
       "      <td>1</td>\n",
       "    </tr>\n",
       "  </tbody>\n",
       "</table>\n",
       "</div>"
      ],
      "text/plain": [
       "   visitor_id  orders\n",
       "0  5114589     1     \n",
       "1  6958315     1     \n",
       "2  8300375     2     \n",
       "3  11685486    1     \n",
       "4  39475350    1     "
      ]
     },
     "execution_count": 58,
     "metadata": {},
     "output_type": "execute_result"
    }
   ],
   "source": [
    "# переименуем столбцы\n",
    "ordersByUsers.columns = ['visitor_id', 'orders']\n",
    "ordersByUsers.head()"
   ]
  },
  {
   "cell_type": "code",
   "execution_count": 59,
   "metadata": {},
   "outputs": [],
   "source": [
    "# построим точечный график количества заказов по пользователям\n",
    "x_values = pd.Series(range(0,len(ordersByUsers['orders'])))"
   ]
  },
  {
   "cell_type": "code",
   "execution_count": 60,
   "metadata": {},
   "outputs": [
    {
     "data": {
      "image/png": "[encoded data removed]",
      "text/plain": [
       "<Figure size 432x288 with 1 Axes>"
      ]
     },
     "metadata": {
      "needs_background": "light"
     },
     "output_type": "display_data"
    }
   ],
   "source": [
    "plt.scatter(x_values, ordersByUsers['orders'])\n",
    "plt.title(\"Количество заказов по пользователям\")\n",
    "plt.xlabel(\"Пользователи\")\n",
    "plt.ylabel(\"Количество заказов\");"
   ]
  },
  {
   "cell_type": "markdown",
   "metadata": {},
   "source": [
    "Есть пользователи с 3-5 заказами, посмотрим дальше, можно ли считать их аномалиями, так как доля таких пользователей не ясна."
   ]
  },
  {
   "cell_type": "code",
   "execution_count": 61,
   "metadata": {},
   "outputs": [
    {
     "data": {
      "text/plain": [
       "array([2., 4.])"
      ]
     },
     "execution_count": 61,
     "metadata": {},
     "output_type": "execute_result"
    }
   ],
   "source": [
    "np.percentile(ordersByUsers['orders'], [95, 99])# посчитаем 95-й и 99-й перцентили количества заказов на пользователя"
   ]
  },
  {
   "cell_type": "markdown",
   "metadata": {},
   "source": [
    "Не более 5% пользователей оформляли 2 заказа и не более 1% оформляли 4 заказа. Примем 4 заказа за верхнюю границу и отсеим аномальных пользователей по ней."
   ]
  },
  {
   "cell_type": "code",
   "execution_count": 62,
   "metadata": {},
   "outputs": [],
   "source": [
    "# построим точечный график стоимостей заказов\n",
    "x_values = pd.Series(range(0,len(orders['revenue'])))"
   ]
  },
  {
   "cell_type": "code",
   "execution_count": 63,
   "metadata": {},
   "outputs": [
    {
     "data": {
      "image/png": "[encoded data removed]",
      "text/plain": [
       "<Figure size 432x288 with 1 Axes>"
      ]
     },
     "metadata": {
      "needs_background": "light"
     },
     "output_type": "display_data"
    }
   ],
   "source": [
    "plt.ticklabel_format(style='plain')\n",
    "plt.scatter(x_values, orders['revenue'])\n",
    "plt.title(\"Стоимость заказов\")\n",
    "plt.xlabel(\"Количество заказов\")\n",
    "plt.ylabel(\"Стоимость заказа\");"
   ]
  },
  {
   "cell_type": "markdown",
   "metadata": {},
   "source": [
    "Есть дорогой заказ выше 1200000. Также нужно рассмотреть график поближе, так как остальные точки сильно сливаются."
   ]
  },
  {
   "cell_type": "code",
   "execution_count": 64,
   "metadata": {},
   "outputs": [],
   "source": [
    "# рассмотрим график поближе\n",
    "x_values = pd.Series(range(0,len(orders[orders['revenue']<= 100000]['revenue'])))"
   ]
  },
  {
   "cell_type": "code",
   "execution_count": 65,
   "metadata": {
    "scrolled": true
   },
   "outputs": [
    {
     "data": {
      "image/png": "[encoded data removed]",
      "text/plain": [
       "<Figure size 432x288 with 1 Axes>"
      ]
     },
     "metadata": {
      "needs_background": "light"
     },
     "output_type": "display_data"
    }
   ],
   "source": [
    "plt.scatter(x_values, orders[orders['revenue']<= 100000]['revenue'])\n",
    "plt.title(\"Стоимость заказов\")\n",
    "plt.xlabel(\"Количество заказов\")\n",
    "plt.ylabel(\"Стоимость заказа\");"
   ]
  },
  {
   "cell_type": "markdown",
   "metadata": {},
   "source": [
    "При увеличении графика стало видно, что есть много заказов стоимостью 30000-60000. Посмотрим долю таких заказов дальше, чтобы точно определить границу."
   ]
  },
  {
   "cell_type": "code",
   "execution_count": 66,
   "metadata": {},
   "outputs": [
    {
     "data": {
      "text/plain": [
       "array([28000. , 58233.2])"
      ]
     },
     "execution_count": 66,
     "metadata": {},
     "output_type": "execute_result"
    }
   ],
   "source": [
    "np.percentile(orders['revenue'], [95, 99])# посчитаем 95-й и 99-й перцентили стоимости заказов"
   ]
  },
  {
   "cell_type": "markdown",
   "metadata": {},
   "source": [
    "Не более 5% заказов дороже 28 000, не более 1 % дороже 58 233.2. Примем заказы стоимостью 40 000 за верхнюю границу и отсеим аномальных пользователей по ней."
   ]
  },
  {
   "cell_type": "code",
   "execution_count": 67,
   "metadata": {},
   "outputs": [],
   "source": [
    "ordersByUsersA = orders[orders['group']=='A'].groupby('visitor_id', as_index=False).agg({'transaction_id':'nunique'})# cоздадим переменную c числом совершённых заказов пользователей группы A"
   ]
  },
  {
   "cell_type": "code",
   "execution_count": 68,
   "metadata": {},
   "outputs": [
    {
     "data": {
      "text/html": [
       "<div>\n",
       "<style scoped>\n",
       "    .dataframe tbody tr th:only-of-type {\n",
       "        vertical-align: middle;\n",
       "    }\n",
       "\n",
       "    .dataframe tbody tr th {\n",
       "        vertical-align: top;\n",
       "    }\n",
       "\n",
       "    .dataframe thead th {\n",
       "        text-align: right;\n",
       "    }\n",
       "</style>\n",
       "<table border=\"1\" class=\"dataframe\">\n",
       "  <thead>\n",
       "    <tr style=\"text-align: right;\">\n",
       "      <th></th>\n",
       "      <th>visitor_id</th>\n",
       "      <th>orders</th>\n",
       "    </tr>\n",
       "  </thead>\n",
       "  <tbody>\n",
       "    <tr>\n",
       "      <th>0</th>\n",
       "      <td>8300375</td>\n",
       "      <td>1</td>\n",
       "    </tr>\n",
       "    <tr>\n",
       "      <th>1</th>\n",
       "      <td>11685486</td>\n",
       "      <td>1</td>\n",
       "    </tr>\n",
       "    <tr>\n",
       "      <th>2</th>\n",
       "      <td>54447517</td>\n",
       "      <td>1</td>\n",
       "    </tr>\n",
       "    <tr>\n",
       "      <th>3</th>\n",
       "      <td>66685450</td>\n",
       "      <td>1</td>\n",
       "    </tr>\n",
       "    <tr>\n",
       "      <th>4</th>\n",
       "      <td>78758296</td>\n",
       "      <td>1</td>\n",
       "    </tr>\n",
       "  </tbody>\n",
       "</table>\n",
       "</div>"
      ],
      "text/plain": [
       "   visitor_id  orders\n",
       "0  8300375     1     \n",
       "1  11685486    1     \n",
       "2  54447517    1     \n",
       "3  66685450    1     \n",
       "4  78758296    1     "
      ]
     },
     "execution_count": 68,
     "metadata": {},
     "output_type": "execute_result"
    }
   ],
   "source": [
    "# переименуем столбцы\n",
    "ordersByUsersA.columns = ['visitor_id', 'orders']\n",
    "ordersByUsersA.head()"
   ]
  },
  {
   "cell_type": "code",
   "execution_count": 69,
   "metadata": {},
   "outputs": [],
   "source": [
    "ordersByUsersB = orders[orders['group']=='B'].groupby('visitor_id', as_index=False).agg({'transaction_id':'nunique'})# cоздадим переменную c числом совершённых заказов пользователей группы B"
   ]
  },
  {
   "cell_type": "code",
   "execution_count": 70,
   "metadata": {},
   "outputs": [
    {
     "data": {
      "text/html": [
       "<div>\n",
       "<style scoped>\n",
       "    .dataframe tbody tr th:only-of-type {\n",
       "        vertical-align: middle;\n",
       "    }\n",
       "\n",
       "    .dataframe tbody tr th {\n",
       "        vertical-align: top;\n",
       "    }\n",
       "\n",
       "    .dataframe thead th {\n",
       "        text-align: right;\n",
       "    }\n",
       "</style>\n",
       "<table border=\"1\" class=\"dataframe\">\n",
       "  <thead>\n",
       "    <tr style=\"text-align: right;\">\n",
       "      <th></th>\n",
       "      <th>visitor_id</th>\n",
       "      <th>orders</th>\n",
       "    </tr>\n",
       "  </thead>\n",
       "  <tbody>\n",
       "    <tr>\n",
       "      <th>0</th>\n",
       "      <td>5114589</td>\n",
       "      <td>1</td>\n",
       "    </tr>\n",
       "    <tr>\n",
       "      <th>1</th>\n",
       "      <td>6958315</td>\n",
       "      <td>1</td>\n",
       "    </tr>\n",
       "    <tr>\n",
       "      <th>2</th>\n",
       "      <td>8300375</td>\n",
       "      <td>1</td>\n",
       "    </tr>\n",
       "    <tr>\n",
       "      <th>3</th>\n",
       "      <td>39475350</td>\n",
       "      <td>1</td>\n",
       "    </tr>\n",
       "    <tr>\n",
       "      <th>4</th>\n",
       "      <td>47206413</td>\n",
       "      <td>1</td>\n",
       "    </tr>\n",
       "  </tbody>\n",
       "</table>\n",
       "</div>"
      ],
      "text/plain": [
       "   visitor_id  orders\n",
       "0  5114589     1     \n",
       "1  6958315     1     \n",
       "2  8300375     1     \n",
       "3  39475350    1     \n",
       "4  47206413    1     "
      ]
     },
     "execution_count": 70,
     "metadata": {},
     "output_type": "execute_result"
    }
   ],
   "source": [
    "# переименуем столбцы\n",
    "ordersByUsersB.columns = ['visitor_id', 'orders']\n",
    "ordersByUsersB.head()"
   ]
  },
  {
   "cell_type": "code",
   "execution_count": 71,
   "metadata": {},
   "outputs": [
    {
     "data": {
      "text/plain": [
       "0        1\n",
       "1        1\n",
       "2        1\n",
       "3        1\n",
       "4        1\n",
       "        ..\n",
       "18228    0\n",
       "18229    0\n",
       "18230    0\n",
       "18231    0\n",
       "18232    0\n",
       "Name: orders, Length: 18736, dtype: int64"
      ]
     },
     "execution_count": 71,
     "metadata": {},
     "output_type": "execute_result"
    }
   ],
   "source": [
    "# cоздадим переменную c количеством заказов пользователей группы A\n",
    "sampleA = pd.concat([ordersByUsersA['orders'],pd.Series(0, index=np.arange(data['visitorsDateA'].sum() - len(ordersByUsersA['orders'])), name='orders')],axis=0)\n",
    "sampleA"
   ]
  },
  {
   "cell_type": "code",
   "execution_count": 72,
   "metadata": {},
   "outputs": [
    {
     "data": {
      "text/plain": [
       "0        1\n",
       "1        1\n",
       "2        1\n",
       "3        1\n",
       "4        1\n",
       "        ..\n",
       "18325    0\n",
       "18326    0\n",
       "18327    0\n",
       "18328    0\n",
       "18329    0\n",
       "Name: orders, Length: 18916, dtype: int64"
      ]
     },
     "execution_count": 72,
     "metadata": {},
     "output_type": "execute_result"
    }
   ],
   "source": [
    "# cоздадим переменную c количеством заказов пользователей группы B\n",
    "sampleB = pd.concat([ordersByUsersB['orders'],pd.Series(0, index=np.arange(data['visitorsDateB'].sum() - len(ordersByUsersB['orders'])), name='orders')],axis=0)\n",
    "sampleB"
   ]
  },
  {
   "cell_type": "markdown",
   "metadata": {},
   "source": [
    "Проверим статистическую значимость различий в среднем числе заказов между сегментами.\n",
    "\n",
    "Нулевая гипотеза: различий в среднем числе заказов между группами нет. Альтернативная гипотеза: различия в числе заказов между группами есть.\n",
    "\n",
    "Рассчитывать статистическую значимость будем по непараметрическому тесту Уилкоксона-Манна-Уитни.\n",
    "Зададим уровень статистической значимости α = 0.05."
   ]
  },
  {
   "cell_type": "code",
   "execution_count": 73,
   "metadata": {},
   "outputs": [
    {
     "data": {
      "text/plain": [
       "'0.017'"
      ]
     },
     "execution_count": 73,
     "metadata": {},
     "output_type": "execute_result"
    }
   ],
   "source": [
    "\"{0:.3f}\".format(stats.mannwhitneyu(sampleA, sampleB)[1])# посчитаем статистическую значимость различий в среднем количестве заказов на посетителя между группами по «сырым» данным"
   ]
  },
  {
   "cell_type": "code",
   "execution_count": 74,
   "metadata": {},
   "outputs": [
    {
     "data": {
      "text/plain": [
       "'0.138'"
      ]
     },
     "execution_count": 74,
     "metadata": {},
     "output_type": "execute_result"
    }
   ],
   "source": [
    "\"{0:.3f}\".format(sampleB.mean() / sampleA.mean() - 1)# выведем относительный прирост среднего числа заказов группы B"
   ]
  },
  {
   "cell_type": "markdown",
   "metadata": {},
   "source": [
    "0.017(P-value) < 0.05(α). Есть статистически значимое различие по среднему количеству заказов между группами по «сырым» данным. Относительный выигрыш группы B равен равен 13.8% (0.138 - второе число, которое мы нашли)."
   ]
  },
  {
   "cell_type": "markdown",
   "metadata": {},
   "source": [
    "Теперь проверим статистическую значимость различий в среднем чеке. \n",
    "\n",
    "Нулевая гипотеза: различий в среднем чеке между группами нет. \n",
    "Альтернативная гипотеза: различия в среднем чеке между группами есть."
   ]
  },
  {
   "cell_type": "code",
   "execution_count": 75,
   "metadata": {},
   "outputs": [
    {
     "data": {
      "text/plain": [
       "'0.729'"
      ]
     },
     "execution_count": 75,
     "metadata": {},
     "output_type": "execute_result"
    }
   ],
   "source": [
    "\"{0:.3f}\".format(stats.mannwhitneyu(orders[orders['group'] == 'A']['revenue'], orders[orders['group'] == 'B']['revenue'])[1])# посчитаем статистическую значимость различий в среднем чеке заказа между группами по «сырым» данным"
   ]
  },
  {
   "cell_type": "code",
   "execution_count": 76,
   "metadata": {},
   "outputs": [
    {
     "data": {
      "text/plain": [
       "'0.259'"
      ]
     },
     "execution_count": 76,
     "metadata": {},
     "output_type": "execute_result"
    }
   ],
   "source": [
    "\"{0:.3f}\".format(orders[orders['group'] == 'B']['revenue'].mean() / orders[orders['group'] == 'A']['revenue'].mean() - 1)# найдём относительные различия в среднем чеке между группами"
   ]
  },
  {
   "cell_type": "markdown",
   "metadata": {},
   "source": [
    "0.729(P-value) > 0.05(α). Нет статистически значимого различия по среднему чеку между группами по «сырым» данным, но есть высокое относительное различие в 25.9% группы B относительно группы A. (0.259 - второе число, которое мы нашли)."
   ]
  },
  {
   "cell_type": "markdown",
   "metadata": {},
   "source": [
    "Уберем аномалии в данных и посчитаем статистическую значимость по \"очищенным\" данным."
   ]
  },
  {
   "cell_type": "code",
   "execution_count": 77,
   "metadata": {},
   "outputs": [
    {
     "data": {
      "text/plain": [
       "44      199603092 \n",
       "55      237748145 \n",
       "114     457167155 \n",
       "299     1230306981\n",
       "393     1614305549\n",
       "487     2038680547\n",
       "569     2378935119\n",
       "591     2458001652\n",
       "619     2587333274\n",
       "744     3062433592\n",
       "897     3717692402\n",
       "917     3803269165\n",
       "1023    4256040402\n",
       "Name: visitor_id, dtype: int64"
      ]
     },
     "execution_count": 77,
     "metadata": {},
     "output_type": "execute_result"
    }
   ],
   "source": [
    "# cделаем срез пользователей с числом заказов больше 3\n",
    "usersWithManyOrders = ordersByUsers[ordersByUsers['orders'] > 3]['visitor_id']\n",
    "usersWithManyOrders"
   ]
  },
  {
   "cell_type": "code",
   "execution_count": 78,
   "metadata": {},
   "outputs": [
    {
     "data": {
      "text/plain": [
       "60      4256040402\n",
       "78      3288820196\n",
       "131     2254586615\n",
       "287     2254456485\n",
       "339     834731816 \n",
       "425     1920142716\n",
       "530     2912540959\n",
       "613     3931967268\n",
       "648     382846391 \n",
       "662     4266935830\n",
       "682     4266935830\n",
       "684     358944393 \n",
       "709     950626008 \n",
       "743     4133034833\n",
       "744     888512513 \n",
       "746     3321013705\n",
       "755     2279926127\n",
       "858     1316129916\n",
       "873     4256040402\n",
       "940     4003628586\n",
       "949     887908475 \n",
       "1006    2261934787\n",
       "1029    2378935119\n",
       "1099    148427295 \n",
       "1103    1164614297\n",
       "1136    1307669133\n",
       "1137    759473111 \n",
       "1142    2606908679\n",
       "1196    2108080724\n",
       "Name: visitor_id, dtype: int64"
      ]
     },
     "execution_count": 78,
     "metadata": {},
     "output_type": "execute_result"
    }
   ],
   "source": [
    "# cделаем срез пользователей, совершивших заказы дороже 40 000\n",
    "usersWithExpensiveOrders = orders[orders['revenue'] > 40000]['visitor_id']\n",
    "usersWithExpensiveOrders"
   ]
  },
  {
   "cell_type": "code",
   "execution_count": 79,
   "metadata": {},
   "outputs": [
    {
     "data": {
      "text/plain": [
       "1099    148427295 \n",
       "44      199603092 \n",
       "55      237748145 \n",
       "684     358944393 \n",
       "648     382846391 \n",
       "114     457167155 \n",
       "1137    759473111 \n",
       "339     834731816 \n",
       "949     887908475 \n",
       "744     888512513 \n",
       "709     950626008 \n",
       "1103    1164614297\n",
       "299     1230306981\n",
       "1136    1307669133\n",
       "858     1316129916\n",
       "393     1614305549\n",
       "425     1920142716\n",
       "487     2038680547\n",
       "1196    2108080724\n",
       "287     2254456485\n",
       "131     2254586615\n",
       "1006    2261934787\n",
       "755     2279926127\n",
       "569     2378935119\n",
       "591     2458001652\n",
       "619     2587333274\n",
       "1142    2606908679\n",
       "530     2912540959\n",
       "744     3062433592\n",
       "78      3288820196\n",
       "746     3321013705\n",
       "897     3717692402\n",
       "917     3803269165\n",
       "613     3931967268\n",
       "940     4003628586\n",
       "743     4133034833\n",
       "1023    4256040402\n",
       "662     4266935830\n",
       "Name: visitor_id, dtype: int64"
      ]
     },
     "execution_count": 79,
     "metadata": {},
     "output_type": "execute_result"
    }
   ],
   "source": [
    "# объединим срезы пользователей в таблице abnormal\n",
    "abnormal = pd.concat([usersWithManyOrders,usersWithExpensiveOrders], axis=0).drop_duplicates().sort_values()\n",
    "abnormal"
   ]
  },
  {
   "cell_type": "code",
   "execution_count": 80,
   "metadata": {},
   "outputs": [
    {
     "data": {
      "text/plain": [
       "38"
      ]
     },
     "execution_count": 80,
     "metadata": {},
     "output_type": "execute_result"
    }
   ],
   "source": [
    "abnormal.shape[0]# узнаем, сколько всего аномальных пользователей"
   ]
  },
  {
   "cell_type": "markdown",
   "metadata": {},
   "source": [
    "Всего 38 аномальных пользователей. \n",
    "Узнаем, как их действия повлияли на результаты теста."
   ]
  },
  {
   "cell_type": "code",
   "execution_count": 81,
   "metadata": {},
   "outputs": [
    {
     "data": {
      "text/plain": [
       "0        1\n",
       "1        1\n",
       "2        1\n",
       "3        1\n",
       "4        1\n",
       "        ..\n",
       "18228    0\n",
       "18229    0\n",
       "18230    0\n",
       "18231    0\n",
       "18232    0\n",
       "Name: orders, Length: 18707, dtype: int64"
      ]
     },
     "execution_count": 81,
     "metadata": {},
     "output_type": "execute_result"
    }
   ],
   "source": [
    "# cоздадим переменную c количеством заказов пользователей группы A, исключив аномальных пользователей\n",
    "sampleAFiltered = pd.concat([ordersByUsersA[np.logical_not(ordersByUsersA['visitor_id'].isin(abnormal))]['orders'],pd.Series(0, index=np.arange(data['visitorsDateA'].sum() - len(ordersByUsersA['orders'])), name='orders')],axis=0)\n",
    "sampleAFiltered                                   "
   ]
  },
  {
   "cell_type": "code",
   "execution_count": 82,
   "metadata": {},
   "outputs": [
    {
     "data": {
      "text/plain": [
       "0        1\n",
       "1        1\n",
       "2        1\n",
       "3        1\n",
       "4        1\n",
       "        ..\n",
       "18325    0\n",
       "18326    0\n",
       "18327    0\n",
       "18328    0\n",
       "18329    0\n",
       "Name: orders, Length: 18892, dtype: int64"
      ]
     },
     "execution_count": 82,
     "metadata": {},
     "output_type": "execute_result"
    }
   ],
   "source": [
    "# cоздадим переменную c количеством заказов пользователей группы B, исключив аномальных пользователей\n",
    "sampleBFiltered = pd.concat([ordersByUsersB[np.logical_not(ordersByUsersB['visitor_id'].isin(abnormal))]['orders'],pd.Series(0, index=np.arange(data['visitorsDateB'].sum() - len(ordersByUsersB['orders'])), name='orders')],axis=0)\n",
    "sampleBFiltered"
   ]
  },
  {
   "cell_type": "markdown",
   "metadata": {},
   "source": [
    "Проверим статистическую значимость различий в среднем числе заказов между сегментами по \"очищенным\" данным.\n",
    "\n",
    "Нулевая гипотеза: различий в среднем числе заказов между группами нет. Альтернативная гипотеза: различия в числе заказов между группами есть."
   ]
  },
  {
   "cell_type": "code",
   "execution_count": 83,
   "metadata": {},
   "outputs": [
    {
     "data": {
      "text/plain": [
       "'0.009'"
      ]
     },
     "execution_count": 83,
     "metadata": {},
     "output_type": "execute_result"
    }
   ],
   "source": [
    "\"{0:.3f}\".format(stats.mannwhitneyu(sampleAFiltered, sampleBFiltered)[1])# посчитаем статистическую значимость различий в среднем количестве заказов на посетителя между группами по «очищенным» данным"
   ]
  },
  {
   "cell_type": "code",
   "execution_count": 84,
   "metadata": {},
   "outputs": [
    {
     "data": {
      "text/plain": [
       "'0.164'"
      ]
     },
     "execution_count": 84,
     "metadata": {},
     "output_type": "execute_result"
    }
   ],
   "source": [
    "\"{0:.3f}\".format(sampleBFiltered.mean() / sampleAFiltered.mean() - 1)# выведем относительный прирост среднего числа заказов группы B"
   ]
  },
  {
   "cell_type": "markdown",
   "metadata": {},
   "source": [
    "0.009(P-value) < 0.05(α), показатель еще сильнее уменьшился. Есть статистически значимое различие по среднему количеству заказов между группами по «очищенным» данным. Относительный выигрыш группы B увеличился до 16.4% (0.164 - второе число, которое мы нашли). Группа B здесь явно лучше группы A. "
   ]
  },
  {
   "cell_type": "markdown",
   "metadata": {},
   "source": [
    "Теперь проверим статистическую значимость различий в среднем чеке по \"очищенным\" данным.\n",
    "\n",
    "Нулевая гипотеза: различий в среднем чеке между группами нет. Альтернативная гипотеза: различия в среднем чеке между группами есть."
   ]
  },
  {
   "cell_type": "code",
   "execution_count": 85,
   "metadata": {},
   "outputs": [
    {
     "data": {
      "text/plain": [
       "'0.843'"
      ]
     },
     "execution_count": 85,
     "metadata": {},
     "output_type": "execute_result"
    }
   ],
   "source": [
    "\"{0:.3f}\".format(stats.mannwhitneyu(orders[np.logical_and(orders['group'] == 'A', np.logical_not(orders['visitor_id'].isin(abnormal)))]['revenue'], orders[np.logical_and(orders['group'] == 'B', np.logical_not(orders['visitor_id'].isin(abnormal)))]['revenue'])[1])# посчитаем статистическую значимость различий в среднем чеке заказа между группами по «очищенным» данным"
   ]
  },
  {
   "cell_type": "code",
   "execution_count": 86,
   "metadata": {},
   "outputs": [
    {
     "data": {
      "text/plain": [
       "'0.055'"
      ]
     },
     "execution_count": 86,
     "metadata": {},
     "output_type": "execute_result"
    }
   ],
   "source": [
    "\"{0:.3f}\".format(orders[np.logical_and(orders['group'] == 'B', np.logical_not(orders['visitor_id'].isin(abnormal)))]['revenue'].mean() / orders[np.logical_and(orders['group'] == 'A', np.logical_not(orders['visitor_id'].isin(abnormal)))]['revenue'].mean() - 1)# найдём относительные различия в среднем чеке между группами"
   ]
  },
  {
   "cell_type": "markdown",
   "metadata": {},
   "source": [
    "0.843(P-value) > 0.05(α). Все так же нет статистически значимого различия по среднему чеку между группами по «очищенным» данным, но снизилось относительное различие до 5.5% (0.055 - второе число, которое мы нашли)."
   ]
  },
  {
   "cell_type": "markdown",
   "metadata": {},
   "source": [
    "### Общий вывод: "
   ]
  },
  {
   "cell_type": "markdown",
   "metadata": {},
   "source": [
    "При применении фреймворка ICE на первом месте находится 8-ая гипотеза, а при применении фреймворка RICE на первом месте находится 7-ая гипотеза, также порядок гипотез изменился при применени второго фреймворка. Это произошло из-за того, что в RICE мы указали дополнительно параметр Reach, который учитывает охват пользователей, которых затронут гипотезы. А это очень важный параметр.\n",
    "\n",
    "При проведении A/B-теста до и после очистки данных группа B лидировала по среднему количеству заказов, кумулятивная метрика конверсии тоже лучше в группе B, поэтому тест можем остановить и зафиксировать победу группы B."
   ]
  }
 ],
 "metadata": {
  "ExecuteTimeLog": [
   {
    "duration": 392,
    "start_time": "2023-03-13T10:02:26.773Z"
   },
   {
    "duration": 77,
    "start_time": "2023-03-13T10:02:27.877Z"
   },
   {
    "duration": 13,
    "start_time": "2023-03-13T10:02:28.448Z"
   },
   {
    "duration": 7,
    "start_time": "2023-03-13T10:14:26.066Z"
   },
   {
    "duration": 10,
    "start_time": "2023-03-13T10:20:24.419Z"
   },
   {
    "duration": 11,
    "start_time": "2023-03-13T10:20:48.960Z"
   },
   {
    "duration": 11,
    "start_time": "2023-03-13T10:22:08.037Z"
   },
   {
    "duration": 10,
    "start_time": "2023-03-13T10:22:12.944Z"
   },
   {
    "duration": 5,
    "start_time": "2023-03-13T10:28:26.856Z"
   },
   {
    "duration": 11,
    "start_time": "2023-03-13T10:28:27.820Z"
   },
   {
    "duration": 4,
    "start_time": "2023-03-13T10:29:49.535Z"
   },
   {
    "duration": 11,
    "start_time": "2023-03-13T10:30:22.496Z"
   },
   {
    "duration": 116,
    "start_time": "2023-03-13T13:41:19.940Z"
   },
   {
    "duration": 76,
    "start_time": "2023-03-13T13:41:21.397Z"
   },
   {
    "duration": 9,
    "start_time": "2023-03-13T13:41:21.929Z"
   },
   {
    "duration": 7,
    "start_time": "2023-03-13T13:41:22.512Z"
   },
   {
    "duration": 4,
    "start_time": "2023-03-13T13:44:52.599Z"
   },
   {
    "duration": 8,
    "start_time": "2023-03-13T13:45:08.496Z"
   },
   {
    "duration": 4,
    "start_time": "2023-03-13T13:45:48.318Z"
   },
   {
    "duration": 8,
    "start_time": "2023-03-13T13:46:38.556Z"
   },
   {
    "duration": 381,
    "start_time": "2023-03-13T13:46:43.297Z"
   },
   {
    "duration": 27,
    "start_time": "2023-03-13T13:46:43.679Z"
   },
   {
    "duration": 15,
    "start_time": "2023-03-13T13:46:43.708Z"
   },
   {
    "duration": 5,
    "start_time": "2023-03-13T13:46:43.725Z"
   },
   {
    "duration": 16,
    "start_time": "2023-03-13T13:46:43.732Z"
   },
   {
    "duration": 7,
    "start_time": "2023-03-13T13:46:43.751Z"
   },
   {
    "duration": 16,
    "start_time": "2023-03-13T13:46:43.760Z"
   },
   {
    "duration": 37,
    "start_time": "2023-03-13T13:46:43.779Z"
   },
   {
    "duration": 16,
    "start_time": "2023-03-13T13:46:43.818Z"
   },
   {
    "duration": 15,
    "start_time": "2023-03-13T13:46:43.836Z"
   },
   {
    "duration": 22,
    "start_time": "2023-03-13T13:46:43.853Z"
   },
   {
    "duration": 13,
    "start_time": "2023-03-13T13:46:43.876Z"
   },
   {
    "duration": 16,
    "start_time": "2023-03-13T13:46:43.890Z"
   },
   {
    "duration": 4,
    "start_time": "2023-03-13T13:51:26.415Z"
   },
   {
    "duration": 10,
    "start_time": "2023-03-13T15:57:11.415Z"
   },
   {
    "duration": 3,
    "start_time": "2023-03-13T15:59:33.511Z"
   },
   {
    "duration": 431,
    "start_time": "2023-03-14T09:19:01.331Z"
   },
   {
    "duration": 113,
    "start_time": "2023-03-14T09:19:01.765Z"
   },
   {
    "duration": 23,
    "start_time": "2023-03-14T09:19:01.880Z"
   },
   {
    "duration": 36,
    "start_time": "2023-03-14T09:19:01.906Z"
   },
   {
    "duration": 22,
    "start_time": "2023-03-14T09:19:01.944Z"
   },
   {
    "duration": 26,
    "start_time": "2023-03-14T09:19:01.967Z"
   },
   {
    "duration": 33,
    "start_time": "2023-03-14T09:19:01.995Z"
   },
   {
    "duration": 97,
    "start_time": "2023-03-14T09:19:02.030Z"
   },
   {
    "duration": 71,
    "start_time": "2023-03-14T09:19:02.129Z"
   },
   {
    "duration": 14,
    "start_time": "2023-03-14T09:19:02.204Z"
   },
   {
    "duration": 15,
    "start_time": "2023-03-14T09:19:02.219Z"
   },
   {
    "duration": 12,
    "start_time": "2023-03-14T09:19:02.236Z"
   },
   {
    "duration": 15,
    "start_time": "2023-03-14T09:19:02.250Z"
   },
   {
    "duration": 7,
    "start_time": "2023-03-14T09:19:02.267Z"
   },
   {
    "duration": 6,
    "start_time": "2023-03-14T09:19:02.275Z"
   },
   {
    "duration": 59,
    "start_time": "2023-03-14T09:19:02.282Z"
   },
   {
    "duration": 48,
    "start_time": "2023-03-14T09:19:43.550Z"
   },
   {
    "duration": 49,
    "start_time": "2023-03-14T09:19:52.953Z"
   },
   {
    "duration": 47,
    "start_time": "2023-03-14T09:19:58.434Z"
   },
   {
    "duration": 683,
    "start_time": "2023-03-14T09:20:38.441Z"
   },
   {
    "duration": 78,
    "start_time": "2023-03-14T09:21:51.298Z"
   },
   {
    "duration": 71,
    "start_time": "2023-03-14T09:23:46.693Z"
   },
   {
    "duration": 12,
    "start_time": "2023-03-14T09:23:47.367Z"
   },
   {
    "duration": 12,
    "start_time": "2023-03-14T09:24:49.762Z"
   },
   {
    "duration": 3,
    "start_time": "2023-03-14T09:26:12.353Z"
   },
   {
    "duration": 5,
    "start_time": "2023-03-14T09:28:11.300Z"
   },
   {
    "duration": 7,
    "start_time": "2023-03-14T09:28:12.117Z"
   },
   {
    "duration": 74,
    "start_time": "2023-03-14T09:28:12.730Z"
   },
   {
    "duration": 5,
    "start_time": "2023-03-14T09:28:13.202Z"
   },
   {
    "duration": 13,
    "start_time": "2023-03-14T09:31:30.203Z"
   },
   {
    "duration": 4,
    "start_time": "2023-03-14T09:31:45.122Z"
   },
   {
    "duration": 15,
    "start_time": "2023-03-14T09:53:41.540Z"
   },
   {
    "duration": 20,
    "start_time": "2023-03-14T09:57:32.674Z"
   },
   {
    "duration": 16,
    "start_time": "2023-03-14T09:57:57.577Z"
   },
   {
    "duration": 29,
    "start_time": "2023-03-14T10:01:37.695Z"
   },
   {
    "duration": 23,
    "start_time": "2023-03-14T10:02:26.775Z"
   },
   {
    "duration": 431,
    "start_time": "2023-03-14T10:12:42.130Z"
   },
   {
    "duration": 24,
    "start_time": "2023-03-14T10:12:42.563Z"
   },
   {
    "duration": 16,
    "start_time": "2023-03-14T10:12:42.590Z"
   },
   {
    "duration": 13,
    "start_time": "2023-03-14T10:12:42.608Z"
   },
   {
    "duration": 13,
    "start_time": "2023-03-14T10:12:42.626Z"
   },
   {
    "duration": 4,
    "start_time": "2023-03-14T10:12:42.641Z"
   },
   {
    "duration": 13,
    "start_time": "2023-03-14T10:12:42.646Z"
   },
   {
    "duration": 32,
    "start_time": "2023-03-14T10:12:42.661Z"
   },
   {
    "duration": 14,
    "start_time": "2023-03-14T10:12:42.694Z"
   },
   {
    "duration": 10,
    "start_time": "2023-03-14T10:12:42.709Z"
   },
   {
    "duration": 7,
    "start_time": "2023-03-14T10:12:42.721Z"
   },
   {
    "duration": 12,
    "start_time": "2023-03-14T10:12:42.731Z"
   },
   {
    "duration": 10,
    "start_time": "2023-03-14T10:12:42.745Z"
   },
   {
    "duration": 7,
    "start_time": "2023-03-14T10:12:42.759Z"
   },
   {
    "duration": 11,
    "start_time": "2023-03-14T10:12:42.768Z"
   },
   {
    "duration": 81,
    "start_time": "2023-03-14T10:12:42.781Z"
   },
   {
    "duration": 9,
    "start_time": "2023-03-14T10:12:42.864Z"
   },
   {
    "duration": 19,
    "start_time": "2023-03-14T10:12:42.875Z"
   },
   {
    "duration": 24,
    "start_time": "2023-03-14T10:12:42.896Z"
   },
   {
    "duration": 51,
    "start_time": "2023-03-14T10:12:42.922Z"
   },
   {
    "duration": 12,
    "start_time": "2023-03-14T10:12:42.975Z"
   },
   {
    "duration": 42,
    "start_time": "2023-03-14T10:12:42.988Z"
   },
   {
    "duration": 6,
    "start_time": "2023-03-14T10:16:31.531Z"
   },
   {
    "duration": 10,
    "start_time": "2023-03-14T10:16:47.251Z"
   },
   {
    "duration": 83,
    "start_time": "2023-03-14T10:50:04.610Z"
   },
   {
    "duration": 10,
    "start_time": "2023-03-14T10:52:26.494Z"
   },
   {
    "duration": 16,
    "start_time": "2023-03-14T10:53:47.956Z"
   },
   {
    "duration": 15,
    "start_time": "2023-03-14T10:53:48.535Z"
   },
   {
    "duration": 75,
    "start_time": "2023-03-14T10:56:54.351Z"
   },
   {
    "duration": 16,
    "start_time": "2023-03-14T10:58:15.959Z"
   },
   {
    "duration": 38,
    "start_time": "2023-03-14T11:19:29.997Z"
   },
   {
    "duration": 45,
    "start_time": "2023-03-14T11:19:56.562Z"
   },
   {
    "duration": 627,
    "start_time": "2023-03-14T11:26:43.935Z"
   },
   {
    "duration": 639,
    "start_time": "2023-03-14T11:26:52.461Z"
   },
   {
    "duration": 40,
    "start_time": "2023-03-14T11:26:53.102Z"
   },
   {
    "duration": 16,
    "start_time": "2023-03-14T11:26:53.144Z"
   },
   {
    "duration": 7,
    "start_time": "2023-03-14T11:26:53.162Z"
   },
   {
    "duration": 15,
    "start_time": "2023-03-14T11:26:53.172Z"
   },
   {
    "duration": 6,
    "start_time": "2023-03-14T11:26:53.189Z"
   },
   {
    "duration": 31,
    "start_time": "2023-03-14T11:26:53.197Z"
   },
   {
    "duration": 42,
    "start_time": "2023-03-14T11:26:53.233Z"
   },
   {
    "duration": 15,
    "start_time": "2023-03-14T11:26:53.277Z"
   },
   {
    "duration": 10,
    "start_time": "2023-03-14T11:26:53.294Z"
   },
   {
    "duration": 41,
    "start_time": "2023-03-14T11:26:53.305Z"
   },
   {
    "duration": 29,
    "start_time": "2023-03-14T11:26:53.350Z"
   },
   {
    "duration": 22,
    "start_time": "2023-03-14T11:26:53.381Z"
   },
   {
    "duration": 17,
    "start_time": "2023-03-14T11:26:53.408Z"
   },
   {
    "duration": 16,
    "start_time": "2023-03-14T11:26:53.429Z"
   },
   {
    "duration": 98,
    "start_time": "2023-03-14T11:26:53.447Z"
   },
   {
    "duration": 13,
    "start_time": "2023-03-14T11:26:53.547Z"
   },
   {
    "duration": 8,
    "start_time": "2023-03-14T11:26:53.563Z"
   },
   {
    "duration": 18,
    "start_time": "2023-03-14T11:26:53.574Z"
   },
   {
    "duration": 54,
    "start_time": "2023-03-14T11:26:53.613Z"
   },
   {
    "duration": 9,
    "start_time": "2023-03-14T11:26:53.670Z"
   },
   {
    "duration": 10,
    "start_time": "2023-03-14T11:26:53.681Z"
   },
   {
    "duration": 14,
    "start_time": "2023-03-14T11:26:53.712Z"
   },
   {
    "duration": 46,
    "start_time": "2023-03-14T11:26:53.728Z"
   },
   {
    "duration": 11,
    "start_time": "2023-03-14T11:26:53.776Z"
   },
   {
    "duration": 35,
    "start_time": "2023-03-14T11:26:53.789Z"
   },
   {
    "duration": 13,
    "start_time": "2023-03-14T11:26:53.825Z"
   },
   {
    "duration": 54,
    "start_time": "2023-03-14T11:26:53.839Z"
   },
   {
    "duration": 15,
    "start_time": "2023-03-14T11:26:53.912Z"
   },
   {
    "duration": 37,
    "start_time": "2023-03-14T11:26:53.937Z"
   },
   {
    "duration": 314,
    "start_time": "2023-03-14T11:31:50.429Z"
   },
   {
    "duration": 278,
    "start_time": "2023-03-14T11:33:08.472Z"
   },
   {
    "duration": 279,
    "start_time": "2023-03-14T11:33:17.025Z"
   },
   {
    "duration": 17,
    "start_time": "2023-03-14T11:36:52.809Z"
   },
   {
    "duration": 679,
    "start_time": "2023-03-14T11:37:36.207Z"
   },
   {
    "duration": 30,
    "start_time": "2023-03-14T11:37:36.889Z"
   },
   {
    "duration": 13,
    "start_time": "2023-03-14T11:37:36.921Z"
   },
   {
    "duration": 6,
    "start_time": "2023-03-14T11:37:36.936Z"
   },
   {
    "duration": 14,
    "start_time": "2023-03-14T11:37:36.944Z"
   },
   {
    "duration": 8,
    "start_time": "2023-03-14T11:37:36.960Z"
   },
   {
    "duration": 13,
    "start_time": "2023-03-14T11:37:36.970Z"
   },
   {
    "duration": 60,
    "start_time": "2023-03-14T11:37:36.985Z"
   },
   {
    "duration": 14,
    "start_time": "2023-03-14T11:37:37.048Z"
   },
   {
    "duration": 10,
    "start_time": "2023-03-14T11:37:37.064Z"
   },
   {
    "duration": 9,
    "start_time": "2023-03-14T11:37:37.077Z"
   },
   {
    "duration": 12,
    "start_time": "2023-03-14T11:37:37.088Z"
   },
   {
    "duration": 14,
    "start_time": "2023-03-14T11:37:37.102Z"
   },
   {
    "duration": 26,
    "start_time": "2023-03-14T11:37:37.120Z"
   },
   {
    "duration": 13,
    "start_time": "2023-03-14T11:37:37.148Z"
   },
   {
    "duration": 52,
    "start_time": "2023-03-14T11:37:37.163Z"
   },
   {
    "duration": 10,
    "start_time": "2023-03-14T11:37:37.217Z"
   },
   {
    "duration": 20,
    "start_time": "2023-03-14T11:37:37.230Z"
   },
   {
    "duration": 10,
    "start_time": "2023-03-14T11:37:37.252Z"
   },
   {
    "duration": 62,
    "start_time": "2023-03-14T11:37:37.263Z"
   },
   {
    "duration": 10,
    "start_time": "2023-03-14T11:37:37.332Z"
   },
   {
    "duration": 21,
    "start_time": "2023-03-14T11:37:37.344Z"
   },
   {
    "duration": 10,
    "start_time": "2023-03-14T11:37:37.367Z"
   },
   {
    "duration": 72,
    "start_time": "2023-03-14T11:37:37.378Z"
   },
   {
    "duration": 37,
    "start_time": "2023-03-14T11:37:37.452Z"
   },
   {
    "duration": 38,
    "start_time": "2023-03-14T11:37:37.491Z"
   },
   {
    "duration": 15,
    "start_time": "2023-03-14T11:37:37.532Z"
   },
   {
    "duration": 80,
    "start_time": "2023-03-14T11:37:37.549Z"
   },
   {
    "duration": 13,
    "start_time": "2023-03-14T11:37:37.631Z"
   },
   {
    "duration": 35,
    "start_time": "2023-03-14T11:37:37.646Z"
   },
   {
    "duration": 307,
    "start_time": "2023-03-14T11:37:37.683Z"
   },
   {
    "duration": 78,
    "start_time": "2023-03-14T12:54:30.262Z"
   },
   {
    "duration": 80,
    "start_time": "2023-03-14T12:54:36.574Z"
   },
   {
    "duration": 296,
    "start_time": "2023-03-14T12:54:51.593Z"
   },
   {
    "duration": 46,
    "start_time": "2023-03-14T12:54:59.339Z"
   },
   {
    "duration": 375,
    "start_time": "2023-03-14T12:55:04.147Z"
   },
   {
    "duration": 302,
    "start_time": "2023-03-14T12:55:28.553Z"
   },
   {
    "duration": 350,
    "start_time": "2023-03-14T12:55:36.135Z"
   },
   {
    "duration": 311,
    "start_time": "2023-03-14T14:09:54.977Z"
   },
   {
    "duration": 272,
    "start_time": "2023-03-14T14:10:06.429Z"
   },
   {
    "duration": 286,
    "start_time": "2023-03-14T14:10:17.209Z"
   },
   {
    "duration": 295,
    "start_time": "2023-03-14T14:10:30.331Z"
   },
   {
    "duration": 343,
    "start_time": "2023-03-14T14:10:37.109Z"
   },
   {
    "duration": 298,
    "start_time": "2023-03-14T14:12:08.291Z"
   },
   {
    "duration": 68,
    "start_time": "2023-03-14T16:29:49.513Z"
   },
   {
    "duration": 801,
    "start_time": "2023-03-14T16:29:57.155Z"
   },
   {
    "duration": 79,
    "start_time": "2023-03-14T16:29:57.958Z"
   },
   {
    "duration": 13,
    "start_time": "2023-03-14T16:29:58.039Z"
   },
   {
    "duration": 5,
    "start_time": "2023-03-14T16:29:58.055Z"
   },
   {
    "duration": 10,
    "start_time": "2023-03-14T16:29:58.061Z"
   },
   {
    "duration": 7,
    "start_time": "2023-03-14T16:29:58.073Z"
   },
   {
    "duration": 13,
    "start_time": "2023-03-14T16:29:58.082Z"
   },
   {
    "duration": 83,
    "start_time": "2023-03-14T16:29:58.096Z"
   },
   {
    "duration": 74,
    "start_time": "2023-03-14T16:29:58.181Z"
   },
   {
    "duration": 9,
    "start_time": "2023-03-14T16:29:58.257Z"
   },
   {
    "duration": 5,
    "start_time": "2023-03-14T16:29:58.267Z"
   },
   {
    "duration": 10,
    "start_time": "2023-03-14T16:29:58.274Z"
   },
   {
    "duration": 9,
    "start_time": "2023-03-14T16:29:58.286Z"
   },
   {
    "duration": 6,
    "start_time": "2023-03-14T16:29:58.297Z"
   },
   {
    "duration": 22,
    "start_time": "2023-03-14T16:29:58.304Z"
   },
   {
    "duration": 41,
    "start_time": "2023-03-14T16:29:58.328Z"
   },
   {
    "duration": 8,
    "start_time": "2023-03-14T16:29:58.370Z"
   },
   {
    "duration": 6,
    "start_time": "2023-03-14T16:29:58.379Z"
   },
   {
    "duration": 14,
    "start_time": "2023-03-14T16:29:58.386Z"
   },
   {
    "duration": 56,
    "start_time": "2023-03-14T16:29:58.401Z"
   },
   {
    "duration": 9,
    "start_time": "2023-03-14T16:29:58.458Z"
   },
   {
    "duration": 10,
    "start_time": "2023-03-14T16:29:58.469Z"
   },
   {
    "duration": 7,
    "start_time": "2023-03-14T16:29:58.480Z"
   },
   {
    "duration": 62,
    "start_time": "2023-03-14T16:29:58.489Z"
   },
   {
    "duration": 12,
    "start_time": "2023-03-14T16:29:58.553Z"
   },
   {
    "duration": 12,
    "start_time": "2023-03-14T16:29:58.566Z"
   },
   {
    "duration": 8,
    "start_time": "2023-03-14T16:29:58.579Z"
   },
   {
    "duration": 47,
    "start_time": "2023-03-14T16:29:58.611Z"
   },
   {
    "duration": 8,
    "start_time": "2023-03-14T16:29:58.659Z"
   },
   {
    "duration": 50,
    "start_time": "2023-03-14T16:29:58.669Z"
   },
   {
    "duration": 299,
    "start_time": "2023-03-14T16:29:58.720Z"
   },
   {
    "duration": 268,
    "start_time": "2023-03-14T16:29:59.021Z"
   },
   {
    "duration": 296,
    "start_time": "2023-03-14T16:37:07.207Z"
   },
   {
    "duration": 269,
    "start_time": "2023-03-14T16:37:48.871Z"
   },
   {
    "duration": 346,
    "start_time": "2023-03-14T16:41:45.895Z"
   },
   {
    "duration": 341,
    "start_time": "2023-03-14T16:42:03.973Z"
   },
   {
    "duration": 261,
    "start_time": "2023-03-14T16:43:31.871Z"
   },
   {
    "duration": 259,
    "start_time": "2023-03-14T16:43:46.224Z"
   },
   {
    "duration": 269,
    "start_time": "2023-03-14T16:43:52.467Z"
   },
   {
    "duration": 253,
    "start_time": "2023-03-14T16:44:58.135Z"
   },
   {
    "duration": 254,
    "start_time": "2023-03-14T16:45:28.297Z"
   },
   {
    "duration": 270,
    "start_time": "2023-03-14T16:46:26.853Z"
   },
   {
    "duration": 264,
    "start_time": "2023-03-14T16:47:03.295Z"
   },
   {
    "duration": 255,
    "start_time": "2023-03-14T16:47:51.946Z"
   },
   {
    "duration": 275,
    "start_time": "2023-03-14T16:48:03.772Z"
   },
   {
    "duration": 371,
    "start_time": "2023-03-14T16:48:17.251Z"
   },
   {
    "duration": 295,
    "start_time": "2023-03-14T16:58:44.548Z"
   },
   {
    "duration": 662,
    "start_time": "2023-03-14T17:00:06.718Z"
   },
   {
    "duration": 28,
    "start_time": "2023-03-14T17:00:07.382Z"
   },
   {
    "duration": 24,
    "start_time": "2023-03-14T17:00:07.411Z"
   },
   {
    "duration": 7,
    "start_time": "2023-03-14T17:00:07.437Z"
   },
   {
    "duration": 14,
    "start_time": "2023-03-14T17:00:07.447Z"
   },
   {
    "duration": 7,
    "start_time": "2023-03-14T17:00:07.462Z"
   },
   {
    "duration": 18,
    "start_time": "2023-03-14T17:00:07.470Z"
   },
   {
    "duration": 45,
    "start_time": "2023-03-14T17:00:07.489Z"
   },
   {
    "duration": 16,
    "start_time": "2023-03-14T17:00:07.536Z"
   },
   {
    "duration": 9,
    "start_time": "2023-03-14T17:00:07.553Z"
   },
   {
    "duration": 7,
    "start_time": "2023-03-14T17:00:07.563Z"
   },
   {
    "duration": 13,
    "start_time": "2023-03-14T17:00:07.571Z"
   },
   {
    "duration": 10,
    "start_time": "2023-03-14T17:00:07.586Z"
   },
   {
    "duration": 6,
    "start_time": "2023-03-14T17:00:07.598Z"
   },
   {
    "duration": 16,
    "start_time": "2023-03-14T17:00:07.606Z"
   },
   {
    "duration": 43,
    "start_time": "2023-03-14T17:00:07.624Z"
   },
   {
    "duration": 8,
    "start_time": "2023-03-14T17:00:07.669Z"
   },
   {
    "duration": 12,
    "start_time": "2023-03-14T17:00:07.678Z"
   },
   {
    "duration": 10,
    "start_time": "2023-03-14T17:00:07.691Z"
   },
   {
    "duration": 52,
    "start_time": "2023-03-14T17:00:07.712Z"
   },
   {
    "duration": 8,
    "start_time": "2023-03-14T17:00:07.766Z"
   },
   {
    "duration": 11,
    "start_time": "2023-03-14T17:00:07.775Z"
   },
   {
    "duration": 40,
    "start_time": "2023-03-14T17:00:07.787Z"
   },
   {
    "duration": 51,
    "start_time": "2023-03-14T17:00:07.829Z"
   },
   {
    "duration": 13,
    "start_time": "2023-03-14T17:00:07.882Z"
   },
   {
    "duration": 24,
    "start_time": "2023-03-14T17:00:07.896Z"
   },
   {
    "duration": 11,
    "start_time": "2023-03-14T17:00:07.921Z"
   },
   {
    "duration": 52,
    "start_time": "2023-03-14T17:00:07.934Z"
   },
   {
    "duration": 11,
    "start_time": "2023-03-14T17:00:07.988Z"
   },
   {
    "duration": 36,
    "start_time": "2023-03-14T17:00:08.000Z"
   },
   {
    "duration": 309,
    "start_time": "2023-03-14T17:00:08.038Z"
   },
   {
    "duration": 283,
    "start_time": "2023-03-14T17:00:08.349Z"
   },
   {
    "duration": 275,
    "start_time": "2023-03-14T17:00:08.633Z"
   },
   {
    "duration": 288,
    "start_time": "2023-03-14T17:00:08.911Z"
   },
   {
    "duration": 318,
    "start_time": "2023-03-14T17:03:46.264Z"
   },
   {
    "duration": 260,
    "start_time": "2023-03-14T17:03:59.270Z"
   },
   {
    "duration": 265,
    "start_time": "2023-03-14T17:04:43.740Z"
   },
   {
    "duration": 73,
    "start_time": "2023-03-15T12:08:11.186Z"
   },
   {
    "duration": 75,
    "start_time": "2023-03-15T12:08:41.423Z"
   },
   {
    "duration": 49,
    "start_time": "2023-03-15T12:09:07.176Z"
   },
   {
    "duration": 861,
    "start_time": "2023-03-15T12:09:15.108Z"
   },
   {
    "duration": 74,
    "start_time": "2023-03-15T12:09:15.972Z"
   },
   {
    "duration": 19,
    "start_time": "2023-03-15T12:09:16.049Z"
   },
   {
    "duration": 16,
    "start_time": "2023-03-15T12:09:16.071Z"
   },
   {
    "duration": 33,
    "start_time": "2023-03-15T12:09:16.090Z"
   },
   {
    "duration": 21,
    "start_time": "2023-03-15T12:09:16.125Z"
   },
   {
    "duration": 28,
    "start_time": "2023-03-15T12:09:16.148Z"
   },
   {
    "duration": 110,
    "start_time": "2023-03-15T12:09:16.179Z"
   },
   {
    "duration": 61,
    "start_time": "2023-03-15T12:09:16.291Z"
   },
   {
    "duration": 11,
    "start_time": "2023-03-15T12:09:16.356Z"
   },
   {
    "duration": 7,
    "start_time": "2023-03-15T12:09:16.369Z"
   },
   {
    "duration": 13,
    "start_time": "2023-03-15T12:09:16.378Z"
   },
   {
    "duration": 28,
    "start_time": "2023-03-15T12:09:16.392Z"
   },
   {
    "duration": 10,
    "start_time": "2023-03-15T12:09:16.422Z"
   },
   {
    "duration": 35,
    "start_time": "2023-03-15T12:09:16.434Z"
   },
   {
    "duration": 49,
    "start_time": "2023-03-15T12:09:16.471Z"
   },
   {
    "duration": 7,
    "start_time": "2023-03-15T12:09:16.522Z"
   },
   {
    "duration": 11,
    "start_time": "2023-03-15T12:09:16.531Z"
   },
   {
    "duration": 19,
    "start_time": "2023-03-15T12:09:16.543Z"
   },
   {
    "duration": 54,
    "start_time": "2023-03-15T12:09:16.563Z"
   },
   {
    "duration": 22,
    "start_time": "2023-03-15T12:09:16.619Z"
   },
   {
    "duration": 14,
    "start_time": "2023-03-15T12:09:16.643Z"
   },
   {
    "duration": 9,
    "start_time": "2023-03-15T12:09:16.659Z"
   },
   {
    "duration": 59,
    "start_time": "2023-03-15T12:09:16.669Z"
   },
   {
    "duration": 12,
    "start_time": "2023-03-15T12:09:16.730Z"
   },
   {
    "duration": 12,
    "start_time": "2023-03-15T12:09:16.744Z"
   },
   {
    "duration": 24,
    "start_time": "2023-03-15T12:09:16.758Z"
   },
   {
    "duration": 48,
    "start_time": "2023-03-15T12:09:16.786Z"
   },
   {
    "duration": 24,
    "start_time": "2023-03-15T12:09:16.836Z"
   },
   {
    "duration": 41,
    "start_time": "2023-03-15T12:09:16.862Z"
   },
   {
    "duration": 330,
    "start_time": "2023-03-15T12:09:16.906Z"
   },
   {
    "duration": 309,
    "start_time": "2023-03-15T12:09:17.239Z"
   },
   {
    "duration": 299,
    "start_time": "2023-03-15T12:09:17.550Z"
   },
   {
    "duration": 387,
    "start_time": "2023-03-15T12:09:17.851Z"
   },
   {
    "duration": 294,
    "start_time": "2023-03-15T12:09:18.240Z"
   },
   {
    "duration": 15,
    "start_time": "2023-03-15T12:09:18.536Z"
   },
   {
    "duration": 93,
    "start_time": "2023-03-15T12:09:18.553Z"
   },
   {
    "duration": 8,
    "start_time": "2023-03-15T12:11:41.243Z"
   },
   {
    "duration": 4,
    "start_time": "2023-03-15T12:11:47.622Z"
   },
   {
    "duration": 133,
    "start_time": "2023-03-15T12:11:50.419Z"
   },
   {
    "duration": 124,
    "start_time": "2023-03-15T12:12:07.217Z"
   },
   {
    "duration": 658,
    "start_time": "2023-03-15T12:13:47.319Z"
   },
   {
    "duration": 27,
    "start_time": "2023-03-15T12:13:47.983Z"
   },
   {
    "duration": 20,
    "start_time": "2023-03-15T12:13:48.012Z"
   },
   {
    "duration": 14,
    "start_time": "2023-03-15T12:13:48.035Z"
   },
   {
    "duration": 21,
    "start_time": "2023-03-15T12:13:48.052Z"
   },
   {
    "duration": 12,
    "start_time": "2023-03-15T12:13:48.075Z"
   },
   {
    "duration": 18,
    "start_time": "2023-03-15T12:13:48.089Z"
   },
   {
    "duration": 41,
    "start_time": "2023-03-15T12:13:48.109Z"
   },
   {
    "duration": 16,
    "start_time": "2023-03-15T12:13:48.152Z"
   },
   {
    "duration": 10,
    "start_time": "2023-03-15T12:13:48.171Z"
   },
   {
    "duration": 12,
    "start_time": "2023-03-15T12:13:48.183Z"
   },
   {
    "duration": 13,
    "start_time": "2023-03-15T12:13:48.197Z"
   },
   {
    "duration": 13,
    "start_time": "2023-03-15T12:13:48.212Z"
   },
   {
    "duration": 17,
    "start_time": "2023-03-15T12:13:48.228Z"
   },
   {
    "duration": 12,
    "start_time": "2023-03-15T12:13:48.248Z"
   },
   {
    "duration": 72,
    "start_time": "2023-03-15T12:13:48.262Z"
   },
   {
    "duration": 10,
    "start_time": "2023-03-15T12:13:48.336Z"
   },
   {
    "duration": 7,
    "start_time": "2023-03-15T12:13:48.348Z"
   },
   {
    "duration": 29,
    "start_time": "2023-03-15T12:13:48.357Z"
   },
   {
    "duration": 50,
    "start_time": "2023-03-15T12:13:48.389Z"
   },
   {
    "duration": 12,
    "start_time": "2023-03-15T12:13:48.442Z"
   },
   {
    "duration": 30,
    "start_time": "2023-03-15T12:13:48.455Z"
   },
   {
    "duration": 10,
    "start_time": "2023-03-15T12:13:48.487Z"
   },
   {
    "duration": 53,
    "start_time": "2023-03-15T12:13:48.499Z"
   },
   {
    "duration": 12,
    "start_time": "2023-03-15T12:13:48.554Z"
   },
   {
    "duration": 12,
    "start_time": "2023-03-15T12:13:48.585Z"
   },
   {
    "duration": 16,
    "start_time": "2023-03-15T12:13:48.598Z"
   },
   {
    "duration": 51,
    "start_time": "2023-03-15T12:13:48.616Z"
   },
   {
    "duration": 21,
    "start_time": "2023-03-15T12:13:48.669Z"
   },
   {
    "duration": 32,
    "start_time": "2023-03-15T12:13:48.693Z"
   },
   {
    "duration": 323,
    "start_time": "2023-03-15T12:13:48.727Z"
   },
   {
    "duration": 291,
    "start_time": "2023-03-15T12:13:49.052Z"
   },
   {
    "duration": 312,
    "start_time": "2023-03-15T12:13:49.345Z"
   },
   {
    "duration": 336,
    "start_time": "2023-03-15T12:13:49.659Z"
   },
   {
    "duration": 371,
    "start_time": "2023-03-15T12:13:49.997Z"
   },
   {
    "duration": 17,
    "start_time": "2023-03-15T12:13:50.369Z"
   },
   {
    "duration": 27,
    "start_time": "2023-03-15T12:13:50.388Z"
   },
   {
    "duration": 135,
    "start_time": "2023-03-15T12:13:50.416Z"
   },
   {
    "duration": 138,
    "start_time": "2023-03-15T12:15:44.215Z"
   },
   {
    "duration": 7,
    "start_time": "2023-03-15T12:16:01.780Z"
   },
   {
    "duration": 7,
    "start_time": "2023-03-15T12:17:42.232Z"
   },
   {
    "duration": 4,
    "start_time": "2023-03-15T12:17:46.592Z"
   },
   {
    "duration": 11,
    "start_time": "2023-03-15T12:17:55.234Z"
   },
   {
    "duration": 740,
    "start_time": "2023-03-15T12:19:53.096Z"
   },
   {
    "duration": 29,
    "start_time": "2023-03-15T12:19:53.839Z"
   },
   {
    "duration": 23,
    "start_time": "2023-03-15T12:19:53.870Z"
   },
   {
    "duration": 9,
    "start_time": "2023-03-15T12:19:53.896Z"
   },
   {
    "duration": 17,
    "start_time": "2023-03-15T12:19:53.907Z"
   },
   {
    "duration": 18,
    "start_time": "2023-03-15T12:19:53.926Z"
   },
   {
    "duration": 27,
    "start_time": "2023-03-15T12:19:53.946Z"
   },
   {
    "duration": 53,
    "start_time": "2023-03-15T12:19:53.976Z"
   },
   {
    "duration": 18,
    "start_time": "2023-03-15T12:19:54.031Z"
   },
   {
    "duration": 23,
    "start_time": "2023-03-15T12:19:54.052Z"
   },
   {
    "duration": 26,
    "start_time": "2023-03-15T12:19:54.077Z"
   },
   {
    "duration": 23,
    "start_time": "2023-03-15T12:19:54.105Z"
   },
   {
    "duration": 27,
    "start_time": "2023-03-15T12:19:54.130Z"
   },
   {
    "duration": 20,
    "start_time": "2023-03-15T12:19:54.159Z"
   },
   {
    "duration": 23,
    "start_time": "2023-03-15T12:19:54.181Z"
   },
   {
    "duration": 66,
    "start_time": "2023-03-15T12:19:54.206Z"
   },
   {
    "duration": 8,
    "start_time": "2023-03-15T12:19:54.274Z"
   },
   {
    "duration": 19,
    "start_time": "2023-03-15T12:19:54.284Z"
   },
   {
    "duration": 17,
    "start_time": "2023-03-15T12:19:54.305Z"
   },
   {
    "duration": 66,
    "start_time": "2023-03-15T12:19:54.324Z"
   },
   {
    "duration": 28,
    "start_time": "2023-03-15T12:19:54.392Z"
   },
   {
    "duration": 18,
    "start_time": "2023-03-15T12:19:54.421Z"
   },
   {
    "duration": 26,
    "start_time": "2023-03-15T12:19:54.441Z"
   },
   {
    "duration": 54,
    "start_time": "2023-03-15T12:19:54.469Z"
   },
   {
    "duration": 14,
    "start_time": "2023-03-15T12:19:54.525Z"
   },
   {
    "duration": 12,
    "start_time": "2023-03-15T12:19:54.541Z"
   },
   {
    "duration": 26,
    "start_time": "2023-03-15T12:19:54.555Z"
   },
   {
    "duration": 60,
    "start_time": "2023-03-15T12:19:54.585Z"
   },
   {
    "duration": 18,
    "start_time": "2023-03-15T12:19:54.647Z"
   },
   {
    "duration": 39,
    "start_time": "2023-03-15T12:19:54.667Z"
   },
   {
    "duration": 322,
    "start_time": "2023-03-15T12:19:54.708Z"
   },
   {
    "duration": 314,
    "start_time": "2023-03-15T12:19:55.032Z"
   },
   {
    "duration": 348,
    "start_time": "2023-03-15T12:19:55.348Z"
   },
   {
    "duration": 355,
    "start_time": "2023-03-15T12:19:55.699Z"
   },
   {
    "duration": 405,
    "start_time": "2023-03-15T12:19:56.056Z"
   },
   {
    "duration": 7,
    "start_time": "2023-03-15T12:19:56.464Z"
   },
   {
    "duration": 14,
    "start_time": "2023-03-15T12:19:56.480Z"
   },
   {
    "duration": 21,
    "start_time": "2023-03-15T12:19:56.496Z"
   },
   {
    "duration": 122,
    "start_time": "2023-03-15T12:19:56.519Z"
   },
   {
    "duration": 6,
    "start_time": "2023-03-15T12:19:56.642Z"
   },
   {
    "duration": 10,
    "start_time": "2023-03-15T12:20:15.136Z"
   },
   {
    "duration": 4,
    "start_time": "2023-03-15T12:20:18.209Z"
   },
   {
    "duration": 129,
    "start_time": "2023-03-15T12:20:18.924Z"
   },
   {
    "duration": 6,
    "start_time": "2023-03-15T12:20:21.279Z"
   },
   {
    "duration": 5,
    "start_time": "2023-03-15T12:26:13.759Z"
   },
   {
    "duration": 160,
    "start_time": "2023-03-15T12:26:14.786Z"
   },
   {
    "duration": 7,
    "start_time": "2023-03-15T12:26:57.723Z"
   },
   {
    "duration": 8,
    "start_time": "2023-03-15T12:39:46.489Z"
   },
   {
    "duration": 7,
    "start_time": "2023-03-15T12:39:47.732Z"
   },
   {
    "duration": 7,
    "start_time": "2023-03-15T12:39:57.939Z"
   },
   {
    "duration": 9,
    "start_time": "2023-03-15T12:39:58.415Z"
   },
   {
    "duration": 8,
    "start_time": "2023-03-15T13:01:23.627Z"
   },
   {
    "duration": 11,
    "start_time": "2023-03-15T13:01:35.051Z"
   },
   {
    "duration": 9,
    "start_time": "2023-03-15T13:01:59.990Z"
   },
   {
    "duration": 8,
    "start_time": "2023-03-15T13:02:17.283Z"
   },
   {
    "duration": 8,
    "start_time": "2023-03-15T13:02:38.752Z"
   },
   {
    "duration": 10,
    "start_time": "2023-03-15T13:02:44.995Z"
   },
   {
    "duration": 10,
    "start_time": "2023-03-15T13:05:42.753Z"
   },
   {
    "duration": 84,
    "start_time": "2023-03-15T13:06:29.266Z"
   },
   {
    "duration": 94,
    "start_time": "2023-03-15T13:06:38.447Z"
   },
   {
    "duration": 1199,
    "start_time": "2023-03-15T13:07:27.624Z"
   },
   {
    "duration": 28,
    "start_time": "2023-03-15T13:07:28.825Z"
   },
   {
    "duration": 17,
    "start_time": "2023-03-15T13:07:28.855Z"
   },
   {
    "duration": 13,
    "start_time": "2023-03-15T13:07:28.875Z"
   },
   {
    "duration": 17,
    "start_time": "2023-03-15T13:07:28.890Z"
   },
   {
    "duration": 9,
    "start_time": "2023-03-15T13:07:28.908Z"
   },
   {
    "duration": 17,
    "start_time": "2023-03-15T13:07:28.919Z"
   },
   {
    "duration": 46,
    "start_time": "2023-03-15T13:07:28.938Z"
   },
   {
    "duration": 16,
    "start_time": "2023-03-15T13:07:28.986Z"
   },
   {
    "duration": 11,
    "start_time": "2023-03-15T13:07:29.006Z"
   },
   {
    "duration": 16,
    "start_time": "2023-03-15T13:07:29.020Z"
   },
   {
    "duration": 19,
    "start_time": "2023-03-15T13:07:29.039Z"
   },
   {
    "duration": 24,
    "start_time": "2023-03-15T13:07:29.059Z"
   },
   {
    "duration": 18,
    "start_time": "2023-03-15T13:07:29.084Z"
   },
   {
    "duration": 26,
    "start_time": "2023-03-15T13:07:29.104Z"
   },
   {
    "duration": 52,
    "start_time": "2023-03-15T13:07:29.131Z"
   },
   {
    "duration": 14,
    "start_time": "2023-03-15T13:07:29.185Z"
   },
   {
    "duration": 25,
    "start_time": "2023-03-15T13:07:29.201Z"
   },
   {
    "duration": 20,
    "start_time": "2023-03-15T13:07:29.228Z"
   },
   {
    "duration": 51,
    "start_time": "2023-03-15T13:07:29.250Z"
   },
   {
    "duration": 19,
    "start_time": "2023-03-15T13:07:29.303Z"
   },
   {
    "duration": 20,
    "start_time": "2023-03-15T13:07:29.324Z"
   },
   {
    "duration": 18,
    "start_time": "2023-03-15T13:07:29.346Z"
   },
   {
    "duration": 60,
    "start_time": "2023-03-15T13:07:29.366Z"
   },
   {
    "duration": 23,
    "start_time": "2023-03-15T13:07:29.428Z"
   },
   {
    "duration": 20,
    "start_time": "2023-03-15T13:07:29.453Z"
   },
   {
    "duration": 15,
    "start_time": "2023-03-15T13:07:29.480Z"
   },
   {
    "duration": 69,
    "start_time": "2023-03-15T13:07:29.499Z"
   },
   {
    "duration": 22,
    "start_time": "2023-03-15T13:07:29.570Z"
   },
   {
    "duration": 42,
    "start_time": "2023-03-15T13:07:29.595Z"
   },
   {
    "duration": 347,
    "start_time": "2023-03-15T13:07:29.639Z"
   },
   {
    "duration": 328,
    "start_time": "2023-03-15T13:07:29.988Z"
   },
   {
    "duration": 292,
    "start_time": "2023-03-15T13:07:30.318Z"
   },
   {
    "duration": 321,
    "start_time": "2023-03-15T13:07:30.612Z"
   },
   {
    "duration": 304,
    "start_time": "2023-03-15T13:07:30.935Z"
   },
   {
    "duration": 9,
    "start_time": "2023-03-15T13:07:31.241Z"
   },
   {
    "duration": 33,
    "start_time": "2023-03-15T13:07:31.251Z"
   },
   {
    "duration": 36,
    "start_time": "2023-03-15T13:07:31.287Z"
   },
   {
    "duration": 192,
    "start_time": "2023-03-15T13:07:31.326Z"
   },
   {
    "duration": 7,
    "start_time": "2023-03-15T13:07:31.520Z"
   },
   {
    "duration": 47,
    "start_time": "2023-03-15T13:07:31.529Z"
   },
   {
    "duration": 203,
    "start_time": "2023-03-15T13:07:31.578Z"
   },
   {
    "duration": 6,
    "start_time": "2023-03-15T13:07:31.783Z"
   },
   {
    "duration": 34,
    "start_time": "2023-03-15T13:07:31.791Z"
   },
   {
    "duration": 38,
    "start_time": "2023-03-15T13:07:31.827Z"
   },
   {
    "duration": 93,
    "start_time": "2023-03-15T13:07:31.867Z"
   },
   {
    "duration": 110,
    "start_time": "2023-03-15T13:07:31.962Z"
   },
   {
    "duration": 32,
    "start_time": "2023-03-15T13:07:32.074Z"
   },
   {
    "duration": 19,
    "start_time": "2023-03-15T13:07:32.108Z"
   },
   {
    "duration": 51,
    "start_time": "2023-03-15T13:07:32.129Z"
   },
   {
    "duration": 6,
    "start_time": "2023-03-15T13:08:11.311Z"
   },
   {
    "duration": 27,
    "start_time": "2023-03-15T13:13:16.415Z"
   },
   {
    "duration": 126,
    "start_time": "2023-03-15T13:13:20.403Z"
   },
   {
    "duration": 27,
    "start_time": "2023-03-15T13:13:24.101Z"
   },
   {
    "duration": 14,
    "start_time": "2023-03-15T13:16:45.829Z"
   },
   {
    "duration": 7,
    "start_time": "2023-03-15T13:18:49.375Z"
   },
   {
    "duration": 6,
    "start_time": "2023-03-15T13:20:09.675Z"
   },
   {
    "duration": 8,
    "start_time": "2023-03-15T13:20:43.242Z"
   },
   {
    "duration": 48,
    "start_time": "2023-03-16T07:12:57.798Z"
   },
   {
    "duration": 1251,
    "start_time": "2023-03-16T07:13:11.120Z"
   },
   {
    "duration": 84,
    "start_time": "2023-03-16T07:13:12.373Z"
   },
   {
    "duration": 15,
    "start_time": "2023-03-16T07:13:12.459Z"
   },
   {
    "duration": 6,
    "start_time": "2023-03-16T07:13:12.475Z"
   },
   {
    "duration": 10,
    "start_time": "2023-03-16T07:13:12.483Z"
   },
   {
    "duration": 4,
    "start_time": "2023-03-16T07:13:12.495Z"
   },
   {
    "duration": 12,
    "start_time": "2023-03-16T07:13:12.500Z"
   },
   {
    "duration": 87,
    "start_time": "2023-03-16T07:13:12.513Z"
   },
   {
    "duration": 72,
    "start_time": "2023-03-16T07:13:12.602Z"
   },
   {
    "duration": 8,
    "start_time": "2023-03-16T07:13:12.675Z"
   },
   {
    "duration": 14,
    "start_time": "2023-03-16T07:13:12.685Z"
   },
   {
    "duration": 28,
    "start_time": "2023-03-16T07:13:12.701Z"
   },
   {
    "duration": 10,
    "start_time": "2023-03-16T07:13:12.731Z"
   },
   {
    "duration": 12,
    "start_time": "2023-03-16T07:13:12.745Z"
   },
   {
    "duration": 10,
    "start_time": "2023-03-16T07:13:12.758Z"
   },
   {
    "duration": 45,
    "start_time": "2023-03-16T07:13:12.770Z"
   },
   {
    "duration": 7,
    "start_time": "2023-03-16T07:13:12.817Z"
   },
   {
    "duration": 7,
    "start_time": "2023-03-16T07:13:12.825Z"
   },
   {
    "duration": 15,
    "start_time": "2023-03-16T07:13:12.833Z"
   },
   {
    "duration": 58,
    "start_time": "2023-03-16T07:13:12.850Z"
   },
   {
    "duration": 15,
    "start_time": "2023-03-16T07:13:12.910Z"
   },
   {
    "duration": 19,
    "start_time": "2023-03-16T07:13:12.926Z"
   },
   {
    "duration": 8,
    "start_time": "2023-03-16T07:13:12.947Z"
   },
   {
    "duration": 58,
    "start_time": "2023-03-16T07:13:12.956Z"
   },
   {
    "duration": 10,
    "start_time": "2023-03-16T07:13:13.015Z"
   },
   {
    "duration": 11,
    "start_time": "2023-03-16T07:13:13.026Z"
   },
   {
    "duration": 6,
    "start_time": "2023-03-16T07:13:13.039Z"
   },
   {
    "duration": 52,
    "start_time": "2023-03-16T07:13:13.047Z"
   },
   {
    "duration": 13,
    "start_time": "2023-03-16T07:13:13.101Z"
   },
   {
    "duration": 32,
    "start_time": "2023-03-16T07:13:13.116Z"
   },
   {
    "duration": 283,
    "start_time": "2023-03-16T07:13:13.150Z"
   },
   {
    "duration": 282,
    "start_time": "2023-03-16T07:13:13.435Z"
   },
   {
    "duration": 267,
    "start_time": "2023-03-16T07:13:13.719Z"
   },
   {
    "duration": 294,
    "start_time": "2023-03-16T07:13:13.988Z"
   },
   {
    "duration": 326,
    "start_time": "2023-03-16T07:13:14.284Z"
   },
   {
    "duration": 6,
    "start_time": "2023-03-16T07:13:14.612Z"
   },
   {
    "duration": 7,
    "start_time": "2023-03-16T07:13:14.620Z"
   },
   {
    "duration": 13,
    "start_time": "2023-03-16T07:13:14.628Z"
   },
   {
    "duration": 112,
    "start_time": "2023-03-16T07:13:14.643Z"
   },
   {
    "duration": 5,
    "start_time": "2023-03-16T07:13:14.757Z"
   },
   {
    "duration": 4,
    "start_time": "2023-03-16T07:13:14.765Z"
   },
   {
    "duration": 131,
    "start_time": "2023-03-16T07:13:14.770Z"
   },
   {
    "duration": 12,
    "start_time": "2023-03-16T07:13:14.903Z"
   },
   {
    "duration": 8,
    "start_time": "2023-03-16T07:13:14.917Z"
   },
   {
    "duration": 8,
    "start_time": "2023-03-16T07:13:14.926Z"
   },
   {
    "duration": 15,
    "start_time": "2023-03-16T07:13:14.935Z"
   },
   {
    "duration": 6,
    "start_time": "2023-03-16T07:13:14.951Z"
   },
   {
    "duration": 8,
    "start_time": "2023-03-16T07:13:14.959Z"
   },
   {
    "duration": 21,
    "start_time": "2023-03-16T07:13:14.968Z"
   },
   {
    "duration": 34,
    "start_time": "2023-03-16T07:13:14.991Z"
   },
   {
    "duration": 5,
    "start_time": "2023-03-16T07:13:15.026Z"
   },
   {
    "duration": 23,
    "start_time": "2023-03-16T07:13:15.032Z"
   },
   {
    "duration": 38,
    "start_time": "2023-03-16T07:13:15.057Z"
   },
   {
    "duration": 28,
    "start_time": "2023-03-16T07:13:15.097Z"
   },
   {
    "duration": 129,
    "start_time": "2023-03-16T07:13:15.127Z"
   },
   {
    "duration": 5,
    "start_time": "2023-03-16T07:13:51.010Z"
   },
   {
    "duration": 101,
    "start_time": "2023-03-16T07:16:10.038Z"
   },
   {
    "duration": 13,
    "start_time": "2023-03-16T07:16:24.709Z"
   },
   {
    "duration": 7,
    "start_time": "2023-03-16T07:17:14.818Z"
   },
   {
    "duration": 7,
    "start_time": "2023-03-16T07:18:13.537Z"
   },
   {
    "duration": 4,
    "start_time": "2023-03-16T07:25:57.499Z"
   },
   {
    "duration": 116,
    "start_time": "2023-03-16T07:25:58.077Z"
   },
   {
    "duration": 3,
    "start_time": "2023-03-16T07:26:39.465Z"
   },
   {
    "duration": 120,
    "start_time": "2023-03-16T07:26:39.893Z"
   },
   {
    "duration": 706,
    "start_time": "2023-03-16T07:30:53.873Z"
   },
   {
    "duration": 6,
    "start_time": "2023-03-16T07:31:57.673Z"
   },
   {
    "duration": 9,
    "start_time": "2023-03-16T07:32:23.145Z"
   },
   {
    "duration": 57,
    "start_time": "2023-03-16T07:39:29.705Z"
   },
   {
    "duration": 5,
    "start_time": "2023-03-16T07:40:04.693Z"
   },
   {
    "duration": 5,
    "start_time": "2023-03-16T07:40:11.498Z"
   },
   {
    "duration": 5,
    "start_time": "2023-03-16T07:40:45.109Z"
   },
   {
    "duration": 5,
    "start_time": "2023-03-16T07:40:46.710Z"
   },
   {
    "duration": 5,
    "start_time": "2023-03-16T07:41:18.677Z"
   },
   {
    "duration": 5,
    "start_time": "2023-03-16T07:41:21.689Z"
   },
   {
    "duration": 4,
    "start_time": "2023-03-16T07:42:39.562Z"
   },
   {
    "duration": 5,
    "start_time": "2023-03-16T07:42:41.598Z"
   },
   {
    "duration": 4,
    "start_time": "2023-03-16T07:47:43.694Z"
   },
   {
    "duration": 4,
    "start_time": "2023-03-16T07:47:54.574Z"
   },
   {
    "duration": 7,
    "start_time": "2023-03-16T07:48:02.707Z"
   },
   {
    "duration": 5,
    "start_time": "2023-03-16T08:11:19.617Z"
   },
   {
    "duration": 5,
    "start_time": "2023-03-16T08:11:37.881Z"
   },
   {
    "duration": 6,
    "start_time": "2023-03-16T08:12:02.380Z"
   },
   {
    "duration": 14,
    "start_time": "2023-03-16T08:13:31.562Z"
   },
   {
    "duration": 16,
    "start_time": "2023-03-16T08:14:40.177Z"
   },
   {
    "duration": 8,
    "start_time": "2023-03-16T08:15:46.038Z"
   },
   {
    "duration": 9,
    "start_time": "2023-03-16T08:16:37.409Z"
   },
   {
    "duration": 84,
    "start_time": "2023-03-16T08:18:45.650Z"
   },
   {
    "duration": 8,
    "start_time": "2023-03-16T08:18:58.097Z"
   },
   {
    "duration": 1149,
    "start_time": "2023-03-16T08:26:26.946Z"
   },
   {
    "duration": 30,
    "start_time": "2023-03-16T08:26:28.097Z"
   },
   {
    "duration": 13,
    "start_time": "2023-03-16T08:26:28.129Z"
   },
   {
    "duration": 7,
    "start_time": "2023-03-16T08:26:28.144Z"
   },
   {
    "duration": 10,
    "start_time": "2023-03-16T08:26:28.154Z"
   },
   {
    "duration": 9,
    "start_time": "2023-03-16T08:26:28.166Z"
   },
   {
    "duration": 12,
    "start_time": "2023-03-16T08:26:28.176Z"
   },
   {
    "duration": 40,
    "start_time": "2023-03-16T08:26:28.190Z"
   },
   {
    "duration": 15,
    "start_time": "2023-03-16T08:26:28.232Z"
   },
   {
    "duration": 8,
    "start_time": "2023-03-16T08:26:28.249Z"
   },
   {
    "duration": 8,
    "start_time": "2023-03-16T08:26:28.259Z"
   },
   {
    "duration": 12,
    "start_time": "2023-03-16T08:26:28.269Z"
   },
   {
    "duration": 10,
    "start_time": "2023-03-16T08:26:28.283Z"
   },
   {
    "duration": 7,
    "start_time": "2023-03-16T08:26:28.297Z"
   },
   {
    "duration": 18,
    "start_time": "2023-03-16T08:26:28.305Z"
   },
   {
    "duration": 46,
    "start_time": "2023-03-16T08:26:28.324Z"
   },
   {
    "duration": 8,
    "start_time": "2023-03-16T08:26:28.372Z"
   },
   {
    "duration": 5,
    "start_time": "2023-03-16T08:26:28.381Z"
   },
   {
    "duration": 25,
    "start_time": "2023-03-16T08:26:28.388Z"
   },
   {
    "duration": 46,
    "start_time": "2023-03-16T08:26:28.415Z"
   },
   {
    "duration": 8,
    "start_time": "2023-03-16T08:26:28.463Z"
   },
   {
    "duration": 10,
    "start_time": "2023-03-16T08:26:28.473Z"
   },
   {
    "duration": 34,
    "start_time": "2023-03-16T08:26:28.485Z"
   },
   {
    "duration": 46,
    "start_time": "2023-03-16T08:26:28.521Z"
   },
   {
    "duration": 12,
    "start_time": "2023-03-16T08:26:28.569Z"
   },
   {
    "duration": 30,
    "start_time": "2023-03-16T08:26:28.582Z"
   },
   {
    "duration": 8,
    "start_time": "2023-03-16T08:26:28.614Z"
   },
   {
    "duration": 49,
    "start_time": "2023-03-16T08:26:28.624Z"
   },
   {
    "duration": 21,
    "start_time": "2023-03-16T08:26:28.675Z"
   },
   {
    "duration": 45,
    "start_time": "2023-03-16T08:26:28.698Z"
   },
   {
    "duration": 303,
    "start_time": "2023-03-16T08:26:28.746Z"
   },
   {
    "duration": 293,
    "start_time": "2023-03-16T08:26:29.051Z"
   },
   {
    "duration": 325,
    "start_time": "2023-03-16T08:26:29.346Z"
   },
   {
    "duration": 302,
    "start_time": "2023-03-16T08:26:29.673Z"
   },
   {
    "duration": 282,
    "start_time": "2023-03-16T08:26:29.976Z"
   },
   {
    "duration": 7,
    "start_time": "2023-03-16T08:26:30.260Z"
   },
   {
    "duration": 34,
    "start_time": "2023-03-16T08:26:30.268Z"
   },
   {
    "duration": 43,
    "start_time": "2023-03-16T08:26:30.304Z"
   },
   {
    "duration": 165,
    "start_time": "2023-03-16T08:26:30.350Z"
   },
   {
    "duration": 6,
    "start_time": "2023-03-16T08:26:30.518Z"
   },
   {
    "duration": 42,
    "start_time": "2023-03-16T08:26:30.528Z"
   },
   {
    "duration": 156,
    "start_time": "2023-03-16T08:26:30.572Z"
   },
   {
    "duration": 5,
    "start_time": "2023-03-16T08:26:30.730Z"
   },
   {
    "duration": 152,
    "start_time": "2023-03-16T08:26:30.737Z"
   },
   {
    "duration": 5,
    "start_time": "2023-03-16T08:26:30.891Z"
   },
   {
    "duration": 49,
    "start_time": "2023-03-16T08:26:30.898Z"
   },
   {
    "duration": 66,
    "start_time": "2023-03-16T08:26:30.949Z"
   },
   {
    "duration": 54,
    "start_time": "2023-03-16T08:26:31.018Z"
   },
   {
    "duration": 52,
    "start_time": "2023-03-16T08:26:31.074Z"
   },
   {
    "duration": 62,
    "start_time": "2023-03-16T08:26:31.128Z"
   },
   {
    "duration": 64,
    "start_time": "2023-03-16T08:26:31.192Z"
   },
   {
    "duration": 64,
    "start_time": "2023-03-16T08:26:31.258Z"
   },
   {
    "duration": 41,
    "start_time": "2023-03-16T08:26:31.325Z"
   },
   {
    "duration": 34,
    "start_time": "2023-03-16T08:26:31.368Z"
   },
   {
    "duration": 19,
    "start_time": "2023-03-16T08:26:31.404Z"
   },
   {
    "duration": 30,
    "start_time": "2023-03-16T08:26:31.425Z"
   },
   {
    "duration": 34,
    "start_time": "2023-03-16T08:26:31.457Z"
   },
   {
    "duration": 66,
    "start_time": "2023-03-16T08:26:31.494Z"
   },
   {
    "duration": 46,
    "start_time": "2023-03-16T08:26:31.562Z"
   },
   {
    "duration": 63,
    "start_time": "2023-03-16T08:26:31.610Z"
   },
   {
    "duration": 243,
    "start_time": "2023-03-16T08:26:31.675Z"
   },
   {
    "duration": 8,
    "start_time": "2023-03-16T08:29:30.109Z"
   },
   {
    "duration": 6,
    "start_time": "2023-03-16T08:30:08.862Z"
   },
   {
    "duration": 5,
    "start_time": "2023-03-16T08:32:38.148Z"
   },
   {
    "duration": 7,
    "start_time": "2023-03-16T08:32:45.513Z"
   },
   {
    "duration": 23,
    "start_time": "2023-03-16T08:34:24.497Z"
   },
   {
    "duration": 4,
    "start_time": "2023-03-16T08:35:26.318Z"
   },
   {
    "duration": 20,
    "start_time": "2023-03-16T08:40:06.381Z"
   },
   {
    "duration": 5,
    "start_time": "2023-03-16T08:40:06.878Z"
   },
   {
    "duration": 4,
    "start_time": "2023-03-16T08:58:44.977Z"
   },
   {
    "duration": 5,
    "start_time": "2023-03-16T09:00:42.381Z"
   },
   {
    "duration": 4,
    "start_time": "2023-03-16T09:01:10.950Z"
   },
   {
    "duration": 67,
    "start_time": "2023-03-16T09:01:23.231Z"
   },
   {
    "duration": 58,
    "start_time": "2023-03-16T09:04:19.985Z"
   },
   {
    "duration": 117,
    "start_time": "2023-03-16T09:04:56.129Z"
   },
   {
    "duration": 18,
    "start_time": "2023-03-16T09:05:24.590Z"
   },
   {
    "duration": 5,
    "start_time": "2023-03-16T09:10:35.934Z"
   },
   {
    "duration": 12,
    "start_time": "2023-03-16T09:13:30.309Z"
   },
   {
    "duration": 12,
    "start_time": "2023-03-16T09:16:44.556Z"
   },
   {
    "duration": 7,
    "start_time": "2023-03-16T09:18:20.685Z"
   },
   {
    "duration": 1124,
    "start_time": "2023-03-16T09:21:57.542Z"
   },
   {
    "duration": 28,
    "start_time": "2023-03-16T09:21:58.668Z"
   },
   {
    "duration": 21,
    "start_time": "2023-03-16T09:21:58.698Z"
   },
   {
    "duration": 17,
    "start_time": "2023-03-16T09:21:58.721Z"
   },
   {
    "duration": 10,
    "start_time": "2023-03-16T09:21:58.741Z"
   },
   {
    "duration": 16,
    "start_time": "2023-03-16T09:21:58.753Z"
   },
   {
    "duration": 11,
    "start_time": "2023-03-16T09:21:58.771Z"
   },
   {
    "duration": 40,
    "start_time": "2023-03-16T09:21:58.784Z"
   },
   {
    "duration": 15,
    "start_time": "2023-03-16T09:21:58.826Z"
   },
   {
    "duration": 7,
    "start_time": "2023-03-16T09:21:58.843Z"
   },
   {
    "duration": 11,
    "start_time": "2023-03-16T09:21:58.852Z"
   },
   {
    "duration": 14,
    "start_time": "2023-03-16T09:21:58.864Z"
   },
   {
    "duration": 24,
    "start_time": "2023-03-16T09:21:58.880Z"
   },
   {
    "duration": 11,
    "start_time": "2023-03-16T09:21:58.908Z"
   },
   {
    "duration": 9,
    "start_time": "2023-03-16T09:21:58.920Z"
   },
   {
    "duration": 53,
    "start_time": "2023-03-16T09:21:58.931Z"
   },
   {
    "duration": 9,
    "start_time": "2023-03-16T09:21:58.986Z"
   },
   {
    "duration": 15,
    "start_time": "2023-03-16T09:21:58.997Z"
   },
   {
    "duration": 8,
    "start_time": "2023-03-16T09:21:59.014Z"
   },
   {
    "duration": 50,
    "start_time": "2023-03-16T09:21:59.024Z"
   },
   {
    "duration": 12,
    "start_time": "2023-03-16T09:21:59.076Z"
   },
   {
    "duration": 24,
    "start_time": "2023-03-16T09:21:59.089Z"
   },
   {
    "duration": 10,
    "start_time": "2023-03-16T09:21:59.115Z"
   },
   {
    "duration": 47,
    "start_time": "2023-03-16T09:21:59.127Z"
   },
   {
    "duration": 10,
    "start_time": "2023-03-16T09:21:59.176Z"
   },
   {
    "duration": 28,
    "start_time": "2023-03-16T09:21:59.187Z"
   },
   {
    "duration": 9,
    "start_time": "2023-03-16T09:21:59.217Z"
   },
   {
    "duration": 43,
    "start_time": "2023-03-16T09:21:59.227Z"
   },
   {
    "duration": 9,
    "start_time": "2023-03-16T09:21:59.272Z"
   },
   {
    "duration": 50,
    "start_time": "2023-03-16T09:21:59.283Z"
   },
   {
    "duration": 297,
    "start_time": "2023-03-16T09:21:59.334Z"
   },
   {
    "duration": 281,
    "start_time": "2023-03-16T09:21:59.633Z"
   },
   {
    "duration": 271,
    "start_time": "2023-03-16T09:21:59.916Z"
   },
   {
    "duration": 308,
    "start_time": "2023-03-16T09:22:00.189Z"
   },
   {
    "duration": 275,
    "start_time": "2023-03-16T09:22:00.498Z"
   },
   {
    "duration": 6,
    "start_time": "2023-03-16T09:22:00.775Z"
   },
   {
    "duration": 35,
    "start_time": "2023-03-16T09:22:00.783Z"
   },
   {
    "duration": 80,
    "start_time": "2023-03-16T09:22:00.819Z"
   },
   {
    "duration": 159,
    "start_time": "2023-03-16T09:22:00.901Z"
   },
   {
    "duration": 4,
    "start_time": "2023-03-16T09:22:01.062Z"
   },
   {
    "duration": 58,
    "start_time": "2023-03-16T09:22:01.071Z"
   },
   {
    "duration": 188,
    "start_time": "2023-03-16T09:22:01.131Z"
   },
   {
    "duration": 4,
    "start_time": "2023-03-16T09:22:01.321Z"
   },
   {
    "duration": 145,
    "start_time": "2023-03-16T09:22:01.327Z"
   },
   {
    "duration": 6,
    "start_time": "2023-03-16T09:22:01.473Z"
   },
   {
    "duration": 42,
    "start_time": "2023-03-16T09:22:01.480Z"
   },
   {
    "duration": 49,
    "start_time": "2023-03-16T09:22:01.523Z"
   },
   {
    "duration": 32,
    "start_time": "2023-03-16T09:22:01.574Z"
   },
   {
    "duration": 35,
    "start_time": "2023-03-16T09:22:01.607Z"
   },
   {
    "duration": 17,
    "start_time": "2023-03-16T09:22:01.643Z"
   },
   {
    "duration": 36,
    "start_time": "2023-03-16T09:22:01.661Z"
   },
   {
    "duration": 38,
    "start_time": "2023-03-16T09:22:01.699Z"
   },
   {
    "duration": 15,
    "start_time": "2023-03-16T09:22:01.738Z"
   },
   {
    "duration": 26,
    "start_time": "2023-03-16T09:22:01.755Z"
   },
   {
    "duration": 17,
    "start_time": "2023-03-16T09:22:01.783Z"
   },
   {
    "duration": 40,
    "start_time": "2023-03-16T09:22:01.802Z"
   },
   {
    "duration": 11,
    "start_time": "2023-03-16T09:22:01.843Z"
   },
   {
    "duration": 28,
    "start_time": "2023-03-16T09:22:01.856Z"
   },
   {
    "duration": 29,
    "start_time": "2023-03-16T09:22:01.885Z"
   },
   {
    "duration": 18,
    "start_time": "2023-03-16T09:22:01.915Z"
   },
   {
    "duration": 11,
    "start_time": "2023-03-16T09:22:01.934Z"
   },
   {
    "duration": 9,
    "start_time": "2023-03-16T09:22:01.946Z"
   },
   {
    "duration": 14,
    "start_time": "2023-03-16T09:22:01.957Z"
   },
   {
    "duration": 29,
    "start_time": "2023-03-16T09:22:01.973Z"
   },
   {
    "duration": 10,
    "start_time": "2023-03-16T09:22:02.004Z"
   },
   {
    "duration": 23,
    "start_time": "2023-03-16T09:22:02.015Z"
   },
   {
    "duration": 19,
    "start_time": "2023-03-16T09:22:02.040Z"
   },
   {
    "duration": 7,
    "start_time": "2023-03-16T09:24:16.331Z"
   },
   {
    "duration": 9,
    "start_time": "2023-03-16T09:24:36.225Z"
   },
   {
    "duration": 11,
    "start_time": "2023-03-16T09:25:42.254Z"
   },
   {
    "duration": 233,
    "start_time": "2023-03-16T10:11:38.347Z"
   },
   {
    "duration": 219,
    "start_time": "2023-03-16T10:11:48.729Z"
   },
   {
    "duration": 135,
    "start_time": "2023-03-16T10:12:28.201Z"
   },
   {
    "duration": 1213,
    "start_time": "2023-03-16T10:12:37.991Z"
   },
   {
    "duration": 32,
    "start_time": "2023-03-16T10:12:39.206Z"
   },
   {
    "duration": 13,
    "start_time": "2023-03-16T10:12:39.240Z"
   },
   {
    "duration": 21,
    "start_time": "2023-03-16T10:12:39.255Z"
   },
   {
    "duration": 23,
    "start_time": "2023-03-16T10:12:39.279Z"
   },
   {
    "duration": 6,
    "start_time": "2023-03-16T10:12:39.304Z"
   },
   {
    "duration": 13,
    "start_time": "2023-03-16T10:12:39.317Z"
   },
   {
    "duration": 41,
    "start_time": "2023-03-16T10:12:39.333Z"
   },
   {
    "duration": 15,
    "start_time": "2023-03-16T10:12:39.376Z"
   },
   {
    "duration": 38,
    "start_time": "2023-03-16T10:12:39.393Z"
   },
   {
    "duration": 33,
    "start_time": "2023-03-16T10:12:39.433Z"
   },
   {
    "duration": 18,
    "start_time": "2023-03-16T10:12:39.467Z"
   },
   {
    "duration": 17,
    "start_time": "2023-03-16T10:12:39.486Z"
   },
   {
    "duration": 13,
    "start_time": "2023-03-16T10:12:39.508Z"
   },
   {
    "duration": 36,
    "start_time": "2023-03-16T10:12:39.528Z"
   },
   {
    "duration": 82,
    "start_time": "2023-03-16T10:12:39.565Z"
   },
   {
    "duration": 32,
    "start_time": "2023-03-16T10:12:39.649Z"
   },
   {
    "duration": 6,
    "start_time": "2023-03-16T10:12:39.682Z"
   },
   {
    "duration": 9,
    "start_time": "2023-03-16T10:12:39.689Z"
   },
   {
    "duration": 59,
    "start_time": "2023-03-16T10:12:39.700Z"
   },
   {
    "duration": 18,
    "start_time": "2023-03-16T10:12:39.761Z"
   },
   {
    "duration": 21,
    "start_time": "2023-03-16T10:12:39.780Z"
   },
   {
    "duration": 12,
    "start_time": "2023-03-16T10:12:39.803Z"
   },
   {
    "duration": 63,
    "start_time": "2023-03-16T10:12:39.817Z"
   },
   {
    "duration": 21,
    "start_time": "2023-03-16T10:12:39.881Z"
   },
   {
    "duration": 15,
    "start_time": "2023-03-16T10:12:39.904Z"
   },
   {
    "duration": 22,
    "start_time": "2023-03-16T10:12:39.922Z"
   },
   {
    "duration": 54,
    "start_time": "2023-03-16T10:12:39.946Z"
   },
   {
    "duration": 17,
    "start_time": "2023-03-16T10:12:40.002Z"
   },
   {
    "duration": 45,
    "start_time": "2023-03-16T10:12:40.023Z"
   },
   {
    "duration": 352,
    "start_time": "2023-03-16T10:12:40.070Z"
   },
   {
    "duration": 340,
    "start_time": "2023-03-16T10:12:40.432Z"
   },
   {
    "duration": 311,
    "start_time": "2023-03-16T10:12:40.774Z"
   },
   {
    "duration": 355,
    "start_time": "2023-03-16T10:12:41.087Z"
   },
   {
    "duration": 309,
    "start_time": "2023-03-16T10:12:41.444Z"
   },
   {
    "duration": 7,
    "start_time": "2023-03-16T10:12:41.754Z"
   },
   {
    "duration": 14,
    "start_time": "2023-03-16T10:12:41.762Z"
   },
   {
    "duration": 10,
    "start_time": "2023-03-16T10:12:41.778Z"
   },
   {
    "duration": 156,
    "start_time": "2023-03-16T10:12:41.790Z"
   },
   {
    "duration": 5,
    "start_time": "2023-03-16T10:12:41.948Z"
   },
   {
    "duration": 7,
    "start_time": "2023-03-16T10:12:41.958Z"
   },
   {
    "duration": 176,
    "start_time": "2023-03-16T10:12:41.967Z"
   },
   {
    "duration": 5,
    "start_time": "2023-03-16T10:12:42.146Z"
   },
   {
    "duration": 138,
    "start_time": "2023-03-16T10:12:42.153Z"
   },
   {
    "duration": 6,
    "start_time": "2023-03-16T10:12:42.293Z"
   },
   {
    "duration": 10,
    "start_time": "2023-03-16T10:12:42.313Z"
   },
   {
    "duration": 10,
    "start_time": "2023-03-16T10:12:42.326Z"
   },
   {
    "duration": 22,
    "start_time": "2023-03-16T10:12:42.338Z"
   },
   {
    "duration": 10,
    "start_time": "2023-03-16T10:12:42.361Z"
   },
   {
    "duration": 7,
    "start_time": "2023-03-16T10:12:42.373Z"
   },
   {
    "duration": 36,
    "start_time": "2023-03-16T10:12:42.382Z"
   },
   {
    "duration": 26,
    "start_time": "2023-03-16T10:12:42.420Z"
   },
   {
    "duration": 6,
    "start_time": "2023-03-16T10:12:42.447Z"
   },
   {
    "duration": 10,
    "start_time": "2023-03-16T10:12:42.455Z"
   },
   {
    "duration": 8,
    "start_time": "2023-03-16T10:12:42.467Z"
   },
   {
    "duration": 8,
    "start_time": "2023-03-16T10:12:42.477Z"
   },
   {
    "duration": 34,
    "start_time": "2023-03-16T10:12:42.486Z"
   },
   {
    "duration": 9,
    "start_time": "2023-03-16T10:12:42.522Z"
   },
   {
    "duration": 5,
    "start_time": "2023-03-16T10:12:42.533Z"
   },
   {
    "duration": 7,
    "start_time": "2023-03-16T10:12:42.540Z"
   },
   {
    "duration": 7,
    "start_time": "2023-03-16T10:12:42.548Z"
   },
   {
    "duration": 11,
    "start_time": "2023-03-16T10:12:42.557Z"
   },
   {
    "duration": 46,
    "start_time": "2023-03-16T10:12:42.569Z"
   },
   {
    "duration": 25,
    "start_time": "2023-03-16T10:12:42.616Z"
   },
   {
    "duration": 5,
    "start_time": "2023-03-16T10:12:42.643Z"
   },
   {
    "duration": 24,
    "start_time": "2023-03-16T10:12:42.650Z"
   },
   {
    "duration": 10,
    "start_time": "2023-03-16T10:12:42.676Z"
   },
   {
    "duration": 1220,
    "start_time": "2023-03-16T10:13:00.151Z"
   },
   {
    "duration": 31,
    "start_time": "2023-03-16T10:13:01.373Z"
   },
   {
    "duration": 45,
    "start_time": "2023-03-16T10:13:01.405Z"
   },
   {
    "duration": 20,
    "start_time": "2023-03-16T10:13:01.453Z"
   },
   {
    "duration": 46,
    "start_time": "2023-03-16T10:13:01.476Z"
   },
   {
    "duration": 29,
    "start_time": "2023-03-16T10:13:01.524Z"
   },
   {
    "duration": 46,
    "start_time": "2023-03-16T10:13:01.556Z"
   },
   {
    "duration": 80,
    "start_time": "2023-03-16T10:13:01.604Z"
   },
   {
    "duration": 16,
    "start_time": "2023-03-16T10:13:01.686Z"
   },
   {
    "duration": 15,
    "start_time": "2023-03-16T10:13:01.705Z"
   },
   {
    "duration": 24,
    "start_time": "2023-03-16T10:13:01.722Z"
   },
   {
    "duration": 23,
    "start_time": "2023-03-16T10:13:01.748Z"
   },
   {
    "duration": 35,
    "start_time": "2023-03-16T10:13:01.773Z"
   },
   {
    "duration": 45,
    "start_time": "2023-03-16T10:13:01.809Z"
   },
   {
    "duration": 46,
    "start_time": "2023-03-16T10:13:01.857Z"
   },
   {
    "duration": 53,
    "start_time": "2023-03-16T10:13:01.906Z"
   },
   {
    "duration": 8,
    "start_time": "2023-03-16T10:13:01.962Z"
   },
   {
    "duration": 44,
    "start_time": "2023-03-16T10:13:01.972Z"
   },
   {
    "duration": 30,
    "start_time": "2023-03-16T10:13:02.018Z"
   },
   {
    "duration": 62,
    "start_time": "2023-03-16T10:13:02.049Z"
   },
   {
    "duration": 30,
    "start_time": "2023-03-16T10:13:02.121Z"
   },
   {
    "duration": 21,
    "start_time": "2023-03-16T10:13:02.153Z"
   },
   {
    "duration": 32,
    "start_time": "2023-03-16T10:13:02.175Z"
   },
   {
    "duration": 95,
    "start_time": "2023-03-16T10:13:02.209Z"
   },
   {
    "duration": 35,
    "start_time": "2023-03-16T10:13:02.306Z"
   },
   {
    "duration": 32,
    "start_time": "2023-03-16T10:13:02.343Z"
   },
   {
    "duration": 13,
    "start_time": "2023-03-16T10:13:02.377Z"
   },
   {
    "duration": 65,
    "start_time": "2023-03-16T10:13:02.393Z"
   },
   {
    "duration": 9,
    "start_time": "2023-03-16T10:13:02.460Z"
   },
   {
    "duration": 61,
    "start_time": "2023-03-16T10:13:02.471Z"
   },
   {
    "duration": 333,
    "start_time": "2023-03-16T10:13:02.534Z"
   },
   {
    "duration": 303,
    "start_time": "2023-03-16T10:13:02.868Z"
   },
   {
    "duration": 332,
    "start_time": "2023-03-16T10:13:03.173Z"
   },
   {
    "duration": 360,
    "start_time": "2023-03-16T10:13:03.507Z"
   },
   {
    "duration": 376,
    "start_time": "2023-03-16T10:13:03.869Z"
   },
   {
    "duration": 9,
    "start_time": "2023-03-16T10:13:04.247Z"
   },
   {
    "duration": 11,
    "start_time": "2023-03-16T10:13:04.258Z"
   },
   {
    "duration": 8,
    "start_time": "2023-03-16T10:13:04.271Z"
   },
   {
    "duration": 174,
    "start_time": "2023-03-16T10:13:04.284Z"
   },
   {
    "duration": 6,
    "start_time": "2023-03-16T10:13:04.461Z"
   },
   {
    "duration": 18,
    "start_time": "2023-03-16T10:13:04.469Z"
   },
   {
    "duration": 186,
    "start_time": "2023-03-16T10:13:04.489Z"
   },
   {
    "duration": 4,
    "start_time": "2023-03-16T10:13:04.677Z"
   },
   {
    "duration": 156,
    "start_time": "2023-03-16T10:13:04.683Z"
   },
   {
    "duration": 7,
    "start_time": "2023-03-16T10:13:04.844Z"
   },
   {
    "duration": 8,
    "start_time": "2023-03-16T10:13:04.853Z"
   },
   {
    "duration": 9,
    "start_time": "2023-03-16T10:13:04.863Z"
   },
   {
    "duration": 9,
    "start_time": "2023-03-16T10:13:04.873Z"
   },
   {
    "duration": 40,
    "start_time": "2023-03-16T10:13:04.883Z"
   },
   {
    "duration": 14,
    "start_time": "2023-03-16T10:13:04.925Z"
   },
   {
    "duration": 8,
    "start_time": "2023-03-16T10:13:04.940Z"
   },
   {
    "duration": 23,
    "start_time": "2023-03-16T10:13:04.949Z"
   },
   {
    "duration": 6,
    "start_time": "2023-03-16T10:13:04.974Z"
   },
   {
    "duration": 43,
    "start_time": "2023-03-16T10:13:04.982Z"
   },
   {
    "duration": 13,
    "start_time": "2023-03-16T10:13:05.027Z"
   },
   {
    "duration": 6,
    "start_time": "2023-03-16T10:13:05.041Z"
   },
   {
    "duration": 9,
    "start_time": "2023-03-16T10:13:05.049Z"
   },
   {
    "duration": 19,
    "start_time": "2023-03-16T10:13:05.060Z"
   },
   {
    "duration": 37,
    "start_time": "2023-03-16T10:13:05.080Z"
   },
   {
    "duration": 12,
    "start_time": "2023-03-16T10:13:05.119Z"
   },
   {
    "duration": 7,
    "start_time": "2023-03-16T10:13:05.135Z"
   },
   {
    "duration": 15,
    "start_time": "2023-03-16T10:13:05.144Z"
   },
   {
    "duration": 40,
    "start_time": "2023-03-16T10:13:05.160Z"
   },
   {
    "duration": 52,
    "start_time": "2023-03-16T10:13:05.201Z"
   },
   {
    "duration": 4,
    "start_time": "2023-03-16T10:13:05.255Z"
   },
   {
    "duration": 34,
    "start_time": "2023-03-16T10:13:05.261Z"
   },
   {
    "duration": 11,
    "start_time": "2023-03-16T10:13:05.297Z"
   },
   {
    "duration": 50,
    "start_time": "2023-03-16T10:21:01.373Z"
   },
   {
    "duration": 51,
    "start_time": "2023-03-16T10:22:31.522Z"
   },
   {
    "duration": 54,
    "start_time": "2023-03-16T10:24:02.319Z"
   },
   {
    "duration": 7,
    "start_time": "2023-03-16T10:24:18.551Z"
   },
   {
    "duration": 1215,
    "start_time": "2023-03-16T10:24:31.992Z"
   },
   {
    "duration": 31,
    "start_time": "2023-03-16T10:24:33.209Z"
   },
   {
    "duration": 18,
    "start_time": "2023-03-16T10:24:33.242Z"
   },
   {
    "duration": 16,
    "start_time": "2023-03-16T10:24:33.261Z"
   },
   {
    "duration": 29,
    "start_time": "2023-03-16T10:24:33.279Z"
   },
   {
    "duration": 31,
    "start_time": "2023-03-16T10:24:33.309Z"
   },
   {
    "duration": 12,
    "start_time": "2023-03-16T10:24:33.342Z"
   },
   {
    "duration": 41,
    "start_time": "2023-03-16T10:24:33.356Z"
   },
   {
    "duration": 19,
    "start_time": "2023-03-16T10:24:33.399Z"
   },
   {
    "duration": 13,
    "start_time": "2023-03-16T10:24:33.421Z"
   },
   {
    "duration": 3,
    "start_time": "2023-03-16T10:24:33.437Z"
   },
   {
    "duration": 28,
    "start_time": "2023-03-16T10:24:33.442Z"
   },
   {
    "duration": 30,
    "start_time": "2023-03-16T10:24:33.472Z"
   },
   {
    "duration": 17,
    "start_time": "2023-03-16T10:24:33.505Z"
   },
   {
    "duration": 25,
    "start_time": "2023-03-16T10:24:33.525Z"
   },
   {
    "duration": 51,
    "start_time": "2023-03-16T10:24:33.551Z"
   },
   {
    "duration": 19,
    "start_time": "2023-03-16T10:24:33.604Z"
   },
   {
    "duration": 5,
    "start_time": "2023-03-16T10:24:33.626Z"
   },
   {
    "duration": 20,
    "start_time": "2023-03-16T10:24:33.634Z"
   },
   {
    "duration": 46,
    "start_time": "2023-03-16T10:24:33.656Z"
   },
   {
    "duration": 25,
    "start_time": "2023-03-16T10:24:33.713Z"
   },
   {
    "duration": 30,
    "start_time": "2023-03-16T10:24:33.740Z"
   },
   {
    "duration": 18,
    "start_time": "2023-03-16T10:24:33.772Z"
   },
   {
    "duration": 64,
    "start_time": "2023-03-16T10:24:33.792Z"
   },
   {
    "duration": 16,
    "start_time": "2023-03-16T10:24:33.858Z"
   },
   {
    "duration": 19,
    "start_time": "2023-03-16T10:24:33.876Z"
   },
   {
    "duration": 30,
    "start_time": "2023-03-16T10:24:33.897Z"
   },
   {
    "duration": 50,
    "start_time": "2023-03-16T10:24:33.928Z"
   },
   {
    "duration": 14,
    "start_time": "2023-03-16T10:24:33.979Z"
   },
   {
    "duration": 47,
    "start_time": "2023-03-16T10:24:33.995Z"
   },
   {
    "duration": 472,
    "start_time": "2023-03-16T10:24:34.044Z"
   },
   {
    "duration": 364,
    "start_time": "2023-03-16T10:24:34.519Z"
   },
   {
    "duration": 291,
    "start_time": "2023-03-16T10:24:34.884Z"
   },
   {
    "duration": 352,
    "start_time": "2023-03-16T10:24:35.177Z"
   },
   {
    "duration": 277,
    "start_time": "2023-03-16T10:24:35.531Z"
   },
   {
    "duration": 7,
    "start_time": "2023-03-16T10:24:35.812Z"
   },
   {
    "duration": 10,
    "start_time": "2023-03-16T10:24:35.821Z"
   },
   {
    "duration": 14,
    "start_time": "2023-03-16T10:24:35.833Z"
   },
   {
    "duration": 127,
    "start_time": "2023-03-16T10:24:35.849Z"
   },
   {
    "duration": 5,
    "start_time": "2023-03-16T10:24:35.978Z"
   },
   {
    "duration": 7,
    "start_time": "2023-03-16T10:24:35.987Z"
   },
   {
    "duration": 165,
    "start_time": "2023-03-16T10:24:35.995Z"
   },
   {
    "duration": 5,
    "start_time": "2023-03-16T10:24:36.162Z"
   },
   {
    "duration": 137,
    "start_time": "2023-03-16T10:24:36.169Z"
   },
   {
    "duration": 12,
    "start_time": "2023-03-16T10:24:36.308Z"
   },
   {
    "duration": 13,
    "start_time": "2023-03-16T10:24:36.322Z"
   },
   {
    "duration": 6,
    "start_time": "2023-03-16T10:24:36.337Z"
   },
   {
    "duration": 14,
    "start_time": "2023-03-16T10:24:36.345Z"
   },
   {
    "duration": 8,
    "start_time": "2023-03-16T10:24:36.361Z"
   },
   {
    "duration": 9,
    "start_time": "2023-03-16T10:24:36.370Z"
   },
   {
    "duration": 7,
    "start_time": "2023-03-16T10:24:36.381Z"
   },
   {
    "duration": 32,
    "start_time": "2023-03-16T10:24:36.418Z"
   },
   {
    "duration": 5,
    "start_time": "2023-03-16T10:24:36.452Z"
   },
   {
    "duration": 22,
    "start_time": "2023-03-16T10:24:36.458Z"
   },
   {
    "duration": 24,
    "start_time": "2023-03-16T10:24:36.481Z"
   },
   {
    "duration": 24,
    "start_time": "2023-03-16T10:24:36.507Z"
   },
   {
    "duration": 12,
    "start_time": "2023-03-16T10:24:36.533Z"
   },
   {
    "duration": 9,
    "start_time": "2023-03-16T10:24:36.547Z"
   },
   {
    "duration": 7,
    "start_time": "2023-03-16T10:24:36.557Z"
   },
   {
    "duration": 10,
    "start_time": "2023-03-16T10:24:36.565Z"
   },
   {
    "duration": 20,
    "start_time": "2023-03-16T10:24:36.577Z"
   },
   {
    "duration": 14,
    "start_time": "2023-03-16T10:24:36.599Z"
   },
   {
    "duration": 10,
    "start_time": "2023-03-16T10:24:36.616Z"
   },
   {
    "duration": 29,
    "start_time": "2023-03-16T10:24:36.627Z"
   },
   {
    "duration": 5,
    "start_time": "2023-03-16T10:24:36.658Z"
   },
   {
    "duration": 11,
    "start_time": "2023-03-16T10:24:36.665Z"
   },
   {
    "duration": 40,
    "start_time": "2023-03-16T10:24:36.677Z"
   },
   {
    "duration": 50,
    "start_time": "2023-03-16T10:33:05.577Z"
   },
   {
    "duration": 44,
    "start_time": "2023-03-16T10:34:01.388Z"
   },
   {
    "duration": 10,
    "start_time": "2023-03-16T10:35:27.754Z"
   },
   {
    "duration": 13,
    "start_time": "2023-03-16T10:36:04.321Z"
   },
   {
    "duration": 8,
    "start_time": "2023-03-16T10:36:05.253Z"
   },
   {
    "duration": 1138,
    "start_time": "2023-03-16T10:36:09.847Z"
   },
   {
    "duration": 29,
    "start_time": "2023-03-16T10:36:10.987Z"
   },
   {
    "duration": 15,
    "start_time": "2023-03-16T10:36:11.018Z"
   },
   {
    "duration": 9,
    "start_time": "2023-03-16T10:36:11.036Z"
   },
   {
    "duration": 24,
    "start_time": "2023-03-16T10:36:11.048Z"
   },
   {
    "duration": 9,
    "start_time": "2023-03-16T10:36:11.074Z"
   },
   {
    "duration": 18,
    "start_time": "2023-03-16T10:36:11.085Z"
   },
   {
    "duration": 38,
    "start_time": "2023-03-16T10:36:11.112Z"
   },
   {
    "duration": 17,
    "start_time": "2023-03-16T10:36:11.152Z"
   },
   {
    "duration": 9,
    "start_time": "2023-03-16T10:36:11.170Z"
   },
   {
    "duration": 15,
    "start_time": "2023-03-16T10:36:11.181Z"
   },
   {
    "duration": 11,
    "start_time": "2023-03-16T10:36:11.198Z"
   },
   {
    "duration": 9,
    "start_time": "2023-03-16T10:36:11.210Z"
   },
   {
    "duration": 5,
    "start_time": "2023-03-16T10:36:11.223Z"
   },
   {
    "duration": 11,
    "start_time": "2023-03-16T10:36:11.229Z"
   },
   {
    "duration": 45,
    "start_time": "2023-03-16T10:36:11.241Z"
   },
   {
    "duration": 28,
    "start_time": "2023-03-16T10:36:11.288Z"
   },
   {
    "duration": 12,
    "start_time": "2023-03-16T10:36:11.317Z"
   },
   {
    "duration": 8,
    "start_time": "2023-03-16T10:36:11.331Z"
   },
   {
    "duration": 60,
    "start_time": "2023-03-16T10:36:11.340Z"
   },
   {
    "duration": 11,
    "start_time": "2023-03-16T10:36:11.402Z"
   },
   {
    "duration": 11,
    "start_time": "2023-03-16T10:36:11.415Z"
   },
   {
    "duration": 7,
    "start_time": "2023-03-16T10:36:11.428Z"
   },
   {
    "duration": 49,
    "start_time": "2023-03-16T10:36:11.437Z"
   },
   {
    "duration": 25,
    "start_time": "2023-03-16T10:36:11.487Z"
   },
   {
    "duration": 12,
    "start_time": "2023-03-16T10:36:11.514Z"
   },
   {
    "duration": 15,
    "start_time": "2023-03-16T10:36:11.528Z"
   },
   {
    "duration": 57,
    "start_time": "2023-03-16T10:36:11.545Z"
   },
   {
    "duration": 8,
    "start_time": "2023-03-16T10:36:11.613Z"
   },
   {
    "duration": 28,
    "start_time": "2023-03-16T10:36:11.622Z"
   },
   {
    "duration": 292,
    "start_time": "2023-03-16T10:36:11.652Z"
   },
   {
    "duration": 281,
    "start_time": "2023-03-16T10:36:11.946Z"
   },
   {
    "duration": 293,
    "start_time": "2023-03-16T10:36:12.229Z"
   },
   {
    "duration": 310,
    "start_time": "2023-03-16T10:36:12.524Z"
   },
   {
    "duration": 271,
    "start_time": "2023-03-16T10:36:12.836Z"
   },
   {
    "duration": 7,
    "start_time": "2023-03-16T10:36:13.109Z"
   },
   {
    "duration": 7,
    "start_time": "2023-03-16T10:36:13.118Z"
   },
   {
    "duration": 5,
    "start_time": "2023-03-16T10:36:13.127Z"
   },
   {
    "duration": 144,
    "start_time": "2023-03-16T10:36:13.133Z"
   },
   {
    "duration": 6,
    "start_time": "2023-03-16T10:36:13.279Z"
   },
   {
    "duration": 15,
    "start_time": "2023-03-16T10:36:13.289Z"
   },
   {
    "duration": 128,
    "start_time": "2023-03-16T10:36:13.306Z"
   },
   {
    "duration": 5,
    "start_time": "2023-03-16T10:36:13.436Z"
   },
   {
    "duration": 140,
    "start_time": "2023-03-16T10:36:13.443Z"
   },
   {
    "duration": 4,
    "start_time": "2023-03-16T10:36:13.585Z"
   },
   {
    "duration": 21,
    "start_time": "2023-03-16T10:36:13.591Z"
   },
   {
    "duration": 7,
    "start_time": "2023-03-16T10:36:13.614Z"
   },
   {
    "duration": 10,
    "start_time": "2023-03-16T10:36:13.623Z"
   },
   {
    "duration": 19,
    "start_time": "2023-03-16T10:36:13.635Z"
   },
   {
    "duration": 12,
    "start_time": "2023-03-16T10:36:13.655Z"
   },
   {
    "duration": 10,
    "start_time": "2023-03-16T10:36:13.669Z"
   },
   {
    "duration": 34,
    "start_time": "2023-03-16T10:36:13.681Z"
   },
   {
    "duration": 5,
    "start_time": "2023-03-16T10:36:13.717Z"
   },
   {
    "duration": 26,
    "start_time": "2023-03-16T10:36:13.723Z"
   },
   {
    "duration": 7,
    "start_time": "2023-03-16T10:36:13.750Z"
   },
   {
    "duration": 21,
    "start_time": "2023-03-16T10:36:13.759Z"
   },
   {
    "duration": 10,
    "start_time": "2023-03-16T10:36:13.782Z"
   },
   {
    "duration": 13,
    "start_time": "2023-03-16T10:36:13.794Z"
   },
   {
    "duration": 12,
    "start_time": "2023-03-16T10:36:13.809Z"
   },
   {
    "duration": 27,
    "start_time": "2023-03-16T10:36:13.823Z"
   },
   {
    "duration": 12,
    "start_time": "2023-03-16T10:36:13.852Z"
   },
   {
    "duration": 11,
    "start_time": "2023-03-16T10:36:13.865Z"
   },
   {
    "duration": 19,
    "start_time": "2023-03-16T10:36:13.877Z"
   },
   {
    "duration": 26,
    "start_time": "2023-03-16T10:36:13.898Z"
   },
   {
    "duration": 6,
    "start_time": "2023-03-16T10:36:13.926Z"
   },
   {
    "duration": 27,
    "start_time": "2023-03-16T10:36:13.934Z"
   },
   {
    "duration": 8,
    "start_time": "2023-03-16T10:36:13.963Z"
   },
   {
    "duration": 27,
    "start_time": "2023-03-16T10:39:50.408Z"
   },
   {
    "duration": 294,
    "start_time": "2023-03-16T10:41:23.854Z"
   },
   {
    "duration": 1162,
    "start_time": "2023-03-16T10:44:46.418Z"
   },
   {
    "duration": 29,
    "start_time": "2023-03-16T10:44:47.582Z"
   },
   {
    "duration": 13,
    "start_time": "2023-03-16T10:44:47.613Z"
   },
   {
    "duration": 6,
    "start_time": "2023-03-16T10:44:47.628Z"
   },
   {
    "duration": 12,
    "start_time": "2023-03-16T10:44:47.636Z"
   },
   {
    "duration": 6,
    "start_time": "2023-03-16T10:44:47.650Z"
   },
   {
    "duration": 13,
    "start_time": "2023-03-16T10:44:47.657Z"
   },
   {
    "duration": 40,
    "start_time": "2023-03-16T10:44:47.671Z"
   },
   {
    "duration": 16,
    "start_time": "2023-03-16T10:44:47.712Z"
   },
   {
    "duration": 8,
    "start_time": "2023-03-16T10:44:47.730Z"
   },
   {
    "duration": 11,
    "start_time": "2023-03-16T10:44:47.740Z"
   },
   {
    "duration": 21,
    "start_time": "2023-03-16T10:44:47.754Z"
   },
   {
    "duration": 13,
    "start_time": "2023-03-16T10:44:47.777Z"
   },
   {
    "duration": 6,
    "start_time": "2023-03-16T10:44:47.793Z"
   },
   {
    "duration": 12,
    "start_time": "2023-03-16T10:44:47.800Z"
   },
   {
    "duration": 48,
    "start_time": "2023-03-16T10:44:47.813Z"
   },
   {
    "duration": 7,
    "start_time": "2023-03-16T10:44:47.863Z"
   },
   {
    "duration": 13,
    "start_time": "2023-03-16T10:44:47.872Z"
   },
   {
    "duration": 13,
    "start_time": "2023-03-16T10:44:47.887Z"
   },
   {
    "duration": 67,
    "start_time": "2023-03-16T10:44:47.901Z"
   },
   {
    "duration": 16,
    "start_time": "2023-03-16T10:44:47.970Z"
   },
   {
    "duration": 13,
    "start_time": "2023-03-16T10:44:47.988Z"
   },
   {
    "duration": 13,
    "start_time": "2023-03-16T10:44:48.003Z"
   },
   {
    "duration": 48,
    "start_time": "2023-03-16T10:44:48.018Z"
   },
   {
    "duration": 16,
    "start_time": "2023-03-16T10:44:48.069Z"
   },
   {
    "duration": 11,
    "start_time": "2023-03-16T10:44:48.087Z"
   },
   {
    "duration": 22,
    "start_time": "2023-03-16T10:44:48.099Z"
   },
   {
    "duration": 53,
    "start_time": "2023-03-16T10:44:48.123Z"
   },
   {
    "duration": 16,
    "start_time": "2023-03-16T10:44:48.178Z"
   },
   {
    "duration": 53,
    "start_time": "2023-03-16T10:44:48.196Z"
   },
   {
    "duration": 281,
    "start_time": "2023-03-16T10:44:48.251Z"
   },
   {
    "duration": 296,
    "start_time": "2023-03-16T10:44:48.534Z"
   },
   {
    "duration": 288,
    "start_time": "2023-03-16T10:44:48.832Z"
   },
   {
    "duration": 316,
    "start_time": "2023-03-16T10:44:49.122Z"
   },
   {
    "duration": 309,
    "start_time": "2023-03-16T10:44:49.439Z"
   },
   {
    "duration": 6,
    "start_time": "2023-03-16T10:44:49.750Z"
   },
   {
    "duration": 9,
    "start_time": "2023-03-16T10:44:49.757Z"
   },
   {
    "duration": 13,
    "start_time": "2023-03-16T10:44:49.768Z"
   },
   {
    "duration": 126,
    "start_time": "2023-03-16T10:44:49.783Z"
   },
   {
    "duration": 5,
    "start_time": "2023-03-16T10:44:49.912Z"
   },
   {
    "duration": 36,
    "start_time": "2023-03-16T10:44:49.921Z"
   },
   {
    "duration": 130,
    "start_time": "2023-03-16T10:44:49.959Z"
   },
   {
    "duration": 5,
    "start_time": "2023-03-16T10:44:50.090Z"
   },
   {
    "duration": 134,
    "start_time": "2023-03-16T10:44:50.096Z"
   },
   {
    "duration": 5,
    "start_time": "2023-03-16T10:44:50.231Z"
   },
   {
    "duration": 9,
    "start_time": "2023-03-16T10:44:50.237Z"
   },
   {
    "duration": 11,
    "start_time": "2023-03-16T10:44:50.248Z"
   },
   {
    "duration": 14,
    "start_time": "2023-03-16T10:44:50.261Z"
   },
   {
    "duration": 13,
    "start_time": "2023-03-16T10:44:50.277Z"
   },
   {
    "duration": 22,
    "start_time": "2023-03-16T10:44:50.292Z"
   },
   {
    "duration": 27,
    "start_time": "2023-03-16T10:44:50.316Z"
   },
   {
    "duration": 27,
    "start_time": "2023-03-16T10:44:50.344Z"
   },
   {
    "duration": 5,
    "start_time": "2023-03-16T10:44:50.373Z"
   },
   {
    "duration": 15,
    "start_time": "2023-03-16T10:44:50.379Z"
   },
   {
    "duration": 18,
    "start_time": "2023-03-16T10:44:50.396Z"
   },
   {
    "duration": 25,
    "start_time": "2023-03-16T10:44:50.417Z"
   },
   {
    "duration": 29,
    "start_time": "2023-03-16T10:44:50.444Z"
   },
   {
    "duration": 31,
    "start_time": "2023-03-16T10:44:50.475Z"
   },
   {
    "duration": 17,
    "start_time": "2023-03-16T10:44:50.508Z"
   },
   {
    "duration": 11,
    "start_time": "2023-03-16T10:44:50.527Z"
   },
   {
    "duration": 20,
    "start_time": "2023-03-16T10:44:50.539Z"
   },
   {
    "duration": 16,
    "start_time": "2023-03-16T10:44:50.560Z"
   },
   {
    "duration": 41,
    "start_time": "2023-03-16T10:44:50.578Z"
   },
   {
    "duration": 23,
    "start_time": "2023-03-16T10:44:50.621Z"
   },
   {
    "duration": 5,
    "start_time": "2023-03-16T10:44:50.645Z"
   },
   {
    "duration": 35,
    "start_time": "2023-03-16T10:44:50.651Z"
   },
   {
    "duration": 12,
    "start_time": "2023-03-16T10:44:50.687Z"
   },
   {
    "duration": 1153,
    "start_time": "2023-03-16T10:56:20.835Z"
   },
   {
    "duration": 30,
    "start_time": "2023-03-16T10:56:21.990Z"
   },
   {
    "duration": 13,
    "start_time": "2023-03-16T10:56:22.022Z"
   },
   {
    "duration": 10,
    "start_time": "2023-03-16T10:56:22.037Z"
   },
   {
    "duration": 14,
    "start_time": "2023-03-16T10:56:22.050Z"
   },
   {
    "duration": 7,
    "start_time": "2023-03-16T10:56:22.066Z"
   },
   {
    "duration": 19,
    "start_time": "2023-03-16T10:56:22.075Z"
   },
   {
    "duration": 53,
    "start_time": "2023-03-16T10:56:22.096Z"
   },
   {
    "duration": 16,
    "start_time": "2023-03-16T10:56:22.151Z"
   },
   {
    "duration": 9,
    "start_time": "2023-03-16T10:56:22.169Z"
   },
   {
    "duration": 19,
    "start_time": "2023-03-16T10:56:22.180Z"
   },
   {
    "duration": 25,
    "start_time": "2023-03-16T10:56:22.201Z"
   },
   {
    "duration": 20,
    "start_time": "2023-03-16T10:56:22.228Z"
   },
   {
    "duration": 23,
    "start_time": "2023-03-16T10:56:22.251Z"
   },
   {
    "duration": 26,
    "start_time": "2023-03-16T10:56:22.276Z"
   },
   {
    "duration": 58,
    "start_time": "2023-03-16T10:56:22.304Z"
   },
   {
    "duration": 11,
    "start_time": "2023-03-16T10:56:22.364Z"
   },
   {
    "duration": 32,
    "start_time": "2023-03-16T10:56:22.377Z"
   },
   {
    "duration": 17,
    "start_time": "2023-03-16T10:56:22.411Z"
   },
   {
    "duration": 61,
    "start_time": "2023-03-16T10:56:22.430Z"
   },
   {
    "duration": 23,
    "start_time": "2023-03-16T10:56:22.493Z"
   },
   {
    "duration": 23,
    "start_time": "2023-03-16T10:56:22.518Z"
   },
   {
    "duration": 7,
    "start_time": "2023-03-16T10:56:22.543Z"
   },
   {
    "duration": 62,
    "start_time": "2023-03-16T10:56:22.551Z"
   },
   {
    "duration": 22,
    "start_time": "2023-03-16T10:56:22.615Z"
   },
   {
    "duration": 21,
    "start_time": "2023-03-16T10:56:22.638Z"
   },
   {
    "duration": 16,
    "start_time": "2023-03-16T10:56:22.662Z"
   },
   {
    "duration": 84,
    "start_time": "2023-03-16T10:56:22.679Z"
   },
   {
    "duration": 11,
    "start_time": "2023-03-16T10:56:22.765Z"
   },
   {
    "duration": 46,
    "start_time": "2023-03-16T10:56:22.778Z"
   },
   {
    "duration": 295,
    "start_time": "2023-03-16T10:56:22.826Z"
   },
   {
    "duration": 290,
    "start_time": "2023-03-16T10:56:23.122Z"
   },
   {
    "duration": 284,
    "start_time": "2023-03-16T10:56:23.414Z"
   },
   {
    "duration": 308,
    "start_time": "2023-03-16T10:56:23.701Z"
   },
   {
    "duration": 341,
    "start_time": "2023-03-16T10:56:24.011Z"
   },
   {
    "duration": 7,
    "start_time": "2023-03-16T10:56:24.353Z"
   },
   {
    "duration": 37,
    "start_time": "2023-03-16T10:56:24.362Z"
   },
   {
    "duration": 16,
    "start_time": "2023-03-16T10:56:24.401Z"
   },
   {
    "duration": 137,
    "start_time": "2023-03-16T10:56:24.419Z"
   },
   {
    "duration": 5,
    "start_time": "2023-03-16T10:56:24.558Z"
   },
   {
    "duration": 39,
    "start_time": "2023-03-16T10:56:24.568Z"
   },
   {
    "duration": 198,
    "start_time": "2023-03-16T10:56:24.609Z"
   },
   {
    "duration": 6,
    "start_time": "2023-03-16T10:56:24.809Z"
   },
   {
    "duration": 169,
    "start_time": "2023-03-16T10:56:24.817Z"
   },
   {
    "duration": 6,
    "start_time": "2023-03-16T10:56:24.988Z"
   },
   {
    "duration": 36,
    "start_time": "2023-03-16T10:56:24.996Z"
   },
   {
    "duration": 26,
    "start_time": "2023-03-16T10:56:25.034Z"
   },
   {
    "duration": 14,
    "start_time": "2023-03-16T10:56:25.062Z"
   },
   {
    "duration": 25,
    "start_time": "2023-03-16T10:56:25.078Z"
   },
   {
    "duration": 16,
    "start_time": "2023-03-16T10:56:25.105Z"
   },
   {
    "duration": 36,
    "start_time": "2023-03-16T10:56:25.123Z"
   },
   {
    "duration": 33,
    "start_time": "2023-03-16T10:56:25.161Z"
   },
   {
    "duration": 20,
    "start_time": "2023-03-16T10:56:25.196Z"
   },
   {
    "duration": 17,
    "start_time": "2023-03-16T10:56:25.218Z"
   },
   {
    "duration": 8,
    "start_time": "2023-03-16T10:56:25.237Z"
   },
   {
    "duration": 34,
    "start_time": "2023-03-16T10:56:25.247Z"
   },
   {
    "duration": 32,
    "start_time": "2023-03-16T10:56:25.283Z"
   },
   {
    "duration": 25,
    "start_time": "2023-03-16T10:56:25.316Z"
   },
   {
    "duration": 19,
    "start_time": "2023-03-16T10:56:25.343Z"
   },
   {
    "duration": 22,
    "start_time": "2023-03-16T10:56:25.364Z"
   },
   {
    "duration": 20,
    "start_time": "2023-03-16T10:56:25.388Z"
   },
   {
    "duration": 14,
    "start_time": "2023-03-16T10:56:25.409Z"
   },
   {
    "duration": 12,
    "start_time": "2023-03-16T10:56:25.425Z"
   },
   {
    "duration": 29,
    "start_time": "2023-03-16T10:56:25.439Z"
   },
   {
    "duration": 4,
    "start_time": "2023-03-16T10:56:25.470Z"
   },
   {
    "duration": 13,
    "start_time": "2023-03-16T10:56:25.476Z"
   },
   {
    "duration": 25,
    "start_time": "2023-03-16T10:56:25.491Z"
   },
   {
    "duration": 4,
    "start_time": "2023-03-16T11:07:00.085Z"
   },
   {
    "duration": 1198,
    "start_time": "2023-03-16T11:42:37.892Z"
   },
   {
    "duration": 29,
    "start_time": "2023-03-16T11:42:39.092Z"
   },
   {
    "duration": 13,
    "start_time": "2023-03-16T11:42:39.123Z"
   },
   {
    "duration": 5,
    "start_time": "2023-03-16T11:42:39.138Z"
   },
   {
    "duration": 29,
    "start_time": "2023-03-16T11:42:39.146Z"
   },
   {
    "duration": 6,
    "start_time": "2023-03-16T11:42:39.176Z"
   },
   {
    "duration": 12,
    "start_time": "2023-03-16T11:42:39.183Z"
   },
   {
    "duration": 46,
    "start_time": "2023-03-16T11:42:39.198Z"
   },
   {
    "duration": 17,
    "start_time": "2023-03-16T11:42:39.245Z"
   },
   {
    "duration": 9,
    "start_time": "2023-03-16T11:42:39.263Z"
   },
   {
    "duration": 11,
    "start_time": "2023-03-16T11:42:39.274Z"
   },
   {
    "duration": 11,
    "start_time": "2023-03-16T11:42:39.286Z"
   },
   {
    "duration": 16,
    "start_time": "2023-03-16T11:42:39.299Z"
   },
   {
    "duration": 9,
    "start_time": "2023-03-16T11:42:39.318Z"
   },
   {
    "duration": 17,
    "start_time": "2023-03-16T11:42:39.329Z"
   },
   {
    "duration": 49,
    "start_time": "2023-03-16T11:42:39.347Z"
   },
   {
    "duration": 13,
    "start_time": "2023-03-16T11:42:39.398Z"
   },
   {
    "duration": 5,
    "start_time": "2023-03-16T11:42:39.413Z"
   },
   {
    "duration": 15,
    "start_time": "2023-03-16T11:42:39.419Z"
   },
   {
    "duration": 46,
    "start_time": "2023-03-16T11:42:39.435Z"
   },
   {
    "duration": 11,
    "start_time": "2023-03-16T11:42:39.482Z"
   },
   {
    "duration": 27,
    "start_time": "2023-03-16T11:42:39.495Z"
   },
   {
    "duration": 8,
    "start_time": "2023-03-16T11:42:39.525Z"
   },
   {
    "duration": 58,
    "start_time": "2023-03-16T11:42:39.534Z"
   },
   {
    "duration": 20,
    "start_time": "2023-03-16T11:42:39.595Z"
   },
   {
    "duration": 11,
    "start_time": "2023-03-16T11:42:39.617Z"
   },
   {
    "duration": 8,
    "start_time": "2023-03-16T11:42:39.630Z"
   },
   {
    "duration": 57,
    "start_time": "2023-03-16T11:42:39.639Z"
   },
   {
    "duration": 9,
    "start_time": "2023-03-16T11:42:39.711Z"
   },
   {
    "duration": 39,
    "start_time": "2023-03-16T11:42:39.722Z"
   },
   {
    "duration": 295,
    "start_time": "2023-03-16T11:42:39.763Z"
   },
   {
    "duration": 301,
    "start_time": "2023-03-16T11:42:40.060Z"
   },
   {
    "duration": 267,
    "start_time": "2023-03-16T11:42:40.363Z"
   },
   {
    "duration": 298,
    "start_time": "2023-03-16T11:42:40.632Z"
   },
   {
    "duration": 261,
    "start_time": "2023-03-16T11:42:40.932Z"
   },
   {
    "duration": 7,
    "start_time": "2023-03-16T11:42:41.194Z"
   },
   {
    "duration": 16,
    "start_time": "2023-03-16T11:42:41.202Z"
   },
   {
    "duration": 35,
    "start_time": "2023-03-16T11:42:41.220Z"
   },
   {
    "duration": 125,
    "start_time": "2023-03-16T11:42:41.257Z"
   },
   {
    "duration": 5,
    "start_time": "2023-03-16T11:42:41.383Z"
   },
   {
    "duration": 20,
    "start_time": "2023-03-16T11:42:41.392Z"
   },
   {
    "duration": 135,
    "start_time": "2023-03-16T11:42:41.414Z"
   },
   {
    "duration": 5,
    "start_time": "2023-03-16T11:42:41.551Z"
   },
   {
    "duration": 131,
    "start_time": "2023-03-16T11:42:41.558Z"
   },
   {
    "duration": 5,
    "start_time": "2023-03-16T11:42:41.691Z"
   },
   {
    "duration": 19,
    "start_time": "2023-03-16T11:42:41.698Z"
   },
   {
    "duration": 7,
    "start_time": "2023-03-16T11:42:41.719Z"
   },
   {
    "duration": 17,
    "start_time": "2023-03-16T11:42:41.727Z"
   },
   {
    "duration": 34,
    "start_time": "2023-03-16T11:42:41.746Z"
   },
   {
    "duration": 23,
    "start_time": "2023-03-16T11:42:41.781Z"
   },
   {
    "duration": 31,
    "start_time": "2023-03-16T11:42:41.806Z"
   },
   {
    "duration": 29,
    "start_time": "2023-03-16T11:42:41.839Z"
   },
   {
    "duration": 4,
    "start_time": "2023-03-16T11:42:41.870Z"
   },
   {
    "duration": 38,
    "start_time": "2023-03-16T11:42:41.876Z"
   },
   {
    "duration": 16,
    "start_time": "2023-03-16T11:42:41.916Z"
   },
   {
    "duration": 25,
    "start_time": "2023-03-16T11:42:41.934Z"
   },
   {
    "duration": 12,
    "start_time": "2023-03-16T11:42:41.960Z"
   },
   {
    "duration": 20,
    "start_time": "2023-03-16T11:42:41.974Z"
   },
   {
    "duration": 8,
    "start_time": "2023-03-16T11:42:41.995Z"
   },
   {
    "duration": 12,
    "start_time": "2023-03-16T11:42:42.005Z"
   },
   {
    "duration": 44,
    "start_time": "2023-03-16T11:42:42.019Z"
   },
   {
    "duration": 40,
    "start_time": "2023-03-16T11:42:42.065Z"
   },
   {
    "duration": 4,
    "start_time": "2023-03-16T11:42:42.107Z"
   },
   {
    "duration": 23,
    "start_time": "2023-03-16T11:42:42.113Z"
   },
   {
    "duration": 28,
    "start_time": "2023-03-16T11:42:42.138Z"
   },
   {
    "duration": 70,
    "start_time": "2023-03-16T12:10:23.405Z"
   },
   {
    "duration": 363,
    "start_time": "2023-03-16T12:46:03.985Z"
   },
   {
    "duration": 358,
    "start_time": "2023-03-16T12:46:35.027Z"
   },
   {
    "duration": 287,
    "start_time": "2023-03-16T12:46:42.604Z"
   },
   {
    "duration": 270,
    "start_time": "2023-03-16T12:50:55.880Z"
   },
   {
    "duration": 309,
    "start_time": "2023-03-16T12:51:21.055Z"
   },
   {
    "duration": 250,
    "start_time": "2023-03-16T12:53:48.734Z"
   },
   {
    "duration": 349,
    "start_time": "2023-03-16T12:54:35.533Z"
   },
   {
    "duration": 273,
    "start_time": "2023-03-16T12:57:39.218Z"
   },
   {
    "duration": 254,
    "start_time": "2023-03-16T12:59:09.927Z"
   },
   {
    "duration": 296,
    "start_time": "2023-03-16T13:04:47.202Z"
   },
   {
    "duration": 284,
    "start_time": "2023-03-16T13:15:21.500Z"
   },
   {
    "duration": 257,
    "start_time": "2023-03-16T13:15:28.239Z"
   },
   {
    "duration": 483,
    "start_time": "2023-03-16T13:17:41.074Z"
   },
   {
    "duration": 259,
    "start_time": "2023-03-16T13:18:05.340Z"
   },
   {
    "duration": 280,
    "start_time": "2023-03-16T13:18:49.398Z"
   },
   {
    "duration": 75,
    "start_time": "2023-03-16T13:35:54.199Z"
   },
   {
    "duration": 4,
    "start_time": "2023-03-16T13:41:08.598Z"
   },
   {
    "duration": 44,
    "start_time": "2023-03-16T13:43:54.955Z"
   },
   {
    "duration": 93,
    "start_time": "2023-03-16T13:46:58.022Z"
   },
   {
    "duration": 1148,
    "start_time": "2023-03-16T13:51:25.742Z"
   },
   {
    "duration": 5115,
    "start_time": "2023-03-16T13:51:26.893Z"
   },
   {
    "duration": 0,
    "start_time": "2023-03-16T13:51:32.013Z"
   },
   {
    "duration": 0,
    "start_time": "2023-03-16T13:51:32.014Z"
   },
   {
    "duration": 0,
    "start_time": "2023-03-16T13:51:32.015Z"
   },
   {
    "duration": 0,
    "start_time": "2023-03-16T13:51:32.016Z"
   },
   {
    "duration": 1,
    "start_time": "2023-03-16T13:51:32.017Z"
   },
   {
    "duration": 0,
    "start_time": "2023-03-16T13:51:32.018Z"
   },
   {
    "duration": 0,
    "start_time": "2023-03-16T13:51:32.020Z"
   },
   {
    "duration": 0,
    "start_time": "2023-03-16T13:51:32.021Z"
   },
   {
    "duration": 0,
    "start_time": "2023-03-16T13:51:32.022Z"
   },
   {
    "duration": 0,
    "start_time": "2023-03-16T13:51:32.024Z"
   },
   {
    "duration": 0,
    "start_time": "2023-03-16T13:51:32.025Z"
   },
   {
    "duration": 0,
    "start_time": "2023-03-16T13:51:32.026Z"
   },
   {
    "duration": 0,
    "start_time": "2023-03-16T13:51:32.027Z"
   },
   {
    "duration": 0,
    "start_time": "2023-03-16T13:51:32.028Z"
   },
   {
    "duration": 0,
    "start_time": "2023-03-16T13:51:32.029Z"
   },
   {
    "duration": 0,
    "start_time": "2023-03-16T13:51:32.030Z"
   },
   {
    "duration": 0,
    "start_time": "2023-03-16T13:51:32.030Z"
   },
   {
    "duration": 0,
    "start_time": "2023-03-16T13:51:32.031Z"
   },
   {
    "duration": 0,
    "start_time": "2023-03-16T13:51:32.032Z"
   },
   {
    "duration": 0,
    "start_time": "2023-03-16T13:51:32.033Z"
   },
   {
    "duration": 0,
    "start_time": "2023-03-16T13:51:32.034Z"
   },
   {
    "duration": 0,
    "start_time": "2023-03-16T13:51:32.036Z"
   },
   {
    "duration": 1,
    "start_time": "2023-03-16T13:51:32.036Z"
   },
   {
    "duration": 0,
    "start_time": "2023-03-16T13:51:32.038Z"
   },
   {
    "duration": 0,
    "start_time": "2023-03-16T13:51:32.039Z"
   },
   {
    "duration": 0,
    "start_time": "2023-03-16T13:51:32.039Z"
   },
   {
    "duration": 0,
    "start_time": "2023-03-16T13:51:32.040Z"
   },
   {
    "duration": 0,
    "start_time": "2023-03-16T13:51:32.041Z"
   },
   {
    "duration": 0,
    "start_time": "2023-03-16T13:51:32.042Z"
   },
   {
    "duration": 0,
    "start_time": "2023-03-16T13:51:32.043Z"
   },
   {
    "duration": 0,
    "start_time": "2023-03-16T13:51:32.044Z"
   },
   {
    "duration": 0,
    "start_time": "2023-03-16T13:51:32.045Z"
   },
   {
    "duration": 0,
    "start_time": "2023-03-16T13:51:32.046Z"
   },
   {
    "duration": 0,
    "start_time": "2023-03-16T13:51:32.048Z"
   },
   {
    "duration": 0,
    "start_time": "2023-03-16T13:51:32.049Z"
   },
   {
    "duration": 0,
    "start_time": "2023-03-16T13:51:32.049Z"
   },
   {
    "duration": 0,
    "start_time": "2023-03-16T13:51:32.050Z"
   },
   {
    "duration": 0,
    "start_time": "2023-03-16T13:51:32.051Z"
   },
   {
    "duration": 0,
    "start_time": "2023-03-16T13:51:32.112Z"
   },
   {
    "duration": 0,
    "start_time": "2023-03-16T13:51:32.113Z"
   },
   {
    "duration": 0,
    "start_time": "2023-03-16T13:51:32.115Z"
   },
   {
    "duration": 1,
    "start_time": "2023-03-16T13:51:32.115Z"
   },
   {
    "duration": 0,
    "start_time": "2023-03-16T13:51:32.117Z"
   },
   {
    "duration": 0,
    "start_time": "2023-03-16T13:51:32.118Z"
   },
   {
    "duration": 0,
    "start_time": "2023-03-16T13:51:32.119Z"
   },
   {
    "duration": 0,
    "start_time": "2023-03-16T13:51:32.120Z"
   },
   {
    "duration": 1,
    "start_time": "2023-03-16T13:51:32.121Z"
   },
   {
    "duration": 0,
    "start_time": "2023-03-16T13:51:32.123Z"
   },
   {
    "duration": 0,
    "start_time": "2023-03-16T13:51:32.123Z"
   },
   {
    "duration": 0,
    "start_time": "2023-03-16T13:51:32.124Z"
   },
   {
    "duration": 0,
    "start_time": "2023-03-16T13:51:32.125Z"
   },
   {
    "duration": 0,
    "start_time": "2023-03-16T13:51:32.127Z"
   },
   {
    "duration": 0,
    "start_time": "2023-03-16T13:51:32.128Z"
   },
   {
    "duration": 0,
    "start_time": "2023-03-16T13:51:32.129Z"
   },
   {
    "duration": 0,
    "start_time": "2023-03-16T13:51:32.130Z"
   },
   {
    "duration": 0,
    "start_time": "2023-03-16T13:51:32.131Z"
   },
   {
    "duration": 0,
    "start_time": "2023-03-16T13:51:32.132Z"
   },
   {
    "duration": 0,
    "start_time": "2023-03-16T13:51:32.134Z"
   },
   {
    "duration": 0,
    "start_time": "2023-03-16T13:51:32.135Z"
   },
   {
    "duration": 0,
    "start_time": "2023-03-16T13:51:32.136Z"
   },
   {
    "duration": 0,
    "start_time": "2023-03-16T13:51:32.137Z"
   },
   {
    "duration": 0,
    "start_time": "2023-03-16T13:51:32.138Z"
   },
   {
    "duration": 0,
    "start_time": "2023-03-16T13:51:32.139Z"
   },
   {
    "duration": 1165,
    "start_time": "2023-03-16T13:52:52.219Z"
   },
   {
    "duration": 106,
    "start_time": "2023-03-16T13:52:53.386Z"
   },
   {
    "duration": 0,
    "start_time": "2023-03-16T13:52:53.497Z"
   },
   {
    "duration": 0,
    "start_time": "2023-03-16T13:52:53.498Z"
   },
   {
    "duration": 0,
    "start_time": "2023-03-16T13:52:53.499Z"
   },
   {
    "duration": 0,
    "start_time": "2023-03-16T13:52:53.500Z"
   },
   {
    "duration": 0,
    "start_time": "2023-03-16T13:52:53.501Z"
   },
   {
    "duration": 0,
    "start_time": "2023-03-16T13:52:53.502Z"
   },
   {
    "duration": 0,
    "start_time": "2023-03-16T13:52:53.503Z"
   },
   {
    "duration": 0,
    "start_time": "2023-03-16T13:52:53.512Z"
   },
   {
    "duration": 0,
    "start_time": "2023-03-16T13:52:53.513Z"
   },
   {
    "duration": 0,
    "start_time": "2023-03-16T13:52:53.514Z"
   },
   {
    "duration": 0,
    "start_time": "2023-03-16T13:52:53.515Z"
   },
   {
    "duration": 0,
    "start_time": "2023-03-16T13:52:53.516Z"
   },
   {
    "duration": 0,
    "start_time": "2023-03-16T13:52:53.517Z"
   },
   {
    "duration": 0,
    "start_time": "2023-03-16T13:52:53.518Z"
   },
   {
    "duration": 0,
    "start_time": "2023-03-16T13:52:53.519Z"
   },
   {
    "duration": 0,
    "start_time": "2023-03-16T13:52:53.521Z"
   },
   {
    "duration": 0,
    "start_time": "2023-03-16T13:52:53.522Z"
   },
   {
    "duration": 0,
    "start_time": "2023-03-16T13:52:53.523Z"
   },
   {
    "duration": 0,
    "start_time": "2023-03-16T13:52:53.524Z"
   },
   {
    "duration": 0,
    "start_time": "2023-03-16T13:52:53.525Z"
   },
   {
    "duration": 0,
    "start_time": "2023-03-16T13:52:53.526Z"
   },
   {
    "duration": 0,
    "start_time": "2023-03-16T13:52:53.528Z"
   },
   {
    "duration": 0,
    "start_time": "2023-03-16T13:52:53.529Z"
   },
   {
    "duration": 0,
    "start_time": "2023-03-16T13:52:53.530Z"
   },
   {
    "duration": 0,
    "start_time": "2023-03-16T13:52:53.531Z"
   },
   {
    "duration": 0,
    "start_time": "2023-03-16T13:52:53.532Z"
   },
   {
    "duration": 0,
    "start_time": "2023-03-16T13:52:53.533Z"
   },
   {
    "duration": 0,
    "start_time": "2023-03-16T13:52:53.534Z"
   },
   {
    "duration": 0,
    "start_time": "2023-03-16T13:52:53.535Z"
   },
   {
    "duration": 0,
    "start_time": "2023-03-16T13:52:53.536Z"
   },
   {
    "duration": 0,
    "start_time": "2023-03-16T13:52:53.538Z"
   },
   {
    "duration": 0,
    "start_time": "2023-03-16T13:52:53.539Z"
   },
   {
    "duration": 0,
    "start_time": "2023-03-16T13:52:53.540Z"
   },
   {
    "duration": 0,
    "start_time": "2023-03-16T13:52:53.542Z"
   },
   {
    "duration": 0,
    "start_time": "2023-03-16T13:52:53.543Z"
   },
   {
    "duration": 0,
    "start_time": "2023-03-16T13:52:53.544Z"
   },
   {
    "duration": 0,
    "start_time": "2023-03-16T13:52:53.545Z"
   },
   {
    "duration": 0,
    "start_time": "2023-03-16T13:52:53.546Z"
   },
   {
    "duration": 0,
    "start_time": "2023-03-16T13:52:53.547Z"
   },
   {
    "duration": 0,
    "start_time": "2023-03-16T13:52:53.549Z"
   },
   {
    "duration": 0,
    "start_time": "2023-03-16T13:52:53.612Z"
   },
   {
    "duration": 0,
    "start_time": "2023-03-16T13:52:53.613Z"
   },
   {
    "duration": 0,
    "start_time": "2023-03-16T13:52:53.614Z"
   },
   {
    "duration": 0,
    "start_time": "2023-03-16T13:52:53.615Z"
   },
   {
    "duration": 0,
    "start_time": "2023-03-16T13:52:53.616Z"
   },
   {
    "duration": 0,
    "start_time": "2023-03-16T13:52:53.617Z"
   },
   {
    "duration": 0,
    "start_time": "2023-03-16T13:52:53.618Z"
   },
   {
    "duration": 0,
    "start_time": "2023-03-16T13:52:53.619Z"
   },
   {
    "duration": 0,
    "start_time": "2023-03-16T13:52:53.620Z"
   },
   {
    "duration": 0,
    "start_time": "2023-03-16T13:52:53.621Z"
   },
   {
    "duration": 0,
    "start_time": "2023-03-16T13:52:53.622Z"
   },
   {
    "duration": 0,
    "start_time": "2023-03-16T13:52:53.623Z"
   },
   {
    "duration": 0,
    "start_time": "2023-03-16T13:52:53.624Z"
   },
   {
    "duration": 0,
    "start_time": "2023-03-16T13:52:53.625Z"
   },
   {
    "duration": 0,
    "start_time": "2023-03-16T13:52:53.626Z"
   },
   {
    "duration": 0,
    "start_time": "2023-03-16T13:52:53.627Z"
   },
   {
    "duration": 0,
    "start_time": "2023-03-16T13:52:53.628Z"
   },
   {
    "duration": 0,
    "start_time": "2023-03-16T13:52:53.629Z"
   },
   {
    "duration": 0,
    "start_time": "2023-03-16T13:52:53.630Z"
   },
   {
    "duration": 0,
    "start_time": "2023-03-16T13:52:53.631Z"
   },
   {
    "duration": 0,
    "start_time": "2023-03-16T13:52:53.632Z"
   },
   {
    "duration": 0,
    "start_time": "2023-03-16T13:52:53.633Z"
   },
   {
    "duration": 0,
    "start_time": "2023-03-16T13:52:53.634Z"
   },
   {
    "duration": 1108,
    "start_time": "2023-03-16T13:54:20.264Z"
   },
   {
    "duration": 39,
    "start_time": "2023-03-16T13:54:21.374Z"
   },
   {
    "duration": 13,
    "start_time": "2023-03-16T13:54:21.415Z"
   },
   {
    "duration": 5,
    "start_time": "2023-03-16T13:54:21.430Z"
   },
   {
    "duration": 10,
    "start_time": "2023-03-16T13:54:21.436Z"
   },
   {
    "duration": 5,
    "start_time": "2023-03-16T13:54:21.448Z"
   },
   {
    "duration": 12,
    "start_time": "2023-03-16T13:54:21.454Z"
   },
   {
    "duration": 45,
    "start_time": "2023-03-16T13:54:21.468Z"
   },
   {
    "duration": 15,
    "start_time": "2023-03-16T13:54:21.515Z"
   },
   {
    "duration": 7,
    "start_time": "2023-03-16T13:54:21.533Z"
   },
   {
    "duration": 5,
    "start_time": "2023-03-16T13:54:21.542Z"
   },
   {
    "duration": 17,
    "start_time": "2023-03-16T13:54:21.548Z"
   },
   {
    "duration": 30,
    "start_time": "2023-03-16T13:54:21.566Z"
   },
   {
    "duration": 17,
    "start_time": "2023-03-16T13:54:21.597Z"
   },
   {
    "duration": 22,
    "start_time": "2023-03-16T13:54:21.616Z"
   },
   {
    "duration": 46,
    "start_time": "2023-03-16T13:54:21.640Z"
   },
   {
    "duration": 11,
    "start_time": "2023-03-16T13:54:21.688Z"
   },
   {
    "duration": 24,
    "start_time": "2023-03-16T13:54:21.701Z"
   },
   {
    "duration": 16,
    "start_time": "2023-03-16T13:54:21.726Z"
   },
   {
    "duration": 46,
    "start_time": "2023-03-16T13:54:21.744Z"
   },
   {
    "duration": 51,
    "start_time": "2023-03-16T13:54:21.792Z"
   },
   {
    "duration": 9,
    "start_time": "2023-03-16T13:54:21.845Z"
   },
   {
    "duration": 8,
    "start_time": "2023-03-16T13:54:21.856Z"
   },
   {
    "duration": 48,
    "start_time": "2023-03-16T13:54:21.866Z"
   },
   {
    "duration": 20,
    "start_time": "2023-03-16T13:54:21.915Z"
   },
   {
    "duration": 17,
    "start_time": "2023-03-16T13:54:21.937Z"
   },
   {
    "duration": 19,
    "start_time": "2023-03-16T13:54:21.955Z"
   },
   {
    "duration": 48,
    "start_time": "2023-03-16T13:54:21.978Z"
   },
   {
    "duration": 23,
    "start_time": "2023-03-16T13:54:22.028Z"
   },
   {
    "duration": 29,
    "start_time": "2023-03-16T13:54:22.053Z"
   },
   {
    "duration": 284,
    "start_time": "2023-03-16T13:54:22.084Z"
   },
   {
    "duration": 277,
    "start_time": "2023-03-16T13:54:22.370Z"
   },
   {
    "duration": 408,
    "start_time": "2023-03-16T13:54:22.649Z"
   },
   {
    "duration": 286,
    "start_time": "2023-03-16T13:54:23.058Z"
   },
   {
    "duration": 280,
    "start_time": "2023-03-16T13:54:23.345Z"
   },
   {
    "duration": 8,
    "start_time": "2023-03-16T13:54:23.626Z"
   },
   {
    "duration": 8,
    "start_time": "2023-03-16T13:54:23.636Z"
   },
   {
    "duration": 9,
    "start_time": "2023-03-16T13:54:23.646Z"
   },
   {
    "duration": 138,
    "start_time": "2023-03-16T13:54:23.657Z"
   },
   {
    "duration": 5,
    "start_time": "2023-03-16T13:54:23.797Z"
   },
   {
    "duration": 11,
    "start_time": "2023-03-16T13:54:23.804Z"
   },
   {
    "duration": 133,
    "start_time": "2023-03-16T13:54:23.816Z"
   },
   {
    "duration": 5,
    "start_time": "2023-03-16T13:54:23.950Z"
   },
   {
    "duration": 152,
    "start_time": "2023-03-16T13:54:23.957Z"
   },
   {
    "duration": 6,
    "start_time": "2023-03-16T13:54:24.113Z"
   },
   {
    "duration": 9,
    "start_time": "2023-03-16T13:54:24.122Z"
   },
   {
    "duration": 10,
    "start_time": "2023-03-16T13:54:24.133Z"
   },
   {
    "duration": 9,
    "start_time": "2023-03-16T13:54:24.146Z"
   },
   {
    "duration": 9,
    "start_time": "2023-03-16T13:54:24.157Z"
   },
   {
    "duration": 54,
    "start_time": "2023-03-16T13:54:24.167Z"
   },
   {
    "duration": 11,
    "start_time": "2023-03-16T13:54:24.223Z"
   },
   {
    "duration": 28,
    "start_time": "2023-03-16T13:54:24.236Z"
   },
   {
    "duration": 5,
    "start_time": "2023-03-16T13:54:24.265Z"
   },
   {
    "duration": 42,
    "start_time": "2023-03-16T13:54:24.272Z"
   },
   {
    "duration": 8,
    "start_time": "2023-03-16T13:54:24.316Z"
   },
   {
    "duration": 8,
    "start_time": "2023-03-16T13:54:24.325Z"
   },
   {
    "duration": 11,
    "start_time": "2023-03-16T13:54:24.335Z"
   },
   {
    "duration": 11,
    "start_time": "2023-03-16T13:54:24.348Z"
   },
   {
    "duration": 11,
    "start_time": "2023-03-16T13:54:24.360Z"
   },
   {
    "duration": 15,
    "start_time": "2023-03-16T13:54:24.372Z"
   },
   {
    "duration": 29,
    "start_time": "2023-03-16T13:54:24.389Z"
   },
   {
    "duration": 29,
    "start_time": "2023-03-16T13:54:24.421Z"
   },
   {
    "duration": 5,
    "start_time": "2023-03-16T13:54:24.452Z"
   },
   {
    "duration": 11,
    "start_time": "2023-03-16T13:54:24.458Z"
   },
   {
    "duration": 8,
    "start_time": "2023-03-16T13:54:24.471Z"
   },
   {
    "duration": 1506,
    "start_time": "2023-03-16T19:36:30.674Z"
   },
   {
    "duration": 77,
    "start_time": "2023-03-16T19:36:32.183Z"
   },
   {
    "duration": 21,
    "start_time": "2023-03-16T19:36:32.261Z"
   },
   {
    "duration": 11,
    "start_time": "2023-03-16T19:36:32.285Z"
   },
   {
    "duration": 14,
    "start_time": "2023-03-16T19:36:32.298Z"
   },
   {
    "duration": 7,
    "start_time": "2023-03-16T19:36:32.314Z"
   },
   {
    "duration": 14,
    "start_time": "2023-03-16T19:36:32.324Z"
   },
   {
    "duration": 112,
    "start_time": "2023-03-16T19:36:32.340Z"
   },
   {
    "duration": 74,
    "start_time": "2023-03-16T19:36:32.454Z"
   },
   {
    "duration": 12,
    "start_time": "2023-03-16T19:36:32.531Z"
   },
   {
    "duration": 16,
    "start_time": "2023-03-16T19:36:32.544Z"
   },
   {
    "duration": 28,
    "start_time": "2023-03-16T19:36:32.562Z"
   },
   {
    "duration": 12,
    "start_time": "2023-03-16T19:36:32.592Z"
   },
   {
    "duration": 10,
    "start_time": "2023-03-16T19:36:32.606Z"
   },
   {
    "duration": 17,
    "start_time": "2023-03-16T19:36:32.618Z"
   },
   {
    "duration": 83,
    "start_time": "2023-03-16T19:36:32.637Z"
   },
   {
    "duration": 12,
    "start_time": "2023-03-16T19:36:32.723Z"
   },
   {
    "duration": 10,
    "start_time": "2023-03-16T19:36:32.737Z"
   },
   {
    "duration": 24,
    "start_time": "2023-03-16T19:36:32.749Z"
   },
   {
    "duration": 86,
    "start_time": "2023-03-16T19:36:32.776Z"
   },
   {
    "duration": 34,
    "start_time": "2023-03-16T19:36:32.865Z"
   },
   {
    "duration": 17,
    "start_time": "2023-03-16T19:36:32.902Z"
   },
   {
    "duration": 16,
    "start_time": "2023-03-16T19:36:32.922Z"
   },
   {
    "duration": 63,
    "start_time": "2023-03-16T19:36:32.940Z"
   },
   {
    "duration": 18,
    "start_time": "2023-03-16T19:36:33.006Z"
   },
   {
    "duration": 12,
    "start_time": "2023-03-16T19:36:33.027Z"
   },
   {
    "duration": 8,
    "start_time": "2023-03-16T19:36:33.041Z"
   },
   {
    "duration": 77,
    "start_time": "2023-03-16T19:36:33.054Z"
   },
   {
    "duration": 11,
    "start_time": "2023-03-16T19:36:33.134Z"
   },
   {
    "duration": 57,
    "start_time": "2023-03-16T19:36:33.147Z"
   },
   {
    "duration": 401,
    "start_time": "2023-03-16T19:36:33.206Z"
   },
   {
    "duration": 352,
    "start_time": "2023-03-16T19:36:33.609Z"
   },
   {
    "duration": 543,
    "start_time": "2023-03-16T19:36:33.964Z"
   },
   {
    "duration": 449,
    "start_time": "2023-03-16T19:36:34.509Z"
   },
   {
    "duration": 422,
    "start_time": "2023-03-16T19:36:34.960Z"
   },
   {
    "duration": 11,
    "start_time": "2023-03-16T19:36:35.384Z"
   },
   {
    "duration": 22,
    "start_time": "2023-03-16T19:36:35.398Z"
   },
   {
    "duration": 6,
    "start_time": "2023-03-16T19:36:35.427Z"
   },
   {
    "duration": 174,
    "start_time": "2023-03-16T19:36:35.435Z"
   },
   {
    "duration": 8,
    "start_time": "2023-03-16T19:36:35.612Z"
   },
   {
    "duration": 20,
    "start_time": "2023-03-16T19:36:35.622Z"
   },
   {
    "duration": 212,
    "start_time": "2023-03-16T19:36:35.644Z"
   },
   {
    "duration": 6,
    "start_time": "2023-03-16T19:36:35.858Z"
   },
   {
    "duration": 172,
    "start_time": "2023-03-16T19:36:35.867Z"
   },
   {
    "duration": 6,
    "start_time": "2023-03-16T19:36:36.041Z"
   },
   {
    "duration": 21,
    "start_time": "2023-03-16T19:36:36.049Z"
   },
   {
    "duration": 26,
    "start_time": "2023-03-16T19:36:36.073Z"
   },
   {
    "duration": 16,
    "start_time": "2023-03-16T19:36:36.102Z"
   },
   {
    "duration": 12,
    "start_time": "2023-03-16T19:36:36.119Z"
   },
   {
    "duration": 12,
    "start_time": "2023-03-16T19:36:36.133Z"
   },
   {
    "duration": 9,
    "start_time": "2023-03-16T19:36:36.147Z"
   },
   {
    "duration": 39,
    "start_time": "2023-03-16T19:36:36.158Z"
   },
   {
    "duration": 7,
    "start_time": "2023-03-16T19:36:36.199Z"
   },
   {
    "duration": 15,
    "start_time": "2023-03-16T19:36:36.207Z"
   },
   {
    "duration": 10,
    "start_time": "2023-03-16T19:36:36.224Z"
   },
   {
    "duration": 35,
    "start_time": "2023-03-16T19:36:36.235Z"
   },
   {
    "duration": 13,
    "start_time": "2023-03-16T19:36:36.272Z"
   },
   {
    "duration": 11,
    "start_time": "2023-03-16T19:36:36.287Z"
   },
   {
    "duration": 7,
    "start_time": "2023-03-16T19:36:36.300Z"
   },
   {
    "duration": 10,
    "start_time": "2023-03-16T19:36:36.309Z"
   },
   {
    "duration": 10,
    "start_time": "2023-03-16T19:36:36.321Z"
   },
   {
    "duration": 40,
    "start_time": "2023-03-16T19:36:36.365Z"
   },
   {
    "duration": 7,
    "start_time": "2023-03-16T19:36:36.407Z"
   },
   {
    "duration": 23,
    "start_time": "2023-03-16T19:36:36.416Z"
   },
   {
    "duration": 32,
    "start_time": "2023-03-16T19:36:36.441Z"
   },
   {
    "duration": 442,
    "start_time": "2023-03-16T20:33:40.543Z"
   },
   {
    "duration": 1297,
    "start_time": "2023-03-17T07:33:46.109Z"
   },
   {
    "duration": 89,
    "start_time": "2023-03-17T07:33:47.408Z"
   },
   {
    "duration": 13,
    "start_time": "2023-03-17T07:33:47.498Z"
   },
   {
    "duration": 9,
    "start_time": "2023-03-17T07:33:47.513Z"
   },
   {
    "duration": 16,
    "start_time": "2023-03-17T07:33:47.523Z"
   },
   {
    "duration": 6,
    "start_time": "2023-03-17T07:33:47.540Z"
   },
   {
    "duration": 11,
    "start_time": "2023-03-17T07:33:47.547Z"
   },
   {
    "duration": 80,
    "start_time": "2023-03-17T07:33:47.560Z"
   },
   {
    "duration": 71,
    "start_time": "2023-03-17T07:33:47.642Z"
   },
   {
    "duration": 8,
    "start_time": "2023-03-17T07:33:47.716Z"
   },
   {
    "duration": 20,
    "start_time": "2023-03-17T07:33:47.725Z"
   },
   {
    "duration": 22,
    "start_time": "2023-03-17T07:33:47.746Z"
   },
   {
    "duration": 7,
    "start_time": "2023-03-17T07:33:47.770Z"
   },
   {
    "duration": 14,
    "start_time": "2023-03-17T07:33:47.778Z"
   },
   {
    "duration": 10,
    "start_time": "2023-03-17T07:33:47.793Z"
   },
   {
    "duration": 54,
    "start_time": "2023-03-17T07:33:47.805Z"
   },
   {
    "duration": 11,
    "start_time": "2023-03-17T07:33:47.861Z"
   },
   {
    "duration": 8,
    "start_time": "2023-03-17T07:33:47.874Z"
   },
   {
    "duration": 10,
    "start_time": "2023-03-17T07:33:47.884Z"
   },
   {
    "duration": 53,
    "start_time": "2023-03-17T07:33:47.896Z"
   },
   {
    "duration": 9,
    "start_time": "2023-03-17T07:33:47.951Z"
   },
   {
    "duration": 11,
    "start_time": "2023-03-17T07:33:47.961Z"
   },
   {
    "duration": 7,
    "start_time": "2023-03-17T07:33:47.973Z"
   },
   {
    "duration": 66,
    "start_time": "2023-03-17T07:33:47.982Z"
   },
   {
    "duration": 29,
    "start_time": "2023-03-17T07:33:48.050Z"
   },
   {
    "duration": 14,
    "start_time": "2023-03-17T07:33:48.081Z"
   },
   {
    "duration": 33,
    "start_time": "2023-03-17T07:33:48.097Z"
   },
   {
    "duration": 62,
    "start_time": "2023-03-17T07:33:48.135Z"
   },
   {
    "duration": 13,
    "start_time": "2023-03-17T07:33:48.199Z"
   },
   {
    "duration": 30,
    "start_time": "2023-03-17T07:33:48.213Z"
   },
   {
    "duration": 278,
    "start_time": "2023-03-17T07:33:48.245Z"
   },
   {
    "duration": 289,
    "start_time": "2023-03-17T07:33:48.525Z"
   },
   {
    "duration": 464,
    "start_time": "2023-03-17T07:33:48.816Z"
   },
   {
    "duration": 300,
    "start_time": "2023-03-17T07:33:49.282Z"
   },
   {
    "duration": 282,
    "start_time": "2023-03-17T07:33:49.583Z"
   },
   {
    "duration": 6,
    "start_time": "2023-03-17T07:33:49.868Z"
   },
   {
    "duration": 12,
    "start_time": "2023-03-17T07:33:49.875Z"
   },
   {
    "duration": 7,
    "start_time": "2023-03-17T07:33:49.889Z"
   },
   {
    "duration": 129,
    "start_time": "2023-03-17T07:33:49.898Z"
   },
   {
    "duration": 5,
    "start_time": "2023-03-17T07:33:50.029Z"
   },
   {
    "duration": 4,
    "start_time": "2023-03-17T07:33:50.041Z"
   },
   {
    "duration": 142,
    "start_time": "2023-03-17T07:33:50.046Z"
   },
   {
    "duration": 5,
    "start_time": "2023-03-17T07:33:50.189Z"
   },
   {
    "duration": 130,
    "start_time": "2023-03-17T07:33:50.195Z"
   },
   {
    "duration": 5,
    "start_time": "2023-03-17T07:33:50.326Z"
   },
   {
    "duration": 7,
    "start_time": "2023-03-17T07:33:50.341Z"
   },
   {
    "duration": 9,
    "start_time": "2023-03-17T07:33:50.349Z"
   },
   {
    "duration": 7,
    "start_time": "2023-03-17T07:33:50.360Z"
   },
   {
    "duration": 6,
    "start_time": "2023-03-17T07:33:50.368Z"
   },
   {
    "duration": 8,
    "start_time": "2023-03-17T07:33:50.376Z"
   },
   {
    "duration": 7,
    "start_time": "2023-03-17T07:33:50.385Z"
   },
   {
    "duration": 57,
    "start_time": "2023-03-17T07:33:50.393Z"
   },
   {
    "duration": 5,
    "start_time": "2023-03-17T07:33:50.451Z"
   },
   {
    "duration": 10,
    "start_time": "2023-03-17T07:33:50.457Z"
   },
   {
    "duration": 7,
    "start_time": "2023-03-17T07:33:50.469Z"
   },
   {
    "duration": 6,
    "start_time": "2023-03-17T07:33:50.478Z"
   },
   {
    "duration": 32,
    "start_time": "2023-03-17T07:33:50.486Z"
   },
   {
    "duration": 15,
    "start_time": "2023-03-17T07:33:50.520Z"
   },
   {
    "duration": 5,
    "start_time": "2023-03-17T07:33:50.537Z"
   },
   {
    "duration": 8,
    "start_time": "2023-03-17T07:33:50.543Z"
   },
   {
    "duration": 8,
    "start_time": "2023-03-17T07:33:50.553Z"
   },
   {
    "duration": 30,
    "start_time": "2023-03-17T07:33:50.562Z"
   },
   {
    "duration": 5,
    "start_time": "2023-03-17T07:33:50.593Z"
   },
   {
    "duration": 21,
    "start_time": "2023-03-17T07:33:50.600Z"
   },
   {
    "duration": 10,
    "start_time": "2023-03-17T07:33:50.641Z"
   },
   {
    "duration": 45,
    "start_time": "2023-03-17T08:21:13.560Z"
   },
   {
    "duration": 1416,
    "start_time": "2023-03-17T08:21:19.160Z"
   },
   {
    "duration": 120,
    "start_time": "2023-03-17T08:21:20.579Z"
   },
   {
    "duration": 17,
    "start_time": "2023-03-17T08:21:20.701Z"
   },
   {
    "duration": 8,
    "start_time": "2023-03-17T08:21:20.720Z"
   },
   {
    "duration": 26,
    "start_time": "2023-03-17T08:21:20.730Z"
   },
   {
    "duration": 13,
    "start_time": "2023-03-17T08:21:20.758Z"
   },
   {
    "duration": 12,
    "start_time": "2023-03-17T08:21:20.773Z"
   },
   {
    "duration": 86,
    "start_time": "2023-03-17T08:21:20.787Z"
   },
   {
    "duration": 74,
    "start_time": "2023-03-17T08:21:20.875Z"
   },
   {
    "duration": 8,
    "start_time": "2023-03-17T08:21:20.953Z"
   },
   {
    "duration": 6,
    "start_time": "2023-03-17T08:21:20.962Z"
   },
   {
    "duration": 8,
    "start_time": "2023-03-17T08:21:20.970Z"
   },
   {
    "duration": 17,
    "start_time": "2023-03-17T08:21:20.979Z"
   },
   {
    "duration": 14,
    "start_time": "2023-03-17T08:21:20.997Z"
   },
   {
    "duration": 35,
    "start_time": "2023-03-17T08:21:21.013Z"
   },
   {
    "duration": 43,
    "start_time": "2023-03-17T08:21:21.050Z"
   },
   {
    "duration": 17,
    "start_time": "2023-03-17T08:21:21.095Z"
   },
   {
    "duration": 14,
    "start_time": "2023-03-17T08:21:21.114Z"
   },
   {
    "duration": 23,
    "start_time": "2023-03-17T08:21:21.133Z"
   },
   {
    "duration": 42,
    "start_time": "2023-03-17T08:21:21.158Z"
   },
   {
    "duration": 42,
    "start_time": "2023-03-17T08:21:21.202Z"
   },
   {
    "duration": 20,
    "start_time": "2023-03-17T08:21:21.249Z"
   },
   {
    "duration": 23,
    "start_time": "2023-03-17T08:21:21.270Z"
   },
   {
    "duration": 57,
    "start_time": "2023-03-17T08:21:21.294Z"
   },
   {
    "duration": 19,
    "start_time": "2023-03-17T08:21:21.354Z"
   },
   {
    "duration": 21,
    "start_time": "2023-03-17T08:21:21.375Z"
   },
   {
    "duration": 7,
    "start_time": "2023-03-17T08:21:21.398Z"
   },
   {
    "duration": 65,
    "start_time": "2023-03-17T08:21:21.409Z"
   },
   {
    "duration": 18,
    "start_time": "2023-03-17T08:21:21.475Z"
   },
   {
    "duration": 46,
    "start_time": "2023-03-17T08:21:21.495Z"
   },
   {
    "duration": 342,
    "start_time": "2023-03-17T08:21:21.545Z"
   },
   {
    "duration": 320,
    "start_time": "2023-03-17T08:21:21.889Z"
   },
   {
    "duration": 428,
    "start_time": "2023-03-17T08:21:22.210Z"
   },
   {
    "duration": 329,
    "start_time": "2023-03-17T08:21:22.640Z"
   },
   {
    "duration": 292,
    "start_time": "2023-03-17T08:21:22.971Z"
   },
   {
    "duration": 7,
    "start_time": "2023-03-17T08:21:23.265Z"
   },
   {
    "duration": 9,
    "start_time": "2023-03-17T08:21:23.273Z"
   },
   {
    "duration": 5,
    "start_time": "2023-03-17T08:21:23.283Z"
   },
   {
    "duration": 162,
    "start_time": "2023-03-17T08:21:23.289Z"
   },
   {
    "duration": 5,
    "start_time": "2023-03-17T08:21:23.453Z"
   },
   {
    "duration": 4,
    "start_time": "2023-03-17T08:21:23.460Z"
   },
   {
    "duration": 144,
    "start_time": "2023-03-17T08:21:23.465Z"
   },
   {
    "duration": 15,
    "start_time": "2023-03-17T08:21:23.610Z"
   },
   {
    "duration": 138,
    "start_time": "2023-03-17T08:21:23.629Z"
   },
   {
    "duration": 5,
    "start_time": "2023-03-17T08:21:23.768Z"
   },
   {
    "duration": 8,
    "start_time": "2023-03-17T08:21:23.775Z"
   },
   {
    "duration": 9,
    "start_time": "2023-03-17T08:21:23.785Z"
   },
   {
    "duration": 13,
    "start_time": "2023-03-17T08:21:23.795Z"
   },
   {
    "duration": 23,
    "start_time": "2023-03-17T08:21:23.809Z"
   },
   {
    "duration": 13,
    "start_time": "2023-03-17T08:21:23.841Z"
   },
   {
    "duration": 9,
    "start_time": "2023-03-17T08:21:23.856Z"
   },
   {
    "duration": 21,
    "start_time": "2023-03-17T08:21:23.866Z"
   },
   {
    "duration": 4,
    "start_time": "2023-03-17T08:21:23.889Z"
   },
   {
    "duration": 50,
    "start_time": "2023-03-17T08:21:23.895Z"
   },
   {
    "duration": 8,
    "start_time": "2023-03-17T08:21:23.948Z"
   },
   {
    "duration": 10,
    "start_time": "2023-03-17T08:21:23.958Z"
   },
   {
    "duration": 13,
    "start_time": "2023-03-17T08:21:23.970Z"
   },
   {
    "duration": 9,
    "start_time": "2023-03-17T08:21:23.984Z"
   },
   {
    "duration": 5,
    "start_time": "2023-03-17T08:21:23.994Z"
   },
   {
    "duration": 11,
    "start_time": "2023-03-17T08:21:24.000Z"
   },
   {
    "duration": 31,
    "start_time": "2023-03-17T08:21:24.013Z"
   },
   {
    "duration": 21,
    "start_time": "2023-03-17T08:21:24.051Z"
   },
   {
    "duration": 4,
    "start_time": "2023-03-17T08:21:24.073Z"
   },
   {
    "duration": 17,
    "start_time": "2023-03-17T08:21:24.078Z"
   },
   {
    "duration": 9,
    "start_time": "2023-03-17T08:21:24.096Z"
   },
   {
    "duration": 228,
    "start_time": "2023-03-17T08:22:16.592Z"
   },
   {
    "duration": 1208,
    "start_time": "2023-03-17T08:22:26.053Z"
   },
   {
    "duration": 26,
    "start_time": "2023-03-17T08:22:27.263Z"
   },
   {
    "duration": 12,
    "start_time": "2023-03-17T08:22:27.291Z"
   },
   {
    "duration": 12,
    "start_time": "2023-03-17T08:22:27.305Z"
   },
   {
    "duration": 33,
    "start_time": "2023-03-17T08:22:27.319Z"
   },
   {
    "duration": 10,
    "start_time": "2023-03-17T08:22:27.354Z"
   },
   {
    "duration": 23,
    "start_time": "2023-03-17T08:22:27.365Z"
   },
   {
    "duration": 61,
    "start_time": "2023-03-17T08:22:27.390Z"
   },
   {
    "duration": 16,
    "start_time": "2023-03-17T08:22:27.452Z"
   },
   {
    "duration": 8,
    "start_time": "2023-03-17T08:22:27.469Z"
   },
   {
    "duration": 7,
    "start_time": "2023-03-17T08:22:27.479Z"
   },
   {
    "duration": 28,
    "start_time": "2023-03-17T08:22:27.488Z"
   },
   {
    "duration": 17,
    "start_time": "2023-03-17T08:22:27.518Z"
   },
   {
    "duration": 9,
    "start_time": "2023-03-17T08:22:27.546Z"
   },
   {
    "duration": 24,
    "start_time": "2023-03-17T08:22:27.556Z"
   },
   {
    "duration": 47,
    "start_time": "2023-03-17T08:22:27.582Z"
   },
   {
    "duration": 11,
    "start_time": "2023-03-17T08:22:27.631Z"
   },
   {
    "duration": 12,
    "start_time": "2023-03-17T08:22:27.645Z"
   },
   {
    "duration": 21,
    "start_time": "2023-03-17T08:22:27.659Z"
   },
   {
    "duration": 56,
    "start_time": "2023-03-17T08:22:27.682Z"
   },
   {
    "duration": 14,
    "start_time": "2023-03-17T08:22:27.740Z"
   },
   {
    "duration": 12,
    "start_time": "2023-03-17T08:22:27.756Z"
   },
   {
    "duration": 9,
    "start_time": "2023-03-17T08:22:27.769Z"
   },
   {
    "duration": 89,
    "start_time": "2023-03-17T08:22:27.780Z"
   },
   {
    "duration": 9,
    "start_time": "2023-03-17T08:22:27.871Z"
   },
   {
    "duration": 21,
    "start_time": "2023-03-17T08:22:27.882Z"
   },
   {
    "duration": 9,
    "start_time": "2023-03-17T08:22:27.905Z"
   },
   {
    "duration": 56,
    "start_time": "2023-03-17T08:22:27.927Z"
   },
   {
    "duration": 8,
    "start_time": "2023-03-17T08:22:27.985Z"
   },
   {
    "duration": 63,
    "start_time": "2023-03-17T08:22:27.995Z"
   },
   {
    "duration": 300,
    "start_time": "2023-03-17T08:22:28.060Z"
   },
   {
    "duration": 308,
    "start_time": "2023-03-17T08:22:28.361Z"
   },
   {
    "duration": 436,
    "start_time": "2023-03-17T08:22:28.671Z"
   },
   {
    "duration": 307,
    "start_time": "2023-03-17T08:22:29.109Z"
   },
   {
    "duration": 291,
    "start_time": "2023-03-17T08:22:29.418Z"
   },
   {
    "duration": 25,
    "start_time": "2023-03-17T08:22:29.711Z"
   },
   {
    "duration": 8,
    "start_time": "2023-03-17T08:22:29.745Z"
   },
   {
    "duration": 10,
    "start_time": "2023-03-17T08:22:29.755Z"
   },
   {
    "duration": 153,
    "start_time": "2023-03-17T08:22:29.767Z"
   },
   {
    "duration": 17,
    "start_time": "2023-03-17T08:22:29.922Z"
   },
   {
    "duration": 5,
    "start_time": "2023-03-17T08:22:29.945Z"
   },
   {
    "duration": 137,
    "start_time": "2023-03-17T08:22:29.952Z"
   },
   {
    "duration": 4,
    "start_time": "2023-03-17T08:22:30.090Z"
   },
   {
    "duration": 177,
    "start_time": "2023-03-17T08:22:30.096Z"
   },
   {
    "duration": 5,
    "start_time": "2023-03-17T08:22:30.275Z"
   },
   {
    "duration": 59,
    "start_time": "2023-03-17T08:22:30.281Z"
   },
   {
    "duration": 21,
    "start_time": "2023-03-17T08:22:30.346Z"
   },
   {
    "duration": 65,
    "start_time": "2023-03-17T08:22:30.369Z"
   },
   {
    "duration": 71,
    "start_time": "2023-03-17T08:22:30.436Z"
   },
   {
    "duration": 68,
    "start_time": "2023-03-17T08:22:30.509Z"
   },
   {
    "duration": 90,
    "start_time": "2023-03-17T08:22:30.579Z"
   },
   {
    "duration": 68,
    "start_time": "2023-03-17T08:22:30.671Z"
   },
   {
    "duration": 30,
    "start_time": "2023-03-17T08:22:30.742Z"
   },
   {
    "duration": 49,
    "start_time": "2023-03-17T08:22:30.774Z"
   },
   {
    "duration": 92,
    "start_time": "2023-03-17T08:22:30.824Z"
   },
   {
    "duration": 82,
    "start_time": "2023-03-17T08:22:30.917Z"
   },
   {
    "duration": 52,
    "start_time": "2023-03-17T08:22:31.001Z"
   },
   {
    "duration": 42,
    "start_time": "2023-03-17T08:22:31.055Z"
   },
   {
    "duration": 47,
    "start_time": "2023-03-17T08:22:31.099Z"
   },
   {
    "duration": 30,
    "start_time": "2023-03-17T08:22:31.148Z"
   },
   {
    "duration": 39,
    "start_time": "2023-03-17T08:22:31.180Z"
   },
   {
    "duration": 57,
    "start_time": "2023-03-17T08:22:31.221Z"
   },
   {
    "duration": 11,
    "start_time": "2023-03-17T08:22:31.280Z"
   },
   {
    "duration": 25,
    "start_time": "2023-03-17T08:22:31.293Z"
   },
   {
    "duration": 37,
    "start_time": "2023-03-17T08:22:31.319Z"
   },
   {
    "duration": 1571,
    "start_time": "2023-03-17T08:26:09.765Z"
   },
   {
    "duration": 33,
    "start_time": "2023-03-17T08:26:11.339Z"
   },
   {
    "duration": 243,
    "start_time": "2023-03-17T08:26:11.374Z"
   },
   {
    "duration": 14,
    "start_time": "2023-03-17T08:26:11.620Z"
   },
   {
    "duration": 21,
    "start_time": "2023-03-17T08:26:11.637Z"
   },
   {
    "duration": 4,
    "start_time": "2023-03-17T08:26:11.661Z"
   },
   {
    "duration": 11,
    "start_time": "2023-03-17T08:26:11.667Z"
   },
   {
    "duration": 36,
    "start_time": "2023-03-17T08:26:11.680Z"
   },
   {
    "duration": 18,
    "start_time": "2023-03-17T08:26:11.718Z"
   },
   {
    "duration": 15,
    "start_time": "2023-03-17T08:26:11.739Z"
   },
   {
    "duration": 5,
    "start_time": "2023-03-17T08:26:11.758Z"
   },
   {
    "duration": 16,
    "start_time": "2023-03-17T08:26:11.765Z"
   },
   {
    "duration": 7,
    "start_time": "2023-03-17T08:26:11.783Z"
   },
   {
    "duration": 5,
    "start_time": "2023-03-17T08:26:11.792Z"
   },
   {
    "duration": 9,
    "start_time": "2023-03-17T08:26:11.799Z"
   },
   {
    "duration": 76,
    "start_time": "2023-03-17T08:26:11.809Z"
   },
   {
    "duration": 7,
    "start_time": "2023-03-17T08:26:11.886Z"
   },
   {
    "duration": 4,
    "start_time": "2023-03-17T08:26:11.895Z"
   },
   {
    "duration": 29,
    "start_time": "2023-03-17T08:26:11.901Z"
   },
   {
    "duration": 51,
    "start_time": "2023-03-17T08:26:11.935Z"
   },
   {
    "duration": 7,
    "start_time": "2023-03-17T08:26:11.987Z"
   },
   {
    "duration": 11,
    "start_time": "2023-03-17T08:26:11.996Z"
   },
   {
    "duration": 25,
    "start_time": "2023-03-17T08:26:12.008Z"
   },
   {
    "duration": 63,
    "start_time": "2023-03-17T08:26:12.035Z"
   },
   {
    "duration": 13,
    "start_time": "2023-03-17T08:26:12.100Z"
   },
   {
    "duration": 13,
    "start_time": "2023-03-17T08:26:12.115Z"
   },
   {
    "duration": 14,
    "start_time": "2023-03-17T08:26:12.140Z"
   },
   {
    "duration": 81,
    "start_time": "2023-03-17T08:26:12.159Z"
   },
   {
    "duration": 14,
    "start_time": "2023-03-17T08:26:12.244Z"
   },
   {
    "duration": 29,
    "start_time": "2023-03-17T08:26:12.260Z"
   },
   {
    "duration": 358,
    "start_time": "2023-03-17T08:26:12.291Z"
   },
   {
    "duration": 316,
    "start_time": "2023-03-17T08:26:12.656Z"
   },
   {
    "duration": 423,
    "start_time": "2023-03-17T08:26:12.975Z"
   },
   {
    "duration": 358,
    "start_time": "2023-03-17T08:26:13.400Z"
   },
   {
    "duration": 313,
    "start_time": "2023-03-17T08:26:13.760Z"
   },
   {
    "duration": 9,
    "start_time": "2023-03-17T08:26:14.076Z"
   },
   {
    "duration": 8,
    "start_time": "2023-03-17T08:26:14.087Z"
   },
   {
    "duration": 4,
    "start_time": "2023-03-17T08:26:14.097Z"
   },
   {
    "duration": 168,
    "start_time": "2023-03-17T08:26:14.103Z"
   },
   {
    "duration": 5,
    "start_time": "2023-03-17T08:26:14.273Z"
   },
   {
    "duration": 5,
    "start_time": "2023-03-17T08:26:14.279Z"
   },
   {
    "duration": 195,
    "start_time": "2023-03-17T08:26:14.285Z"
   },
   {
    "duration": 5,
    "start_time": "2023-03-17T08:26:14.482Z"
   },
   {
    "duration": 183,
    "start_time": "2023-03-17T08:26:14.490Z"
   },
   {
    "duration": 5,
    "start_time": "2023-03-17T08:26:14.675Z"
   },
   {
    "duration": 10,
    "start_time": "2023-03-17T08:26:14.682Z"
   },
   {
    "duration": 37,
    "start_time": "2023-03-17T08:26:14.694Z"
   },
   {
    "duration": 12,
    "start_time": "2023-03-17T08:26:14.733Z"
   },
   {
    "duration": 20,
    "start_time": "2023-03-17T08:26:14.747Z"
   },
   {
    "duration": 8,
    "start_time": "2023-03-17T08:26:14.772Z"
   },
   {
    "duration": 19,
    "start_time": "2023-03-17T08:26:14.782Z"
   },
   {
    "duration": 43,
    "start_time": "2023-03-17T08:26:14.803Z"
   },
   {
    "duration": 13,
    "start_time": "2023-03-17T08:26:14.849Z"
   },
   {
    "duration": 10,
    "start_time": "2023-03-17T08:26:14.863Z"
   },
   {
    "duration": 8,
    "start_time": "2023-03-17T08:26:14.875Z"
   },
   {
    "duration": 7,
    "start_time": "2023-03-17T08:26:14.884Z"
   },
   {
    "duration": 5,
    "start_time": "2023-03-17T08:26:14.893Z"
   },
   {
    "duration": 7,
    "start_time": "2023-03-17T08:26:14.900Z"
   },
   {
    "duration": 34,
    "start_time": "2023-03-17T08:26:14.908Z"
   },
   {
    "duration": 17,
    "start_time": "2023-03-17T08:26:14.944Z"
   },
   {
    "duration": 12,
    "start_time": "2023-03-17T08:26:14.964Z"
   },
   {
    "duration": 27,
    "start_time": "2023-03-17T08:26:14.978Z"
   },
   {
    "duration": 11,
    "start_time": "2023-03-17T08:26:15.007Z"
   },
   {
    "duration": 29,
    "start_time": "2023-03-17T08:26:15.027Z"
   },
   {
    "duration": 24,
    "start_time": "2023-03-17T08:26:15.058Z"
   },
   {
    "duration": 1230,
    "start_time": "2023-03-17T08:27:22.062Z"
   },
   {
    "duration": 25,
    "start_time": "2023-03-17T08:27:23.295Z"
   },
   {
    "duration": 21,
    "start_time": "2023-03-17T08:27:23.322Z"
   },
   {
    "duration": 11,
    "start_time": "2023-03-17T08:27:23.345Z"
   },
   {
    "duration": 10,
    "start_time": "2023-03-17T08:27:23.359Z"
   },
   {
    "duration": 9,
    "start_time": "2023-03-17T08:27:23.370Z"
   },
   {
    "duration": 14,
    "start_time": "2023-03-17T08:27:23.380Z"
   },
   {
    "duration": 58,
    "start_time": "2023-03-17T08:27:23.396Z"
   },
   {
    "duration": 15,
    "start_time": "2023-03-17T08:27:23.455Z"
   },
   {
    "duration": 8,
    "start_time": "2023-03-17T08:27:23.471Z"
   },
   {
    "duration": 14,
    "start_time": "2023-03-17T08:27:23.480Z"
   },
   {
    "duration": 31,
    "start_time": "2023-03-17T08:27:23.495Z"
   },
   {
    "duration": 16,
    "start_time": "2023-03-17T08:27:23.527Z"
   },
   {
    "duration": 5,
    "start_time": "2023-03-17T08:27:23.548Z"
   },
   {
    "duration": 8,
    "start_time": "2023-03-17T08:27:23.554Z"
   },
   {
    "duration": 47,
    "start_time": "2023-03-17T08:27:23.564Z"
   },
   {
    "duration": 25,
    "start_time": "2023-03-17T08:27:23.623Z"
   },
   {
    "duration": 20,
    "start_time": "2023-03-17T08:27:23.650Z"
   },
   {
    "duration": 13,
    "start_time": "2023-03-17T08:27:23.672Z"
   },
   {
    "duration": 48,
    "start_time": "2023-03-17T08:27:23.687Z"
   },
   {
    "duration": 24,
    "start_time": "2023-03-17T08:27:23.738Z"
   },
   {
    "duration": 11,
    "start_time": "2023-03-17T08:27:23.764Z"
   },
   {
    "duration": 13,
    "start_time": "2023-03-17T08:27:23.776Z"
   },
   {
    "duration": 63,
    "start_time": "2023-03-17T08:27:23.791Z"
   },
   {
    "duration": 25,
    "start_time": "2023-03-17T08:27:23.856Z"
   },
   {
    "duration": 13,
    "start_time": "2023-03-17T08:27:23.882Z"
   },
   {
    "duration": 45,
    "start_time": "2023-03-17T08:27:23.897Z"
   },
   {
    "duration": 50,
    "start_time": "2023-03-17T08:27:23.950Z"
   },
   {
    "duration": 8,
    "start_time": "2023-03-17T08:27:24.001Z"
   },
   {
    "duration": 63,
    "start_time": "2023-03-17T08:27:24.010Z"
   },
   {
    "duration": 316,
    "start_time": "2023-03-17T08:27:24.075Z"
   },
   {
    "duration": 304,
    "start_time": "2023-03-17T08:27:24.393Z"
   },
   {
    "duration": 455,
    "start_time": "2023-03-17T08:27:24.699Z"
   },
   {
    "duration": 316,
    "start_time": "2023-03-17T08:27:25.159Z"
   },
   {
    "duration": 311,
    "start_time": "2023-03-17T08:27:25.477Z"
   },
   {
    "duration": 6,
    "start_time": "2023-03-17T08:27:25.791Z"
   },
   {
    "duration": 23,
    "start_time": "2023-03-17T08:27:25.798Z"
   },
   {
    "duration": 23,
    "start_time": "2023-03-17T08:27:25.823Z"
   },
   {
    "duration": 159,
    "start_time": "2023-03-17T08:27:25.847Z"
   },
   {
    "duration": 6,
    "start_time": "2023-03-17T08:27:26.007Z"
   },
   {
    "duration": 12,
    "start_time": "2023-03-17T08:27:26.016Z"
   },
   {
    "duration": 157,
    "start_time": "2023-03-17T08:27:26.039Z"
   },
   {
    "duration": 5,
    "start_time": "2023-03-17T08:27:26.197Z"
   },
   {
    "duration": 158,
    "start_time": "2023-03-17T08:27:26.203Z"
   },
   {
    "duration": 5,
    "start_time": "2023-03-17T08:27:26.363Z"
   },
   {
    "duration": 11,
    "start_time": "2023-03-17T08:27:26.369Z"
   },
   {
    "duration": 10,
    "start_time": "2023-03-17T08:27:26.382Z"
   },
   {
    "duration": 39,
    "start_time": "2023-03-17T08:27:26.393Z"
   },
   {
    "duration": 14,
    "start_time": "2023-03-17T08:27:26.434Z"
   },
   {
    "duration": 10,
    "start_time": "2023-03-17T08:27:26.449Z"
   },
   {
    "duration": 12,
    "start_time": "2023-03-17T08:27:26.460Z"
   },
   {
    "duration": 25,
    "start_time": "2023-03-17T08:27:26.474Z"
   },
   {
    "duration": 5,
    "start_time": "2023-03-17T08:27:26.500Z"
   },
   {
    "duration": 25,
    "start_time": "2023-03-17T08:27:26.527Z"
   },
   {
    "duration": 9,
    "start_time": "2023-03-17T08:27:26.554Z"
   },
   {
    "duration": 7,
    "start_time": "2023-03-17T08:27:26.565Z"
   },
   {
    "duration": 11,
    "start_time": "2023-03-17T08:27:26.573Z"
   },
   {
    "duration": 8,
    "start_time": "2023-03-17T08:27:26.586Z"
   },
   {
    "duration": 5,
    "start_time": "2023-03-17T08:27:26.596Z"
   },
   {
    "duration": 35,
    "start_time": "2023-03-17T08:27:26.603Z"
   },
   {
    "duration": 22,
    "start_time": "2023-03-17T08:27:26.641Z"
   },
   {
    "duration": 21,
    "start_time": "2023-03-17T08:27:26.665Z"
   },
   {
    "duration": 5,
    "start_time": "2023-03-17T08:27:26.687Z"
   },
   {
    "duration": 10,
    "start_time": "2023-03-17T08:27:26.694Z"
   },
   {
    "duration": 33,
    "start_time": "2023-03-17T08:27:26.706Z"
   },
   {
    "duration": 3,
    "start_time": "2023-03-17T08:31:56.906Z"
   },
   {
    "duration": 10,
    "start_time": "2023-03-17T08:32:11.486Z"
   },
   {
    "duration": 1204,
    "start_time": "2023-03-17T08:32:21.592Z"
   },
   {
    "duration": 27,
    "start_time": "2023-03-17T08:32:22.798Z"
   },
   {
    "duration": 29,
    "start_time": "2023-03-17T08:32:22.827Z"
   },
   {
    "duration": 10,
    "start_time": "2023-03-17T08:32:22.857Z"
   },
   {
    "duration": 23,
    "start_time": "2023-03-17T08:32:22.869Z"
   },
   {
    "duration": 7,
    "start_time": "2023-03-17T08:32:22.894Z"
   },
   {
    "duration": 11,
    "start_time": "2023-03-17T08:32:22.903Z"
   },
   {
    "duration": 55,
    "start_time": "2023-03-17T08:32:22.915Z"
   },
   {
    "duration": 15,
    "start_time": "2023-03-17T08:32:22.972Z"
   },
   {
    "duration": 8,
    "start_time": "2023-03-17T08:32:22.989Z"
   },
   {
    "duration": 7,
    "start_time": "2023-03-17T08:32:22.999Z"
   },
   {
    "duration": 10,
    "start_time": "2023-03-17T08:32:23.007Z"
   },
   {
    "duration": 24,
    "start_time": "2023-03-17T08:32:23.019Z"
   },
   {
    "duration": 5,
    "start_time": "2023-03-17T08:32:23.047Z"
   },
   {
    "duration": 13,
    "start_time": "2023-03-17T08:32:23.054Z"
   },
   {
    "duration": 47,
    "start_time": "2023-03-17T08:32:23.068Z"
   },
   {
    "duration": 36,
    "start_time": "2023-03-17T08:32:23.116Z"
   },
   {
    "duration": 6,
    "start_time": "2023-03-17T08:32:23.154Z"
   },
   {
    "duration": 13,
    "start_time": "2023-03-17T08:32:23.161Z"
   },
   {
    "duration": 55,
    "start_time": "2023-03-17T08:32:23.176Z"
   },
   {
    "duration": 15,
    "start_time": "2023-03-17T08:32:23.234Z"
   },
   {
    "duration": 13,
    "start_time": "2023-03-17T08:32:23.253Z"
   },
   {
    "duration": 10,
    "start_time": "2023-03-17T08:32:23.269Z"
   },
   {
    "duration": 83,
    "start_time": "2023-03-17T08:32:23.281Z"
   },
   {
    "duration": 8,
    "start_time": "2023-03-17T08:32:23.365Z"
   },
   {
    "duration": 15,
    "start_time": "2023-03-17T08:32:23.375Z"
   },
   {
    "duration": 20,
    "start_time": "2023-03-17T08:32:23.391Z"
   },
   {
    "duration": 62,
    "start_time": "2023-03-17T08:32:23.413Z"
   },
   {
    "duration": 7,
    "start_time": "2023-03-17T08:32:23.477Z"
   },
   {
    "duration": 65,
    "start_time": "2023-03-17T08:32:23.485Z"
   },
   {
    "duration": 323,
    "start_time": "2023-03-17T08:32:23.554Z"
   },
   {
    "duration": 302,
    "start_time": "2023-03-17T08:32:23.879Z"
   },
   {
    "duration": 420,
    "start_time": "2023-03-17T08:32:24.183Z"
   },
   {
    "duration": 372,
    "start_time": "2023-03-17T08:32:24.605Z"
   },
   {
    "duration": 337,
    "start_time": "2023-03-17T08:32:24.979Z"
   },
   {
    "duration": 10,
    "start_time": "2023-03-17T08:32:25.318Z"
   },
   {
    "duration": 38,
    "start_time": "2023-03-17T08:32:25.329Z"
   },
   {
    "duration": 18,
    "start_time": "2023-03-17T08:32:25.369Z"
   },
   {
    "duration": 197,
    "start_time": "2023-03-17T08:32:25.389Z"
   },
   {
    "duration": 6,
    "start_time": "2023-03-17T08:32:25.587Z"
   },
   {
    "duration": 38,
    "start_time": "2023-03-17T08:32:25.596Z"
   },
   {
    "duration": 165,
    "start_time": "2023-03-17T08:32:25.643Z"
   },
   {
    "duration": 5,
    "start_time": "2023-03-17T08:32:25.809Z"
   },
   {
    "duration": 193,
    "start_time": "2023-03-17T08:32:25.816Z"
   },
   {
    "duration": 5,
    "start_time": "2023-03-17T08:32:26.010Z"
   },
   {
    "duration": 36,
    "start_time": "2023-03-17T08:32:26.016Z"
   },
   {
    "duration": 24,
    "start_time": "2023-03-17T08:32:26.054Z"
   },
   {
    "duration": 27,
    "start_time": "2023-03-17T08:32:26.080Z"
   },
   {
    "duration": 20,
    "start_time": "2023-03-17T08:32:26.110Z"
   },
   {
    "duration": 34,
    "start_time": "2023-03-17T08:32:26.134Z"
   },
   {
    "duration": 10,
    "start_time": "2023-03-17T08:32:26.170Z"
   },
   {
    "duration": 62,
    "start_time": "2023-03-17T08:32:26.183Z"
   },
   {
    "duration": 5,
    "start_time": "2023-03-17T08:32:26.253Z"
   },
   {
    "duration": 21,
    "start_time": "2023-03-17T08:32:26.259Z"
   },
   {
    "duration": 10,
    "start_time": "2023-03-17T08:32:26.282Z"
   },
   {
    "duration": 7,
    "start_time": "2023-03-17T08:32:26.294Z"
   },
   {
    "duration": 8,
    "start_time": "2023-03-17T08:32:26.303Z"
   },
   {
    "duration": 41,
    "start_time": "2023-03-17T08:32:26.314Z"
   },
   {
    "duration": 5,
    "start_time": "2023-03-17T08:32:26.357Z"
   },
   {
    "duration": 16,
    "start_time": "2023-03-17T08:32:26.364Z"
   },
   {
    "duration": 10,
    "start_time": "2023-03-17T08:32:26.382Z"
   },
   {
    "duration": 21,
    "start_time": "2023-03-17T08:32:26.393Z"
   },
   {
    "duration": 20,
    "start_time": "2023-03-17T08:32:26.415Z"
   },
   {
    "duration": 22,
    "start_time": "2023-03-17T08:32:26.436Z"
   },
   {
    "duration": 13,
    "start_time": "2023-03-17T08:32:26.461Z"
   },
   {
    "duration": 1137,
    "start_time": "2023-03-17T09:56:10.755Z"
   },
   {
    "duration": 27,
    "start_time": "2023-03-17T09:56:11.893Z"
   },
   {
    "duration": 29,
    "start_time": "2023-03-17T09:56:11.923Z"
   },
   {
    "duration": 6,
    "start_time": "2023-03-17T09:56:11.954Z"
   },
   {
    "duration": 16,
    "start_time": "2023-03-17T09:56:11.962Z"
   },
   {
    "duration": 4,
    "start_time": "2023-03-17T09:56:11.980Z"
   },
   {
    "duration": 11,
    "start_time": "2023-03-17T09:56:11.985Z"
   },
   {
    "duration": 51,
    "start_time": "2023-03-17T09:56:11.998Z"
   },
   {
    "duration": 15,
    "start_time": "2023-03-17T09:56:12.051Z"
   },
   {
    "duration": 8,
    "start_time": "2023-03-17T09:56:12.068Z"
   },
   {
    "duration": 6,
    "start_time": "2023-03-17T09:56:12.077Z"
   },
   {
    "duration": 10,
    "start_time": "2023-03-17T09:56:12.084Z"
   },
   {
    "duration": 7,
    "start_time": "2023-03-17T09:56:12.095Z"
   },
   {
    "duration": 8,
    "start_time": "2023-03-17T09:56:12.103Z"
   },
   {
    "duration": 6,
    "start_time": "2023-03-17T09:56:12.112Z"
   },
   {
    "duration": 7,
    "start_time": "2023-03-17T09:56:12.119Z"
   },
   {
    "duration": 17,
    "start_time": "2023-03-17T09:56:12.128Z"
   },
   {
    "duration": 46,
    "start_time": "2023-03-17T09:56:12.148Z"
   },
   {
    "duration": 10,
    "start_time": "2023-03-17T09:56:12.195Z"
   },
   {
    "duration": 4,
    "start_time": "2023-03-17T09:56:12.207Z"
   },
   {
    "duration": 25,
    "start_time": "2023-03-17T09:56:12.212Z"
   },
   {
    "duration": 48,
    "start_time": "2023-03-17T09:56:12.239Z"
   },
   {
    "duration": 7,
    "start_time": "2023-03-17T09:56:12.289Z"
   },
   {
    "duration": 9,
    "start_time": "2023-03-17T09:56:12.297Z"
   },
   {
    "duration": 30,
    "start_time": "2023-03-17T09:56:12.307Z"
   },
   {
    "duration": 45,
    "start_time": "2023-03-17T09:56:12.339Z"
   },
   {
    "duration": 8,
    "start_time": "2023-03-17T09:56:12.386Z"
   },
   {
    "duration": 9,
    "start_time": "2023-03-17T09:56:12.398Z"
   },
   {
    "duration": 6,
    "start_time": "2023-03-17T09:56:12.409Z"
   },
   {
    "duration": 48,
    "start_time": "2023-03-17T09:56:12.423Z"
   },
   {
    "duration": 8,
    "start_time": "2023-03-17T09:56:12.473Z"
   },
   {
    "duration": 56,
    "start_time": "2023-03-17T09:56:12.482Z"
   },
   {
    "duration": 312,
    "start_time": "2023-03-17T09:56:12.546Z"
   },
   {
    "duration": 309,
    "start_time": "2023-03-17T09:56:12.860Z"
   },
   {
    "duration": 414,
    "start_time": "2023-03-17T09:56:13.171Z"
   },
   {
    "duration": 303,
    "start_time": "2023-03-17T09:56:13.588Z"
   },
   {
    "duration": 298,
    "start_time": "2023-03-17T09:56:13.893Z"
   },
   {
    "duration": 6,
    "start_time": "2023-03-17T09:56:14.193Z"
   },
   {
    "duration": 9,
    "start_time": "2023-03-17T09:56:14.201Z"
   },
   {
    "duration": 17,
    "start_time": "2023-03-17T09:56:14.211Z"
   },
   {
    "duration": 140,
    "start_time": "2023-03-17T09:56:14.230Z"
   },
   {
    "duration": 5,
    "start_time": "2023-03-17T09:56:14.372Z"
   },
   {
    "duration": 3,
    "start_time": "2023-03-17T09:56:14.379Z"
   },
   {
    "duration": 161,
    "start_time": "2023-03-17T09:56:14.384Z"
   },
   {
    "duration": 5,
    "start_time": "2023-03-17T09:56:14.546Z"
   },
   {
    "duration": 140,
    "start_time": "2023-03-17T09:56:14.552Z"
   },
   {
    "duration": 6,
    "start_time": "2023-03-17T09:56:14.694Z"
   },
   {
    "duration": 28,
    "start_time": "2023-03-17T09:56:14.702Z"
   },
   {
    "duration": 19,
    "start_time": "2023-03-17T09:56:14.737Z"
   },
   {
    "duration": 17,
    "start_time": "2023-03-17T09:56:14.758Z"
   },
   {
    "duration": 15,
    "start_time": "2023-03-17T09:56:14.777Z"
   },
   {
    "duration": 12,
    "start_time": "2023-03-17T09:56:14.794Z"
   },
   {
    "duration": 8,
    "start_time": "2023-03-17T09:56:14.807Z"
   },
   {
    "duration": 52,
    "start_time": "2023-03-17T09:56:14.817Z"
   },
   {
    "duration": 5,
    "start_time": "2023-03-17T09:56:14.871Z"
   },
   {
    "duration": 11,
    "start_time": "2023-03-17T09:56:14.877Z"
   },
   {
    "duration": 29,
    "start_time": "2023-03-17T09:56:14.889Z"
   },
   {
    "duration": 18,
    "start_time": "2023-03-17T09:56:14.919Z"
   },
   {
    "duration": 8,
    "start_time": "2023-03-17T09:56:14.939Z"
   },
   {
    "duration": 9,
    "start_time": "2023-03-17T09:56:14.949Z"
   },
   {
    "duration": 6,
    "start_time": "2023-03-17T09:56:14.960Z"
   },
   {
    "duration": 8,
    "start_time": "2023-03-17T09:56:14.968Z"
   },
   {
    "duration": 9,
    "start_time": "2023-03-17T09:56:14.977Z"
   },
   {
    "duration": 23,
    "start_time": "2023-03-17T09:56:14.987Z"
   },
   {
    "duration": 23,
    "start_time": "2023-03-17T09:56:15.012Z"
   },
   {
    "duration": 33,
    "start_time": "2023-03-17T09:56:15.036Z"
   },
   {
    "duration": 11,
    "start_time": "2023-03-17T09:56:15.070Z"
   },
   {
    "duration": 7,
    "start_time": "2023-03-17T10:00:53.055Z"
   },
   {
    "duration": 7,
    "start_time": "2023-03-17T10:00:55.274Z"
   },
   {
    "duration": 12,
    "start_time": "2023-03-17T10:01:16.703Z"
   },
   {
    "duration": 7,
    "start_time": "2023-03-17T10:01:40.990Z"
   },
   {
    "duration": 1129,
    "start_time": "2023-03-17T10:06:33.829Z"
   },
   {
    "duration": 27,
    "start_time": "2023-03-17T10:06:34.961Z"
   },
   {
    "duration": 16,
    "start_time": "2023-03-17T10:06:34.990Z"
   },
   {
    "duration": 7,
    "start_time": "2023-03-17T10:06:35.008Z"
   },
   {
    "duration": 28,
    "start_time": "2023-03-17T10:06:35.017Z"
   },
   {
    "duration": 9,
    "start_time": "2023-03-17T10:06:35.048Z"
   },
   {
    "duration": 20,
    "start_time": "2023-03-17T10:06:35.059Z"
   },
   {
    "duration": 42,
    "start_time": "2023-03-17T10:06:35.081Z"
   },
   {
    "duration": 16,
    "start_time": "2023-03-17T10:06:35.125Z"
   },
   {
    "duration": 10,
    "start_time": "2023-03-17T10:06:35.144Z"
   },
   {
    "duration": 11,
    "start_time": "2023-03-17T10:06:35.155Z"
   },
   {
    "duration": 23,
    "start_time": "2023-03-17T10:06:35.168Z"
   },
   {
    "duration": 21,
    "start_time": "2023-03-17T10:06:35.192Z"
   },
   {
    "duration": 17,
    "start_time": "2023-03-17T10:06:35.215Z"
   },
   {
    "duration": 19,
    "start_time": "2023-03-17T10:06:35.234Z"
   },
   {
    "duration": 13,
    "start_time": "2023-03-17T10:06:35.255Z"
   },
   {
    "duration": 6,
    "start_time": "2023-03-17T10:06:35.269Z"
   },
   {
    "duration": 8,
    "start_time": "2023-03-17T10:06:35.276Z"
   },
   {
    "duration": 32,
    "start_time": "2023-03-17T10:06:35.285Z"
   },
   {
    "duration": 44,
    "start_time": "2023-03-17T10:06:35.318Z"
   },
   {
    "duration": 15,
    "start_time": "2023-03-17T10:06:35.364Z"
   },
   {
    "duration": 31,
    "start_time": "2023-03-17T10:06:35.381Z"
   },
   {
    "duration": 30,
    "start_time": "2023-03-17T10:06:35.415Z"
   },
   {
    "duration": 67,
    "start_time": "2023-03-17T10:06:35.446Z"
   },
   {
    "duration": 19,
    "start_time": "2023-03-17T10:06:35.514Z"
   },
   {
    "duration": 17,
    "start_time": "2023-03-17T10:06:35.535Z"
   },
   {
    "duration": 8,
    "start_time": "2023-03-17T10:06:35.554Z"
   },
   {
    "duration": 81,
    "start_time": "2023-03-17T10:06:35.567Z"
   },
   {
    "duration": 11,
    "start_time": "2023-03-17T10:06:35.650Z"
   },
   {
    "duration": 33,
    "start_time": "2023-03-17T10:06:35.664Z"
   },
   {
    "duration": 39,
    "start_time": "2023-03-17T10:06:35.700Z"
   },
   {
    "duration": 69,
    "start_time": "2023-03-17T10:06:35.741Z"
   },
   {
    "duration": 14,
    "start_time": "2023-03-17T10:06:35.812Z"
   },
   {
    "duration": 34,
    "start_time": "2023-03-17T10:06:35.828Z"
   },
   {
    "duration": 300,
    "start_time": "2023-03-17T10:06:35.865Z"
   },
   {
    "duration": 289,
    "start_time": "2023-03-17T10:06:36.166Z"
   },
   {
    "duration": 432,
    "start_time": "2023-03-17T10:06:36.457Z"
   },
   {
    "duration": 316,
    "start_time": "2023-03-17T10:06:36.891Z"
   },
   {
    "duration": 280,
    "start_time": "2023-03-17T10:06:37.209Z"
   },
   {
    "duration": 7,
    "start_time": "2023-03-17T10:06:37.491Z"
   },
   {
    "duration": 24,
    "start_time": "2023-03-17T10:06:37.500Z"
   },
   {
    "duration": 5,
    "start_time": "2023-03-17T10:06:37.526Z"
   },
   {
    "duration": 140,
    "start_time": "2023-03-17T10:06:37.533Z"
   },
   {
    "duration": 6,
    "start_time": "2023-03-17T10:06:37.675Z"
   },
   {
    "duration": 5,
    "start_time": "2023-03-17T10:06:37.683Z"
   },
   {
    "duration": 157,
    "start_time": "2023-03-17T10:06:37.689Z"
   },
   {
    "duration": 5,
    "start_time": "2023-03-17T10:06:37.848Z"
   },
   {
    "duration": 146,
    "start_time": "2023-03-17T10:06:37.855Z"
   },
   {
    "duration": 6,
    "start_time": "2023-03-17T10:06:38.003Z"
   },
   {
    "duration": 16,
    "start_time": "2023-03-17T10:06:38.011Z"
   },
   {
    "duration": 7,
    "start_time": "2023-03-17T10:06:38.029Z"
   },
   {
    "duration": 22,
    "start_time": "2023-03-17T10:06:38.038Z"
   },
   {
    "duration": 8,
    "start_time": "2023-03-17T10:06:38.062Z"
   },
   {
    "duration": 9,
    "start_time": "2023-03-17T10:06:38.072Z"
   },
   {
    "duration": 8,
    "start_time": "2023-03-17T10:06:38.083Z"
   },
   {
    "duration": 58,
    "start_time": "2023-03-17T10:06:38.093Z"
   },
   {
    "duration": 7,
    "start_time": "2023-03-17T10:06:38.153Z"
   },
   {
    "duration": 9,
    "start_time": "2023-03-17T10:06:38.162Z"
   },
   {
    "duration": 6,
    "start_time": "2023-03-17T10:06:38.173Z"
   },
   {
    "duration": 10,
    "start_time": "2023-03-17T10:06:38.181Z"
   },
   {
    "duration": 32,
    "start_time": "2023-03-17T10:06:38.192Z"
   },
   {
    "duration": 7,
    "start_time": "2023-03-17T10:06:38.226Z"
   },
   {
    "duration": 4,
    "start_time": "2023-03-17T10:06:38.235Z"
   },
   {
    "duration": 8,
    "start_time": "2023-03-17T10:06:38.241Z"
   },
   {
    "duration": 12,
    "start_time": "2023-03-17T10:06:38.252Z"
   },
   {
    "duration": 73,
    "start_time": "2023-03-17T10:06:38.266Z"
   },
   {
    "duration": 6,
    "start_time": "2023-03-17T10:06:38.341Z"
   },
   {
    "duration": 27,
    "start_time": "2023-03-17T10:06:38.349Z"
   },
   {
    "duration": 11,
    "start_time": "2023-03-17T10:06:38.379Z"
   },
   {
    "duration": 4,
    "start_time": "2023-03-17T10:07:46.102Z"
   },
   {
    "duration": 5,
    "start_time": "2023-03-17T10:07:52.108Z"
   },
   {
    "duration": 1150,
    "start_time": "2023-03-17T10:09:24.427Z"
   },
   {
    "duration": 26,
    "start_time": "2023-03-17T10:09:25.579Z"
   },
   {
    "duration": 12,
    "start_time": "2023-03-17T10:09:25.607Z"
   },
   {
    "duration": 5,
    "start_time": "2023-03-17T10:09:25.621Z"
   },
   {
    "duration": 9,
    "start_time": "2023-03-17T10:09:25.629Z"
   },
   {
    "duration": 7,
    "start_time": "2023-03-17T10:09:25.640Z"
   },
   {
    "duration": 25,
    "start_time": "2023-03-17T10:09:25.648Z"
   },
   {
    "duration": 48,
    "start_time": "2023-03-17T10:09:25.675Z"
   },
   {
    "duration": 15,
    "start_time": "2023-03-17T10:09:25.725Z"
   },
   {
    "duration": 9,
    "start_time": "2023-03-17T10:09:25.741Z"
   },
   {
    "duration": 7,
    "start_time": "2023-03-17T10:09:25.752Z"
   },
   {
    "duration": 10,
    "start_time": "2023-03-17T10:09:25.761Z"
   },
   {
    "duration": 14,
    "start_time": "2023-03-17T10:09:25.773Z"
   },
   {
    "duration": 13,
    "start_time": "2023-03-17T10:09:25.791Z"
   },
   {
    "duration": 22,
    "start_time": "2023-03-17T10:09:25.805Z"
   },
   {
    "duration": 7,
    "start_time": "2023-03-17T10:09:25.829Z"
   },
   {
    "duration": 10,
    "start_time": "2023-03-17T10:09:25.837Z"
   },
   {
    "duration": 11,
    "start_time": "2023-03-17T10:09:25.849Z"
   },
   {
    "duration": 13,
    "start_time": "2023-03-17T10:09:25.862Z"
   },
   {
    "duration": 12,
    "start_time": "2023-03-17T10:09:25.876Z"
   },
   {
    "duration": 15,
    "start_time": "2023-03-17T10:09:25.889Z"
   },
   {
    "duration": 20,
    "start_time": "2023-03-17T10:09:25.906Z"
   },
   {
    "duration": 45,
    "start_time": "2023-03-17T10:09:25.927Z"
   },
   {
    "duration": 7,
    "start_time": "2023-03-17T10:09:25.974Z"
   },
   {
    "duration": 11,
    "start_time": "2023-03-17T10:09:25.982Z"
   },
   {
    "duration": 29,
    "start_time": "2023-03-17T10:09:25.995Z"
   },
   {
    "duration": 62,
    "start_time": "2023-03-17T10:09:26.026Z"
   },
   {
    "duration": 21,
    "start_time": "2023-03-17T10:09:26.090Z"
   },
   {
    "duration": 10,
    "start_time": "2023-03-17T10:09:26.113Z"
   },
   {
    "duration": 12,
    "start_time": "2023-03-17T10:09:26.125Z"
   },
   {
    "duration": 61,
    "start_time": "2023-03-17T10:09:26.139Z"
   },
   {
    "duration": 37,
    "start_time": "2023-03-17T10:09:26.202Z"
   },
   {
    "duration": 40,
    "start_time": "2023-03-17T10:09:26.240Z"
   },
   {
    "duration": 20,
    "start_time": "2023-03-17T10:09:26.282Z"
   },
   {
    "duration": 59,
    "start_time": "2023-03-17T10:09:26.304Z"
   },
   {
    "duration": 43,
    "start_time": "2023-03-17T10:09:26.365Z"
   },
   {
    "duration": 40,
    "start_time": "2023-03-17T10:09:26.410Z"
   },
   {
    "duration": 280,
    "start_time": "2023-03-17T10:09:26.452Z"
   },
   {
    "duration": 294,
    "start_time": "2023-03-17T10:09:26.733Z"
   },
   {
    "duration": 373,
    "start_time": "2023-03-17T10:09:27.029Z"
   },
   {
    "duration": 284,
    "start_time": "2023-03-17T10:09:27.408Z"
   },
   {
    "duration": 266,
    "start_time": "2023-03-17T10:09:27.694Z"
   },
   {
    "duration": 7,
    "start_time": "2023-03-17T10:09:27.962Z"
   },
   {
    "duration": 10,
    "start_time": "2023-03-17T10:09:27.971Z"
   },
   {
    "duration": 4,
    "start_time": "2023-03-17T10:09:27.983Z"
   },
   {
    "duration": 164,
    "start_time": "2023-03-17T10:09:27.989Z"
   },
   {
    "duration": 4,
    "start_time": "2023-03-17T10:09:28.155Z"
   },
   {
    "duration": 8,
    "start_time": "2023-03-17T10:09:28.161Z"
   },
   {
    "duration": 154,
    "start_time": "2023-03-17T10:09:28.171Z"
   },
   {
    "duration": 4,
    "start_time": "2023-03-17T10:09:28.328Z"
   },
   {
    "duration": 139,
    "start_time": "2023-03-17T10:09:28.334Z"
   },
   {
    "duration": 6,
    "start_time": "2023-03-17T10:09:28.475Z"
   },
   {
    "duration": 26,
    "start_time": "2023-03-17T10:09:28.482Z"
   },
   {
    "duration": 35,
    "start_time": "2023-03-17T10:09:28.510Z"
   },
   {
    "duration": 21,
    "start_time": "2023-03-17T10:09:28.547Z"
   },
   {
    "duration": 9,
    "start_time": "2023-03-17T10:09:28.569Z"
   },
   {
    "duration": 13,
    "start_time": "2023-03-17T10:09:28.580Z"
   },
   {
    "duration": 6,
    "start_time": "2023-03-17T10:09:28.595Z"
   },
   {
    "duration": 22,
    "start_time": "2023-03-17T10:09:28.603Z"
   },
   {
    "duration": 5,
    "start_time": "2023-03-17T10:09:28.626Z"
   },
   {
    "duration": 10,
    "start_time": "2023-03-17T10:09:28.633Z"
   },
   {
    "duration": 9,
    "start_time": "2023-03-17T10:09:28.644Z"
   },
   {
    "duration": 7,
    "start_time": "2023-03-17T10:09:28.654Z"
   },
   {
    "duration": 6,
    "start_time": "2023-03-17T10:09:28.662Z"
   },
   {
    "duration": 14,
    "start_time": "2023-03-17T10:09:28.670Z"
   },
   {
    "duration": 6,
    "start_time": "2023-03-17T10:09:28.685Z"
   },
   {
    "duration": 36,
    "start_time": "2023-03-17T10:09:28.692Z"
   },
   {
    "duration": 9,
    "start_time": "2023-03-17T10:09:28.730Z"
   },
   {
    "duration": 25,
    "start_time": "2023-03-17T10:09:28.741Z"
   },
   {
    "duration": 5,
    "start_time": "2023-03-17T10:09:28.768Z"
   },
   {
    "duration": 13,
    "start_time": "2023-03-17T10:09:28.774Z"
   },
   {
    "duration": 36,
    "start_time": "2023-03-17T10:09:28.789Z"
   },
   {
    "duration": 5,
    "start_time": "2023-03-17T10:10:08.022Z"
   },
   {
    "duration": 6,
    "start_time": "2023-03-17T10:10:45.424Z"
   },
   {
    "duration": 5,
    "start_time": "2023-03-17T10:10:49.785Z"
   },
   {
    "duration": 102,
    "start_time": "2023-03-17T10:11:07.357Z"
   },
   {
    "duration": 8,
    "start_time": "2023-03-17T10:11:13.383Z"
   },
   {
    "duration": 7,
    "start_time": "2023-03-17T10:12:15.894Z"
   },
   {
    "duration": 9,
    "start_time": "2023-03-17T10:14:28.383Z"
   },
   {
    "duration": 7,
    "start_time": "2023-03-17T10:14:34.550Z"
   },
   {
    "duration": 1131,
    "start_time": "2023-03-17T10:14:41.461Z"
   },
   {
    "duration": 27,
    "start_time": "2023-03-17T10:14:42.594Z"
   },
   {
    "duration": 12,
    "start_time": "2023-03-17T10:14:42.623Z"
   },
   {
    "duration": 8,
    "start_time": "2023-03-17T10:14:42.637Z"
   },
   {
    "duration": 15,
    "start_time": "2023-03-17T10:14:42.648Z"
   },
   {
    "duration": 8,
    "start_time": "2023-03-17T10:14:42.665Z"
   },
   {
    "duration": 15,
    "start_time": "2023-03-17T10:14:42.675Z"
   },
   {
    "duration": 39,
    "start_time": "2023-03-17T10:14:42.692Z"
   },
   {
    "duration": 18,
    "start_time": "2023-03-17T10:14:42.733Z"
   },
   {
    "duration": 12,
    "start_time": "2023-03-17T10:14:42.753Z"
   },
   {
    "duration": 16,
    "start_time": "2023-03-17T10:14:42.767Z"
   },
   {
    "duration": 11,
    "start_time": "2023-03-17T10:14:42.785Z"
   },
   {
    "duration": 10,
    "start_time": "2023-03-17T10:14:42.798Z"
   },
   {
    "duration": 21,
    "start_time": "2023-03-17T10:14:42.812Z"
   },
   {
    "duration": 16,
    "start_time": "2023-03-17T10:14:42.835Z"
   },
   {
    "duration": 25,
    "start_time": "2023-03-17T10:14:42.853Z"
   },
   {
    "duration": 12,
    "start_time": "2023-03-17T10:14:42.880Z"
   },
   {
    "duration": 9,
    "start_time": "2023-03-17T10:14:42.894Z"
   },
   {
    "duration": 6,
    "start_time": "2023-03-17T10:14:42.904Z"
   },
   {
    "duration": 15,
    "start_time": "2023-03-17T10:14:42.912Z"
   },
   {
    "duration": 16,
    "start_time": "2023-03-17T10:14:42.929Z"
   },
   {
    "duration": 10,
    "start_time": "2023-03-17T10:14:42.947Z"
   },
   {
    "duration": 17,
    "start_time": "2023-03-17T10:14:42.959Z"
   },
   {
    "duration": 60,
    "start_time": "2023-03-17T10:14:42.978Z"
   },
   {
    "duration": 8,
    "start_time": "2023-03-17T10:14:43.040Z"
   },
   {
    "duration": 15,
    "start_time": "2023-03-17T10:14:43.049Z"
   },
   {
    "duration": 43,
    "start_time": "2023-03-17T10:14:43.066Z"
   },
   {
    "duration": 51,
    "start_time": "2023-03-17T10:14:43.111Z"
   },
   {
    "duration": 21,
    "start_time": "2023-03-17T10:14:43.164Z"
   },
   {
    "duration": 34,
    "start_time": "2023-03-17T10:14:43.186Z"
   },
   {
    "duration": 14,
    "start_time": "2023-03-17T10:14:43.223Z"
   },
   {
    "duration": 50,
    "start_time": "2023-03-17T10:14:43.238Z"
   },
   {
    "duration": 27,
    "start_time": "2023-03-17T10:14:43.290Z"
   },
   {
    "duration": 10,
    "start_time": "2023-03-17T10:14:43.319Z"
   },
   {
    "duration": 13,
    "start_time": "2023-03-17T10:14:43.332Z"
   },
   {
    "duration": 66,
    "start_time": "2023-03-17T10:14:43.348Z"
   },
   {
    "duration": 24,
    "start_time": "2023-03-17T10:14:43.416Z"
   },
   {
    "duration": 47,
    "start_time": "2023-03-17T10:14:43.442Z"
   },
   {
    "duration": 297,
    "start_time": "2023-03-17T10:14:43.490Z"
   },
   {
    "duration": 284,
    "start_time": "2023-03-17T10:14:43.789Z"
   },
   {
    "duration": 399,
    "start_time": "2023-03-17T10:14:44.077Z"
   },
   {
    "duration": 296,
    "start_time": "2023-03-17T10:14:44.478Z"
   },
   {
    "duration": 277,
    "start_time": "2023-03-17T10:14:44.775Z"
   },
   {
    "duration": 7,
    "start_time": "2023-03-17T10:14:45.054Z"
   },
   {
    "duration": 28,
    "start_time": "2023-03-17T10:14:45.062Z"
   },
   {
    "duration": 21,
    "start_time": "2023-03-17T10:14:45.092Z"
   },
   {
    "duration": 138,
    "start_time": "2023-03-17T10:14:45.115Z"
   },
   {
    "duration": 5,
    "start_time": "2023-03-17T10:14:45.255Z"
   },
   {
    "duration": 14,
    "start_time": "2023-03-17T10:14:45.262Z"
   },
   {
    "duration": 177,
    "start_time": "2023-03-17T10:14:45.277Z"
   },
   {
    "duration": 6,
    "start_time": "2023-03-17T10:14:45.456Z"
   },
   {
    "duration": 177,
    "start_time": "2023-03-17T10:14:45.464Z"
   },
   {
    "duration": 6,
    "start_time": "2023-03-17T10:14:45.643Z"
   },
   {
    "duration": 10,
    "start_time": "2023-03-17T10:14:45.651Z"
   },
   {
    "duration": 11,
    "start_time": "2023-03-17T10:14:45.663Z"
   },
   {
    "duration": 7,
    "start_time": "2023-03-17T10:14:45.676Z"
   },
   {
    "duration": 7,
    "start_time": "2023-03-17T10:14:45.685Z"
   },
   {
    "duration": 33,
    "start_time": "2023-03-17T10:14:45.693Z"
   },
   {
    "duration": 7,
    "start_time": "2023-03-17T10:14:45.728Z"
   },
   {
    "duration": 23,
    "start_time": "2023-03-17T10:14:45.736Z"
   },
   {
    "duration": 6,
    "start_time": "2023-03-17T10:14:45.760Z"
   },
   {
    "duration": 9,
    "start_time": "2023-03-17T10:14:45.768Z"
   },
   {
    "duration": 7,
    "start_time": "2023-03-17T10:14:45.779Z"
   },
   {
    "duration": 7,
    "start_time": "2023-03-17T10:14:45.824Z"
   },
   {
    "duration": 7,
    "start_time": "2023-03-17T10:14:45.833Z"
   },
   {
    "duration": 10,
    "start_time": "2023-03-17T10:14:45.842Z"
   },
   {
    "duration": 6,
    "start_time": "2023-03-17T10:14:45.854Z"
   },
   {
    "duration": 41,
    "start_time": "2023-03-17T10:14:45.862Z"
   },
   {
    "duration": 24,
    "start_time": "2023-03-17T10:14:45.905Z"
   },
   {
    "duration": 22,
    "start_time": "2023-03-17T10:14:45.931Z"
   },
   {
    "duration": 4,
    "start_time": "2023-03-17T10:14:45.955Z"
   },
   {
    "duration": 11,
    "start_time": "2023-03-17T10:14:45.961Z"
   },
   {
    "duration": 8,
    "start_time": "2023-03-17T10:14:45.973Z"
   },
   {
    "duration": 6,
    "start_time": "2023-03-17T10:17:43.149Z"
   },
   {
    "duration": 12,
    "start_time": "2023-03-17T10:18:38.347Z"
   },
   {
    "duration": 6,
    "start_time": "2023-03-17T10:18:48.974Z"
   },
   {
    "duration": 9,
    "start_time": "2023-03-17T10:22:19.681Z"
   },
   {
    "duration": 114,
    "start_time": "2023-03-17T10:22:59.929Z"
   },
   {
    "duration": 6,
    "start_time": "2023-03-17T10:24:12.175Z"
   },
   {
    "duration": 4,
    "start_time": "2023-03-17T10:24:41.251Z"
   },
   {
    "duration": 12,
    "start_time": "2023-03-17T10:25:21.016Z"
   },
   {
    "duration": 6,
    "start_time": "2023-03-17T10:25:25.745Z"
   },
   {
    "duration": 6,
    "start_time": "2023-03-17T10:25:47.656Z"
   },
   {
    "duration": 5,
    "start_time": "2023-03-17T10:26:27.548Z"
   },
   {
    "duration": 8,
    "start_time": "2023-03-17T10:27:50.402Z"
   },
   {
    "duration": 6,
    "start_time": "2023-03-17T10:28:30.789Z"
   },
   {
    "duration": 7,
    "start_time": "2023-03-17T10:28:33.611Z"
   },
   {
    "duration": 13,
    "start_time": "2023-03-17T10:28:42.627Z"
   },
   {
    "duration": 9,
    "start_time": "2023-03-17T10:30:25.304Z"
   },
   {
    "duration": 9,
    "start_time": "2023-03-17T10:31:31.117Z"
   },
   {
    "duration": 7,
    "start_time": "2023-03-17T10:37:32.602Z"
   },
   {
    "duration": 12,
    "start_time": "2023-03-17T10:37:39.246Z"
   },
   {
    "duration": 6,
    "start_time": "2023-03-17T10:38:26.111Z"
   },
   {
    "duration": 9,
    "start_time": "2023-03-17T10:39:31.804Z"
   },
   {
    "duration": 7,
    "start_time": "2023-03-17T10:40:05.016Z"
   },
   {
    "duration": 9,
    "start_time": "2023-03-17T10:40:22.292Z"
   },
   {
    "duration": 6,
    "start_time": "2023-03-17T10:40:50.184Z"
   },
   {
    "duration": 5,
    "start_time": "2023-03-17T10:45:46.216Z"
   },
   {
    "duration": 6,
    "start_time": "2023-03-17T10:45:48.780Z"
   },
   {
    "duration": 5,
    "start_time": "2023-03-17T10:46:12.259Z"
   },
   {
    "duration": 742,
    "start_time": "2023-03-17T10:47:33.671Z"
   },
   {
    "duration": 1134,
    "start_time": "2023-03-17T10:48:04.750Z"
   },
   {
    "duration": 26,
    "start_time": "2023-03-17T10:48:05.886Z"
   },
   {
    "duration": 13,
    "start_time": "2023-03-17T10:48:05.914Z"
   },
   {
    "duration": 13,
    "start_time": "2023-03-17T10:48:05.929Z"
   },
   {
    "duration": 30,
    "start_time": "2023-03-17T10:48:05.944Z"
   },
   {
    "duration": 9,
    "start_time": "2023-03-17T10:48:05.976Z"
   },
   {
    "duration": 11,
    "start_time": "2023-03-17T10:48:05.986Z"
   },
   {
    "duration": 42,
    "start_time": "2023-03-17T10:48:05.999Z"
   },
   {
    "duration": 18,
    "start_time": "2023-03-17T10:48:06.043Z"
   },
   {
    "duration": 8,
    "start_time": "2023-03-17T10:48:06.063Z"
   },
   {
    "duration": 26,
    "start_time": "2023-03-17T10:48:06.073Z"
   },
   {
    "duration": 33,
    "start_time": "2023-03-17T10:48:06.100Z"
   },
   {
    "duration": 9,
    "start_time": "2023-03-17T10:48:06.135Z"
   },
   {
    "duration": 27,
    "start_time": "2023-03-17T10:48:06.147Z"
   },
   {
    "duration": 23,
    "start_time": "2023-03-17T10:48:06.176Z"
   },
   {
    "duration": 11,
    "start_time": "2023-03-17T10:48:06.201Z"
   },
   {
    "duration": 27,
    "start_time": "2023-03-17T10:48:06.213Z"
   },
   {
    "duration": 7,
    "start_time": "2023-03-17T10:48:06.242Z"
   },
   {
    "duration": 6,
    "start_time": "2023-03-17T10:48:06.251Z"
   },
   {
    "duration": 13,
    "start_time": "2023-03-17T10:48:06.259Z"
   },
   {
    "duration": 20,
    "start_time": "2023-03-17T10:48:06.274Z"
   },
   {
    "duration": 13,
    "start_time": "2023-03-17T10:48:06.295Z"
   },
   {
    "duration": 6,
    "start_time": "2023-03-17T10:48:06.309Z"
   },
   {
    "duration": 6,
    "start_time": "2023-03-17T10:48:06.317Z"
   },
   {
    "duration": 6,
    "start_time": "2023-03-17T10:48:06.325Z"
   },
   {
    "duration": 822,
    "start_time": "2023-03-17T10:48:06.332Z"
   },
   {
    "duration": 0,
    "start_time": "2023-03-17T10:48:07.156Z"
   },
   {
    "duration": 0,
    "start_time": "2023-03-17T10:48:07.158Z"
   },
   {
    "duration": 0,
    "start_time": "2023-03-17T10:48:07.159Z"
   },
   {
    "duration": 0,
    "start_time": "2023-03-17T10:48:07.160Z"
   },
   {
    "duration": 0,
    "start_time": "2023-03-17T10:48:07.161Z"
   },
   {
    "duration": 0,
    "start_time": "2023-03-17T10:48:07.163Z"
   },
   {
    "duration": 0,
    "start_time": "2023-03-17T10:48:07.163Z"
   },
   {
    "duration": 0,
    "start_time": "2023-03-17T10:48:07.165Z"
   },
   {
    "duration": 0,
    "start_time": "2023-03-17T10:48:07.166Z"
   },
   {
    "duration": 0,
    "start_time": "2023-03-17T10:48:07.167Z"
   },
   {
    "duration": 0,
    "start_time": "2023-03-17T10:48:07.168Z"
   },
   {
    "duration": 0,
    "start_time": "2023-03-17T10:48:07.169Z"
   },
   {
    "duration": 0,
    "start_time": "2023-03-17T10:48:07.171Z"
   },
   {
    "duration": 0,
    "start_time": "2023-03-17T10:48:07.172Z"
   },
   {
    "duration": 0,
    "start_time": "2023-03-17T10:48:07.173Z"
   },
   {
    "duration": 0,
    "start_time": "2023-03-17T10:48:07.174Z"
   },
   {
    "duration": 0,
    "start_time": "2023-03-17T10:48:07.175Z"
   },
   {
    "duration": 0,
    "start_time": "2023-03-17T10:48:07.176Z"
   },
   {
    "duration": 0,
    "start_time": "2023-03-17T10:48:07.177Z"
   },
   {
    "duration": 0,
    "start_time": "2023-03-17T10:48:07.179Z"
   },
   {
    "duration": 0,
    "start_time": "2023-03-17T10:48:07.180Z"
   },
   {
    "duration": 1,
    "start_time": "2023-03-17T10:48:07.180Z"
   },
   {
    "duration": 1,
    "start_time": "2023-03-17T10:48:07.181Z"
   },
   {
    "duration": 0,
    "start_time": "2023-03-17T10:48:07.183Z"
   },
   {
    "duration": 0,
    "start_time": "2023-03-17T10:48:07.183Z"
   },
   {
    "duration": 0,
    "start_time": "2023-03-17T10:48:07.185Z"
   },
   {
    "duration": 0,
    "start_time": "2023-03-17T10:48:07.185Z"
   },
   {
    "duration": 0,
    "start_time": "2023-03-17T10:48:07.186Z"
   },
   {
    "duration": 0,
    "start_time": "2023-03-17T10:48:07.188Z"
   },
   {
    "duration": 0,
    "start_time": "2023-03-17T10:48:07.189Z"
   },
   {
    "duration": 0,
    "start_time": "2023-03-17T10:48:07.190Z"
   },
   {
    "duration": 0,
    "start_time": "2023-03-17T10:48:07.223Z"
   },
   {
    "duration": 0,
    "start_time": "2023-03-17T10:48:07.224Z"
   },
   {
    "duration": 0,
    "start_time": "2023-03-17T10:48:07.226Z"
   },
   {
    "duration": 0,
    "start_time": "2023-03-17T10:48:07.227Z"
   },
   {
    "duration": 0,
    "start_time": "2023-03-17T10:48:07.228Z"
   },
   {
    "duration": 0,
    "start_time": "2023-03-17T10:48:07.230Z"
   },
   {
    "duration": 0,
    "start_time": "2023-03-17T10:48:07.231Z"
   },
   {
    "duration": 0,
    "start_time": "2023-03-17T10:48:07.232Z"
   },
   {
    "duration": 0,
    "start_time": "2023-03-17T10:48:07.233Z"
   },
   {
    "duration": 0,
    "start_time": "2023-03-17T10:48:07.234Z"
   },
   {
    "duration": 0,
    "start_time": "2023-03-17T10:48:07.235Z"
   },
   {
    "duration": 0,
    "start_time": "2023-03-17T10:48:07.236Z"
   },
   {
    "duration": 0,
    "start_time": "2023-03-17T10:48:07.237Z"
   },
   {
    "duration": 0,
    "start_time": "2023-03-17T10:48:07.238Z"
   },
   {
    "duration": 0,
    "start_time": "2023-03-17T10:48:07.239Z"
   },
   {
    "duration": 0,
    "start_time": "2023-03-17T10:48:07.240Z"
   },
   {
    "duration": 0,
    "start_time": "2023-03-17T10:48:07.241Z"
   },
   {
    "duration": 0,
    "start_time": "2023-03-17T10:48:07.242Z"
   },
   {
    "duration": 0,
    "start_time": "2023-03-17T10:48:07.243Z"
   },
   {
    "duration": 0,
    "start_time": "2023-03-17T10:48:07.244Z"
   },
   {
    "duration": 0,
    "start_time": "2023-03-17T10:48:07.245Z"
   },
   {
    "duration": 0,
    "start_time": "2023-03-17T10:48:07.246Z"
   },
   {
    "duration": 7,
    "start_time": "2023-03-17T10:49:00.056Z"
   },
   {
    "duration": 6,
    "start_time": "2023-03-17T10:49:02.152Z"
   },
   {
    "duration": 7,
    "start_time": "2023-03-17T10:53:00.291Z"
   },
   {
    "duration": 11,
    "start_time": "2023-03-17T10:55:10.506Z"
   },
   {
    "duration": 6,
    "start_time": "2023-03-17T10:56:04.548Z"
   },
   {
    "duration": 51,
    "start_time": "2023-03-17T10:59:56.011Z"
   },
   {
    "duration": 6,
    "start_time": "2023-03-17T11:10:29.042Z"
   },
   {
    "duration": 1108,
    "start_time": "2023-03-17T11:14:02.067Z"
   },
   {
    "duration": 26,
    "start_time": "2023-03-17T11:14:03.177Z"
   },
   {
    "duration": 13,
    "start_time": "2023-03-17T11:14:03.204Z"
   },
   {
    "duration": 7,
    "start_time": "2023-03-17T11:14:03.219Z"
   },
   {
    "duration": 19,
    "start_time": "2023-03-17T11:14:03.228Z"
   },
   {
    "duration": 38,
    "start_time": "2023-03-17T11:14:03.249Z"
   },
   {
    "duration": 13,
    "start_time": "2023-03-17T11:14:03.289Z"
   },
   {
    "duration": 57,
    "start_time": "2023-03-17T11:14:03.304Z"
   },
   {
    "duration": 15,
    "start_time": "2023-03-17T11:14:03.363Z"
   },
   {
    "duration": 9,
    "start_time": "2023-03-17T11:14:03.380Z"
   },
   {
    "duration": 17,
    "start_time": "2023-03-17T11:14:03.390Z"
   },
   {
    "duration": 9,
    "start_time": "2023-03-17T11:14:03.408Z"
   },
   {
    "duration": 14,
    "start_time": "2023-03-17T11:14:03.419Z"
   },
   {
    "duration": 23,
    "start_time": "2023-03-17T11:14:03.437Z"
   },
   {
    "duration": 33,
    "start_time": "2023-03-17T11:14:03.462Z"
   },
   {
    "duration": 54,
    "start_time": "2023-03-17T11:14:03.497Z"
   },
   {
    "duration": 41,
    "start_time": "2023-03-17T11:14:03.553Z"
   },
   {
    "duration": 7,
    "start_time": "2023-03-17T11:14:03.596Z"
   },
   {
    "duration": 15,
    "start_time": "2023-03-17T11:14:03.604Z"
   },
   {
    "duration": 7,
    "start_time": "2023-03-17T11:14:03.621Z"
   },
   {
    "duration": 41,
    "start_time": "2023-03-17T11:14:03.629Z"
   },
   {
    "duration": 34,
    "start_time": "2023-03-17T11:14:03.672Z"
   },
   {
    "duration": 13,
    "start_time": "2023-03-17T11:14:03.707Z"
   },
   {
    "duration": 33,
    "start_time": "2023-03-17T11:14:03.722Z"
   },
   {
    "duration": 26,
    "start_time": "2023-03-17T11:14:03.757Z"
   },
   {
    "duration": 32,
    "start_time": "2023-03-17T11:14:03.784Z"
   },
   {
    "duration": 35,
    "start_time": "2023-03-17T11:14:03.818Z"
   },
   {
    "duration": 45,
    "start_time": "2023-03-17T11:14:03.855Z"
   },
   {
    "duration": 86,
    "start_time": "2023-03-17T11:14:03.902Z"
   },
   {
    "duration": 50,
    "start_time": "2023-03-17T11:14:03.990Z"
   },
   {
    "duration": 20,
    "start_time": "2023-03-17T11:14:04.041Z"
   },
   {
    "duration": 27,
    "start_time": "2023-03-17T11:14:04.063Z"
   },
   {
    "duration": 69,
    "start_time": "2023-03-17T11:14:04.092Z"
   },
   {
    "duration": 31,
    "start_time": "2023-03-17T11:14:04.163Z"
   },
   {
    "duration": 17,
    "start_time": "2023-03-17T11:14:04.196Z"
   },
   {
    "duration": 15,
    "start_time": "2023-03-17T11:14:04.214Z"
   },
   {
    "duration": 54,
    "start_time": "2023-03-17T11:14:04.230Z"
   },
   {
    "duration": 14,
    "start_time": "2023-03-17T11:14:04.286Z"
   },
   {
    "duration": 12,
    "start_time": "2023-03-17T11:14:04.302Z"
   },
   {
    "duration": 35,
    "start_time": "2023-03-17T11:14:04.316Z"
   },
   {
    "duration": 62,
    "start_time": "2023-03-17T11:14:04.355Z"
   },
   {
    "duration": 8,
    "start_time": "2023-03-17T11:14:04.419Z"
   },
   {
    "duration": 42,
    "start_time": "2023-03-17T11:14:04.429Z"
   },
   {
    "duration": 294,
    "start_time": "2023-03-17T11:14:04.473Z"
   },
   {
    "duration": 284,
    "start_time": "2023-03-17T11:14:04.769Z"
   },
   {
    "duration": 370,
    "start_time": "2023-03-17T11:14:05.055Z"
   },
   {
    "duration": 289,
    "start_time": "2023-03-17T11:14:05.427Z"
   },
   {
    "duration": 268,
    "start_time": "2023-03-17T11:14:05.718Z"
   },
   {
    "duration": 7,
    "start_time": "2023-03-17T11:14:05.988Z"
   },
   {
    "duration": 8,
    "start_time": "2023-03-17T11:14:05.996Z"
   },
   {
    "duration": 20,
    "start_time": "2023-03-17T11:14:06.005Z"
   },
   {
    "duration": 133,
    "start_time": "2023-03-17T11:14:06.027Z"
   },
   {
    "duration": 5,
    "start_time": "2023-03-17T11:14:06.162Z"
   },
   {
    "duration": 8,
    "start_time": "2023-03-17T11:14:06.168Z"
   },
   {
    "duration": 157,
    "start_time": "2023-03-17T11:14:06.177Z"
   },
   {
    "duration": 5,
    "start_time": "2023-03-17T11:14:06.335Z"
   },
   {
    "duration": 145,
    "start_time": "2023-03-17T11:14:06.341Z"
   },
   {
    "duration": 5,
    "start_time": "2023-03-17T11:14:06.488Z"
   },
   {
    "duration": 16,
    "start_time": "2023-03-17T11:14:06.495Z"
   },
   {
    "duration": 11,
    "start_time": "2023-03-17T11:14:06.513Z"
   },
   {
    "duration": 8,
    "start_time": "2023-03-17T11:14:06.525Z"
   },
   {
    "duration": 7,
    "start_time": "2023-03-17T11:14:06.534Z"
   },
   {
    "duration": 8,
    "start_time": "2023-03-17T11:14:06.542Z"
   },
   {
    "duration": 9,
    "start_time": "2023-03-17T11:14:06.551Z"
   },
   {
    "duration": 21,
    "start_time": "2023-03-17T11:14:06.561Z"
   },
   {
    "duration": 5,
    "start_time": "2023-03-17T11:14:06.622Z"
   },
   {
    "duration": 10,
    "start_time": "2023-03-17T11:14:06.629Z"
   },
   {
    "duration": 7,
    "start_time": "2023-03-17T11:14:06.640Z"
   },
   {
    "duration": 16,
    "start_time": "2023-03-17T11:14:06.649Z"
   },
   {
    "duration": 5,
    "start_time": "2023-03-17T11:14:06.667Z"
   },
   {
    "duration": 6,
    "start_time": "2023-03-17T11:14:06.674Z"
   },
   {
    "duration": 5,
    "start_time": "2023-03-17T11:14:06.681Z"
   },
   {
    "duration": 39,
    "start_time": "2023-03-17T11:14:06.687Z"
   },
   {
    "duration": 9,
    "start_time": "2023-03-17T11:14:06.728Z"
   },
   {
    "duration": 33,
    "start_time": "2023-03-17T11:14:06.739Z"
   },
   {
    "duration": 5,
    "start_time": "2023-03-17T11:14:06.774Z"
   },
   {
    "duration": 10,
    "start_time": "2023-03-17T11:14:06.780Z"
   },
   {
    "duration": 34,
    "start_time": "2023-03-17T11:14:06.792Z"
   },
   {
    "duration": 152,
    "start_time": "2023-03-17T11:19:51.579Z"
   },
   {
    "duration": 314,
    "start_time": "2023-03-17T11:21:25.768Z"
   },
   {
    "duration": 255,
    "start_time": "2023-03-17T11:21:37.115Z"
   },
   {
    "duration": 182,
    "start_time": "2023-03-17T11:23:08.016Z"
   },
   {
    "duration": 177,
    "start_time": "2023-03-17T11:23:22.644Z"
   },
   {
    "duration": 9,
    "start_time": "2023-03-17T11:24:13.507Z"
   },
   {
    "duration": 291,
    "start_time": "2023-03-17T11:24:58.899Z"
   },
   {
    "duration": 8,
    "start_time": "2023-03-17T11:39:57.822Z"
   },
   {
    "duration": 68,
    "start_time": "2023-03-17T11:41:20.516Z"
   },
   {
    "duration": 313,
    "start_time": "2023-03-17T11:42:05.658Z"
   },
   {
    "duration": 332,
    "start_time": "2023-03-17T11:42:24.437Z"
   },
   {
    "duration": 379,
    "start_time": "2023-03-17T11:44:44.113Z"
   },
   {
    "duration": 322,
    "start_time": "2023-03-17T11:55:03.021Z"
   },
   {
    "duration": 342,
    "start_time": "2023-03-17T11:55:52.986Z"
   },
   {
    "duration": 14,
    "start_time": "2023-03-17T11:58:25.209Z"
   },
   {
    "duration": 327,
    "start_time": "2023-03-17T11:58:30.028Z"
   },
   {
    "duration": 342,
    "start_time": "2023-03-17T11:58:38.685Z"
   },
   {
    "duration": 448,
    "start_time": "2023-03-17T11:58:57.275Z"
   },
   {
    "duration": 1103,
    "start_time": "2023-03-17T12:03:41.828Z"
   },
   {
    "duration": 27,
    "start_time": "2023-03-17T12:03:42.932Z"
   },
   {
    "duration": 11,
    "start_time": "2023-03-17T12:03:42.960Z"
   },
   {
    "duration": 18,
    "start_time": "2023-03-17T12:03:42.973Z"
   },
   {
    "duration": 27,
    "start_time": "2023-03-17T12:03:42.993Z"
   },
   {
    "duration": 5,
    "start_time": "2023-03-17T12:03:43.021Z"
   },
   {
    "duration": 10,
    "start_time": "2023-03-17T12:03:43.028Z"
   },
   {
    "duration": 41,
    "start_time": "2023-03-17T12:03:43.040Z"
   },
   {
    "duration": 23,
    "start_time": "2023-03-17T12:03:43.082Z"
   },
   {
    "duration": 10,
    "start_time": "2023-03-17T12:03:43.108Z"
   },
   {
    "duration": 5,
    "start_time": "2023-03-17T12:03:43.119Z"
   },
   {
    "duration": 9,
    "start_time": "2023-03-17T12:03:43.125Z"
   },
   {
    "duration": 12,
    "start_time": "2023-03-17T12:03:43.136Z"
   },
   {
    "duration": 15,
    "start_time": "2023-03-17T12:03:43.150Z"
   },
   {
    "duration": 22,
    "start_time": "2023-03-17T12:03:43.168Z"
   },
   {
    "duration": 32,
    "start_time": "2023-03-17T12:03:43.192Z"
   },
   {
    "duration": 22,
    "start_time": "2023-03-17T12:03:43.226Z"
   },
   {
    "duration": 12,
    "start_time": "2023-03-17T12:03:43.250Z"
   },
   {
    "duration": 6,
    "start_time": "2023-03-17T12:03:43.264Z"
   },
   {
    "duration": 6,
    "start_time": "2023-03-17T12:03:43.272Z"
   },
   {
    "duration": 6,
    "start_time": "2023-03-17T12:03:43.280Z"
   },
   {
    "duration": 6,
    "start_time": "2023-03-17T12:03:43.288Z"
   },
   {
    "duration": 7,
    "start_time": "2023-03-17T12:03:43.296Z"
   },
   {
    "duration": 6,
    "start_time": "2023-03-17T12:03:43.324Z"
   },
   {
    "duration": 5,
    "start_time": "2023-03-17T12:03:43.331Z"
   },
   {
    "duration": 10,
    "start_time": "2023-03-17T12:03:43.338Z"
   },
   {
    "duration": 7,
    "start_time": "2023-03-17T12:03:43.349Z"
   },
   {
    "duration": 7,
    "start_time": "2023-03-17T12:03:43.360Z"
   },
   {
    "duration": 343,
    "start_time": "2023-03-17T12:03:43.368Z"
   },
   {
    "duration": 47,
    "start_time": "2023-03-17T12:03:43.713Z"
   },
   {
    "duration": 7,
    "start_time": "2023-03-17T12:03:43.762Z"
   },
   {
    "duration": 4,
    "start_time": "2023-03-17T12:03:43.771Z"
   },
   {
    "duration": 9,
    "start_time": "2023-03-17T12:03:43.776Z"
   },
   {
    "duration": 355,
    "start_time": "2023-03-17T12:03:43.786Z"
   },
   {
    "duration": 45,
    "start_time": "2023-03-17T12:03:44.143Z"
   },
   {
    "duration": 7,
    "start_time": "2023-03-17T12:03:44.190Z"
   },
   {
    "duration": 30,
    "start_time": "2023-03-17T12:03:44.199Z"
   },
   {
    "duration": 21,
    "start_time": "2023-03-17T12:03:44.230Z"
   },
   {
    "duration": 46,
    "start_time": "2023-03-17T12:03:44.253Z"
   },
   {
    "duration": 9,
    "start_time": "2023-03-17T12:03:44.300Z"
   },
   {
    "duration": 12,
    "start_time": "2023-03-17T12:03:44.311Z"
   },
   {
    "duration": 7,
    "start_time": "2023-03-17T12:03:44.324Z"
   },
   {
    "duration": 50,
    "start_time": "2023-03-17T12:03:44.333Z"
   },
   {
    "duration": 14,
    "start_time": "2023-03-17T12:03:44.385Z"
   },
   {
    "duration": 40,
    "start_time": "2023-03-17T12:03:44.401Z"
   },
   {
    "duration": 282,
    "start_time": "2023-03-17T12:03:44.443Z"
   },
   {
    "duration": 290,
    "start_time": "2023-03-17T12:03:44.727Z"
   },
   {
    "duration": 373,
    "start_time": "2023-03-17T12:03:45.022Z"
   },
   {
    "duration": 353,
    "start_time": "2023-03-17T12:03:45.396Z"
   },
   {
    "duration": 257,
    "start_time": "2023-03-17T12:03:45.751Z"
   },
   {
    "duration": 13,
    "start_time": "2023-03-17T12:03:46.010Z"
   },
   {
    "duration": 6,
    "start_time": "2023-03-17T12:03:46.024Z"
   },
   {
    "duration": 6,
    "start_time": "2023-03-17T12:03:46.032Z"
   },
   {
    "duration": 139,
    "start_time": "2023-03-17T12:03:46.040Z"
   },
   {
    "duration": 5,
    "start_time": "2023-03-17T12:03:46.181Z"
   },
   {
    "duration": 4,
    "start_time": "2023-03-17T12:03:46.187Z"
   },
   {
    "duration": 149,
    "start_time": "2023-03-17T12:03:46.192Z"
   },
   {
    "duration": 4,
    "start_time": "2023-03-17T12:03:46.343Z"
   },
   {
    "duration": 141,
    "start_time": "2023-03-17T12:03:46.349Z"
   },
   {
    "duration": 4,
    "start_time": "2023-03-17T12:03:46.492Z"
   },
   {
    "duration": 7,
    "start_time": "2023-03-17T12:03:46.498Z"
   },
   {
    "duration": 18,
    "start_time": "2023-03-17T12:03:46.506Z"
   },
   {
    "duration": 6,
    "start_time": "2023-03-17T12:03:46.525Z"
   },
   {
    "duration": 6,
    "start_time": "2023-03-17T12:03:46.533Z"
   },
   {
    "duration": 8,
    "start_time": "2023-03-17T12:03:46.540Z"
   },
   {
    "duration": 33,
    "start_time": "2023-03-17T12:03:46.549Z"
   },
   {
    "duration": 21,
    "start_time": "2023-03-17T12:03:46.583Z"
   },
   {
    "duration": 4,
    "start_time": "2023-03-17T12:03:46.606Z"
   },
   {
    "duration": 13,
    "start_time": "2023-03-17T12:03:46.611Z"
   },
   {
    "duration": 7,
    "start_time": "2023-03-17T12:03:46.625Z"
   },
   {
    "duration": 5,
    "start_time": "2023-03-17T12:03:46.633Z"
   },
   {
    "duration": 5,
    "start_time": "2023-03-17T12:03:46.640Z"
   },
   {
    "duration": 6,
    "start_time": "2023-03-17T12:03:46.647Z"
   },
   {
    "duration": 5,
    "start_time": "2023-03-17T12:03:46.654Z"
   },
   {
    "duration": 8,
    "start_time": "2023-03-17T12:03:46.660Z"
   },
   {
    "duration": 7,
    "start_time": "2023-03-17T12:03:46.670Z"
   },
   {
    "duration": 61,
    "start_time": "2023-03-17T12:03:46.679Z"
   },
   {
    "duration": 4,
    "start_time": "2023-03-17T12:03:46.742Z"
   },
   {
    "duration": 18,
    "start_time": "2023-03-17T12:03:46.748Z"
   },
   {
    "duration": 9,
    "start_time": "2023-03-17T12:03:46.767Z"
   },
   {
    "duration": 863,
    "start_time": "2023-03-17T12:05:17.208Z"
   },
   {
    "duration": 1233,
    "start_time": "2023-03-17T12:05:23.607Z"
   },
   {
    "duration": 26,
    "start_time": "2023-03-17T12:05:24.842Z"
   },
   {
    "duration": 12,
    "start_time": "2023-03-17T12:05:24.870Z"
   },
   {
    "duration": 12,
    "start_time": "2023-03-17T12:05:24.884Z"
   },
   {
    "duration": 30,
    "start_time": "2023-03-17T12:05:24.898Z"
   },
   {
    "duration": 15,
    "start_time": "2023-03-17T12:05:24.930Z"
   },
   {
    "duration": 23,
    "start_time": "2023-03-17T12:05:24.946Z"
   },
   {
    "duration": 55,
    "start_time": "2023-03-17T12:05:24.970Z"
   },
   {
    "duration": 15,
    "start_time": "2023-03-17T12:05:25.026Z"
   },
   {
    "duration": 18,
    "start_time": "2023-03-17T12:05:25.044Z"
   },
   {
    "duration": 10,
    "start_time": "2023-03-17T12:05:25.064Z"
   },
   {
    "duration": 37,
    "start_time": "2023-03-17T12:05:25.075Z"
   },
   {
    "duration": 33,
    "start_time": "2023-03-17T12:05:25.113Z"
   },
   {
    "duration": 16,
    "start_time": "2023-03-17T12:05:25.147Z"
   },
   {
    "duration": 19,
    "start_time": "2023-03-17T12:05:25.165Z"
   },
   {
    "duration": 24,
    "start_time": "2023-03-17T12:05:25.186Z"
   },
   {
    "duration": 14,
    "start_time": "2023-03-17T12:05:25.212Z"
   },
   {
    "duration": 26,
    "start_time": "2023-03-17T12:05:25.228Z"
   },
   {
    "duration": 14,
    "start_time": "2023-03-17T12:05:25.256Z"
   },
   {
    "duration": 23,
    "start_time": "2023-03-17T12:05:25.272Z"
   },
   {
    "duration": 16,
    "start_time": "2023-03-17T12:05:25.296Z"
   },
   {
    "duration": 23,
    "start_time": "2023-03-17T12:05:25.313Z"
   },
   {
    "duration": 16,
    "start_time": "2023-03-17T12:05:25.337Z"
   },
   {
    "duration": 14,
    "start_time": "2023-03-17T12:05:25.354Z"
   },
   {
    "duration": 26,
    "start_time": "2023-03-17T12:05:25.370Z"
   },
   {
    "duration": 11,
    "start_time": "2023-03-17T12:05:25.397Z"
   },
   {
    "duration": 32,
    "start_time": "2023-03-17T12:05:25.410Z"
   },
   {
    "duration": 26,
    "start_time": "2023-03-17T12:05:25.446Z"
   },
   {
    "duration": 330,
    "start_time": "2023-03-17T12:05:25.474Z"
   },
   {
    "duration": 49,
    "start_time": "2023-03-17T12:05:25.807Z"
   },
   {
    "duration": 8,
    "start_time": "2023-03-17T12:05:25.857Z"
   },
   {
    "duration": 32,
    "start_time": "2023-03-17T12:05:25.867Z"
   },
   {
    "duration": 23,
    "start_time": "2023-03-17T12:05:25.901Z"
   },
   {
    "duration": 332,
    "start_time": "2023-03-17T12:05:25.926Z"
   },
   {
    "duration": 45,
    "start_time": "2023-03-17T12:05:26.260Z"
   },
   {
    "duration": 23,
    "start_time": "2023-03-17T12:05:26.307Z"
   },
   {
    "duration": 22,
    "start_time": "2023-03-17T12:05:26.332Z"
   },
   {
    "duration": 23,
    "start_time": "2023-03-17T12:05:26.355Z"
   },
   {
    "duration": 66,
    "start_time": "2023-03-17T12:05:26.379Z"
   },
   {
    "duration": 25,
    "start_time": "2023-03-17T12:05:26.447Z"
   },
   {
    "duration": 25,
    "start_time": "2023-03-17T12:05:26.474Z"
   },
   {
    "duration": 30,
    "start_time": "2023-03-17T12:05:26.501Z"
   },
   {
    "duration": 54,
    "start_time": "2023-03-17T12:05:26.532Z"
   },
   {
    "duration": 42,
    "start_time": "2023-03-17T12:05:26.587Z"
   },
   {
    "duration": 55,
    "start_time": "2023-03-17T12:05:26.631Z"
   },
   {
    "duration": 280,
    "start_time": "2023-03-17T12:05:26.688Z"
   },
   {
    "duration": 266,
    "start_time": "2023-03-17T12:05:26.970Z"
   },
   {
    "duration": 347,
    "start_time": "2023-03-17T12:05:27.237Z"
   },
   {
    "duration": 353,
    "start_time": "2023-03-17T12:05:27.586Z"
   },
   {
    "duration": 274,
    "start_time": "2023-03-17T12:05:27.940Z"
   },
   {
    "duration": 10,
    "start_time": "2023-03-17T12:05:28.215Z"
   },
   {
    "duration": 6,
    "start_time": "2023-03-17T12:05:28.227Z"
   },
   {
    "duration": 4,
    "start_time": "2023-03-17T12:05:28.235Z"
   },
   {
    "duration": 131,
    "start_time": "2023-03-17T12:05:28.241Z"
   },
   {
    "duration": 5,
    "start_time": "2023-03-17T12:05:28.374Z"
   },
   {
    "duration": 7,
    "start_time": "2023-03-17T12:05:28.380Z"
   },
   {
    "duration": 147,
    "start_time": "2023-03-17T12:05:28.388Z"
   },
   {
    "duration": 4,
    "start_time": "2023-03-17T12:05:28.537Z"
   },
   {
    "duration": 137,
    "start_time": "2023-03-17T12:05:28.543Z"
   },
   {
    "duration": 4,
    "start_time": "2023-03-17T12:05:28.682Z"
   },
   {
    "duration": 8,
    "start_time": "2023-03-17T12:05:28.688Z"
   },
   {
    "duration": 20,
    "start_time": "2023-03-17T12:05:28.697Z"
   },
   {
    "duration": 8,
    "start_time": "2023-03-17T12:05:28.723Z"
   },
   {
    "duration": 8,
    "start_time": "2023-03-17T12:05:28.733Z"
   },
   {
    "duration": 7,
    "start_time": "2023-03-17T12:05:28.742Z"
   },
   {
    "duration": 6,
    "start_time": "2023-03-17T12:05:28.751Z"
   },
   {
    "duration": 22,
    "start_time": "2023-03-17T12:05:28.759Z"
   },
   {
    "duration": 42,
    "start_time": "2023-03-17T12:05:28.782Z"
   },
   {
    "duration": 10,
    "start_time": "2023-03-17T12:05:28.826Z"
   },
   {
    "duration": 15,
    "start_time": "2023-03-17T12:05:28.838Z"
   },
   {
    "duration": 13,
    "start_time": "2023-03-17T12:05:28.855Z"
   },
   {
    "duration": 14,
    "start_time": "2023-03-17T12:05:28.870Z"
   },
   {
    "duration": 13,
    "start_time": "2023-03-17T12:05:28.885Z"
   },
   {
    "duration": 8,
    "start_time": "2023-03-17T12:05:28.900Z"
   },
   {
    "duration": 16,
    "start_time": "2023-03-17T12:05:28.909Z"
   },
   {
    "duration": 8,
    "start_time": "2023-03-17T12:05:28.926Z"
   },
   {
    "duration": 20,
    "start_time": "2023-03-17T12:05:28.936Z"
   },
   {
    "duration": 5,
    "start_time": "2023-03-17T12:05:28.957Z"
   },
   {
    "duration": 11,
    "start_time": "2023-03-17T12:05:28.963Z"
   },
   {
    "duration": 8,
    "start_time": "2023-03-17T12:05:28.976Z"
   },
   {
    "duration": 6,
    "start_time": "2023-03-17T12:13:30.441Z"
   },
   {
    "duration": 4,
    "start_time": "2023-03-17T12:13:42.972Z"
   },
   {
    "duration": 5,
    "start_time": "2023-03-17T12:14:11.497Z"
   },
   {
    "duration": 8,
    "start_time": "2023-03-17T12:14:19.750Z"
   },
   {
    "duration": 9,
    "start_time": "2023-03-17T12:14:52.004Z"
   },
   {
    "duration": 8,
    "start_time": "2023-03-17T12:15:04.174Z"
   },
   {
    "duration": 8,
    "start_time": "2023-03-17T12:15:36.664Z"
   },
   {
    "duration": 8,
    "start_time": "2023-03-17T12:16:07.030Z"
   },
   {
    "duration": 8,
    "start_time": "2023-03-17T12:16:18.520Z"
   },
   {
    "duration": 358,
    "start_time": "2023-03-17T12:26:56.744Z"
   },
   {
    "duration": 9,
    "start_time": "2023-03-17T12:28:06.096Z"
   },
   {
    "duration": 313,
    "start_time": "2023-03-17T12:29:24.734Z"
   },
   {
    "duration": 7,
    "start_time": "2023-03-17T12:30:21.628Z"
   },
   {
    "duration": 7,
    "start_time": "2023-03-17T12:30:50.850Z"
   },
   {
    "duration": 54,
    "start_time": "2023-03-17T12:32:45.060Z"
   },
   {
    "duration": 1173,
    "start_time": "2023-03-17T12:34:03.887Z"
   },
   {
    "duration": 38,
    "start_time": "2023-03-17T12:34:05.063Z"
   },
   {
    "duration": 11,
    "start_time": "2023-03-17T12:34:05.103Z"
   },
   {
    "duration": 14,
    "start_time": "2023-03-17T12:34:05.117Z"
   },
   {
    "duration": 27,
    "start_time": "2023-03-17T12:34:05.135Z"
   },
   {
    "duration": 11,
    "start_time": "2023-03-17T12:34:05.165Z"
   },
   {
    "duration": 13,
    "start_time": "2023-03-17T12:34:05.178Z"
   },
   {
    "duration": 50,
    "start_time": "2023-03-17T12:34:05.193Z"
   },
   {
    "duration": 15,
    "start_time": "2023-03-17T12:34:05.245Z"
   },
   {
    "duration": 8,
    "start_time": "2023-03-17T12:34:05.262Z"
   },
   {
    "duration": 5,
    "start_time": "2023-03-17T12:34:05.272Z"
   },
   {
    "duration": 18,
    "start_time": "2023-03-17T12:34:05.279Z"
   },
   {
    "duration": 23,
    "start_time": "2023-03-17T12:34:05.298Z"
   },
   {
    "duration": 22,
    "start_time": "2023-03-17T12:34:05.322Z"
   },
   {
    "duration": 37,
    "start_time": "2023-03-17T12:34:05.346Z"
   },
   {
    "duration": 11,
    "start_time": "2023-03-17T12:34:05.384Z"
   },
   {
    "duration": 18,
    "start_time": "2023-03-17T12:34:05.396Z"
   },
   {
    "duration": 5,
    "start_time": "2023-03-17T12:34:05.416Z"
   },
   {
    "duration": 13,
    "start_time": "2023-03-17T12:34:05.423Z"
   },
   {
    "duration": 8,
    "start_time": "2023-03-17T12:34:05.437Z"
   },
   {
    "duration": 13,
    "start_time": "2023-03-17T12:34:05.446Z"
   },
   {
    "duration": 7,
    "start_time": "2023-03-17T12:34:05.460Z"
   },
   {
    "duration": 5,
    "start_time": "2023-03-17T12:34:05.469Z"
   },
   {
    "duration": 12,
    "start_time": "2023-03-17T12:34:05.475Z"
   },
   {
    "duration": 11,
    "start_time": "2023-03-17T12:34:05.488Z"
   },
   {
    "duration": 6,
    "start_time": "2023-03-17T12:34:05.500Z"
   },
   {
    "duration": 36,
    "start_time": "2023-03-17T12:34:05.508Z"
   },
   {
    "duration": 7,
    "start_time": "2023-03-17T12:34:05.549Z"
   },
   {
    "duration": 329,
    "start_time": "2023-03-17T12:34:05.557Z"
   },
   {
    "duration": 8,
    "start_time": "2023-03-17T12:34:05.888Z"
   },
   {
    "duration": 51,
    "start_time": "2023-03-17T12:34:05.897Z"
   },
   {
    "duration": 9,
    "start_time": "2023-03-17T12:34:05.950Z"
   },
   {
    "duration": 6,
    "start_time": "2023-03-17T12:34:05.960Z"
   },
   {
    "duration": 8,
    "start_time": "2023-03-17T12:34:05.967Z"
   },
   {
    "duration": 364,
    "start_time": "2023-03-17T12:34:05.976Z"
   },
   {
    "duration": 9,
    "start_time": "2023-03-17T12:34:06.342Z"
   },
   {
    "duration": 43,
    "start_time": "2023-03-17T12:34:06.353Z"
   },
   {
    "duration": 23,
    "start_time": "2023-03-17T12:34:06.398Z"
   },
   {
    "duration": 15,
    "start_time": "2023-03-17T12:34:06.426Z"
   },
   {
    "duration": 20,
    "start_time": "2023-03-17T12:34:06.443Z"
   },
   {
    "duration": 332,
    "start_time": "2023-03-17T12:34:06.464Z"
   },
   {
    "duration": 8,
    "start_time": "2023-03-17T12:34:06.798Z"
   },
   {
    "duration": 55,
    "start_time": "2023-03-17T12:34:06.808Z"
   },
   {
    "duration": 22,
    "start_time": "2023-03-17T12:34:06.865Z"
   },
   {
    "duration": 10,
    "start_time": "2023-03-17T12:34:06.889Z"
   },
   {
    "duration": 37,
    "start_time": "2023-03-17T12:34:06.900Z"
   },
   {
    "duration": 331,
    "start_time": "2023-03-17T12:34:06.939Z"
   },
   {
    "duration": 7,
    "start_time": "2023-03-17T12:34:07.272Z"
   },
   {
    "duration": 133,
    "start_time": "2023-03-17T12:34:07.281Z"
   },
   {
    "duration": 18,
    "start_time": "2023-03-17T12:34:07.416Z"
   },
   {
    "duration": 31,
    "start_time": "2023-03-17T12:34:07.435Z"
   },
   {
    "duration": 284,
    "start_time": "2023-03-17T12:34:07.468Z"
   },
   {
    "duration": 266,
    "start_time": "2023-03-17T12:34:07.754Z"
   },
   {
    "duration": 379,
    "start_time": "2023-03-17T12:34:08.024Z"
   },
   {
    "duration": 282,
    "start_time": "2023-03-17T12:34:08.404Z"
   },
   {
    "duration": 278,
    "start_time": "2023-03-17T12:34:08.688Z"
   },
   {
    "duration": 6,
    "start_time": "2023-03-17T12:34:08.968Z"
   },
   {
    "duration": 9,
    "start_time": "2023-03-17T12:34:08.975Z"
   },
   {
    "duration": 10,
    "start_time": "2023-03-17T12:34:08.985Z"
   },
   {
    "duration": 155,
    "start_time": "2023-03-17T12:34:08.997Z"
   },
   {
    "duration": 5,
    "start_time": "2023-03-17T12:34:09.154Z"
   },
   {
    "duration": 16,
    "start_time": "2023-03-17T12:34:09.160Z"
   },
   {
    "duration": 163,
    "start_time": "2023-03-17T12:34:09.178Z"
   },
   {
    "duration": 5,
    "start_time": "2023-03-17T12:34:09.343Z"
   },
   {
    "duration": 151,
    "start_time": "2023-03-17T12:34:09.350Z"
   },
   {
    "duration": 5,
    "start_time": "2023-03-17T12:34:09.502Z"
   },
   {
    "duration": 26,
    "start_time": "2023-03-17T12:34:09.509Z"
   },
   {
    "duration": 7,
    "start_time": "2023-03-17T12:34:09.537Z"
   },
   {
    "duration": 9,
    "start_time": "2023-03-17T12:34:09.546Z"
   },
   {
    "duration": 7,
    "start_time": "2023-03-17T12:34:09.557Z"
   },
   {
    "duration": 7,
    "start_time": "2023-03-17T12:34:09.566Z"
   },
   {
    "duration": 28,
    "start_time": "2023-03-17T12:34:09.575Z"
   },
   {
    "duration": 45,
    "start_time": "2023-03-17T12:34:09.605Z"
   },
   {
    "duration": 5,
    "start_time": "2023-03-17T12:34:09.652Z"
   },
   {
    "duration": 14,
    "start_time": "2023-03-17T12:34:09.658Z"
   },
   {
    "duration": 7,
    "start_time": "2023-03-17T12:34:09.673Z"
   },
   {
    "duration": 6,
    "start_time": "2023-03-17T12:34:09.681Z"
   },
   {
    "duration": 14,
    "start_time": "2023-03-17T12:34:09.689Z"
   },
   {
    "duration": 30,
    "start_time": "2023-03-17T12:34:09.705Z"
   },
   {
    "duration": 4,
    "start_time": "2023-03-17T12:34:09.739Z"
   },
   {
    "duration": 11,
    "start_time": "2023-03-17T12:34:09.744Z"
   },
   {
    "duration": 9,
    "start_time": "2023-03-17T12:34:09.760Z"
   },
   {
    "duration": 22,
    "start_time": "2023-03-17T12:34:09.770Z"
   },
   {
    "duration": 5,
    "start_time": "2023-03-17T12:34:09.793Z"
   },
   {
    "duration": 14,
    "start_time": "2023-03-17T12:34:09.830Z"
   },
   {
    "duration": 15,
    "start_time": "2023-03-17T12:34:09.846Z"
   },
   {
    "duration": 368,
    "start_time": "2023-03-17T12:37:00.449Z"
   },
   {
    "duration": 412,
    "start_time": "2023-03-17T12:37:23.810Z"
   },
   {
    "duration": 49,
    "start_time": "2023-03-17T13:05:43.422Z"
   },
   {
    "duration": 208,
    "start_time": "2023-03-17T13:08:54.805Z"
   },
   {
    "duration": 1181,
    "start_time": "2023-03-17T13:09:01.972Z"
   },
   {
    "duration": 28,
    "start_time": "2023-03-17T13:09:03.155Z"
   },
   {
    "duration": 12,
    "start_time": "2023-03-17T13:09:03.184Z"
   },
   {
    "duration": 7,
    "start_time": "2023-03-17T13:09:03.197Z"
   },
   {
    "duration": 11,
    "start_time": "2023-03-17T13:09:03.206Z"
   },
   {
    "duration": 6,
    "start_time": "2023-03-17T13:09:03.224Z"
   },
   {
    "duration": 20,
    "start_time": "2023-03-17T13:09:03.232Z"
   },
   {
    "duration": 50,
    "start_time": "2023-03-17T13:09:03.253Z"
   },
   {
    "duration": 16,
    "start_time": "2023-03-17T13:09:03.304Z"
   },
   {
    "duration": 10,
    "start_time": "2023-03-17T13:09:03.321Z"
   },
   {
    "duration": 5,
    "start_time": "2023-03-17T13:09:03.332Z"
   },
   {
    "duration": 15,
    "start_time": "2023-03-17T13:09:03.339Z"
   },
   {
    "duration": 34,
    "start_time": "2023-03-17T13:09:03.356Z"
   },
   {
    "duration": 14,
    "start_time": "2023-03-17T13:09:03.393Z"
   },
   {
    "duration": 30,
    "start_time": "2023-03-17T13:09:03.408Z"
   },
   {
    "duration": 15,
    "start_time": "2023-03-17T13:09:03.440Z"
   },
   {
    "duration": 28,
    "start_time": "2023-03-17T13:09:03.457Z"
   },
   {
    "duration": 13,
    "start_time": "2023-03-17T13:09:03.487Z"
   },
   {
    "duration": 7,
    "start_time": "2023-03-17T13:09:03.502Z"
   },
   {
    "duration": 9,
    "start_time": "2023-03-17T13:09:03.511Z"
   },
   {
    "duration": 16,
    "start_time": "2023-03-17T13:09:03.523Z"
   },
   {
    "duration": 16,
    "start_time": "2023-03-17T13:09:03.541Z"
   },
   {
    "duration": 14,
    "start_time": "2023-03-17T13:09:03.560Z"
   },
   {
    "duration": 21,
    "start_time": "2023-03-17T13:09:03.576Z"
   },
   {
    "duration": 20,
    "start_time": "2023-03-17T13:09:03.599Z"
   },
   {
    "duration": 30,
    "start_time": "2023-03-17T13:09:03.621Z"
   },
   {
    "duration": 7,
    "start_time": "2023-03-17T13:09:03.653Z"
   },
   {
    "duration": 28,
    "start_time": "2023-03-17T13:09:03.662Z"
   },
   {
    "duration": 337,
    "start_time": "2023-03-17T13:09:03.692Z"
   },
   {
    "duration": 8,
    "start_time": "2023-03-17T13:09:04.031Z"
   },
   {
    "duration": 69,
    "start_time": "2023-03-17T13:09:04.041Z"
   },
   {
    "duration": 25,
    "start_time": "2023-03-17T13:09:04.112Z"
   },
   {
    "duration": 24,
    "start_time": "2023-03-17T13:09:04.139Z"
   },
   {
    "duration": 48,
    "start_time": "2023-03-17T13:09:04.165Z"
   },
   {
    "duration": 372,
    "start_time": "2023-03-17T13:09:04.214Z"
   },
   {
    "duration": 8,
    "start_time": "2023-03-17T13:09:04.588Z"
   },
   {
    "duration": 59,
    "start_time": "2023-03-17T13:09:04.599Z"
   },
   {
    "duration": 7,
    "start_time": "2023-03-17T13:09:04.660Z"
   },
   {
    "duration": 11,
    "start_time": "2023-03-17T13:09:04.669Z"
   },
   {
    "duration": 15,
    "start_time": "2023-03-17T13:09:04.681Z"
   },
   {
    "duration": 353,
    "start_time": "2023-03-17T13:09:04.701Z"
   },
   {
    "duration": 10,
    "start_time": "2023-03-17T13:09:05.056Z"
   },
   {
    "duration": 92,
    "start_time": "2023-03-17T13:09:05.068Z"
   },
   {
    "duration": 11,
    "start_time": "2023-03-17T13:09:05.162Z"
   },
   {
    "duration": 13,
    "start_time": "2023-03-17T13:09:05.175Z"
   },
   {
    "duration": 14,
    "start_time": "2023-03-17T13:09:05.190Z"
   },
   {
    "duration": 355,
    "start_time": "2023-03-17T13:09:05.205Z"
   },
   {
    "duration": 8,
    "start_time": "2023-03-17T13:09:05.562Z"
   },
   {
    "duration": 139,
    "start_time": "2023-03-17T13:09:05.572Z"
   },
   {
    "duration": 11,
    "start_time": "2023-03-17T13:09:05.713Z"
   },
   {
    "duration": 29,
    "start_time": "2023-03-17T13:09:05.726Z"
   },
   {
    "duration": 311,
    "start_time": "2023-03-17T13:09:05.756Z"
   },
   {
    "duration": 292,
    "start_time": "2023-03-17T13:09:06.069Z"
   },
   {
    "duration": 439,
    "start_time": "2023-03-17T13:09:06.363Z"
   },
   {
    "duration": 289,
    "start_time": "2023-03-17T13:09:06.804Z"
   },
   {
    "duration": 267,
    "start_time": "2023-03-17T13:09:07.095Z"
   },
   {
    "duration": 6,
    "start_time": "2023-03-17T13:09:07.364Z"
   },
   {
    "duration": 20,
    "start_time": "2023-03-17T13:09:07.371Z"
   },
   {
    "duration": 6,
    "start_time": "2023-03-17T13:09:07.393Z"
   },
   {
    "duration": 131,
    "start_time": "2023-03-17T13:09:07.401Z"
   },
   {
    "duration": 6,
    "start_time": "2023-03-17T13:09:07.534Z"
   },
   {
    "duration": 4,
    "start_time": "2023-03-17T13:09:07.541Z"
   },
   {
    "duration": 161,
    "start_time": "2023-03-17T13:09:07.547Z"
   },
   {
    "duration": 4,
    "start_time": "2023-03-17T13:09:07.710Z"
   },
   {
    "duration": 147,
    "start_time": "2023-03-17T13:09:07.724Z"
   },
   {
    "duration": 6,
    "start_time": "2023-03-17T13:09:07.872Z"
   },
   {
    "duration": 8,
    "start_time": "2023-03-17T13:09:07.880Z"
   },
   {
    "duration": 9,
    "start_time": "2023-03-17T13:09:07.890Z"
   },
   {
    "duration": 29,
    "start_time": "2023-03-17T13:09:07.900Z"
   },
   {
    "duration": 7,
    "start_time": "2023-03-17T13:09:07.931Z"
   },
   {
    "duration": 7,
    "start_time": "2023-03-17T13:09:07.940Z"
   },
   {
    "duration": 7,
    "start_time": "2023-03-17T13:09:07.949Z"
   },
   {
    "duration": 23,
    "start_time": "2023-03-17T13:09:07.958Z"
   },
   {
    "duration": 42,
    "start_time": "2023-03-17T13:09:07.983Z"
   },
   {
    "duration": 13,
    "start_time": "2023-03-17T13:09:08.026Z"
   },
   {
    "duration": 10,
    "start_time": "2023-03-17T13:09:08.041Z"
   },
   {
    "duration": 6,
    "start_time": "2023-03-17T13:09:08.053Z"
   },
   {
    "duration": 10,
    "start_time": "2023-03-17T13:09:08.061Z"
   },
   {
    "duration": 10,
    "start_time": "2023-03-17T13:09:08.073Z"
   },
   {
    "duration": 46,
    "start_time": "2023-03-17T13:09:08.085Z"
   },
   {
    "duration": 12,
    "start_time": "2023-03-17T13:09:08.132Z"
   },
   {
    "duration": 8,
    "start_time": "2023-03-17T13:09:08.146Z"
   },
   {
    "duration": 22,
    "start_time": "2023-03-17T13:09:08.156Z"
   },
   {
    "duration": 4,
    "start_time": "2023-03-17T13:09:08.180Z"
   },
   {
    "duration": 27,
    "start_time": "2023-03-17T13:09:08.186Z"
   },
   {
    "duration": 10,
    "start_time": "2023-03-17T13:09:08.223Z"
   },
   {
    "duration": 1056,
    "start_time": "2023-03-17T14:41:24.078Z"
   },
   {
    "duration": 27,
    "start_time": "2023-03-17T14:41:25.136Z"
   },
   {
    "duration": 11,
    "start_time": "2023-03-17T14:41:25.164Z"
   },
   {
    "duration": 5,
    "start_time": "2023-03-17T14:41:25.176Z"
   },
   {
    "duration": 9,
    "start_time": "2023-03-17T14:41:25.183Z"
   },
   {
    "duration": 10,
    "start_time": "2023-03-17T14:41:25.194Z"
   },
   {
    "duration": 25,
    "start_time": "2023-03-17T14:41:25.205Z"
   },
   {
    "duration": 62,
    "start_time": "2023-03-17T14:41:25.231Z"
   },
   {
    "duration": 15,
    "start_time": "2023-03-17T14:41:25.295Z"
   },
   {
    "duration": 7,
    "start_time": "2023-03-17T14:41:25.313Z"
   },
   {
    "duration": 9,
    "start_time": "2023-03-17T14:41:25.321Z"
   },
   {
    "duration": 17,
    "start_time": "2023-03-17T14:41:25.332Z"
   },
   {
    "duration": 11,
    "start_time": "2023-03-17T14:41:25.350Z"
   },
   {
    "duration": 13,
    "start_time": "2023-03-17T14:41:25.363Z"
   },
   {
    "duration": 11,
    "start_time": "2023-03-17T14:41:25.377Z"
   },
   {
    "duration": 10,
    "start_time": "2023-03-17T14:41:25.389Z"
   },
   {
    "duration": 6,
    "start_time": "2023-03-17T14:41:25.400Z"
   },
   {
    "duration": 20,
    "start_time": "2023-03-17T14:41:25.407Z"
   },
   {
    "duration": 5,
    "start_time": "2023-03-17T14:41:25.428Z"
   },
   {
    "duration": 8,
    "start_time": "2023-03-17T14:41:25.434Z"
   },
   {
    "duration": 8,
    "start_time": "2023-03-17T14:41:25.443Z"
   },
   {
    "duration": 6,
    "start_time": "2023-03-17T14:41:25.453Z"
   },
   {
    "duration": 8,
    "start_time": "2023-03-17T14:41:25.460Z"
   },
   {
    "duration": 22,
    "start_time": "2023-03-17T14:41:25.469Z"
   },
   {
    "duration": 5,
    "start_time": "2023-03-17T14:41:25.493Z"
   },
   {
    "duration": 7,
    "start_time": "2023-03-17T14:41:25.499Z"
   },
   {
    "duration": 18,
    "start_time": "2023-03-17T14:41:25.507Z"
   },
   {
    "duration": 12,
    "start_time": "2023-03-17T14:41:25.529Z"
   },
   {
    "duration": 345,
    "start_time": "2023-03-17T14:41:25.542Z"
   },
   {
    "duration": 7,
    "start_time": "2023-03-17T14:41:25.889Z"
   },
   {
    "duration": 62,
    "start_time": "2023-03-17T14:41:25.898Z"
   },
   {
    "duration": 9,
    "start_time": "2023-03-17T14:41:25.961Z"
   },
   {
    "duration": 8,
    "start_time": "2023-03-17T14:41:25.972Z"
   },
   {
    "duration": 7,
    "start_time": "2023-03-17T14:41:25.981Z"
   },
   {
    "duration": 338,
    "start_time": "2023-03-17T14:41:25.990Z"
   },
   {
    "duration": 7,
    "start_time": "2023-03-17T14:41:26.330Z"
   },
   {
    "duration": 41,
    "start_time": "2023-03-17T14:41:26.338Z"
   },
   {
    "duration": 8,
    "start_time": "2023-03-17T14:41:26.381Z"
   },
   {
    "duration": 13,
    "start_time": "2023-03-17T14:41:26.391Z"
   },
   {
    "duration": 23,
    "start_time": "2023-03-17T14:41:26.405Z"
   },
   {
    "duration": 320,
    "start_time": "2023-03-17T14:41:26.430Z"
   },
   {
    "duration": 8,
    "start_time": "2023-03-17T14:41:26.752Z"
   },
   {
    "duration": 56,
    "start_time": "2023-03-17T14:41:26.762Z"
   },
   {
    "duration": 8,
    "start_time": "2023-03-17T14:41:26.822Z"
   },
   {
    "duration": 9,
    "start_time": "2023-03-17T14:41:26.831Z"
   },
   {
    "duration": 13,
    "start_time": "2023-03-17T14:41:26.842Z"
   },
   {
    "duration": 343,
    "start_time": "2023-03-17T14:41:26.857Z"
   },
   {
    "duration": 9,
    "start_time": "2023-03-17T14:41:27.202Z"
   },
   {
    "duration": 132,
    "start_time": "2023-03-17T14:41:27.223Z"
   },
   {
    "duration": 7,
    "start_time": "2023-03-17T14:41:27.357Z"
   },
   {
    "duration": 28,
    "start_time": "2023-03-17T14:41:27.366Z"
   },
   {
    "duration": 274,
    "start_time": "2023-03-17T14:41:27.396Z"
   },
   {
    "duration": 266,
    "start_time": "2023-03-17T14:41:27.671Z"
   },
   {
    "duration": 342,
    "start_time": "2023-03-17T14:41:27.938Z"
   },
   {
    "duration": 266,
    "start_time": "2023-03-17T14:41:28.281Z"
   },
   {
    "duration": 262,
    "start_time": "2023-03-17T14:41:28.549Z"
   },
   {
    "duration": 10,
    "start_time": "2023-03-17T14:41:28.813Z"
   },
   {
    "duration": 7,
    "start_time": "2023-03-17T14:41:28.825Z"
   },
   {
    "duration": 7,
    "start_time": "2023-03-17T14:41:28.833Z"
   },
   {
    "duration": 133,
    "start_time": "2023-03-17T14:41:28.842Z"
   },
   {
    "duration": 4,
    "start_time": "2023-03-17T14:41:28.977Z"
   },
   {
    "duration": 12,
    "start_time": "2023-03-17T14:41:28.983Z"
   },
   {
    "duration": 145,
    "start_time": "2023-03-17T14:41:28.996Z"
   },
   {
    "duration": 5,
    "start_time": "2023-03-17T14:41:29.143Z"
   },
   {
    "duration": 164,
    "start_time": "2023-03-17T14:41:29.150Z"
   },
   {
    "duration": 10,
    "start_time": "2023-03-17T14:41:29.316Z"
   },
   {
    "duration": 8,
    "start_time": "2023-03-17T14:41:29.327Z"
   },
   {
    "duration": 6,
    "start_time": "2023-03-17T14:41:29.337Z"
   },
   {
    "duration": 7,
    "start_time": "2023-03-17T14:41:29.345Z"
   },
   {
    "duration": 6,
    "start_time": "2023-03-17T14:41:29.354Z"
   },
   {
    "duration": 8,
    "start_time": "2023-03-17T14:41:29.361Z"
   },
   {
    "duration": 7,
    "start_time": "2023-03-17T14:41:29.370Z"
   },
   {
    "duration": 53,
    "start_time": "2023-03-17T14:41:29.378Z"
   },
   {
    "duration": 4,
    "start_time": "2023-03-17T14:41:29.433Z"
   },
   {
    "duration": 13,
    "start_time": "2023-03-17T14:41:29.438Z"
   },
   {
    "duration": 7,
    "start_time": "2023-03-17T14:41:29.453Z"
   },
   {
    "duration": 9,
    "start_time": "2023-03-17T14:41:29.462Z"
   },
   {
    "duration": 6,
    "start_time": "2023-03-17T14:41:29.473Z"
   },
   {
    "duration": 13,
    "start_time": "2023-03-17T14:41:29.481Z"
   },
   {
    "duration": 6,
    "start_time": "2023-03-17T14:41:29.496Z"
   },
   {
    "duration": 26,
    "start_time": "2023-03-17T14:41:29.504Z"
   },
   {
    "duration": 8,
    "start_time": "2023-03-17T14:41:29.535Z"
   },
   {
    "duration": 41,
    "start_time": "2023-03-17T14:41:29.544Z"
   },
   {
    "duration": 4,
    "start_time": "2023-03-17T14:41:29.587Z"
   },
   {
    "duration": 9,
    "start_time": "2023-03-17T14:41:29.593Z"
   },
   {
    "duration": 24,
    "start_time": "2023-03-17T14:41:29.604Z"
   },
   {
    "duration": 1135,
    "start_time": "2023-03-17T14:49:16.357Z"
   },
   {
    "duration": 27,
    "start_time": "2023-03-17T14:49:17.494Z"
   },
   {
    "duration": 12,
    "start_time": "2023-03-17T14:49:17.522Z"
   },
   {
    "duration": 14,
    "start_time": "2023-03-17T14:49:17.536Z"
   },
   {
    "duration": 10,
    "start_time": "2023-03-17T14:49:17.552Z"
   },
   {
    "duration": 7,
    "start_time": "2023-03-17T14:49:17.563Z"
   },
   {
    "duration": 16,
    "start_time": "2023-03-17T14:49:17.571Z"
   },
   {
    "duration": 37,
    "start_time": "2023-03-17T14:49:17.589Z"
   },
   {
    "duration": 15,
    "start_time": "2023-03-17T14:49:17.628Z"
   },
   {
    "duration": 8,
    "start_time": "2023-03-17T14:49:17.645Z"
   },
   {
    "duration": 4,
    "start_time": "2023-03-17T14:49:17.654Z"
   },
   {
    "duration": 8,
    "start_time": "2023-03-17T14:49:17.660Z"
   },
   {
    "duration": 7,
    "start_time": "2023-03-17T14:49:17.670Z"
   },
   {
    "duration": 10,
    "start_time": "2023-03-17T14:49:17.679Z"
   },
   {
    "duration": 10,
    "start_time": "2023-03-17T14:49:17.691Z"
   },
   {
    "duration": 10,
    "start_time": "2023-03-17T14:49:17.723Z"
   },
   {
    "duration": 6,
    "start_time": "2023-03-17T14:49:17.735Z"
   },
   {
    "duration": 10,
    "start_time": "2023-03-17T14:49:17.742Z"
   },
   {
    "duration": 5,
    "start_time": "2023-03-17T14:49:17.753Z"
   },
   {
    "duration": 7,
    "start_time": "2023-03-17T14:49:17.760Z"
   },
   {
    "duration": 8,
    "start_time": "2023-03-17T14:49:17.769Z"
   },
   {
    "duration": 14,
    "start_time": "2023-03-17T14:49:17.778Z"
   },
   {
    "duration": 48,
    "start_time": "2023-03-17T14:49:17.793Z"
   },
   {
    "duration": 6,
    "start_time": "2023-03-17T14:49:17.843Z"
   },
   {
    "duration": 5,
    "start_time": "2023-03-17T14:49:17.851Z"
   },
   {
    "duration": 11,
    "start_time": "2023-03-17T14:49:17.857Z"
   },
   {
    "duration": 7,
    "start_time": "2023-03-17T14:49:17.869Z"
   },
   {
    "duration": 13,
    "start_time": "2023-03-17T14:49:17.880Z"
   },
   {
    "duration": 324,
    "start_time": "2023-03-17T14:49:17.894Z"
   },
   {
    "duration": 8,
    "start_time": "2023-03-17T14:49:18.223Z"
   },
   {
    "duration": 42,
    "start_time": "2023-03-17T14:49:18.232Z"
   },
   {
    "duration": 7,
    "start_time": "2023-03-17T14:49:18.276Z"
   },
   {
    "duration": 8,
    "start_time": "2023-03-17T14:49:18.284Z"
   },
   {
    "duration": 9,
    "start_time": "2023-03-17T14:49:18.293Z"
   },
   {
    "duration": 321,
    "start_time": "2023-03-17T14:49:18.323Z"
   },
   {
    "duration": 8,
    "start_time": "2023-03-17T14:49:18.646Z"
   },
   {
    "duration": 47,
    "start_time": "2023-03-17T14:49:18.655Z"
   },
   {
    "duration": 23,
    "start_time": "2023-03-17T14:49:18.704Z"
   },
   {
    "duration": 10,
    "start_time": "2023-03-17T14:49:18.730Z"
   },
   {
    "duration": 7,
    "start_time": "2023-03-17T14:49:18.741Z"
   },
   {
    "duration": 314,
    "start_time": "2023-03-17T14:49:18.750Z"
   },
   {
    "duration": 7,
    "start_time": "2023-03-17T14:49:19.066Z"
   },
   {
    "duration": 58,
    "start_time": "2023-03-17T14:49:19.075Z"
   },
   {
    "duration": 14,
    "start_time": "2023-03-17T14:49:19.135Z"
   },
   {
    "duration": 11,
    "start_time": "2023-03-17T14:49:19.151Z"
   },
   {
    "duration": 8,
    "start_time": "2023-03-17T14:49:19.164Z"
   },
   {
    "duration": 338,
    "start_time": "2023-03-17T14:49:19.173Z"
   },
   {
    "duration": 11,
    "start_time": "2023-03-17T14:49:19.513Z"
   },
   {
    "duration": 134,
    "start_time": "2023-03-17T14:49:19.526Z"
   },
   {
    "duration": 9,
    "start_time": "2023-03-17T14:49:19.661Z"
   },
   {
    "duration": 30,
    "start_time": "2023-03-17T14:49:19.671Z"
   },
   {
    "duration": 281,
    "start_time": "2023-03-17T14:49:19.703Z"
   },
   {
    "duration": 298,
    "start_time": "2023-03-17T14:49:19.987Z"
   },
   {
    "duration": 405,
    "start_time": "2023-03-17T14:49:20.288Z"
   },
   {
    "duration": 276,
    "start_time": "2023-03-17T14:49:20.695Z"
   },
   {
    "duration": 252,
    "start_time": "2023-03-17T14:49:20.972Z"
   },
   {
    "duration": 6,
    "start_time": "2023-03-17T14:49:21.226Z"
   },
   {
    "duration": 8,
    "start_time": "2023-03-17T14:49:21.234Z"
   },
   {
    "duration": 5,
    "start_time": "2023-03-17T14:49:21.243Z"
   },
   {
    "duration": 147,
    "start_time": "2023-03-17T14:49:21.250Z"
   },
   {
    "duration": 5,
    "start_time": "2023-03-17T14:49:21.399Z"
   },
   {
    "duration": 9,
    "start_time": "2023-03-17T14:49:21.405Z"
   },
   {
    "duration": 144,
    "start_time": "2023-03-17T14:49:21.423Z"
   },
   {
    "duration": 4,
    "start_time": "2023-03-17T14:49:21.569Z"
   },
   {
    "duration": 150,
    "start_time": "2023-03-17T14:49:21.575Z"
   },
   {
    "duration": 6,
    "start_time": "2023-03-17T14:49:21.726Z"
   },
   {
    "duration": 7,
    "start_time": "2023-03-17T14:49:21.733Z"
   },
   {
    "duration": 8,
    "start_time": "2023-03-17T14:49:21.741Z"
   },
   {
    "duration": 6,
    "start_time": "2023-03-17T14:49:21.751Z"
   },
   {
    "duration": 6,
    "start_time": "2023-03-17T14:49:21.759Z"
   },
   {
    "duration": 8,
    "start_time": "2023-03-17T14:49:21.766Z"
   },
   {
    "duration": 7,
    "start_time": "2023-03-17T14:49:21.775Z"
   },
   {
    "duration": 62,
    "start_time": "2023-03-17T14:49:21.783Z"
   },
   {
    "duration": 5,
    "start_time": "2023-03-17T14:49:21.846Z"
   },
   {
    "duration": 10,
    "start_time": "2023-03-17T14:49:21.853Z"
   },
   {
    "duration": 7,
    "start_time": "2023-03-17T14:49:21.865Z"
   },
   {
    "duration": 9,
    "start_time": "2023-03-17T14:49:21.874Z"
   },
   {
    "duration": 8,
    "start_time": "2023-03-17T14:49:21.884Z"
   },
   {
    "duration": 7,
    "start_time": "2023-03-17T14:49:21.924Z"
   },
   {
    "duration": 4,
    "start_time": "2023-03-17T14:49:21.933Z"
   },
   {
    "duration": 14,
    "start_time": "2023-03-17T14:49:21.939Z"
   },
   {
    "duration": 9,
    "start_time": "2023-03-17T14:49:21.958Z"
   },
   {
    "duration": 21,
    "start_time": "2023-03-17T14:49:21.969Z"
   },
   {
    "duration": 34,
    "start_time": "2023-03-17T14:49:21.992Z"
   },
   {
    "duration": 12,
    "start_time": "2023-03-17T14:49:22.028Z"
   },
   {
    "duration": 10,
    "start_time": "2023-03-17T14:49:22.042Z"
   },
   {
    "duration": 1199,
    "start_time": "2023-03-17T15:50:38.812Z"
   },
   {
    "duration": 28,
    "start_time": "2023-03-17T15:50:40.013Z"
   },
   {
    "duration": 12,
    "start_time": "2023-03-17T15:50:40.043Z"
   },
   {
    "duration": 7,
    "start_time": "2023-03-17T15:50:40.057Z"
   },
   {
    "duration": 16,
    "start_time": "2023-03-17T15:50:40.066Z"
   },
   {
    "duration": 8,
    "start_time": "2023-03-17T15:50:40.084Z"
   },
   {
    "duration": 15,
    "start_time": "2023-03-17T15:50:40.093Z"
   },
   {
    "duration": 37,
    "start_time": "2023-03-17T15:50:40.110Z"
   },
   {
    "duration": 16,
    "start_time": "2023-03-17T15:50:40.149Z"
   },
   {
    "duration": 9,
    "start_time": "2023-03-17T15:50:40.167Z"
   },
   {
    "duration": 5,
    "start_time": "2023-03-17T15:50:40.177Z"
   },
   {
    "duration": 10,
    "start_time": "2023-03-17T15:50:40.184Z"
   },
   {
    "duration": 12,
    "start_time": "2023-03-17T15:50:40.196Z"
   },
   {
    "duration": 20,
    "start_time": "2023-03-17T15:50:40.211Z"
   },
   {
    "duration": 13,
    "start_time": "2023-03-17T15:50:40.233Z"
   },
   {
    "duration": 7,
    "start_time": "2023-03-17T15:50:40.248Z"
   },
   {
    "duration": 22,
    "start_time": "2023-03-17T15:50:40.257Z"
   },
   {
    "duration": 9,
    "start_time": "2023-03-17T15:50:40.281Z"
   },
   {
    "duration": 5,
    "start_time": "2023-03-17T15:50:40.292Z"
   },
   {
    "duration": 7,
    "start_time": "2023-03-17T15:50:40.299Z"
   },
   {
    "duration": 17,
    "start_time": "2023-03-17T15:50:40.308Z"
   },
   {
    "duration": 8,
    "start_time": "2023-03-17T15:50:40.327Z"
   },
   {
    "duration": 8,
    "start_time": "2023-03-17T15:50:40.337Z"
   },
   {
    "duration": 8,
    "start_time": "2023-03-17T15:50:40.376Z"
   },
   {
    "duration": 6,
    "start_time": "2023-03-17T15:50:40.386Z"
   },
   {
    "duration": 9,
    "start_time": "2023-03-17T15:50:40.393Z"
   },
   {
    "duration": 5,
    "start_time": "2023-03-17T15:50:40.404Z"
   },
   {
    "duration": 20,
    "start_time": "2023-03-17T15:50:40.411Z"
   },
   {
    "duration": 376,
    "start_time": "2023-03-17T15:50:40.432Z"
   },
   {
    "duration": 8,
    "start_time": "2023-03-17T15:50:40.810Z"
   },
   {
    "duration": 68,
    "start_time": "2023-03-17T15:50:40.820Z"
   },
   {
    "duration": 11,
    "start_time": "2023-03-17T15:50:40.890Z"
   },
   {
    "duration": 7,
    "start_time": "2023-03-17T15:50:40.902Z"
   },
   {
    "duration": 8,
    "start_time": "2023-03-17T15:50:40.911Z"
   },
   {
    "duration": 357,
    "start_time": "2023-03-17T15:50:40.921Z"
   },
   {
    "duration": 8,
    "start_time": "2023-03-17T15:50:41.279Z"
   },
   {
    "duration": 54,
    "start_time": "2023-03-17T15:50:41.288Z"
   },
   {
    "duration": 14,
    "start_time": "2023-03-17T15:50:41.344Z"
   },
   {
    "duration": 19,
    "start_time": "2023-03-17T15:50:41.360Z"
   },
   {
    "duration": 7,
    "start_time": "2023-03-17T15:50:41.381Z"
   },
   {
    "duration": 335,
    "start_time": "2023-03-17T15:50:41.392Z"
   },
   {
    "duration": 9,
    "start_time": "2023-03-17T15:50:41.728Z"
   },
   {
    "duration": 57,
    "start_time": "2023-03-17T15:50:41.738Z"
   },
   {
    "duration": 11,
    "start_time": "2023-03-17T15:50:41.797Z"
   },
   {
    "duration": 17,
    "start_time": "2023-03-17T15:50:41.809Z"
   },
   {
    "duration": 7,
    "start_time": "2023-03-17T15:50:41.828Z"
   },
   {
    "duration": 350,
    "start_time": "2023-03-17T15:50:41.836Z"
   },
   {
    "duration": 8,
    "start_time": "2023-03-17T15:50:42.187Z"
   },
   {
    "duration": 145,
    "start_time": "2023-03-17T15:50:42.197Z"
   },
   {
    "duration": 16,
    "start_time": "2023-03-17T15:50:42.344Z"
   },
   {
    "duration": 37,
    "start_time": "2023-03-17T15:50:42.362Z"
   },
   {
    "duration": 294,
    "start_time": "2023-03-17T15:50:42.401Z"
   },
   {
    "duration": 302,
    "start_time": "2023-03-17T15:50:42.697Z"
   },
   {
    "duration": 369,
    "start_time": "2023-03-17T15:50:43.000Z"
   },
   {
    "duration": 285,
    "start_time": "2023-03-17T15:50:43.370Z"
   },
   {
    "duration": 282,
    "start_time": "2023-03-17T15:50:43.657Z"
   },
   {
    "duration": 6,
    "start_time": "2023-03-17T15:50:43.941Z"
   },
   {
    "duration": 8,
    "start_time": "2023-03-17T15:50:43.949Z"
   },
   {
    "duration": 6,
    "start_time": "2023-03-17T15:50:43.974Z"
   },
   {
    "duration": 164,
    "start_time": "2023-03-17T15:50:43.982Z"
   },
   {
    "duration": 6,
    "start_time": "2023-03-17T15:50:44.148Z"
   },
   {
    "duration": 19,
    "start_time": "2023-03-17T15:50:44.156Z"
   },
   {
    "duration": 168,
    "start_time": "2023-03-17T15:50:44.178Z"
   },
   {
    "duration": 5,
    "start_time": "2023-03-17T15:50:44.348Z"
   },
   {
    "duration": 147,
    "start_time": "2023-03-17T15:50:44.355Z"
   },
   {
    "duration": 5,
    "start_time": "2023-03-17T15:50:44.505Z"
   },
   {
    "duration": 10,
    "start_time": "2023-03-17T15:50:44.512Z"
   },
   {
    "duration": 9,
    "start_time": "2023-03-17T15:50:44.523Z"
   },
   {
    "duration": 9,
    "start_time": "2023-03-17T15:50:44.534Z"
   },
   {
    "duration": 35,
    "start_time": "2023-03-17T15:50:44.545Z"
   },
   {
    "duration": 10,
    "start_time": "2023-03-17T15:50:44.582Z"
   },
   {
    "duration": 28,
    "start_time": "2023-03-17T15:50:44.594Z"
   },
   {
    "duration": 34,
    "start_time": "2023-03-17T15:50:44.624Z"
   },
   {
    "duration": 5,
    "start_time": "2023-03-17T15:50:44.659Z"
   },
   {
    "duration": 10,
    "start_time": "2023-03-17T15:50:44.675Z"
   },
   {
    "duration": 9,
    "start_time": "2023-03-17T15:50:44.687Z"
   },
   {
    "duration": 15,
    "start_time": "2023-03-17T15:50:44.698Z"
   },
   {
    "duration": 31,
    "start_time": "2023-03-17T15:50:44.714Z"
   },
   {
    "duration": 9,
    "start_time": "2023-03-17T15:50:44.747Z"
   },
   {
    "duration": 9,
    "start_time": "2023-03-17T15:50:44.758Z"
   },
   {
    "duration": 10,
    "start_time": "2023-03-17T15:50:44.768Z"
   },
   {
    "duration": 10,
    "start_time": "2023-03-17T15:50:44.780Z"
   },
   {
    "duration": 24,
    "start_time": "2023-03-17T15:50:44.792Z"
   },
   {
    "duration": 5,
    "start_time": "2023-03-17T15:50:44.818Z"
   },
   {
    "duration": 11,
    "start_time": "2023-03-17T15:50:44.825Z"
   },
   {
    "duration": 10,
    "start_time": "2023-03-17T15:50:44.837Z"
   }
  ],
  "kernelspec": {
   "display_name": "Python 3 (ipykernel)",
   "language": "python",
   "name": "python3"
  },
  "language_info": {
   "codemirror_mode": {
    "name": "ipython",
    "version": 3
   },
   "file_extension": ".py",
   "mimetype": "text/x-python",
   "name": "python",
   "nbconvert_exporter": "python",
   "pygments_lexer": "ipython3",
   "version": "3.9.5"
  },
  "toc": {
   "base_numbering": 1,
   "nav_menu": {},
   "number_sections": true,
   "sideBar": true,
   "skip_h1_title": true,
   "title_cell": "Table of Contents",
   "title_sidebar": "Contents",
   "toc_cell": false,
   "toc_position": {},
   "toc_section_display": true,
   "toc_window_display": true
  }
 },
 "nbformat": 4,
 "nbformat_minor": 2
}
