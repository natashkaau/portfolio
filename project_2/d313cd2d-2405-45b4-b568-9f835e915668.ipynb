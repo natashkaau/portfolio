{
 "cells": [
  {
   "cell_type": "markdown",
   "id": "d74dd13e",
   "metadata": {
    "deletable": false,
    "editable": false,
    "id": "c81daeeb"
   },
   "source": [
    "# Исследование надежности заемщиков"
   ]
  },
  {
   "cell_type": "markdown",
   "id": "d888c770",
   "metadata": {
    "deletable": false,
    "editable": false,
    "id": "744d7639"
   },
   "source": [
    "## Откройте таблицу и изучите общую информацию о данных"
   ]
  },
  {
   "cell_type": "markdown",
   "id": "528663e9",
   "metadata": {
    "deletable": false,
    "editable": false,
    "id": "e7a14c31",
    "tags": [
     "start_task"
    ]
   },
   "source": [
    "**Задание 1. Импортируйте библиотеку pandas. Считайте данные из csv-файла в датафрейм и сохраните в переменную `data`. Путь к файлу:**\n",
    "\n",
    "`/datasets/data.csv`"
   ]
  },
  {
   "cell_type": "code",
   "execution_count": 1,
   "id": "7acda455",
   "metadata": {
    "id": "7bcf75c9"
   },
   "outputs": [],
   "source": [
    "import pandas as pd# импортируйте библиотеку pandas"
   ]
  },
  {
   "cell_type": "code",
   "execution_count": 2,
   "id": "7ce4fe21",
   "metadata": {
    "id": "4d240ee2"
   },
   "outputs": [],
   "source": [
    "data = pd.read_csv('/datasets/data.csv')# прочитайте csv-файл"
   ]
  },
  {
   "cell_type": "markdown",
   "id": "19fc7abe",
   "metadata": {
    "deletable": false,
    "editable": false,
    "id": "b8038fe3",
    "tags": [
     "start_task"
    ]
   },
   "source": [
    "**Задание 2. Выведите первые 20 строчек датафрейма `data` на экран.**"
   ]
  },
  {
   "cell_type": "code",
   "execution_count": 3,
   "id": "14474af8",
   "metadata": {
    "id": "2a7cab99"
   },
   "outputs": [
    {
     "data": {
      "text/html": [
       "<div>\n",
       "<style scoped>\n",
       "    .dataframe tbody tr th:only-of-type {\n",
       "        vertical-align: middle;\n",
       "    }\n",
       "\n",
       "    .dataframe tbody tr th {\n",
       "        vertical-align: top;\n",
       "    }\n",
       "\n",
       "    .dataframe thead th {\n",
       "        text-align: right;\n",
       "    }\n",
       "</style>\n",
       "<table border=\"1\" class=\"dataframe\">\n",
       "  <thead>\n",
       "    <tr style=\"text-align: right;\">\n",
       "      <th></th>\n",
       "      <th>children</th>\n",
       "      <th>days_employed</th>\n",
       "      <th>dob_years</th>\n",
       "      <th>education</th>\n",
       "      <th>education_id</th>\n",
       "      <th>family_status</th>\n",
       "      <th>family_status_id</th>\n",
       "      <th>gender</th>\n",
       "      <th>income_type</th>\n",
       "      <th>debt</th>\n",
       "      <th>total_income</th>\n",
       "      <th>purpose</th>\n",
       "    </tr>\n",
       "  </thead>\n",
       "  <tbody>\n",
       "    <tr>\n",
       "      <th>0</th>\n",
       "      <td>1</td>\n",
       "      <td>-8437.673028</td>\n",
       "      <td>42</td>\n",
       "      <td>высшее</td>\n",
       "      <td>0</td>\n",
       "      <td>женат / замужем</td>\n",
       "      <td>0</td>\n",
       "      <td>F</td>\n",
       "      <td>сотрудник</td>\n",
       "      <td>0</td>\n",
       "      <td>253875.639453</td>\n",
       "      <td>покупка жилья</td>\n",
       "    </tr>\n",
       "    <tr>\n",
       "      <th>1</th>\n",
       "      <td>1</td>\n",
       "      <td>-4024.803754</td>\n",
       "      <td>36</td>\n",
       "      <td>среднее</td>\n",
       "      <td>1</td>\n",
       "      <td>женат / замужем</td>\n",
       "      <td>0</td>\n",
       "      <td>F</td>\n",
       "      <td>сотрудник</td>\n",
       "      <td>0</td>\n",
       "      <td>112080.014102</td>\n",
       "      <td>приобретение автомобиля</td>\n",
       "    </tr>\n",
       "    <tr>\n",
       "      <th>2</th>\n",
       "      <td>0</td>\n",
       "      <td>-5623.422610</td>\n",
       "      <td>33</td>\n",
       "      <td>Среднее</td>\n",
       "      <td>1</td>\n",
       "      <td>женат / замужем</td>\n",
       "      <td>0</td>\n",
       "      <td>M</td>\n",
       "      <td>сотрудник</td>\n",
       "      <td>0</td>\n",
       "      <td>145885.952297</td>\n",
       "      <td>покупка жилья</td>\n",
       "    </tr>\n",
       "    <tr>\n",
       "      <th>3</th>\n",
       "      <td>3</td>\n",
       "      <td>-4124.747207</td>\n",
       "      <td>32</td>\n",
       "      <td>среднее</td>\n",
       "      <td>1</td>\n",
       "      <td>женат / замужем</td>\n",
       "      <td>0</td>\n",
       "      <td>M</td>\n",
       "      <td>сотрудник</td>\n",
       "      <td>0</td>\n",
       "      <td>267628.550329</td>\n",
       "      <td>дополнительное образование</td>\n",
       "    </tr>\n",
       "    <tr>\n",
       "      <th>4</th>\n",
       "      <td>0</td>\n",
       "      <td>340266.072047</td>\n",
       "      <td>53</td>\n",
       "      <td>среднее</td>\n",
       "      <td>1</td>\n",
       "      <td>гражданский брак</td>\n",
       "      <td>1</td>\n",
       "      <td>F</td>\n",
       "      <td>пенсионер</td>\n",
       "      <td>0</td>\n",
       "      <td>158616.077870</td>\n",
       "      <td>сыграть свадьбу</td>\n",
       "    </tr>\n",
       "    <tr>\n",
       "      <th>5</th>\n",
       "      <td>0</td>\n",
       "      <td>-926.185831</td>\n",
       "      <td>27</td>\n",
       "      <td>высшее</td>\n",
       "      <td>0</td>\n",
       "      <td>гражданский брак</td>\n",
       "      <td>1</td>\n",
       "      <td>M</td>\n",
       "      <td>компаньон</td>\n",
       "      <td>0</td>\n",
       "      <td>255763.565419</td>\n",
       "      <td>покупка жилья</td>\n",
       "    </tr>\n",
       "    <tr>\n",
       "      <th>6</th>\n",
       "      <td>0</td>\n",
       "      <td>-2879.202052</td>\n",
       "      <td>43</td>\n",
       "      <td>высшее</td>\n",
       "      <td>0</td>\n",
       "      <td>женат / замужем</td>\n",
       "      <td>0</td>\n",
       "      <td>F</td>\n",
       "      <td>компаньон</td>\n",
       "      <td>0</td>\n",
       "      <td>240525.971920</td>\n",
       "      <td>операции с жильем</td>\n",
       "    </tr>\n",
       "    <tr>\n",
       "      <th>7</th>\n",
       "      <td>0</td>\n",
       "      <td>-152.779569</td>\n",
       "      <td>50</td>\n",
       "      <td>СРЕДНЕЕ</td>\n",
       "      <td>1</td>\n",
       "      <td>женат / замужем</td>\n",
       "      <td>0</td>\n",
       "      <td>M</td>\n",
       "      <td>сотрудник</td>\n",
       "      <td>0</td>\n",
       "      <td>135823.934197</td>\n",
       "      <td>образование</td>\n",
       "    </tr>\n",
       "    <tr>\n",
       "      <th>8</th>\n",
       "      <td>2</td>\n",
       "      <td>-6929.865299</td>\n",
       "      <td>35</td>\n",
       "      <td>ВЫСШЕЕ</td>\n",
       "      <td>0</td>\n",
       "      <td>гражданский брак</td>\n",
       "      <td>1</td>\n",
       "      <td>F</td>\n",
       "      <td>сотрудник</td>\n",
       "      <td>0</td>\n",
       "      <td>95856.832424</td>\n",
       "      <td>на проведение свадьбы</td>\n",
       "    </tr>\n",
       "    <tr>\n",
       "      <th>9</th>\n",
       "      <td>0</td>\n",
       "      <td>-2188.756445</td>\n",
       "      <td>41</td>\n",
       "      <td>среднее</td>\n",
       "      <td>1</td>\n",
       "      <td>женат / замужем</td>\n",
       "      <td>0</td>\n",
       "      <td>M</td>\n",
       "      <td>сотрудник</td>\n",
       "      <td>0</td>\n",
       "      <td>144425.938277</td>\n",
       "      <td>покупка жилья для семьи</td>\n",
       "    </tr>\n",
       "    <tr>\n",
       "      <th>10</th>\n",
       "      <td>2</td>\n",
       "      <td>-4171.483647</td>\n",
       "      <td>36</td>\n",
       "      <td>высшее</td>\n",
       "      <td>0</td>\n",
       "      <td>женат / замужем</td>\n",
       "      <td>0</td>\n",
       "      <td>M</td>\n",
       "      <td>компаньон</td>\n",
       "      <td>0</td>\n",
       "      <td>113943.491460</td>\n",
       "      <td>покупка недвижимости</td>\n",
       "    </tr>\n",
       "    <tr>\n",
       "      <th>11</th>\n",
       "      <td>0</td>\n",
       "      <td>-792.701887</td>\n",
       "      <td>40</td>\n",
       "      <td>среднее</td>\n",
       "      <td>1</td>\n",
       "      <td>женат / замужем</td>\n",
       "      <td>0</td>\n",
       "      <td>F</td>\n",
       "      <td>сотрудник</td>\n",
       "      <td>0</td>\n",
       "      <td>77069.234271</td>\n",
       "      <td>покупка коммерческой недвижимости</td>\n",
       "    </tr>\n",
       "    <tr>\n",
       "      <th>12</th>\n",
       "      <td>0</td>\n",
       "      <td>NaN</td>\n",
       "      <td>65</td>\n",
       "      <td>среднее</td>\n",
       "      <td>1</td>\n",
       "      <td>гражданский брак</td>\n",
       "      <td>1</td>\n",
       "      <td>M</td>\n",
       "      <td>пенсионер</td>\n",
       "      <td>0</td>\n",
       "      <td>NaN</td>\n",
       "      <td>сыграть свадьбу</td>\n",
       "    </tr>\n",
       "    <tr>\n",
       "      <th>13</th>\n",
       "      <td>0</td>\n",
       "      <td>-1846.641941</td>\n",
       "      <td>54</td>\n",
       "      <td>неоконченное высшее</td>\n",
       "      <td>2</td>\n",
       "      <td>женат / замужем</td>\n",
       "      <td>0</td>\n",
       "      <td>F</td>\n",
       "      <td>сотрудник</td>\n",
       "      <td>0</td>\n",
       "      <td>130458.228857</td>\n",
       "      <td>приобретение автомобиля</td>\n",
       "    </tr>\n",
       "    <tr>\n",
       "      <th>14</th>\n",
       "      <td>0</td>\n",
       "      <td>-1844.956182</td>\n",
       "      <td>56</td>\n",
       "      <td>высшее</td>\n",
       "      <td>0</td>\n",
       "      <td>гражданский брак</td>\n",
       "      <td>1</td>\n",
       "      <td>F</td>\n",
       "      <td>компаньон</td>\n",
       "      <td>1</td>\n",
       "      <td>165127.911772</td>\n",
       "      <td>покупка жилой недвижимости</td>\n",
       "    </tr>\n",
       "    <tr>\n",
       "      <th>15</th>\n",
       "      <td>1</td>\n",
       "      <td>-972.364419</td>\n",
       "      <td>26</td>\n",
       "      <td>среднее</td>\n",
       "      <td>1</td>\n",
       "      <td>женат / замужем</td>\n",
       "      <td>0</td>\n",
       "      <td>F</td>\n",
       "      <td>сотрудник</td>\n",
       "      <td>0</td>\n",
       "      <td>116820.904450</td>\n",
       "      <td>строительство собственной недвижимости</td>\n",
       "    </tr>\n",
       "    <tr>\n",
       "      <th>16</th>\n",
       "      <td>0</td>\n",
       "      <td>-1719.934226</td>\n",
       "      <td>35</td>\n",
       "      <td>среднее</td>\n",
       "      <td>1</td>\n",
       "      <td>женат / замужем</td>\n",
       "      <td>0</td>\n",
       "      <td>F</td>\n",
       "      <td>сотрудник</td>\n",
       "      <td>0</td>\n",
       "      <td>289202.704229</td>\n",
       "      <td>недвижимость</td>\n",
       "    </tr>\n",
       "    <tr>\n",
       "      <th>17</th>\n",
       "      <td>0</td>\n",
       "      <td>-2369.999720</td>\n",
       "      <td>33</td>\n",
       "      <td>высшее</td>\n",
       "      <td>0</td>\n",
       "      <td>гражданский брак</td>\n",
       "      <td>1</td>\n",
       "      <td>M</td>\n",
       "      <td>сотрудник</td>\n",
       "      <td>0</td>\n",
       "      <td>90410.586745</td>\n",
       "      <td>строительство недвижимости</td>\n",
       "    </tr>\n",
       "    <tr>\n",
       "      <th>18</th>\n",
       "      <td>0</td>\n",
       "      <td>400281.136913</td>\n",
       "      <td>53</td>\n",
       "      <td>среднее</td>\n",
       "      <td>1</td>\n",
       "      <td>вдовец / вдова</td>\n",
       "      <td>2</td>\n",
       "      <td>F</td>\n",
       "      <td>пенсионер</td>\n",
       "      <td>0</td>\n",
       "      <td>56823.777243</td>\n",
       "      <td>на покупку подержанного автомобиля</td>\n",
       "    </tr>\n",
       "    <tr>\n",
       "      <th>19</th>\n",
       "      <td>0</td>\n",
       "      <td>-10038.818549</td>\n",
       "      <td>48</td>\n",
       "      <td>СРЕДНЕЕ</td>\n",
       "      <td>1</td>\n",
       "      <td>в разводе</td>\n",
       "      <td>3</td>\n",
       "      <td>F</td>\n",
       "      <td>сотрудник</td>\n",
       "      <td>0</td>\n",
       "      <td>242831.107982</td>\n",
       "      <td>на покупку своего автомобиля</td>\n",
       "    </tr>\n",
       "  </tbody>\n",
       "</table>\n",
       "</div>"
      ],
      "text/plain": [
       "    children  days_employed  dob_years            education  education_id  \\\n",
       "0          1   -8437.673028         42               высшее             0   \n",
       "1          1   -4024.803754         36              среднее             1   \n",
       "2          0   -5623.422610         33              Среднее             1   \n",
       "3          3   -4124.747207         32              среднее             1   \n",
       "4          0  340266.072047         53              среднее             1   \n",
       "5          0    -926.185831         27               высшее             0   \n",
       "6          0   -2879.202052         43               высшее             0   \n",
       "7          0    -152.779569         50              СРЕДНЕЕ             1   \n",
       "8          2   -6929.865299         35               ВЫСШЕЕ             0   \n",
       "9          0   -2188.756445         41              среднее             1   \n",
       "10         2   -4171.483647         36               высшее             0   \n",
       "11         0    -792.701887         40              среднее             1   \n",
       "12         0            NaN         65              среднее             1   \n",
       "13         0   -1846.641941         54  неоконченное высшее             2   \n",
       "14         0   -1844.956182         56               высшее             0   \n",
       "15         1    -972.364419         26              среднее             1   \n",
       "16         0   -1719.934226         35              среднее             1   \n",
       "17         0   -2369.999720         33               высшее             0   \n",
       "18         0  400281.136913         53              среднее             1   \n",
       "19         0  -10038.818549         48              СРЕДНЕЕ             1   \n",
       "\n",
       "       family_status  family_status_id gender income_type  debt  \\\n",
       "0    женат / замужем                 0      F   сотрудник     0   \n",
       "1    женат / замужем                 0      F   сотрудник     0   \n",
       "2    женат / замужем                 0      M   сотрудник     0   \n",
       "3    женат / замужем                 0      M   сотрудник     0   \n",
       "4   гражданский брак                 1      F   пенсионер     0   \n",
       "5   гражданский брак                 1      M   компаньон     0   \n",
       "6    женат / замужем                 0      F   компаньон     0   \n",
       "7    женат / замужем                 0      M   сотрудник     0   \n",
       "8   гражданский брак                 1      F   сотрудник     0   \n",
       "9    женат / замужем                 0      M   сотрудник     0   \n",
       "10   женат / замужем                 0      M   компаньон     0   \n",
       "11   женат / замужем                 0      F   сотрудник     0   \n",
       "12  гражданский брак                 1      M   пенсионер     0   \n",
       "13   женат / замужем                 0      F   сотрудник     0   \n",
       "14  гражданский брак                 1      F   компаньон     1   \n",
       "15   женат / замужем                 0      F   сотрудник     0   \n",
       "16   женат / замужем                 0      F   сотрудник     0   \n",
       "17  гражданский брак                 1      M   сотрудник     0   \n",
       "18    вдовец / вдова                 2      F   пенсионер     0   \n",
       "19         в разводе                 3      F   сотрудник     0   \n",
       "\n",
       "     total_income                                 purpose  \n",
       "0   253875.639453                           покупка жилья  \n",
       "1   112080.014102                 приобретение автомобиля  \n",
       "2   145885.952297                           покупка жилья  \n",
       "3   267628.550329              дополнительное образование  \n",
       "4   158616.077870                         сыграть свадьбу  \n",
       "5   255763.565419                           покупка жилья  \n",
       "6   240525.971920                       операции с жильем  \n",
       "7   135823.934197                             образование  \n",
       "8    95856.832424                   на проведение свадьбы  \n",
       "9   144425.938277                 покупка жилья для семьи  \n",
       "10  113943.491460                    покупка недвижимости  \n",
       "11   77069.234271       покупка коммерческой недвижимости  \n",
       "12            NaN                         сыграть свадьбу  \n",
       "13  130458.228857                 приобретение автомобиля  \n",
       "14  165127.911772              покупка жилой недвижимости  \n",
       "15  116820.904450  строительство собственной недвижимости  \n",
       "16  289202.704229                            недвижимость  \n",
       "17   90410.586745              строительство недвижимости  \n",
       "18   56823.777243      на покупку подержанного автомобиля  \n",
       "19  242831.107982            на покупку своего автомобиля  "
      ]
     },
     "execution_count": 3,
     "metadata": {},
     "output_type": "execute_result"
    }
   ],
   "source": [
    "data.head(20)# ваш код здесь"
   ]
  },
  {
   "cell_type": "markdown",
   "id": "41f3857d",
   "metadata": {
    "deletable": false,
    "editable": false,
    "id": "1c12e233",
    "tags": [
     "start_task"
    ]
   },
   "source": [
    "**Задание 3. Выведите основную информацию о датафрейме с помощью метода `info()`.**"
   ]
  },
  {
   "cell_type": "code",
   "execution_count": 4,
   "id": "fc000069",
   "metadata": {
    "id": "2b757bca"
   },
   "outputs": [
    {
     "name": "stdout",
     "output_type": "stream",
     "text": [
      "<class 'pandas.core.frame.DataFrame'>\n",
      "RangeIndex: 21525 entries, 0 to 21524\n",
      "Data columns (total 12 columns):\n",
      " #   Column            Non-Null Count  Dtype  \n",
      "---  ------            --------------  -----  \n",
      " 0   children          21525 non-null  int64  \n",
      " 1   days_employed     19351 non-null  float64\n",
      " 2   dob_years         21525 non-null  int64  \n",
      " 3   education         21525 non-null  object \n",
      " 4   education_id      21525 non-null  int64  \n",
      " 5   family_status     21525 non-null  object \n",
      " 6   family_status_id  21525 non-null  int64  \n",
      " 7   gender            21525 non-null  object \n",
      " 8   income_type       21525 non-null  object \n",
      " 9   debt              21525 non-null  int64  \n",
      " 10  total_income      19351 non-null  float64\n",
      " 11  purpose           21525 non-null  object \n",
      "dtypes: float64(2), int64(5), object(5)\n",
      "memory usage: 2.0+ MB\n"
     ]
    }
   ],
   "source": [
    "data.info()# ваш код здесь"
   ]
  },
  {
   "cell_type": "markdown",
   "id": "22f70fc2",
   "metadata": {
    "deletable": false,
    "editable": false,
    "id": "333ec665"
   },
   "source": [
    "## Предобработка данных"
   ]
  },
  {
   "cell_type": "markdown",
   "id": "810f2507",
   "metadata": {
    "deletable": false,
    "editable": false,
    "id": "02d92d53"
   },
   "source": [
    "### Удаление пропусков"
   ]
  },
  {
   "cell_type": "markdown",
   "id": "67be8617",
   "metadata": {
    "deletable": false,
    "editable": false,
    "id": "cd84967c",
    "tags": [
     "start_task"
    ]
   },
   "source": [
    "**Задание 4. Выведите количество пропущенных значений для каждого столбца. Используйте комбинацию двух методов.**"
   ]
  },
  {
   "cell_type": "code",
   "execution_count": 5,
   "id": "af23f54c",
   "metadata": {
    "id": "7f9b2309"
   },
   "outputs": [
    {
     "data": {
      "text/plain": [
       "children               0\n",
       "days_employed       2174\n",
       "dob_years              0\n",
       "education              0\n",
       "education_id           0\n",
       "family_status          0\n",
       "family_status_id       0\n",
       "gender                 0\n",
       "income_type            0\n",
       "debt                   0\n",
       "total_income        2174\n",
       "purpose                0\n",
       "dtype: int64"
      ]
     },
     "execution_count": 5,
     "metadata": {},
     "output_type": "execute_result"
    }
   ],
   "source": [
    "data.isna().sum()# ваш код здесь"
   ]
  },
  {
   "cell_type": "markdown",
   "id": "a96d52ef",
   "metadata": {
    "deletable": false,
    "editable": false,
    "id": "db86e27b",
    "tags": [
     "start_task"
    ]
   },
   "source": [
    "**Задание 5. В двух столбцах есть пропущенные значения. Один из них — `days_employed`. Пропуски в этом столбце вы обработаете на следующем этапе. Другой столбец с пропущенными значениями — `total_income` — хранит данные о доходах. На сумму дохода сильнее всего влияет тип занятости, поэтому заполнить пропуски в этом столбце нужно медианным значением по каждому типу из столбца `income_type`. Например, у человека с типом занятости `сотрудник` пропуск в столбце `total_income` должен быть заполнен медианным доходом среди всех записей с тем же типом.**"
   ]
  },
  {
   "cell_type": "code",
   "execution_count": 6,
   "id": "c51da8ab",
   "metadata": {
    "id": "42006a93"
   },
   "outputs": [
    {
     "data": {
      "text/html": [
       "<div>\n",
       "<style scoped>\n",
       "    .dataframe tbody tr th:only-of-type {\n",
       "        vertical-align: middle;\n",
       "    }\n",
       "\n",
       "    .dataframe tbody tr th {\n",
       "        vertical-align: top;\n",
       "    }\n",
       "\n",
       "    .dataframe thead th {\n",
       "        text-align: right;\n",
       "    }\n",
       "</style>\n",
       "<table border=\"1\" class=\"dataframe\">\n",
       "  <thead>\n",
       "    <tr style=\"text-align: right;\">\n",
       "      <th></th>\n",
       "      <th>children</th>\n",
       "      <th>days_employed</th>\n",
       "      <th>dob_years</th>\n",
       "      <th>education</th>\n",
       "      <th>education_id</th>\n",
       "      <th>family_status</th>\n",
       "      <th>family_status_id</th>\n",
       "      <th>gender</th>\n",
       "      <th>income_type</th>\n",
       "      <th>debt</th>\n",
       "      <th>total_income</th>\n",
       "      <th>purpose</th>\n",
       "    </tr>\n",
       "  </thead>\n",
       "  <tbody>\n",
       "    <tr>\n",
       "      <th>0</th>\n",
       "      <td>1</td>\n",
       "      <td>-8437.673028</td>\n",
       "      <td>42</td>\n",
       "      <td>высшее</td>\n",
       "      <td>0</td>\n",
       "      <td>женат / замужем</td>\n",
       "      <td>0</td>\n",
       "      <td>F</td>\n",
       "      <td>сотрудник</td>\n",
       "      <td>0</td>\n",
       "      <td>253875.639453</td>\n",
       "      <td>покупка жилья</td>\n",
       "    </tr>\n",
       "    <tr>\n",
       "      <th>1</th>\n",
       "      <td>1</td>\n",
       "      <td>-4024.803754</td>\n",
       "      <td>36</td>\n",
       "      <td>среднее</td>\n",
       "      <td>1</td>\n",
       "      <td>женат / замужем</td>\n",
       "      <td>0</td>\n",
       "      <td>F</td>\n",
       "      <td>сотрудник</td>\n",
       "      <td>0</td>\n",
       "      <td>112080.014102</td>\n",
       "      <td>приобретение автомобиля</td>\n",
       "    </tr>\n",
       "    <tr>\n",
       "      <th>2</th>\n",
       "      <td>0</td>\n",
       "      <td>-5623.422610</td>\n",
       "      <td>33</td>\n",
       "      <td>Среднее</td>\n",
       "      <td>1</td>\n",
       "      <td>женат / замужем</td>\n",
       "      <td>0</td>\n",
       "      <td>M</td>\n",
       "      <td>сотрудник</td>\n",
       "      <td>0</td>\n",
       "      <td>145885.952297</td>\n",
       "      <td>покупка жилья</td>\n",
       "    </tr>\n",
       "    <tr>\n",
       "      <th>3</th>\n",
       "      <td>3</td>\n",
       "      <td>-4124.747207</td>\n",
       "      <td>32</td>\n",
       "      <td>среднее</td>\n",
       "      <td>1</td>\n",
       "      <td>женат / замужем</td>\n",
       "      <td>0</td>\n",
       "      <td>M</td>\n",
       "      <td>сотрудник</td>\n",
       "      <td>0</td>\n",
       "      <td>267628.550329</td>\n",
       "      <td>дополнительное образование</td>\n",
       "    </tr>\n",
       "    <tr>\n",
       "      <th>4</th>\n",
       "      <td>0</td>\n",
       "      <td>340266.072047</td>\n",
       "      <td>53</td>\n",
       "      <td>среднее</td>\n",
       "      <td>1</td>\n",
       "      <td>гражданский брак</td>\n",
       "      <td>1</td>\n",
       "      <td>F</td>\n",
       "      <td>пенсионер</td>\n",
       "      <td>0</td>\n",
       "      <td>158616.077870</td>\n",
       "      <td>сыграть свадьбу</td>\n",
       "    </tr>\n",
       "    <tr>\n",
       "      <th>...</th>\n",
       "      <td>...</td>\n",
       "      <td>...</td>\n",
       "      <td>...</td>\n",
       "      <td>...</td>\n",
       "      <td>...</td>\n",
       "      <td>...</td>\n",
       "      <td>...</td>\n",
       "      <td>...</td>\n",
       "      <td>...</td>\n",
       "      <td>...</td>\n",
       "      <td>...</td>\n",
       "      <td>...</td>\n",
       "    </tr>\n",
       "    <tr>\n",
       "      <th>21520</th>\n",
       "      <td>1</td>\n",
       "      <td>-4529.316663</td>\n",
       "      <td>43</td>\n",
       "      <td>среднее</td>\n",
       "      <td>1</td>\n",
       "      <td>гражданский брак</td>\n",
       "      <td>1</td>\n",
       "      <td>F</td>\n",
       "      <td>компаньон</td>\n",
       "      <td>0</td>\n",
       "      <td>224791.862382</td>\n",
       "      <td>операции с жильем</td>\n",
       "    </tr>\n",
       "    <tr>\n",
       "      <th>21521</th>\n",
       "      <td>0</td>\n",
       "      <td>343937.404131</td>\n",
       "      <td>67</td>\n",
       "      <td>среднее</td>\n",
       "      <td>1</td>\n",
       "      <td>женат / замужем</td>\n",
       "      <td>0</td>\n",
       "      <td>F</td>\n",
       "      <td>пенсионер</td>\n",
       "      <td>0</td>\n",
       "      <td>155999.806512</td>\n",
       "      <td>сделка с автомобилем</td>\n",
       "    </tr>\n",
       "    <tr>\n",
       "      <th>21522</th>\n",
       "      <td>1</td>\n",
       "      <td>-2113.346888</td>\n",
       "      <td>38</td>\n",
       "      <td>среднее</td>\n",
       "      <td>1</td>\n",
       "      <td>гражданский брак</td>\n",
       "      <td>1</td>\n",
       "      <td>M</td>\n",
       "      <td>сотрудник</td>\n",
       "      <td>1</td>\n",
       "      <td>89672.561153</td>\n",
       "      <td>недвижимость</td>\n",
       "    </tr>\n",
       "    <tr>\n",
       "      <th>21523</th>\n",
       "      <td>3</td>\n",
       "      <td>-3112.481705</td>\n",
       "      <td>38</td>\n",
       "      <td>среднее</td>\n",
       "      <td>1</td>\n",
       "      <td>женат / замужем</td>\n",
       "      <td>0</td>\n",
       "      <td>M</td>\n",
       "      <td>сотрудник</td>\n",
       "      <td>1</td>\n",
       "      <td>244093.050500</td>\n",
       "      <td>на покупку своего автомобиля</td>\n",
       "    </tr>\n",
       "    <tr>\n",
       "      <th>21524</th>\n",
       "      <td>2</td>\n",
       "      <td>-1984.507589</td>\n",
       "      <td>40</td>\n",
       "      <td>среднее</td>\n",
       "      <td>1</td>\n",
       "      <td>женат / замужем</td>\n",
       "      <td>0</td>\n",
       "      <td>F</td>\n",
       "      <td>сотрудник</td>\n",
       "      <td>0</td>\n",
       "      <td>82047.418899</td>\n",
       "      <td>на покупку автомобиля</td>\n",
       "    </tr>\n",
       "  </tbody>\n",
       "</table>\n",
       "<p>21525 rows × 12 columns</p>\n",
       "</div>"
      ],
      "text/plain": [
       "       children  days_employed  dob_years education  education_id  \\\n",
       "0             1   -8437.673028         42    высшее             0   \n",
       "1             1   -4024.803754         36   среднее             1   \n",
       "2             0   -5623.422610         33   Среднее             1   \n",
       "3             3   -4124.747207         32   среднее             1   \n",
       "4             0  340266.072047         53   среднее             1   \n",
       "...         ...            ...        ...       ...           ...   \n",
       "21520         1   -4529.316663         43   среднее             1   \n",
       "21521         0  343937.404131         67   среднее             1   \n",
       "21522         1   -2113.346888         38   среднее             1   \n",
       "21523         3   -3112.481705         38   среднее             1   \n",
       "21524         2   -1984.507589         40   среднее             1   \n",
       "\n",
       "          family_status  family_status_id gender income_type  debt  \\\n",
       "0       женат / замужем                 0      F   сотрудник     0   \n",
       "1       женат / замужем                 0      F   сотрудник     0   \n",
       "2       женат / замужем                 0      M   сотрудник     0   \n",
       "3       женат / замужем                 0      M   сотрудник     0   \n",
       "4      гражданский брак                 1      F   пенсионер     0   \n",
       "...                 ...               ...    ...         ...   ...   \n",
       "21520  гражданский брак                 1      F   компаньон     0   \n",
       "21521   женат / замужем                 0      F   пенсионер     0   \n",
       "21522  гражданский брак                 1      M   сотрудник     1   \n",
       "21523   женат / замужем                 0      M   сотрудник     1   \n",
       "21524   женат / замужем                 0      F   сотрудник     0   \n",
       "\n",
       "        total_income                       purpose  \n",
       "0      253875.639453                 покупка жилья  \n",
       "1      112080.014102       приобретение автомобиля  \n",
       "2      145885.952297                 покупка жилья  \n",
       "3      267628.550329    дополнительное образование  \n",
       "4      158616.077870               сыграть свадьбу  \n",
       "...              ...                           ...  \n",
       "21520  224791.862382             операции с жильем  \n",
       "21521  155999.806512          сделка с автомобилем  \n",
       "21522   89672.561153                  недвижимость  \n",
       "21523  244093.050500  на покупку своего автомобиля  \n",
       "21524   82047.418899         на покупку автомобиля  \n",
       "\n",
       "[21525 rows x 12 columns]"
      ]
     },
     "execution_count": 6,
     "metadata": {},
     "output_type": "execute_result"
    }
   ],
   "source": [
    "total_income_median = data.groupby('income_type')['total_income'].median()\n",
    "total_income_med=list(data['income_type'].unique())\n",
    "for row in total_income_med:\n",
    "    data[data['income_type']==row] = data[data['income_type']==row].fillna({'total_income':total_income_median[row]})\n",
    "data\n"
   ]
  },
  {
   "cell_type": "markdown",
   "id": "22ccb70a",
   "metadata": {
    "deletable": false,
    "editable": false,
    "id": "89da5ece"
   },
   "source": [
    "### Обработка аномальных значений"
   ]
  },
  {
   "cell_type": "markdown",
   "id": "037f5019",
   "metadata": {
    "deletable": false,
    "editable": false,
    "id": "57964554",
    "tags": [
     "start_task"
    ]
   },
   "source": [
    "**Задание 6. В данных могут встречаться артефакты (аномалии) — значения, которые не отражают действительность и появились по какой-то ошибке. Таким артефактом будет отрицательное количество дней трудового стажа в столбце `days_employed`. Для реальных данных это нормально. Обработайте значения в этом столбце: замените все отрицательные значения положительными с помощью метода `abs()`.**"
   ]
  },
  {
   "cell_type": "code",
   "execution_count": 7,
   "id": "64dc654f",
   "metadata": {
    "id": "f6f055bf"
   },
   "outputs": [],
   "source": [
    "data['days_employed'] = data['days_employed'].abs()# ваш код здесь"
   ]
  },
  {
   "cell_type": "markdown",
   "id": "6ef4aa82",
   "metadata": {
    "deletable": false,
    "editable": false,
    "id": "6107dd2f",
    "tags": [
     "start_task"
    ]
   },
   "source": [
    "**Задание 7. Для каждого типа занятости выведите медианное значение трудового стажа `days_employed` в днях.**"
   ]
  },
  {
   "cell_type": "code",
   "execution_count": 8,
   "id": "f65307c7",
   "metadata": {
    "id": "85a5faf6"
   },
   "outputs": [
    {
     "data": {
      "text/plain": [
       "income_type\n",
       "безработный        366413.652744\n",
       "в декрете            3296.759962\n",
       "госслужащий          2689.368353\n",
       "компаньон            1547.382223\n",
       "пенсионер          365213.306266\n",
       "предприниматель       520.848083\n",
       "сотрудник            1574.202821\n",
       "студент               578.751554\n",
       "Name: days_employed, dtype: float64"
      ]
     },
     "execution_count": 8,
     "metadata": {},
     "output_type": "execute_result"
    }
   ],
   "source": [
    "data.groupby('income_type')['days_employed'].median()# ваш код здесь"
   ]
  },
  {
   "cell_type": "markdown",
   "id": "cfa989cd",
   "metadata": {
    "deletable": false,
    "editable": false,
    "id": "38d1a030"
   },
   "source": [
    "У двух типов (безработные и пенсионеры) получатся аномально большие значения. Исправить такие значения сложно, поэтому оставьте их как есть. Тем более этот столбец не понадобится вам для исследования."
   ]
  },
  {
   "cell_type": "markdown",
   "id": "c416556b",
   "metadata": {
    "deletable": false,
    "editable": false,
    "id": "d8a9f147",
    "tags": [
     "start_task"
    ]
   },
   "source": [
    "**Задание 8. Выведите перечень уникальных значений столбца `children`.**"
   ]
  },
  {
   "cell_type": "code",
   "execution_count": 9,
   "id": "d65e6d1f",
   "metadata": {
    "id": "ef5056eb"
   },
   "outputs": [
    {
     "data": {
      "text/plain": [
       "array([ 1,  0,  3,  2, -1,  4, 20,  5])"
      ]
     },
     "execution_count": 9,
     "metadata": {},
     "output_type": "execute_result"
    }
   ],
   "source": [
    "data['children'].unique()# ваш код здесь"
   ]
  },
  {
   "cell_type": "markdown",
   "id": "c08cef71",
   "metadata": {
    "deletable": false,
    "editable": false,
    "id": "40b9ebf2",
    "tags": [
     "start_task"
    ]
   },
   "source": [
    "**Задание 9. В столбце `children` есть два аномальных значения. Удалите строки, в которых встречаются такие аномальные значения из датафрейма `data`.**"
   ]
  },
  {
   "cell_type": "code",
   "execution_count": 10,
   "id": "1500e2cd",
   "metadata": {
    "id": "3ff9801d"
   },
   "outputs": [
    {
     "data": {
      "text/html": [
       "<div>\n",
       "<style scoped>\n",
       "    .dataframe tbody tr th:only-of-type {\n",
       "        vertical-align: middle;\n",
       "    }\n",
       "\n",
       "    .dataframe tbody tr th {\n",
       "        vertical-align: top;\n",
       "    }\n",
       "\n",
       "    .dataframe thead th {\n",
       "        text-align: right;\n",
       "    }\n",
       "</style>\n",
       "<table border=\"1\" class=\"dataframe\">\n",
       "  <thead>\n",
       "    <tr style=\"text-align: right;\">\n",
       "      <th></th>\n",
       "      <th>children</th>\n",
       "      <th>days_employed</th>\n",
       "      <th>dob_years</th>\n",
       "      <th>education</th>\n",
       "      <th>education_id</th>\n",
       "      <th>family_status</th>\n",
       "      <th>family_status_id</th>\n",
       "      <th>gender</th>\n",
       "      <th>income_type</th>\n",
       "      <th>debt</th>\n",
       "      <th>total_income</th>\n",
       "      <th>purpose</th>\n",
       "    </tr>\n",
       "  </thead>\n",
       "  <tbody>\n",
       "    <tr>\n",
       "      <th>0</th>\n",
       "      <td>1</td>\n",
       "      <td>8437.673028</td>\n",
       "      <td>42</td>\n",
       "      <td>высшее</td>\n",
       "      <td>0</td>\n",
       "      <td>женат / замужем</td>\n",
       "      <td>0</td>\n",
       "      <td>F</td>\n",
       "      <td>сотрудник</td>\n",
       "      <td>0</td>\n",
       "      <td>253875.639453</td>\n",
       "      <td>покупка жилья</td>\n",
       "    </tr>\n",
       "    <tr>\n",
       "      <th>1</th>\n",
       "      <td>1</td>\n",
       "      <td>4024.803754</td>\n",
       "      <td>36</td>\n",
       "      <td>среднее</td>\n",
       "      <td>1</td>\n",
       "      <td>женат / замужем</td>\n",
       "      <td>0</td>\n",
       "      <td>F</td>\n",
       "      <td>сотрудник</td>\n",
       "      <td>0</td>\n",
       "      <td>112080.014102</td>\n",
       "      <td>приобретение автомобиля</td>\n",
       "    </tr>\n",
       "    <tr>\n",
       "      <th>2</th>\n",
       "      <td>0</td>\n",
       "      <td>5623.422610</td>\n",
       "      <td>33</td>\n",
       "      <td>Среднее</td>\n",
       "      <td>1</td>\n",
       "      <td>женат / замужем</td>\n",
       "      <td>0</td>\n",
       "      <td>M</td>\n",
       "      <td>сотрудник</td>\n",
       "      <td>0</td>\n",
       "      <td>145885.952297</td>\n",
       "      <td>покупка жилья</td>\n",
       "    </tr>\n",
       "    <tr>\n",
       "      <th>3</th>\n",
       "      <td>3</td>\n",
       "      <td>4124.747207</td>\n",
       "      <td>32</td>\n",
       "      <td>среднее</td>\n",
       "      <td>1</td>\n",
       "      <td>женат / замужем</td>\n",
       "      <td>0</td>\n",
       "      <td>M</td>\n",
       "      <td>сотрудник</td>\n",
       "      <td>0</td>\n",
       "      <td>267628.550329</td>\n",
       "      <td>дополнительное образование</td>\n",
       "    </tr>\n",
       "    <tr>\n",
       "      <th>4</th>\n",
       "      <td>0</td>\n",
       "      <td>340266.072047</td>\n",
       "      <td>53</td>\n",
       "      <td>среднее</td>\n",
       "      <td>1</td>\n",
       "      <td>гражданский брак</td>\n",
       "      <td>1</td>\n",
       "      <td>F</td>\n",
       "      <td>пенсионер</td>\n",
       "      <td>0</td>\n",
       "      <td>158616.077870</td>\n",
       "      <td>сыграть свадьбу</td>\n",
       "    </tr>\n",
       "    <tr>\n",
       "      <th>...</th>\n",
       "      <td>...</td>\n",
       "      <td>...</td>\n",
       "      <td>...</td>\n",
       "      <td>...</td>\n",
       "      <td>...</td>\n",
       "      <td>...</td>\n",
       "      <td>...</td>\n",
       "      <td>...</td>\n",
       "      <td>...</td>\n",
       "      <td>...</td>\n",
       "      <td>...</td>\n",
       "      <td>...</td>\n",
       "    </tr>\n",
       "    <tr>\n",
       "      <th>21520</th>\n",
       "      <td>1</td>\n",
       "      <td>4529.316663</td>\n",
       "      <td>43</td>\n",
       "      <td>среднее</td>\n",
       "      <td>1</td>\n",
       "      <td>гражданский брак</td>\n",
       "      <td>1</td>\n",
       "      <td>F</td>\n",
       "      <td>компаньон</td>\n",
       "      <td>0</td>\n",
       "      <td>224791.862382</td>\n",
       "      <td>операции с жильем</td>\n",
       "    </tr>\n",
       "    <tr>\n",
       "      <th>21521</th>\n",
       "      <td>0</td>\n",
       "      <td>343937.404131</td>\n",
       "      <td>67</td>\n",
       "      <td>среднее</td>\n",
       "      <td>1</td>\n",
       "      <td>женат / замужем</td>\n",
       "      <td>0</td>\n",
       "      <td>F</td>\n",
       "      <td>пенсионер</td>\n",
       "      <td>0</td>\n",
       "      <td>155999.806512</td>\n",
       "      <td>сделка с автомобилем</td>\n",
       "    </tr>\n",
       "    <tr>\n",
       "      <th>21522</th>\n",
       "      <td>1</td>\n",
       "      <td>2113.346888</td>\n",
       "      <td>38</td>\n",
       "      <td>среднее</td>\n",
       "      <td>1</td>\n",
       "      <td>гражданский брак</td>\n",
       "      <td>1</td>\n",
       "      <td>M</td>\n",
       "      <td>сотрудник</td>\n",
       "      <td>1</td>\n",
       "      <td>89672.561153</td>\n",
       "      <td>недвижимость</td>\n",
       "    </tr>\n",
       "    <tr>\n",
       "      <th>21523</th>\n",
       "      <td>3</td>\n",
       "      <td>3112.481705</td>\n",
       "      <td>38</td>\n",
       "      <td>среднее</td>\n",
       "      <td>1</td>\n",
       "      <td>женат / замужем</td>\n",
       "      <td>0</td>\n",
       "      <td>M</td>\n",
       "      <td>сотрудник</td>\n",
       "      <td>1</td>\n",
       "      <td>244093.050500</td>\n",
       "      <td>на покупку своего автомобиля</td>\n",
       "    </tr>\n",
       "    <tr>\n",
       "      <th>21524</th>\n",
       "      <td>2</td>\n",
       "      <td>1984.507589</td>\n",
       "      <td>40</td>\n",
       "      <td>среднее</td>\n",
       "      <td>1</td>\n",
       "      <td>женат / замужем</td>\n",
       "      <td>0</td>\n",
       "      <td>F</td>\n",
       "      <td>сотрудник</td>\n",
       "      <td>0</td>\n",
       "      <td>82047.418899</td>\n",
       "      <td>на покупку автомобиля</td>\n",
       "    </tr>\n",
       "  </tbody>\n",
       "</table>\n",
       "<p>21402 rows × 12 columns</p>\n",
       "</div>"
      ],
      "text/plain": [
       "       children  days_employed  dob_years education  education_id  \\\n",
       "0             1    8437.673028         42    высшее             0   \n",
       "1             1    4024.803754         36   среднее             1   \n",
       "2             0    5623.422610         33   Среднее             1   \n",
       "3             3    4124.747207         32   среднее             1   \n",
       "4             0  340266.072047         53   среднее             1   \n",
       "...         ...            ...        ...       ...           ...   \n",
       "21520         1    4529.316663         43   среднее             1   \n",
       "21521         0  343937.404131         67   среднее             1   \n",
       "21522         1    2113.346888         38   среднее             1   \n",
       "21523         3    3112.481705         38   среднее             1   \n",
       "21524         2    1984.507589         40   среднее             1   \n",
       "\n",
       "          family_status  family_status_id gender income_type  debt  \\\n",
       "0       женат / замужем                 0      F   сотрудник     0   \n",
       "1       женат / замужем                 0      F   сотрудник     0   \n",
       "2       женат / замужем                 0      M   сотрудник     0   \n",
       "3       женат / замужем                 0      M   сотрудник     0   \n",
       "4      гражданский брак                 1      F   пенсионер     0   \n",
       "...                 ...               ...    ...         ...   ...   \n",
       "21520  гражданский брак                 1      F   компаньон     0   \n",
       "21521   женат / замужем                 0      F   пенсионер     0   \n",
       "21522  гражданский брак                 1      M   сотрудник     1   \n",
       "21523   женат / замужем                 0      M   сотрудник     1   \n",
       "21524   женат / замужем                 0      F   сотрудник     0   \n",
       "\n",
       "        total_income                       purpose  \n",
       "0      253875.639453                 покупка жилья  \n",
       "1      112080.014102       приобретение автомобиля  \n",
       "2      145885.952297                 покупка жилья  \n",
       "3      267628.550329    дополнительное образование  \n",
       "4      158616.077870               сыграть свадьбу  \n",
       "...              ...                           ...  \n",
       "21520  224791.862382             операции с жильем  \n",
       "21521  155999.806512          сделка с автомобилем  \n",
       "21522   89672.561153                  недвижимость  \n",
       "21523  244093.050500  на покупку своего автомобиля  \n",
       "21524   82047.418899         на покупку автомобиля  \n",
       "\n",
       "[21402 rows x 12 columns]"
      ]
     },
     "execution_count": 10,
     "metadata": {},
     "output_type": "execute_result"
    }
   ],
   "source": [
    "data = data[(data['children'] != -1)&(data['children'] != 20)]\n",
    "data# ваш код здесь\n"
   ]
  },
  {
   "cell_type": "markdown",
   "id": "d76c7548",
   "metadata": {
    "deletable": false,
    "editable": false,
    "id": "bbc4d0ce",
    "tags": [
     "start_task"
    ]
   },
   "source": [
    "**Задание 10. Ещё раз выведите перечень уникальных значений столбца `children`, чтобы убедиться, что артефакты удалены.**"
   ]
  },
  {
   "cell_type": "code",
   "execution_count": 11,
   "id": "9b47207c",
   "metadata": {
    "id": "ad4fa8b7"
   },
   "outputs": [
    {
     "data": {
      "text/plain": [
       "array([1, 0, 3, 2, 4, 5])"
      ]
     },
     "execution_count": 11,
     "metadata": {},
     "output_type": "execute_result"
    }
   ],
   "source": [
    "data['children'].unique()# ваш код здесь"
   ]
  },
  {
   "cell_type": "markdown",
   "id": "d78cd20b",
   "metadata": {
    "deletable": false,
    "editable": false,
    "id": "75440b63"
   },
   "source": [
    "### Удаление пропусков (продолжение)"
   ]
  },
  {
   "cell_type": "markdown",
   "id": "3c9c0917",
   "metadata": {
    "deletable": false,
    "editable": false,
    "id": "f4ea573f",
    "tags": [
     "start_task"
    ]
   },
   "source": [
    "**Задание 11. Заполните пропуски в столбце `days_employed` медианными значениями по каждому типу занятости `income_type`.**"
   ]
  },
  {
   "cell_type": "code",
   "execution_count": 12,
   "id": "042b3760",
   "metadata": {
    "id": "af6b1a7e"
   },
   "outputs": [
    {
     "name": "stderr",
     "output_type": "stream",
     "text": [
      "/tmp/ipykernel_330/993117719.py:4: SettingWithCopyWarning: \n",
      "A value is trying to be set on a copy of a slice from a DataFrame.\n",
      "Try using .loc[row_indexer,col_indexer] = value instead\n",
      "\n",
      "See the caveats in the documentation: https://pandas.pydata.org/pandas-docs/stable/user_guide/indexing.html#returning-a-view-versus-a-copy\n",
      "  data[data['income_type']==row] =  data[data['income_type']==row].fillna({'days_employed':median_values[row]})\n",
      "/opt/conda/lib/python3.9/site-packages/pandas/core/indexing.py:1754: SettingWithCopyWarning: \n",
      "A value is trying to be set on a copy of a slice from a DataFrame.\n",
      "Try using .loc[row_indexer,col_indexer] = value instead\n",
      "\n",
      "See the caveats in the documentation: https://pandas.pydata.org/pandas-docs/stable/user_guide/indexing.html#returning-a-view-versus-a-copy\n",
      "  self._setitem_single_column(loc, val, pi)\n"
     ]
    },
    {
     "data": {
      "text/html": [
       "<div>\n",
       "<style scoped>\n",
       "    .dataframe tbody tr th:only-of-type {\n",
       "        vertical-align: middle;\n",
       "    }\n",
       "\n",
       "    .dataframe tbody tr th {\n",
       "        vertical-align: top;\n",
       "    }\n",
       "\n",
       "    .dataframe thead th {\n",
       "        text-align: right;\n",
       "    }\n",
       "</style>\n",
       "<table border=\"1\" class=\"dataframe\">\n",
       "  <thead>\n",
       "    <tr style=\"text-align: right;\">\n",
       "      <th></th>\n",
       "      <th>children</th>\n",
       "      <th>days_employed</th>\n",
       "      <th>dob_years</th>\n",
       "      <th>education</th>\n",
       "      <th>education_id</th>\n",
       "      <th>family_status</th>\n",
       "      <th>family_status_id</th>\n",
       "      <th>gender</th>\n",
       "      <th>income_type</th>\n",
       "      <th>debt</th>\n",
       "      <th>total_income</th>\n",
       "      <th>purpose</th>\n",
       "    </tr>\n",
       "  </thead>\n",
       "  <tbody>\n",
       "    <tr>\n",
       "      <th>0</th>\n",
       "      <td>1</td>\n",
       "      <td>8437.673028</td>\n",
       "      <td>42</td>\n",
       "      <td>высшее</td>\n",
       "      <td>0</td>\n",
       "      <td>женат / замужем</td>\n",
       "      <td>0</td>\n",
       "      <td>F</td>\n",
       "      <td>сотрудник</td>\n",
       "      <td>0</td>\n",
       "      <td>253875.639453</td>\n",
       "      <td>покупка жилья</td>\n",
       "    </tr>\n",
       "    <tr>\n",
       "      <th>1</th>\n",
       "      <td>1</td>\n",
       "      <td>4024.803754</td>\n",
       "      <td>36</td>\n",
       "      <td>среднее</td>\n",
       "      <td>1</td>\n",
       "      <td>женат / замужем</td>\n",
       "      <td>0</td>\n",
       "      <td>F</td>\n",
       "      <td>сотрудник</td>\n",
       "      <td>0</td>\n",
       "      <td>112080.014102</td>\n",
       "      <td>приобретение автомобиля</td>\n",
       "    </tr>\n",
       "    <tr>\n",
       "      <th>2</th>\n",
       "      <td>0</td>\n",
       "      <td>5623.422610</td>\n",
       "      <td>33</td>\n",
       "      <td>Среднее</td>\n",
       "      <td>1</td>\n",
       "      <td>женат / замужем</td>\n",
       "      <td>0</td>\n",
       "      <td>M</td>\n",
       "      <td>сотрудник</td>\n",
       "      <td>0</td>\n",
       "      <td>145885.952297</td>\n",
       "      <td>покупка жилья</td>\n",
       "    </tr>\n",
       "    <tr>\n",
       "      <th>3</th>\n",
       "      <td>3</td>\n",
       "      <td>4124.747207</td>\n",
       "      <td>32</td>\n",
       "      <td>среднее</td>\n",
       "      <td>1</td>\n",
       "      <td>женат / замужем</td>\n",
       "      <td>0</td>\n",
       "      <td>M</td>\n",
       "      <td>сотрудник</td>\n",
       "      <td>0</td>\n",
       "      <td>267628.550329</td>\n",
       "      <td>дополнительное образование</td>\n",
       "    </tr>\n",
       "    <tr>\n",
       "      <th>4</th>\n",
       "      <td>0</td>\n",
       "      <td>340266.072047</td>\n",
       "      <td>53</td>\n",
       "      <td>среднее</td>\n",
       "      <td>1</td>\n",
       "      <td>гражданский брак</td>\n",
       "      <td>1</td>\n",
       "      <td>F</td>\n",
       "      <td>пенсионер</td>\n",
       "      <td>0</td>\n",
       "      <td>158616.077870</td>\n",
       "      <td>сыграть свадьбу</td>\n",
       "    </tr>\n",
       "    <tr>\n",
       "      <th>...</th>\n",
       "      <td>...</td>\n",
       "      <td>...</td>\n",
       "      <td>...</td>\n",
       "      <td>...</td>\n",
       "      <td>...</td>\n",
       "      <td>...</td>\n",
       "      <td>...</td>\n",
       "      <td>...</td>\n",
       "      <td>...</td>\n",
       "      <td>...</td>\n",
       "      <td>...</td>\n",
       "      <td>...</td>\n",
       "    </tr>\n",
       "    <tr>\n",
       "      <th>21520</th>\n",
       "      <td>1</td>\n",
       "      <td>4529.316663</td>\n",
       "      <td>43</td>\n",
       "      <td>среднее</td>\n",
       "      <td>1</td>\n",
       "      <td>гражданский брак</td>\n",
       "      <td>1</td>\n",
       "      <td>F</td>\n",
       "      <td>компаньон</td>\n",
       "      <td>0</td>\n",
       "      <td>224791.862382</td>\n",
       "      <td>операции с жильем</td>\n",
       "    </tr>\n",
       "    <tr>\n",
       "      <th>21521</th>\n",
       "      <td>0</td>\n",
       "      <td>343937.404131</td>\n",
       "      <td>67</td>\n",
       "      <td>среднее</td>\n",
       "      <td>1</td>\n",
       "      <td>женат / замужем</td>\n",
       "      <td>0</td>\n",
       "      <td>F</td>\n",
       "      <td>пенсионер</td>\n",
       "      <td>0</td>\n",
       "      <td>155999.806512</td>\n",
       "      <td>сделка с автомобилем</td>\n",
       "    </tr>\n",
       "    <tr>\n",
       "      <th>21522</th>\n",
       "      <td>1</td>\n",
       "      <td>2113.346888</td>\n",
       "      <td>38</td>\n",
       "      <td>среднее</td>\n",
       "      <td>1</td>\n",
       "      <td>гражданский брак</td>\n",
       "      <td>1</td>\n",
       "      <td>M</td>\n",
       "      <td>сотрудник</td>\n",
       "      <td>1</td>\n",
       "      <td>89672.561153</td>\n",
       "      <td>недвижимость</td>\n",
       "    </tr>\n",
       "    <tr>\n",
       "      <th>21523</th>\n",
       "      <td>3</td>\n",
       "      <td>3112.481705</td>\n",
       "      <td>38</td>\n",
       "      <td>среднее</td>\n",
       "      <td>1</td>\n",
       "      <td>женат / замужем</td>\n",
       "      <td>0</td>\n",
       "      <td>M</td>\n",
       "      <td>сотрудник</td>\n",
       "      <td>1</td>\n",
       "      <td>244093.050500</td>\n",
       "      <td>на покупку своего автомобиля</td>\n",
       "    </tr>\n",
       "    <tr>\n",
       "      <th>21524</th>\n",
       "      <td>2</td>\n",
       "      <td>1984.507589</td>\n",
       "      <td>40</td>\n",
       "      <td>среднее</td>\n",
       "      <td>1</td>\n",
       "      <td>женат / замужем</td>\n",
       "      <td>0</td>\n",
       "      <td>F</td>\n",
       "      <td>сотрудник</td>\n",
       "      <td>0</td>\n",
       "      <td>82047.418899</td>\n",
       "      <td>на покупку автомобиля</td>\n",
       "    </tr>\n",
       "  </tbody>\n",
       "</table>\n",
       "<p>21402 rows × 12 columns</p>\n",
       "</div>"
      ],
      "text/plain": [
       "       children  days_employed  dob_years education  education_id  \\\n",
       "0             1    8437.673028         42    высшее             0   \n",
       "1             1    4024.803754         36   среднее             1   \n",
       "2             0    5623.422610         33   Среднее             1   \n",
       "3             3    4124.747207         32   среднее             1   \n",
       "4             0  340266.072047         53   среднее             1   \n",
       "...         ...            ...        ...       ...           ...   \n",
       "21520         1    4529.316663         43   среднее             1   \n",
       "21521         0  343937.404131         67   среднее             1   \n",
       "21522         1    2113.346888         38   среднее             1   \n",
       "21523         3    3112.481705         38   среднее             1   \n",
       "21524         2    1984.507589         40   среднее             1   \n",
       "\n",
       "          family_status  family_status_id gender income_type  debt  \\\n",
       "0       женат / замужем                 0      F   сотрудник     0   \n",
       "1       женат / замужем                 0      F   сотрудник     0   \n",
       "2       женат / замужем                 0      M   сотрудник     0   \n",
       "3       женат / замужем                 0      M   сотрудник     0   \n",
       "4      гражданский брак                 1      F   пенсионер     0   \n",
       "...                 ...               ...    ...         ...   ...   \n",
       "21520  гражданский брак                 1      F   компаньон     0   \n",
       "21521   женат / замужем                 0      F   пенсионер     0   \n",
       "21522  гражданский брак                 1      M   сотрудник     1   \n",
       "21523   женат / замужем                 0      M   сотрудник     1   \n",
       "21524   женат / замужем                 0      F   сотрудник     0   \n",
       "\n",
       "        total_income                       purpose  \n",
       "0      253875.639453                 покупка жилья  \n",
       "1      112080.014102       приобретение автомобиля  \n",
       "2      145885.952297                 покупка жилья  \n",
       "3      267628.550329    дополнительное образование  \n",
       "4      158616.077870               сыграть свадьбу  \n",
       "...              ...                           ...  \n",
       "21520  224791.862382             операции с жильем  \n",
       "21521  155999.806512          сделка с автомобилем  \n",
       "21522   89672.561153                  недвижимость  \n",
       "21523  244093.050500  на покупку своего автомобиля  \n",
       "21524   82047.418899         на покупку автомобиля  \n",
       "\n",
       "[21402 rows x 12 columns]"
      ]
     },
     "execution_count": 12,
     "metadata": {},
     "output_type": "execute_result"
    }
   ],
   "source": [
    "median_values=data.groupby('income_type')['days_employed'].median()\n",
    "unique_income_type=list(data['income_type'].unique())\n",
    "for row in unique_income_type:\n",
    "    data[data['income_type']==row] =  data[data['income_type']==row].fillna({'days_employed':median_values[row]})\n",
    "data    \n",
    "                        # ваш код здесь"
   ]
  },
  {
   "cell_type": "markdown",
   "id": "0baebf26",
   "metadata": {
    "deletable": false,
    "editable": false,
    "id": "2753f40d",
    "tags": [
     "start_task"
    ]
   },
   "source": [
    "**Задание 12. Убедитесь, что все пропуски заполнены. Проверьте себя и ещё раз выведите количество пропущенных значений для каждого столбца с помощью двух методов.**"
   ]
  },
  {
   "cell_type": "code",
   "execution_count": 13,
   "id": "5a1ed0ba",
   "metadata": {
    "id": "55f78bc2"
   },
   "outputs": [
    {
     "data": {
      "text/plain": [
       "children            0\n",
       "days_employed       0\n",
       "dob_years           0\n",
       "education           0\n",
       "education_id        0\n",
       "family_status       0\n",
       "family_status_id    0\n",
       "gender              0\n",
       "income_type         0\n",
       "debt                0\n",
       "total_income        0\n",
       "purpose             0\n",
       "dtype: int64"
      ]
     },
     "execution_count": 13,
     "metadata": {},
     "output_type": "execute_result"
    }
   ],
   "source": [
    "data.isna().sum()# ваш код здесь"
   ]
  },
  {
   "cell_type": "markdown",
   "id": "0b202916",
   "metadata": {
    "deletable": false,
    "editable": false,
    "id": "ddc81e43"
   },
   "source": [
    "### Изменение типов данных"
   ]
  },
  {
   "cell_type": "markdown",
   "id": "5ffa4644",
   "metadata": {
    "deletable": false,
    "editable": false,
    "id": "42d19d24",
    "tags": [
     "start_task"
    ]
   },
   "source": [
    "**Задание 13. Замените вещественный тип данных в столбце `total_income` на целочисленный с помощью метода `astype()`.**"
   ]
  },
  {
   "cell_type": "code",
   "execution_count": 14,
   "id": "ad91e34d",
   "metadata": {
    "id": "920b65ad"
   },
   "outputs": [
    {
     "name": "stderr",
     "output_type": "stream",
     "text": [
      "/tmp/ipykernel_330/3101245943.py:1: SettingWithCopyWarning: \n",
      "A value is trying to be set on a copy of a slice from a DataFrame.\n",
      "Try using .loc[row_indexer,col_indexer] = value instead\n",
      "\n",
      "See the caveats in the documentation: https://pandas.pydata.org/pandas-docs/stable/user_guide/indexing.html#returning-a-view-versus-a-copy\n",
      "  data['total_income']=data['total_income'].astype('int')# ваш код здесь\n"
     ]
    },
    {
     "data": {
      "text/html": [
       "<div>\n",
       "<style scoped>\n",
       "    .dataframe tbody tr th:only-of-type {\n",
       "        vertical-align: middle;\n",
       "    }\n",
       "\n",
       "    .dataframe tbody tr th {\n",
       "        vertical-align: top;\n",
       "    }\n",
       "\n",
       "    .dataframe thead th {\n",
       "        text-align: right;\n",
       "    }\n",
       "</style>\n",
       "<table border=\"1\" class=\"dataframe\">\n",
       "  <thead>\n",
       "    <tr style=\"text-align: right;\">\n",
       "      <th></th>\n",
       "      <th>children</th>\n",
       "      <th>days_employed</th>\n",
       "      <th>dob_years</th>\n",
       "      <th>education</th>\n",
       "      <th>education_id</th>\n",
       "      <th>family_status</th>\n",
       "      <th>family_status_id</th>\n",
       "      <th>gender</th>\n",
       "      <th>income_type</th>\n",
       "      <th>debt</th>\n",
       "      <th>total_income</th>\n",
       "      <th>purpose</th>\n",
       "    </tr>\n",
       "  </thead>\n",
       "  <tbody>\n",
       "    <tr>\n",
       "      <th>0</th>\n",
       "      <td>1</td>\n",
       "      <td>8437.673028</td>\n",
       "      <td>42</td>\n",
       "      <td>высшее</td>\n",
       "      <td>0</td>\n",
       "      <td>женат / замужем</td>\n",
       "      <td>0</td>\n",
       "      <td>F</td>\n",
       "      <td>сотрудник</td>\n",
       "      <td>0</td>\n",
       "      <td>253875</td>\n",
       "      <td>покупка жилья</td>\n",
       "    </tr>\n",
       "    <tr>\n",
       "      <th>1</th>\n",
       "      <td>1</td>\n",
       "      <td>4024.803754</td>\n",
       "      <td>36</td>\n",
       "      <td>среднее</td>\n",
       "      <td>1</td>\n",
       "      <td>женат / замужем</td>\n",
       "      <td>0</td>\n",
       "      <td>F</td>\n",
       "      <td>сотрудник</td>\n",
       "      <td>0</td>\n",
       "      <td>112080</td>\n",
       "      <td>приобретение автомобиля</td>\n",
       "    </tr>\n",
       "    <tr>\n",
       "      <th>2</th>\n",
       "      <td>0</td>\n",
       "      <td>5623.422610</td>\n",
       "      <td>33</td>\n",
       "      <td>Среднее</td>\n",
       "      <td>1</td>\n",
       "      <td>женат / замужем</td>\n",
       "      <td>0</td>\n",
       "      <td>M</td>\n",
       "      <td>сотрудник</td>\n",
       "      <td>0</td>\n",
       "      <td>145885</td>\n",
       "      <td>покупка жилья</td>\n",
       "    </tr>\n",
       "    <tr>\n",
       "      <th>3</th>\n",
       "      <td>3</td>\n",
       "      <td>4124.747207</td>\n",
       "      <td>32</td>\n",
       "      <td>среднее</td>\n",
       "      <td>1</td>\n",
       "      <td>женат / замужем</td>\n",
       "      <td>0</td>\n",
       "      <td>M</td>\n",
       "      <td>сотрудник</td>\n",
       "      <td>0</td>\n",
       "      <td>267628</td>\n",
       "      <td>дополнительное образование</td>\n",
       "    </tr>\n",
       "    <tr>\n",
       "      <th>4</th>\n",
       "      <td>0</td>\n",
       "      <td>340266.072047</td>\n",
       "      <td>53</td>\n",
       "      <td>среднее</td>\n",
       "      <td>1</td>\n",
       "      <td>гражданский брак</td>\n",
       "      <td>1</td>\n",
       "      <td>F</td>\n",
       "      <td>пенсионер</td>\n",
       "      <td>0</td>\n",
       "      <td>158616</td>\n",
       "      <td>сыграть свадьбу</td>\n",
       "    </tr>\n",
       "    <tr>\n",
       "      <th>...</th>\n",
       "      <td>...</td>\n",
       "      <td>...</td>\n",
       "      <td>...</td>\n",
       "      <td>...</td>\n",
       "      <td>...</td>\n",
       "      <td>...</td>\n",
       "      <td>...</td>\n",
       "      <td>...</td>\n",
       "      <td>...</td>\n",
       "      <td>...</td>\n",
       "      <td>...</td>\n",
       "      <td>...</td>\n",
       "    </tr>\n",
       "    <tr>\n",
       "      <th>21520</th>\n",
       "      <td>1</td>\n",
       "      <td>4529.316663</td>\n",
       "      <td>43</td>\n",
       "      <td>среднее</td>\n",
       "      <td>1</td>\n",
       "      <td>гражданский брак</td>\n",
       "      <td>1</td>\n",
       "      <td>F</td>\n",
       "      <td>компаньон</td>\n",
       "      <td>0</td>\n",
       "      <td>224791</td>\n",
       "      <td>операции с жильем</td>\n",
       "    </tr>\n",
       "    <tr>\n",
       "      <th>21521</th>\n",
       "      <td>0</td>\n",
       "      <td>343937.404131</td>\n",
       "      <td>67</td>\n",
       "      <td>среднее</td>\n",
       "      <td>1</td>\n",
       "      <td>женат / замужем</td>\n",
       "      <td>0</td>\n",
       "      <td>F</td>\n",
       "      <td>пенсионер</td>\n",
       "      <td>0</td>\n",
       "      <td>155999</td>\n",
       "      <td>сделка с автомобилем</td>\n",
       "    </tr>\n",
       "    <tr>\n",
       "      <th>21522</th>\n",
       "      <td>1</td>\n",
       "      <td>2113.346888</td>\n",
       "      <td>38</td>\n",
       "      <td>среднее</td>\n",
       "      <td>1</td>\n",
       "      <td>гражданский брак</td>\n",
       "      <td>1</td>\n",
       "      <td>M</td>\n",
       "      <td>сотрудник</td>\n",
       "      <td>1</td>\n",
       "      <td>89672</td>\n",
       "      <td>недвижимость</td>\n",
       "    </tr>\n",
       "    <tr>\n",
       "      <th>21523</th>\n",
       "      <td>3</td>\n",
       "      <td>3112.481705</td>\n",
       "      <td>38</td>\n",
       "      <td>среднее</td>\n",
       "      <td>1</td>\n",
       "      <td>женат / замужем</td>\n",
       "      <td>0</td>\n",
       "      <td>M</td>\n",
       "      <td>сотрудник</td>\n",
       "      <td>1</td>\n",
       "      <td>244093</td>\n",
       "      <td>на покупку своего автомобиля</td>\n",
       "    </tr>\n",
       "    <tr>\n",
       "      <th>21524</th>\n",
       "      <td>2</td>\n",
       "      <td>1984.507589</td>\n",
       "      <td>40</td>\n",
       "      <td>среднее</td>\n",
       "      <td>1</td>\n",
       "      <td>женат / замужем</td>\n",
       "      <td>0</td>\n",
       "      <td>F</td>\n",
       "      <td>сотрудник</td>\n",
       "      <td>0</td>\n",
       "      <td>82047</td>\n",
       "      <td>на покупку автомобиля</td>\n",
       "    </tr>\n",
       "  </tbody>\n",
       "</table>\n",
       "<p>21402 rows × 12 columns</p>\n",
       "</div>"
      ],
      "text/plain": [
       "       children  days_employed  dob_years education  education_id  \\\n",
       "0             1    8437.673028         42    высшее             0   \n",
       "1             1    4024.803754         36   среднее             1   \n",
       "2             0    5623.422610         33   Среднее             1   \n",
       "3             3    4124.747207         32   среднее             1   \n",
       "4             0  340266.072047         53   среднее             1   \n",
       "...         ...            ...        ...       ...           ...   \n",
       "21520         1    4529.316663         43   среднее             1   \n",
       "21521         0  343937.404131         67   среднее             1   \n",
       "21522         1    2113.346888         38   среднее             1   \n",
       "21523         3    3112.481705         38   среднее             1   \n",
       "21524         2    1984.507589         40   среднее             1   \n",
       "\n",
       "          family_status  family_status_id gender income_type  debt  \\\n",
       "0       женат / замужем                 0      F   сотрудник     0   \n",
       "1       женат / замужем                 0      F   сотрудник     0   \n",
       "2       женат / замужем                 0      M   сотрудник     0   \n",
       "3       женат / замужем                 0      M   сотрудник     0   \n",
       "4      гражданский брак                 1      F   пенсионер     0   \n",
       "...                 ...               ...    ...         ...   ...   \n",
       "21520  гражданский брак                 1      F   компаньон     0   \n",
       "21521   женат / замужем                 0      F   пенсионер     0   \n",
       "21522  гражданский брак                 1      M   сотрудник     1   \n",
       "21523   женат / замужем                 0      M   сотрудник     1   \n",
       "21524   женат / замужем                 0      F   сотрудник     0   \n",
       "\n",
       "       total_income                       purpose  \n",
       "0            253875                 покупка жилья  \n",
       "1            112080       приобретение автомобиля  \n",
       "2            145885                 покупка жилья  \n",
       "3            267628    дополнительное образование  \n",
       "4            158616               сыграть свадьбу  \n",
       "...             ...                           ...  \n",
       "21520        224791             операции с жильем  \n",
       "21521        155999          сделка с автомобилем  \n",
       "21522         89672                  недвижимость  \n",
       "21523        244093  на покупку своего автомобиля  \n",
       "21524         82047         на покупку автомобиля  \n",
       "\n",
       "[21402 rows x 12 columns]"
      ]
     },
     "execution_count": 14,
     "metadata": {},
     "output_type": "execute_result"
    }
   ],
   "source": [
    "data['total_income']=data['total_income'].astype('int')# ваш код здесь\n",
    "data"
   ]
  },
  {
   "cell_type": "markdown",
   "id": "3427e6f6",
   "metadata": {
    "deletable": false,
    "editable": false,
    "id": "80c420ba"
   },
   "source": [
    "### Обработка дубликатов"
   ]
  },
  {
   "cell_type": "markdown",
   "id": "9dcc5ddc",
   "metadata": {
    "deletable": false,
    "editable": false,
    "id": "dc587695",
    "tags": [
     "start_task"
    ]
   },
   "source": [
    "**Задание 14. Выведите на экран количество строк-дубликатов в данных. Если такие строки присутствуют, удалите их.**"
   ]
  },
  {
   "cell_type": "code",
   "execution_count": 15,
   "id": "7f5adc91",
   "metadata": {
    "id": "3ee445e4"
   },
   "outputs": [
    {
     "data": {
      "text/plain": [
       "54"
      ]
     },
     "execution_count": 15,
     "metadata": {},
     "output_type": "execute_result"
    }
   ],
   "source": [
    "data.duplicated().sum()\n",
    "# посчитайте дубликаты"
   ]
  },
  {
   "cell_type": "code",
   "execution_count": 16,
   "id": "79d4d5b6",
   "metadata": {
    "id": "8575fe05"
   },
   "outputs": [],
   "source": [
    "data=data.drop_duplicates().reset_index(drop=True)# удалите дубликаты"
   ]
  },
  {
   "cell_type": "markdown",
   "id": "f1bca84e",
   "metadata": {
    "deletable": false,
    "editable": false,
    "id": "9771a76c",
    "tags": [
     "start_task"
    ]
   },
   "source": [
    "**Задание 15. Обработайте неявные дубликаты в столбце `education`. В этом столбце есть одни и те же значения, но записанные по-разному: с использованием заглавных и строчных букв. Приведите их к нижнему регистру. Проверьте остальные столбцы.**"
   ]
  },
  {
   "cell_type": "code",
   "execution_count": 17,
   "id": "931050c1",
   "metadata": {
    "id": "a9f8e2bf"
   },
   "outputs": [],
   "source": [
    "data['education']=data['education'].str.lower()# ваш код здесь"
   ]
  },
  {
   "cell_type": "markdown",
   "id": "e511e6a5",
   "metadata": {
    "deletable": false,
    "editable": false,
    "id": "9904cf55"
   },
   "source": [
    "### Категоризация данных"
   ]
  },
  {
   "cell_type": "markdown",
   "id": "e86515dc",
   "metadata": {
    "deletable": false,
    "editable": false,
    "id": "72fcc8a2",
    "tags": [
     "start_task"
    ]
   },
   "source": [
    "**Задание 16. На основании диапазонов, указанных ниже, создайте в датафрейме `data` столбец `total_income_category` с категориями:**\n",
    "\n",
    "- 0–30000 — `'E'`;\n",
    "- 30001–50000 — `'D'`;\n",
    "- 50001–200000 — `'C'`;\n",
    "- 200001–1000000 — `'B'`;\n",
    "- 1000001 и выше — `'A'`.\n",
    "\n",
    "\n",
    "**Например, кредитополучателю с доходом 25000 нужно назначить категорию `'E'`, а клиенту, получающему 235000, — `'B'`. Используйте собственную функцию с именем `categorize_income()` и метод `apply()`.**"
   ]
  },
  {
   "cell_type": "code",
   "execution_count": 18,
   "id": "acf25f41",
   "metadata": {
    "id": "e1771346"
   },
   "outputs": [],
   "source": [
    "def categorize_income(row):\n",
    "    total_income=row['total_income']\n",
    "    \n",
    "    if total_income >=0 and total_income <=30000:\n",
    "        return 'E'\n",
    "    if total_income >=30001 and total_income <=50000:\n",
    "        return 'D'\n",
    "    if total_income >=50001 and total_income <=200000:\n",
    "        return 'C'\n",
    "    if total_income >=200001 and total_income <=1000000:\n",
    "        return 'B' \n",
    "    return 'A'\n"
   ]
  },
  {
   "cell_type": "code",
   "execution_count": 19,
   "id": "08b5ab38",
   "metadata": {
    "id": "d5f3586d"
   },
   "outputs": [
    {
     "data": {
      "text/html": [
       "<div>\n",
       "<style scoped>\n",
       "    .dataframe tbody tr th:only-of-type {\n",
       "        vertical-align: middle;\n",
       "    }\n",
       "\n",
       "    .dataframe tbody tr th {\n",
       "        vertical-align: top;\n",
       "    }\n",
       "\n",
       "    .dataframe thead th {\n",
       "        text-align: right;\n",
       "    }\n",
       "</style>\n",
       "<table border=\"1\" class=\"dataframe\">\n",
       "  <thead>\n",
       "    <tr style=\"text-align: right;\">\n",
       "      <th></th>\n",
       "      <th>children</th>\n",
       "      <th>days_employed</th>\n",
       "      <th>dob_years</th>\n",
       "      <th>education</th>\n",
       "      <th>education_id</th>\n",
       "      <th>family_status</th>\n",
       "      <th>family_status_id</th>\n",
       "      <th>gender</th>\n",
       "      <th>income_type</th>\n",
       "      <th>debt</th>\n",
       "      <th>total_income</th>\n",
       "      <th>purpose</th>\n",
       "      <th>total_income_category</th>\n",
       "    </tr>\n",
       "  </thead>\n",
       "  <tbody>\n",
       "    <tr>\n",
       "      <th>0</th>\n",
       "      <td>1</td>\n",
       "      <td>8437.673028</td>\n",
       "      <td>42</td>\n",
       "      <td>высшее</td>\n",
       "      <td>0</td>\n",
       "      <td>женат / замужем</td>\n",
       "      <td>0</td>\n",
       "      <td>F</td>\n",
       "      <td>сотрудник</td>\n",
       "      <td>0</td>\n",
       "      <td>253875</td>\n",
       "      <td>покупка жилья</td>\n",
       "      <td>B</td>\n",
       "    </tr>\n",
       "    <tr>\n",
       "      <th>1</th>\n",
       "      <td>1</td>\n",
       "      <td>4024.803754</td>\n",
       "      <td>36</td>\n",
       "      <td>среднее</td>\n",
       "      <td>1</td>\n",
       "      <td>женат / замужем</td>\n",
       "      <td>0</td>\n",
       "      <td>F</td>\n",
       "      <td>сотрудник</td>\n",
       "      <td>0</td>\n",
       "      <td>112080</td>\n",
       "      <td>приобретение автомобиля</td>\n",
       "      <td>C</td>\n",
       "    </tr>\n",
       "    <tr>\n",
       "      <th>2</th>\n",
       "      <td>0</td>\n",
       "      <td>5623.422610</td>\n",
       "      <td>33</td>\n",
       "      <td>среднее</td>\n",
       "      <td>1</td>\n",
       "      <td>женат / замужем</td>\n",
       "      <td>0</td>\n",
       "      <td>M</td>\n",
       "      <td>сотрудник</td>\n",
       "      <td>0</td>\n",
       "      <td>145885</td>\n",
       "      <td>покупка жилья</td>\n",
       "      <td>C</td>\n",
       "    </tr>\n",
       "    <tr>\n",
       "      <th>3</th>\n",
       "      <td>3</td>\n",
       "      <td>4124.747207</td>\n",
       "      <td>32</td>\n",
       "      <td>среднее</td>\n",
       "      <td>1</td>\n",
       "      <td>женат / замужем</td>\n",
       "      <td>0</td>\n",
       "      <td>M</td>\n",
       "      <td>сотрудник</td>\n",
       "      <td>0</td>\n",
       "      <td>267628</td>\n",
       "      <td>дополнительное образование</td>\n",
       "      <td>B</td>\n",
       "    </tr>\n",
       "    <tr>\n",
       "      <th>4</th>\n",
       "      <td>0</td>\n",
       "      <td>340266.072047</td>\n",
       "      <td>53</td>\n",
       "      <td>среднее</td>\n",
       "      <td>1</td>\n",
       "      <td>гражданский брак</td>\n",
       "      <td>1</td>\n",
       "      <td>F</td>\n",
       "      <td>пенсионер</td>\n",
       "      <td>0</td>\n",
       "      <td>158616</td>\n",
       "      <td>сыграть свадьбу</td>\n",
       "      <td>C</td>\n",
       "    </tr>\n",
       "    <tr>\n",
       "      <th>...</th>\n",
       "      <td>...</td>\n",
       "      <td>...</td>\n",
       "      <td>...</td>\n",
       "      <td>...</td>\n",
       "      <td>...</td>\n",
       "      <td>...</td>\n",
       "      <td>...</td>\n",
       "      <td>...</td>\n",
       "      <td>...</td>\n",
       "      <td>...</td>\n",
       "      <td>...</td>\n",
       "      <td>...</td>\n",
       "      <td>...</td>\n",
       "    </tr>\n",
       "    <tr>\n",
       "      <th>21343</th>\n",
       "      <td>1</td>\n",
       "      <td>4529.316663</td>\n",
       "      <td>43</td>\n",
       "      <td>среднее</td>\n",
       "      <td>1</td>\n",
       "      <td>гражданский брак</td>\n",
       "      <td>1</td>\n",
       "      <td>F</td>\n",
       "      <td>компаньон</td>\n",
       "      <td>0</td>\n",
       "      <td>224791</td>\n",
       "      <td>операции с жильем</td>\n",
       "      <td>B</td>\n",
       "    </tr>\n",
       "    <tr>\n",
       "      <th>21344</th>\n",
       "      <td>0</td>\n",
       "      <td>343937.404131</td>\n",
       "      <td>67</td>\n",
       "      <td>среднее</td>\n",
       "      <td>1</td>\n",
       "      <td>женат / замужем</td>\n",
       "      <td>0</td>\n",
       "      <td>F</td>\n",
       "      <td>пенсионер</td>\n",
       "      <td>0</td>\n",
       "      <td>155999</td>\n",
       "      <td>сделка с автомобилем</td>\n",
       "      <td>C</td>\n",
       "    </tr>\n",
       "    <tr>\n",
       "      <th>21345</th>\n",
       "      <td>1</td>\n",
       "      <td>2113.346888</td>\n",
       "      <td>38</td>\n",
       "      <td>среднее</td>\n",
       "      <td>1</td>\n",
       "      <td>гражданский брак</td>\n",
       "      <td>1</td>\n",
       "      <td>M</td>\n",
       "      <td>сотрудник</td>\n",
       "      <td>1</td>\n",
       "      <td>89672</td>\n",
       "      <td>недвижимость</td>\n",
       "      <td>C</td>\n",
       "    </tr>\n",
       "    <tr>\n",
       "      <th>21346</th>\n",
       "      <td>3</td>\n",
       "      <td>3112.481705</td>\n",
       "      <td>38</td>\n",
       "      <td>среднее</td>\n",
       "      <td>1</td>\n",
       "      <td>женат / замужем</td>\n",
       "      <td>0</td>\n",
       "      <td>M</td>\n",
       "      <td>сотрудник</td>\n",
       "      <td>1</td>\n",
       "      <td>244093</td>\n",
       "      <td>на покупку своего автомобиля</td>\n",
       "      <td>B</td>\n",
       "    </tr>\n",
       "    <tr>\n",
       "      <th>21347</th>\n",
       "      <td>2</td>\n",
       "      <td>1984.507589</td>\n",
       "      <td>40</td>\n",
       "      <td>среднее</td>\n",
       "      <td>1</td>\n",
       "      <td>женат / замужем</td>\n",
       "      <td>0</td>\n",
       "      <td>F</td>\n",
       "      <td>сотрудник</td>\n",
       "      <td>0</td>\n",
       "      <td>82047</td>\n",
       "      <td>на покупку автомобиля</td>\n",
       "      <td>C</td>\n",
       "    </tr>\n",
       "  </tbody>\n",
       "</table>\n",
       "<p>21348 rows × 13 columns</p>\n",
       "</div>"
      ],
      "text/plain": [
       "       children  days_employed  dob_years education  education_id  \\\n",
       "0             1    8437.673028         42    высшее             0   \n",
       "1             1    4024.803754         36   среднее             1   \n",
       "2             0    5623.422610         33   среднее             1   \n",
       "3             3    4124.747207         32   среднее             1   \n",
       "4             0  340266.072047         53   среднее             1   \n",
       "...         ...            ...        ...       ...           ...   \n",
       "21343         1    4529.316663         43   среднее             1   \n",
       "21344         0  343937.404131         67   среднее             1   \n",
       "21345         1    2113.346888         38   среднее             1   \n",
       "21346         3    3112.481705         38   среднее             1   \n",
       "21347         2    1984.507589         40   среднее             1   \n",
       "\n",
       "          family_status  family_status_id gender income_type  debt  \\\n",
       "0       женат / замужем                 0      F   сотрудник     0   \n",
       "1       женат / замужем                 0      F   сотрудник     0   \n",
       "2       женат / замужем                 0      M   сотрудник     0   \n",
       "3       женат / замужем                 0      M   сотрудник     0   \n",
       "4      гражданский брак                 1      F   пенсионер     0   \n",
       "...                 ...               ...    ...         ...   ...   \n",
       "21343  гражданский брак                 1      F   компаньон     0   \n",
       "21344   женат / замужем                 0      F   пенсионер     0   \n",
       "21345  гражданский брак                 1      M   сотрудник     1   \n",
       "21346   женат / замужем                 0      M   сотрудник     1   \n",
       "21347   женат / замужем                 0      F   сотрудник     0   \n",
       "\n",
       "       total_income                       purpose total_income_category  \n",
       "0            253875                 покупка жилья                     B  \n",
       "1            112080       приобретение автомобиля                     C  \n",
       "2            145885                 покупка жилья                     C  \n",
       "3            267628    дополнительное образование                     B  \n",
       "4            158616               сыграть свадьбу                     C  \n",
       "...             ...                           ...                   ...  \n",
       "21343        224791             операции с жильем                     B  \n",
       "21344        155999          сделка с автомобилем                     C  \n",
       "21345         89672                  недвижимость                     C  \n",
       "21346        244093  на покупку своего автомобиля                     B  \n",
       "21347         82047         на покупку автомобиля                     C  \n",
       "\n",
       "[21348 rows x 13 columns]"
      ]
     },
     "execution_count": 19,
     "metadata": {},
     "output_type": "execute_result"
    }
   ],
   "source": [
    "data['total_income_category']=data.apply(categorize_income, axis=1)# примените функцию методом apply()\n",
    "data"
   ]
  },
  {
   "cell_type": "markdown",
   "id": "3a1e5a55",
   "metadata": {
    "deletable": false,
    "editable": false,
    "id": "dde49b5c",
    "tags": [
     "start_task"
    ]
   },
   "source": [
    "**Задание 17. Выведите на экран перечень уникальных целей взятия кредита из столбца `purpose`.**"
   ]
  },
  {
   "cell_type": "code",
   "execution_count": 20,
   "id": "b397e2ca",
   "metadata": {
    "id": "f67ce9b3"
   },
   "outputs": [
    {
     "data": {
      "text/plain": [
       "array(['покупка жилья', 'приобретение автомобиля',\n",
       "       'дополнительное образование', 'сыграть свадьбу',\n",
       "       'операции с жильем', 'образование', 'на проведение свадьбы',\n",
       "       'покупка жилья для семьи', 'покупка недвижимости',\n",
       "       'покупка коммерческой недвижимости', 'покупка жилой недвижимости',\n",
       "       'строительство собственной недвижимости', 'недвижимость',\n",
       "       'строительство недвижимости', 'на покупку подержанного автомобиля',\n",
       "       'на покупку своего автомобиля',\n",
       "       'операции с коммерческой недвижимостью',\n",
       "       'строительство жилой недвижимости', 'жилье',\n",
       "       'операции со своей недвижимостью', 'автомобили',\n",
       "       'заняться образованием', 'сделка с подержанным автомобилем',\n",
       "       'получение образования', 'автомобиль', 'свадьба',\n",
       "       'получение дополнительного образования', 'покупка своего жилья',\n",
       "       'операции с недвижимостью', 'получение высшего образования',\n",
       "       'свой автомобиль', 'сделка с автомобилем',\n",
       "       'профильное образование', 'высшее образование',\n",
       "       'покупка жилья для сдачи', 'на покупку автомобиля', 'ремонт жилью',\n",
       "       'заняться высшим образованием'], dtype=object)"
      ]
     },
     "execution_count": 20,
     "metadata": {},
     "output_type": "execute_result"
    }
   ],
   "source": [
    "data['purpose'].unique()# ваш код здесь"
   ]
  },
  {
   "cell_type": "markdown",
   "id": "df6445b0",
   "metadata": {
    "deletable": false,
    "editable": false,
    "id": "85d0aef0",
    "tags": [
     "start_task"
    ]
   },
   "source": [
    "**Задание 18. Создайте функцию, которая на основании данных из столбца `purpose` сформирует новый столбец `purpose_category`, в который войдут следующие категории:**\n",
    "\n",
    "- `'операции с автомобилем'`,\n",
    "- `'операции с недвижимостью'`,\n",
    "- `'проведение свадьбы'`,\n",
    "- `'получение образования'`.\n",
    "\n",
    "**Например, если в столбце `purpose` находится подстрока `'на покупку автомобиля'`, то в столбце `purpose_category` должна появиться строка `'операции с автомобилем'`.**\n",
    "\n",
    "**Используйте собственную функцию с именем `categorize_purpose()` и метод `apply()`. Изучите данные в столбце `purpose` и определите, какие подстроки помогут вам правильно определить категорию.**"
   ]
  },
  {
   "cell_type": "code",
   "execution_count": 25,
   "id": "ef0282cd",
   "metadata": {
    "id": "e149fab4"
   },
   "outputs": [],
   "source": [
    "def categorize_purpose(row):# создайте функцию categorize_purpose()\n",
    "    purpose = row['purpose']\n",
    "    if 'автомобил' in purpose:\n",
    "        return 'операции с автомобилем'\n",
    "    if 'жиль' in purpose or 'недвижимост' in purpose:\n",
    "        return 'операции с недвижимостью'\n",
    "    if 'свадьб' in purpose:\n",
    "        return 'проведение свадьбы'\n",
    "    if 'образован' in purpose:\n",
    "        return 'получение образования'\n",
    "    "
   ]
  },
  {
   "cell_type": "code",
   "execution_count": 26,
   "id": "d34d1318",
   "metadata": {
    "id": "bf36e69b"
   },
   "outputs": [],
   "source": [
    "data['purpose_category'] = data.apply(categorize_purpose,axis=1)# примените функцию методом apply()"
   ]
  },
  {
   "cell_type": "code",
   "execution_count": 23,
   "id": "f87b303b",
   "metadata": {},
   "outputs": [
    {
     "data": {
      "text/html": [
       "<div>\n",
       "<style scoped>\n",
       "    .dataframe tbody tr th:only-of-type {\n",
       "        vertical-align: middle;\n",
       "    }\n",
       "\n",
       "    .dataframe tbody tr th {\n",
       "        vertical-align: top;\n",
       "    }\n",
       "\n",
       "    .dataframe thead th {\n",
       "        text-align: right;\n",
       "    }\n",
       "</style>\n",
       "<table border=\"1\" class=\"dataframe\">\n",
       "  <thead>\n",
       "    <tr style=\"text-align: right;\">\n",
       "      <th></th>\n",
       "      <th>children</th>\n",
       "      <th>days_employed</th>\n",
       "      <th>dob_years</th>\n",
       "      <th>education</th>\n",
       "      <th>education_id</th>\n",
       "      <th>family_status</th>\n",
       "      <th>family_status_id</th>\n",
       "      <th>gender</th>\n",
       "      <th>income_type</th>\n",
       "      <th>debt</th>\n",
       "      <th>total_income</th>\n",
       "      <th>purpose</th>\n",
       "      <th>total_income_category</th>\n",
       "      <th>purpose_category</th>\n",
       "    </tr>\n",
       "  </thead>\n",
       "  <tbody>\n",
       "    <tr>\n",
       "      <th>0</th>\n",
       "      <td>1</td>\n",
       "      <td>8437.673028</td>\n",
       "      <td>42</td>\n",
       "      <td>высшее</td>\n",
       "      <td>0</td>\n",
       "      <td>женат / замужем</td>\n",
       "      <td>0</td>\n",
       "      <td>F</td>\n",
       "      <td>сотрудник</td>\n",
       "      <td>0</td>\n",
       "      <td>253875</td>\n",
       "      <td>покупка жилья</td>\n",
       "      <td>B</td>\n",
       "      <td>операции с недвижимостью</td>\n",
       "    </tr>\n",
       "    <tr>\n",
       "      <th>1</th>\n",
       "      <td>1</td>\n",
       "      <td>4024.803754</td>\n",
       "      <td>36</td>\n",
       "      <td>среднее</td>\n",
       "      <td>1</td>\n",
       "      <td>женат / замужем</td>\n",
       "      <td>0</td>\n",
       "      <td>F</td>\n",
       "      <td>сотрудник</td>\n",
       "      <td>0</td>\n",
       "      <td>112080</td>\n",
       "      <td>приобретение автомобиля</td>\n",
       "      <td>C</td>\n",
       "      <td>операции с автомобилем</td>\n",
       "    </tr>\n",
       "    <tr>\n",
       "      <th>2</th>\n",
       "      <td>0</td>\n",
       "      <td>5623.422610</td>\n",
       "      <td>33</td>\n",
       "      <td>среднее</td>\n",
       "      <td>1</td>\n",
       "      <td>женат / замужем</td>\n",
       "      <td>0</td>\n",
       "      <td>M</td>\n",
       "      <td>сотрудник</td>\n",
       "      <td>0</td>\n",
       "      <td>145885</td>\n",
       "      <td>покупка жилья</td>\n",
       "      <td>C</td>\n",
       "      <td>операции с недвижимостью</td>\n",
       "    </tr>\n",
       "    <tr>\n",
       "      <th>3</th>\n",
       "      <td>3</td>\n",
       "      <td>4124.747207</td>\n",
       "      <td>32</td>\n",
       "      <td>среднее</td>\n",
       "      <td>1</td>\n",
       "      <td>женат / замужем</td>\n",
       "      <td>0</td>\n",
       "      <td>M</td>\n",
       "      <td>сотрудник</td>\n",
       "      <td>0</td>\n",
       "      <td>267628</td>\n",
       "      <td>дополнительное образование</td>\n",
       "      <td>B</td>\n",
       "      <td>получение образования</td>\n",
       "    </tr>\n",
       "    <tr>\n",
       "      <th>4</th>\n",
       "      <td>0</td>\n",
       "      <td>340266.072047</td>\n",
       "      <td>53</td>\n",
       "      <td>среднее</td>\n",
       "      <td>1</td>\n",
       "      <td>гражданский брак</td>\n",
       "      <td>1</td>\n",
       "      <td>F</td>\n",
       "      <td>пенсионер</td>\n",
       "      <td>0</td>\n",
       "      <td>158616</td>\n",
       "      <td>сыграть свадьбу</td>\n",
       "      <td>C</td>\n",
       "      <td>проведение свадьбы</td>\n",
       "    </tr>\n",
       "    <tr>\n",
       "      <th>...</th>\n",
       "      <td>...</td>\n",
       "      <td>...</td>\n",
       "      <td>...</td>\n",
       "      <td>...</td>\n",
       "      <td>...</td>\n",
       "      <td>...</td>\n",
       "      <td>...</td>\n",
       "      <td>...</td>\n",
       "      <td>...</td>\n",
       "      <td>...</td>\n",
       "      <td>...</td>\n",
       "      <td>...</td>\n",
       "      <td>...</td>\n",
       "      <td>...</td>\n",
       "    </tr>\n",
       "    <tr>\n",
       "      <th>21343</th>\n",
       "      <td>1</td>\n",
       "      <td>4529.316663</td>\n",
       "      <td>43</td>\n",
       "      <td>среднее</td>\n",
       "      <td>1</td>\n",
       "      <td>гражданский брак</td>\n",
       "      <td>1</td>\n",
       "      <td>F</td>\n",
       "      <td>компаньон</td>\n",
       "      <td>0</td>\n",
       "      <td>224791</td>\n",
       "      <td>операции с жильем</td>\n",
       "      <td>B</td>\n",
       "      <td>операции с недвижимостью</td>\n",
       "    </tr>\n",
       "    <tr>\n",
       "      <th>21344</th>\n",
       "      <td>0</td>\n",
       "      <td>343937.404131</td>\n",
       "      <td>67</td>\n",
       "      <td>среднее</td>\n",
       "      <td>1</td>\n",
       "      <td>женат / замужем</td>\n",
       "      <td>0</td>\n",
       "      <td>F</td>\n",
       "      <td>пенсионер</td>\n",
       "      <td>0</td>\n",
       "      <td>155999</td>\n",
       "      <td>сделка с автомобилем</td>\n",
       "      <td>C</td>\n",
       "      <td>операции с автомобилем</td>\n",
       "    </tr>\n",
       "    <tr>\n",
       "      <th>21345</th>\n",
       "      <td>1</td>\n",
       "      <td>2113.346888</td>\n",
       "      <td>38</td>\n",
       "      <td>среднее</td>\n",
       "      <td>1</td>\n",
       "      <td>гражданский брак</td>\n",
       "      <td>1</td>\n",
       "      <td>M</td>\n",
       "      <td>сотрудник</td>\n",
       "      <td>1</td>\n",
       "      <td>89672</td>\n",
       "      <td>недвижимость</td>\n",
       "      <td>C</td>\n",
       "      <td>операции с недвижимостью</td>\n",
       "    </tr>\n",
       "    <tr>\n",
       "      <th>21346</th>\n",
       "      <td>3</td>\n",
       "      <td>3112.481705</td>\n",
       "      <td>38</td>\n",
       "      <td>среднее</td>\n",
       "      <td>1</td>\n",
       "      <td>женат / замужем</td>\n",
       "      <td>0</td>\n",
       "      <td>M</td>\n",
       "      <td>сотрудник</td>\n",
       "      <td>1</td>\n",
       "      <td>244093</td>\n",
       "      <td>на покупку своего автомобиля</td>\n",
       "      <td>B</td>\n",
       "      <td>операции с автомобилем</td>\n",
       "    </tr>\n",
       "    <tr>\n",
       "      <th>21347</th>\n",
       "      <td>2</td>\n",
       "      <td>1984.507589</td>\n",
       "      <td>40</td>\n",
       "      <td>среднее</td>\n",
       "      <td>1</td>\n",
       "      <td>женат / замужем</td>\n",
       "      <td>0</td>\n",
       "      <td>F</td>\n",
       "      <td>сотрудник</td>\n",
       "      <td>0</td>\n",
       "      <td>82047</td>\n",
       "      <td>на покупку автомобиля</td>\n",
       "      <td>C</td>\n",
       "      <td>операции с автомобилем</td>\n",
       "    </tr>\n",
       "  </tbody>\n",
       "</table>\n",
       "<p>21348 rows × 14 columns</p>\n",
       "</div>"
      ],
      "text/plain": [
       "       children  days_employed  dob_years education  education_id  \\\n",
       "0             1    8437.673028         42    высшее             0   \n",
       "1             1    4024.803754         36   среднее             1   \n",
       "2             0    5623.422610         33   среднее             1   \n",
       "3             3    4124.747207         32   среднее             1   \n",
       "4             0  340266.072047         53   среднее             1   \n",
       "...         ...            ...        ...       ...           ...   \n",
       "21343         1    4529.316663         43   среднее             1   \n",
       "21344         0  343937.404131         67   среднее             1   \n",
       "21345         1    2113.346888         38   среднее             1   \n",
       "21346         3    3112.481705         38   среднее             1   \n",
       "21347         2    1984.507589         40   среднее             1   \n",
       "\n",
       "          family_status  family_status_id gender income_type  debt  \\\n",
       "0       женат / замужем                 0      F   сотрудник     0   \n",
       "1       женат / замужем                 0      F   сотрудник     0   \n",
       "2       женат / замужем                 0      M   сотрудник     0   \n",
       "3       женат / замужем                 0      M   сотрудник     0   \n",
       "4      гражданский брак                 1      F   пенсионер     0   \n",
       "...                 ...               ...    ...         ...   ...   \n",
       "21343  гражданский брак                 1      F   компаньон     0   \n",
       "21344   женат / замужем                 0      F   пенсионер     0   \n",
       "21345  гражданский брак                 1      M   сотрудник     1   \n",
       "21346   женат / замужем                 0      M   сотрудник     1   \n",
       "21347   женат / замужем                 0      F   сотрудник     0   \n",
       "\n",
       "       total_income                       purpose total_income_category  \\\n",
       "0            253875                 покупка жилья                     B   \n",
       "1            112080       приобретение автомобиля                     C   \n",
       "2            145885                 покупка жилья                     C   \n",
       "3            267628    дополнительное образование                     B   \n",
       "4            158616               сыграть свадьбу                     C   \n",
       "...             ...                           ...                   ...   \n",
       "21343        224791             операции с жильем                     B   \n",
       "21344        155999          сделка с автомобилем                     C   \n",
       "21345         89672                  недвижимость                     C   \n",
       "21346        244093  на покупку своего автомобиля                     B   \n",
       "21347         82047         на покупку автомобиля                     C   \n",
       "\n",
       "               purpose_category  \n",
       "0      операции с недвижимостью  \n",
       "1        операции с автомобилем  \n",
       "2      операции с недвижимостью  \n",
       "3         получение образования  \n",
       "4            проведение свадьбы  \n",
       "...                         ...  \n",
       "21343  операции с недвижимостью  \n",
       "21344    операции с автомобилем  \n",
       "21345  операции с недвижимостью  \n",
       "21346    операции с автомобилем  \n",
       "21347    операции с автомобилем  \n",
       "\n",
       "[21348 rows x 14 columns]"
      ]
     },
     "execution_count": 23,
     "metadata": {},
     "output_type": "execute_result"
    }
   ],
   "source": [
    "data"
   ]
  }
 ],
 "metadata": {
  "ExecuteTimeLog": [
   {
    "duration": 70,
    "start_time": "2022-07-08T08:52:52.909Z"
   },
   {
    "duration": 498,
    "start_time": "2022-07-08T08:54:13.997Z"
   },
   {
    "duration": 141,
    "start_time": "2022-07-08T08:54:14.497Z"
   },
   {
    "duration": 2,
    "start_time": "2022-07-08T08:54:14.640Z"
   },
   {
    "duration": 13,
    "start_time": "2022-07-08T08:54:14.645Z"
   },
   {
    "duration": 12,
    "start_time": "2022-07-08T08:54:14.660Z"
   },
   {
    "duration": 11,
    "start_time": "2022-07-08T08:54:14.676Z"
   },
   {
    "duration": 8,
    "start_time": "2022-07-08T08:54:14.689Z"
   },
   {
    "duration": 12,
    "start_time": "2022-07-08T08:54:14.699Z"
   },
   {
    "duration": 26,
    "start_time": "2022-07-08T08:54:14.713Z"
   },
   {
    "duration": 21,
    "start_time": "2022-07-08T08:54:14.742Z"
   },
   {
    "duration": 14,
    "start_time": "2022-07-08T08:54:14.765Z"
   },
   {
    "duration": 6,
    "start_time": "2022-07-08T08:54:14.781Z"
   },
   {
    "duration": 5,
    "start_time": "2022-07-08T08:54:14.788Z"
   },
   {
    "duration": 7,
    "start_time": "2022-07-08T08:54:14.795Z"
   },
   {
    "duration": 19,
    "start_time": "2022-07-08T08:54:14.804Z"
   },
   {
    "duration": 12,
    "start_time": "2022-07-08T08:54:14.826Z"
   },
   {
    "duration": 10,
    "start_time": "2022-07-08T08:54:14.840Z"
   },
   {
    "duration": 7,
    "start_time": "2022-07-08T08:54:14.852Z"
   },
   {
    "duration": 10,
    "start_time": "2022-07-08T08:54:14.860Z"
   },
   {
    "duration": 11,
    "start_time": "2022-07-08T08:54:14.871Z"
   },
   {
    "duration": 7,
    "start_time": "2022-07-08T08:54:14.883Z"
   },
   {
    "duration": 14,
    "start_time": "2022-07-08T08:54:14.891Z"
   },
   {
    "duration": 2,
    "start_time": "2022-07-08T08:54:20.383Z"
   },
   {
    "duration": 74,
    "start_time": "2022-07-08T08:54:29.962Z"
   },
   {
    "duration": 2,
    "start_time": "2022-07-08T08:54:45.139Z"
   },
   {
    "duration": 59,
    "start_time": "2022-07-08T08:54:46.442Z"
   },
   {
    "duration": 403,
    "start_time": "2022-07-08T08:55:03.948Z"
   },
   {
    "duration": 85,
    "start_time": "2022-07-08T08:55:04.353Z"
   },
   {
    "duration": 3,
    "start_time": "2022-07-08T08:55:04.440Z"
   },
   {
    "duration": 14,
    "start_time": "2022-07-08T08:55:04.446Z"
   },
   {
    "duration": 12,
    "start_time": "2022-07-08T08:55:04.462Z"
   },
   {
    "duration": 12,
    "start_time": "2022-07-08T08:55:04.476Z"
   },
   {
    "duration": 10,
    "start_time": "2022-07-08T08:55:04.490Z"
   },
   {
    "duration": 13,
    "start_time": "2022-07-08T08:55:04.502Z"
   },
   {
    "duration": 25,
    "start_time": "2022-07-08T08:55:04.517Z"
   },
   {
    "duration": 10,
    "start_time": "2022-07-08T08:55:04.545Z"
   },
   {
    "duration": 15,
    "start_time": "2022-07-08T08:55:04.557Z"
   },
   {
    "duration": 13,
    "start_time": "2022-07-08T08:55:04.574Z"
   },
   {
    "duration": 11,
    "start_time": "2022-07-08T08:55:04.589Z"
   },
   {
    "duration": 11,
    "start_time": "2022-07-08T08:55:04.602Z"
   },
   {
    "duration": 15,
    "start_time": "2022-07-08T08:55:04.614Z"
   },
   {
    "duration": 16,
    "start_time": "2022-07-08T08:55:04.631Z"
   },
   {
    "duration": 15,
    "start_time": "2022-07-08T08:55:04.649Z"
   },
   {
    "duration": 27,
    "start_time": "2022-07-08T08:55:04.667Z"
   },
   {
    "duration": 14,
    "start_time": "2022-07-08T08:55:04.696Z"
   },
   {
    "duration": 44,
    "start_time": "2022-07-08T08:55:04.712Z"
   },
   {
    "duration": 10,
    "start_time": "2022-07-08T08:55:04.758Z"
   },
   {
    "duration": 8,
    "start_time": "2022-07-08T08:55:04.770Z"
   },
   {
    "duration": 28,
    "start_time": "2022-07-08T08:55:44.195Z"
   },
   {
    "duration": 18,
    "start_time": "2022-07-08T09:40:10.725Z"
   },
   {
    "duration": 12,
    "start_time": "2022-07-08T10:04:54.184Z"
   },
   {
    "duration": 12,
    "start_time": "2022-07-08T12:01:13.720Z"
   },
   {
    "duration": 13,
    "start_time": "2022-07-08T12:17:11.657Z"
   },
   {
    "duration": 85,
    "start_time": "2022-07-08T12:18:44.310Z"
   },
   {
    "duration": 9,
    "start_time": "2022-07-08T12:30:00.800Z"
   },
   {
    "duration": 9,
    "start_time": "2022-07-08T12:31:01.310Z"
   },
   {
    "duration": 6,
    "start_time": "2022-07-08T12:55:30.886Z"
   },
   {
    "duration": 6,
    "start_time": "2022-07-08T12:55:33.741Z"
   },
   {
    "duration": 407,
    "start_time": "2022-07-08T12:55:43.990Z"
   },
   {
    "duration": 78,
    "start_time": "2022-07-08T12:55:44.399Z"
   },
   {
    "duration": 28,
    "start_time": "2022-07-08T12:55:44.479Z"
   },
   {
    "duration": 25,
    "start_time": "2022-07-08T12:55:44.510Z"
   },
   {
    "duration": 15,
    "start_time": "2022-07-08T12:55:44.537Z"
   },
   {
    "duration": 21,
    "start_time": "2022-07-08T12:55:44.554Z"
   },
   {
    "duration": 9,
    "start_time": "2022-07-08T12:55:44.577Z"
   },
   {
    "duration": 14,
    "start_time": "2022-07-08T12:55:44.588Z"
   },
   {
    "duration": 16,
    "start_time": "2022-07-08T12:55:44.604Z"
   },
   {
    "duration": 6,
    "start_time": "2022-07-08T12:55:44.623Z"
   },
   {
    "duration": 10,
    "start_time": "2022-07-08T12:55:44.630Z"
   },
   {
    "duration": 7,
    "start_time": "2022-07-08T12:55:44.641Z"
   },
   {
    "duration": 20,
    "start_time": "2022-07-08T12:55:44.650Z"
   },
   {
    "duration": 9,
    "start_time": "2022-07-08T12:55:44.671Z"
   },
   {
    "duration": 9,
    "start_time": "2022-07-08T12:55:44.681Z"
   },
   {
    "duration": 9,
    "start_time": "2022-07-08T12:55:44.692Z"
   },
   {
    "duration": 6,
    "start_time": "2022-07-08T12:55:44.703Z"
   },
   {
    "duration": 8,
    "start_time": "2022-07-08T12:55:44.710Z"
   },
   {
    "duration": 8,
    "start_time": "2022-07-08T12:55:44.720Z"
   },
   {
    "duration": 5,
    "start_time": "2022-07-08T12:55:44.729Z"
   },
   {
    "duration": 10,
    "start_time": "2022-07-08T12:55:44.736Z"
   },
   {
    "duration": 7,
    "start_time": "2022-07-08T12:55:44.747Z"
   },
   {
    "duration": 12,
    "start_time": "2022-07-08T12:55:54.395Z"
   },
   {
    "duration": 1472,
    "start_time": "2022-07-08T13:04:30.147Z"
   },
   {
    "duration": 6,
    "start_time": "2022-07-08T13:04:46.117Z"
   },
   {
    "duration": 9,
    "start_time": "2022-07-08T13:04:55.998Z"
   },
   {
    "duration": 855,
    "start_time": "2022-07-08T13:18:31.118Z"
   },
   {
    "duration": 8,
    "start_time": "2022-07-08T13:18:49.173Z"
   },
   {
    "duration": 796,
    "start_time": "2022-07-08T13:19:08.086Z"
   },
   {
    "duration": 12,
    "start_time": "2022-07-08T13:19:33.289Z"
   },
   {
    "duration": 9,
    "start_time": "2022-07-08T13:20:15.042Z"
   },
   {
    "duration": 11,
    "start_time": "2022-07-08T13:20:23.558Z"
   },
   {
    "duration": 895,
    "start_time": "2022-07-08T13:20:29.869Z"
   },
   {
    "duration": 9,
    "start_time": "2022-07-08T13:21:26.986Z"
   },
   {
    "duration": 10,
    "start_time": "2022-07-08T13:21:36.944Z"
   },
   {
    "duration": 6,
    "start_time": "2022-07-08T13:22:28.811Z"
   },
   {
    "duration": 46,
    "start_time": "2022-07-08T13:23:00.853Z"
   },
   {
    "duration": 13,
    "start_time": "2022-07-08T13:23:07.105Z"
   },
   {
    "duration": 11,
    "start_time": "2022-07-08T13:24:49.936Z"
   },
   {
    "duration": 28,
    "start_time": "2022-07-08T13:24:59.050Z"
   },
   {
    "duration": 21,
    "start_time": "2022-07-08T13:25:51.275Z"
   },
   {
    "duration": 32,
    "start_time": "2022-07-08T13:26:19.544Z"
   },
   {
    "duration": 25,
    "start_time": "2022-07-08T13:26:34.378Z"
   },
   {
    "duration": 11,
    "start_time": "2022-07-08T13:27:20.904Z"
   },
   {
    "duration": 11,
    "start_time": "2022-07-08T13:27:52.403Z"
   },
   {
    "duration": 12,
    "start_time": "2022-07-08T13:29:17.447Z"
   },
   {
    "duration": 33,
    "start_time": "2022-07-08T13:30:09.662Z"
   },
   {
    "duration": 11,
    "start_time": "2022-07-08T13:32:49.985Z"
   },
   {
    "duration": 11,
    "start_time": "2022-07-08T13:33:12.243Z"
   },
   {
    "duration": 6,
    "start_time": "2022-07-08T13:33:20.950Z"
   },
   {
    "duration": 389,
    "start_time": "2022-07-08T13:33:39.159Z"
   },
   {
    "duration": 66,
    "start_time": "2022-07-08T13:33:39.550Z"
   },
   {
    "duration": 22,
    "start_time": "2022-07-08T13:33:39.617Z"
   },
   {
    "duration": 14,
    "start_time": "2022-07-08T13:33:39.641Z"
   },
   {
    "duration": 10,
    "start_time": "2022-07-08T13:33:39.657Z"
   },
   {
    "duration": 18,
    "start_time": "2022-07-08T13:33:39.668Z"
   },
   {
    "duration": 36,
    "start_time": "2022-07-08T13:33:39.687Z"
   },
   {
    "duration": 10,
    "start_time": "2022-07-08T13:33:39.724Z"
   },
   {
    "duration": 15,
    "start_time": "2022-07-08T13:33:39.735Z"
   },
   {
    "duration": 7,
    "start_time": "2022-07-08T13:33:39.751Z"
   },
   {
    "duration": 6,
    "start_time": "2022-07-08T13:33:39.759Z"
   },
   {
    "duration": 8,
    "start_time": "2022-07-08T13:33:39.767Z"
   },
   {
    "duration": 11,
    "start_time": "2022-07-08T13:33:39.777Z"
   },
   {
    "duration": 5,
    "start_time": "2022-07-08T13:33:39.791Z"
   },
   {
    "duration": 7,
    "start_time": "2022-07-08T13:33:39.797Z"
   },
   {
    "duration": 10,
    "start_time": "2022-07-08T13:33:39.806Z"
   },
   {
    "duration": 5,
    "start_time": "2022-07-08T13:33:39.818Z"
   },
   {
    "duration": 10,
    "start_time": "2022-07-08T13:33:39.825Z"
   },
   {
    "duration": 9,
    "start_time": "2022-07-08T13:33:39.836Z"
   },
   {
    "duration": 10,
    "start_time": "2022-07-08T13:33:39.846Z"
   },
   {
    "duration": 6,
    "start_time": "2022-07-08T13:33:39.858Z"
   },
   {
    "duration": 8,
    "start_time": "2022-07-08T13:33:39.865Z"
   },
   {
    "duration": 81,
    "start_time": "2022-07-08T13:36:03.296Z"
   },
   {
    "duration": 4,
    "start_time": "2022-07-08T13:36:11.970Z"
   },
   {
    "duration": 11,
    "start_time": "2022-07-08T13:36:32.714Z"
   },
   {
    "duration": 9,
    "start_time": "2022-07-08T13:37:28.869Z"
   },
   {
    "duration": 38,
    "start_time": "2022-07-08T13:38:13.412Z"
   },
   {
    "duration": 8,
    "start_time": "2022-07-08T13:38:59.855Z"
   },
   {
    "duration": 14,
    "start_time": "2022-07-08T13:39:34.749Z"
   },
   {
    "duration": 9,
    "start_time": "2022-07-08T13:39:56.477Z"
   },
   {
    "duration": 9,
    "start_time": "2022-07-08T13:40:19.166Z"
   },
   {
    "duration": 34,
    "start_time": "2022-07-08T13:41:52.755Z"
   },
   {
    "duration": 34,
    "start_time": "2022-07-08T13:42:19.090Z"
   },
   {
    "duration": 148,
    "start_time": "2022-07-08T13:42:32.776Z"
   },
   {
    "duration": 24,
    "start_time": "2022-07-08T13:43:45.119Z"
   },
   {
    "duration": 11,
    "start_time": "2022-07-08T13:43:51.944Z"
   },
   {
    "duration": 4,
    "start_time": "2022-07-08T13:44:32.089Z"
   },
   {
    "duration": 4,
    "start_time": "2022-07-08T13:44:34.762Z"
   },
   {
    "duration": 432,
    "start_time": "2022-07-08T13:44:43.595Z"
   },
   {
    "duration": 66,
    "start_time": "2022-07-08T13:44:44.029Z"
   },
   {
    "duration": 22,
    "start_time": "2022-07-08T13:44:44.097Z"
   },
   {
    "duration": 16,
    "start_time": "2022-07-08T13:44:44.124Z"
   },
   {
    "duration": 11,
    "start_time": "2022-07-08T13:44:44.142Z"
   },
   {
    "duration": 168,
    "start_time": "2022-07-08T13:44:44.155Z"
   },
   {
    "duration": 3,
    "start_time": "2022-07-08T13:44:44.325Z"
   },
   {
    "duration": 9,
    "start_time": "2022-07-08T13:44:44.329Z"
   },
   {
    "duration": 7,
    "start_time": "2022-07-08T13:44:44.340Z"
   },
   {
    "duration": 16,
    "start_time": "2022-07-08T13:44:44.350Z"
   },
   {
    "duration": 9,
    "start_time": "2022-07-08T13:44:44.368Z"
   },
   {
    "duration": 13,
    "start_time": "2022-07-08T13:44:44.379Z"
   },
   {
    "duration": 19,
    "start_time": "2022-07-08T13:44:44.394Z"
   },
   {
    "duration": 17,
    "start_time": "2022-07-08T13:44:44.415Z"
   },
   {
    "duration": 42,
    "start_time": "2022-07-08T13:44:44.434Z"
   },
   {
    "duration": 15,
    "start_time": "2022-07-08T13:44:44.479Z"
   },
   {
    "duration": 18,
    "start_time": "2022-07-08T13:44:44.496Z"
   },
   {
    "duration": 15,
    "start_time": "2022-07-08T13:44:44.516Z"
   },
   {
    "duration": 10,
    "start_time": "2022-07-08T13:44:44.534Z"
   },
   {
    "duration": 13,
    "start_time": "2022-07-08T13:44:44.546Z"
   },
   {
    "duration": 15,
    "start_time": "2022-07-08T13:44:44.561Z"
   },
   {
    "duration": 15,
    "start_time": "2022-07-08T13:44:44.578Z"
   },
   {
    "duration": 1322,
    "start_time": "2022-07-08T13:45:03.578Z"
   },
   {
    "duration": 23,
    "start_time": "2022-07-08T13:50:26.594Z"
   },
   {
    "duration": 23,
    "start_time": "2022-07-08T13:50:32.099Z"
   },
   {
    "duration": 374,
    "start_time": "2022-07-08T13:50:38.775Z"
   },
   {
    "duration": 66,
    "start_time": "2022-07-08T13:50:39.151Z"
   },
   {
    "duration": 22,
    "start_time": "2022-07-08T13:50:39.218Z"
   },
   {
    "duration": 17,
    "start_time": "2022-07-08T13:50:39.242Z"
   },
   {
    "duration": 10,
    "start_time": "2022-07-08T13:50:39.260Z"
   },
   {
    "duration": 23,
    "start_time": "2022-07-08T13:50:39.272Z"
   },
   {
    "duration": 3,
    "start_time": "2022-07-08T13:50:39.297Z"
   },
   {
    "duration": 22,
    "start_time": "2022-07-08T13:50:39.301Z"
   },
   {
    "duration": 6,
    "start_time": "2022-07-08T13:50:39.325Z"
   },
   {
    "duration": 8,
    "start_time": "2022-07-08T13:50:39.334Z"
   },
   {
    "duration": 7,
    "start_time": "2022-07-08T13:50:39.344Z"
   },
   {
    "duration": 6,
    "start_time": "2022-07-08T13:50:39.353Z"
   },
   {
    "duration": 13,
    "start_time": "2022-07-08T13:50:39.360Z"
   },
   {
    "duration": 17,
    "start_time": "2022-07-08T13:50:39.375Z"
   },
   {
    "duration": 6,
    "start_time": "2022-07-08T13:50:39.393Z"
   },
   {
    "duration": 8,
    "start_time": "2022-07-08T13:50:39.400Z"
   },
   {
    "duration": 5,
    "start_time": "2022-07-08T13:50:39.410Z"
   },
   {
    "duration": 6,
    "start_time": "2022-07-08T13:50:39.416Z"
   },
   {
    "duration": 15,
    "start_time": "2022-07-08T13:50:39.423Z"
   },
   {
    "duration": 23,
    "start_time": "2022-07-08T13:50:39.440Z"
   },
   {
    "duration": 5,
    "start_time": "2022-07-08T13:50:39.465Z"
   },
   {
    "duration": 15,
    "start_time": "2022-07-08T13:50:39.471Z"
   },
   {
    "duration": 127,
    "start_time": "2022-07-08T13:50:57.319Z"
   },
   {
    "duration": 151,
    "start_time": "2022-07-08T13:51:15.118Z"
   },
   {
    "duration": 8,
    "start_time": "2022-07-08T14:13:32.618Z"
   },
   {
    "duration": 62,
    "start_time": "2022-07-08T14:32:30.518Z"
   },
   {
    "duration": 4,
    "start_time": "2022-07-08T14:32:39.346Z"
   },
   {
    "duration": 886,
    "start_time": "2022-07-08T14:32:52.330Z"
   },
   {
    "duration": 8,
    "start_time": "2022-07-08T14:33:22.790Z"
   },
   {
    "duration": 14,
    "start_time": "2022-07-08T14:33:56.340Z"
   },
   {
    "duration": 14,
    "start_time": "2022-07-08T14:34:17.541Z"
   },
   {
    "duration": 782,
    "start_time": "2022-07-08T14:36:37.019Z"
   },
   {
    "duration": 10,
    "start_time": "2022-07-08T14:38:10.938Z"
   },
   {
    "duration": 400,
    "start_time": "2022-07-08T14:39:03.339Z"
   },
   {
    "duration": 65,
    "start_time": "2022-07-08T14:39:03.741Z"
   },
   {
    "duration": 24,
    "start_time": "2022-07-08T14:39:03.808Z"
   },
   {
    "duration": 16,
    "start_time": "2022-07-08T14:39:03.833Z"
   },
   {
    "duration": 11,
    "start_time": "2022-07-08T14:39:03.851Z"
   },
   {
    "duration": 16,
    "start_time": "2022-07-08T14:39:03.864Z"
   },
   {
    "duration": 3,
    "start_time": "2022-07-08T14:39:03.881Z"
   },
   {
    "duration": 2,
    "start_time": "2022-07-08T14:39:03.923Z"
   },
   {
    "duration": 7,
    "start_time": "2022-07-08T14:39:03.927Z"
   },
   {
    "duration": 5,
    "start_time": "2022-07-08T14:39:03.935Z"
   },
   {
    "duration": 6,
    "start_time": "2022-07-08T14:39:03.942Z"
   },
   {
    "duration": 11,
    "start_time": "2022-07-08T14:39:03.949Z"
   },
   {
    "duration": 25,
    "start_time": "2022-07-08T14:39:03.962Z"
   },
   {
    "duration": 7,
    "start_time": "2022-07-08T14:39:03.990Z"
   },
   {
    "duration": 15,
    "start_time": "2022-07-08T14:39:03.998Z"
   },
   {
    "duration": 13,
    "start_time": "2022-07-08T14:39:04.015Z"
   },
   {
    "duration": 13,
    "start_time": "2022-07-08T14:39:04.029Z"
   },
   {
    "duration": 9,
    "start_time": "2022-07-08T14:39:04.044Z"
   },
   {
    "duration": 15,
    "start_time": "2022-07-08T14:39:04.055Z"
   },
   {
    "duration": 8,
    "start_time": "2022-07-08T14:39:04.071Z"
   },
   {
    "duration": 19,
    "start_time": "2022-07-08T14:39:04.080Z"
   },
   {
    "duration": 10,
    "start_time": "2022-07-08T14:39:04.101Z"
   },
   {
    "duration": 10,
    "start_time": "2022-07-08T14:44:24.479Z"
   },
   {
    "duration": 71,
    "start_time": "2022-07-08T14:47:58.414Z"
   },
   {
    "duration": 21,
    "start_time": "2022-07-08T14:49:27.520Z"
   },
   {
    "duration": 380,
    "start_time": "2022-07-08T14:49:32.860Z"
   },
   {
    "duration": 69,
    "start_time": "2022-07-08T14:49:33.244Z"
   },
   {
    "duration": 24,
    "start_time": "2022-07-08T14:49:33.315Z"
   },
   {
    "duration": 25,
    "start_time": "2022-07-08T14:49:33.340Z"
   },
   {
    "duration": 14,
    "start_time": "2022-07-08T14:49:33.368Z"
   },
   {
    "duration": 94,
    "start_time": "2022-07-08T14:49:33.384Z"
   },
   {
    "duration": 0,
    "start_time": "2022-07-08T14:49:33.480Z"
   },
   {
    "duration": 0,
    "start_time": "2022-07-08T14:49:33.481Z"
   },
   {
    "duration": 0,
    "start_time": "2022-07-08T14:49:33.483Z"
   },
   {
    "duration": 0,
    "start_time": "2022-07-08T14:49:33.485Z"
   },
   {
    "duration": 0,
    "start_time": "2022-07-08T14:49:33.487Z"
   },
   {
    "duration": 0,
    "start_time": "2022-07-08T14:49:33.488Z"
   },
   {
    "duration": 0,
    "start_time": "2022-07-08T14:49:33.488Z"
   },
   {
    "duration": 0,
    "start_time": "2022-07-08T14:49:33.489Z"
   },
   {
    "duration": 0,
    "start_time": "2022-07-08T14:49:33.490Z"
   },
   {
    "duration": 0,
    "start_time": "2022-07-08T14:49:33.492Z"
   },
   {
    "duration": 0,
    "start_time": "2022-07-08T14:49:33.493Z"
   },
   {
    "duration": 0,
    "start_time": "2022-07-08T14:49:33.494Z"
   },
   {
    "duration": 0,
    "start_time": "2022-07-08T14:49:33.495Z"
   },
   {
    "duration": 0,
    "start_time": "2022-07-08T14:49:33.523Z"
   },
   {
    "duration": 0,
    "start_time": "2022-07-08T14:49:33.524Z"
   },
   {
    "duration": 0,
    "start_time": "2022-07-08T14:49:33.525Z"
   },
   {
    "duration": 901,
    "start_time": "2022-07-08T14:50:10.749Z"
   },
   {
    "duration": 130,
    "start_time": "2022-07-08T14:53:45.402Z"
   },
   {
    "duration": 150,
    "start_time": "2022-07-08T14:54:50.074Z"
   },
   {
    "duration": 107,
    "start_time": "2022-07-08T15:00:13.804Z"
   },
   {
    "duration": 86,
    "start_time": "2022-07-08T15:01:43.184Z"
   },
   {
    "duration": 64,
    "start_time": "2022-07-08T15:02:20.373Z"
   },
   {
    "duration": 23,
    "start_time": "2022-07-08T15:03:26.351Z"
   },
   {
    "duration": 141,
    "start_time": "2022-07-08T15:03:44.891Z"
   },
   {
    "duration": 840,
    "start_time": "2022-07-08T15:04:00.459Z"
   },
   {
    "duration": 1143,
    "start_time": "2022-07-08T15:04:59.707Z"
   },
   {
    "duration": 849,
    "start_time": "2022-07-08T15:05:32.501Z"
   },
   {
    "duration": 498,
    "start_time": "2022-07-08T15:06:08.304Z"
   },
   {
    "duration": 72,
    "start_time": "2022-07-08T15:06:08.804Z"
   },
   {
    "duration": 27,
    "start_time": "2022-07-08T15:06:08.878Z"
   },
   {
    "duration": 25,
    "start_time": "2022-07-08T15:06:08.909Z"
   },
   {
    "duration": 20,
    "start_time": "2022-07-08T15:06:08.936Z"
   },
   {
    "duration": 140,
    "start_time": "2022-07-08T15:06:08.959Z"
   },
   {
    "duration": 2,
    "start_time": "2022-07-08T15:06:09.101Z"
   },
   {
    "duration": 16,
    "start_time": "2022-07-08T15:06:09.105Z"
   },
   {
    "duration": 11,
    "start_time": "2022-07-08T15:06:09.123Z"
   },
   {
    "duration": 14,
    "start_time": "2022-07-08T15:06:09.137Z"
   },
   {
    "duration": 7,
    "start_time": "2022-07-08T15:06:09.153Z"
   },
   {
    "duration": 9,
    "start_time": "2022-07-08T15:06:09.161Z"
   },
   {
    "duration": 13,
    "start_time": "2022-07-08T15:06:09.171Z"
   },
   {
    "duration": 12,
    "start_time": "2022-07-08T15:06:09.186Z"
   },
   {
    "duration": 8,
    "start_time": "2022-07-08T15:06:09.200Z"
   },
   {
    "duration": 6,
    "start_time": "2022-07-08T15:06:09.209Z"
   },
   {
    "duration": 13,
    "start_time": "2022-07-08T15:06:09.217Z"
   },
   {
    "duration": 10,
    "start_time": "2022-07-08T15:06:09.232Z"
   },
   {
    "duration": 7,
    "start_time": "2022-07-08T15:06:09.243Z"
   },
   {
    "duration": 5,
    "start_time": "2022-07-08T15:06:09.251Z"
   },
   {
    "duration": 5,
    "start_time": "2022-07-08T15:06:09.258Z"
   },
   {
    "duration": 6,
    "start_time": "2022-07-08T15:06:09.264Z"
   },
   {
    "duration": 95,
    "start_time": "2022-07-08T15:09:58.694Z"
   },
   {
    "duration": 471,
    "start_time": "2022-07-08T15:14:25.241Z"
   },
   {
    "duration": 94,
    "start_time": "2022-07-08T15:24:45.402Z"
   },
   {
    "duration": 419,
    "start_time": "2022-07-08T15:25:03.534Z"
   },
   {
    "duration": 73,
    "start_time": "2022-07-08T15:25:03.955Z"
   },
   {
    "duration": 21,
    "start_time": "2022-07-08T15:25:04.029Z"
   },
   {
    "duration": 15,
    "start_time": "2022-07-08T15:25:04.051Z"
   },
   {
    "duration": 10,
    "start_time": "2022-07-08T15:25:04.068Z"
   },
   {
    "duration": 72,
    "start_time": "2022-07-08T15:25:04.079Z"
   },
   {
    "duration": 2,
    "start_time": "2022-07-08T15:25:04.153Z"
   },
   {
    "duration": 5,
    "start_time": "2022-07-08T15:25:04.157Z"
   },
   {
    "duration": 7,
    "start_time": "2022-07-08T15:25:04.163Z"
   },
   {
    "duration": 5,
    "start_time": "2022-07-08T15:25:04.172Z"
   },
   {
    "duration": 6,
    "start_time": "2022-07-08T15:25:04.179Z"
   },
   {
    "duration": 9,
    "start_time": "2022-07-08T15:25:04.186Z"
   },
   {
    "duration": 6,
    "start_time": "2022-07-08T15:25:04.196Z"
   },
   {
    "duration": 11,
    "start_time": "2022-07-08T15:25:04.205Z"
   },
   {
    "duration": 2,
    "start_time": "2022-07-08T15:25:04.222Z"
   },
   {
    "duration": 12,
    "start_time": "2022-07-08T15:25:04.225Z"
   },
   {
    "duration": 8,
    "start_time": "2022-07-08T15:25:04.239Z"
   },
   {
    "duration": 16,
    "start_time": "2022-07-08T15:25:04.248Z"
   },
   {
    "duration": 11,
    "start_time": "2022-07-08T15:25:04.265Z"
   },
   {
    "duration": 9,
    "start_time": "2022-07-08T15:25:04.278Z"
   },
   {
    "duration": 7,
    "start_time": "2022-07-08T15:25:04.289Z"
   },
   {
    "duration": 9,
    "start_time": "2022-07-08T15:25:04.297Z"
   },
   {
    "duration": 55,
    "start_time": "2022-07-08T15:25:59.492Z"
   },
   {
    "duration": 50,
    "start_time": "2022-07-08T15:26:25.332Z"
   },
   {
    "duration": 81,
    "start_time": "2022-07-08T15:27:08.903Z"
   },
   {
    "duration": 50,
    "start_time": "2022-07-08T15:29:33.079Z"
   },
   {
    "duration": 24,
    "start_time": "2022-07-08T15:31:02.703Z"
   },
   {
    "duration": 91,
    "start_time": "2022-07-08T15:31:20.827Z"
   },
   {
    "duration": 51,
    "start_time": "2022-07-08T15:32:35.758Z"
   },
   {
    "duration": 399,
    "start_time": "2022-07-08T15:32:56.473Z"
   },
   {
    "duration": 76,
    "start_time": "2022-07-08T15:32:56.875Z"
   },
   {
    "duration": 22,
    "start_time": "2022-07-08T15:32:56.953Z"
   },
   {
    "duration": 15,
    "start_time": "2022-07-08T15:32:56.977Z"
   },
   {
    "duration": 10,
    "start_time": "2022-07-08T15:32:56.994Z"
   },
   {
    "duration": 68,
    "start_time": "2022-07-08T15:32:57.023Z"
   },
   {
    "duration": 2,
    "start_time": "2022-07-08T15:32:57.092Z"
   },
   {
    "duration": 27,
    "start_time": "2022-07-08T15:32:57.096Z"
   },
   {
    "duration": 3,
    "start_time": "2022-07-08T15:32:57.125Z"
   },
   {
    "duration": 13,
    "start_time": "2022-07-08T15:32:57.130Z"
   },
   {
    "duration": 6,
    "start_time": "2022-07-08T15:32:57.145Z"
   },
   {
    "duration": 5,
    "start_time": "2022-07-08T15:32:57.153Z"
   },
   {
    "duration": 9,
    "start_time": "2022-07-08T15:32:57.159Z"
   },
   {
    "duration": 4,
    "start_time": "2022-07-08T15:32:57.171Z"
   },
   {
    "duration": 11,
    "start_time": "2022-07-08T15:32:57.176Z"
   },
   {
    "duration": 7,
    "start_time": "2022-07-08T15:32:57.189Z"
   },
   {
    "duration": 8,
    "start_time": "2022-07-08T15:32:57.198Z"
   },
   {
    "duration": 9,
    "start_time": "2022-07-08T15:32:57.207Z"
   },
   {
    "duration": 8,
    "start_time": "2022-07-08T15:32:57.218Z"
   },
   {
    "duration": 7,
    "start_time": "2022-07-08T15:32:57.228Z"
   },
   {
    "duration": 6,
    "start_time": "2022-07-08T15:32:57.237Z"
   },
   {
    "duration": 6,
    "start_time": "2022-07-08T15:32:57.245Z"
   },
   {
    "duration": 83,
    "start_time": "2022-07-08T15:39:35.850Z"
   },
   {
    "duration": 20,
    "start_time": "2022-07-08T15:40:05.967Z"
   },
   {
    "duration": 86,
    "start_time": "2022-07-08T15:45:42.422Z"
   },
   {
    "duration": 459,
    "start_time": "2022-07-08T15:45:54.309Z"
   },
   {
    "duration": 67,
    "start_time": "2022-07-08T15:45:54.771Z"
   },
   {
    "duration": 28,
    "start_time": "2022-07-08T15:45:54.840Z"
   },
   {
    "duration": 16,
    "start_time": "2022-07-08T15:45:54.870Z"
   },
   {
    "duration": 15,
    "start_time": "2022-07-08T15:45:54.887Z"
   },
   {
    "duration": 112,
    "start_time": "2022-07-08T15:45:54.904Z"
   },
   {
    "duration": 5,
    "start_time": "2022-07-08T15:45:55.018Z"
   },
   {
    "duration": 15,
    "start_time": "2022-07-08T15:45:55.025Z"
   },
   {
    "duration": 18,
    "start_time": "2022-07-08T15:45:55.042Z"
   },
   {
    "duration": 7,
    "start_time": "2022-07-08T15:45:55.063Z"
   },
   {
    "duration": 5,
    "start_time": "2022-07-08T15:45:55.072Z"
   },
   {
    "duration": 11,
    "start_time": "2022-07-08T15:45:55.079Z"
   },
   {
    "duration": 20,
    "start_time": "2022-07-08T15:45:55.091Z"
   },
   {
    "duration": 8,
    "start_time": "2022-07-08T15:45:55.113Z"
   },
   {
    "duration": 9,
    "start_time": "2022-07-08T15:45:55.123Z"
   },
   {
    "duration": 12,
    "start_time": "2022-07-08T15:45:55.134Z"
   },
   {
    "duration": 10,
    "start_time": "2022-07-08T15:45:55.148Z"
   },
   {
    "duration": 6,
    "start_time": "2022-07-08T15:45:55.160Z"
   },
   {
    "duration": 6,
    "start_time": "2022-07-08T15:45:55.168Z"
   },
   {
    "duration": 10,
    "start_time": "2022-07-08T15:45:55.176Z"
   },
   {
    "duration": 8,
    "start_time": "2022-07-08T15:45:55.188Z"
   },
   {
    "duration": 15,
    "start_time": "2022-07-08T15:45:55.198Z"
   },
   {
    "duration": 90,
    "start_time": "2022-07-08T15:46:33.741Z"
   },
   {
    "duration": 77,
    "start_time": "2022-07-08T15:49:55.693Z"
   },
   {
    "duration": 19,
    "start_time": "2022-07-08T15:50:25.197Z"
   },
   {
    "duration": 96,
    "start_time": "2022-07-08T15:50:59.115Z"
   },
   {
    "duration": 5,
    "start_time": "2022-07-08T16:37:33.954Z"
   },
   {
    "duration": 31,
    "start_time": "2022-07-08T16:38:00.081Z"
   },
   {
    "duration": 22,
    "start_time": "2022-07-08T16:38:22.394Z"
   },
   {
    "duration": 13,
    "start_time": "2022-07-08T16:44:21.743Z"
   },
   {
    "duration": 12,
    "start_time": "2022-07-08T16:45:27.296Z"
   },
   {
    "duration": 5,
    "start_time": "2022-07-08T16:45:36.264Z"
   },
   {
    "duration": 11,
    "start_time": "2022-07-08T17:18:25.831Z"
   },
   {
    "duration": 421,
    "start_time": "2022-07-08T17:18:52.790Z"
   },
   {
    "duration": 71,
    "start_time": "2022-07-08T17:18:53.213Z"
   },
   {
    "duration": 23,
    "start_time": "2022-07-08T17:18:53.287Z"
   },
   {
    "duration": 25,
    "start_time": "2022-07-08T17:18:53.311Z"
   },
   {
    "duration": 14,
    "start_time": "2022-07-08T17:18:53.338Z"
   },
   {
    "duration": 117,
    "start_time": "2022-07-08T17:18:53.354Z"
   },
   {
    "duration": 4,
    "start_time": "2022-07-08T17:18:53.473Z"
   },
   {
    "duration": 15,
    "start_time": "2022-07-08T17:18:53.479Z"
   },
   {
    "duration": 8,
    "start_time": "2022-07-08T17:18:53.496Z"
   },
   {
    "duration": 15,
    "start_time": "2022-07-08T17:18:53.522Z"
   },
   {
    "duration": 2,
    "start_time": "2022-07-08T17:18:53.539Z"
   },
   {
    "duration": 5,
    "start_time": "2022-07-08T17:18:53.543Z"
   },
   {
    "duration": 8,
    "start_time": "2022-07-08T17:18:53.550Z"
   },
   {
    "duration": 5,
    "start_time": "2022-07-08T17:18:53.560Z"
   },
   {
    "duration": 8,
    "start_time": "2022-07-08T17:18:53.567Z"
   },
   {
    "duration": 9,
    "start_time": "2022-07-08T17:18:53.577Z"
   },
   {
    "duration": 9,
    "start_time": "2022-07-08T17:18:53.588Z"
   },
   {
    "duration": 5,
    "start_time": "2022-07-08T17:18:53.599Z"
   },
   {
    "duration": 23,
    "start_time": "2022-07-08T17:18:53.606Z"
   },
   {
    "duration": 7,
    "start_time": "2022-07-08T17:18:53.631Z"
   },
   {
    "duration": 8,
    "start_time": "2022-07-08T17:18:53.641Z"
   },
   {
    "duration": 6,
    "start_time": "2022-07-08T17:18:53.651Z"
   },
   {
    "duration": 81,
    "start_time": "2022-07-08T17:22:18.922Z"
   },
   {
    "duration": 4,
    "start_time": "2022-07-08T17:26:47.077Z"
   },
   {
    "duration": 4,
    "start_time": "2022-07-08T17:27:46.103Z"
   },
   {
    "duration": 364,
    "start_time": "2022-07-08T17:27:53.474Z"
   },
   {
    "duration": 62,
    "start_time": "2022-07-08T17:27:53.841Z"
   },
   {
    "duration": 22,
    "start_time": "2022-07-08T17:27:53.905Z"
   },
   {
    "duration": 15,
    "start_time": "2022-07-08T17:27:53.930Z"
   },
   {
    "duration": 10,
    "start_time": "2022-07-08T17:27:53.947Z"
   },
   {
    "duration": 112,
    "start_time": "2022-07-08T17:27:53.959Z"
   },
   {
    "duration": 3,
    "start_time": "2022-07-08T17:27:54.073Z"
   },
   {
    "duration": 22,
    "start_time": "2022-07-08T17:27:54.078Z"
   },
   {
    "duration": 7,
    "start_time": "2022-07-08T17:27:54.101Z"
   },
   {
    "duration": 15,
    "start_time": "2022-07-08T17:27:54.110Z"
   },
   {
    "duration": 6,
    "start_time": "2022-07-08T17:27:54.127Z"
   },
   {
    "duration": 6,
    "start_time": "2022-07-08T17:27:54.135Z"
   },
   {
    "duration": 10,
    "start_time": "2022-07-08T17:27:54.143Z"
   },
   {
    "duration": 11,
    "start_time": "2022-07-08T17:27:54.154Z"
   },
   {
    "duration": 10,
    "start_time": "2022-07-08T17:27:54.167Z"
   },
   {
    "duration": 9,
    "start_time": "2022-07-08T17:27:54.179Z"
   },
   {
    "duration": 11,
    "start_time": "2022-07-08T17:27:54.189Z"
   },
   {
    "duration": 11,
    "start_time": "2022-07-08T17:27:54.202Z"
   },
   {
    "duration": 13,
    "start_time": "2022-07-08T17:27:54.215Z"
   },
   {
    "duration": 4,
    "start_time": "2022-07-08T17:27:54.230Z"
   },
   {
    "duration": 8,
    "start_time": "2022-07-08T17:27:54.236Z"
   },
   {
    "duration": 6,
    "start_time": "2022-07-08T17:27:54.245Z"
   },
   {
    "duration": 4,
    "start_time": "2022-07-08T17:40:21.440Z"
   },
   {
    "duration": 10,
    "start_time": "2022-07-08T17:40:45.010Z"
   },
   {
    "duration": 9,
    "start_time": "2022-07-08T17:41:22.911Z"
   },
   {
    "duration": 8,
    "start_time": "2022-07-08T17:41:48.326Z"
   },
   {
    "duration": 8,
    "start_time": "2022-07-08T17:42:19.046Z"
   },
   {
    "duration": 8,
    "start_time": "2022-07-08T17:42:23.480Z"
   },
   {
    "duration": 8,
    "start_time": "2022-07-08T17:42:55.549Z"
   },
   {
    "duration": 10,
    "start_time": "2022-07-08T17:46:03.990Z"
   },
   {
    "duration": 8,
    "start_time": "2022-07-08T17:46:28.088Z"
   },
   {
    "duration": 8,
    "start_time": "2022-07-08T17:47:51.603Z"
   },
   {
    "duration": 374,
    "start_time": "2022-07-08T17:48:11.468Z"
   },
   {
    "duration": 65,
    "start_time": "2022-07-08T17:48:11.844Z"
   },
   {
    "duration": 22,
    "start_time": "2022-07-08T17:48:11.911Z"
   },
   {
    "duration": 15,
    "start_time": "2022-07-08T17:48:11.935Z"
   },
   {
    "duration": 11,
    "start_time": "2022-07-08T17:48:11.951Z"
   },
   {
    "duration": 107,
    "start_time": "2022-07-08T17:48:11.973Z"
   },
   {
    "duration": 3,
    "start_time": "2022-07-08T17:48:12.083Z"
   },
   {
    "duration": 11,
    "start_time": "2022-07-08T17:48:12.088Z"
   },
   {
    "duration": 4,
    "start_time": "2022-07-08T17:48:12.101Z"
   },
   {
    "duration": 20,
    "start_time": "2022-07-08T17:48:12.123Z"
   },
   {
    "duration": 5,
    "start_time": "2022-07-08T17:48:12.145Z"
   },
   {
    "duration": 6,
    "start_time": "2022-07-08T17:48:12.151Z"
   },
   {
    "duration": 6,
    "start_time": "2022-07-08T17:48:12.158Z"
   },
   {
    "duration": 6,
    "start_time": "2022-07-08T17:48:12.165Z"
   },
   {
    "duration": 6,
    "start_time": "2022-07-08T17:48:12.172Z"
   },
   {
    "duration": 5,
    "start_time": "2022-07-08T17:48:12.179Z"
   },
   {
    "duration": 6,
    "start_time": "2022-07-08T17:48:12.185Z"
   },
   {
    "duration": 12,
    "start_time": "2022-07-08T17:48:12.192Z"
   },
   {
    "duration": 6,
    "start_time": "2022-07-08T17:48:12.206Z"
   },
   {
    "duration": 2,
    "start_time": "2022-07-08T17:48:12.223Z"
   },
   {
    "duration": 7,
    "start_time": "2022-07-08T17:48:12.227Z"
   },
   {
    "duration": 11,
    "start_time": "2022-07-08T17:48:12.235Z"
   },
   {
    "duration": 7,
    "start_time": "2022-07-08T17:49:53.372Z"
   },
   {
    "duration": 386,
    "start_time": "2022-07-08T17:50:21.856Z"
   },
   {
    "duration": 65,
    "start_time": "2022-07-08T17:50:22.244Z"
   },
   {
    "duration": 27,
    "start_time": "2022-07-08T17:50:22.311Z"
   },
   {
    "duration": 17,
    "start_time": "2022-07-08T17:50:22.340Z"
   },
   {
    "duration": 11,
    "start_time": "2022-07-08T17:50:22.359Z"
   },
   {
    "duration": 124,
    "start_time": "2022-07-08T17:50:22.372Z"
   },
   {
    "duration": 4,
    "start_time": "2022-07-08T17:50:22.498Z"
   },
   {
    "duration": 21,
    "start_time": "2022-07-08T17:50:22.504Z"
   },
   {
    "duration": 5,
    "start_time": "2022-07-08T17:50:22.527Z"
   },
   {
    "duration": 10,
    "start_time": "2022-07-08T17:50:22.535Z"
   },
   {
    "duration": 7,
    "start_time": "2022-07-08T17:50:22.546Z"
   },
   {
    "duration": 9,
    "start_time": "2022-07-08T17:50:22.554Z"
   },
   {
    "duration": 6,
    "start_time": "2022-07-08T17:50:22.565Z"
   },
   {
    "duration": 4,
    "start_time": "2022-07-08T17:50:22.573Z"
   },
   {
    "duration": 17,
    "start_time": "2022-07-08T17:50:22.579Z"
   },
   {
    "duration": 6,
    "start_time": "2022-07-08T17:50:22.598Z"
   },
   {
    "duration": 21,
    "start_time": "2022-07-08T17:50:22.606Z"
   },
   {
    "duration": 6,
    "start_time": "2022-07-08T17:50:22.629Z"
   },
   {
    "duration": 6,
    "start_time": "2022-07-08T17:50:22.636Z"
   },
   {
    "duration": 6,
    "start_time": "2022-07-08T17:50:22.644Z"
   },
   {
    "duration": 10,
    "start_time": "2022-07-08T17:50:22.651Z"
   },
   {
    "duration": 6,
    "start_time": "2022-07-08T17:50:22.663Z"
   },
   {
    "duration": 10,
    "start_time": "2022-07-08T17:50:41.664Z"
   },
   {
    "duration": 51,
    "start_time": "2022-07-11T09:44:32.138Z"
   },
   {
    "duration": 385,
    "start_time": "2022-07-11T09:44:54.351Z"
   },
   {
    "duration": 309,
    "start_time": "2022-07-11T09:44:54.738Z"
   },
   {
    "duration": 26,
    "start_time": "2022-07-11T09:44:55.049Z"
   },
   {
    "duration": 33,
    "start_time": "2022-07-11T09:44:55.077Z"
   },
   {
    "duration": 16,
    "start_time": "2022-07-11T09:44:55.112Z"
   },
   {
    "duration": 112,
    "start_time": "2022-07-11T09:44:55.130Z"
   },
   {
    "duration": 3,
    "start_time": "2022-07-11T09:44:55.244Z"
   },
   {
    "duration": 16,
    "start_time": "2022-07-11T09:44:55.249Z"
   },
   {
    "duration": 22,
    "start_time": "2022-07-11T09:44:55.267Z"
   },
   {
    "duration": 14,
    "start_time": "2022-07-11T09:44:55.291Z"
   },
   {
    "duration": 26,
    "start_time": "2022-07-11T09:44:55.306Z"
   },
   {
    "duration": 29,
    "start_time": "2022-07-11T09:44:55.334Z"
   },
   {
    "duration": 10,
    "start_time": "2022-07-11T09:44:55.365Z"
   },
   {
    "duration": 13,
    "start_time": "2022-07-11T09:44:55.376Z"
   },
   {
    "duration": 4,
    "start_time": "2022-07-11T09:44:55.391Z"
   },
   {
    "duration": 15,
    "start_time": "2022-07-11T09:44:55.397Z"
   },
   {
    "duration": 11,
    "start_time": "2022-07-11T09:44:55.414Z"
   },
   {
    "duration": 5,
    "start_time": "2022-07-11T09:44:55.427Z"
   },
   {
    "duration": 9,
    "start_time": "2022-07-11T09:44:55.434Z"
   },
   {
    "duration": 4,
    "start_time": "2022-07-11T09:44:55.445Z"
   },
   {
    "duration": 5,
    "start_time": "2022-07-11T09:44:55.451Z"
   },
   {
    "duration": 5,
    "start_time": "2022-07-11T09:44:55.458Z"
   },
   {
    "duration": 10,
    "start_time": "2022-07-11T09:45:03.429Z"
   },
   {
    "duration": 76,
    "start_time": "2022-07-11T09:45:45.204Z"
   },
   {
    "duration": 7,
    "start_time": "2022-07-11T09:54:13.070Z"
   },
   {
    "duration": 8,
    "start_time": "2022-07-11T09:54:56.571Z"
   },
   {
    "duration": 433,
    "start_time": "2022-07-11T09:56:47.897Z"
   },
   {
    "duration": 75,
    "start_time": "2022-07-11T09:56:48.331Z"
   },
   {
    "duration": 23,
    "start_time": "2022-07-11T09:56:48.408Z"
   },
   {
    "duration": 17,
    "start_time": "2022-07-11T09:56:48.433Z"
   },
   {
    "duration": 10,
    "start_time": "2022-07-11T09:56:48.452Z"
   },
   {
    "duration": 129,
    "start_time": "2022-07-11T09:56:48.464Z"
   },
   {
    "duration": 3,
    "start_time": "2022-07-11T09:56:48.598Z"
   },
   {
    "duration": 13,
    "start_time": "2022-07-11T09:56:48.603Z"
   },
   {
    "duration": 5,
    "start_time": "2022-07-11T09:56:48.618Z"
   },
   {
    "duration": 28,
    "start_time": "2022-07-11T09:56:48.626Z"
   },
   {
    "duration": 2,
    "start_time": "2022-07-11T09:56:48.657Z"
   },
   {
    "duration": 8,
    "start_time": "2022-07-11T09:56:48.661Z"
   },
   {
    "duration": 27,
    "start_time": "2022-07-11T09:56:48.671Z"
   },
   {
    "duration": 3,
    "start_time": "2022-07-11T09:56:48.700Z"
   },
   {
    "duration": 11,
    "start_time": "2022-07-11T09:56:48.704Z"
   },
   {
    "duration": 6,
    "start_time": "2022-07-11T09:56:48.716Z"
   },
   {
    "duration": 5,
    "start_time": "2022-07-11T09:56:48.724Z"
   },
   {
    "duration": 5,
    "start_time": "2022-07-11T09:56:48.730Z"
   },
   {
    "duration": 5,
    "start_time": "2022-07-11T09:56:48.736Z"
   },
   {
    "duration": 6,
    "start_time": "2022-07-11T09:56:48.743Z"
   },
   {
    "duration": 5,
    "start_time": "2022-07-11T09:56:48.750Z"
   },
   {
    "duration": 7,
    "start_time": "2022-07-11T09:56:48.756Z"
   },
   {
    "duration": 5,
    "start_time": "2022-07-11T09:59:21.421Z"
   },
   {
    "duration": 6,
    "start_time": "2022-07-11T10:10:38.687Z"
   },
   {
    "duration": 97,
    "start_time": "2022-07-11T10:31:29.325Z"
   },
   {
    "duration": 399,
    "start_time": "2022-07-11T10:32:08.248Z"
   },
   {
    "duration": 76,
    "start_time": "2022-07-11T10:32:08.649Z"
   },
   {
    "duration": 26,
    "start_time": "2022-07-11T10:32:08.727Z"
   },
   {
    "duration": 18,
    "start_time": "2022-07-11T10:32:08.756Z"
   },
   {
    "duration": 27,
    "start_time": "2022-07-11T10:32:08.776Z"
   },
   {
    "duration": 126,
    "start_time": "2022-07-11T10:32:08.805Z"
   },
   {
    "duration": 4,
    "start_time": "2022-07-11T10:32:08.933Z"
   },
   {
    "duration": 30,
    "start_time": "2022-07-11T10:32:08.939Z"
   },
   {
    "duration": 6,
    "start_time": "2022-07-11T10:32:08.970Z"
   },
   {
    "duration": 31,
    "start_time": "2022-07-11T10:32:08.979Z"
   },
   {
    "duration": 5,
    "start_time": "2022-07-11T10:32:09.012Z"
   },
   {
    "duration": 82,
    "start_time": "2022-07-11T10:32:09.018Z"
   },
   {
    "duration": 0,
    "start_time": "2022-07-11T10:32:09.101Z"
   },
   {
    "duration": 0,
    "start_time": "2022-07-11T10:32:09.103Z"
   },
   {
    "duration": 0,
    "start_time": "2022-07-11T10:32:09.104Z"
   },
   {
    "duration": 0,
    "start_time": "2022-07-11T10:32:09.106Z"
   },
   {
    "duration": 0,
    "start_time": "2022-07-11T10:32:09.107Z"
   },
   {
    "duration": 0,
    "start_time": "2022-07-11T10:32:09.109Z"
   },
   {
    "duration": 0,
    "start_time": "2022-07-11T10:32:09.110Z"
   },
   {
    "duration": 0,
    "start_time": "2022-07-11T10:32:09.111Z"
   },
   {
    "duration": 0,
    "start_time": "2022-07-11T10:32:09.113Z"
   },
   {
    "duration": 0,
    "start_time": "2022-07-11T10:32:09.114Z"
   },
   {
    "duration": 86,
    "start_time": "2022-07-11T10:33:30.346Z"
   },
   {
    "duration": 76,
    "start_time": "2022-07-11T10:34:57.072Z"
   },
   {
    "duration": 96,
    "start_time": "2022-07-11T10:35:07.984Z"
   },
   {
    "duration": 394,
    "start_time": "2022-07-11T10:35:57.922Z"
   },
   {
    "duration": 74,
    "start_time": "2022-07-11T10:35:58.318Z"
   },
   {
    "duration": 23,
    "start_time": "2022-07-11T10:35:58.394Z"
   },
   {
    "duration": 16,
    "start_time": "2022-07-11T10:35:58.419Z"
   },
   {
    "duration": 8,
    "start_time": "2022-07-11T10:35:58.437Z"
   },
   {
    "duration": 113,
    "start_time": "2022-07-11T10:35:58.447Z"
   },
   {
    "duration": 3,
    "start_time": "2022-07-11T10:35:58.562Z"
   },
   {
    "duration": 12,
    "start_time": "2022-07-11T10:35:58.567Z"
   },
   {
    "duration": 4,
    "start_time": "2022-07-11T10:35:58.581Z"
   },
   {
    "duration": 25,
    "start_time": "2022-07-11T10:35:58.599Z"
   },
   {
    "duration": 4,
    "start_time": "2022-07-11T10:35:58.626Z"
   },
   {
    "duration": 112,
    "start_time": "2022-07-11T10:35:58.632Z"
   },
   {
    "duration": 3,
    "start_time": "2022-07-11T10:35:58.746Z"
   },
   {
    "duration": 6,
    "start_time": "2022-07-11T10:35:58.751Z"
   },
   {
    "duration": 7,
    "start_time": "2022-07-11T10:35:58.758Z"
   },
   {
    "duration": 5,
    "start_time": "2022-07-11T10:35:58.767Z"
   },
   {
    "duration": 4,
    "start_time": "2022-07-11T10:35:58.774Z"
   },
   {
    "duration": 19,
    "start_time": "2022-07-11T10:35:58.779Z"
   },
   {
    "duration": 5,
    "start_time": "2022-07-11T10:35:58.800Z"
   },
   {
    "duration": 7,
    "start_time": "2022-07-11T10:35:58.807Z"
   },
   {
    "duration": 5,
    "start_time": "2022-07-11T10:35:58.816Z"
   },
   {
    "duration": 4,
    "start_time": "2022-07-11T10:35:58.823Z"
   },
   {
    "duration": 72,
    "start_time": "2022-07-11T10:38:13.836Z"
   },
   {
    "duration": 10,
    "start_time": "2022-07-11T10:38:23.924Z"
   },
   {
    "duration": 407,
    "start_time": "2022-07-11T10:38:29.622Z"
   },
   {
    "duration": 77,
    "start_time": "2022-07-11T10:38:30.031Z"
   },
   {
    "duration": 24,
    "start_time": "2022-07-11T10:38:30.110Z"
   },
   {
    "duration": 16,
    "start_time": "2022-07-11T10:38:30.136Z"
   },
   {
    "duration": 11,
    "start_time": "2022-07-11T10:38:30.154Z"
   },
   {
    "duration": 121,
    "start_time": "2022-07-11T10:38:30.166Z"
   },
   {
    "duration": 3,
    "start_time": "2022-07-11T10:38:30.289Z"
   },
   {
    "duration": 26,
    "start_time": "2022-07-11T10:38:30.298Z"
   },
   {
    "duration": 15,
    "start_time": "2022-07-11T10:38:30.326Z"
   },
   {
    "duration": 43,
    "start_time": "2022-07-11T10:38:30.343Z"
   },
   {
    "duration": 6,
    "start_time": "2022-07-11T10:38:30.388Z"
   },
   {
    "duration": 123,
    "start_time": "2022-07-11T10:38:30.396Z"
   },
   {
    "duration": 2,
    "start_time": "2022-07-11T10:38:30.521Z"
   },
   {
    "duration": 13,
    "start_time": "2022-07-11T10:38:30.524Z"
   },
   {
    "duration": 18,
    "start_time": "2022-07-11T10:38:30.539Z"
   },
   {
    "duration": 9,
    "start_time": "2022-07-11T10:38:30.559Z"
   },
   {
    "duration": 9,
    "start_time": "2022-07-11T10:38:30.570Z"
   },
   {
    "duration": 19,
    "start_time": "2022-07-11T10:38:30.581Z"
   },
   {
    "duration": 8,
    "start_time": "2022-07-11T10:38:30.602Z"
   },
   {
    "duration": 21,
    "start_time": "2022-07-11T10:38:30.612Z"
   },
   {
    "duration": 9,
    "start_time": "2022-07-11T10:38:30.634Z"
   },
   {
    "duration": 18,
    "start_time": "2022-07-11T10:38:30.645Z"
   },
   {
    "duration": 75,
    "start_time": "2022-07-11T10:39:12.391Z"
   },
   {
    "duration": 86,
    "start_time": "2022-07-11T10:43:55.641Z"
   },
   {
    "duration": 412,
    "start_time": "2022-07-11T10:47:45.559Z"
   },
   {
    "duration": 75,
    "start_time": "2022-07-11T10:47:45.974Z"
   },
   {
    "duration": 25,
    "start_time": "2022-07-11T10:47:46.050Z"
   },
   {
    "duration": 25,
    "start_time": "2022-07-11T10:47:46.077Z"
   },
   {
    "duration": 17,
    "start_time": "2022-07-11T10:47:46.104Z"
   },
   {
    "duration": 114,
    "start_time": "2022-07-11T10:47:46.122Z"
   },
   {
    "duration": 4,
    "start_time": "2022-07-11T10:47:46.237Z"
   },
   {
    "duration": 31,
    "start_time": "2022-07-11T10:47:46.243Z"
   },
   {
    "duration": 21,
    "start_time": "2022-07-11T10:47:46.275Z"
   },
   {
    "duration": 37,
    "start_time": "2022-07-11T10:47:46.298Z"
   },
   {
    "duration": 4,
    "start_time": "2022-07-11T10:47:46.337Z"
   },
   {
    "duration": 114,
    "start_time": "2022-07-11T10:47:46.343Z"
   },
   {
    "duration": 3,
    "start_time": "2022-07-11T10:47:46.458Z"
   },
   {
    "duration": 26,
    "start_time": "2022-07-11T10:47:46.463Z"
   },
   {
    "duration": 24,
    "start_time": "2022-07-11T10:47:46.491Z"
   },
   {
    "duration": 24,
    "start_time": "2022-07-11T10:47:46.517Z"
   },
   {
    "duration": 22,
    "start_time": "2022-07-11T10:47:46.543Z"
   },
   {
    "duration": 21,
    "start_time": "2022-07-11T10:47:46.567Z"
   },
   {
    "duration": 23,
    "start_time": "2022-07-11T10:47:46.589Z"
   },
   {
    "duration": 30,
    "start_time": "2022-07-11T10:47:46.614Z"
   },
   {
    "duration": 24,
    "start_time": "2022-07-11T10:47:46.647Z"
   },
   {
    "duration": 30,
    "start_time": "2022-07-11T10:47:46.674Z"
   },
   {
    "duration": 84,
    "start_time": "2022-07-11T10:48:33.920Z"
   },
   {
    "duration": 374,
    "start_time": "2022-07-11T10:48:40.457Z"
   },
   {
    "duration": 71,
    "start_time": "2022-07-11T10:48:40.833Z"
   },
   {
    "duration": 24,
    "start_time": "2022-07-11T10:48:40.906Z"
   },
   {
    "duration": 16,
    "start_time": "2022-07-11T10:48:40.932Z"
   },
   {
    "duration": 12,
    "start_time": "2022-07-11T10:48:40.950Z"
   },
   {
    "duration": 115,
    "start_time": "2022-07-11T10:48:40.964Z"
   },
   {
    "duration": 4,
    "start_time": "2022-07-11T10:48:41.081Z"
   },
   {
    "duration": 17,
    "start_time": "2022-07-11T10:48:41.086Z"
   },
   {
    "duration": 8,
    "start_time": "2022-07-11T10:48:41.104Z"
   },
   {
    "duration": 31,
    "start_time": "2022-07-11T10:48:41.114Z"
   },
   {
    "duration": 5,
    "start_time": "2022-07-11T10:48:41.146Z"
   },
   {
    "duration": 116,
    "start_time": "2022-07-11T10:48:41.153Z"
   },
   {
    "duration": 3,
    "start_time": "2022-07-11T10:48:41.272Z"
   },
   {
    "duration": 12,
    "start_time": "2022-07-11T10:48:41.278Z"
   },
   {
    "duration": 18,
    "start_time": "2022-07-11T10:48:41.292Z"
   },
   {
    "duration": 11,
    "start_time": "2022-07-11T10:48:41.312Z"
   },
   {
    "duration": 10,
    "start_time": "2022-07-11T10:48:41.325Z"
   },
   {
    "duration": 14,
    "start_time": "2022-07-11T10:48:41.337Z"
   },
   {
    "duration": 22,
    "start_time": "2022-07-11T10:48:41.353Z"
   },
   {
    "duration": 12,
    "start_time": "2022-07-11T10:48:41.377Z"
   },
   {
    "duration": 14,
    "start_time": "2022-07-11T10:48:41.391Z"
   },
   {
    "duration": 17,
    "start_time": "2022-07-11T10:48:41.406Z"
   },
   {
    "duration": 107,
    "start_time": "2022-07-11T10:49:25.543Z"
   },
   {
    "duration": 438,
    "start_time": "2022-07-11T10:49:33.971Z"
   },
   {
    "duration": 78,
    "start_time": "2022-07-11T10:49:34.411Z"
   },
   {
    "duration": 23,
    "start_time": "2022-07-11T10:49:34.490Z"
   },
   {
    "duration": 16,
    "start_time": "2022-07-11T10:49:34.515Z"
   },
   {
    "duration": 10,
    "start_time": "2022-07-11T10:49:34.533Z"
   },
   {
    "duration": 118,
    "start_time": "2022-07-11T10:49:34.545Z"
   },
   {
    "duration": 4,
    "start_time": "2022-07-11T10:49:34.665Z"
   },
   {
    "duration": 13,
    "start_time": "2022-07-11T10:49:34.670Z"
   },
   {
    "duration": 15,
    "start_time": "2022-07-11T10:49:34.685Z"
   },
   {
    "duration": 30,
    "start_time": "2022-07-11T10:49:34.703Z"
   },
   {
    "duration": 4,
    "start_time": "2022-07-11T10:49:34.735Z"
   },
   {
    "duration": 126,
    "start_time": "2022-07-11T10:49:34.740Z"
   },
   {
    "duration": 2,
    "start_time": "2022-07-11T10:49:34.868Z"
   },
   {
    "duration": 7,
    "start_time": "2022-07-11T10:49:34.872Z"
   },
   {
    "duration": 4,
    "start_time": "2022-07-11T10:49:34.881Z"
   },
   {
    "duration": 3,
    "start_time": "2022-07-11T10:49:34.898Z"
   },
   {
    "duration": 6,
    "start_time": "2022-07-11T10:49:34.903Z"
   },
   {
    "duration": 6,
    "start_time": "2022-07-11T10:49:34.910Z"
   },
   {
    "duration": 4,
    "start_time": "2022-07-11T10:49:34.918Z"
   },
   {
    "duration": 7,
    "start_time": "2022-07-11T10:49:34.924Z"
   },
   {
    "duration": 9,
    "start_time": "2022-07-11T10:49:34.933Z"
   },
   {
    "duration": 6,
    "start_time": "2022-07-11T10:49:34.943Z"
   },
   {
    "duration": 15,
    "start_time": "2022-07-11T10:58:30.079Z"
   },
   {
    "duration": 6,
    "start_time": "2022-07-11T11:00:03.092Z"
   },
   {
    "duration": 4,
    "start_time": "2022-07-11T11:01:55.034Z"
   },
   {
    "duration": 5,
    "start_time": "2022-07-11T11:02:14.977Z"
   },
   {
    "duration": 387,
    "start_time": "2022-07-11T11:02:23.854Z"
   },
   {
    "duration": 77,
    "start_time": "2022-07-11T11:02:24.243Z"
   },
   {
    "duration": 24,
    "start_time": "2022-07-11T11:02:24.322Z"
   },
   {
    "duration": 16,
    "start_time": "2022-07-11T11:02:24.347Z"
   },
   {
    "duration": 10,
    "start_time": "2022-07-11T11:02:24.364Z"
   },
   {
    "duration": 124,
    "start_time": "2022-07-11T11:02:24.375Z"
   },
   {
    "duration": 3,
    "start_time": "2022-07-11T11:02:24.501Z"
   },
   {
    "duration": 18,
    "start_time": "2022-07-11T11:02:24.506Z"
   },
   {
    "duration": 5,
    "start_time": "2022-07-11T11:02:24.525Z"
   },
   {
    "duration": 30,
    "start_time": "2022-07-11T11:02:24.533Z"
   },
   {
    "duration": 5,
    "start_time": "2022-07-11T11:02:24.565Z"
   },
   {
    "duration": 120,
    "start_time": "2022-07-11T11:02:24.571Z"
   },
   {
    "duration": 10,
    "start_time": "2022-07-11T11:02:24.698Z"
   },
   {
    "duration": 8,
    "start_time": "2022-07-11T11:02:24.710Z"
   },
   {
    "duration": 8,
    "start_time": "2022-07-11T11:02:24.719Z"
   },
   {
    "duration": 5,
    "start_time": "2022-07-11T11:02:24.729Z"
   },
   {
    "duration": 7,
    "start_time": "2022-07-11T11:02:24.736Z"
   },
   {
    "duration": 6,
    "start_time": "2022-07-11T11:02:24.744Z"
   },
   {
    "duration": 7,
    "start_time": "2022-07-11T11:02:24.751Z"
   },
   {
    "duration": 6,
    "start_time": "2022-07-11T11:02:24.760Z"
   },
   {
    "duration": 10,
    "start_time": "2022-07-11T11:02:24.768Z"
   },
   {
    "duration": 29,
    "start_time": "2022-07-11T11:02:24.780Z"
   },
   {
    "duration": 25,
    "start_time": "2022-07-11T11:02:37.369Z"
   },
   {
    "duration": 21,
    "start_time": "2022-07-11T11:03:51.319Z"
   },
   {
    "duration": 26,
    "start_time": "2022-07-11T11:04:47.494Z"
   },
   {
    "duration": 22,
    "start_time": "2022-07-11T11:05:07.075Z"
   },
   {
    "duration": 20,
    "start_time": "2022-07-11T11:05:16.590Z"
   },
   {
    "duration": 21,
    "start_time": "2022-07-11T11:05:25.485Z"
   },
   {
    "duration": 22,
    "start_time": "2022-07-11T11:06:16.136Z"
   },
   {
    "duration": 33,
    "start_time": "2022-07-11T11:06:24.191Z"
   },
   {
    "duration": 21,
    "start_time": "2022-07-11T11:07:33.467Z"
   },
   {
    "duration": 37,
    "start_time": "2022-07-11T11:07:39.350Z"
   },
   {
    "duration": 93,
    "start_time": "2022-07-11T11:08:35.448Z"
   },
   {
    "duration": 37,
    "start_time": "2022-07-11T11:08:55.478Z"
   },
   {
    "duration": 34,
    "start_time": "2022-07-11T11:09:50.011Z"
   },
   {
    "duration": 3,
    "start_time": "2022-07-11T11:09:51.683Z"
   },
   {
    "duration": 32,
    "start_time": "2022-07-11T11:10:18.396Z"
   },
   {
    "duration": 20,
    "start_time": "2022-07-11T11:10:23.428Z"
   },
   {
    "duration": 33,
    "start_time": "2022-07-11T11:10:43.018Z"
   },
   {
    "duration": 438,
    "start_time": "2022-07-11T11:10:48.602Z"
   },
   {
    "duration": 77,
    "start_time": "2022-07-11T11:10:49.042Z"
   },
   {
    "duration": 23,
    "start_time": "2022-07-11T11:10:49.121Z"
   },
   {
    "duration": 15,
    "start_time": "2022-07-11T11:10:49.147Z"
   },
   {
    "duration": 9,
    "start_time": "2022-07-11T11:10:49.164Z"
   },
   {
    "duration": 123,
    "start_time": "2022-07-11T11:10:49.175Z"
   },
   {
    "duration": 5,
    "start_time": "2022-07-11T11:10:49.299Z"
   },
   {
    "duration": 13,
    "start_time": "2022-07-11T11:10:49.306Z"
   },
   {
    "duration": 5,
    "start_time": "2022-07-11T11:10:49.321Z"
   },
   {
    "duration": 25,
    "start_time": "2022-07-11T11:10:49.329Z"
   },
   {
    "duration": 6,
    "start_time": "2022-07-11T11:10:49.355Z"
   },
   {
    "duration": 131,
    "start_time": "2022-07-11T11:10:49.363Z"
   },
   {
    "duration": 15,
    "start_time": "2022-07-11T11:10:49.495Z"
   },
   {
    "duration": 22,
    "start_time": "2022-07-11T11:10:49.512Z"
   },
   {
    "duration": 22,
    "start_time": "2022-07-11T11:10:49.536Z"
   },
   {
    "duration": 78,
    "start_time": "2022-07-11T11:10:49.560Z"
   },
   {
    "duration": 3,
    "start_time": "2022-07-11T11:10:49.640Z"
   },
   {
    "duration": 9,
    "start_time": "2022-07-11T11:10:49.646Z"
   },
   {
    "duration": 8,
    "start_time": "2022-07-11T11:10:49.657Z"
   },
   {
    "duration": 10,
    "start_time": "2022-07-11T11:10:49.666Z"
   },
   {
    "duration": 9,
    "start_time": "2022-07-11T11:10:49.678Z"
   },
   {
    "duration": 6,
    "start_time": "2022-07-11T11:10:49.689Z"
   },
   {
    "duration": 32,
    "start_time": "2022-07-11T11:11:22.857Z"
   },
   {
    "duration": 391,
    "start_time": "2022-07-11T11:11:49.659Z"
   },
   {
    "duration": 75,
    "start_time": "2022-07-11T11:11:50.052Z"
   },
   {
    "duration": 23,
    "start_time": "2022-07-11T11:11:50.129Z"
   },
   {
    "duration": 16,
    "start_time": "2022-07-11T11:11:50.154Z"
   },
   {
    "duration": 10,
    "start_time": "2022-07-11T11:11:50.171Z"
   },
   {
    "duration": 101,
    "start_time": "2022-07-11T11:11:50.198Z"
   },
   {
    "duration": 3,
    "start_time": "2022-07-11T11:11:50.301Z"
   },
   {
    "duration": 15,
    "start_time": "2022-07-11T11:11:50.306Z"
   },
   {
    "duration": 4,
    "start_time": "2022-07-11T11:11:50.323Z"
   },
   {
    "duration": 24,
    "start_time": "2022-07-11T11:11:50.331Z"
   },
   {
    "duration": 5,
    "start_time": "2022-07-11T11:11:50.357Z"
   },
   {
    "duration": 139,
    "start_time": "2022-07-11T11:11:50.364Z"
   },
   {
    "duration": 10,
    "start_time": "2022-07-11T11:11:50.505Z"
   },
   {
    "duration": 23,
    "start_time": "2022-07-11T11:11:50.517Z"
   },
   {
    "duration": 23,
    "start_time": "2022-07-11T11:11:50.542Z"
   },
   {
    "duration": 46,
    "start_time": "2022-07-11T11:11:50.566Z"
   },
   {
    "duration": 2,
    "start_time": "2022-07-11T11:11:50.614Z"
   },
   {
    "duration": 9,
    "start_time": "2022-07-11T11:11:50.618Z"
   },
   {
    "duration": 7,
    "start_time": "2022-07-11T11:11:50.629Z"
   },
   {
    "duration": 11,
    "start_time": "2022-07-11T11:11:50.638Z"
   },
   {
    "duration": 15,
    "start_time": "2022-07-11T11:11:50.651Z"
   },
   {
    "duration": 11,
    "start_time": "2022-07-11T11:11:50.667Z"
   },
   {
    "duration": 20,
    "start_time": "2022-07-11T11:12:29.510Z"
   },
   {
    "duration": 421,
    "start_time": "2022-07-11T11:12:38.632Z"
   },
   {
    "duration": 75,
    "start_time": "2022-07-11T11:12:39.055Z"
   },
   {
    "duration": 24,
    "start_time": "2022-07-11T11:12:39.132Z"
   },
   {
    "duration": 18,
    "start_time": "2022-07-11T11:12:39.158Z"
   },
   {
    "duration": 21,
    "start_time": "2022-07-11T11:12:39.178Z"
   },
   {
    "duration": 106,
    "start_time": "2022-07-11T11:12:39.200Z"
   },
   {
    "duration": 4,
    "start_time": "2022-07-11T11:12:39.307Z"
   },
   {
    "duration": 10,
    "start_time": "2022-07-11T11:12:39.312Z"
   },
   {
    "duration": 4,
    "start_time": "2022-07-11T11:12:39.324Z"
   },
   {
    "duration": 23,
    "start_time": "2022-07-11T11:12:39.331Z"
   },
   {
    "duration": 4,
    "start_time": "2022-07-11T11:12:39.356Z"
   },
   {
    "duration": 141,
    "start_time": "2022-07-11T11:12:39.362Z"
   },
   {
    "duration": 10,
    "start_time": "2022-07-11T11:12:39.505Z"
   },
   {
    "duration": 22,
    "start_time": "2022-07-11T11:12:39.517Z"
   },
   {
    "duration": 22,
    "start_time": "2022-07-11T11:12:39.541Z"
   },
   {
    "duration": 55,
    "start_time": "2022-07-11T11:12:39.564Z"
   },
   {
    "duration": 2,
    "start_time": "2022-07-11T11:12:39.622Z"
   },
   {
    "duration": 7,
    "start_time": "2022-07-11T11:12:39.626Z"
   },
   {
    "duration": 5,
    "start_time": "2022-07-11T11:12:39.635Z"
   },
   {
    "duration": 5,
    "start_time": "2022-07-11T11:12:39.641Z"
   },
   {
    "duration": 5,
    "start_time": "2022-07-11T11:12:39.648Z"
   },
   {
    "duration": 6,
    "start_time": "2022-07-11T11:12:39.654Z"
   },
   {
    "duration": 22,
    "start_time": "2022-07-11T11:13:27.052Z"
   },
   {
    "duration": 8,
    "start_time": "2022-07-11T11:34:12.208Z"
   },
   {
    "duration": 74,
    "start_time": "2022-07-11T11:46:17.141Z"
   },
   {
    "duration": 18,
    "start_time": "2022-07-11T11:46:39.248Z"
   },
   {
    "duration": 15,
    "start_time": "2022-07-11T11:51:36.349Z"
   },
   {
    "duration": 14,
    "start_time": "2022-07-11T11:51:43.085Z"
   },
   {
    "duration": 8,
    "start_time": "2022-07-11T12:59:59.562Z"
   },
   {
    "duration": 9,
    "start_time": "2022-07-11T13:00:56.949Z"
   },
   {
    "duration": 382,
    "start_time": "2022-07-11T13:01:28.041Z"
   },
   {
    "duration": 88,
    "start_time": "2022-07-11T13:01:28.425Z"
   },
   {
    "duration": 23,
    "start_time": "2022-07-11T13:01:28.515Z"
   },
   {
    "duration": 16,
    "start_time": "2022-07-11T13:01:28.540Z"
   },
   {
    "duration": 10,
    "start_time": "2022-07-11T13:01:28.559Z"
   },
   {
    "duration": 123,
    "start_time": "2022-07-11T13:01:28.571Z"
   },
   {
    "duration": 4,
    "start_time": "2022-07-11T13:01:28.695Z"
   },
   {
    "duration": 25,
    "start_time": "2022-07-11T13:01:28.701Z"
   },
   {
    "duration": 7,
    "start_time": "2022-07-11T13:01:28.728Z"
   },
   {
    "duration": 23,
    "start_time": "2022-07-11T13:01:28.737Z"
   },
   {
    "duration": 6,
    "start_time": "2022-07-11T13:01:28.762Z"
   },
   {
    "duration": 149,
    "start_time": "2022-07-11T13:01:28.769Z"
   },
   {
    "duration": 10,
    "start_time": "2022-07-11T13:01:28.921Z"
   },
   {
    "duration": 20,
    "start_time": "2022-07-11T13:01:28.934Z"
   },
   {
    "duration": 22,
    "start_time": "2022-07-11T13:01:28.956Z"
   },
   {
    "duration": 25,
    "start_time": "2022-07-11T13:01:28.998Z"
   },
   {
    "duration": 12,
    "start_time": "2022-07-11T13:01:29.025Z"
   },
   {
    "duration": 92,
    "start_time": "2022-07-11T13:01:29.039Z"
   },
   {
    "duration": 0,
    "start_time": "2022-07-11T13:01:29.133Z"
   },
   {
    "duration": 0,
    "start_time": "2022-07-11T13:01:29.134Z"
   },
   {
    "duration": 0,
    "start_time": "2022-07-11T13:01:29.136Z"
   },
   {
    "duration": 0,
    "start_time": "2022-07-11T13:01:29.137Z"
   },
   {
    "duration": 72,
    "start_time": "2022-07-11T13:02:55.915Z"
   },
   {
    "duration": 421,
    "start_time": "2022-07-11T13:03:07.209Z"
   },
   {
    "duration": 75,
    "start_time": "2022-07-11T13:03:07.632Z"
   },
   {
    "duration": 25,
    "start_time": "2022-07-11T13:03:07.710Z"
   },
   {
    "duration": 16,
    "start_time": "2022-07-11T13:03:07.737Z"
   },
   {
    "duration": 10,
    "start_time": "2022-07-11T13:03:07.755Z"
   },
   {
    "duration": 128,
    "start_time": "2022-07-11T13:03:07.766Z"
   },
   {
    "duration": 9,
    "start_time": "2022-07-11T13:03:07.896Z"
   },
   {
    "duration": 27,
    "start_time": "2022-07-11T13:03:07.907Z"
   },
   {
    "duration": 5,
    "start_time": "2022-07-11T13:03:07.936Z"
   },
   {
    "duration": 30,
    "start_time": "2022-07-11T13:03:07.943Z"
   },
   {
    "duration": 5,
    "start_time": "2022-07-11T13:03:07.976Z"
   },
   {
    "duration": 134,
    "start_time": "2022-07-11T13:03:07.983Z"
   },
   {
    "duration": 10,
    "start_time": "2022-07-11T13:03:08.119Z"
   },
   {
    "duration": 24,
    "start_time": "2022-07-11T13:03:08.132Z"
   },
   {
    "duration": 41,
    "start_time": "2022-07-11T13:03:08.158Z"
   },
   {
    "duration": 25,
    "start_time": "2022-07-11T13:03:08.202Z"
   },
   {
    "duration": 13,
    "start_time": "2022-07-11T13:03:08.229Z"
   },
   {
    "duration": 90,
    "start_time": "2022-07-11T13:03:08.244Z"
   },
   {
    "duration": 0,
    "start_time": "2022-07-11T13:03:08.336Z"
   },
   {
    "duration": 0,
    "start_time": "2022-07-11T13:03:08.337Z"
   },
   {
    "duration": 0,
    "start_time": "2022-07-11T13:03:08.339Z"
   },
   {
    "duration": 1,
    "start_time": "2022-07-11T13:03:08.340Z"
   },
   {
    "duration": 77,
    "start_time": "2022-07-11T13:05:34.271Z"
   },
   {
    "duration": 435,
    "start_time": "2022-07-11T13:13:40.383Z"
   },
   {
    "duration": 77,
    "start_time": "2022-07-11T13:13:40.820Z"
   },
   {
    "duration": 23,
    "start_time": "2022-07-11T13:13:40.898Z"
   },
   {
    "duration": 15,
    "start_time": "2022-07-11T13:13:40.923Z"
   },
   {
    "duration": 10,
    "start_time": "2022-07-11T13:13:40.940Z"
   },
   {
    "duration": 122,
    "start_time": "2022-07-11T13:13:40.952Z"
   },
   {
    "duration": 4,
    "start_time": "2022-07-11T13:13:41.076Z"
   },
   {
    "duration": 24,
    "start_time": "2022-07-11T13:13:41.082Z"
   },
   {
    "duration": 5,
    "start_time": "2022-07-11T13:13:41.109Z"
   },
   {
    "duration": 25,
    "start_time": "2022-07-11T13:13:41.117Z"
   },
   {
    "duration": 4,
    "start_time": "2022-07-11T13:13:41.144Z"
   },
   {
    "duration": 125,
    "start_time": "2022-07-11T13:13:41.150Z"
   },
   {
    "duration": 10,
    "start_time": "2022-07-11T13:13:41.277Z"
   },
   {
    "duration": 31,
    "start_time": "2022-07-11T13:13:41.288Z"
   },
   {
    "duration": 22,
    "start_time": "2022-07-11T13:13:41.320Z"
   },
   {
    "duration": 19,
    "start_time": "2022-07-11T13:13:41.344Z"
   },
   {
    "duration": 34,
    "start_time": "2022-07-11T13:13:41.365Z"
   },
   {
    "duration": 77,
    "start_time": "2022-07-11T13:13:41.401Z"
   },
   {
    "duration": 0,
    "start_time": "2022-07-11T13:13:41.479Z"
   },
   {
    "duration": 0,
    "start_time": "2022-07-11T13:13:41.481Z"
   },
   {
    "duration": 0,
    "start_time": "2022-07-11T13:13:41.482Z"
   },
   {
    "duration": 0,
    "start_time": "2022-07-11T13:13:41.484Z"
   },
   {
    "duration": 70,
    "start_time": "2022-07-11T13:14:59.921Z"
   },
   {
    "duration": 396,
    "start_time": "2022-07-11T13:15:13.657Z"
   },
   {
    "duration": 86,
    "start_time": "2022-07-11T13:15:14.055Z"
   },
   {
    "duration": 25,
    "start_time": "2022-07-11T13:15:14.143Z"
   },
   {
    "duration": 30,
    "start_time": "2022-07-11T13:15:14.170Z"
   },
   {
    "duration": 14,
    "start_time": "2022-07-11T13:15:14.202Z"
   },
   {
    "duration": 129,
    "start_time": "2022-07-11T13:15:14.218Z"
   },
   {
    "duration": 4,
    "start_time": "2022-07-11T13:15:14.349Z"
   },
   {
    "duration": 11,
    "start_time": "2022-07-11T13:15:14.356Z"
   },
   {
    "duration": 5,
    "start_time": "2022-07-11T13:15:14.369Z"
   },
   {
    "duration": 57,
    "start_time": "2022-07-11T13:15:14.376Z"
   },
   {
    "duration": 5,
    "start_time": "2022-07-11T13:15:14.434Z"
   },
   {
    "duration": 122,
    "start_time": "2022-07-11T13:15:14.441Z"
   },
   {
    "duration": 12,
    "start_time": "2022-07-11T13:15:14.566Z"
   },
   {
    "duration": 42,
    "start_time": "2022-07-11T13:15:14.580Z"
   },
   {
    "duration": 22,
    "start_time": "2022-07-11T13:15:14.624Z"
   },
   {
    "duration": 21,
    "start_time": "2022-07-11T13:15:14.648Z"
   },
   {
    "duration": 43,
    "start_time": "2022-07-11T13:15:14.671Z"
   },
   {
    "duration": 83,
    "start_time": "2022-07-11T13:15:14.716Z"
   },
   {
    "duration": 0,
    "start_time": "2022-07-11T13:15:14.803Z"
   },
   {
    "duration": 0,
    "start_time": "2022-07-11T13:15:14.805Z"
   },
   {
    "duration": 0,
    "start_time": "2022-07-11T13:15:14.806Z"
   },
   {
    "duration": 0,
    "start_time": "2022-07-11T13:15:14.808Z"
   },
   {
    "duration": 28,
    "start_time": "2022-07-11T13:16:14.248Z"
   },
   {
    "duration": 429,
    "start_time": "2022-07-11T13:16:26.921Z"
   },
   {
    "duration": 80,
    "start_time": "2022-07-11T13:16:27.352Z"
   },
   {
    "duration": 25,
    "start_time": "2022-07-11T13:16:27.434Z"
   },
   {
    "duration": 17,
    "start_time": "2022-07-11T13:16:27.461Z"
   },
   {
    "duration": 24,
    "start_time": "2022-07-11T13:16:27.479Z"
   },
   {
    "duration": 111,
    "start_time": "2022-07-11T13:16:27.505Z"
   },
   {
    "duration": 3,
    "start_time": "2022-07-11T13:16:27.618Z"
   },
   {
    "duration": 16,
    "start_time": "2022-07-11T13:16:27.623Z"
   },
   {
    "duration": 8,
    "start_time": "2022-07-11T13:16:27.641Z"
   },
   {
    "duration": 48,
    "start_time": "2022-07-11T13:16:27.652Z"
   },
   {
    "duration": 7,
    "start_time": "2022-07-11T13:16:27.701Z"
   },
   {
    "duration": 120,
    "start_time": "2022-07-11T13:16:27.710Z"
   },
   {
    "duration": 11,
    "start_time": "2022-07-11T13:16:27.832Z"
   },
   {
    "duration": 26,
    "start_time": "2022-07-11T13:16:27.844Z"
   },
   {
    "duration": 46,
    "start_time": "2022-07-11T13:16:27.871Z"
   },
   {
    "duration": 22,
    "start_time": "2022-07-11T13:16:27.919Z"
   },
   {
    "duration": 13,
    "start_time": "2022-07-11T13:16:27.943Z"
   },
   {
    "duration": 97,
    "start_time": "2022-07-11T13:16:27.958Z"
   },
   {
    "duration": 0,
    "start_time": "2022-07-11T13:16:28.056Z"
   },
   {
    "duration": 0,
    "start_time": "2022-07-11T13:16:28.058Z"
   },
   {
    "duration": 0,
    "start_time": "2022-07-11T13:16:28.059Z"
   },
   {
    "duration": 0,
    "start_time": "2022-07-11T13:16:28.060Z"
   },
   {
    "duration": 19,
    "start_time": "2022-07-11T13:16:51.332Z"
   },
   {
    "duration": 15,
    "start_time": "2022-07-11T13:18:49.796Z"
   },
   {
    "duration": 15,
    "start_time": "2022-07-11T13:20:42.322Z"
   },
   {
    "duration": 3,
    "start_time": "2022-07-11T13:23:50.693Z"
   },
   {
    "duration": 183,
    "start_time": "2022-07-11T13:23:52.445Z"
   },
   {
    "duration": 33,
    "start_time": "2022-07-11T13:24:29.518Z"
   },
   {
    "duration": 18,
    "start_time": "2022-07-11T13:24:53.860Z"
   },
   {
    "duration": 406,
    "start_time": "2022-07-11T13:24:59.361Z"
   },
   {
    "duration": 82,
    "start_time": "2022-07-11T13:24:59.769Z"
   },
   {
    "duration": 24,
    "start_time": "2022-07-11T13:24:59.853Z"
   },
   {
    "duration": 30,
    "start_time": "2022-07-11T13:24:59.879Z"
   },
   {
    "duration": 12,
    "start_time": "2022-07-11T13:24:59.912Z"
   },
   {
    "duration": 121,
    "start_time": "2022-07-11T13:24:59.926Z"
   },
   {
    "duration": 4,
    "start_time": "2022-07-11T13:25:00.049Z"
   },
   {
    "duration": 11,
    "start_time": "2022-07-11T13:25:00.055Z"
   },
   {
    "duration": 5,
    "start_time": "2022-07-11T13:25:00.068Z"
   },
   {
    "duration": 44,
    "start_time": "2022-07-11T13:25:00.074Z"
   },
   {
    "duration": 4,
    "start_time": "2022-07-11T13:25:00.120Z"
   },
   {
    "duration": 129,
    "start_time": "2022-07-11T13:25:00.126Z"
   },
   {
    "duration": 9,
    "start_time": "2022-07-11T13:25:00.257Z"
   },
   {
    "duration": 47,
    "start_time": "2022-07-11T13:25:00.268Z"
   },
   {
    "duration": 22,
    "start_time": "2022-07-11T13:25:00.317Z"
   },
   {
    "duration": 36,
    "start_time": "2022-07-11T13:25:00.341Z"
   },
   {
    "duration": 34,
    "start_time": "2022-07-11T13:25:00.378Z"
   },
   {
    "duration": 14,
    "start_time": "2022-07-11T13:25:00.414Z"
   },
   {
    "duration": 213,
    "start_time": "2022-07-11T13:25:00.430Z"
   },
   {
    "duration": 3,
    "start_time": "2022-07-11T13:25:00.645Z"
   },
   {
    "duration": 24,
    "start_time": "2022-07-11T13:25:00.649Z"
   },
   {
    "duration": 11,
    "start_time": "2022-07-11T13:25:00.675Z"
   },
   {
    "duration": 83,
    "start_time": "2022-07-11T13:26:59.352Z"
   },
   {
    "duration": 441,
    "start_time": "2022-07-11T13:27:05.869Z"
   },
   {
    "duration": 77,
    "start_time": "2022-07-11T13:27:06.312Z"
   },
   {
    "duration": 29,
    "start_time": "2022-07-11T13:27:06.391Z"
   },
   {
    "duration": 17,
    "start_time": "2022-07-11T13:27:06.422Z"
   },
   {
    "duration": 11,
    "start_time": "2022-07-11T13:27:06.440Z"
   },
   {
    "duration": 123,
    "start_time": "2022-07-11T13:27:06.453Z"
   },
   {
    "duration": 4,
    "start_time": "2022-07-11T13:27:06.578Z"
   },
   {
    "duration": 26,
    "start_time": "2022-07-11T13:27:06.583Z"
   },
   {
    "duration": 12,
    "start_time": "2022-07-11T13:27:06.611Z"
   },
   {
    "duration": 27,
    "start_time": "2022-07-11T13:27:06.626Z"
   },
   {
    "duration": 5,
    "start_time": "2022-07-11T13:27:06.654Z"
   },
   {
    "duration": 160,
    "start_time": "2022-07-11T13:27:06.661Z"
   },
   {
    "duration": 15,
    "start_time": "2022-07-11T13:27:06.823Z"
   },
   {
    "duration": 36,
    "start_time": "2022-07-11T13:27:06.840Z"
   },
   {
    "duration": 44,
    "start_time": "2022-07-11T13:27:06.879Z"
   },
   {
    "duration": 25,
    "start_time": "2022-07-11T13:27:06.926Z"
   },
   {
    "duration": 15,
    "start_time": "2022-07-11T13:27:06.954Z"
   },
   {
    "duration": 8,
    "start_time": "2022-07-11T13:27:06.971Z"
   },
   {
    "duration": 216,
    "start_time": "2022-07-11T13:27:06.982Z"
   },
   {
    "duration": 9,
    "start_time": "2022-07-11T13:27:07.200Z"
   },
   {
    "duration": 17,
    "start_time": "2022-07-11T13:27:07.211Z"
   },
   {
    "duration": 8,
    "start_time": "2022-07-11T13:27:07.229Z"
   },
   {
    "duration": 7,
    "start_time": "2022-07-11T13:29:06.265Z"
   },
   {
    "duration": 84,
    "start_time": "2022-07-11T14:06:46.700Z"
   },
   {
    "duration": 4,
    "start_time": "2022-07-11T14:08:49.926Z"
   },
   {
    "duration": 451,
    "start_time": "2022-07-11T14:08:54.815Z"
   },
   {
    "duration": 88,
    "start_time": "2022-07-11T14:08:55.268Z"
   },
   {
    "duration": 26,
    "start_time": "2022-07-11T14:08:55.358Z"
   },
   {
    "duration": 29,
    "start_time": "2022-07-11T14:08:55.386Z"
   },
   {
    "duration": 12,
    "start_time": "2022-07-11T14:08:55.419Z"
   },
   {
    "duration": 137,
    "start_time": "2022-07-11T14:08:55.433Z"
   },
   {
    "duration": 4,
    "start_time": "2022-07-11T14:08:55.572Z"
   },
   {
    "duration": 22,
    "start_time": "2022-07-11T14:08:55.578Z"
   },
   {
    "duration": 8,
    "start_time": "2022-07-11T14:08:55.602Z"
   },
   {
    "duration": 36,
    "start_time": "2022-07-11T14:08:55.612Z"
   },
   {
    "duration": 5,
    "start_time": "2022-07-11T14:08:55.649Z"
   },
   {
    "duration": 147,
    "start_time": "2022-07-11T14:08:55.655Z"
   },
   {
    "duration": 19,
    "start_time": "2022-07-11T14:08:55.805Z"
   },
   {
    "duration": 23,
    "start_time": "2022-07-11T14:08:55.827Z"
   },
   {
    "duration": 59,
    "start_time": "2022-07-11T14:08:55.851Z"
   },
   {
    "duration": 23,
    "start_time": "2022-07-11T14:08:55.912Z"
   },
   {
    "duration": 13,
    "start_time": "2022-07-11T14:08:55.937Z"
   },
   {
    "duration": 9,
    "start_time": "2022-07-11T14:08:55.951Z"
   },
   {
    "duration": 205,
    "start_time": "2022-07-11T14:08:55.961Z"
   },
   {
    "duration": 6,
    "start_time": "2022-07-11T14:08:56.168Z"
   },
   {
    "duration": 8,
    "start_time": "2022-07-11T14:08:56.176Z"
   },
   {
    "duration": 88,
    "start_time": "2022-07-11T14:08:56.201Z"
   },
   {
    "duration": 471,
    "start_time": "2022-07-11T14:09:19.408Z"
   },
   {
    "duration": 85,
    "start_time": "2022-07-11T14:09:19.881Z"
   },
   {
    "duration": 24,
    "start_time": "2022-07-11T14:09:19.968Z"
   },
   {
    "duration": 31,
    "start_time": "2022-07-11T14:09:19.994Z"
   },
   {
    "duration": 10,
    "start_time": "2022-07-11T14:09:20.027Z"
   },
   {
    "duration": 134,
    "start_time": "2022-07-11T14:09:20.039Z"
   },
   {
    "duration": 3,
    "start_time": "2022-07-11T14:09:20.175Z"
   },
   {
    "duration": 36,
    "start_time": "2022-07-11T14:09:20.180Z"
   },
   {
    "duration": 9,
    "start_time": "2022-07-11T14:09:20.219Z"
   },
   {
    "duration": 45,
    "start_time": "2022-07-11T14:09:20.229Z"
   },
   {
    "duration": 4,
    "start_time": "2022-07-11T14:09:20.276Z"
   },
   {
    "duration": 108,
    "start_time": "2022-07-11T14:09:20.282Z"
   },
   {
    "duration": 23,
    "start_time": "2022-07-11T14:09:20.392Z"
   },
   {
    "duration": 23,
    "start_time": "2022-07-11T14:09:20.420Z"
   },
   {
    "duration": 19,
    "start_time": "2022-07-11T14:09:20.445Z"
   },
   {
    "duration": 64,
    "start_time": "2022-07-11T14:09:20.466Z"
   },
   {
    "duration": 11,
    "start_time": "2022-07-11T14:09:20.532Z"
   },
   {
    "duration": 10,
    "start_time": "2022-07-11T14:09:20.544Z"
   },
   {
    "duration": 210,
    "start_time": "2022-07-11T14:09:20.556Z"
   },
   {
    "duration": 5,
    "start_time": "2022-07-11T14:09:20.768Z"
   },
   {
    "duration": 7,
    "start_time": "2022-07-11T14:09:20.775Z"
   },
   {
    "duration": 186,
    "start_time": "2022-07-11T14:09:20.784Z"
   },
   {
    "duration": 439,
    "start_time": "2022-07-11T14:09:48.914Z"
   },
   {
    "duration": 92,
    "start_time": "2022-07-11T14:09:49.355Z"
   },
   {
    "duration": 27,
    "start_time": "2022-07-11T14:09:49.449Z"
   },
   {
    "duration": 33,
    "start_time": "2022-07-11T14:09:49.478Z"
   },
   {
    "duration": 12,
    "start_time": "2022-07-11T14:09:49.515Z"
   },
   {
    "duration": 128,
    "start_time": "2022-07-11T14:09:49.529Z"
   },
   {
    "duration": 3,
    "start_time": "2022-07-11T14:09:49.658Z"
   },
   {
    "duration": 10,
    "start_time": "2022-07-11T14:09:49.663Z"
   },
   {
    "duration": 5,
    "start_time": "2022-07-11T14:09:49.675Z"
   },
   {
    "duration": 34,
    "start_time": "2022-07-11T14:09:49.702Z"
   },
   {
    "duration": 4,
    "start_time": "2022-07-11T14:09:49.738Z"
   },
   {
    "duration": 135,
    "start_time": "2022-07-11T14:09:49.743Z"
   },
   {
    "duration": 10,
    "start_time": "2022-07-11T14:09:49.880Z"
   },
   {
    "duration": 30,
    "start_time": "2022-07-11T14:09:49.902Z"
   },
   {
    "duration": 18,
    "start_time": "2022-07-11T14:09:49.934Z"
   },
   {
    "duration": 46,
    "start_time": "2022-07-11T14:09:49.955Z"
   },
   {
    "duration": 13,
    "start_time": "2022-07-11T14:09:50.003Z"
   },
   {
    "duration": 11,
    "start_time": "2022-07-11T14:09:50.017Z"
   },
   {
    "duration": 197,
    "start_time": "2022-07-11T14:09:50.030Z"
   },
   {
    "duration": 7,
    "start_time": "2022-07-11T14:09:50.230Z"
   },
   {
    "duration": 6,
    "start_time": "2022-07-11T14:09:50.239Z"
   },
   {
    "duration": 173,
    "start_time": "2022-07-11T14:09:50.247Z"
   },
   {
    "duration": 23,
    "start_time": "2022-07-11T14:09:50.421Z"
   },
   {
    "duration": 3,
    "start_time": "2022-07-11T14:12:15.371Z"
   },
   {
    "duration": 474,
    "start_time": "2022-07-11T14:12:23.177Z"
   },
   {
    "duration": 91,
    "start_time": "2022-07-11T14:12:23.653Z"
   },
   {
    "duration": 25,
    "start_time": "2022-07-11T14:12:23.746Z"
   },
   {
    "duration": 30,
    "start_time": "2022-07-11T14:12:23.773Z"
   },
   {
    "duration": 14,
    "start_time": "2022-07-11T14:12:23.807Z"
   },
   {
    "duration": 111,
    "start_time": "2022-07-11T14:12:23.823Z"
   },
   {
    "duration": 4,
    "start_time": "2022-07-11T14:12:23.935Z"
   },
   {
    "duration": 19,
    "start_time": "2022-07-11T14:12:23.941Z"
   },
   {
    "duration": 8,
    "start_time": "2022-07-11T14:12:23.962Z"
   },
   {
    "duration": 52,
    "start_time": "2022-07-11T14:12:23.973Z"
   },
   {
    "duration": 5,
    "start_time": "2022-07-11T14:12:24.027Z"
   },
   {
    "duration": 133,
    "start_time": "2022-07-11T14:12:24.034Z"
   },
   {
    "duration": 12,
    "start_time": "2022-07-11T14:12:24.169Z"
   },
   {
    "duration": 36,
    "start_time": "2022-07-11T14:12:24.197Z"
   },
   {
    "duration": 18,
    "start_time": "2022-07-11T14:12:24.235Z"
   },
   {
    "duration": 43,
    "start_time": "2022-07-11T14:12:24.255Z"
   },
   {
    "duration": 23,
    "start_time": "2022-07-11T14:12:24.302Z"
   },
   {
    "duration": 4,
    "start_time": "2022-07-11T14:12:24.327Z"
   },
   {
    "duration": 205,
    "start_time": "2022-07-11T14:12:24.333Z"
   },
   {
    "duration": 6,
    "start_time": "2022-07-11T14:12:24.540Z"
   },
   {
    "duration": 9,
    "start_time": "2022-07-11T14:12:24.548Z"
   },
   {
    "duration": 176,
    "start_time": "2022-07-11T14:12:24.558Z"
   },
   {
    "duration": 23,
    "start_time": "2022-07-11T14:12:24.736Z"
   },
   {
    "duration": 459,
    "start_time": "2022-07-11T14:15:15.589Z"
   },
   {
    "duration": 81,
    "start_time": "2022-07-11T14:15:16.050Z"
   },
   {
    "duration": 26,
    "start_time": "2022-07-11T14:15:16.133Z"
   },
   {
    "duration": 16,
    "start_time": "2022-07-11T14:15:16.162Z"
   },
   {
    "duration": 34,
    "start_time": "2022-07-11T14:15:16.180Z"
   },
   {
    "duration": 125,
    "start_time": "2022-07-11T14:15:16.217Z"
   },
   {
    "duration": 4,
    "start_time": "2022-07-11T14:15:16.344Z"
   },
   {
    "duration": 21,
    "start_time": "2022-07-11T14:15:16.349Z"
   },
   {
    "duration": 4,
    "start_time": "2022-07-11T14:15:16.372Z"
   },
   {
    "duration": 38,
    "start_time": "2022-07-11T14:15:16.379Z"
   },
   {
    "duration": 7,
    "start_time": "2022-07-11T14:15:16.419Z"
   },
   {
    "duration": 115,
    "start_time": "2022-07-11T14:15:16.428Z"
   },
   {
    "duration": 11,
    "start_time": "2022-07-11T14:15:16.544Z"
   },
   {
    "duration": 21,
    "start_time": "2022-07-11T14:15:16.556Z"
   },
   {
    "duration": 20,
    "start_time": "2022-07-11T14:15:16.599Z"
   },
   {
    "duration": 33,
    "start_time": "2022-07-11T14:15:16.621Z"
   },
   {
    "duration": 16,
    "start_time": "2022-07-11T14:15:16.658Z"
   },
   {
    "duration": 30,
    "start_time": "2022-07-11T14:15:16.676Z"
   },
   {
    "duration": 225,
    "start_time": "2022-07-11T14:15:16.709Z"
   },
   {
    "duration": 8,
    "start_time": "2022-07-11T14:15:16.936Z"
   },
   {
    "duration": 9,
    "start_time": "2022-07-11T14:15:16.946Z"
   },
   {
    "duration": 187,
    "start_time": "2022-07-11T14:15:16.956Z"
   },
   {
    "duration": 22,
    "start_time": "2022-07-11T14:15:17.145Z"
   },
   {
    "duration": 421,
    "start_time": "2022-07-11T14:16:14.441Z"
   },
   {
    "duration": 85,
    "start_time": "2022-07-11T14:16:14.864Z"
   },
   {
    "duration": 25,
    "start_time": "2022-07-11T14:16:14.950Z"
   },
   {
    "duration": 31,
    "start_time": "2022-07-11T14:16:14.978Z"
   },
   {
    "duration": 13,
    "start_time": "2022-07-11T14:16:15.011Z"
   },
   {
    "duration": 122,
    "start_time": "2022-07-11T14:16:15.026Z"
   },
   {
    "duration": 3,
    "start_time": "2022-07-11T14:16:15.150Z"
   },
   {
    "duration": 13,
    "start_time": "2022-07-11T14:16:15.155Z"
   },
   {
    "duration": 10,
    "start_time": "2022-07-11T14:16:15.170Z"
   },
   {
    "duration": 40,
    "start_time": "2022-07-11T14:16:15.183Z"
   },
   {
    "duration": 5,
    "start_time": "2022-07-11T14:16:15.225Z"
   },
   {
    "duration": 119,
    "start_time": "2022-07-11T14:16:15.232Z"
   },
   {
    "duration": 10,
    "start_time": "2022-07-11T14:16:15.353Z"
   },
   {
    "duration": 39,
    "start_time": "2022-07-11T14:16:15.364Z"
   },
   {
    "duration": 20,
    "start_time": "2022-07-11T14:16:15.406Z"
   },
   {
    "duration": 21,
    "start_time": "2022-07-11T14:16:15.427Z"
   },
   {
    "duration": 12,
    "start_time": "2022-07-11T14:16:15.450Z"
   },
   {
    "duration": 35,
    "start_time": "2022-07-11T14:16:15.464Z"
   },
   {
    "duration": 194,
    "start_time": "2022-07-11T14:16:15.501Z"
   },
   {
    "duration": 8,
    "start_time": "2022-07-11T14:16:15.698Z"
   },
   {
    "duration": 14,
    "start_time": "2022-07-11T14:16:15.708Z"
   },
   {
    "duration": 157,
    "start_time": "2022-07-11T14:16:15.724Z"
   },
   {
    "duration": 28,
    "start_time": "2022-07-11T14:16:15.883Z"
   },
   {
    "duration": 483,
    "start_time": "2022-07-11T14:18:53.683Z"
   },
   {
    "duration": 90,
    "start_time": "2022-07-11T14:18:54.169Z"
   },
   {
    "duration": 24,
    "start_time": "2022-07-11T14:18:54.261Z"
   },
   {
    "duration": 38,
    "start_time": "2022-07-11T14:18:54.287Z"
   },
   {
    "duration": 10,
    "start_time": "2022-07-11T14:18:54.327Z"
   },
   {
    "duration": 145,
    "start_time": "2022-07-11T14:18:54.338Z"
   },
   {
    "duration": 5,
    "start_time": "2022-07-11T14:18:54.485Z"
   },
   {
    "duration": 24,
    "start_time": "2022-07-11T14:18:54.492Z"
   },
   {
    "duration": 8,
    "start_time": "2022-07-11T14:18:54.519Z"
   },
   {
    "duration": 30,
    "start_time": "2022-07-11T14:18:54.530Z"
   },
   {
    "duration": 5,
    "start_time": "2022-07-11T14:18:54.561Z"
   },
   {
    "duration": 149,
    "start_time": "2022-07-11T14:18:54.567Z"
   },
   {
    "duration": 11,
    "start_time": "2022-07-11T14:18:54.719Z"
   },
   {
    "duration": 23,
    "start_time": "2022-07-11T14:18:54.731Z"
   },
   {
    "duration": 54,
    "start_time": "2022-07-11T14:18:54.756Z"
   },
   {
    "duration": 27,
    "start_time": "2022-07-11T14:18:54.814Z"
   },
   {
    "duration": 13,
    "start_time": "2022-07-11T14:18:54.843Z"
   },
   {
    "duration": 9,
    "start_time": "2022-07-11T14:18:54.857Z"
   },
   {
    "duration": 211,
    "start_time": "2022-07-11T14:18:54.868Z"
   },
   {
    "duration": 7,
    "start_time": "2022-07-11T14:18:55.080Z"
   },
   {
    "duration": 3,
    "start_time": "2022-07-11T14:18:55.099Z"
   },
   {
    "duration": 178,
    "start_time": "2022-07-11T14:18:55.104Z"
   },
   {
    "duration": 40,
    "start_time": "2022-07-11T14:18:55.284Z"
   },
   {
    "duration": 8,
    "start_time": "2022-08-04T13:40:07.543Z"
   },
   {
    "duration": 43,
    "start_time": "2022-08-04T13:40:09.752Z"
   },
   {
    "duration": 393,
    "start_time": "2022-08-04T13:40:39.847Z"
   },
   {
    "duration": 281,
    "start_time": "2022-08-04T13:40:40.243Z"
   },
   {
    "duration": 22,
    "start_time": "2022-08-04T13:40:40.526Z"
   },
   {
    "duration": 15,
    "start_time": "2022-08-04T13:40:40.550Z"
   },
   {
    "duration": 9,
    "start_time": "2022-08-04T13:40:40.567Z"
   },
   {
    "duration": 100,
    "start_time": "2022-08-04T13:40:40.577Z"
   },
   {
    "duration": 3,
    "start_time": "2022-08-04T13:40:40.679Z"
   },
   {
    "duration": 12,
    "start_time": "2022-08-04T13:40:40.684Z"
   },
   {
    "duration": 12,
    "start_time": "2022-08-04T13:40:40.697Z"
   },
   {
    "duration": 25,
    "start_time": "2022-08-04T13:40:40.711Z"
   },
   {
    "duration": 4,
    "start_time": "2022-08-04T13:40:40.738Z"
   },
   {
    "duration": 109,
    "start_time": "2022-08-04T13:40:40.743Z"
   },
   {
    "duration": 9,
    "start_time": "2022-08-04T13:40:40.854Z"
   },
   {
    "duration": 19,
    "start_time": "2022-08-04T13:40:40.865Z"
   },
   {
    "duration": 37,
    "start_time": "2022-08-04T13:40:40.885Z"
   },
   {
    "duration": 19,
    "start_time": "2022-08-04T13:40:40.924Z"
   },
   {
    "duration": 11,
    "start_time": "2022-08-04T13:40:40.944Z"
   },
   {
    "duration": 8,
    "start_time": "2022-08-04T13:40:40.957Z"
   },
   {
    "duration": 163,
    "start_time": "2022-08-04T13:40:40.966Z"
   },
   {
    "duration": 5,
    "start_time": "2022-08-04T13:40:41.131Z"
   },
   {
    "duration": 5,
    "start_time": "2022-08-04T13:40:41.138Z"
   },
   {
    "duration": 144,
    "start_time": "2022-08-04T13:40:41.144Z"
   },
   {
    "duration": 24,
    "start_time": "2022-08-04T13:40:41.290Z"
   },
   {
    "duration": 141,
    "start_time": "2022-08-04T13:40:56.107Z"
   },
   {
    "duration": 3,
    "start_time": "2022-08-04T13:40:59.823Z"
   },
   {
    "duration": 144,
    "start_time": "2022-08-04T13:41:00.330Z"
   }
  ],
  "colab": {
   "name": "dpp_template_part1.ipynb",
   "provenance": []
  },
  "kernelspec": {
   "display_name": "Python 3 (ipykernel)",
   "language": "python",
   "name": "python3"
  },
  "language_info": {
   "codemirror_mode": {
    "name": "ipython",
    "version": 3
   },
   "file_extension": ".py",
   "mimetype": "text/x-python",
   "name": "python",
   "nbconvert_exporter": "python",
   "pygments_lexer": "ipython3",
   "version": "3.9.5"
  },
  "toc": {
   "base_numbering": 1,
   "nav_menu": {},
   "number_sections": true,
   "sideBar": true,
   "skip_h1_title": true,
   "title_cell": "Table of Contents",
   "title_sidebar": "Contents",
   "toc_cell": false,
   "toc_position": {},
   "toc_section_display": true,
   "toc_window_display": false
  }
 },
 "nbformat": 4,
 "nbformat_minor": 5
}
