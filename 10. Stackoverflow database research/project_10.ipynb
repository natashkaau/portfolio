{
 "cells": [
  {
   "cell_type": "markdown",
   "id": "bd12a10b",
   "metadata": {},
   "source": [
    "# Исследование базы данных сервиса Stackoverflow"
   ]
  },
  {
   "cell_type": "markdown",
   "id": "402829ce",
   "metadata": {},
   "source": [
    "[Схема базы данных и описание базы](https://code.s3.yandex.net/SQL%20for%20data%20and%20analytics/ER/advanced_sql_project.pdf)"
   ]
  },
  {
   "cell_type": "markdown",
   "id": "ce93b38e",
   "metadata": {},
   "source": [
    "**Описание проекта**\n",
    "\n",
    "StackOverflow похож на социальную сеть — пользователи сервиса задают вопросы, отвечают на посты, оставляют комментарии и ставят оценки другим ответам.\n",
    "В этом проекте идёт работа с базой данных, которая хранит данные о постах за 2008 год."
   ]
  },
  {
   "cell_type": "markdown",
   "id": "55d6b568",
   "metadata": {},
   "source": [
    "**Задача 1**\n",
    "\n",
    "Найдите количество вопросов, которые набрали больше 300 очков или как минимум 100 раз были добавлены в «Закладки»."
   ]
  },
  {
   "cell_type": "code",
   "execution_count": null,
   "id": "1418f581",
   "metadata": {},
   "outputs": [],
   "source": [
    "SELECT COUNT(post_type_id)\n",
    "FROM stackoverflow.posts AS p \n",
    "JOIN stackoverflow.post_types AS pt ON p.post_type_id=pt.id\n",
    "WHERE type ='Question'\n",
    "AND (score>300 OR favorites_count>=100)"
   ]
  },
  {
   "cell_type": "markdown",
   "id": "a4a9fcc2",
   "metadata": {},
   "source": [
    "**Задача 2**\n",
    "\n",
    "Сколько в среднем в день задавали вопросов с 1 по 18 ноября 2008 включительно? Результат округлите до целого числа."
   ]
  },
  {
   "cell_type": "code",
   "execution_count": null,
   "id": "b6b3142f",
   "metadata": {},
   "outputs": [],
   "source": [
    "SELECT ROUND(AVG (cnt_questions))\n",
    "FROM\n",
    "    (SELECT DATE_TRUNC('day', creation_date)::date,\n",
    "           COUNT(post_type_id) AS cnt_questions\n",
    "    FROM stackoverflow.posts AS p \n",
    "    JOIN stackoverflow.post_types AS pt ON p.post_type_id=pt.id\n",
    "    WHERE DATE(creation_date) BETWEEN '2008-11-01' AND '2008-11-18'\n",
    "    AND type ='Question'\n",
    "    GROUP BY DATE_TRUNC('day', creation_date)::date) questions"
   ]
  },
  {
   "cell_type": "markdown",
   "id": "46128639",
   "metadata": {},
   "source": [
    "**Задача 3**\n",
    "\n",
    "Сколько пользователей получили значки сразу в день регистрации? Выведите количество уникальных пользователей."
   ]
  },
  {
   "cell_type": "code",
   "execution_count": null,
   "id": "329c9dff",
   "metadata": {},
   "outputs": [],
   "source": [
    "SELECT \n",
    "    COUNT(DISTINCT u.id)\n",
    "FROM stackoverflow.badges AS b\n",
    "JOIN stackoverflow.users AS u \n",
    "    ON b.user_id=u.id\n",
    "    AND b.creation_date::date=u.creation_date::date"
   ]
  },
  {
   "cell_type": "markdown",
   "id": "61406468",
   "metadata": {},
   "source": [
    "**Задача 4**\n",
    "\n",
    "Сколько уникальных постов пользователя с именем Joel Coehoorn получили хотя бы один голос?"
   ]
  },
  {
   "cell_type": "code",
   "execution_count": null,
   "id": "5330cc61",
   "metadata": {},
   "outputs": [],
   "source": [
    "SELECT COUNT(DISTINCT v.post_id)\n",
    "FROM stackoverflow.votes AS v\n",
    "JOIN stackoverflow.posts AS p ON v.post_id=p.id\n",
    "WHERE p.user_id IN (SELECT id\n",
    "                FROM stackoverflow.users\n",
    "                WHERE display_name = 'Joel Coehoorn')\n",
    "AND v.creation_date IS NOT NULL"
   ]
  },
  {
   "cell_type": "markdown",
   "id": "84672150",
   "metadata": {},
   "source": [
    "**Задача 5**\n",
    "\n",
    "Выгрузите все поля таблицы vote_types. Добавьте к таблице поле rank, в которое войдут номера записей в обратном порядке. Таблица должна быть отсортирована по полю id."
   ]
  },
  {
   "cell_type": "code",
   "execution_count": null,
   "id": "a1525cd1",
   "metadata": {},
   "outputs": [],
   "source": [
    "SELECT *,\n",
    "       RANK() OVER(ORDER BY id DESC)\n",
    "FROM stackoverflow.vote_types\n",
    "ORDER BY id"
   ]
  },
  {
   "cell_type": "markdown",
   "id": "444a08a2",
   "metadata": {},
   "source": [
    "**Задача 6**\n",
    "\n",
    "Отберите 10 пользователей, которые поставили больше всего голосов типа Close. Отобразите таблицу из двух полей: идентификатором пользователя и количеством голосов. Отсортируйте данные сначала по убыванию количества голосов, потом по убыванию значения идентификатора пользователя."
   ]
  },
  {
   "cell_type": "code",
   "execution_count": null,
   "id": "37bd654a",
   "metadata": {},
   "outputs": [],
   "source": [
    "SELECT user_id,\n",
    "       COUNT(vote_type_id) AS  cnt\n",
    "FROM stackoverflow.votes AS v\n",
    "JOIN stackoverflow.vote_types AS vt ON v.vote_type_id=vt.id\n",
    "WHERE name = 'Close'\n",
    "GROUP BY user_id\n",
    "ORDER BY cnt DESC\n",
    "LIMIT 10"
   ]
  },
  {
   "cell_type": "markdown",
   "id": "b5271b85",
   "metadata": {},
   "source": [
    "**Задача 7**\n",
    "\n",
    "Отберите 10 пользователей по количеству значков, полученных в период с 15 ноября по 15 декабря 2008 года включительно.\n",
    "Отобразите несколько полей:\n",
    "- идентификатор пользователя;\n",
    "- число значков;\n",
    "- место в рейтинге — чем больше значков, тем выше рейтинг.\n",
    "\n",
    "Пользователям, которые набрали одинаковое количество значков, присвойте одно и то же место в рейтинге.\n",
    "Отсортируйте записи по количеству значков по убыванию, а затем по возрастанию значения идентификатора пользователя."
   ]
  },
  {
   "cell_type": "code",
   "execution_count": null,
   "id": "97ac8de1",
   "metadata": {},
   "outputs": [],
   "source": [
    "SELECT user_id,\n",
    "       COUNT(id) AS cnt,\n",
    "       DENSE_RANK() OVER (ORDER BY COUNT(id) DESC)\n",
    "FROM stackoverflow.badges\n",
    "WHERE DATE(creation_date) BETWEEN '2008-11-15' AND '2008-12-15'\n",
    "GROUP BY user_id\n",
    "ORDER BY cnt DESC,\n",
    "         user_id\n",
    "LIMIT 10"
   ]
  },
  {
   "cell_type": "markdown",
   "id": "3c295c84",
   "metadata": {},
   "source": [
    "**Задача 8**\n",
    "\n",
    "Сколько в среднем очков получает пост каждого пользователя?\n",
    "Сформируйте таблицу из следующих полей:\n",
    "- заголовок поста;\n",
    "- идентификатор пользователя;\n",
    "- число очков поста;\n",
    "- среднее число очков пользователя за пост, округлённое до целого числа.\n",
    "\n",
    "Не учитывайте посты без заголовка, а также те, что набрали ноль очков."
   ]
  },
  {
   "cell_type": "code",
   "execution_count": null,
   "id": "dceb6680",
   "metadata": {},
   "outputs": [],
   "source": [
    "SELECT title,\n",
    "       user_id,\n",
    "       score,\n",
    "       ROUND(AVG(score) OVER (PARTITION BY user_id))\n",
    "FROM stackoverflow.posts\n",
    "WHERE title IS NOT NULL\n",
    "AND score != 0"
   ]
  },
  {
   "cell_type": "markdown",
   "id": "32bb6c44",
   "metadata": {},
   "source": [
    "**Задача 9**\n",
    "\n",
    "Отобразите заголовки постов, которые были написаны пользователями, получившими более 1000 значков. Посты без заголовков не должны попасть в список."
   ]
  },
  {
   "cell_type": "code",
   "execution_count": null,
   "id": "c8d4d8e7",
   "metadata": {},
   "outputs": [],
   "source": [
    "SELECT p.title\n",
    "FROM stackoverflow.posts AS p\n",
    "JOIN stackoverflow.users AS u ON p.user_id = u.id\n",
    "JOIN stackoverflow.badges AS b ON u.id = b.user_id\n",
    "WHERE title IS NOT NULL\n",
    "GROUP BY p.title\n",
    "HAVING COUNT(b.id) > 1000"
   ]
  },
  {
   "cell_type": "markdown",
   "id": "9a945bb5",
   "metadata": {},
   "source": [
    "**Задача 10**\n",
    "\n",
    "\n",
    "Напишите запрос, который выгрузит данные о пользователях из Канады (англ. Canada). Разделите пользователей на три группы в зависимости от количества просмотров их профилей:\n",
    "- пользователям с числом просмотров больше либо равным 350 присвойте группу 1;\n",
    "- пользователям с числом просмотров меньше 350, но больше либо равно 100 — группу 2;\n",
    "- пользователям с числом просмотров меньше 100 — группу 3.\n",
    "\n",
    "Отобразите в итоговой таблице идентификатор пользователя, количество просмотров профиля и группу. Пользователи с нулевым количеством просмотров не должны войти в итоговую таблицу."
   ]
  },
  {
   "cell_type": "code",
   "execution_count": null,
   "id": "742efd28",
   "metadata": {},
   "outputs": [],
   "source": [
    "SELECT id,\n",
    "       views,\n",
    "       (CASE\n",
    "           WHEN views >= 350 THEN 1\n",
    "           WHEN views < 350 AND views >= 100 THEN 2\n",
    "           WHEN views < 100 THEN 3\n",
    "       END) AS group_views\n",
    "FROM stackoverflow.users\n",
    "WHERE location LIKE '%Canada%'\n",
    "AND views != 0"
   ]
  },
  {
   "cell_type": "markdown",
   "id": "7bec25d8",
   "metadata": {},
   "source": [
    "**Задача 11**\n",
    "\n",
    "Дополните предыдущий запрос. Отобразите лидеров каждой группы — пользователей, которые набрали максимальное число просмотров в своей группе. Выведите поля с идентификатором пользователя, группой и количеством просмотров. Отсортируйте таблицу по убыванию просмотров, а затем по возрастанию значения идентификатора."
   ]
  },
  {
   "cell_type": "code",
   "execution_count": null,
   "id": "a91a88b4",
   "metadata": {},
   "outputs": [],
   "source": [
    "SELECT\n",
    "    id,\n",
    "    group_views,\n",
    "    max_views\n",
    "FROM(\n",
    "    SELECT DISTINCT\n",
    "           MAX(views) OVER(PARTITION BY group_views) AS max_views,\n",
    "           id,\n",
    "           group_views,\n",
    "           views\n",
    "    FROM (\n",
    "        SELECT \n",
    "                id,\n",
    "                views,\n",
    "               (CASE\n",
    "                   WHEN views >= 350 THEN 1\n",
    "                   WHEN views < 350 AND views >= 100 THEN 2\n",
    "                   WHEN views < 100 THEN 3\n",
    "               END) AS group_views\n",
    "        FROM stackoverflow.users\n",
    "        WHERE location LIKE '%Canada%'\n",
    "        AND views != 0) a \n",
    ") h\n",
    "WHERE max_views = views\n",
    "    ORDER BY max_views DESC, id ASC"
   ]
  },
  {
   "cell_type": "markdown",
   "id": "c5c66baf",
   "metadata": {},
   "source": [
    "**Задача 12**\n",
    "\n",
    "\n",
    "Посчитайте ежедневный прирост новых пользователей в ноябре 2008 года. Сформируйте таблицу с полями:\n",
    "- номер дня;\n",
    "- число пользователей, зарегистрированных в этот день;\n",
    "- сумму пользователей с накоплением."
   ]
  },
  {
   "cell_type": "code",
   "execution_count": null,
   "id": "335e8f61",
   "metadata": {},
   "outputs": [],
   "source": [
    "SELECT dt,\n",
    "       cnt_users,\n",
    "       SUM(cnt_users) OVER (ORDER BY dt) AS sum_users\n",
    "FROM(\n",
    "SELECT EXTRACT ('DAY' FROM creation_date) AS dt,\n",
    "       COUNT(id) AS cnt_users\n",
    "FROM stackoverflow.users\n",
    "WHERE DATE(creation_date) BETWEEN '2008-11-01' AND '2008-11-30'\n",
    "GROUP BY dt) t"
   ]
  },
  {
   "cell_type": "markdown",
   "id": "63ea1b14",
   "metadata": {},
   "source": [
    "**Задача 13**\n",
    "\n",
    "Для каждого пользователя, который написал хотя бы один пост, найдите интервал между регистрацией и временем создания первого поста. Отобразите:\n",
    "- идентификатор пользователя;\n",
    "- разницу во времени между регистрацией и первым постом."
   ]
  },
  {
   "cell_type": "code",
   "execution_count": null,
   "id": "ea55db26",
   "metadata": {},
   "outputs": [],
   "source": [
    "SELECT p.user_id,\n",
    "       -(u.creation_date - MIN(p.creation_date))\n",
    "FROM stackoverflow.users AS u\n",
    "JOIN stackoverflow.posts AS p ON u.id=p.user_id\n",
    "GROUP BY p.user_id,\n",
    "         u.creation_date"
   ]
  }
 ],
 "metadata": {
  "ExecuteTimeLog": [
   {
    "duration": 142,
    "start_time": "2023-07-12T16:00:38.535Z"
   }
  ],
  "kernelspec": {
   "display_name": "Python 3 (ipykernel)",
   "language": "python",
   "name": "python3"
  },
  "language_info": {
   "codemirror_mode": {
    "name": "ipython",
    "version": 3
   },
   "file_extension": ".py",
   "mimetype": "text/x-python",
   "name": "python",
   "nbconvert_exporter": "python",
   "pygments_lexer": "ipython3",
   "version": "3.9.5"
  },
  "toc": {
   "base_numbering": 1,
   "nav_menu": {},
   "number_sections": true,
   "sideBar": true,
   "skip_h1_title": true,
   "title_cell": "Table of Contents",
   "title_sidebar": "Contents",
   "toc_cell": false,
   "toc_position": {},
   "toc_section_display": true,
   "toc_window_display": false
  }
 },
 "nbformat": 4,
 "nbformat_minor": 5
}
