{
 "cells": [
  {
   "cell_type": "markdown",
   "metadata": {
    "id": "sRW85nPMDWKb"
   },
   "source": [
    "# Исследование базы данных сервиса Stackoverflow"
   ]
  },
  {
   "cell_type": "code",
   "execution_count": 1,
   "metadata": {
    "id": "nlZBlglMDWKe"
   },
   "outputs": [],
   "source": [
    "import pandas as pd\n",
    "import matplotlib.pyplot as plt\n",
    "from sqlalchemy import create_engine\n",
    "import seaborn as sns\n",
    "import calendar"
   ]
  },
  {
   "cell_type": "markdown",
   "metadata": {
    "id": "XnOE3n28DWKg"
   },
   "source": [
    "### Конфигурация для подключения к базе данных `data-analyst-advanced-sql`\n",
    "Эта база данных содержит схему `stackoverflow`, с которой вы будете работать в проекте"
   ]
  },
  {
   "cell_type": "code",
   "execution_count": 2,
   "metadata": {
    "id": "6p-yGp7qDWKg"
   },
   "outputs": [],
   "source": [
    "db_config = {\n",
    "    'user': 'praktikum_student', # имя пользователя\n",
    "    'pwd': 'Sdf4$2;d-d30pp', # пароль\n",
    "    'host': 'rc1b-wcoijxj3yxfsf3fs.mdb.yandexcloud.net',\n",
    "    'port': 6432, # порт подключения\n",
    "    'db': 'data-analyst-advanced-sql' # название базы данных\n",
    "}  \n",
    "\n",
    "connection_string = 'postgresql://{}:{}@{}:{}/{}'.format(\n",
    "    db_config['user'],\n",
    "    db_config['pwd'],\n",
    "    db_config['host'],\n",
    "    db_config['port'],\n",
    "    db_config['db'],\n",
    ")"
   ]
  },
  {
   "cell_type": "markdown",
   "metadata": {
    "id": "2Rg8ZpS0DWKh"
   },
   "source": [
    "Создание подключения"
   ]
  },
  {
   "cell_type": "code",
   "execution_count": 3,
   "metadata": {
    "id": "DamCUTR6DWKi"
   },
   "outputs": [],
   "source": [
    "engine = create_engine(connection_string) "
   ]
  },
  {
   "cell_type": "markdown",
   "metadata": {
    "id": "bel8XeSlDWKj"
   },
   "source": [
    "Пример запроса к базе данных\n",
    "\n",
    "`sample_df` является pandas-датафреймом."
   ]
  },
  {
   "cell_type": "code",
   "execution_count": 4,
   "metadata": {
    "id": "6Z_fw0yLDWKk"
   },
   "outputs": [],
   "source": [
    "query = '''\n",
    "SELECT *\n",
    "FROM stackoverflow.users\n",
    "LIMIT 10;\n",
    "'''\n",
    "\n",
    "sample_df = pd.read_sql_query(query, con=engine) "
   ]
  },
  {
   "cell_type": "code",
   "execution_count": 5,
   "metadata": {
    "id": "ZpuZ290oDWKk",
    "outputId": "22785a0a-e2bc-4559-ec3c-4879c4b377eb"
   },
   "outputs": [
    {
     "data": {
      "text/html": [
       "<div>\n",
       "<style scoped>\n",
       "    .dataframe tbody tr th:only-of-type {\n",
       "        vertical-align: middle;\n",
       "    }\n",
       "\n",
       "    .dataframe tbody tr th {\n",
       "        vertical-align: top;\n",
       "    }\n",
       "\n",
       "    .dataframe thead th {\n",
       "        text-align: right;\n",
       "    }\n",
       "</style>\n",
       "<table border=\"1\" class=\"dataframe\">\n",
       "  <thead>\n",
       "    <tr style=\"text-align: right;\">\n",
       "      <th></th>\n",
       "      <th>id</th>\n",
       "      <th>creation_date</th>\n",
       "      <th>display_name</th>\n",
       "      <th>last_access_date</th>\n",
       "      <th>location</th>\n",
       "      <th>reputation</th>\n",
       "      <th>views</th>\n",
       "    </tr>\n",
       "  </thead>\n",
       "  <tbody>\n",
       "    <tr>\n",
       "      <th>0</th>\n",
       "      <td>1</td>\n",
       "      <td>2008-07-31 14:22:31</td>\n",
       "      <td>Jeff Atwood</td>\n",
       "      <td>2018-08-29 02:34:23</td>\n",
       "      <td>El Cerrito, CA</td>\n",
       "      <td>44300</td>\n",
       "      <td>408587</td>\n",
       "    </tr>\n",
       "    <tr>\n",
       "      <th>1</th>\n",
       "      <td>2</td>\n",
       "      <td>2008-07-31 14:22:31</td>\n",
       "      <td>Geoff Dalgas</td>\n",
       "      <td>2018-08-23 17:31:56</td>\n",
       "      <td>Corvallis, OR</td>\n",
       "      <td>3491</td>\n",
       "      <td>23966</td>\n",
       "    </tr>\n",
       "    <tr>\n",
       "      <th>2</th>\n",
       "      <td>3</td>\n",
       "      <td>2008-07-31 14:22:31</td>\n",
       "      <td>Jarrod Dixon</td>\n",
       "      <td>2018-08-30 20:56:24</td>\n",
       "      <td>Raleigh, NC, United States</td>\n",
       "      <td>13418</td>\n",
       "      <td>24396</td>\n",
       "    </tr>\n",
       "    <tr>\n",
       "      <th>3</th>\n",
       "      <td>4</td>\n",
       "      <td>2008-07-31 14:22:31</td>\n",
       "      <td>Joel Spolsky</td>\n",
       "      <td>2018-08-14 22:18:15</td>\n",
       "      <td>New York, NY</td>\n",
       "      <td>28768</td>\n",
       "      <td>73755</td>\n",
       "    </tr>\n",
       "    <tr>\n",
       "      <th>4</th>\n",
       "      <td>5</td>\n",
       "      <td>2008-07-31 14:22:31</td>\n",
       "      <td>Jon Galloway</td>\n",
       "      <td>2018-08-29 16:48:36</td>\n",
       "      <td>San Diego, CA</td>\n",
       "      <td>39172</td>\n",
       "      <td>11700</td>\n",
       "    </tr>\n",
       "    <tr>\n",
       "      <th>5</th>\n",
       "      <td>8</td>\n",
       "      <td>2008-07-31 21:33:24</td>\n",
       "      <td>Eggs McLaren</td>\n",
       "      <td>2018-04-09 02:04:56</td>\n",
       "      <td>None</td>\n",
       "      <td>942</td>\n",
       "      <td>6372</td>\n",
       "    </tr>\n",
       "    <tr>\n",
       "      <th>6</th>\n",
       "      <td>9</td>\n",
       "      <td>2008-07-31 21:35:27</td>\n",
       "      <td>Kevin Dente</td>\n",
       "      <td>2018-08-30 18:18:03</td>\n",
       "      <td>Oakland, CA</td>\n",
       "      <td>14337</td>\n",
       "      <td>4949</td>\n",
       "    </tr>\n",
       "    <tr>\n",
       "      <th>7</th>\n",
       "      <td>11</td>\n",
       "      <td>2008-08-01 00:59:11</td>\n",
       "      <td>Anonymous User</td>\n",
       "      <td>2008-08-01 00:59:11</td>\n",
       "      <td>None</td>\n",
       "      <td>1890</td>\n",
       "      <td>2123</td>\n",
       "    </tr>\n",
       "    <tr>\n",
       "      <th>8</th>\n",
       "      <td>13</td>\n",
       "      <td>2008-08-01 04:18:05</td>\n",
       "      <td>Chris Jester-Young</td>\n",
       "      <td>2018-08-30 02:47:23</td>\n",
       "      <td>Raleigh, NC, United States</td>\n",
       "      <td>177138</td>\n",
       "      <td>35414</td>\n",
       "    </tr>\n",
       "    <tr>\n",
       "      <th>9</th>\n",
       "      <td>17</td>\n",
       "      <td>2008-08-01 12:02:22</td>\n",
       "      <td>Nick Berardi</td>\n",
       "      <td>2018-01-22 01:35:38</td>\n",
       "      <td>Issaquah, WA</td>\n",
       "      <td>44443</td>\n",
       "      <td>4786</td>\n",
       "    </tr>\n",
       "  </tbody>\n",
       "</table>\n",
       "</div>"
      ],
      "text/plain": [
       "   id       creation_date        display_name    last_access_date  \\\n",
       "0   1 2008-07-31 14:22:31         Jeff Atwood 2018-08-29 02:34:23   \n",
       "1   2 2008-07-31 14:22:31        Geoff Dalgas 2018-08-23 17:31:56   \n",
       "2   3 2008-07-31 14:22:31        Jarrod Dixon 2018-08-30 20:56:24   \n",
       "3   4 2008-07-31 14:22:31        Joel Spolsky 2018-08-14 22:18:15   \n",
       "4   5 2008-07-31 14:22:31        Jon Galloway 2018-08-29 16:48:36   \n",
       "5   8 2008-07-31 21:33:24        Eggs McLaren 2018-04-09 02:04:56   \n",
       "6   9 2008-07-31 21:35:27         Kevin Dente 2018-08-30 18:18:03   \n",
       "7  11 2008-08-01 00:59:11      Anonymous User 2008-08-01 00:59:11   \n",
       "8  13 2008-08-01 04:18:05  Chris Jester-Young 2018-08-30 02:47:23   \n",
       "9  17 2008-08-01 12:02:22        Nick Berardi 2018-01-22 01:35:38   \n",
       "\n",
       "                     location  reputation   views  \n",
       "0              El Cerrito, CA       44300  408587  \n",
       "1               Corvallis, OR        3491   23966  \n",
       "2  Raleigh, NC, United States       13418   24396  \n",
       "3                New York, NY       28768   73755  \n",
       "4               San Diego, CA       39172   11700  \n",
       "5                        None         942    6372  \n",
       "6                 Oakland, CA       14337    4949  \n",
       "7                        None        1890    2123  \n",
       "8  Raleigh, NC, United States      177138   35414  \n",
       "9                Issaquah, WA       44443    4786  "
      ]
     },
     "execution_count": 5,
     "metadata": {},
     "output_type": "execute_result"
    }
   ],
   "source": [
    "sample_df"
   ]
  },
  {
   "cell_type": "markdown",
   "metadata": {
    "id": "gnBMXkDBDWKm"
   },
   "source": [
    "# Задание 1"
   ]
  },
  {
   "cell_type": "markdown",
   "metadata": {
    "id": "vHsfOrrNDWKn"
   },
   "source": [
    "Выведите общую сумму просмотров постов за каждый месяц 2008 года. Если данных за какой-либо месяц в базе нет, такой месяц можно пропустить. Результат отсортируйте по убыванию общего количества просмотров."
   ]
  },
  {
   "cell_type": "markdown",
   "metadata": {
    "id": "N5rTgGNmDWKn"
   },
   "source": [
    "| month_date  | total_views |\n",
    "| ------------- | ------------- |\n",
    "| 2008-09-01  | 452928568  |\n",
    "| 2008-10-01  | 365400138  |\n",
    "| ...         | ... |"
   ]
  },
  {
   "cell_type": "code",
   "execution_count": 6,
   "metadata": {
    "id": "eWvykcXTDWKo"
   },
   "outputs": [
    {
     "data": {
      "text/html": [
       "<div>\n",
       "<style scoped>\n",
       "    .dataframe tbody tr th:only-of-type {\n",
       "        vertical-align: middle;\n",
       "    }\n",
       "\n",
       "    .dataframe tbody tr th {\n",
       "        vertical-align: top;\n",
       "    }\n",
       "\n",
       "    .dataframe thead th {\n",
       "        text-align: right;\n",
       "    }\n",
       "</style>\n",
       "<table border=\"1\" class=\"dataframe\">\n",
       "  <thead>\n",
       "    <tr style=\"text-align: right;\">\n",
       "      <th></th>\n",
       "      <th>month_date</th>\n",
       "      <th>total_views</th>\n",
       "    </tr>\n",
       "  </thead>\n",
       "  <tbody>\n",
       "    <tr>\n",
       "      <th>0</th>\n",
       "      <td>2008-09-01</td>\n",
       "      <td>452928568</td>\n",
       "    </tr>\n",
       "    <tr>\n",
       "      <th>1</th>\n",
       "      <td>2008-10-01</td>\n",
       "      <td>365400138</td>\n",
       "    </tr>\n",
       "    <tr>\n",
       "      <th>2</th>\n",
       "      <td>2008-11-01</td>\n",
       "      <td>221759651</td>\n",
       "    </tr>\n",
       "    <tr>\n",
       "      <th>3</th>\n",
       "      <td>2008-12-01</td>\n",
       "      <td>197792841</td>\n",
       "    </tr>\n",
       "    <tr>\n",
       "      <th>4</th>\n",
       "      <td>2008-08-01</td>\n",
       "      <td>131367083</td>\n",
       "    </tr>\n",
       "    <tr>\n",
       "      <th>5</th>\n",
       "      <td>2008-07-01</td>\n",
       "      <td>669895</td>\n",
       "    </tr>\n",
       "  </tbody>\n",
       "</table>\n",
       "</div>"
      ],
      "text/plain": [
       "   month_date  total_views\n",
       "0  2008-09-01    452928568\n",
       "1  2008-10-01    365400138\n",
       "2  2008-11-01    221759651\n",
       "3  2008-12-01    197792841\n",
       "4  2008-08-01    131367083\n",
       "5  2008-07-01       669895"
      ]
     },
     "execution_count": 6,
     "metadata": {},
     "output_type": "execute_result"
    }
   ],
   "source": [
    "# напишите запрос\n",
    "query = '''\n",
    "SELECT DATE_TRUNC('month', creation_date)::date AS month_date,\n",
    "       SUM(views_count) AS total_views\n",
    "FROM stackoverflow.posts\n",
    "WHERE EXTRACT(YEAR FROM creation_date) = 2008\n",
    "GROUP BY month_date\n",
    "HAVING SUM(views_count) > 0\n",
    "ORDER BY total_views DESC\n",
    "'''\n",
    "# выполните запрос\n",
    "df = pd.read_sql_query(query, con=engine)# выполните запрос\n",
    "df"
   ]
  },
  {
   "cell_type": "markdown",
   "metadata": {
    "id": "I_ZvhOxkDWKp"
   },
   "source": [
    "Проанализируйте итоговую таблицу. Отличаются ли данные за разные месяцы? С чем могут быть связаны отличия?"
   ]
  },
  {
   "cell_type": "markdown",
   "metadata": {
    "id": "luxSj17oDWKq"
   },
   "source": [
    "Данные за разные месяцы отличаются, в сентябре просмотров постов больше всего, а летом и к зиме намного меньше. Это может быть связано с началом учебного периода, когда ученики/студенты погружаются в программирование. К декабрю просмотры сильно снижаются, скорее всего, потому что большинство учеников/студентов вспомнило определенные навыки, и у них продолжается стабильная учеба. Также аналогичная ситуация может наблюдаться у работников данной сферы, так как многие берут отпуск летом."
   ]
  },
  {
   "cell_type": "markdown",
   "metadata": {
    "id": "FziIXkn5DWKr"
   },
   "source": [
    "# Задание 2"
   ]
  },
  {
   "cell_type": "markdown",
   "metadata": {
    "id": "fTGESZvYDWKr"
   },
   "source": [
    "Выведите имена самых активных пользователей, которые в первый месяц после регистрации (включая день регистрации) дали больше 100 ответов. Вопросы, которые задавали пользователи, не учитывайте. Для каждого имени пользователя выведите количество уникальных значений `user_id`. Отсортируйте результат по полю с именами в лексикографическом порядке."
   ]
  },
  {
   "cell_type": "markdown",
   "metadata": {
    "id": "W5-tv6Y3DWKs"
   },
   "source": [
    "| display_name | count |\n",
    "| ------------ | ----- |\n",
    "| 1800 INFORMATION | 1 |\n",
    "| Adam Bellaire | 1 |\n",
    "| Adam Davis | 1 |\n",
    "| ... | ... |"
   ]
  },
  {
   "cell_type": "code",
   "execution_count": 7,
   "metadata": {},
   "outputs": [],
   "source": [
    "pd.set_option('display.max_rows', 100)"
   ]
  },
  {
   "cell_type": "code",
   "execution_count": 8,
   "metadata": {
    "id": "fIO-y-YjDWKt"
   },
   "outputs": [
    {
     "data": {
      "text/html": [
       "<div>\n",
       "<style scoped>\n",
       "    .dataframe tbody tr th:only-of-type {\n",
       "        vertical-align: middle;\n",
       "    }\n",
       "\n",
       "    .dataframe tbody tr th {\n",
       "        vertical-align: top;\n",
       "    }\n",
       "\n",
       "    .dataframe thead th {\n",
       "        text-align: right;\n",
       "    }\n",
       "</style>\n",
       "<table border=\"1\" class=\"dataframe\">\n",
       "  <thead>\n",
       "    <tr style=\"text-align: right;\">\n",
       "      <th></th>\n",
       "      <th>display_name</th>\n",
       "      <th>count</th>\n",
       "    </tr>\n",
       "  </thead>\n",
       "  <tbody>\n",
       "    <tr>\n",
       "      <th>0</th>\n",
       "      <td>1800 INFORMATION</td>\n",
       "      <td>1</td>\n",
       "    </tr>\n",
       "    <tr>\n",
       "      <th>1</th>\n",
       "      <td>Adam Bellaire</td>\n",
       "      <td>1</td>\n",
       "    </tr>\n",
       "    <tr>\n",
       "      <th>2</th>\n",
       "      <td>Adam Davis</td>\n",
       "      <td>1</td>\n",
       "    </tr>\n",
       "    <tr>\n",
       "      <th>3</th>\n",
       "      <td>Adam Liss</td>\n",
       "      <td>1</td>\n",
       "    </tr>\n",
       "    <tr>\n",
       "      <th>4</th>\n",
       "      <td>Alan</td>\n",
       "      <td>8</td>\n",
       "    </tr>\n",
       "    <tr>\n",
       "      <th>5</th>\n",
       "      <td>Amy B</td>\n",
       "      <td>1</td>\n",
       "    </tr>\n",
       "    <tr>\n",
       "      <th>6</th>\n",
       "      <td>Ben Hoffstein</td>\n",
       "      <td>1</td>\n",
       "    </tr>\n",
       "    <tr>\n",
       "      <th>7</th>\n",
       "      <td>Brian</td>\n",
       "      <td>15</td>\n",
       "    </tr>\n",
       "    <tr>\n",
       "      <th>8</th>\n",
       "      <td>Cade Roux</td>\n",
       "      <td>1</td>\n",
       "    </tr>\n",
       "    <tr>\n",
       "      <th>9</th>\n",
       "      <td>CesarB</td>\n",
       "      <td>1</td>\n",
       "    </tr>\n",
       "    <tr>\n",
       "      <th>10</th>\n",
       "      <td>Chris</td>\n",
       "      <td>29</td>\n",
       "    </tr>\n",
       "    <tr>\n",
       "      <th>11</th>\n",
       "      <td>ConcernedOfTunbridgeWells</td>\n",
       "      <td>1</td>\n",
       "    </tr>\n",
       "    <tr>\n",
       "      <th>12</th>\n",
       "      <td>Craig</td>\n",
       "      <td>10</td>\n",
       "    </tr>\n",
       "    <tr>\n",
       "      <th>13</th>\n",
       "      <td>Dale Ragan</td>\n",
       "      <td>1</td>\n",
       "    </tr>\n",
       "    <tr>\n",
       "      <th>14</th>\n",
       "      <td>Dan</td>\n",
       "      <td>21</td>\n",
       "    </tr>\n",
       "    <tr>\n",
       "      <th>15</th>\n",
       "      <td>Eric Z Beard</td>\n",
       "      <td>1</td>\n",
       "    </tr>\n",
       "    <tr>\n",
       "      <th>16</th>\n",
       "      <td>Espo</td>\n",
       "      <td>1</td>\n",
       "    </tr>\n",
       "    <tr>\n",
       "      <th>17</th>\n",
       "      <td>FlySwat</td>\n",
       "      <td>1</td>\n",
       "    </tr>\n",
       "    <tr>\n",
       "      <th>18</th>\n",
       "      <td>Franci Penov</td>\n",
       "      <td>1</td>\n",
       "    </tr>\n",
       "    <tr>\n",
       "      <th>19</th>\n",
       "      <td>GEOCHET</td>\n",
       "      <td>1</td>\n",
       "    </tr>\n",
       "    <tr>\n",
       "      <th>20</th>\n",
       "      <td>GateKiller</td>\n",
       "      <td>1</td>\n",
       "    </tr>\n",
       "    <tr>\n",
       "      <th>21</th>\n",
       "      <td>Greg</td>\n",
       "      <td>12</td>\n",
       "    </tr>\n",
       "    <tr>\n",
       "      <th>22</th>\n",
       "      <td>Gulzar Nazim</td>\n",
       "      <td>1</td>\n",
       "    </tr>\n",
       "    <tr>\n",
       "      <th>23</th>\n",
       "      <td>Ilya Kochetov</td>\n",
       "      <td>1</td>\n",
       "    </tr>\n",
       "    <tr>\n",
       "      <th>24</th>\n",
       "      <td>James Curran</td>\n",
       "      <td>1</td>\n",
       "    </tr>\n",
       "    <tr>\n",
       "      <th>25</th>\n",
       "      <td>Jim</td>\n",
       "      <td>7</td>\n",
       "    </tr>\n",
       "    <tr>\n",
       "      <th>26</th>\n",
       "      <td>Joe</td>\n",
       "      <td>9</td>\n",
       "    </tr>\n",
       "    <tr>\n",
       "      <th>27</th>\n",
       "      <td>Joel Coehoorn</td>\n",
       "      <td>1</td>\n",
       "    </tr>\n",
       "    <tr>\n",
       "      <th>28</th>\n",
       "      <td>Johannes Schaub - litb</td>\n",
       "      <td>1</td>\n",
       "    </tr>\n",
       "    <tr>\n",
       "      <th>29</th>\n",
       "      <td>John Millikin</td>\n",
       "      <td>1</td>\n",
       "    </tr>\n",
       "    <tr>\n",
       "      <th>30</th>\n",
       "      <td>Jon Limjap</td>\n",
       "      <td>1</td>\n",
       "    </tr>\n",
       "    <tr>\n",
       "      <th>31</th>\n",
       "      <td>Jon Skeet</td>\n",
       "      <td>1</td>\n",
       "    </tr>\n",
       "    <tr>\n",
       "      <th>32</th>\n",
       "      <td>Jorge Ferreira</td>\n",
       "      <td>1</td>\n",
       "    </tr>\n",
       "    <tr>\n",
       "      <th>33</th>\n",
       "      <td>Josh</td>\n",
       "      <td>16</td>\n",
       "    </tr>\n",
       "    <tr>\n",
       "      <th>34</th>\n",
       "      <td>Keith</td>\n",
       "      <td>5</td>\n",
       "    </tr>\n",
       "    <tr>\n",
       "      <th>35</th>\n",
       "      <td>Kevin</td>\n",
       "      <td>11</td>\n",
       "    </tr>\n",
       "    <tr>\n",
       "      <th>36</th>\n",
       "      <td>Kibbee</td>\n",
       "      <td>1</td>\n",
       "    </tr>\n",
       "    <tr>\n",
       "      <th>37</th>\n",
       "      <td>Konrad Rudolph</td>\n",
       "      <td>1</td>\n",
       "    </tr>\n",
       "    <tr>\n",
       "      <th>38</th>\n",
       "      <td>Lasse Vågsæther Karlsen</td>\n",
       "      <td>1</td>\n",
       "    </tr>\n",
       "    <tr>\n",
       "      <th>39</th>\n",
       "      <td>Marc Gravell</td>\n",
       "      <td>1</td>\n",
       "    </tr>\n",
       "    <tr>\n",
       "      <th>40</th>\n",
       "      <td>Mark</td>\n",
       "      <td>16</td>\n",
       "    </tr>\n",
       "    <tr>\n",
       "      <th>41</th>\n",
       "      <td>Mark Cidade</td>\n",
       "      <td>1</td>\n",
       "    </tr>\n",
       "    <tr>\n",
       "      <th>42</th>\n",
       "      <td>Mark Harrison</td>\n",
       "      <td>1</td>\n",
       "    </tr>\n",
       "    <tr>\n",
       "      <th>43</th>\n",
       "      <td>Matt</td>\n",
       "      <td>29</td>\n",
       "    </tr>\n",
       "    <tr>\n",
       "      <th>44</th>\n",
       "      <td>Matt Hamilton</td>\n",
       "      <td>1</td>\n",
       "    </tr>\n",
       "    <tr>\n",
       "      <th>45</th>\n",
       "      <td>Michael Burr</td>\n",
       "      <td>1</td>\n",
       "    </tr>\n",
       "    <tr>\n",
       "      <th>46</th>\n",
       "      <td>Michael Stum</td>\n",
       "      <td>1</td>\n",
       "    </tr>\n",
       "    <tr>\n",
       "      <th>47</th>\n",
       "      <td>Mitchel Sellers</td>\n",
       "      <td>1</td>\n",
       "    </tr>\n",
       "    <tr>\n",
       "      <th>48</th>\n",
       "      <td>Nick</td>\n",
       "      <td>16</td>\n",
       "    </tr>\n",
       "    <tr>\n",
       "      <th>49</th>\n",
       "      <td>Norman Ramsey</td>\n",
       "      <td>1</td>\n",
       "    </tr>\n",
       "    <tr>\n",
       "      <th>50</th>\n",
       "      <td>Oli</td>\n",
       "      <td>3</td>\n",
       "    </tr>\n",
       "    <tr>\n",
       "      <th>51</th>\n",
       "      <td>Orion Edwards</td>\n",
       "      <td>1</td>\n",
       "    </tr>\n",
       "    <tr>\n",
       "      <th>52</th>\n",
       "      <td>Paul Nathan</td>\n",
       "      <td>1</td>\n",
       "    </tr>\n",
       "    <tr>\n",
       "      <th>53</th>\n",
       "      <td>PhiLho</td>\n",
       "      <td>1</td>\n",
       "    </tr>\n",
       "    <tr>\n",
       "      <th>54</th>\n",
       "      <td>Rob</td>\n",
       "      <td>15</td>\n",
       "    </tr>\n",
       "    <tr>\n",
       "      <th>55</th>\n",
       "      <td>Rob Cooper</td>\n",
       "      <td>1</td>\n",
       "    </tr>\n",
       "    <tr>\n",
       "      <th>56</th>\n",
       "      <td>Rob Walker</td>\n",
       "      <td>1</td>\n",
       "    </tr>\n",
       "    <tr>\n",
       "      <th>57</th>\n",
       "      <td>Ryan</td>\n",
       "      <td>10</td>\n",
       "    </tr>\n",
       "    <tr>\n",
       "      <th>58</th>\n",
       "      <td>S.Lott</td>\n",
       "      <td>1</td>\n",
       "    </tr>\n",
       "    <tr>\n",
       "      <th>59</th>\n",
       "      <td>Sklivvz</td>\n",
       "      <td>1</td>\n",
       "    </tr>\n",
       "    <tr>\n",
       "      <th>60</th>\n",
       "      <td>Steven A. Lowe</td>\n",
       "      <td>1</td>\n",
       "    </tr>\n",
       "    <tr>\n",
       "      <th>61</th>\n",
       "      <td>TheSmurf</td>\n",
       "      <td>1</td>\n",
       "    </tr>\n",
       "    <tr>\n",
       "      <th>62</th>\n",
       "      <td>Tom</td>\n",
       "      <td>19</td>\n",
       "    </tr>\n",
       "    <tr>\n",
       "      <th>63</th>\n",
       "      <td>Vilx-</td>\n",
       "      <td>1</td>\n",
       "    </tr>\n",
       "    <tr>\n",
       "      <th>64</th>\n",
       "      <td>Vinko Vrsalovic</td>\n",
       "      <td>1</td>\n",
       "    </tr>\n",
       "    <tr>\n",
       "      <th>65</th>\n",
       "      <td>aku</td>\n",
       "      <td>1</td>\n",
       "    </tr>\n",
       "    <tr>\n",
       "      <th>66</th>\n",
       "      <td>anjanb</td>\n",
       "      <td>1</td>\n",
       "    </tr>\n",
       "    <tr>\n",
       "      <th>67</th>\n",
       "      <td>dkretz</td>\n",
       "      <td>1</td>\n",
       "    </tr>\n",
       "    <tr>\n",
       "      <th>68</th>\n",
       "      <td>frankodwyer</td>\n",
       "      <td>1</td>\n",
       "    </tr>\n",
       "    <tr>\n",
       "      <th>69</th>\n",
       "      <td>gbjbaanb</td>\n",
       "      <td>1</td>\n",
       "    </tr>\n",
       "    <tr>\n",
       "      <th>70</th>\n",
       "      <td>jfs</td>\n",
       "      <td>3</td>\n",
       "    </tr>\n",
       "    <tr>\n",
       "      <th>71</th>\n",
       "      <td>leppie</td>\n",
       "      <td>1</td>\n",
       "    </tr>\n",
       "    <tr>\n",
       "      <th>72</th>\n",
       "      <td>lomaxx</td>\n",
       "      <td>1</td>\n",
       "    </tr>\n",
       "    <tr>\n",
       "      <th>73</th>\n",
       "      <td>mattlant</td>\n",
       "      <td>1</td>\n",
       "    </tr>\n",
       "  </tbody>\n",
       "</table>\n",
       "</div>"
      ],
      "text/plain": [
       "                 display_name  count\n",
       "0            1800 INFORMATION      1\n",
       "1               Adam Bellaire      1\n",
       "2                  Adam Davis      1\n",
       "3                   Adam Liss      1\n",
       "4                        Alan      8\n",
       "5                       Amy B      1\n",
       "6               Ben Hoffstein      1\n",
       "7                       Brian     15\n",
       "8                   Cade Roux      1\n",
       "9                      CesarB      1\n",
       "10                      Chris     29\n",
       "11  ConcernedOfTunbridgeWells      1\n",
       "12                      Craig     10\n",
       "13                 Dale Ragan      1\n",
       "14                        Dan     21\n",
       "15               Eric Z Beard      1\n",
       "16                       Espo      1\n",
       "17                    FlySwat      1\n",
       "18               Franci Penov      1\n",
       "19                    GEOCHET      1\n",
       "20                 GateKiller      1\n",
       "21                       Greg     12\n",
       "22               Gulzar Nazim      1\n",
       "23              Ilya Kochetov      1\n",
       "24               James Curran      1\n",
       "25                        Jim      7\n",
       "26                        Joe      9\n",
       "27              Joel Coehoorn      1\n",
       "28     Johannes Schaub - litb      1\n",
       "29              John Millikin      1\n",
       "30                 Jon Limjap      1\n",
       "31                  Jon Skeet      1\n",
       "32             Jorge Ferreira      1\n",
       "33                       Josh     16\n",
       "34                      Keith      5\n",
       "35                      Kevin     11\n",
       "36                     Kibbee      1\n",
       "37             Konrad Rudolph      1\n",
       "38    Lasse Vågsæther Karlsen      1\n",
       "39               Marc Gravell      1\n",
       "40                       Mark     16\n",
       "41                Mark Cidade      1\n",
       "42              Mark Harrison      1\n",
       "43                       Matt     29\n",
       "44              Matt Hamilton      1\n",
       "45               Michael Burr      1\n",
       "46               Michael Stum      1\n",
       "47            Mitchel Sellers      1\n",
       "48                       Nick     16\n",
       "49              Norman Ramsey      1\n",
       "50                        Oli      3\n",
       "51              Orion Edwards      1\n",
       "52                Paul Nathan      1\n",
       "53                     PhiLho      1\n",
       "54                        Rob     15\n",
       "55                 Rob Cooper      1\n",
       "56                 Rob Walker      1\n",
       "57                       Ryan     10\n",
       "58                     S.Lott      1\n",
       "59                    Sklivvz      1\n",
       "60             Steven A. Lowe      1\n",
       "61                   TheSmurf      1\n",
       "62                        Tom     19\n",
       "63                      Vilx-      1\n",
       "64            Vinko Vrsalovic      1\n",
       "65                        aku      1\n",
       "66                     anjanb      1\n",
       "67                     dkretz      1\n",
       "68                frankodwyer      1\n",
       "69                   gbjbaanb      1\n",
       "70                        jfs      3\n",
       "71                     leppie      1\n",
       "72                     lomaxx      1\n",
       "73                   mattlant      1"
      ]
     },
     "execution_count": 8,
     "metadata": {},
     "output_type": "execute_result"
    }
   ],
   "source": [
    "# напишите запрос\n",
    "query = '''\n",
    "SELECT u.display_name,\n",
    "       COUNT(DISTINCT p.user_id)\n",
    "FROM stackoverflow.users AS u\n",
    "JOIN stackoverflow.posts AS p ON u.id = p.user_id\n",
    "JOIN stackoverflow.post_types AS pt ON pt.id = p.post_type_id\n",
    "WHERE pt.type = 'Answer'\n",
    "AND p.creation_date BETWEEN u.creation_date AND u.creation_date + INTERVAL '1 month'\n",
    "GROUP BY u.display_name\n",
    "HAVING COUNT(p.id) > 100\n",
    "ORDER BY 1\n",
    "\n",
    "'''\n",
    "# выполните запрос\n",
    "cnt = pd.read_sql_query(query, con=engine)# выполните запрос\n",
    "cnt.head(74)"
   ]
  },
  {
   "cell_type": "markdown",
   "metadata": {
    "id": "I3Wr82TplKpI"
   },
   "source": [
    "Какие аномалии наблюдаются в данных? О чём они говорят?"
   ]
  },
  {
   "cell_type": "markdown",
   "metadata": {},
   "source": [
    "Встречаются аномалии в представленных данных. Пользователи, скорее всего, неверно заполняют поле display_name при регистрации, где требуется ввести только имя, в итоге многие вводят свое ненастоящее имя или же пишут фамилию и имя, поэтому при выборке пользователей по именам встречается много одиночных полей с именем."
   ]
  },
  {
   "cell_type": "markdown",
   "metadata": {
    "id": "JhM2xXj5DWKu"
   },
   "source": [
    "# Задание 3"
   ]
  },
  {
   "cell_type": "markdown",
   "metadata": {
    "id": "IS6xPqyyDWKu"
   },
   "source": [
    "Выведите количество постов за 2008 год по месяцам. Отберите посты от пользователей, которые зарегистрировались в сентябре 2008 года и сделали хотя бы один пост в декабре того же года. Отсортируйте таблицу по значению месяца по убыванию."
   ]
  },
  {
   "cell_type": "markdown",
   "metadata": {
    "id": "WmjhjV2xDWKv"
   },
   "source": [
    "| month | count |\n",
    "| ------|------ |\n",
    "| 2008-12-01 | 17641 |\n",
    "| 2008-11-01 | 18294 |\n",
    "| ... | ... |"
   ]
  },
  {
   "cell_type": "code",
   "execution_count": 9,
   "metadata": {
    "id": "kVu0FB8WDWKv",
    "scrolled": true
   },
   "outputs": [
    {
     "data": {
      "text/html": [
       "<div>\n",
       "<style scoped>\n",
       "    .dataframe tbody tr th:only-of-type {\n",
       "        vertical-align: middle;\n",
       "    }\n",
       "\n",
       "    .dataframe tbody tr th {\n",
       "        vertical-align: top;\n",
       "    }\n",
       "\n",
       "    .dataframe thead th {\n",
       "        text-align: right;\n",
       "    }\n",
       "</style>\n",
       "<table border=\"1\" class=\"dataframe\">\n",
       "  <thead>\n",
       "    <tr style=\"text-align: right;\">\n",
       "      <th></th>\n",
       "      <th>month</th>\n",
       "      <th>count</th>\n",
       "    </tr>\n",
       "  </thead>\n",
       "  <tbody>\n",
       "    <tr>\n",
       "      <th>0</th>\n",
       "      <td>2008-12-01</td>\n",
       "      <td>17641</td>\n",
       "    </tr>\n",
       "    <tr>\n",
       "      <th>1</th>\n",
       "      <td>2008-11-01</td>\n",
       "      <td>18294</td>\n",
       "    </tr>\n",
       "    <tr>\n",
       "      <th>2</th>\n",
       "      <td>2008-10-01</td>\n",
       "      <td>27171</td>\n",
       "    </tr>\n",
       "    <tr>\n",
       "      <th>3</th>\n",
       "      <td>2008-09-01</td>\n",
       "      <td>24870</td>\n",
       "    </tr>\n",
       "    <tr>\n",
       "      <th>4</th>\n",
       "      <td>2008-08-01</td>\n",
       "      <td>32</td>\n",
       "    </tr>\n",
       "  </tbody>\n",
       "</table>\n",
       "</div>"
      ],
      "text/plain": [
       "        month  count\n",
       "0  2008-12-01  17641\n",
       "1  2008-11-01  18294\n",
       "2  2008-10-01  27171\n",
       "3  2008-09-01  24870\n",
       "4  2008-08-01     32"
      ]
     },
     "execution_count": 9,
     "metadata": {},
     "output_type": "execute_result"
    }
   ],
   "source": [
    "# напишите запрос\n",
    "query = '''\n",
    "WITH one_post AS (\n",
    "    SELECT DISTINCT user_id\n",
    "    FROM stackoverflow.posts\n",
    "    WHERE DATE(creation_date) BETWEEN '2008-12-01' AND '2008-12-31'\n",
    ")\n",
    "SELECT DATE_TRUNC('month', p.creation_date)::date AS month,\n",
    "       COUNT(p.id)\n",
    "FROM stackoverflow.posts AS p\n",
    "JOIN stackoverflow.users AS u ON p.user_id = u.id \n",
    "AND DATE(u.creation_date) BETWEEN '2008-09-01' AND '2008-09-30'\n",
    "JOIN one_post ON one_post.user_id = u.id\n",
    "WHERE EXTRACT(YEAR FROM p.creation_date) = 2008\n",
    "GROUP BY month\n",
    "ORDER BY 1 DESC\n",
    "'''\n",
    "# выполните запрос\n",
    "posts_df = pd.read_sql_query(query, con=engine)# выполните запрос\n",
    "posts_df"
   ]
  },
  {
   "cell_type": "markdown",
   "metadata": {
    "id": "Vnxn9DVHDWKx"
   },
   "source": [
    "Изучите данные: есть ли в них аномалии? Предположите, почему могли появиться аномальные значения."
   ]
  },
  {
   "cell_type": "markdown",
   "metadata": {},
   "source": [
    "В выборке появились 32 поста за август. Это может быть технической ошибкой, которая связана с наполнением баз данных."
   ]
  },
  {
   "cell_type": "markdown",
   "metadata": {
    "id": "5Pcizm0DDWKz"
   },
   "source": [
    "# Задание 4"
   ]
  },
  {
   "cell_type": "markdown",
   "metadata": {
    "id": "KUZPF6vHDWKz"
   },
   "source": [
    "Используя данные о постах, выведите несколько полей:\n",
    "\n",
    "- идентификатор пользователя, который написал пост;\n",
    "- дата создания поста;\n",
    "- количество просмотров у текущего поста;\n",
    "- сумму просмотров постов автора с накоплением.\n",
    "\n",
    "Данные в таблице должны быть отсортированы по возрастанию идентификаторов пользователей, а данные об одном и том же пользователе — по возрастанию даты создания поста."
   ]
  },
  {
   "cell_type": "markdown",
   "metadata": {
    "id": "ZpsTUVDYDWK0"
   },
   "source": [
    "| user_id | creation_date | views_count | cumulative_count |\n",
    "| ------ | -------------- | ----------- | ---------------- |\n",
    "| 1 | 2008-07-31 23:41:00  | 480476   | 480476  |\n",
    "| 1 | 2008-07-31 23:55:38  | 136033 | 616509  | \n",
    "| 1 | 2008-07-31 23:56:41  | 0 |  616509  |\n",
    "| ... | ... | ... | ... |\n",
    "| 2 | 2008-07-31 23:56:41 | 79087  | 79087 |\n",
    "| 2 | 2008-08-01 05:09:56 | 65443 | 144530 |\n",
    "| ... | ...  | ...  | ...  |"
   ]
  },
  {
   "cell_type": "code",
   "execution_count": 10,
   "metadata": {
    "id": "hDoJhMzfDWK0"
   },
   "outputs": [
    {
     "data": {
      "text/html": [
       "<div>\n",
       "<style scoped>\n",
       "    .dataframe tbody tr th:only-of-type {\n",
       "        vertical-align: middle;\n",
       "    }\n",
       "\n",
       "    .dataframe tbody tr th {\n",
       "        vertical-align: top;\n",
       "    }\n",
       "\n",
       "    .dataframe thead th {\n",
       "        text-align: right;\n",
       "    }\n",
       "</style>\n",
       "<table border=\"1\" class=\"dataframe\">\n",
       "  <thead>\n",
       "    <tr style=\"text-align: right;\">\n",
       "      <th></th>\n",
       "      <th>user_id</th>\n",
       "      <th>creation_date</th>\n",
       "      <th>views_count</th>\n",
       "      <th>cumulative_count</th>\n",
       "    </tr>\n",
       "  </thead>\n",
       "  <tbody>\n",
       "    <tr>\n",
       "      <th>0</th>\n",
       "      <td>1</td>\n",
       "      <td>2008-07-31 23:41:00</td>\n",
       "      <td>480476</td>\n",
       "      <td>480476</td>\n",
       "    </tr>\n",
       "    <tr>\n",
       "      <th>1</th>\n",
       "      <td>1</td>\n",
       "      <td>2008-07-31 23:55:38</td>\n",
       "      <td>136033</td>\n",
       "      <td>616509</td>\n",
       "    </tr>\n",
       "    <tr>\n",
       "      <th>2</th>\n",
       "      <td>1</td>\n",
       "      <td>2008-07-31 23:56:41</td>\n",
       "      <td>0</td>\n",
       "      <td>616509</td>\n",
       "    </tr>\n",
       "    <tr>\n",
       "      <th>3</th>\n",
       "      <td>1</td>\n",
       "      <td>2008-08-04 02:45:08</td>\n",
       "      <td>0</td>\n",
       "      <td>616509</td>\n",
       "    </tr>\n",
       "    <tr>\n",
       "      <th>4</th>\n",
       "      <td>1</td>\n",
       "      <td>2008-08-04 04:31:03</td>\n",
       "      <td>0</td>\n",
       "      <td>616509</td>\n",
       "    </tr>\n",
       "    <tr>\n",
       "      <th>...</th>\n",
       "      <td>...</td>\n",
       "      <td>...</td>\n",
       "      <td>...</td>\n",
       "      <td>...</td>\n",
       "    </tr>\n",
       "    <tr>\n",
       "      <th>243791</th>\n",
       "      <td>5696608</td>\n",
       "      <td>2008-12-23 16:00:37</td>\n",
       "      <td>0</td>\n",
       "      <td>2804</td>\n",
       "    </tr>\n",
       "    <tr>\n",
       "      <th>243792</th>\n",
       "      <td>5696608</td>\n",
       "      <td>2008-12-23 17:35:09</td>\n",
       "      <td>0</td>\n",
       "      <td>2804</td>\n",
       "    </tr>\n",
       "    <tr>\n",
       "      <th>243793</th>\n",
       "      <td>5696608</td>\n",
       "      <td>2008-12-24 01:02:48</td>\n",
       "      <td>0</td>\n",
       "      <td>2804</td>\n",
       "    </tr>\n",
       "    <tr>\n",
       "      <th>243794</th>\n",
       "      <td>5696608</td>\n",
       "      <td>2008-12-30 14:34:45</td>\n",
       "      <td>0</td>\n",
       "      <td>2804</td>\n",
       "    </tr>\n",
       "    <tr>\n",
       "      <th>243795</th>\n",
       "      <td>5696608</td>\n",
       "      <td>2008-12-30 16:32:12</td>\n",
       "      <td>0</td>\n",
       "      <td>2804</td>\n",
       "    </tr>\n",
       "  </tbody>\n",
       "</table>\n",
       "<p>243796 rows × 4 columns</p>\n",
       "</div>"
      ],
      "text/plain": [
       "        user_id       creation_date  views_count  cumulative_count\n",
       "0             1 2008-07-31 23:41:00       480476            480476\n",
       "1             1 2008-07-31 23:55:38       136033            616509\n",
       "2             1 2008-07-31 23:56:41            0            616509\n",
       "3             1 2008-08-04 02:45:08            0            616509\n",
       "4             1 2008-08-04 04:31:03            0            616509\n",
       "...         ...                 ...          ...               ...\n",
       "243791  5696608 2008-12-23 16:00:37            0              2804\n",
       "243792  5696608 2008-12-23 17:35:09            0              2804\n",
       "243793  5696608 2008-12-24 01:02:48            0              2804\n",
       "243794  5696608 2008-12-30 14:34:45            0              2804\n",
       "243795  5696608 2008-12-30 16:32:12            0              2804\n",
       "\n",
       "[243796 rows x 4 columns]"
      ]
     },
     "execution_count": 10,
     "metadata": {},
     "output_type": "execute_result"
    }
   ],
   "source": [
    "# напишите запрос\n",
    "query = '''\n",
    "SELECT user_id,\n",
    "creation_date,\n",
    "views_count,\n",
    "SUM(views_count) OVER (PARTITION BY user_id ORDER BY creation_date) AS cumulative_count\n",
    "FROM stackoverflow.posts\n",
    "'''\n",
    "# выполните запрос\n",
    "cum = pd.read_sql_query(query, con=engine)\n",
    "cum"
   ]
  },
  {
   "cell_type": "markdown",
   "metadata": {
    "id": "N0kHRHvIDWK2"
   },
   "source": [
    "# Задание 5"
   ]
  },
  {
   "cell_type": "markdown",
   "metadata": {
    "id": "gBgvmPtODWK2"
   },
   "source": [
    "Найдите среднее количество постов пользователей в день за август 2008 года. Отберите данные о пользователях, которые опубликовали больше 120 постов за август. Дни без публикаций не учитывайте. \n",
    "\n",
    "Отсортируйте результат по возрастанию среднего количества постов. Значения можно не округлять."
   ]
  },
  {
   "cell_type": "markdown",
   "metadata": {
    "id": "nfzR08BODWK3"
   },
   "source": [
    "| user_id | avg_daily |\n",
    "| ------- | --------- |\n",
    "| 116     | 4.777778  |\n",
    "| 234     | 5.208333  |\n",
    "| ...     | ... |"
   ]
  },
  {
   "cell_type": "code",
   "execution_count": 11,
   "metadata": {
    "id": "YFyPNz5GDWK3"
   },
   "outputs": [
    {
     "data": {
      "text/html": [
       "<div>\n",
       "<style scoped>\n",
       "    .dataframe tbody tr th:only-of-type {\n",
       "        vertical-align: middle;\n",
       "    }\n",
       "\n",
       "    .dataframe tbody tr th {\n",
       "        vertical-align: top;\n",
       "    }\n",
       "\n",
       "    .dataframe thead th {\n",
       "        text-align: right;\n",
       "    }\n",
       "</style>\n",
       "<table border=\"1\" class=\"dataframe\">\n",
       "  <thead>\n",
       "    <tr style=\"text-align: right;\">\n",
       "      <th></th>\n",
       "      <th>user_id</th>\n",
       "      <th>avg_daily</th>\n",
       "    </tr>\n",
       "  </thead>\n",
       "  <tbody>\n",
       "    <tr>\n",
       "      <th>0</th>\n",
       "      <td>116</td>\n",
       "      <td>4.777778</td>\n",
       "    </tr>\n",
       "    <tr>\n",
       "      <th>1</th>\n",
       "      <td>234</td>\n",
       "      <td>5.208333</td>\n",
       "    </tr>\n",
       "    <tr>\n",
       "      <th>2</th>\n",
       "      <td>91</td>\n",
       "      <td>5.681818</td>\n",
       "    </tr>\n",
       "    <tr>\n",
       "      <th>3</th>\n",
       "      <td>905</td>\n",
       "      <td>7.000000</td>\n",
       "    </tr>\n",
       "    <tr>\n",
       "      <th>4</th>\n",
       "      <td>383</td>\n",
       "      <td>7.277778</td>\n",
       "    </tr>\n",
       "  </tbody>\n",
       "</table>\n",
       "</div>"
      ],
      "text/plain": [
       "   user_id  avg_daily\n",
       "0      116   4.777778\n",
       "1      234   5.208333\n",
       "2       91   5.681818\n",
       "3      905   7.000000\n",
       "4      383   7.277778"
      ]
     },
     "execution_count": 11,
     "metadata": {},
     "output_type": "execute_result"
    }
   ],
   "source": [
    "# напишите запрос\n",
    "query = '''\n",
    "WITH users AS (\n",
    "    SELECT user_id\n",
    "    FROM stackoverflow.posts\n",
    "    WHERE DATE(creation_date) BETWEEN '2008-08-01' AND '2008-08-31'\n",
    "    GROUP BY user_id\n",
    "    HAVING COUNT(id) > 120\n",
    "),\n",
    "days AS (\n",
    "    SELECT user_id,\n",
    "           DATE_TRUNC('day', creation_date)::date AS date,\n",
    "           COUNT(id) AS cnt\n",
    "    FROM stackoverflow.posts\n",
    "    WHERE DATE(creation_date) BETWEEN '2008-08-01' AND '2008-08-31'\n",
    "    GROUP BY date,\n",
    "             user_id\n",
    ")\n",
    "SELECT u.user_id,\n",
    "       AVG(cnt) AS avg_daily\n",
    "FROM users AS u\n",
    "JOIN days AS d ON u.user_id = d.user_id\n",
    "GROUP BY u.user_id\n",
    "ORDER BY avg_daily\n",
    "'''\n",
    "\n",
    "# выполните запрос\n",
    "avg= pd.read_sql_query(query, con=engine)\n",
    "avg"
   ]
  },
  {
   "cell_type": "markdown",
   "metadata": {
    "id": "EQ0dcFH4DWK5"
   },
   "source": [
    "# Задание 6"
   ]
  },
  {
   "cell_type": "markdown",
   "metadata": {
    "id": "c7flfg_hDWK5"
   },
   "source": [
    "Сколько в среднем дней в период с 1 по 7 декабря 2008 года пользователи взаимодействовали с платформой? Для каждого пользователя отберите дни, в которые он или она опубликовали хотя бы один пост. Нужно получить одно целое число — не забудьте округлить результат. "
   ]
  },
  {
   "cell_type": "markdown",
   "metadata": {
    "id": "RC1Ibzm9DWK6"
   },
   "source": [
    "| result |\n",
    "| -----  |\n",
    "| <целое число> |"
   ]
  },
  {
   "cell_type": "code",
   "execution_count": 12,
   "metadata": {
    "id": "kZ7LXTr6DWK6"
   },
   "outputs": [
    {
     "data": {
      "text/html": [
       "<div>\n",
       "<style scoped>\n",
       "    .dataframe tbody tr th:only-of-type {\n",
       "        vertical-align: middle;\n",
       "    }\n",
       "\n",
       "    .dataframe tbody tr th {\n",
       "        vertical-align: top;\n",
       "    }\n",
       "\n",
       "    .dataframe thead th {\n",
       "        text-align: right;\n",
       "    }\n",
       "</style>\n",
       "<table border=\"1\" class=\"dataframe\">\n",
       "  <thead>\n",
       "    <tr style=\"text-align: right;\">\n",
       "      <th></th>\n",
       "      <th>result</th>\n",
       "    </tr>\n",
       "  </thead>\n",
       "  <tbody>\n",
       "    <tr>\n",
       "      <th>0</th>\n",
       "      <td>2</td>\n",
       "    </tr>\n",
       "  </tbody>\n",
       "</table>\n",
       "</div>"
      ],
      "text/plain": [
       "   result\n",
       "0       2"
      ]
     },
     "execution_count": 12,
     "metadata": {},
     "output_type": "execute_result"
    }
   ],
   "source": [
    "# напишите запрос\n",
    "query = '''\n",
    "WITH cnt_days AS (\n",
    "    SELECT user_id,\n",
    "           COUNT (DISTINCT DATE_TRUNC('day', creation_date)::date) AS cnt\n",
    "    FROM stackoverflow.posts\n",
    "    WHERE DATE(creation_date) BETWEEN '2008-12-01' AND '2008-12-07'\n",
    "    GROUP BY user_id)\n",
    "SELECT AVG(cnt)::int AS result\n",
    "FROM cnt_days\n",
    "'''\n",
    "# выполните запрос\n",
    "days= pd.read_sql_query(query, con=engine)\n",
    "days"
   ]
  },
  {
   "cell_type": "markdown",
   "metadata": {
    "id": "UJFtNNggDWK7"
   },
   "source": [
    "Проанализируйте итоговую таблицу — какие выводы можно сделать?"
   ]
  },
  {
   "cell_type": "markdown",
   "metadata": {},
   "source": [
    "В период с 1 по 7 декабря 2008 года пользователи взаимодействовали с платформой в среднем 2 дня."
   ]
  },
  {
   "cell_type": "markdown",
   "metadata": {
    "id": "wfOmqmfLDWK8"
   },
   "source": [
    "# Задание 7"
   ]
  },
  {
   "cell_type": "markdown",
   "metadata": {
    "id": "X4ARQimADWK9"
   },
   "source": [
    "Выведите историю активности каждого пользователя в таком виде: идентификатор пользователя, дата публикации поста. Отсортируйте вывод по возрастанию идентификаторов пользователей, а для каждого пользователя — по возрастанию даты публикации.\n",
    "\n",
    "Добавьте в таблицу новое поле: для каждого поста в нём будет указано название месяца предпоследней публикации пользователя относительно текущей. Если такой публикации нет, укажите `NULL`.  Python автоматически поменяет `NULL` на `None`, но дополнительно преобразовывать значения `None` вам не нужно.\n",
    "\n",
    "Посмотрите внимательно на образец таблицы: для первых двух постов предпоследней публикации нет, но, начиная с третьего поста, в новое поле входит нужный месяц. Для следующего пользователя в первые две записи поля `second_last_month` тоже войдёт `NULL`."
   ]
  },
  {
   "cell_type": "markdown",
   "metadata": {
    "id": "IGPjRP01DWK9"
   },
   "source": [
    "| user_id | creation_date | second_last_month |\n",
    "| ------- | ------------- | ----------------- |\n",
    "| 1       | 2008-07-31 23:41:00 | None |\n",
    "| 1       | 2008-07-31 23:55:38 | None |\n",
    "| 1       | 2008-07-31 23:56:41 | July |\n",
    "| 1       | 2008-08-04 02:45:08 | July |\n",
    "| 1       | 2008-08-04 04:31:03 | July |\n",
    "| 1       | 2008-08-04 08:04:42 | August |\n",
    "| ... | ... | ... |"
   ]
  },
  {
   "cell_type": "code",
   "execution_count": 13,
   "metadata": {
    "id": "HzI1vhaMDWK-"
   },
   "outputs": [
    {
     "data": {
      "text/html": [
       "<div>\n",
       "<style scoped>\n",
       "    .dataframe tbody tr th:only-of-type {\n",
       "        vertical-align: middle;\n",
       "    }\n",
       "\n",
       "    .dataframe tbody tr th {\n",
       "        vertical-align: top;\n",
       "    }\n",
       "\n",
       "    .dataframe thead th {\n",
       "        text-align: right;\n",
       "    }\n",
       "</style>\n",
       "<table border=\"1\" class=\"dataframe\">\n",
       "  <thead>\n",
       "    <tr style=\"text-align: right;\">\n",
       "      <th></th>\n",
       "      <th>user_id</th>\n",
       "      <th>creation_date</th>\n",
       "      <th>second_last_month</th>\n",
       "    </tr>\n",
       "  </thead>\n",
       "  <tbody>\n",
       "    <tr>\n",
       "      <th>0</th>\n",
       "      <td>1</td>\n",
       "      <td>2008-07-31 23:41:00</td>\n",
       "      <td>None</td>\n",
       "    </tr>\n",
       "    <tr>\n",
       "      <th>1</th>\n",
       "      <td>1</td>\n",
       "      <td>2008-07-31 23:55:38</td>\n",
       "      <td>None</td>\n",
       "    </tr>\n",
       "    <tr>\n",
       "      <th>2</th>\n",
       "      <td>1</td>\n",
       "      <td>2008-07-31 23:56:41</td>\n",
       "      <td>July</td>\n",
       "    </tr>\n",
       "    <tr>\n",
       "      <th>3</th>\n",
       "      <td>1</td>\n",
       "      <td>2008-08-04 02:45:08</td>\n",
       "      <td>July</td>\n",
       "    </tr>\n",
       "    <tr>\n",
       "      <th>4</th>\n",
       "      <td>1</td>\n",
       "      <td>2008-08-04 04:31:03</td>\n",
       "      <td>July</td>\n",
       "    </tr>\n",
       "    <tr>\n",
       "      <th>...</th>\n",
       "      <td>...</td>\n",
       "      <td>...</td>\n",
       "      <td>...</td>\n",
       "    </tr>\n",
       "    <tr>\n",
       "      <th>243791</th>\n",
       "      <td>5696608</td>\n",
       "      <td>2008-12-23 16:00:37</td>\n",
       "      <td>December</td>\n",
       "    </tr>\n",
       "    <tr>\n",
       "      <th>243792</th>\n",
       "      <td>5696608</td>\n",
       "      <td>2008-12-23 17:35:09</td>\n",
       "      <td>December</td>\n",
       "    </tr>\n",
       "    <tr>\n",
       "      <th>243793</th>\n",
       "      <td>5696608</td>\n",
       "      <td>2008-12-24 01:02:48</td>\n",
       "      <td>December</td>\n",
       "    </tr>\n",
       "    <tr>\n",
       "      <th>243794</th>\n",
       "      <td>5696608</td>\n",
       "      <td>2008-12-30 14:34:45</td>\n",
       "      <td>December</td>\n",
       "    </tr>\n",
       "    <tr>\n",
       "      <th>243795</th>\n",
       "      <td>5696608</td>\n",
       "      <td>2008-12-30 16:32:12</td>\n",
       "      <td>December</td>\n",
       "    </tr>\n",
       "  </tbody>\n",
       "</table>\n",
       "<p>243796 rows × 3 columns</p>\n",
       "</div>"
      ],
      "text/plain": [
       "        user_id       creation_date second_last_month\n",
       "0             1 2008-07-31 23:41:00              None\n",
       "1             1 2008-07-31 23:55:38              None\n",
       "2             1 2008-07-31 23:56:41         July     \n",
       "3             1 2008-08-04 02:45:08         July     \n",
       "4             1 2008-08-04 04:31:03         July     \n",
       "...         ...                 ...               ...\n",
       "243791  5696608 2008-12-23 16:00:37         December \n",
       "243792  5696608 2008-12-23 17:35:09         December \n",
       "243793  5696608 2008-12-24 01:02:48         December \n",
       "243794  5696608 2008-12-30 14:34:45         December \n",
       "243795  5696608 2008-12-30 16:32:12         December \n",
       "\n",
       "[243796 rows x 3 columns]"
      ]
     },
     "execution_count": 13,
     "metadata": {},
     "output_type": "execute_result"
    }
   ],
   "source": [
    "# напишите запрос\n",
    "query = '''\n",
    "SELECT user_id,\n",
    "       creation_date,\n",
    "       TO_CHAR(LAG(creation_date, 2, NULL) OVER (PARTITION BY user_id ORDER BY creation_date), 'Month') AS second_last_month\n",
    "FROM stackoverflow.posts\n",
    "'''\n",
    "# выполните запрос\n",
    "lag= pd.read_sql_query(query, con=engine)\n",
    "lag"
   ]
  },
  {
   "cell_type": "markdown",
   "metadata": {
    "id": "tf9qq2yzDWK_"
   },
   "source": [
    "# Задание 8"
   ]
  },
  {
   "cell_type": "markdown",
   "metadata": {
    "id": "gfwLVXBYDWLA"
   },
   "source": [
    "Рассчитайте аналог Retention Rate по месяцам для пользователей StackOverflow. Объедините пользователей в когорты по месяцу их первого поста. Возвращение определяйте по наличию поста в текущем месяце. "
   ]
  },
  {
   "cell_type": "markdown",
   "metadata": {
    "id": "kN2ic39WlKpl"
   },
   "source": [
    "| cohort_dt | session_date | users_cnt | cohort_users_cnt | retention_rate |\n",
    "| --- | --- | --- | --- | --- |\n",
    "| 2008-07-01 00:00:00 | 2008-07-01 00:00:00 | 3 | 3 | 100 |\n",
    "| 2008-07-01 00:00:00 | 2008-08-01 00:00:00 | 2 | 3 | 66,67 |\n",
    "| 2008-07-01 00:00:00 | 2008-09-01 00:00:00 | 1 | 3 | 33,33 |\n",
    "| 2008-07-01 00:00:00 | 2008-10-01 00:00:00 | 2 | 3 | 66,67 |\n",
    "| 2008-07-01 00:00:00 | 2008-11-01 00:00:00 | 1 | 3 | 33,33 |\n",
    "| 2008-07-01 00:00:00 | 2008-12-01 00:00:00 | 2 | 3 | 66,67 |\n",
    "| 2008-08-01 00:00:00 | 2008-08-01 00:00:00 | 2151 | 2151 | 100 |\n",
    "| ... | ... | ... | ... | ... |"
   ]
  },
  {
   "cell_type": "code",
   "execution_count": 14,
   "metadata": {
    "id": "LUgFmwmTDWLB"
   },
   "outputs": [
    {
     "data": {
      "text/html": [
       "<div>\n",
       "<style scoped>\n",
       "    .dataframe tbody tr th:only-of-type {\n",
       "        vertical-align: middle;\n",
       "    }\n",
       "\n",
       "    .dataframe tbody tr th {\n",
       "        vertical-align: top;\n",
       "    }\n",
       "\n",
       "    .dataframe thead th {\n",
       "        text-align: right;\n",
       "    }\n",
       "</style>\n",
       "<table border=\"1\" class=\"dataframe\">\n",
       "  <thead>\n",
       "    <tr style=\"text-align: right;\">\n",
       "      <th></th>\n",
       "      <th>cohort_dt</th>\n",
       "      <th>session_date</th>\n",
       "      <th>users_cnt</th>\n",
       "      <th>cohort_users_cnt</th>\n",
       "      <th>retention_rate</th>\n",
       "    </tr>\n",
       "  </thead>\n",
       "  <tbody>\n",
       "    <tr>\n",
       "      <th>0</th>\n",
       "      <td>2008-07-01</td>\n",
       "      <td>2008-07-01</td>\n",
       "      <td>3</td>\n",
       "      <td>3</td>\n",
       "      <td>100.00</td>\n",
       "    </tr>\n",
       "    <tr>\n",
       "      <th>1</th>\n",
       "      <td>2008-07-01</td>\n",
       "      <td>2008-08-01</td>\n",
       "      <td>2</td>\n",
       "      <td>3</td>\n",
       "      <td>66.67</td>\n",
       "    </tr>\n",
       "    <tr>\n",
       "      <th>2</th>\n",
       "      <td>2008-07-01</td>\n",
       "      <td>2008-09-01</td>\n",
       "      <td>1</td>\n",
       "      <td>3</td>\n",
       "      <td>33.33</td>\n",
       "    </tr>\n",
       "    <tr>\n",
       "      <th>3</th>\n",
       "      <td>2008-07-01</td>\n",
       "      <td>2008-10-01</td>\n",
       "      <td>2</td>\n",
       "      <td>3</td>\n",
       "      <td>66.67</td>\n",
       "    </tr>\n",
       "    <tr>\n",
       "      <th>4</th>\n",
       "      <td>2008-07-01</td>\n",
       "      <td>2008-11-01</td>\n",
       "      <td>1</td>\n",
       "      <td>3</td>\n",
       "      <td>33.33</td>\n",
       "    </tr>\n",
       "    <tr>\n",
       "      <th>5</th>\n",
       "      <td>2008-07-01</td>\n",
       "      <td>2008-12-01</td>\n",
       "      <td>2</td>\n",
       "      <td>3</td>\n",
       "      <td>66.67</td>\n",
       "    </tr>\n",
       "    <tr>\n",
       "      <th>6</th>\n",
       "      <td>2008-08-01</td>\n",
       "      <td>2008-08-01</td>\n",
       "      <td>2151</td>\n",
       "      <td>2151</td>\n",
       "      <td>100.00</td>\n",
       "    </tr>\n",
       "    <tr>\n",
       "      <th>7</th>\n",
       "      <td>2008-08-01</td>\n",
       "      <td>2008-09-01</td>\n",
       "      <td>1571</td>\n",
       "      <td>2151</td>\n",
       "      <td>73.04</td>\n",
       "    </tr>\n",
       "    <tr>\n",
       "      <th>8</th>\n",
       "      <td>2008-08-01</td>\n",
       "      <td>2008-10-01</td>\n",
       "      <td>1275</td>\n",
       "      <td>2151</td>\n",
       "      <td>59.27</td>\n",
       "    </tr>\n",
       "    <tr>\n",
       "      <th>9</th>\n",
       "      <td>2008-08-01</td>\n",
       "      <td>2008-11-01</td>\n",
       "      <td>1050</td>\n",
       "      <td>2151</td>\n",
       "      <td>48.81</td>\n",
       "    </tr>\n",
       "    <tr>\n",
       "      <th>10</th>\n",
       "      <td>2008-08-01</td>\n",
       "      <td>2008-12-01</td>\n",
       "      <td>894</td>\n",
       "      <td>2151</td>\n",
       "      <td>41.56</td>\n",
       "    </tr>\n",
       "    <tr>\n",
       "      <th>11</th>\n",
       "      <td>2008-09-01</td>\n",
       "      <td>2008-09-01</td>\n",
       "      <td>7678</td>\n",
       "      <td>7678</td>\n",
       "      <td>100.00</td>\n",
       "    </tr>\n",
       "    <tr>\n",
       "      <th>12</th>\n",
       "      <td>2008-09-01</td>\n",
       "      <td>2008-10-01</td>\n",
       "      <td>4132</td>\n",
       "      <td>7678</td>\n",
       "      <td>53.82</td>\n",
       "    </tr>\n",
       "    <tr>\n",
       "      <th>13</th>\n",
       "      <td>2008-09-01</td>\n",
       "      <td>2008-11-01</td>\n",
       "      <td>2966</td>\n",
       "      <td>7678</td>\n",
       "      <td>38.63</td>\n",
       "    </tr>\n",
       "    <tr>\n",
       "      <th>14</th>\n",
       "      <td>2008-09-01</td>\n",
       "      <td>2008-12-01</td>\n",
       "      <td>2500</td>\n",
       "      <td>7678</td>\n",
       "      <td>32.56</td>\n",
       "    </tr>\n",
       "    <tr>\n",
       "      <th>15</th>\n",
       "      <td>2008-10-01</td>\n",
       "      <td>2008-10-01</td>\n",
       "      <td>3629</td>\n",
       "      <td>3629</td>\n",
       "      <td>100.00</td>\n",
       "    </tr>\n",
       "    <tr>\n",
       "      <th>16</th>\n",
       "      <td>2008-10-01</td>\n",
       "      <td>2008-11-01</td>\n",
       "      <td>1640</td>\n",
       "      <td>3629</td>\n",
       "      <td>45.19</td>\n",
       "    </tr>\n",
       "    <tr>\n",
       "      <th>17</th>\n",
       "      <td>2008-10-01</td>\n",
       "      <td>2008-12-01</td>\n",
       "      <td>1221</td>\n",
       "      <td>3629</td>\n",
       "      <td>33.65</td>\n",
       "    </tr>\n",
       "    <tr>\n",
       "      <th>18</th>\n",
       "      <td>2008-11-01</td>\n",
       "      <td>2008-11-01</td>\n",
       "      <td>2852</td>\n",
       "      <td>2852</td>\n",
       "      <td>100.00</td>\n",
       "    </tr>\n",
       "    <tr>\n",
       "      <th>19</th>\n",
       "      <td>2008-11-01</td>\n",
       "      <td>2008-12-01</td>\n",
       "      <td>1151</td>\n",
       "      <td>2852</td>\n",
       "      <td>40.36</td>\n",
       "    </tr>\n",
       "    <tr>\n",
       "      <th>20</th>\n",
       "      <td>2008-12-01</td>\n",
       "      <td>2008-12-01</td>\n",
       "      <td>2536</td>\n",
       "      <td>2536</td>\n",
       "      <td>100.00</td>\n",
       "    </tr>\n",
       "  </tbody>\n",
       "</table>\n",
       "</div>"
      ],
      "text/plain": [
       "    cohort_dt session_date  users_cnt  cohort_users_cnt  retention_rate\n",
       "0  2008-07-01   2008-07-01          3                 3          100.00\n",
       "1  2008-07-01   2008-08-01          2                 3           66.67\n",
       "2  2008-07-01   2008-09-01          1                 3           33.33\n",
       "3  2008-07-01   2008-10-01          2                 3           66.67\n",
       "4  2008-07-01   2008-11-01          1                 3           33.33\n",
       "5  2008-07-01   2008-12-01          2                 3           66.67\n",
       "6  2008-08-01   2008-08-01       2151              2151          100.00\n",
       "7  2008-08-01   2008-09-01       1571              2151           73.04\n",
       "8  2008-08-01   2008-10-01       1275              2151           59.27\n",
       "9  2008-08-01   2008-11-01       1050              2151           48.81\n",
       "10 2008-08-01   2008-12-01        894              2151           41.56\n",
       "11 2008-09-01   2008-09-01       7678              7678          100.00\n",
       "12 2008-09-01   2008-10-01       4132              7678           53.82\n",
       "13 2008-09-01   2008-11-01       2966              7678           38.63\n",
       "14 2008-09-01   2008-12-01       2500              7678           32.56\n",
       "15 2008-10-01   2008-10-01       3629              3629          100.00\n",
       "16 2008-10-01   2008-11-01       1640              3629           45.19\n",
       "17 2008-10-01   2008-12-01       1221              3629           33.65\n",
       "18 2008-11-01   2008-11-01       2852              2852          100.00\n",
       "19 2008-11-01   2008-12-01       1151              2852           40.36\n",
       "20 2008-12-01   2008-12-01       2536              2536          100.00"
      ]
     },
     "execution_count": 14,
     "metadata": {},
     "output_type": "execute_result"
    }
   ],
   "source": [
    "# напишите запрос\n",
    "query = '''\n",
    "WITH profile AS\n",
    "    (SELECT user_id,\n",
    "            DATE_TRUNC('month', MIN(creation_date)) AS cohort_dt,\n",
    "            COUNT(*) OVER (PARTITION BY DATE_TRUNC('month', MIN(creation_date))) AS cohort_users_cnt\n",
    "     FROM stackoverflow.posts\n",
    "     GROUP BY 1),\n",
    "sessions AS \n",
    "    (SELECT user_id,\n",
    "            DATE_TRUNC('month', creation_date) AS session_date\n",
    "     FROM stackoverflow.posts\n",
    "     GROUP BY 1,\n",
    "              2)\n",
    "SELECT cohort_dt,\n",
    "       session_date,\n",
    "       COUNT(p.user_id) AS users_cnt,\n",
    "       cohort_users_cnt,\n",
    "       ROUND(COUNT(p.user_id)*100.0/cohort_users_cnt, 2) AS retention_rate\n",
    "FROM profile AS p\n",
    "JOIN sessions AS s ON p.user_id = s.user_id\n",
    "GROUP BY 1,\n",
    "         2,\n",
    "         4\n",
    "'''\n",
    "# выполните запрос\n",
    "rt= pd.read_sql_query(query, con=engine)\n",
    "rt"
   ]
  },
  {
   "cell_type": "markdown",
   "metadata": {
    "id": "_msBtnb2DWLC"
   },
   "source": [
    "Постройте тепловую карту Retention Rate. Какие аномалии или другие необычные явления удалось выявить? Сформулируйте гипотезы о возможных причинах."
   ]
  },
  {
   "cell_type": "code",
   "execution_count": 15,
   "metadata": {
    "id": "qAEJc8H1DWLC"
   },
   "outputs": [
    {
     "data": {
      "image/png": "[encoded data removed]",
      "text/plain": [
       "<Figure size 720x720 with 2 Axes>"
      ]
     },
     "metadata": {
      "needs_background": "light"
     },
     "output_type": "display_data"
    }
   ],
   "source": [
    "retention = rt.pivot('cohort_dt', 'session_date', 'retention_rate')# постройте тепловую карту Retention Rate\n",
    "retention.index = [str(x)[0:10] for x in retention.index]\n",
    "retention.columns = [str(x)[0:10] for x in retention.columns]\n",
    "\n",
    "plt.figure(figsize=(10, 10)) \n",
    "sns.heatmap(retention, \n",
    "            annot=True, \n",
    "            fmt='').set(xlabel='session_date', ylabel='cohort_dt')\n",
    "plt.title('Тепловая карта') \n",
    "plt.show() "
   ]
  },
  {
   "cell_type": "code",
   "execution_count": 16,
   "metadata": {
    "id": "EgOfIsI4DWLC"
   },
   "outputs": [],
   "source": [
    "# опишите аномалии или другие необычные явления и сформулируйте гипотезы"
   ]
  },
  {
   "cell_type": "markdown",
   "metadata": {},
   "source": [
    "Удержание когорты от июля 2008 года в некоторые дни растет, в отличие от остальных когорт. Здесь это может быть нормой, так как пользователей в этой когорте очень мало, а они могут возвращаться в сервис, писать посты. Чтобы убедиться в этом, можно посмотреть посты пользователей этой когорты."
   ]
  },
  {
   "cell_type": "markdown",
   "metadata": {
    "id": "1k7oPWt5DWLK"
   },
   "source": [
    "# Задание 9\n"
   ]
  },
  {
   "cell_type": "markdown",
   "metadata": {
    "id": "ALsYVSyRDWLM"
   },
   "source": [
    "На сколько процентов менялось количество постов ежемесячно с 1 сентября по 31 декабря 2008 года? Отобразите таблицу со следующими полями:\n",
    "\n",
    "- номер месяца;\n",
    "- количество постов за месяц;\n",
    "- процент, который показывает, насколько изменилось количество постов в текущем месяце по сравнению с предыдущим.\n",
    "\n",
    "Если постов стало меньше, значение процента должно быть отрицательным, если больше — положительным. Округлите значение процента до двух знаков после запятой.\n",
    "\n",
    "Напомним, что при делении одного целого числа на другое в PostgreSQL в результате получится целое число, округлённое до ближайшего целого вниз. Чтобы этого избежать, переведите делимое в тип `numeric`."
   ]
  },
  {
   "cell_type": "markdown",
   "metadata": {
    "id": "u4E2zF8DDWLM"
   },
   "source": [
    "| creation_month | posts_count | percentage |\n",
    "| -------------- | ----------- | ---------- |\n",
    "| 9 | 70731 | Nan |\n",
    "| 10 | 63102 | -10.33 |\n",
    "| ... | ... | ... |"
   ]
  },
  {
   "cell_type": "code",
   "execution_count": 17,
   "metadata": {
    "id": "Mb5pShStDWLN"
   },
   "outputs": [
    {
     "data": {
      "text/html": [
       "<div>\n",
       "<style scoped>\n",
       "    .dataframe tbody tr th:only-of-type {\n",
       "        vertical-align: middle;\n",
       "    }\n",
       "\n",
       "    .dataframe tbody tr th {\n",
       "        vertical-align: top;\n",
       "    }\n",
       "\n",
       "    .dataframe thead th {\n",
       "        text-align: right;\n",
       "    }\n",
       "</style>\n",
       "<table border=\"1\" class=\"dataframe\">\n",
       "  <thead>\n",
       "    <tr style=\"text-align: right;\">\n",
       "      <th></th>\n",
       "      <th>creation_month</th>\n",
       "      <th>posts_count</th>\n",
       "      <th>percentage</th>\n",
       "    </tr>\n",
       "  </thead>\n",
       "  <tbody>\n",
       "    <tr>\n",
       "      <th>0</th>\n",
       "      <td>9</td>\n",
       "      <td>70371</td>\n",
       "      <td>NaN</td>\n",
       "    </tr>\n",
       "    <tr>\n",
       "      <th>1</th>\n",
       "      <td>10</td>\n",
       "      <td>63102</td>\n",
       "      <td>-10.33</td>\n",
       "    </tr>\n",
       "    <tr>\n",
       "      <th>2</th>\n",
       "      <td>11</td>\n",
       "      <td>46975</td>\n",
       "      <td>-25.56</td>\n",
       "    </tr>\n",
       "    <tr>\n",
       "      <th>3</th>\n",
       "      <td>12</td>\n",
       "      <td>44592</td>\n",
       "      <td>-5.07</td>\n",
       "    </tr>\n",
       "  </tbody>\n",
       "</table>\n",
       "</div>"
      ],
      "text/plain": [
       "   creation_month  posts_count  percentage\n",
       "0               9        70371         NaN\n",
       "1              10        63102      -10.33\n",
       "2              11        46975      -25.56\n",
       "3              12        44592       -5.07"
      ]
     },
     "execution_count": 17,
     "metadata": {},
     "output_type": "execute_result"
    }
   ],
   "source": [
    "# напишите запрос\n",
    "query = '''\n",
    "WITH cnt AS\n",
    "    (SELECT EXTRACT('MONTH' FROM creation_date)::int AS creation_month,\n",
    "            COUNT(id) AS posts_count\n",
    "     FROM stackoverflow.posts\n",
    "     WHERE DATE(creation_date) BETWEEN '2008-09-01' AND '2008-12-31'\n",
    "     GROUP BY creation_month)\n",
    "SELECT *,\n",
    "       ROUND(((posts_count::numeric/LAG(posts_count) OVER (ORDER BY creation_month)) - 1) * 100, 2) AS percentage\n",
    "FROM cnt\n",
    "'''\n",
    "# выполните запрос\n",
    "perc= pd.read_sql_query(query, con=engine)\n",
    "perc"
   ]
  },
  {
   "cell_type": "markdown",
   "metadata": {
    "id": "9NQE2y_MDWLP"
   },
   "source": [
    "Постройте круговую диаграмму с количеством постов по месяцам."
   ]
  },
  {
   "cell_type": "code",
   "execution_count": 18,
   "metadata": {
    "id": "377ABjiVDWLP"
   },
   "outputs": [
    {
     "data": {
      "image/png": "[encoded data removed]",
      "text/plain": [
       "<Figure size 720x504 with 1 Axes>"
      ]
     },
     "metadata": {},
     "output_type": "display_data"
    }
   ],
   "source": [
    "# постройте круговую диаграмму с количеством постов по месяцам\n",
    "df['month'] = perc['creation_month'].apply(lambda x: calendar.month_abbr[x])\n",
    "plt.subplots(figsize=(10, 7))\n",
    "plt.pie(perc['posts_count'],autopct='%1.2f%%')\n",
    "plt.legend(labels = df['month'])\n",
    "plt.title('Распределение постов по месяцам');"
   ]
  },
  {
   "cell_type": "markdown",
   "metadata": {
    "id": "uw7qMtafDWLP"
   },
   "source": [
    "# Задание 10"
   ]
  },
  {
   "cell_type": "markdown",
   "metadata": {
    "id": "oRBpWKx3DWLQ"
   },
   "source": [
    "Выгрузите данные активности пользователя, который опубликовал больше всего постов за всё время. Выведите данные за октябрь 2008 года в таком виде:\n",
    "\n",
    "- номер недели;\n",
    "- дата и время последнего поста, опубликованного на этой неделе."
   ]
  },
  {
   "cell_type": "markdown",
   "metadata": {
    "id": "XjAWSn_3DWLQ"
   },
   "source": [
    "| week_creation | creation_date |\n",
    "| ------------- | ------------- |\n",
    "| 40 | 2008-10-05 09:00:58 |\n",
    "| 41 | 2008-10-12 21:22:23 |\n",
    "| ... | ... |"
   ]
  },
  {
   "cell_type": "code",
   "execution_count": 19,
   "metadata": {
    "id": "r5F5fSkwDWLQ"
   },
   "outputs": [
    {
     "data": {
      "text/html": [
       "<div>\n",
       "<style scoped>\n",
       "    .dataframe tbody tr th:only-of-type {\n",
       "        vertical-align: middle;\n",
       "    }\n",
       "\n",
       "    .dataframe tbody tr th {\n",
       "        vertical-align: top;\n",
       "    }\n",
       "\n",
       "    .dataframe thead th {\n",
       "        text-align: right;\n",
       "    }\n",
       "</style>\n",
       "<table border=\"1\" class=\"dataframe\">\n",
       "  <thead>\n",
       "    <tr style=\"text-align: right;\">\n",
       "      <th></th>\n",
       "      <th>week_creation</th>\n",
       "      <th>creation_date</th>\n",
       "    </tr>\n",
       "  </thead>\n",
       "  <tbody>\n",
       "    <tr>\n",
       "      <th>0</th>\n",
       "      <td>40</td>\n",
       "      <td>2008-10-05 09:00:58</td>\n",
       "    </tr>\n",
       "    <tr>\n",
       "      <th>1</th>\n",
       "      <td>41</td>\n",
       "      <td>2008-10-12 21:22:23</td>\n",
       "    </tr>\n",
       "    <tr>\n",
       "      <th>2</th>\n",
       "      <td>42</td>\n",
       "      <td>2008-10-19 06:49:30</td>\n",
       "    </tr>\n",
       "    <tr>\n",
       "      <th>3</th>\n",
       "      <td>43</td>\n",
       "      <td>2008-10-26 21:44:36</td>\n",
       "    </tr>\n",
       "    <tr>\n",
       "      <th>4</th>\n",
       "      <td>44</td>\n",
       "      <td>2008-10-31 22:16:01</td>\n",
       "    </tr>\n",
       "  </tbody>\n",
       "</table>\n",
       "</div>"
      ],
      "text/plain": [
       "   week_creation       creation_date\n",
       "0             40 2008-10-05 09:00:58\n",
       "1             41 2008-10-12 21:22:23\n",
       "2             42 2008-10-19 06:49:30\n",
       "3             43 2008-10-26 21:44:36\n",
       "4             44 2008-10-31 22:16:01"
      ]
     },
     "execution_count": 19,
     "metadata": {},
     "output_type": "execute_result"
    }
   ],
   "source": [
    "# напишите запрос\n",
    "query = '''\n",
    "WITH cnt AS (\n",
    "    SELECT user_id,\n",
    "           COUNT(id) AS cnt\n",
    "    FROM stackoverflow.posts\n",
    "    GROUP BY user_id\n",
    "    ORDER BY cnt DESC\n",
    "    LIMIT 1)\n",
    "SELECT EXTRACT('WEEK' FROM creation_date)::int AS week_creation,\n",
    "       MAX(creation_date) AS creation_date\n",
    "FROM stackoverflow.posts AS p\n",
    "JOIN cnt AS c ON p.user_id = c.user_id\n",
    "WHERE DATE(creation_date) BETWEEN '2008-10-01' AND '2008-10-31'\n",
    "GROUP BY week_creation\n",
    "'''\n",
    "# выполните запрос\n",
    "user_max= pd.read_sql_query(query, con=engine)\n",
    "user_max"
   ]
  }
 ],
 "metadata": {
  "ExecuteTimeLog": [
   {
    "duration": 7,
    "start_time": "2023-01-13T17:26:02.326Z"
   },
   {
    "duration": 44,
    "start_time": "2023-01-13T17:26:46.001Z"
   },
   {
    "duration": 836,
    "start_time": "2023-01-13T17:26:54.382Z"
   },
   {
    "duration": 3,
    "start_time": "2023-01-13T17:26:55.220Z"
   },
   {
    "duration": 8327,
    "start_time": "2023-01-13T17:26:55.224Z"
   },
   {
    "duration": 43,
    "start_time": "2023-01-13T17:27:03.553Z"
   },
   {
    "duration": 14,
    "start_time": "2023-01-13T17:27:03.597Z"
   },
   {
    "duration": 156,
    "start_time": "2023-01-13T17:27:03.612Z"
   },
   {
    "duration": 0,
    "start_time": "2023-01-13T17:27:03.769Z"
   },
   {
    "duration": 0,
    "start_time": "2023-01-13T17:27:03.771Z"
   },
   {
    "duration": 0,
    "start_time": "2023-01-13T17:27:03.771Z"
   },
   {
    "duration": 0,
    "start_time": "2023-01-13T17:27:03.772Z"
   },
   {
    "duration": 0,
    "start_time": "2023-01-13T17:27:03.774Z"
   },
   {
    "duration": 0,
    "start_time": "2023-01-13T17:27:03.774Z"
   },
   {
    "duration": 0,
    "start_time": "2023-01-13T17:27:03.775Z"
   },
   {
    "duration": 0,
    "start_time": "2023-01-13T17:27:03.776Z"
   },
   {
    "duration": 0,
    "start_time": "2023-01-13T17:27:03.777Z"
   },
   {
    "duration": 1,
    "start_time": "2023-01-13T17:27:03.777Z"
   },
   {
    "duration": 0,
    "start_time": "2023-01-13T17:27:03.778Z"
   },
   {
    "duration": 0,
    "start_time": "2023-01-13T17:27:03.779Z"
   },
   {
    "duration": 0,
    "start_time": "2023-01-13T17:27:03.780Z"
   },
   {
    "duration": 0,
    "start_time": "2023-01-13T17:27:03.781Z"
   },
   {
    "duration": 0,
    "start_time": "2023-01-13T17:27:03.783Z"
   },
   {
    "duration": 0,
    "start_time": "2023-01-13T17:27:03.783Z"
   },
   {
    "duration": 104,
    "start_time": "2023-01-13T17:27:55.160Z"
   },
   {
    "duration": 106,
    "start_time": "2023-01-13T17:28:10.658Z"
   },
   {
    "duration": 18,
    "start_time": "2023-01-13T17:28:52.926Z"
   },
   {
    "duration": 22,
    "start_time": "2023-01-13T17:29:29.423Z"
   },
   {
    "duration": 45,
    "start_time": "2023-01-16T06:05:40.244Z"
   },
   {
    "duration": 819,
    "start_time": "2023-01-16T06:05:46.820Z"
   },
   {
    "duration": 3,
    "start_time": "2023-01-16T06:05:47.641Z"
   },
   {
    "duration": 4904,
    "start_time": "2023-01-16T06:05:47.645Z"
   },
   {
    "duration": 215,
    "start_time": "2023-01-16T06:05:52.550Z"
   },
   {
    "duration": 14,
    "start_time": "2023-01-16T06:05:52.767Z"
   },
   {
    "duration": 49,
    "start_time": "2023-01-16T06:05:52.783Z"
   },
   {
    "duration": 2,
    "start_time": "2023-01-16T06:05:52.833Z"
   },
   {
    "duration": 165,
    "start_time": "2023-01-16T06:05:52.837Z"
   },
   {
    "duration": 0,
    "start_time": "2023-01-16T06:05:53.004Z"
   },
   {
    "duration": 0,
    "start_time": "2023-01-16T06:05:53.005Z"
   },
   {
    "duration": 0,
    "start_time": "2023-01-16T06:05:53.006Z"
   },
   {
    "duration": 0,
    "start_time": "2023-01-16T06:05:53.007Z"
   },
   {
    "duration": 0,
    "start_time": "2023-01-16T06:05:53.008Z"
   },
   {
    "duration": 0,
    "start_time": "2023-01-16T06:05:53.009Z"
   },
   {
    "duration": 0,
    "start_time": "2023-01-16T06:05:53.010Z"
   },
   {
    "duration": 0,
    "start_time": "2023-01-16T06:05:53.011Z"
   },
   {
    "duration": 0,
    "start_time": "2023-01-16T06:05:53.012Z"
   },
   {
    "duration": 0,
    "start_time": "2023-01-16T06:05:53.013Z"
   },
   {
    "duration": 0,
    "start_time": "2023-01-16T06:05:53.015Z"
   },
   {
    "duration": 0,
    "start_time": "2023-01-16T06:05:53.016Z"
   },
   {
    "duration": 0,
    "start_time": "2023-01-16T06:05:53.017Z"
   },
   {
    "duration": 0,
    "start_time": "2023-01-16T06:05:53.019Z"
   },
   {
    "duration": 113,
    "start_time": "2023-01-16T06:18:31.162Z"
   },
   {
    "duration": 731,
    "start_time": "2023-01-16T06:42:28.999Z"
   },
   {
    "duration": 3,
    "start_time": "2023-01-16T06:42:29.732Z"
   },
   {
    "duration": 6092,
    "start_time": "2023-01-16T06:42:29.737Z"
   },
   {
    "duration": 217,
    "start_time": "2023-01-16T06:42:35.832Z"
   },
   {
    "duration": 13,
    "start_time": "2023-01-16T06:42:36.051Z"
   },
   {
    "duration": 53,
    "start_time": "2023-01-16T06:42:36.066Z"
   },
   {
    "duration": 3,
    "start_time": "2023-01-16T06:42:36.121Z"
   },
   {
    "duration": 185,
    "start_time": "2023-01-16T06:42:36.125Z"
   },
   {
    "duration": 0,
    "start_time": "2023-01-16T06:42:36.312Z"
   },
   {
    "duration": 0,
    "start_time": "2023-01-16T06:42:36.314Z"
   },
   {
    "duration": 0,
    "start_time": "2023-01-16T06:42:36.315Z"
   },
   {
    "duration": 0,
    "start_time": "2023-01-16T06:42:36.316Z"
   },
   {
    "duration": 0,
    "start_time": "2023-01-16T06:42:36.317Z"
   },
   {
    "duration": 0,
    "start_time": "2023-01-16T06:42:36.320Z"
   },
   {
    "duration": 0,
    "start_time": "2023-01-16T06:42:36.321Z"
   },
   {
    "duration": 0,
    "start_time": "2023-01-16T06:42:36.323Z"
   },
   {
    "duration": 0,
    "start_time": "2023-01-16T06:42:36.324Z"
   },
   {
    "duration": 0,
    "start_time": "2023-01-16T06:42:36.328Z"
   },
   {
    "duration": 0,
    "start_time": "2023-01-16T06:42:36.329Z"
   },
   {
    "duration": 0,
    "start_time": "2023-01-16T06:42:36.329Z"
   },
   {
    "duration": 0,
    "start_time": "2023-01-16T06:42:36.336Z"
   },
   {
    "duration": 0,
    "start_time": "2023-01-16T06:42:36.337Z"
   },
   {
    "duration": 117,
    "start_time": "2023-01-16T06:42:43.434Z"
   },
   {
    "duration": 97,
    "start_time": "2023-01-16T06:44:20.735Z"
   },
   {
    "duration": 109,
    "start_time": "2023-01-16T06:47:56.655Z"
   },
   {
    "duration": 124,
    "start_time": "2023-01-16T06:48:11.791Z"
   },
   {
    "duration": 96,
    "start_time": "2023-01-16T06:50:21.761Z"
   },
   {
    "duration": 108,
    "start_time": "2023-01-16T06:51:40.780Z"
   },
   {
    "duration": 142,
    "start_time": "2023-01-16T06:52:10.665Z"
   },
   {
    "duration": 226,
    "start_time": "2023-01-16T06:52:40.242Z"
   },
   {
    "duration": 105,
    "start_time": "2023-01-16T06:52:54.939Z"
   },
   {
    "duration": 210,
    "start_time": "2023-01-16T06:53:11.059Z"
   },
   {
    "duration": 311,
    "start_time": "2023-01-16T06:54:09.845Z"
   },
   {
    "duration": 105,
    "start_time": "2023-01-16T06:56:04.602Z"
   },
   {
    "duration": 212,
    "start_time": "2023-01-16T06:57:32.355Z"
   },
   {
    "duration": 99,
    "start_time": "2023-01-16T07:01:37.747Z"
   },
   {
    "duration": 179,
    "start_time": "2023-01-16T07:02:04.254Z"
   },
   {
    "duration": 159,
    "start_time": "2023-01-16T07:03:32.002Z"
   },
   {
    "duration": 121,
    "start_time": "2023-01-16T07:05:06.249Z"
   },
   {
    "duration": 119,
    "start_time": "2023-01-16T07:05:44.254Z"
   },
   {
    "duration": 122,
    "start_time": "2023-01-16T07:08:18.856Z"
   },
   {
    "duration": 153,
    "start_time": "2023-01-16T07:22:59.507Z"
   },
   {
    "duration": 112,
    "start_time": "2023-01-16T07:25:19.956Z"
   },
   {
    "duration": 1360,
    "start_time": "2023-01-16T07:25:32.671Z"
   },
   {
    "duration": 119,
    "start_time": "2023-01-16T07:29:45.579Z"
   },
   {
    "duration": 167,
    "start_time": "2023-01-16T07:29:56.744Z"
   },
   {
    "duration": 714,
    "start_time": "2023-01-16T07:41:51.845Z"
   },
   {
    "duration": 4,
    "start_time": "2023-01-16T07:41:52.560Z"
   },
   {
    "duration": 5847,
    "start_time": "2023-01-16T07:41:52.565Z"
   },
   {
    "duration": 216,
    "start_time": "2023-01-16T07:41:58.413Z"
   },
   {
    "duration": 12,
    "start_time": "2023-01-16T07:41:58.632Z"
   },
   {
    "duration": 159,
    "start_time": "2023-01-16T07:41:58.646Z"
   },
   {
    "duration": 2,
    "start_time": "2023-01-16T07:41:58.807Z"
   },
   {
    "duration": 162,
    "start_time": "2023-01-16T07:41:58.810Z"
   },
   {
    "duration": 3,
    "start_time": "2023-01-16T07:41:58.975Z"
   },
   {
    "duration": 8,
    "start_time": "2023-01-16T07:41:58.980Z"
   },
   {
    "duration": 6,
    "start_time": "2023-01-16T07:41:58.990Z"
   },
   {
    "duration": 6,
    "start_time": "2023-01-16T07:41:58.998Z"
   },
   {
    "duration": 5,
    "start_time": "2023-01-16T07:41:59.006Z"
   },
   {
    "duration": 6,
    "start_time": "2023-01-16T07:41:59.014Z"
   },
   {
    "duration": 6,
    "start_time": "2023-01-16T07:41:59.022Z"
   },
   {
    "duration": 8,
    "start_time": "2023-01-16T07:41:59.029Z"
   },
   {
    "duration": 4,
    "start_time": "2023-01-16T07:41:59.039Z"
   },
   {
    "duration": 6,
    "start_time": "2023-01-16T07:41:59.045Z"
   },
   {
    "duration": 5,
    "start_time": "2023-01-16T07:41:59.053Z"
   },
   {
    "duration": 5,
    "start_time": "2023-01-16T07:41:59.059Z"
   },
   {
    "duration": 5,
    "start_time": "2023-01-16T07:41:59.065Z"
   },
   {
    "duration": 5,
    "start_time": "2023-01-16T07:41:59.071Z"
   },
   {
    "duration": 98,
    "start_time": "2023-01-16T07:44:20.180Z"
   },
   {
    "duration": 3,
    "start_time": "2023-01-16T07:46:41.653Z"
   },
   {
    "duration": 184,
    "start_time": "2023-01-16T07:47:21.674Z"
   },
   {
    "duration": 105,
    "start_time": "2023-01-16T07:47:40.717Z"
   },
   {
    "duration": 208,
    "start_time": "2023-01-16T07:48:38.342Z"
   },
   {
    "duration": 95,
    "start_time": "2023-01-16T07:48:57.392Z"
   },
   {
    "duration": 97,
    "start_time": "2023-01-16T07:49:39.295Z"
   },
   {
    "duration": 96,
    "start_time": "2023-01-16T08:08:40.365Z"
   },
   {
    "duration": 98,
    "start_time": "2023-01-16T08:08:53.539Z"
   },
   {
    "duration": 120,
    "start_time": "2023-01-16T08:24:55.870Z"
   },
   {
    "duration": 222,
    "start_time": "2023-01-16T08:25:14.528Z"
   },
   {
    "duration": 2,
    "start_time": "2023-01-16T08:46:32.978Z"
   },
   {
    "duration": 124,
    "start_time": "2023-01-16T08:47:00.204Z"
   },
   {
    "duration": 1203,
    "start_time": "2023-01-16T08:47:20.129Z"
   },
   {
    "duration": 1213,
    "start_time": "2023-01-16T08:50:12.729Z"
   },
   {
    "duration": 1357,
    "start_time": "2023-01-16T08:50:35.643Z"
   },
   {
    "duration": 1058,
    "start_time": "2023-01-16T08:51:13.349Z"
   },
   {
    "duration": 1227,
    "start_time": "2023-01-16T08:51:25.439Z"
   },
   {
    "duration": 1177,
    "start_time": "2023-01-16T08:52:23.854Z"
   },
   {
    "duration": 1107,
    "start_time": "2023-01-16T08:55:40.807Z"
   },
   {
    "duration": 3,
    "start_time": "2023-01-16T09:54:11.291Z"
   },
   {
    "duration": 100,
    "start_time": "2023-01-16T09:55:23.863Z"
   },
   {
    "duration": 65,
    "start_time": "2023-01-16T09:55:34.793Z"
   },
   {
    "duration": 96,
    "start_time": "2023-01-16T09:59:15.577Z"
   },
   {
    "duration": 105,
    "start_time": "2023-01-16T10:05:07.377Z"
   },
   {
    "duration": 99,
    "start_time": "2023-01-16T10:05:20.765Z"
   },
   {
    "duration": 95,
    "start_time": "2023-01-16T10:05:53.551Z"
   },
   {
    "duration": 104,
    "start_time": "2023-01-16T10:06:22.295Z"
   },
   {
    "duration": 73,
    "start_time": "2023-01-16T10:06:48.710Z"
   },
   {
    "duration": 71,
    "start_time": "2023-01-16T10:07:02.177Z"
   },
   {
    "duration": 65,
    "start_time": "2023-01-16T10:07:08.149Z"
   },
   {
    "duration": 65,
    "start_time": "2023-01-16T10:07:17.957Z"
   },
   {
    "duration": 109,
    "start_time": "2023-01-16T10:07:37.627Z"
   },
   {
    "duration": 66,
    "start_time": "2023-01-16T10:09:24.400Z"
   },
   {
    "duration": 112,
    "start_time": "2023-01-16T10:10:26.246Z"
   },
   {
    "duration": 67,
    "start_time": "2023-01-16T10:10:50.140Z"
   },
   {
    "duration": 146,
    "start_time": "2023-01-16T10:21:22.485Z"
   },
   {
    "duration": 145,
    "start_time": "2023-01-16T10:21:41.593Z"
   },
   {
    "duration": 144,
    "start_time": "2023-01-16T10:24:21.446Z"
   },
   {
    "duration": 113,
    "start_time": "2023-01-16T10:25:43.646Z"
   },
   {
    "duration": 107,
    "start_time": "2023-01-16T10:37:25.129Z"
   },
   {
    "duration": 102,
    "start_time": "2023-01-16T10:37:28.353Z"
   },
   {
    "duration": 586,
    "start_time": "2023-01-16T10:37:45.006Z"
   },
   {
    "duration": 49,
    "start_time": "2023-01-16T10:40:56.467Z"
   },
   {
    "duration": 96,
    "start_time": "2023-01-16T10:41:37.136Z"
   },
   {
    "duration": 277,
    "start_time": "2023-01-16T10:42:03.916Z"
   },
   {
    "duration": 273,
    "start_time": "2023-01-16T10:45:46.893Z"
   },
   {
    "duration": 264,
    "start_time": "2023-01-16T10:46:06.313Z"
   },
   {
    "duration": 272,
    "start_time": "2023-01-16T10:46:11.756Z"
   },
   {
    "duration": 268,
    "start_time": "2023-01-16T10:46:19.094Z"
   },
   {
    "duration": 92,
    "start_time": "2023-01-16T10:46:52.511Z"
   },
   {
    "duration": 89,
    "start_time": "2023-01-16T10:48:18.394Z"
   },
   {
    "duration": 4,
    "start_time": "2023-01-16T11:40:22.629Z"
   },
   {
    "duration": 127,
    "start_time": "2023-01-16T11:40:59.832Z"
   },
   {
    "duration": 113,
    "start_time": "2023-01-16T11:41:51.292Z"
   },
   {
    "duration": 67,
    "start_time": "2023-01-16T11:48:02.965Z"
   },
   {
    "duration": 63,
    "start_time": "2023-01-16T11:48:33.414Z"
   },
   {
    "duration": 82,
    "start_time": "2023-01-16T11:51:58.252Z"
   },
   {
    "duration": 102,
    "start_time": "2023-01-16T11:52:33.303Z"
   },
   {
    "duration": 106,
    "start_time": "2023-01-16T11:52:48.770Z"
   },
   {
    "duration": 139,
    "start_time": "2023-01-16T11:53:00.013Z"
   },
   {
    "duration": 143,
    "start_time": "2023-01-16T11:54:54.412Z"
   },
   {
    "duration": 81,
    "start_time": "2023-01-16T11:55:04.267Z"
   },
   {
    "duration": 75,
    "start_time": "2023-01-16T11:55:45.308Z"
   },
   {
    "duration": 63,
    "start_time": "2023-01-16T11:56:03.699Z"
   },
   {
    "duration": 1086,
    "start_time": "2023-01-16T13:39:20.018Z"
   },
   {
    "duration": 111,
    "start_time": "2023-01-16T13:47:18.689Z"
   },
   {
    "duration": 110,
    "start_time": "2023-01-16T13:47:26.081Z"
   },
   {
    "duration": 97,
    "start_time": "2023-01-16T13:47:55.073Z"
   },
   {
    "duration": 1069,
    "start_time": "2023-01-16T13:48:02.900Z"
   },
   {
    "duration": 48,
    "start_time": "2023-01-17T08:23:51.409Z"
   },
   {
    "duration": 884,
    "start_time": "2023-01-17T08:23:57.432Z"
   },
   {
    "duration": 4,
    "start_time": "2023-01-17T08:23:58.321Z"
   },
   {
    "duration": 8043,
    "start_time": "2023-01-17T08:23:58.326Z"
   },
   {
    "duration": 38,
    "start_time": "2023-01-17T08:24:06.371Z"
   },
   {
    "duration": 14,
    "start_time": "2023-01-17T08:24:06.411Z"
   },
   {
    "duration": 70,
    "start_time": "2023-01-17T08:24:06.427Z"
   },
   {
    "duration": 2,
    "start_time": "2023-01-17T08:24:06.499Z"
   },
   {
    "duration": 132,
    "start_time": "2023-01-17T08:24:06.503Z"
   },
   {
    "duration": 2,
    "start_time": "2023-01-17T08:24:06.636Z"
   },
   {
    "duration": 193,
    "start_time": "2023-01-17T08:24:06.640Z"
   },
   {
    "duration": 3,
    "start_time": "2023-01-17T08:24:06.834Z"
   },
   {
    "duration": 1133,
    "start_time": "2023-01-17T08:24:06.838Z"
   },
   {
    "duration": 60,
    "start_time": "2023-01-17T08:24:07.972Z"
   },
   {
    "duration": 34,
    "start_time": "2023-01-17T08:24:08.034Z"
   },
   {
    "duration": 3,
    "start_time": "2023-01-17T08:24:08.070Z"
   },
   {
    "duration": 1055,
    "start_time": "2023-01-17T08:24:08.074Z"
   },
   {
    "duration": 179,
    "start_time": "2023-01-17T08:24:09.130Z"
   },
   {
    "duration": 0,
    "start_time": "2023-01-17T08:24:09.311Z"
   },
   {
    "duration": 0,
    "start_time": "2023-01-17T08:24:09.312Z"
   },
   {
    "duration": 0,
    "start_time": "2023-01-17T08:24:09.313Z"
   },
   {
    "duration": 0,
    "start_time": "2023-01-17T08:24:09.314Z"
   },
   {
    "duration": 0,
    "start_time": "2023-01-17T08:24:09.316Z"
   },
   {
    "duration": 92,
    "start_time": "2023-01-17T08:24:40.409Z"
   },
   {
    "duration": 103,
    "start_time": "2023-01-17T08:25:14.979Z"
   },
   {
    "duration": 97,
    "start_time": "2023-01-17T08:25:35.902Z"
   },
   {
    "duration": 975,
    "start_time": "2023-01-17T08:27:56.061Z"
   },
   {
    "duration": 999,
    "start_time": "2023-01-17T08:37:53.407Z"
   },
   {
    "duration": 2183,
    "start_time": "2023-01-17T08:38:05.546Z"
   },
   {
    "duration": 889,
    "start_time": "2023-01-17T08:40:00.041Z"
   },
   {
    "duration": 988,
    "start_time": "2023-01-17T08:40:42.397Z"
   },
   {
    "duration": 926,
    "start_time": "2023-01-17T08:42:39.038Z"
   },
   {
    "duration": 120,
    "start_time": "2023-01-17T08:56:43.148Z"
   },
   {
    "duration": 855,
    "start_time": "2023-01-17T08:56:53.268Z"
   },
   {
    "duration": 267,
    "start_time": "2023-01-17T09:18:05.850Z"
   },
   {
    "duration": 255,
    "start_time": "2023-01-17T09:18:30.107Z"
   },
   {
    "duration": 864,
    "start_time": "2023-01-17T09:20:08.225Z"
   },
   {
    "duration": 132,
    "start_time": "2023-01-17T09:20:54.238Z"
   },
   {
    "duration": 856,
    "start_time": "2023-01-17T09:21:18.805Z"
   },
   {
    "duration": 870,
    "start_time": "2023-01-17T09:21:38.548Z"
   },
   {
    "duration": 854,
    "start_time": "2023-01-17T09:21:48.951Z"
   },
   {
    "duration": 103,
    "start_time": "2023-01-17T09:28:13.657Z"
   },
   {
    "duration": 89,
    "start_time": "2023-01-17T09:28:30.477Z"
   },
   {
    "duration": 107,
    "start_time": "2023-01-17T09:28:45.929Z"
   },
   {
    "duration": 1947,
    "start_time": "2023-01-17T09:43:31.263Z"
   },
   {
    "duration": 864,
    "start_time": "2023-01-17T09:45:08.481Z"
   },
   {
    "duration": 932,
    "start_time": "2023-01-17T09:51:00.165Z"
   },
   {
    "duration": 844,
    "start_time": "2023-01-17T09:51:13.731Z"
   },
   {
    "duration": 871,
    "start_time": "2023-01-17T09:51:30.477Z"
   },
   {
    "duration": 129,
    "start_time": "2023-01-17T09:59:40.270Z"
   },
   {
    "duration": 102,
    "start_time": "2023-01-17T10:00:07.769Z"
   },
   {
    "duration": 465,
    "start_time": "2023-01-17T10:00:24.207Z"
   },
   {
    "duration": 136,
    "start_time": "2023-01-17T10:01:23.900Z"
   },
   {
    "duration": 441,
    "start_time": "2023-01-17T10:01:43.339Z"
   },
   {
    "duration": 441,
    "start_time": "2023-01-17T10:01:53.705Z"
   },
   {
    "duration": 27,
    "start_time": "2023-01-17T10:20:17.962Z"
   },
   {
    "duration": 20,
    "start_time": "2023-01-17T10:24:05.309Z"
   },
   {
    "duration": 1226,
    "start_time": "2023-01-17T10:25:38.655Z"
   },
   {
    "duration": 4,
    "start_time": "2023-01-17T10:25:39.884Z"
   },
   {
    "duration": 8376,
    "start_time": "2023-01-17T10:25:39.890Z"
   },
   {
    "duration": 47,
    "start_time": "2023-01-17T10:25:48.268Z"
   },
   {
    "duration": 15,
    "start_time": "2023-01-17T10:25:48.318Z"
   },
   {
    "duration": 75,
    "start_time": "2023-01-17T10:25:48.335Z"
   },
   {
    "duration": 3,
    "start_time": "2023-01-17T10:25:48.411Z"
   },
   {
    "duration": 137,
    "start_time": "2023-01-17T10:25:48.416Z"
   },
   {
    "duration": 2,
    "start_time": "2023-01-17T10:25:48.555Z"
   },
   {
    "duration": 195,
    "start_time": "2023-01-17T10:25:48.559Z"
   },
   {
    "duration": 2,
    "start_time": "2023-01-17T10:25:48.756Z"
   },
   {
    "duration": 1237,
    "start_time": "2023-01-17T10:25:48.760Z"
   },
   {
    "duration": 66,
    "start_time": "2023-01-17T10:25:49.999Z"
   },
   {
    "duration": 33,
    "start_time": "2023-01-17T10:25:50.067Z"
   },
   {
    "duration": 2,
    "start_time": "2023-01-17T10:25:50.102Z"
   },
   {
    "duration": 1138,
    "start_time": "2023-01-17T10:25:50.106Z"
   },
   {
    "duration": 427,
    "start_time": "2023-01-17T10:25:51.245Z"
   },
   {
    "duration": 734,
    "start_time": "2023-01-17T10:25:51.674Z"
   },
   {
    "duration": 3,
    "start_time": "2023-01-17T10:25:52.410Z"
   },
   {
    "duration": 10,
    "start_time": "2023-01-17T10:25:52.422Z"
   },
   {
    "duration": 9,
    "start_time": "2023-01-17T10:25:52.434Z"
   },
   {
    "duration": 7,
    "start_time": "2023-01-17T10:25:52.444Z"
   },
   {
    "duration": 565,
    "start_time": "2023-01-17T10:26:23.000Z"
   },
   {
    "duration": 551,
    "start_time": "2023-01-17T10:32:30.227Z"
   },
   {
    "duration": 1314,
    "start_time": "2023-01-17T10:35:04.240Z"
   },
   {
    "duration": 4,
    "start_time": "2023-01-17T10:35:05.556Z"
   },
   {
    "duration": 18447,
    "start_time": "2023-01-17T10:35:05.561Z"
   },
   {
    "duration": 44,
    "start_time": "2023-01-17T10:35:24.010Z"
   },
   {
    "duration": 23,
    "start_time": "2023-01-17T10:35:24.056Z"
   },
   {
    "duration": 77,
    "start_time": "2023-01-17T10:35:24.081Z"
   },
   {
    "duration": 3,
    "start_time": "2023-01-17T10:35:24.160Z"
   },
   {
    "duration": 151,
    "start_time": "2023-01-17T10:35:24.165Z"
   },
   {
    "duration": 4,
    "start_time": "2023-01-17T10:35:24.319Z"
   },
   {
    "duration": 208,
    "start_time": "2023-01-17T10:35:24.326Z"
   },
   {
    "duration": 3,
    "start_time": "2023-01-17T10:35:24.535Z"
   },
   {
    "duration": 1209,
    "start_time": "2023-01-17T10:35:24.539Z"
   },
   {
    "duration": 65,
    "start_time": "2023-01-17T10:35:25.750Z"
   },
   {
    "duration": 41,
    "start_time": "2023-01-17T10:35:25.819Z"
   },
   {
    "duration": 12,
    "start_time": "2023-01-17T10:35:25.862Z"
   },
   {
    "duration": 1206,
    "start_time": "2023-01-17T10:35:25.875Z"
   },
   {
    "duration": 438,
    "start_time": "2023-01-17T10:35:27.084Z"
   },
   {
    "duration": 549,
    "start_time": "2023-01-17T10:35:27.524Z"
   },
   {
    "duration": 4,
    "start_time": "2023-01-17T10:35:28.075Z"
   },
   {
    "duration": 9,
    "start_time": "2023-01-17T10:35:28.081Z"
   },
   {
    "duration": 9,
    "start_time": "2023-01-17T10:35:28.091Z"
   },
   {
    "duration": 11,
    "start_time": "2023-01-17T10:35:28.102Z"
   },
   {
    "duration": 3,
    "start_time": "2023-01-17T10:35:51.012Z"
   },
   {
    "duration": 673,
    "start_time": "2023-01-17T10:36:13.387Z"
   },
   {
    "duration": 502,
    "start_time": "2023-01-17T10:36:27.363Z"
   },
   {
    "duration": 472,
    "start_time": "2023-01-17T10:39:09.364Z"
   },
   {
    "duration": 499,
    "start_time": "2023-01-17T10:39:35.223Z"
   },
   {
    "duration": 1241,
    "start_time": "2023-01-17T10:42:07.483Z"
   },
   {
    "duration": 5,
    "start_time": "2023-01-17T10:42:08.726Z"
   },
   {
    "duration": 8118,
    "start_time": "2023-01-17T10:42:08.732Z"
   },
   {
    "duration": 36,
    "start_time": "2023-01-17T10:42:16.852Z"
   },
   {
    "duration": 16,
    "start_time": "2023-01-17T10:42:16.890Z"
   },
   {
    "duration": 66,
    "start_time": "2023-01-17T10:42:16.908Z"
   },
   {
    "duration": 3,
    "start_time": "2023-01-17T10:42:16.976Z"
   },
   {
    "duration": 135,
    "start_time": "2023-01-17T10:42:16.980Z"
   },
   {
    "duration": 2,
    "start_time": "2023-01-17T10:42:17.117Z"
   },
   {
    "duration": 189,
    "start_time": "2023-01-17T10:42:17.121Z"
   },
   {
    "duration": 3,
    "start_time": "2023-01-17T10:42:17.311Z"
   },
   {
    "duration": 1180,
    "start_time": "2023-01-17T10:42:17.316Z"
   },
   {
    "duration": 62,
    "start_time": "2023-01-17T10:42:18.498Z"
   },
   {
    "duration": 33,
    "start_time": "2023-01-17T10:42:18.562Z"
   },
   {
    "duration": 2,
    "start_time": "2023-01-17T10:42:18.596Z"
   },
   {
    "duration": 1138,
    "start_time": "2023-01-17T10:42:18.600Z"
   },
   {
    "duration": 436,
    "start_time": "2023-01-17T10:42:19.740Z"
   },
   {
    "duration": 522,
    "start_time": "2023-01-17T10:42:20.178Z"
   },
   {
    "duration": 2,
    "start_time": "2023-01-17T10:42:20.702Z"
   },
   {
    "duration": 18,
    "start_time": "2023-01-17T10:42:20.707Z"
   },
   {
    "duration": 10,
    "start_time": "2023-01-17T10:42:20.728Z"
   },
   {
    "duration": 7,
    "start_time": "2023-01-17T10:42:20.740Z"
   },
   {
    "duration": 326,
    "start_time": "2023-01-17T10:48:22.127Z"
   },
   {
    "duration": 505,
    "start_time": "2023-01-17T10:48:31.112Z"
   },
   {
    "duration": 577,
    "start_time": "2023-01-17T10:50:21.983Z"
   },
   {
    "duration": 507,
    "start_time": "2023-01-17T10:50:34.877Z"
   },
   {
    "duration": 442,
    "start_time": "2023-01-17T10:53:19.040Z"
   },
   {
    "duration": 631,
    "start_time": "2023-01-17T10:56:28.985Z"
   },
   {
    "duration": 470,
    "start_time": "2023-01-17T10:56:45.040Z"
   },
   {
    "duration": 543,
    "start_time": "2023-01-17T10:57:00.088Z"
   },
   {
    "duration": 196,
    "start_time": "2023-01-17T11:54:04.812Z"
   },
   {
    "duration": 282,
    "start_time": "2023-01-17T11:54:30.855Z"
   },
   {
    "duration": 420,
    "start_time": "2023-01-17T11:54:45.282Z"
   },
   {
    "duration": 3,
    "start_time": "2023-01-17T12:04:08.722Z"
   },
   {
    "duration": 109,
    "start_time": "2023-01-17T12:04:53.187Z"
   },
   {
    "duration": 107,
    "start_time": "2023-01-17T12:05:56.222Z"
   },
   {
    "duration": 105,
    "start_time": "2023-01-17T12:07:47.413Z"
   },
   {
    "duration": 117,
    "start_time": "2023-01-17T12:07:59.976Z"
   },
   {
    "duration": 105,
    "start_time": "2023-01-17T12:08:14.240Z"
   },
   {
    "duration": 105,
    "start_time": "2023-01-17T12:09:06.820Z"
   },
   {
    "duration": 62,
    "start_time": "2023-01-17T12:10:15.298Z"
   },
   {
    "duration": 64,
    "start_time": "2023-01-17T12:17:37.424Z"
   },
   {
    "duration": 57,
    "start_time": "2023-01-17T12:18:12.693Z"
   },
   {
    "duration": 77,
    "start_time": "2023-01-17T12:41:18.899Z"
   },
   {
    "duration": 74,
    "start_time": "2023-01-17T12:45:15.263Z"
   },
   {
    "duration": 91,
    "start_time": "2023-01-17T12:45:19.118Z"
   },
   {
    "duration": 69,
    "start_time": "2023-01-17T12:45:23.601Z"
   },
   {
    "duration": 73,
    "start_time": "2023-01-17T12:46:47.966Z"
   },
   {
    "duration": 115,
    "start_time": "2023-01-17T12:49:17.366Z"
   },
   {
    "duration": 92,
    "start_time": "2023-01-17T12:50:53.797Z"
   },
   {
    "duration": 235,
    "start_time": "2023-01-17T12:51:08.965Z"
   },
   {
    "duration": 140,
    "start_time": "2023-01-17T12:51:36.482Z"
   },
   {
    "duration": 142,
    "start_time": "2023-01-17T12:51:54.399Z"
   },
   {
    "duration": 12,
    "start_time": "2023-01-17T12:53:18.374Z"
   },
   {
    "duration": 90,
    "start_time": "2023-01-17T12:53:22.144Z"
   },
   {
    "duration": 138,
    "start_time": "2023-01-17T12:53:26.432Z"
   },
   {
    "duration": 141,
    "start_time": "2023-01-17T12:54:14.471Z"
   },
   {
    "duration": 145,
    "start_time": "2023-01-17T12:54:47.703Z"
   },
   {
    "duration": 144,
    "start_time": "2023-01-17T12:55:14.850Z"
   },
   {
    "duration": 67,
    "start_time": "2023-01-17T12:55:41.688Z"
   },
   {
    "duration": 143,
    "start_time": "2023-01-17T12:55:55.398Z"
   },
   {
    "duration": 139,
    "start_time": "2023-01-17T13:05:25.248Z"
   },
   {
    "duration": 183,
    "start_time": "2023-01-17T13:05:49.842Z"
   },
   {
    "duration": 132,
    "start_time": "2023-01-17T13:06:04.353Z"
   },
   {
    "duration": 149,
    "start_time": "2023-01-17T13:06:40.880Z"
   },
   {
    "duration": 133,
    "start_time": "2023-01-17T13:07:11.166Z"
   },
   {
    "duration": 231,
    "start_time": "2023-01-17T13:12:39.096Z"
   },
   {
    "duration": 144,
    "start_time": "2023-01-17T13:12:43.185Z"
   },
   {
    "duration": 124,
    "start_time": "2023-01-17T13:16:33.048Z"
   },
   {
    "duration": 137,
    "start_time": "2023-01-17T13:16:43.116Z"
   },
   {
    "duration": 136,
    "start_time": "2023-01-17T13:18:05.539Z"
   },
   {
    "duration": 1247,
    "start_time": "2023-01-17T13:22:11.972Z"
   },
   {
    "duration": 4,
    "start_time": "2023-01-17T13:22:13.221Z"
   },
   {
    "duration": 8542,
    "start_time": "2023-01-17T13:22:13.227Z"
   },
   {
    "duration": 429,
    "start_time": "2023-01-17T13:22:21.771Z"
   },
   {
    "duration": 17,
    "start_time": "2023-01-17T13:22:22.202Z"
   },
   {
    "duration": 97,
    "start_time": "2023-01-17T13:22:22.222Z"
   },
   {
    "duration": 7,
    "start_time": "2023-01-17T13:22:22.320Z"
   },
   {
    "duration": 139,
    "start_time": "2023-01-17T13:22:22.329Z"
   },
   {
    "duration": 3,
    "start_time": "2023-01-17T13:22:22.469Z"
   },
   {
    "duration": 202,
    "start_time": "2023-01-17T13:22:22.474Z"
   },
   {
    "duration": 3,
    "start_time": "2023-01-17T13:22:22.678Z"
   },
   {
    "duration": 1169,
    "start_time": "2023-01-17T13:22:22.683Z"
   },
   {
    "duration": 63,
    "start_time": "2023-01-17T13:22:23.855Z"
   },
   {
    "duration": 37,
    "start_time": "2023-01-17T13:22:23.922Z"
   },
   {
    "duration": 2,
    "start_time": "2023-01-17T13:22:23.961Z"
   },
   {
    "duration": 1172,
    "start_time": "2023-01-17T13:22:23.965Z"
   },
   {
    "duration": 269,
    "start_time": "2023-01-17T13:22:25.139Z"
   },
   {
    "duration": 413,
    "start_time": "2023-01-17T13:22:25.410Z"
   },
   {
    "duration": 8,
    "start_time": "2023-01-17T13:22:25.830Z"
   },
   {
    "duration": 103,
    "start_time": "2023-01-17T13:22:25.840Z"
   },
   {
    "duration": 244,
    "start_time": "2023-01-17T13:22:25.945Z"
   },
   {
    "duration": 0,
    "start_time": "2023-01-17T13:22:26.191Z"
   },
   {
    "duration": 0,
    "start_time": "2023-01-17T13:22:26.193Z"
   },
   {
    "duration": 135,
    "start_time": "2023-01-17T13:22:51.743Z"
   },
   {
    "duration": 134,
    "start_time": "2023-01-17T13:23:06.703Z"
   },
   {
    "duration": 193,
    "start_time": "2023-01-17T13:26:24.208Z"
   },
   {
    "duration": 69,
    "start_time": "2023-01-17T13:26:54.443Z"
   },
   {
    "duration": 137,
    "start_time": "2023-01-17T13:27:09.262Z"
   },
   {
    "duration": 154,
    "start_time": "2023-01-17T13:27:18.047Z"
   },
   {
    "duration": 172,
    "start_time": "2023-01-17T13:27:26.320Z"
   },
   {
    "duration": 157,
    "start_time": "2023-01-17T13:28:02.613Z"
   },
   {
    "duration": 180,
    "start_time": "2023-01-17T13:30:08.828Z"
   },
   {
    "duration": 102,
    "start_time": "2023-01-17T13:55:37.319Z"
   },
   {
    "duration": 192,
    "start_time": "2023-01-17T13:55:53.804Z"
   },
   {
    "duration": 99,
    "start_time": "2023-01-17T13:56:19.854Z"
   },
   {
    "duration": 171,
    "start_time": "2023-01-17T13:56:26.845Z"
   },
   {
    "duration": 103,
    "start_time": "2023-01-17T13:56:40.534Z"
   },
   {
    "duration": 193,
    "start_time": "2023-01-17T13:56:47.076Z"
   },
   {
    "duration": 70,
    "start_time": "2023-01-17T13:56:54.605Z"
   },
   {
    "duration": 100,
    "start_time": "2023-01-17T14:03:28.962Z"
   },
   {
    "duration": 106,
    "start_time": "2023-01-17T14:04:18.166Z"
   },
   {
    "duration": 105,
    "start_time": "2023-01-17T14:04:38.430Z"
   },
   {
    "duration": 189,
    "start_time": "2023-01-17T14:05:50.361Z"
   },
   {
    "duration": 1238,
    "start_time": "2023-01-17T14:06:39.799Z"
   },
   {
    "duration": 4,
    "start_time": "2023-01-17T14:06:41.039Z"
   },
   {
    "duration": 7659,
    "start_time": "2023-01-17T14:06:41.045Z"
   },
   {
    "duration": 38,
    "start_time": "2023-01-17T14:06:48.706Z"
   },
   {
    "duration": 16,
    "start_time": "2023-01-17T14:06:48.746Z"
   },
   {
    "duration": 500,
    "start_time": "2023-01-17T14:06:48.764Z"
   },
   {
    "duration": 3,
    "start_time": "2023-01-17T14:06:49.265Z"
   },
   {
    "duration": 143,
    "start_time": "2023-01-17T14:06:49.269Z"
   },
   {
    "duration": 2,
    "start_time": "2023-01-17T14:06:49.414Z"
   },
   {
    "duration": 202,
    "start_time": "2023-01-17T14:06:49.418Z"
   },
   {
    "duration": 3,
    "start_time": "2023-01-17T14:06:49.621Z"
   },
   {
    "duration": 2103,
    "start_time": "2023-01-17T14:06:49.626Z"
   },
   {
    "duration": 60,
    "start_time": "2023-01-17T14:06:51.730Z"
   },
   {
    "duration": 33,
    "start_time": "2023-01-17T14:06:51.792Z"
   },
   {
    "duration": 3,
    "start_time": "2023-01-17T14:06:51.827Z"
   },
   {
    "duration": 1131,
    "start_time": "2023-01-17T14:06:51.831Z"
   },
   {
    "duration": 275,
    "start_time": "2023-01-17T14:06:52.964Z"
   },
   {
    "duration": 387,
    "start_time": "2023-01-17T14:06:53.240Z"
   },
   {
    "duration": 2,
    "start_time": "2023-01-17T14:06:53.629Z"
   },
   {
    "duration": 72,
    "start_time": "2023-01-17T14:06:53.633Z"
   },
   {
    "duration": 159,
    "start_time": "2023-01-17T14:06:53.707Z"
   },
   {
    "duration": 99,
    "start_time": "2023-01-17T14:06:53.869Z"
   },
   {
    "duration": 34,
    "start_time": "2023-01-17T14:07:43.933Z"
   },
   {
    "duration": 537,
    "start_time": "2023-01-17T14:09:34.048Z"
   },
   {
    "duration": 288,
    "start_time": "2023-01-17T14:09:50.106Z"
   },
   {
    "duration": 122,
    "start_time": "2023-01-17T15:00:13.669Z"
   },
   {
    "duration": 105,
    "start_time": "2023-01-17T15:00:22.299Z"
   },
   {
    "duration": 9,
    "start_time": "2023-01-17T15:00:24.785Z"
   },
   {
    "duration": 125,
    "start_time": "2023-01-17T15:01:16.963Z"
   },
   {
    "duration": 1198,
    "start_time": "2023-01-17T15:02:07.189Z"
   },
   {
    "duration": 132,
    "start_time": "2023-01-17T15:02:31.307Z"
   },
   {
    "duration": 137,
    "start_time": "2023-01-17T15:03:42.371Z"
   },
   {
    "duration": 135,
    "start_time": "2023-01-17T15:08:34.337Z"
   },
   {
    "duration": 134,
    "start_time": "2023-01-17T15:08:39.587Z"
   },
   {
    "duration": 192,
    "start_time": "2023-01-17T15:35:20.833Z"
   },
   {
    "duration": 100,
    "start_time": "2023-01-17T15:46:53.114Z"
   },
   {
    "duration": 132,
    "start_time": "2023-01-17T15:47:09.756Z"
   },
   {
    "duration": 171,
    "start_time": "2023-01-17T15:48:14.955Z"
   },
   {
    "duration": 140,
    "start_time": "2023-01-17T15:50:02.467Z"
   },
   {
    "duration": 150,
    "start_time": "2023-01-17T15:50:14.527Z"
   },
   {
    "duration": 113,
    "start_time": "2023-01-17T15:51:06.318Z"
   },
   {
    "duration": 198,
    "start_time": "2023-01-17T15:51:31.048Z"
   },
   {
    "duration": 196,
    "start_time": "2023-01-17T15:51:37.828Z"
   },
   {
    "duration": 114,
    "start_time": "2023-01-17T15:51:38.722Z"
   },
   {
    "duration": 156,
    "start_time": "2023-01-17T15:53:37.477Z"
   },
   {
    "duration": 68,
    "start_time": "2023-01-17T15:54:05.986Z"
   },
   {
    "duration": 112,
    "start_time": "2023-01-17T15:58:01.898Z"
   },
   {
    "duration": 37,
    "start_time": "2023-01-17T16:03:14.143Z"
   },
   {
    "duration": 34,
    "start_time": "2023-01-17T16:03:42.000Z"
   },
   {
    "duration": 1194,
    "start_time": "2023-01-17T16:58:54.453Z"
   },
   {
    "duration": 3,
    "start_time": "2023-01-17T16:58:55.649Z"
   },
   {
    "duration": 7602,
    "start_time": "2023-01-17T16:58:55.653Z"
   },
   {
    "duration": 41,
    "start_time": "2023-01-17T16:59:03.257Z"
   },
   {
    "duration": 17,
    "start_time": "2023-01-17T16:59:03.299Z"
   },
   {
    "duration": 73,
    "start_time": "2023-01-17T16:59:03.318Z"
   },
   {
    "duration": 125,
    "start_time": "2023-01-17T16:59:03.393Z"
   },
   {
    "duration": 183,
    "start_time": "2023-01-17T16:59:03.520Z"
   },
   {
    "duration": 1198,
    "start_time": "2023-01-17T16:59:03.705Z"
   },
   {
    "duration": 60,
    "start_time": "2023-01-17T16:59:04.906Z"
   },
   {
    "duration": 33,
    "start_time": "2023-01-17T16:59:04.968Z"
   },
   {
    "duration": 1119,
    "start_time": "2023-01-17T16:59:05.003Z"
   },
   {
    "duration": 270,
    "start_time": "2023-01-17T16:59:06.123Z"
   },
   {
    "duration": 414,
    "start_time": "2023-01-17T16:59:06.394Z"
   },
   {
    "duration": 3,
    "start_time": "2023-01-17T16:59:06.809Z"
   },
   {
    "duration": 70,
    "start_time": "2023-01-17T16:59:06.813Z"
   },
   {
    "duration": 160,
    "start_time": "2023-01-17T16:59:06.885Z"
   },
   {
    "duration": 97,
    "start_time": "2023-01-17T16:59:07.047Z"
   },
   {
    "duration": 1493,
    "start_time": "2023-01-17T18:42:49.711Z"
   },
   {
    "duration": 4,
    "start_time": "2023-01-17T18:42:51.206Z"
   },
   {
    "duration": 6759,
    "start_time": "2023-01-17T18:42:51.212Z"
   },
   {
    "duration": 258,
    "start_time": "2023-01-17T18:42:57.973Z"
   },
   {
    "duration": 16,
    "start_time": "2023-01-17T18:42:58.233Z"
   },
   {
    "duration": 103,
    "start_time": "2023-01-17T18:42:58.251Z"
   },
   {
    "duration": 178,
    "start_time": "2023-01-17T18:42:58.356Z"
   },
   {
    "duration": 225,
    "start_time": "2023-01-17T18:42:58.537Z"
   },
   {
    "duration": 1232,
    "start_time": "2023-01-17T18:42:58.764Z"
   },
   {
    "duration": 118,
    "start_time": "2023-01-17T18:42:59.999Z"
   },
   {
    "duration": 64,
    "start_time": "2023-01-17T18:43:00.119Z"
   },
   {
    "duration": 1163,
    "start_time": "2023-01-17T18:43:00.184Z"
   },
   {
    "duration": 336,
    "start_time": "2023-01-17T18:43:01.349Z"
   },
   {
    "duration": 454,
    "start_time": "2023-01-17T18:43:01.687Z"
   },
   {
    "duration": 2,
    "start_time": "2023-01-17T18:43:02.143Z"
   },
   {
    "duration": 132,
    "start_time": "2023-01-17T18:43:02.147Z"
   },
   {
    "duration": 170,
    "start_time": "2023-01-17T18:43:02.280Z"
   },
   {
    "duration": 171,
    "start_time": "2023-01-17T18:43:02.452Z"
   },
   {
    "duration": 81,
    "start_time": "2023-01-17T18:45:55.880Z"
   },
   {
    "duration": 1258,
    "start_time": "2023-01-17T18:49:17.460Z"
   },
   {
    "duration": 4,
    "start_time": "2023-01-17T18:49:18.722Z"
   },
   {
    "duration": 6680,
    "start_time": "2023-01-17T18:49:18.728Z"
   },
   {
    "duration": 255,
    "start_time": "2023-01-17T18:49:25.412Z"
   },
   {
    "duration": 15,
    "start_time": "2023-01-17T18:49:25.669Z"
   },
   {
    "duration": 120,
    "start_time": "2023-01-17T18:49:25.685Z"
   },
   {
    "duration": 171,
    "start_time": "2023-01-17T18:49:25.807Z"
   },
   {
    "duration": 218,
    "start_time": "2023-01-17T18:49:25.980Z"
   },
   {
    "duration": 1272,
    "start_time": "2023-01-17T18:49:26.200Z"
   },
   {
    "duration": 92,
    "start_time": "2023-01-17T18:49:27.474Z"
   },
   {
    "duration": 63,
    "start_time": "2023-01-17T18:49:27.567Z"
   },
   {
    "duration": 1201,
    "start_time": "2023-01-17T18:49:27.632Z"
   },
   {
    "duration": 305,
    "start_time": "2023-01-17T18:49:28.835Z"
   },
   {
    "duration": 439,
    "start_time": "2023-01-17T18:49:29.142Z"
   },
   {
    "duration": 2,
    "start_time": "2023-01-17T18:49:29.583Z"
   },
   {
    "duration": 147,
    "start_time": "2023-01-17T18:49:29.587Z"
   },
   {
    "duration": 187,
    "start_time": "2023-01-17T18:49:29.736Z"
   },
   {
    "duration": 135,
    "start_time": "2023-01-17T18:49:29.925Z"
   },
   {
    "duration": 159,
    "start_time": "2023-01-17T18:50:13.039Z"
   },
   {
    "duration": 1248,
    "start_time": "2023-01-17T18:53:07.758Z"
   },
   {
    "duration": 3,
    "start_time": "2023-01-17T18:53:09.008Z"
   },
   {
    "duration": 6779,
    "start_time": "2023-01-17T18:53:09.015Z"
   },
   {
    "duration": 230,
    "start_time": "2023-01-17T18:53:15.795Z"
   },
   {
    "duration": 17,
    "start_time": "2023-01-17T18:53:16.027Z"
   },
   {
    "duration": 103,
    "start_time": "2023-01-17T18:53:16.046Z"
   },
   {
    "duration": 161,
    "start_time": "2023-01-17T18:53:16.151Z"
   },
   {
    "duration": 212,
    "start_time": "2023-01-17T18:53:16.314Z"
   },
   {
    "duration": 1249,
    "start_time": "2023-01-17T18:53:16.528Z"
   },
   {
    "duration": 91,
    "start_time": "2023-01-17T18:53:17.778Z"
   },
   {
    "duration": 62,
    "start_time": "2023-01-17T18:53:17.871Z"
   },
   {
    "duration": 1190,
    "start_time": "2023-01-17T18:53:17.935Z"
   },
   {
    "duration": 287,
    "start_time": "2023-01-17T18:53:19.126Z"
   },
   {
    "duration": 394,
    "start_time": "2023-01-17T18:53:19.415Z"
   },
   {
    "duration": 3,
    "start_time": "2023-01-17T18:53:19.810Z"
   },
   {
    "duration": 95,
    "start_time": "2023-01-17T18:53:19.814Z"
   },
   {
    "duration": 155,
    "start_time": "2023-01-17T18:53:19.911Z"
   },
   {
    "duration": 136,
    "start_time": "2023-01-17T18:53:20.068Z"
   },
   {
    "duration": 49,
    "start_time": "2023-01-18T09:48:51.278Z"
   },
   {
    "duration": 1579,
    "start_time": "2023-01-18T09:48:56.304Z"
   },
   {
    "duration": 3,
    "start_time": "2023-01-18T09:48:57.886Z"
   },
   {
    "duration": 8278,
    "start_time": "2023-01-18T09:48:57.891Z"
   },
   {
    "duration": 48,
    "start_time": "2023-01-18T09:49:06.171Z"
   },
   {
    "duration": 17,
    "start_time": "2023-01-18T09:49:06.221Z"
   },
   {
    "duration": 87,
    "start_time": "2023-01-18T09:49:06.240Z"
   },
   {
    "duration": 128,
    "start_time": "2023-01-18T09:49:06.329Z"
   },
   {
    "duration": 190,
    "start_time": "2023-01-18T09:49:06.458Z"
   },
   {
    "duration": 1200,
    "start_time": "2023-01-18T09:49:06.650Z"
   },
   {
    "duration": 64,
    "start_time": "2023-01-18T09:49:07.853Z"
   },
   {
    "duration": 34,
    "start_time": "2023-01-18T09:49:07.919Z"
   },
   {
    "duration": 1184,
    "start_time": "2023-01-18T09:49:07.955Z"
   },
   {
    "duration": 273,
    "start_time": "2023-01-18T09:49:09.141Z"
   },
   {
    "duration": 481,
    "start_time": "2023-01-18T09:49:09.416Z"
   },
   {
    "duration": 3,
    "start_time": "2023-01-18T09:49:09.898Z"
   },
   {
    "duration": 70,
    "start_time": "2023-01-18T09:49:09.903Z"
   },
   {
    "duration": 166,
    "start_time": "2023-01-18T09:49:09.974Z"
   },
   {
    "duration": 106,
    "start_time": "2023-01-18T09:49:10.142Z"
   },
   {
    "duration": 135,
    "start_time": "2023-01-18T09:49:26.415Z"
   },
   {
    "duration": 4,
    "start_time": "2023-01-18T09:51:55.764Z"
   },
   {
    "duration": 133,
    "start_time": "2023-01-18T09:52:00.798Z"
   },
   {
    "duration": 3,
    "start_time": "2023-01-18T09:52:38.110Z"
   },
   {
    "duration": 134,
    "start_time": "2023-01-18T09:52:40.329Z"
   },
   {
    "duration": 1322,
    "start_time": "2023-01-18T09:55:44.763Z"
   },
   {
    "duration": 4,
    "start_time": "2023-01-18T09:55:46.087Z"
   },
   {
    "duration": 8086,
    "start_time": "2023-01-18T09:55:46.093Z"
   },
   {
    "duration": 43,
    "start_time": "2023-01-18T09:55:54.181Z"
   },
   {
    "duration": 19,
    "start_time": "2023-01-18T09:55:54.226Z"
   },
   {
    "duration": 79,
    "start_time": "2023-01-18T09:55:54.247Z"
   },
   {
    "duration": 3,
    "start_time": "2023-01-18T09:55:54.327Z"
   },
   {
    "duration": 139,
    "start_time": "2023-01-18T09:55:54.331Z"
   },
   {
    "duration": 200,
    "start_time": "2023-01-18T09:55:54.472Z"
   },
   {
    "duration": 16348,
    "start_time": "2023-01-18T09:55:54.674Z"
   },
   {
    "duration": 3,
    "start_time": "2023-01-18T09:59:59.509Z"
   },
   {
    "duration": 1382,
    "start_time": "2023-01-18T10:00:08.692Z"
   },
   {
    "duration": 3,
    "start_time": "2023-01-18T10:00:10.076Z"
   },
   {
    "duration": 8558,
    "start_time": "2023-01-18T10:00:10.081Z"
   },
   {
    "duration": 37,
    "start_time": "2023-01-18T10:00:18.642Z"
   },
   {
    "duration": 15,
    "start_time": "2023-01-18T10:00:18.681Z"
   },
   {
    "duration": 93,
    "start_time": "2023-01-18T10:00:18.698Z"
   },
   {
    "duration": 3,
    "start_time": "2023-01-18T10:00:18.792Z"
   },
   {
    "duration": 150,
    "start_time": "2023-01-18T10:00:18.797Z"
   },
   {
    "duration": 209,
    "start_time": "2023-01-18T10:00:18.949Z"
   },
   {
    "duration": 1254,
    "start_time": "2023-01-18T10:00:19.162Z"
   },
   {
    "duration": 65,
    "start_time": "2023-01-18T10:00:20.418Z"
   },
   {
    "duration": 35,
    "start_time": "2023-01-18T10:00:20.485Z"
   },
   {
    "duration": 1149,
    "start_time": "2023-01-18T10:00:20.522Z"
   },
   {
    "duration": 277,
    "start_time": "2023-01-18T10:00:21.673Z"
   },
   {
    "duration": 403,
    "start_time": "2023-01-18T10:00:21.952Z"
   },
   {
    "duration": 3,
    "start_time": "2023-01-18T10:00:22.357Z"
   },
   {
    "duration": 72,
    "start_time": "2023-01-18T10:00:22.361Z"
   },
   {
    "duration": 166,
    "start_time": "2023-01-18T10:00:22.435Z"
   },
   {
    "duration": 108,
    "start_time": "2023-01-18T10:00:22.603Z"
   },
   {
    "duration": 4,
    "start_time": "2023-01-18T10:04:35.937Z"
   },
   {
    "duration": 157,
    "start_time": "2023-01-18T10:06:41.520Z"
   },
   {
    "duration": 157,
    "start_time": "2023-01-18T10:06:52.295Z"
   },
   {
    "duration": 1274,
    "start_time": "2023-01-18T10:10:21.116Z"
   },
   {
    "duration": 4,
    "start_time": "2023-01-18T10:10:22.392Z"
   },
   {
    "duration": 7953,
    "start_time": "2023-01-18T10:10:22.397Z"
   },
   {
    "duration": 42,
    "start_time": "2023-01-18T10:10:30.352Z"
   },
   {
    "duration": 16,
    "start_time": "2023-01-18T10:10:30.395Z"
   },
   {
    "duration": 108,
    "start_time": "2023-01-18T10:10:30.413Z"
   },
   {
    "duration": 3,
    "start_time": "2023-01-18T10:10:30.523Z"
   },
   {
    "duration": 162,
    "start_time": "2023-01-18T10:10:30.527Z"
   },
   {
    "duration": 203,
    "start_time": "2023-01-18T10:10:30.691Z"
   },
   {
    "duration": 1299,
    "start_time": "2023-01-18T10:10:30.896Z"
   },
   {
    "duration": 62,
    "start_time": "2023-01-18T10:10:32.197Z"
   },
   {
    "duration": 35,
    "start_time": "2023-01-18T10:10:32.261Z"
   },
   {
    "duration": 1198,
    "start_time": "2023-01-18T10:10:32.298Z"
   },
   {
    "duration": 284,
    "start_time": "2023-01-18T10:10:33.499Z"
   },
   {
    "duration": 459,
    "start_time": "2023-01-18T10:10:33.785Z"
   },
   {
    "duration": 3,
    "start_time": "2023-01-18T10:10:34.246Z"
   },
   {
    "duration": 66,
    "start_time": "2023-01-18T10:10:34.250Z"
   },
   {
    "duration": 157,
    "start_time": "2023-01-18T10:10:34.318Z"
   },
   {
    "duration": 104,
    "start_time": "2023-01-18T10:10:34.476Z"
   },
   {
    "duration": 1634,
    "start_time": "2023-01-18T13:52:42.739Z"
   },
   {
    "duration": 12,
    "start_time": "2023-01-18T13:52:44.384Z"
   },
   {
    "duration": 11903,
    "start_time": "2023-01-18T13:52:44.398Z"
   },
   {
    "duration": 103,
    "start_time": "2023-01-18T13:52:56.305Z"
   },
   {
    "duration": 16,
    "start_time": "2023-01-18T13:52:56.409Z"
   },
   {
    "duration": 73,
    "start_time": "2023-01-18T13:52:56.427Z"
   },
   {
    "duration": 3,
    "start_time": "2023-01-18T13:52:56.502Z"
   },
   {
    "duration": 137,
    "start_time": "2023-01-18T13:52:56.507Z"
   },
   {
    "duration": 188,
    "start_time": "2023-01-18T13:52:56.646Z"
   },
   {
    "duration": 1360,
    "start_time": "2023-01-18T13:52:56.836Z"
   },
   {
    "duration": 93,
    "start_time": "2023-01-18T13:52:58.200Z"
   },
   {
    "duration": 34,
    "start_time": "2023-01-18T13:52:58.295Z"
   },
   {
    "duration": 1217,
    "start_time": "2023-01-18T13:52:58.331Z"
   },
   {
    "duration": 279,
    "start_time": "2023-01-18T13:52:59.564Z"
   },
   {
    "duration": 473,
    "start_time": "2023-01-18T13:52:59.844Z"
   },
   {
    "duration": 3,
    "start_time": "2023-01-18T13:53:00.318Z"
   },
   {
    "duration": 176,
    "start_time": "2023-01-18T13:53:00.322Z"
   },
   {
    "duration": 209,
    "start_time": "2023-01-18T13:53:00.500Z"
   },
   {
    "duration": 105,
    "start_time": "2023-01-18T13:53:00.711Z"
   }
  ],
  "colab": {
   "name": "AdvansedSQLProjectTemplate.ipynb",
   "provenance": []
  },
  "kernelspec": {
   "display_name": "Python 3 (ipykernel)",
   "language": "python",
   "name": "python3"
  },
  "language_info": {
   "codemirror_mode": {
    "name": "ipython",
    "version": 3
   },
   "file_extension": ".py",
   "mimetype": "text/x-python",
   "name": "python",
   "nbconvert_exporter": "python",
   "pygments_lexer": "ipython3",
   "version": "3.9.5"
  },
  "toc": {
   "base_numbering": 1,
   "nav_menu": {},
   "number_sections": true,
   "sideBar": true,
   "skip_h1_title": true,
   "title_cell": "Table of Contents",
   "title_sidebar": "Contents",
   "toc_cell": false,
   "toc_position": {},
   "toc_section_display": true,
   "toc_window_display": false
  }
 },
 "nbformat": 4,
 "nbformat_minor": 1
}
